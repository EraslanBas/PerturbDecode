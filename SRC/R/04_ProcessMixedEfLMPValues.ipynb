{
 "cells": [
  {
   "cell_type": "code",
   "execution_count": 1,
   "metadata": {
    "collapsed": true,
    "jupyter": {
     "outputs_hidden": true
    }
   },
   "outputs": [
    {
     "name": "stderr",
     "output_type": "stream",
     "text": [
      "corrplot 0.84 loaded\n",
      "\n",
      "\n",
      "********************************************************\n",
      "\n",
      "Note: As of version 1.0.0, cowplot does not change the\n",
      "\n",
      "  default ggplot2 theme anymore. To recover the previous\n",
      "\n",
      "  behavior, execute:\n",
      "  theme_set(theme_cowplot())\n",
      "\n",
      "********************************************************\n",
      "\n",
      "\n",
      "\n",
      "Attaching package: ‘pls’\n",
      "\n",
      "\n",
      "The following object is masked from ‘package:corrplot’:\n",
      "\n",
      "    corrplot\n",
      "\n",
      "\n",
      "The following object is masked from ‘package:stats’:\n",
      "\n",
      "    loadings\n",
      "\n",
      "\n",
      "Loading required package: AnnotationDbi\n",
      "\n",
      "Loading required package: stats4\n",
      "\n",
      "Loading required package: BiocGenerics\n",
      "\n",
      "Loading required package: parallel\n",
      "\n",
      "\n",
      "Attaching package: ‘BiocGenerics’\n",
      "\n",
      "\n",
      "The following objects are masked from ‘package:parallel’:\n",
      "\n",
      "    clusterApply, clusterApplyLB, clusterCall, clusterEvalQ,\n",
      "    clusterExport, clusterMap, parApply, parCapply, parLapply,\n",
      "    parLapplyLB, parRapply, parSapply, parSapplyLB\n",
      "\n",
      "\n",
      "The following objects are masked from ‘package:stats’:\n",
      "\n",
      "    IQR, mad, sd, var, xtabs\n",
      "\n",
      "\n",
      "The following objects are masked from ‘package:base’:\n",
      "\n",
      "    anyDuplicated, append, as.data.frame, basename, cbind, colnames,\n",
      "    dirname, do.call, duplicated, eval, evalq, Filter, Find, get, grep,\n",
      "    grepl, intersect, is.unsorted, lapply, Map, mapply, match, mget,\n",
      "    order, paste, pmax, pmax.int, pmin, pmin.int, Position, rank,\n",
      "    rbind, Reduce, rownames, sapply, setdiff, sort, table, tapply,\n",
      "    union, unique, unsplit, which, which.max, which.min\n",
      "\n",
      "\n",
      "Loading required package: Biobase\n",
      "\n",
      "Welcome to Bioconductor\n",
      "\n",
      "    Vignettes contain introductory material; view with\n",
      "    'browseVignettes()'. To cite Bioconductor, see\n",
      "    'citation(\"Biobase\")', and for packages 'citation(\"pkgname\")'.\n",
      "\n",
      "\n",
      "Loading required package: IRanges\n",
      "\n",
      "Loading required package: S4Vectors\n",
      "\n",
      "\n",
      "Attaching package: ‘S4Vectors’\n",
      "\n",
      "\n",
      "The following object is masked from ‘package:base’:\n",
      "\n",
      "    expand.grid\n",
      "\n",
      "\n",
      "\n",
      "\n",
      "\n",
      "Attaching package: ‘data.table’\n",
      "\n",
      "\n",
      "The following object is masked from ‘package:IRanges’:\n",
      "\n",
      "    shift\n",
      "\n",
      "\n",
      "The following objects are masked from ‘package:S4Vectors’:\n",
      "\n",
      "    first, second\n",
      "\n",
      "\n",
      "\n",
      "Attaching package: ‘reshape2’\n",
      "\n",
      "\n",
      "The following objects are masked from ‘package:data.table’:\n",
      "\n",
      "    dcast, melt\n",
      "\n",
      "\n",
      "Welcome! Want to learn more? See two factoextra-related books at https://goo.gl/ve3WBa\n",
      "\n",
      "Loading required package: cluster\n",
      "\n",
      "Loading required package: rpart\n",
      "\n"
     ]
    }
   ],
   "source": [
    "source(\"Main.R\")\n",
    "source(\"Conf.R\")\n",
    "source(\"Utilities.R\")\n",
    "source(\"DAVID_query.R\")\n",
    "library(\"factoextra\")\n",
    "library(\"maptree\")\n",
    "library(repr)\n"
   ]
  },
  {
   "cell_type": "code",
   "execution_count": 2,
   "metadata": {},
   "outputs": [
    {
     "data": {
      "text/html": [
       "'/home/beraslan/jovian-work/analysisSingle/R'"
      ],
      "text/latex": [
       "'/home/beraslan/jovian-work/analysisSingle/R'"
      ],
      "text/markdown": [
       "'/home/beraslan/jovian-work/analysisSingle/R'"
      ],
      "text/plain": [
       "[1] \"/home/beraslan/jovian-work/analysisSingle/R\""
      ]
     },
     "metadata": {},
     "output_type": "display_data"
    }
   ],
   "source": [
    "getwd()"
   ]
  },
  {
   "cell_type": "code",
   "execution_count": 3,
   "metadata": {},
   "outputs": [],
   "source": [
    "pValsAll <- read.csv(paste0(\"/home/beraslan/jovian-work/analysisSingle/MixedEffectLMOutputs/pvalues_\",0,\"_\",(0+20),\"_MixedEffect.csv\" ))\n",
    "rownames(pValsAll) <- pValsAll$X\n",
    "pValsAll$X <- NULL\n",
    "\n",
    "coefsAll <- read.csv(paste0(\"/home/beraslan/jovian-work/analysisSingle/MixedEffectLMOutputs/coefs_\",0,\"_\",(0+20),\"_MixedEffec.csv\" ))\n",
    "rownames(coefsAll) <- coefsAll$X\n",
    "coefsAll$X <- NULL\n",
    "\n",
    "for(elem in seq(20, 6680, 20)){\n",
    "    pVals <- read.csv(paste0(\"/home/beraslan/jovian-work/analysisSingle/MixedEffectLMOutputs/pvalues_\",elem,\"_\",(elem+20),\"_MixedEffect.csv\" ))\n",
    "    pVals$X <- NULL\n",
    "    pValsAll <- cbind(pValsAll, pVals)\n",
    "\n",
    "    coefs <- read.csv(paste0(\"/home/beraslan/jovian-work/analysisSingle/MixedEffectLMOutputs/coefs_\",elem,\"_\",(elem+20),\"_MixedEffec.csv\" ))\n",
    "    coefs$X <- NULL\n",
    "    coefsAll <- cbind(coefsAll, coefs)\n",
    "}\n",
    "\n",
    "    "
   ]
  },
  {
   "cell_type": "code",
   "execution_count": 4,
   "metadata": {},
   "outputs": [
    {
     "data": {
      "text/html": [
       "<style>\n",
       ".list-inline {list-style: none; margin:0; padding: 0}\n",
       ".list-inline>li {display: inline-block}\n",
       ".list-inline>li:not(:last-child)::after {content: \"\\00b7\"; padding: 0 .5ex}\n",
       "</style>\n",
       "<ol class=list-inline><li>1035</li><li>6685</li></ol>\n"
      ],
      "text/latex": [
       "\\begin{enumerate*}\n",
       "\\item 1035\n",
       "\\item 6685\n",
       "\\end{enumerate*}\n"
      ],
      "text/markdown": [
       "1. 1035\n",
       "2. 6685\n",
       "\n",
       "\n"
      ],
      "text/plain": [
       "[1] 1035 6685"
      ]
     },
     "metadata": {},
     "output_type": "display_data"
    }
   ],
   "source": [
    "dim(coefsAll)"
   ]
  },
  {
   "cell_type": "code",
   "execution_count": 5,
   "metadata": {},
   "outputs": [
    {
     "data": {
      "text/html": [
       "6685"
      ],
      "text/latex": [
       "6685"
      ],
      "text/markdown": [
       "6685"
      ],
      "text/plain": [
       "[1] 6685"
      ]
     },
     "metadata": {},
     "output_type": "display_data"
    }
   ],
   "source": [
    "genes <- read.csv(\"/home/beraslan/jovian-work/analysisSingle/Gene_names.csv\")\n",
    "length(genes$X0)"
   ]
  },
  {
   "cell_type": "code",
   "execution_count": 6,
   "metadata": {},
   "outputs": [],
   "source": [
    "colnames(pValsAll) <- genes$X0\n",
    "colnames(coefsAll) <- genes$X0\n"
   ]
  },
  {
   "cell_type": "code",
   "execution_count": 7,
   "metadata": {},
   "outputs": [
    {
     "data": {
      "text/html": [
       "<style>\n",
       ".list-inline {list-style: none; margin:0; padding: 0}\n",
       ".list-inline>li {display: inline-block}\n",
       ".list-inline>li:not(:last-child)::after {content: \"\\00b7\"; padding: 0 .5ex}\n",
       "</style>\n",
       "<ol class=list-inline><li>1035</li><li>6685</li></ol>\n"
      ],
      "text/latex": [
       "\\begin{enumerate*}\n",
       "\\item 1035\n",
       "\\item 6685\n",
       "\\end{enumerate*}\n"
      ],
      "text/markdown": [
       "1. 1035\n",
       "2. 6685\n",
       "\n",
       "\n"
      ],
      "text/plain": [
       "[1] 1035 6685"
      ]
     },
     "metadata": {},
     "output_type": "display_data"
    }
   ],
   "source": [
    "dim(pValsAll)"
   ]
  },
  {
   "cell_type": "code",
   "execution_count": 8,
   "metadata": {},
   "outputs": [
    {
     "data": {
      "text/html": [
       "<table>\n",
       "<caption>A data.frame: 6 × 6685</caption>\n",
       "<thead>\n",
       "\t<tr><th></th><th scope=col>Mrpl15</th><th scope=col>Lypla1</th><th scope=col>Tcea1</th><th scope=col>Atp6v1h</th><th scope=col>Rb1cc1</th><th scope=col>Pcmtd1</th><th scope=col>Rrs1</th><th scope=col>Vcpip1</th><th scope=col>Sgk3</th><th scope=col>Snhg6</th><th scope=col>⋯</th><th scope=col>Cacul1</th><th scope=col>Eif3a</th><th scope=col>Fam45a</th><th scope=col>Prdx3</th><th scope=col>Grk5</th><th scope=col>Zfp950</th><th scope=col>Csf2ra</th><th scope=col>Vamp7</th><th scope=col>AC149090.1</th><th scope=col>CAAA01118383.1</th></tr>\n",
       "\t<tr><th></th><th scope=col>&lt;dbl&gt;</th><th scope=col>&lt;dbl&gt;</th><th scope=col>&lt;dbl&gt;</th><th scope=col>&lt;dbl&gt;</th><th scope=col>&lt;dbl&gt;</th><th scope=col>&lt;dbl&gt;</th><th scope=col>&lt;dbl&gt;</th><th scope=col>&lt;dbl&gt;</th><th scope=col>&lt;dbl&gt;</th><th scope=col>&lt;dbl&gt;</th><th scope=col>⋯</th><th scope=col>&lt;dbl&gt;</th><th scope=col>&lt;dbl&gt;</th><th scope=col>&lt;dbl&gt;</th><th scope=col>&lt;dbl&gt;</th><th scope=col>&lt;dbl&gt;</th><th scope=col>&lt;dbl&gt;</th><th scope=col>&lt;dbl&gt;</th><th scope=col>&lt;dbl&gt;</th><th scope=col>&lt;dbl&gt;</th><th scope=col>&lt;dbl&gt;</th></tr>\n",
       "</thead>\n",
       "<tbody>\n",
       "\t<tr><th scope=row>Intercept</th><td>0.000</td><td>0.000</td><td>0.000</td><td>0.000</td><td>0.000</td><td>0.000</td><td>0.000</td><td>0.329</td><td>0.000</td><td>0.000</td><td>⋯</td><td>0.000</td><td>0.000</td><td>0.000</td><td>0.000</td><td>0.000</td><td>0.000</td><td>0.000</td><td>0.000</td><td>0.000</td><td>0.000</td></tr>\n",
       "\t<tr><th scope=row>GENE_4921501E09Rik_</th><td>0.017</td><td>0.393</td><td>0.272</td><td>0.046</td><td>0.832</td><td>0.604</td><td>0.077</td><td>0.961</td><td>0.932</td><td>0.000</td><td>⋯</td><td>0.050</td><td>0.361</td><td>0.212</td><td>0.281</td><td>0.981</td><td>0.486</td><td>0.375</td><td>0.998</td><td>0.952</td><td>0.188</td></tr>\n",
       "\t<tr><th scope=row>GENE_4930595M18Rik_</th><td>0.859</td><td>0.039</td><td>0.953</td><td>0.927</td><td>0.906</td><td>0.476</td><td>0.393</td><td>0.470</td><td>0.707</td><td>0.993</td><td>⋯</td><td>0.078</td><td>0.244</td><td>0.859</td><td>0.652</td><td>0.769</td><td>0.401</td><td>0.529</td><td>0.906</td><td>0.179</td><td>0.181</td></tr>\n",
       "\t<tr><th scope=row>GENE_8030462N17Rik_</th><td>0.307</td><td>0.586</td><td>0.154</td><td>0.441</td><td>0.288</td><td>0.807</td><td>0.590</td><td>0.042</td><td>0.760</td><td>0.432</td><td>⋯</td><td>0.156</td><td>0.876</td><td>0.309</td><td>0.437</td><td>0.669</td><td>0.099</td><td>0.087</td><td>0.242</td><td>0.313</td><td>0.939</td></tr>\n",
       "\t<tr><th scope=row>GENE_Aamp_</th><td>0.452</td><td>0.572</td><td>0.727</td><td>0.273</td><td>0.693</td><td>0.750</td><td>0.970</td><td>0.073</td><td>0.692</td><td>0.283</td><td>⋯</td><td>0.926</td><td>0.657</td><td>0.674</td><td>0.109</td><td>0.353</td><td>0.476</td><td>0.931</td><td>0.699</td><td>0.193</td><td>0.173</td></tr>\n",
       "\t<tr><th scope=row>GENE_Abtb1_</th><td>0.959</td><td>0.005</td><td>0.040</td><td>0.540</td><td>0.955</td><td>0.037</td><td>0.104</td><td>0.674</td><td>0.100</td><td>0.717</td><td>⋯</td><td>0.789</td><td>0.144</td><td>0.329</td><td>0.665</td><td>0.402</td><td>0.745</td><td>0.099</td><td>0.034</td><td>0.641</td><td>0.796</td></tr>\n",
       "</tbody>\n",
       "</table>\n"
      ],
      "text/latex": [
       "A data.frame: 6 × 6685\n",
       "\\begin{tabular}{r|lllllllllllllllllllll}\n",
       "  & Mrpl15 & Lypla1 & Tcea1 & Atp6v1h & Rb1cc1 & Pcmtd1 & Rrs1 & Vcpip1 & Sgk3 & Snhg6 & ⋯ & Cacul1 & Eif3a & Fam45a & Prdx3 & Grk5 & Zfp950 & Csf2ra & Vamp7 & AC149090.1 & CAAA01118383.1\\\\\n",
       "  & <dbl> & <dbl> & <dbl> & <dbl> & <dbl> & <dbl> & <dbl> & <dbl> & <dbl> & <dbl> & ⋯ & <dbl> & <dbl> & <dbl> & <dbl> & <dbl> & <dbl> & <dbl> & <dbl> & <dbl> & <dbl>\\\\\n",
       "\\hline\n",
       "\tIntercept & 0.000 & 0.000 & 0.000 & 0.000 & 0.000 & 0.000 & 0.000 & 0.329 & 0.000 & 0.000 & ⋯ & 0.000 & 0.000 & 0.000 & 0.000 & 0.000 & 0.000 & 0.000 & 0.000 & 0.000 & 0.000\\\\\n",
       "\tGENE\\_4921501E09Rik\\_ & 0.017 & 0.393 & 0.272 & 0.046 & 0.832 & 0.604 & 0.077 & 0.961 & 0.932 & 0.000 & ⋯ & 0.050 & 0.361 & 0.212 & 0.281 & 0.981 & 0.486 & 0.375 & 0.998 & 0.952 & 0.188\\\\\n",
       "\tGENE\\_4930595M18Rik\\_ & 0.859 & 0.039 & 0.953 & 0.927 & 0.906 & 0.476 & 0.393 & 0.470 & 0.707 & 0.993 & ⋯ & 0.078 & 0.244 & 0.859 & 0.652 & 0.769 & 0.401 & 0.529 & 0.906 & 0.179 & 0.181\\\\\n",
       "\tGENE\\_8030462N17Rik\\_ & 0.307 & 0.586 & 0.154 & 0.441 & 0.288 & 0.807 & 0.590 & 0.042 & 0.760 & 0.432 & ⋯ & 0.156 & 0.876 & 0.309 & 0.437 & 0.669 & 0.099 & 0.087 & 0.242 & 0.313 & 0.939\\\\\n",
       "\tGENE\\_Aamp\\_ & 0.452 & 0.572 & 0.727 & 0.273 & 0.693 & 0.750 & 0.970 & 0.073 & 0.692 & 0.283 & ⋯ & 0.926 & 0.657 & 0.674 & 0.109 & 0.353 & 0.476 & 0.931 & 0.699 & 0.193 & 0.173\\\\\n",
       "\tGENE\\_Abtb1\\_ & 0.959 & 0.005 & 0.040 & 0.540 & 0.955 & 0.037 & 0.104 & 0.674 & 0.100 & 0.717 & ⋯ & 0.789 & 0.144 & 0.329 & 0.665 & 0.402 & 0.745 & 0.099 & 0.034 & 0.641 & 0.796\\\\\n",
       "\\end{tabular}\n"
      ],
      "text/markdown": [
       "\n",
       "A data.frame: 6 × 6685\n",
       "\n",
       "| <!--/--> | Mrpl15 &lt;dbl&gt; | Lypla1 &lt;dbl&gt; | Tcea1 &lt;dbl&gt; | Atp6v1h &lt;dbl&gt; | Rb1cc1 &lt;dbl&gt; | Pcmtd1 &lt;dbl&gt; | Rrs1 &lt;dbl&gt; | Vcpip1 &lt;dbl&gt; | Sgk3 &lt;dbl&gt; | Snhg6 &lt;dbl&gt; | ⋯ ⋯ | Cacul1 &lt;dbl&gt; | Eif3a &lt;dbl&gt; | Fam45a &lt;dbl&gt; | Prdx3 &lt;dbl&gt; | Grk5 &lt;dbl&gt; | Zfp950 &lt;dbl&gt; | Csf2ra &lt;dbl&gt; | Vamp7 &lt;dbl&gt; | AC149090.1 &lt;dbl&gt; | CAAA01118383.1 &lt;dbl&gt; |\n",
       "|---|---|---|---|---|---|---|---|---|---|---|---|---|---|---|---|---|---|---|---|---|---|\n",
       "| Intercept | 0.000 | 0.000 | 0.000 | 0.000 | 0.000 | 0.000 | 0.000 | 0.329 | 0.000 | 0.000 | ⋯ | 0.000 | 0.000 | 0.000 | 0.000 | 0.000 | 0.000 | 0.000 | 0.000 | 0.000 | 0.000 |\n",
       "| GENE_4921501E09Rik_ | 0.017 | 0.393 | 0.272 | 0.046 | 0.832 | 0.604 | 0.077 | 0.961 | 0.932 | 0.000 | ⋯ | 0.050 | 0.361 | 0.212 | 0.281 | 0.981 | 0.486 | 0.375 | 0.998 | 0.952 | 0.188 |\n",
       "| GENE_4930595M18Rik_ | 0.859 | 0.039 | 0.953 | 0.927 | 0.906 | 0.476 | 0.393 | 0.470 | 0.707 | 0.993 | ⋯ | 0.078 | 0.244 | 0.859 | 0.652 | 0.769 | 0.401 | 0.529 | 0.906 | 0.179 | 0.181 |\n",
       "| GENE_8030462N17Rik_ | 0.307 | 0.586 | 0.154 | 0.441 | 0.288 | 0.807 | 0.590 | 0.042 | 0.760 | 0.432 | ⋯ | 0.156 | 0.876 | 0.309 | 0.437 | 0.669 | 0.099 | 0.087 | 0.242 | 0.313 | 0.939 |\n",
       "| GENE_Aamp_ | 0.452 | 0.572 | 0.727 | 0.273 | 0.693 | 0.750 | 0.970 | 0.073 | 0.692 | 0.283 | ⋯ | 0.926 | 0.657 | 0.674 | 0.109 | 0.353 | 0.476 | 0.931 | 0.699 | 0.193 | 0.173 |\n",
       "| GENE_Abtb1_ | 0.959 | 0.005 | 0.040 | 0.540 | 0.955 | 0.037 | 0.104 | 0.674 | 0.100 | 0.717 | ⋯ | 0.789 | 0.144 | 0.329 | 0.665 | 0.402 | 0.745 | 0.099 | 0.034 | 0.641 | 0.796 |\n",
       "\n"
      ],
      "text/plain": [
       "                    Mrpl15 Lypla1 Tcea1 Atp6v1h Rb1cc1 Pcmtd1 Rrs1  Vcpip1\n",
       "Intercept           0.000  0.000  0.000 0.000   0.000  0.000  0.000 0.329 \n",
       "GENE_4921501E09Rik_ 0.017  0.393  0.272 0.046   0.832  0.604  0.077 0.961 \n",
       "GENE_4930595M18Rik_ 0.859  0.039  0.953 0.927   0.906  0.476  0.393 0.470 \n",
       "GENE_8030462N17Rik_ 0.307  0.586  0.154 0.441   0.288  0.807  0.590 0.042 \n",
       "GENE_Aamp_          0.452  0.572  0.727 0.273   0.693  0.750  0.970 0.073 \n",
       "GENE_Abtb1_         0.959  0.005  0.040 0.540   0.955  0.037  0.104 0.674 \n",
       "                    Sgk3  Snhg6 ⋯ Cacul1 Eif3a Fam45a Prdx3 Grk5  Zfp950 Csf2ra\n",
       "Intercept           0.000 0.000 ⋯ 0.000  0.000 0.000  0.000 0.000 0.000  0.000 \n",
       "GENE_4921501E09Rik_ 0.932 0.000 ⋯ 0.050  0.361 0.212  0.281 0.981 0.486  0.375 \n",
       "GENE_4930595M18Rik_ 0.707 0.993 ⋯ 0.078  0.244 0.859  0.652 0.769 0.401  0.529 \n",
       "GENE_8030462N17Rik_ 0.760 0.432 ⋯ 0.156  0.876 0.309  0.437 0.669 0.099  0.087 \n",
       "GENE_Aamp_          0.692 0.283 ⋯ 0.926  0.657 0.674  0.109 0.353 0.476  0.931 \n",
       "GENE_Abtb1_         0.100 0.717 ⋯ 0.789  0.144 0.329  0.665 0.402 0.745  0.099 \n",
       "                    Vamp7 AC149090.1 CAAA01118383.1\n",
       "Intercept           0.000 0.000      0.000         \n",
       "GENE_4921501E09Rik_ 0.998 0.952      0.188         \n",
       "GENE_4930595M18Rik_ 0.906 0.179      0.181         \n",
       "GENE_8030462N17Rik_ 0.242 0.313      0.939         \n",
       "GENE_Aamp_          0.699 0.193      0.173         \n",
       "GENE_Abtb1_         0.034 0.641      0.796         "
      ]
     },
     "metadata": {},
     "output_type": "display_data"
    }
   ],
   "source": [
    "head(pValsAll)"
   ]
  },
  {
   "cell_type": "code",
   "execution_count": 9,
   "metadata": {},
   "outputs": [
    {
     "data": {
      "text/html": [
       "<table>\n",
       "<caption>A data.frame: 6 × 6685</caption>\n",
       "<thead>\n",
       "\t<tr><th></th><th scope=col>Mrpl15</th><th scope=col>Lypla1</th><th scope=col>Tcea1</th><th scope=col>Atp6v1h</th><th scope=col>Rb1cc1</th><th scope=col>Pcmtd1</th><th scope=col>Rrs1</th><th scope=col>Vcpip1</th><th scope=col>Sgk3</th><th scope=col>Snhg6</th><th scope=col>⋯</th><th scope=col>Cacul1</th><th scope=col>Eif3a</th><th scope=col>Fam45a</th><th scope=col>Prdx3</th><th scope=col>Grk5</th><th scope=col>Zfp950</th><th scope=col>Csf2ra</th><th scope=col>Vamp7</th><th scope=col>AC149090.1</th><th scope=col>CAAA01118383.1</th></tr>\n",
       "\t<tr><th></th><th scope=col>&lt;dbl&gt;</th><th scope=col>&lt;dbl&gt;</th><th scope=col>&lt;dbl&gt;</th><th scope=col>&lt;dbl&gt;</th><th scope=col>&lt;dbl&gt;</th><th scope=col>&lt;dbl&gt;</th><th scope=col>&lt;dbl&gt;</th><th scope=col>&lt;dbl&gt;</th><th scope=col>&lt;dbl&gt;</th><th scope=col>&lt;dbl&gt;</th><th scope=col>⋯</th><th scope=col>&lt;dbl&gt;</th><th scope=col>&lt;dbl&gt;</th><th scope=col>&lt;dbl&gt;</th><th scope=col>&lt;dbl&gt;</th><th scope=col>&lt;dbl&gt;</th><th scope=col>&lt;dbl&gt;</th><th scope=col>&lt;dbl&gt;</th><th scope=col>&lt;dbl&gt;</th><th scope=col>&lt;dbl&gt;</th><th scope=col>&lt;dbl&gt;</th></tr>\n",
       "</thead>\n",
       "<tbody>\n",
       "\t<tr><th scope=row>Intercept</th><td>-0.280</td><td>-0.415</td><td>-0.222</td><td>-0.374</td><td>-0.270</td><td>-0.291</td><td>-0.411</td><td>-0.294</td><td>-0.281</td><td>-0.324</td><td>⋯</td><td>-0.381</td><td>-0.471</td><td>-0.292</td><td>-0.486</td><td>-0.203</td><td>-0.236</td><td>-0.692</td><td>-0.260</td><td>-0.424</td><td>-0.186</td></tr>\n",
       "\t<tr><th scope=row>GENE_4921501E09Rik_</th><td> 0.140</td><td> 0.050</td><td> 0.064</td><td> 0.116</td><td>-0.012</td><td> 0.030</td><td>-0.103</td><td>-0.003</td><td> 0.005</td><td> 0.217</td><td>⋯</td><td>-0.114</td><td> 0.052</td><td> 0.073</td><td>-0.063</td><td>-0.001</td><td> 0.041</td><td> 0.051</td><td> 0.000</td><td> 0.003</td><td>-0.077</td></tr>\n",
       "\t<tr><th scope=row>GENE_4930595M18Rik_</th><td> 0.009</td><td> 0.099</td><td> 0.003</td><td>-0.004</td><td> 0.006</td><td> 0.034</td><td> 0.041</td><td>-0.035</td><td>-0.018</td><td> 0.000</td><td>⋯</td><td> 0.085</td><td> 0.054</td><td>-0.009</td><td>-0.022</td><td> 0.014</td><td>-0.041</td><td>-0.030</td><td>-0.006</td><td> 0.064</td><td> 0.065</td></tr>\n",
       "\t<tr><th scope=row>GENE_8030462N17Rik_</th><td>-0.126</td><td>-0.066</td><td>-0.174</td><td>-0.094</td><td> 0.129</td><td>-0.030</td><td> 0.066</td><td>-0.247</td><td>-0.038</td><td> 0.097</td><td>⋯</td><td>-0.173</td><td>-0.018</td><td> 0.125</td><td>-0.096</td><td> 0.052</td><td>-0.203</td><td>-0.205</td><td> 0.144</td><td>-0.122</td><td> 0.009</td></tr>\n",
       "\t<tr><th scope=row>GENE_Aamp_</th><td> 0.084</td><td> 0.062</td><td> 0.038</td><td> 0.121</td><td> 0.043</td><td>-0.035</td><td> 0.004</td><td> 0.197</td><td>-0.044</td><td>-0.119</td><td>⋯</td><td>-0.010</td><td> 0.047</td><td>-0.047</td><td>-0.179</td><td>-0.101</td><td>-0.079</td><td>-0.009</td><td>-0.043</td><td>-0.142</td><td>-0.151</td></tr>\n",
       "\t<tr><th scope=row>GENE_Abtb1_</th><td> 0.004</td><td> 0.199</td><td>-0.143</td><td>-0.043</td><td> 0.004</td><td> 0.145</td><td>-0.114</td><td>-0.029</td><td> 0.116</td><td>-0.026</td><td>⋯</td><td> 0.019</td><td>-0.099</td><td>-0.069</td><td>-0.031</td><td> 0.058</td><td> 0.023</td><td>-0.113</td><td> 0.150</td><td>-0.032</td><td> 0.018</td></tr>\n",
       "</tbody>\n",
       "</table>\n"
      ],
      "text/latex": [
       "A data.frame: 6 × 6685\n",
       "\\begin{tabular}{r|lllllllllllllllllllll}\n",
       "  & Mrpl15 & Lypla1 & Tcea1 & Atp6v1h & Rb1cc1 & Pcmtd1 & Rrs1 & Vcpip1 & Sgk3 & Snhg6 & ⋯ & Cacul1 & Eif3a & Fam45a & Prdx3 & Grk5 & Zfp950 & Csf2ra & Vamp7 & AC149090.1 & CAAA01118383.1\\\\\n",
       "  & <dbl> & <dbl> & <dbl> & <dbl> & <dbl> & <dbl> & <dbl> & <dbl> & <dbl> & <dbl> & ⋯ & <dbl> & <dbl> & <dbl> & <dbl> & <dbl> & <dbl> & <dbl> & <dbl> & <dbl> & <dbl>\\\\\n",
       "\\hline\n",
       "\tIntercept & -0.280 & -0.415 & -0.222 & -0.374 & -0.270 & -0.291 & -0.411 & -0.294 & -0.281 & -0.324 & ⋯ & -0.381 & -0.471 & -0.292 & -0.486 & -0.203 & -0.236 & -0.692 & -0.260 & -0.424 & -0.186\\\\\n",
       "\tGENE\\_4921501E09Rik\\_ &  0.140 &  0.050 &  0.064 &  0.116 & -0.012 &  0.030 & -0.103 & -0.003 &  0.005 &  0.217 & ⋯ & -0.114 &  0.052 &  0.073 & -0.063 & -0.001 &  0.041 &  0.051 &  0.000 &  0.003 & -0.077\\\\\n",
       "\tGENE\\_4930595M18Rik\\_ &  0.009 &  0.099 &  0.003 & -0.004 &  0.006 &  0.034 &  0.041 & -0.035 & -0.018 &  0.000 & ⋯ &  0.085 &  0.054 & -0.009 & -0.022 &  0.014 & -0.041 & -0.030 & -0.006 &  0.064 &  0.065\\\\\n",
       "\tGENE\\_8030462N17Rik\\_ & -0.126 & -0.066 & -0.174 & -0.094 &  0.129 & -0.030 &  0.066 & -0.247 & -0.038 &  0.097 & ⋯ & -0.173 & -0.018 &  0.125 & -0.096 &  0.052 & -0.203 & -0.205 &  0.144 & -0.122 &  0.009\\\\\n",
       "\tGENE\\_Aamp\\_ &  0.084 &  0.062 &  0.038 &  0.121 &  0.043 & -0.035 &  0.004 &  0.197 & -0.044 & -0.119 & ⋯ & -0.010 &  0.047 & -0.047 & -0.179 & -0.101 & -0.079 & -0.009 & -0.043 & -0.142 & -0.151\\\\\n",
       "\tGENE\\_Abtb1\\_ &  0.004 &  0.199 & -0.143 & -0.043 &  0.004 &  0.145 & -0.114 & -0.029 &  0.116 & -0.026 & ⋯ &  0.019 & -0.099 & -0.069 & -0.031 &  0.058 &  0.023 & -0.113 &  0.150 & -0.032 &  0.018\\\\\n",
       "\\end{tabular}\n"
      ],
      "text/markdown": [
       "\n",
       "A data.frame: 6 × 6685\n",
       "\n",
       "| <!--/--> | Mrpl15 &lt;dbl&gt; | Lypla1 &lt;dbl&gt; | Tcea1 &lt;dbl&gt; | Atp6v1h &lt;dbl&gt; | Rb1cc1 &lt;dbl&gt; | Pcmtd1 &lt;dbl&gt; | Rrs1 &lt;dbl&gt; | Vcpip1 &lt;dbl&gt; | Sgk3 &lt;dbl&gt; | Snhg6 &lt;dbl&gt; | ⋯ ⋯ | Cacul1 &lt;dbl&gt; | Eif3a &lt;dbl&gt; | Fam45a &lt;dbl&gt; | Prdx3 &lt;dbl&gt; | Grk5 &lt;dbl&gt; | Zfp950 &lt;dbl&gt; | Csf2ra &lt;dbl&gt; | Vamp7 &lt;dbl&gt; | AC149090.1 &lt;dbl&gt; | CAAA01118383.1 &lt;dbl&gt; |\n",
       "|---|---|---|---|---|---|---|---|---|---|---|---|---|---|---|---|---|---|---|---|---|---|\n",
       "| Intercept | -0.280 | -0.415 | -0.222 | -0.374 | -0.270 | -0.291 | -0.411 | -0.294 | -0.281 | -0.324 | ⋯ | -0.381 | -0.471 | -0.292 | -0.486 | -0.203 | -0.236 | -0.692 | -0.260 | -0.424 | -0.186 |\n",
       "| GENE_4921501E09Rik_ |  0.140 |  0.050 |  0.064 |  0.116 | -0.012 |  0.030 | -0.103 | -0.003 |  0.005 |  0.217 | ⋯ | -0.114 |  0.052 |  0.073 | -0.063 | -0.001 |  0.041 |  0.051 |  0.000 |  0.003 | -0.077 |\n",
       "| GENE_4930595M18Rik_ |  0.009 |  0.099 |  0.003 | -0.004 |  0.006 |  0.034 |  0.041 | -0.035 | -0.018 |  0.000 | ⋯ |  0.085 |  0.054 | -0.009 | -0.022 |  0.014 | -0.041 | -0.030 | -0.006 |  0.064 |  0.065 |\n",
       "| GENE_8030462N17Rik_ | -0.126 | -0.066 | -0.174 | -0.094 |  0.129 | -0.030 |  0.066 | -0.247 | -0.038 |  0.097 | ⋯ | -0.173 | -0.018 |  0.125 | -0.096 |  0.052 | -0.203 | -0.205 |  0.144 | -0.122 |  0.009 |\n",
       "| GENE_Aamp_ |  0.084 |  0.062 |  0.038 |  0.121 |  0.043 | -0.035 |  0.004 |  0.197 | -0.044 | -0.119 | ⋯ | -0.010 |  0.047 | -0.047 | -0.179 | -0.101 | -0.079 | -0.009 | -0.043 | -0.142 | -0.151 |\n",
       "| GENE_Abtb1_ |  0.004 |  0.199 | -0.143 | -0.043 |  0.004 |  0.145 | -0.114 | -0.029 |  0.116 | -0.026 | ⋯ |  0.019 | -0.099 | -0.069 | -0.031 |  0.058 |  0.023 | -0.113 |  0.150 | -0.032 |  0.018 |\n",
       "\n"
      ],
      "text/plain": [
       "                    Mrpl15 Lypla1 Tcea1  Atp6v1h Rb1cc1 Pcmtd1 Rrs1   Vcpip1\n",
       "Intercept           -0.280 -0.415 -0.222 -0.374  -0.270 -0.291 -0.411 -0.294\n",
       "GENE_4921501E09Rik_  0.140  0.050  0.064  0.116  -0.012  0.030 -0.103 -0.003\n",
       "GENE_4930595M18Rik_  0.009  0.099  0.003 -0.004   0.006  0.034  0.041 -0.035\n",
       "GENE_8030462N17Rik_ -0.126 -0.066 -0.174 -0.094   0.129 -0.030  0.066 -0.247\n",
       "GENE_Aamp_           0.084  0.062  0.038  0.121   0.043 -0.035  0.004  0.197\n",
       "GENE_Abtb1_          0.004  0.199 -0.143 -0.043   0.004  0.145 -0.114 -0.029\n",
       "                    Sgk3   Snhg6  ⋯ Cacul1 Eif3a  Fam45a Prdx3  Grk5   Zfp950\n",
       "Intercept           -0.281 -0.324 ⋯ -0.381 -0.471 -0.292 -0.486 -0.203 -0.236\n",
       "GENE_4921501E09Rik_  0.005  0.217 ⋯ -0.114  0.052  0.073 -0.063 -0.001  0.041\n",
       "GENE_4930595M18Rik_ -0.018  0.000 ⋯  0.085  0.054 -0.009 -0.022  0.014 -0.041\n",
       "GENE_8030462N17Rik_ -0.038  0.097 ⋯ -0.173 -0.018  0.125 -0.096  0.052 -0.203\n",
       "GENE_Aamp_          -0.044 -0.119 ⋯ -0.010  0.047 -0.047 -0.179 -0.101 -0.079\n",
       "GENE_Abtb1_          0.116 -0.026 ⋯  0.019 -0.099 -0.069 -0.031  0.058  0.023\n",
       "                    Csf2ra Vamp7  AC149090.1 CAAA01118383.1\n",
       "Intercept           -0.692 -0.260 -0.424     -0.186        \n",
       "GENE_4921501E09Rik_  0.051  0.000  0.003     -0.077        \n",
       "GENE_4930595M18Rik_ -0.030 -0.006  0.064      0.065        \n",
       "GENE_8030462N17Rik_ -0.205  0.144 -0.122      0.009        \n",
       "GENE_Aamp_          -0.009 -0.043 -0.142     -0.151        \n",
       "GENE_Abtb1_         -0.113  0.150 -0.032      0.018        "
      ]
     },
     "metadata": {},
     "output_type": "display_data"
    }
   ],
   "source": [
    "head(coefsAll)"
   ]
  },
  {
   "cell_type": "code",
   "execution_count": 10,
   "metadata": {},
   "outputs": [],
   "source": [
    "write.csv(coefsAll, \"/home/beraslan/jovian-work/analysisSingle/MixedEffectLMOutputs/ME_LMBetaCoefsALL.csv\", quote=FALSE)\n",
    "write.csv(pValsAll, \"/home/beraslan/jovian-work/analysisSingle/MixedEffectLMOutputs/ME_LMPValuesALL.csv\", quote=FALSE)"
   ]
  },
  {
   "cell_type": "code",
   "execution_count": null,
   "metadata": {},
   "outputs": [],
   "source": []
  }
 ],
 "metadata": {
  "kernelspec": {
   "display_name": "R",
   "language": "R",
   "name": "ir"
  },
  "language_info": {
   "codemirror_mode": "r",
   "file_extension": ".r",
   "mimetype": "text/x-r-source",
   "name": "R",
   "pygments_lexer": "r",
   "version": "3.6.3"
  }
 },
 "nbformat": 4,
 "nbformat_minor": 4
}
