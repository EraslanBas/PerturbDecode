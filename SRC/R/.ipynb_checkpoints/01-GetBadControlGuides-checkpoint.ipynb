{
 "cells": [
  {
   "cell_type": "code",
   "execution_count": 2,
   "metadata": {
    "tags": []
   },
   "outputs": [
    {
     "ename": "ERROR",
     "evalue": "Error in library(\"reshape2\"): there is no package called ‘reshape2’\n",
     "output_type": "error",
     "traceback": [
      "Error in library(\"reshape2\"): there is no package called ‘reshape2’\nTraceback:\n",
      "1. source(\"Main.R\")",
      "2. withVisible(eval(ei, envir))",
      "3. eval(ei, envir)",
      "4. eval(ei, envir)",
      "5. library(\"reshape2\")"
     ]
    }
   ],
   "source": [
    "source(\"Main.R\")\n",
    "source(\"Conf.R\")\n",
    "source(\"Utilities.R\")\n",
    "source(\"DAVID_query.R\")\n",
    "library(\"factoextra\")\n",
    "library(\"maptree\")\n"
   ]
  },
  {
   "cell_type": "code",
   "execution_count": 3,
   "metadata": {},
   "outputs": [],
   "source": [
    "weights = as.data.frame(read.csv(\"/home/beraslan/jovian-work/analysis_comb/GuideBetas_ClustersRegressed.csv\",\n",
    "                                 stringsAsFactors = F, strip.white = T, header = TRUE))\n"
   ]
  },
  {
   "cell_type": "code",
   "execution_count": 4,
   "metadata": {},
   "outputs": [
    {
     "data": {
      "text/html": [
       "<table>\n",
       "<caption>A data.frame: 6 × 928</caption>\n",
       "<thead>\n",
       "\t<tr><th></th><th scope=col>X</th><th scope=col>X0</th><th scope=col>X1</th><th scope=col>X2</th><th scope=col>X3</th><th scope=col>X4</th><th scope=col>X5</th><th scope=col>X6</th><th scope=col>X7</th><th scope=col>X8</th><th scope=col>⋯</th><th scope=col>X917</th><th scope=col>X918</th><th scope=col>X919</th><th scope=col>X920</th><th scope=col>X921</th><th scope=col>X922</th><th scope=col>X923</th><th scope=col>X924</th><th scope=col>X925</th><th scope=col>X926</th></tr>\n",
       "\t<tr><th></th><th scope=col>&lt;int&gt;</th><th scope=col>&lt;dbl&gt;</th><th scope=col>&lt;dbl&gt;</th><th scope=col>&lt;dbl&gt;</th><th scope=col>&lt;dbl&gt;</th><th scope=col>&lt;dbl&gt;</th><th scope=col>&lt;dbl&gt;</th><th scope=col>&lt;dbl&gt;</th><th scope=col>&lt;dbl&gt;</th><th scope=col>&lt;dbl&gt;</th><th scope=col>⋯</th><th scope=col>&lt;dbl&gt;</th><th scope=col>&lt;dbl&gt;</th><th scope=col>&lt;dbl&gt;</th><th scope=col>&lt;dbl&gt;</th><th scope=col>&lt;dbl&gt;</th><th scope=col>&lt;dbl&gt;</th><th scope=col>&lt;dbl&gt;</th><th scope=col>&lt;dbl&gt;</th><th scope=col>&lt;dbl&gt;</th><th scope=col>&lt;dbl&gt;</th></tr>\n",
       "</thead>\n",
       "<tbody>\n",
       "\t<tr><th scope=row>1</th><td>0</td><td>0.55147626</td><td> 0.05251846</td><td>-0.004791516</td><td> 0.43624722</td><td> 0.393663489</td><td> 0.45428335</td><td> 0.30502437</td><td>-0.01664862</td><td> 0.327413213</td><td>⋯</td><td> 0.23989845</td><td> 0.3379273</td><td> 0.38182867</td><td> 0.223638080</td><td> 0.17863553</td><td> 0.23748206</td><td> 0.307224364</td><td> 0.33080620</td><td> 0.30092031</td><td> 0.367503513</td></tr>\n",
       "\t<tr><th scope=row>2</th><td>1</td><td>0.10765019</td><td>-0.10063564</td><td>-0.173022801</td><td> 0.11562529</td><td>-0.319528547</td><td> 0.04391272</td><td> 0.05341042</td><td>-0.34577017</td><td> 0.003882467</td><td>⋯</td><td>-0.05173187</td><td>-0.1422326</td><td>-0.08994372</td><td> 0.108325115</td><td>-0.19054938</td><td>-0.42076546</td><td>-0.066171209</td><td>-0.30052961</td><td>-0.19549700</td><td> 0.033262993</td></tr>\n",
       "\t<tr><th scope=row>3</th><td>2</td><td>0.07809582</td><td>-0.08190916</td><td>-0.081398300</td><td> 0.13095611</td><td> 0.002069046</td><td> 0.12945858</td><td>-0.07240314</td><td> 0.11843815</td><td> 0.032683127</td><td>⋯</td><td>-0.33244357</td><td> 0.2411057</td><td>-0.02255175</td><td>-0.087386833</td><td> 0.07435656</td><td>-0.17814904</td><td>-0.001113755</td><td>-0.26845181</td><td>-0.11851328</td><td>-0.129481231</td></tr>\n",
       "\t<tr><th scope=row>4</th><td>3</td><td>0.03732436</td><td> 0.33697828</td><td> 0.435528586</td><td> 0.31930133</td><td> 0.362905312</td><td> 0.20714521</td><td> 0.20063151</td><td> 0.29177229</td><td> 0.609459327</td><td>⋯</td><td> 0.48307777</td><td> 0.4978587</td><td> 0.53215584</td><td> 0.501080271</td><td> 0.28584270</td><td> 0.49488062</td><td> 0.311575727</td><td> 0.61590842</td><td> 0.44522431</td><td> 0.511984421</td></tr>\n",
       "\t<tr><th scope=row>5</th><td>4</td><td>0.00725825</td><td> 0.11602094</td><td> 0.067979461</td><td> 0.08927534</td><td>-0.035797937</td><td>-0.04556956</td><td>-0.25951938</td><td> 0.15322737</td><td>-0.115116117</td><td>⋯</td><td> 0.30880230</td><td>-0.1366139</td><td>-0.15468162</td><td> 0.147779453</td><td>-0.02382695</td><td> 0.08656798</td><td>-0.053332017</td><td>-0.02374157</td><td> 0.18717106</td><td>-0.086861312</td></tr>\n",
       "\t<tr><th scope=row>6</th><td>5</td><td>0.38619806</td><td>-0.08656627</td><td> 0.134800040</td><td>-0.07133257</td><td>-0.185163053</td><td> 0.06432900</td><td>-0.16339329</td><td>-0.20211424</td><td> 0.219212824</td><td>⋯</td><td>-0.17131127</td><td>-0.1483191</td><td> 0.20759681</td><td>-0.009801087</td><td>-0.04839548</td><td>-0.04527934</td><td>-0.099660442</td><td>-0.09186536</td><td> 0.06481312</td><td>-0.005457142</td></tr>\n",
       "</tbody>\n",
       "</table>\n"
      ],
      "text/latex": [
       "A data.frame: 6 × 928\n",
       "\\begin{tabular}{r|lllllllllllllllllllll}\n",
       "  & X & X0 & X1 & X2 & X3 & X4 & X5 & X6 & X7 & X8 & ⋯ & X917 & X918 & X919 & X920 & X921 & X922 & X923 & X924 & X925 & X926\\\\\n",
       "  & <int> & <dbl> & <dbl> & <dbl> & <dbl> & <dbl> & <dbl> & <dbl> & <dbl> & <dbl> & ⋯ & <dbl> & <dbl> & <dbl> & <dbl> & <dbl> & <dbl> & <dbl> & <dbl> & <dbl> & <dbl>\\\\\n",
       "\\hline\n",
       "\t1 & 0 & 0.55147626 &  0.05251846 & -0.004791516 &  0.43624722 &  0.393663489 &  0.45428335 &  0.30502437 & -0.01664862 &  0.327413213 & ⋯ &  0.23989845 &  0.3379273 &  0.38182867 &  0.223638080 &  0.17863553 &  0.23748206 &  0.307224364 &  0.33080620 &  0.30092031 &  0.367503513\\\\\n",
       "\t2 & 1 & 0.10765019 & -0.10063564 & -0.173022801 &  0.11562529 & -0.319528547 &  0.04391272 &  0.05341042 & -0.34577017 &  0.003882467 & ⋯ & -0.05173187 & -0.1422326 & -0.08994372 &  0.108325115 & -0.19054938 & -0.42076546 & -0.066171209 & -0.30052961 & -0.19549700 &  0.033262993\\\\\n",
       "\t3 & 2 & 0.07809582 & -0.08190916 & -0.081398300 &  0.13095611 &  0.002069046 &  0.12945858 & -0.07240314 &  0.11843815 &  0.032683127 & ⋯ & -0.33244357 &  0.2411057 & -0.02255175 & -0.087386833 &  0.07435656 & -0.17814904 & -0.001113755 & -0.26845181 & -0.11851328 & -0.129481231\\\\\n",
       "\t4 & 3 & 0.03732436 &  0.33697828 &  0.435528586 &  0.31930133 &  0.362905312 &  0.20714521 &  0.20063151 &  0.29177229 &  0.609459327 & ⋯ &  0.48307777 &  0.4978587 &  0.53215584 &  0.501080271 &  0.28584270 &  0.49488062 &  0.311575727 &  0.61590842 &  0.44522431 &  0.511984421\\\\\n",
       "\t5 & 4 & 0.00725825 &  0.11602094 &  0.067979461 &  0.08927534 & -0.035797937 & -0.04556956 & -0.25951938 &  0.15322737 & -0.115116117 & ⋯ &  0.30880230 & -0.1366139 & -0.15468162 &  0.147779453 & -0.02382695 &  0.08656798 & -0.053332017 & -0.02374157 &  0.18717106 & -0.086861312\\\\\n",
       "\t6 & 5 & 0.38619806 & -0.08656627 &  0.134800040 & -0.07133257 & -0.185163053 &  0.06432900 & -0.16339329 & -0.20211424 &  0.219212824 & ⋯ & -0.17131127 & -0.1483191 &  0.20759681 & -0.009801087 & -0.04839548 & -0.04527934 & -0.099660442 & -0.09186536 &  0.06481312 & -0.005457142\\\\\n",
       "\\end{tabular}\n"
      ],
      "text/markdown": [
       "\n",
       "A data.frame: 6 × 928\n",
       "\n",
       "| <!--/--> | X &lt;int&gt; | X0 &lt;dbl&gt; | X1 &lt;dbl&gt; | X2 &lt;dbl&gt; | X3 &lt;dbl&gt; | X4 &lt;dbl&gt; | X5 &lt;dbl&gt; | X6 &lt;dbl&gt; | X7 &lt;dbl&gt; | X8 &lt;dbl&gt; | ⋯ ⋯ | X917 &lt;dbl&gt; | X918 &lt;dbl&gt; | X919 &lt;dbl&gt; | X920 &lt;dbl&gt; | X921 &lt;dbl&gt; | X922 &lt;dbl&gt; | X923 &lt;dbl&gt; | X924 &lt;dbl&gt; | X925 &lt;dbl&gt; | X926 &lt;dbl&gt; |\n",
       "|---|---|---|---|---|---|---|---|---|---|---|---|---|---|---|---|---|---|---|---|---|---|\n",
       "| 1 | 0 | 0.55147626 |  0.05251846 | -0.004791516 |  0.43624722 |  0.393663489 |  0.45428335 |  0.30502437 | -0.01664862 |  0.327413213 | ⋯ |  0.23989845 |  0.3379273 |  0.38182867 |  0.223638080 |  0.17863553 |  0.23748206 |  0.307224364 |  0.33080620 |  0.30092031 |  0.367503513 |\n",
       "| 2 | 1 | 0.10765019 | -0.10063564 | -0.173022801 |  0.11562529 | -0.319528547 |  0.04391272 |  0.05341042 | -0.34577017 |  0.003882467 | ⋯ | -0.05173187 | -0.1422326 | -0.08994372 |  0.108325115 | -0.19054938 | -0.42076546 | -0.066171209 | -0.30052961 | -0.19549700 |  0.033262993 |\n",
       "| 3 | 2 | 0.07809582 | -0.08190916 | -0.081398300 |  0.13095611 |  0.002069046 |  0.12945858 | -0.07240314 |  0.11843815 |  0.032683127 | ⋯ | -0.33244357 |  0.2411057 | -0.02255175 | -0.087386833 |  0.07435656 | -0.17814904 | -0.001113755 | -0.26845181 | -0.11851328 | -0.129481231 |\n",
       "| 4 | 3 | 0.03732436 |  0.33697828 |  0.435528586 |  0.31930133 |  0.362905312 |  0.20714521 |  0.20063151 |  0.29177229 |  0.609459327 | ⋯ |  0.48307777 |  0.4978587 |  0.53215584 |  0.501080271 |  0.28584270 |  0.49488062 |  0.311575727 |  0.61590842 |  0.44522431 |  0.511984421 |\n",
       "| 5 | 4 | 0.00725825 |  0.11602094 |  0.067979461 |  0.08927534 | -0.035797937 | -0.04556956 | -0.25951938 |  0.15322737 | -0.115116117 | ⋯ |  0.30880230 | -0.1366139 | -0.15468162 |  0.147779453 | -0.02382695 |  0.08656798 | -0.053332017 | -0.02374157 |  0.18717106 | -0.086861312 |\n",
       "| 6 | 5 | 0.38619806 | -0.08656627 |  0.134800040 | -0.07133257 | -0.185163053 |  0.06432900 | -0.16339329 | -0.20211424 |  0.219212824 | ⋯ | -0.17131127 | -0.1483191 |  0.20759681 | -0.009801087 | -0.04839548 | -0.04527934 | -0.099660442 | -0.09186536 |  0.06481312 | -0.005457142 |\n",
       "\n"
      ],
      "text/plain": [
       "  X X0         X1          X2           X3          X4           X5         \n",
       "1 0 0.55147626  0.05251846 -0.004791516  0.43624722  0.393663489  0.45428335\n",
       "2 1 0.10765019 -0.10063564 -0.173022801  0.11562529 -0.319528547  0.04391272\n",
       "3 2 0.07809582 -0.08190916 -0.081398300  0.13095611  0.002069046  0.12945858\n",
       "4 3 0.03732436  0.33697828  0.435528586  0.31930133  0.362905312  0.20714521\n",
       "5 4 0.00725825  0.11602094  0.067979461  0.08927534 -0.035797937 -0.04556956\n",
       "6 5 0.38619806 -0.08656627  0.134800040 -0.07133257 -0.185163053  0.06432900\n",
       "  X6          X7          X8           ⋯ X917        X918       X919       \n",
       "1  0.30502437 -0.01664862  0.327413213 ⋯  0.23989845  0.3379273  0.38182867\n",
       "2  0.05341042 -0.34577017  0.003882467 ⋯ -0.05173187 -0.1422326 -0.08994372\n",
       "3 -0.07240314  0.11843815  0.032683127 ⋯ -0.33244357  0.2411057 -0.02255175\n",
       "4  0.20063151  0.29177229  0.609459327 ⋯  0.48307777  0.4978587  0.53215584\n",
       "5 -0.25951938  0.15322737 -0.115116117 ⋯  0.30880230 -0.1366139 -0.15468162\n",
       "6 -0.16339329 -0.20211424  0.219212824 ⋯ -0.17131127 -0.1483191  0.20759681\n",
       "  X920         X921        X922        X923         X924        X925       \n",
       "1  0.223638080  0.17863553  0.23748206  0.307224364  0.33080620  0.30092031\n",
       "2  0.108325115 -0.19054938 -0.42076546 -0.066171209 -0.30052961 -0.19549700\n",
       "3 -0.087386833  0.07435656 -0.17814904 -0.001113755 -0.26845181 -0.11851328\n",
       "4  0.501080271  0.28584270  0.49488062  0.311575727  0.61590842  0.44522431\n",
       "5  0.147779453 -0.02382695  0.08656798 -0.053332017 -0.02374157  0.18717106\n",
       "6 -0.009801087 -0.04839548 -0.04527934 -0.099660442 -0.09186536  0.06481312\n",
       "  X926        \n",
       "1  0.367503513\n",
       "2  0.033262993\n",
       "3 -0.129481231\n",
       "4  0.511984421\n",
       "5 -0.086861312\n",
       "6 -0.005457142"
      ]
     },
     "metadata": {},
     "output_type": "display_data"
    }
   ],
   "source": [
    "head(weights)"
   ]
  },
  {
   "cell_type": "code",
   "execution_count": null,
   "metadata": {},
   "outputs": [],
   "source": [
    "badGuidesAll = c()\n",
    "nongeneSitesAll = c()\n",
    "noTargetsAll = c()\n",
    "\n",
    "rownames(weights) <- weights$X\n",
    "weights$X = NULL\n",
    "nongeneSites <- grep(\"mouse_intergenic_ctl_\", colnames(weights))\n",
    "print(paste0(elem, \" nongeneSites \", length(nongeneSites)))\n",
    "nongeneSitesAll = c(nongeneSitesAll, colnames(weights)[nongeneSites])\n",
    "\n",
    "noTargets <- grep(\"mouse_noncut_ctl_\", colnames(weights))\n",
    "print(paste0(elem, \" noTargets \", length(noTargets)))\n",
    "noTargetsAll = c(noTargetsAll, colnames(weights)[noTargets])\n",
    "\n",
    "weightsControls <- weights[,c(nongeneSites, noTargets)]\n",
    "pca <- prcomp(t(weightsControls), scale. = FALSE)\n",
    "U <- pca$x\n",
    "kk <- apply(U[,1:40], 2, function(x) which( abs(x - mean(x)) > (6 * sd(x)) ))\n",
    "badGuides = unique(unlist(sapply(kk,function(x){return(names(x))})))\n",
    "badGuidesAll <- c(badGuidesAll, badGuides)\n",
    "\n"
   ]
  },
  {
   "cell_type": "code",
   "execution_count": 3,
   "metadata": {},
   "outputs": [
    {
     "data": {
      "text/plain": [
       "badGuidesAll\n",
       "        NO_TARGET_10        NO_TARGET_102        NO_TARGET_108 \n",
       "                   1                    1                    1 \n",
       "       NO_TARGET_110        NO_TARGET_123        NO_TARGET_129 \n",
       "                   2                    1                    1 \n",
       "       NO_TARGET_158         NO_TARGET_29         NO_TARGET_40 \n",
       "                   1                    1                    1 \n",
       "        NO_TARGET_46         NO_TARGET_76         NO_TARGET_84 \n",
       "                   2                    1                    1 \n",
       "        NO_TARGET_90         NO_TARGET_93 ONE_NONGENE_SITE_185 \n",
       "                   1                    1                    1 \n",
       "ONE_NONGENE_SITE_220 ONE_NONGENE_SITE_221 ONE_NONGENE_SITE_222 \n",
       "                   1                    1                    1 \n",
       "ONE_NONGENE_SITE_241 ONE_NONGENE_SITE_256 ONE_NONGENE_SITE_261 \n",
       "                   1                    1                    1 \n",
       "ONE_NONGENE_SITE_262 ONE_NONGENE_SITE_268 ONE_NONGENE_SITE_281 \n",
       "                   1                    1                    1 \n",
       "ONE_NONGENE_SITE_292 ONE_NONGENE_SITE_294 ONE_NONGENE_SITE_304 \n",
       "                   1                    1                    1 \n",
       "ONE_NONGENE_SITE_322 ONE_NONGENE_SITE_323 ONE_NONGENE_SITE_328 \n",
       "                   1                    1                    1 "
      ]
     },
     "metadata": {},
     "output_type": "display_data"
    }
   ],
   "source": [
    "table(badGuidesAll)"
   ]
  },
  {
   "cell_type": "code",
   "execution_count": 4,
   "metadata": {},
   "outputs": [
    {
     "data": {
      "text/html": [
       "30"
      ],
      "text/latex": [
       "30"
      ],
      "text/markdown": [
       "30"
      ],
      "text/plain": [
       "[1] 30"
      ]
     },
     "metadata": {},
     "output_type": "display_data"
    }
   ],
   "source": [
    "length(unique(badGuidesAll))"
   ]
  },
  {
   "cell_type": "code",
   "execution_count": 5,
   "metadata": {},
   "outputs": [],
   "source": [
    "write.csv(sort(unique(badGuidesAll)),\"BadGuidesList.csv\", row.names = FALSE)"
   ]
  },
  {
   "cell_type": "code",
   "execution_count": null,
   "metadata": {},
   "outputs": [],
   "source": [
    "saveRDS(unique(badGuidesAll), \"./RDSFiles/badControlGuides.rds\")"
   ]
  },
  {
   "cell_type": "code",
   "execution_count": null,
   "metadata": {},
   "outputs": [],
   "source": [
    "clusterID=0\n",
    "fileName = paste0(fileDir,'Cluster_',clusterID,'_weights.csv') "
   ]
  },
  {
   "cell_type": "code",
   "execution_count": null,
   "metadata": {},
   "outputs": [],
   "source": [
    "weights = as.data.frame(read.csv(fileName, stringsAsFactors = F, strip.white = T, header = TRUE))\n",
    "rownames(weights) <- weights$X\n",
    "weights$X = NULL"
   ]
  },
  {
   "cell_type": "code",
   "execution_count": null,
   "metadata": {},
   "outputs": [],
   "source": [
    "nongeneSites <- grep(\"mouse_intergenic_ctl_\", colnames(weights))\n",
    "noTargets <- grep(\"mouse_noncut_ctl_\", colnames(weights))"
   ]
  },
  {
   "cell_type": "code",
   "execution_count": null,
   "metadata": {},
   "outputs": [],
   "source": [
    "weightsControls <- weights[,c(nongeneSites, noTargets)]"
   ]
  },
  {
   "cell_type": "code",
   "execution_count": null,
   "metadata": {},
   "outputs": [],
   "source": [
    "dim(weightsControls)"
   ]
  },
  {
   "cell_type": "code",
   "execution_count": null,
   "metadata": {},
   "outputs": [],
   "source": [
    "distance <- get_dist(t(weightsControls),method=\"pearson\")"
   ]
  },
  {
   "cell_type": "code",
   "execution_count": null,
   "metadata": {},
   "outputs": [],
   "source": [
    "library(repr)\n",
    "# Change plot size to 4 x 3\n",
    "options(repr.plot.width=15, repr.plot.height=15)\n",
    "distanceTemp = 1- distance\n",
    "#distanceTemp[distanceTemp > 0.35] <- 0.35\n",
    "#distanceTemp[distanceTemp < 0.05] <- 0.1\n",
    "fviz_dist(distanceTemp, gradient = list(high = \"red\", mid = \"white\", low = \"grey\"),order = F,lab_size = 4)"
   ]
  },
  {
   "cell_type": "code",
   "execution_count": null,
   "metadata": {},
   "outputs": [],
   "source": [
    "k2 <- kmeans(t(weightsControls), centers = 25, nstart = 25)\n",
    "str(k2)   "
   ]
  },
  {
   "cell_type": "code",
   "execution_count": null,
   "metadata": {},
   "outputs": [],
   "source": [
    "options(repr.plot.width=10, repr.plot.height=8)\n",
    "fviz_cluster(k2, data = t(weightsControls), ellipse = FALSE)"
   ]
  },
  {
   "cell_type": "code",
   "execution_count": null,
   "metadata": {},
   "outputs": [],
   "source": [
    "badGuides = readRDS(\"./RDSFiles/badControlGuides.rds\")"
   ]
  },
  {
   "cell_type": "code",
   "execution_count": null,
   "metadata": {},
   "outputs": [],
   "source": [
    "length(badGuides)"
   ]
  },
  {
   "cell_type": "code",
   "execution_count": null,
   "metadata": {},
   "outputs": [],
   "source": [
    "dim(weightsControls)"
   ]
  },
  {
   "cell_type": "code",
   "execution_count": null,
   "metadata": {},
   "outputs": [],
   "source": [
    "length(colnames(weightsControls))"
   ]
  },
  {
   "cell_type": "code",
   "execution_count": null,
   "metadata": {},
   "outputs": [],
   "source": [
    "weightsControlsFiltered <- colnames(weightsControls)\n",
    "weightsControlsFiltered <- weightsControlsFiltered[weightsControlsFiltered %ni% badGuides]\n",
    "weightsControlsFiltered <- weights[,weightsControlsFiltered]"
   ]
  },
  {
   "cell_type": "code",
   "execution_count": null,
   "metadata": {},
   "outputs": [],
   "source": [
    "dim(weightsControlsFiltered)"
   ]
  },
  {
   "cell_type": "code",
   "execution_count": null,
   "metadata": {},
   "outputs": [],
   "source": [
    "distance2 <- get_dist(t(weightsControlsFiltered),method=\"pearson\")"
   ]
  },
  {
   "cell_type": "code",
   "execution_count": null,
   "metadata": {},
   "outputs": [],
   "source": [
    "distanceTemp = 1- distance2\n",
    "#distanceTemp[distanceTemp > 0.35] <- 0.35\n",
    "fviz_dist(distanceTemp, gradient = list(high = \"red\", mid = \"white\", low = \"grey\"),order = F,lab_size = 4)"
   ]
  },
  {
   "cell_type": "code",
   "execution_count": null,
   "metadata": {},
   "outputs": [],
   "source": [
    "k2 <- kmeans(t(weightsControlsFiltered), centers = 1, nstart = 25)\n",
    "str(k2)"
   ]
  },
  {
   "cell_type": "code",
   "execution_count": null,
   "metadata": {},
   "outputs": [],
   "source": [
    "options(repr.plot.width=10, repr.plot.height=8)\n",
    "fviz_cluster(k2, data = t(weightsControlsFiltered), ellipse = FALSE)"
   ]
  },
  {
   "cell_type": "code",
   "execution_count": null,
   "metadata": {},
   "outputs": [],
   "source": [
    "head(weightsControlsFiltered)\n",
    "dim(weightsControlsFiltered)"
   ]
  },
  {
   "cell_type": "code",
   "execution_count": null,
   "metadata": {},
   "outputs": [],
   "source": [
    "library(plyr)\n",
    "mu <- ddply(dfTemp, \"Type\", summarise, grp.mean=mean(betas))\n",
    "mu"
   ]
  },
  {
   "cell_type": "code",
   "execution_count": null,
   "metadata": {},
   "outputs": [],
   "source": [
    "ggplot(dfTemp, aes(x=Type, y=betas)) + \n",
    "     geom_violin(trim=FALSE, aes(fill=Type))+\n",
    "     stat_summary(fun.data=mean_sdl, mult=1, \n",
    "                 geom=\"pointrange\", color=\"red\")+\n",
    "     stat_summary(fun.data = n_fun, geom = \"text\", size=3)"
   ]
  },
  {
   "cell_type": "code",
   "execution_count": null,
   "metadata": {},
   "outputs": [],
   "source": [
    "options(repr.plot.width=20, repr.plot.height=6)\n",
    "ggplot(dfTemp, aes(x=betas, color=Type, fill=Type)) +\n",
    "geom_histogram(aes(y=..density..), position=\"identity\", alpha=0.1, binwidth = 0.05)+\n",
    "geom_density(alpha=0.1)+\n",
    "geom_vline(data=mu, aes(xintercept=grp.mean, color=Type),\n",
    "           linetype=\"dashed\")+\n",
    "labs(title=\"Effect size per guide \",x=\"Effect size\", y = \"Density\")+\n",
    "theme_classic()"
   ]
  },
  {
   "cell_type": "code",
   "execution_count": null,
   "metadata": {},
   "outputs": [],
   "source": [
    "head(weightsGenes)"
   ]
  },
  {
   "cell_type": "code",
   "execution_count": null,
   "metadata": {},
   "outputs": [],
   "source": [
    "dim(weightsGenes)"
   ]
  },
  {
   "cell_type": "code",
   "execution_count": null,
   "metadata": {},
   "outputs": [],
   "source": [
    "geneNames = colnames(weightsGenes)\n",
    "geneNames = unique(sapply(geneNames, function(x){strsplit(x,\"_\")[[1]][1]}))"
   ]
  },
  {
   "cell_type": "code",
   "execution_count": null,
   "metadata": {},
   "outputs": [],
   "source": [
    "k <- grep(\"Rnf2\", colnames(weightsGenes))\n",
    "colnames(weightsGenes)[k]"
   ]
  },
  {
   "cell_type": "code",
   "execution_count": null,
   "metadata": {},
   "outputs": [],
   "source": [
    "length(geneNames)"
   ]
  },
  {
   "cell_type": "code",
   "execution_count": null,
   "metadata": {},
   "outputs": [],
   "source": [
    "i=1"
   ]
  },
  {
   "cell_type": "code",
   "execution_count": null,
   "metadata": {},
   "outputs": [],
   "source": [
    "tempGN = geneNames[i:(i+100)]\n",
    "ss <- sapply(tempGN , function(x){grep(paste0(x,\"_\"), colnames(weightsGenes))})\n"
   ]
  },
  {
   "cell_type": "code",
   "execution_count": null,
   "metadata": {},
   "outputs": [],
   "source": [
    "for( i in seq(1, length(geneNames), 100)){\n",
    "    tempGN = geneNames[i:(i+100)]\n",
    "}"
   ]
  },
  {
   "cell_type": "code",
   "execution_count": null,
   "metadata": {},
   "outputs": [],
   "source": [
    "first = weightsGenes$Arih1_1 \n",
    "second = weightsGenes$Arih1_2 \n",
    "third = weightsGenes$Arih1_3 "
   ]
  },
  {
   "cell_type": "code",
   "execution_count": null,
   "metadata": {},
   "outputs": [],
   "source": [
    "max(weightsGenes$Arih1_3)"
   ]
  },
  {
   "cell_type": "code",
   "execution_count": null,
   "metadata": {},
   "outputs": [],
   "source": [
    "which.max(weightsGenes$Arih1_1 )"
   ]
  },
  {
   "cell_type": "code",
   "execution_count": null,
   "metadata": {},
   "outputs": [],
   "source": [
    "which.max(weightsGenes$Arih1_2 )"
   ]
  },
  {
   "cell_type": "code",
   "execution_count": null,
   "metadata": {},
   "outputs": [],
   "source": [
    "a = which(abs(first) > 0.1)\n",
    "b = which(abs(second) > 0.1)\n",
    "d = which(abs(third) > 0.1)"
   ]
  },
  {
   "cell_type": "code",
   "execution_count": null,
   "metadata": {},
   "outputs": [],
   "source": [
    "cor.test(first[c(a,b,d)], second[c(a,b,d)], method=\"spearman\")"
   ]
  },
  {
   "cell_type": "code",
   "execution_count": null,
   "metadata": {},
   "outputs": [],
   "source": [
    "cor.test(first, third, method=\"spearman\")"
   ]
  },
  {
   "cell_type": "code",
   "execution_count": null,
   "metadata": {},
   "outputs": [],
   "source": []
  }
 ],
 "metadata": {
  "kernelspec": {
   "display_name": "R",
   "language": "R",
   "name": "ir"
  },
  "language_info": {
   "codemirror_mode": "r",
   "file_extension": ".r",
   "mimetype": "text/x-r-source",
   "name": "R",
   "pygments_lexer": "r",
   "version": "4.1.3"
  }
 },
 "nbformat": 4,
 "nbformat_minor": 4
}
