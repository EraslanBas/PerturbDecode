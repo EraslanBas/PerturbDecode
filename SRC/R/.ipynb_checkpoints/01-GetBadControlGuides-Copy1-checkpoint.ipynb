{
 "cells": [
  {
   "cell_type": "code",
   "execution_count": 1,
   "metadata": {
    "collapsed": true,
    "jupyter": {
     "outputs_hidden": true
    }
   },
   "outputs": [
    {
     "name": "stderr",
     "output_type": "stream",
     "text": [
      "corrplot 0.84 loaded\n",
      "\n",
      "\n",
      "********************************************************\n",
      "\n",
      "Note: As of version 1.0.0, cowplot does not change the\n",
      "\n",
      "  default ggplot2 theme anymore. To recover the previous\n",
      "\n",
      "  behavior, execute:\n",
      "  theme_set(theme_cowplot())\n",
      "\n",
      "********************************************************\n",
      "\n",
      "\n",
      "\n",
      "Attaching package: ‘pls’\n",
      "\n",
      "\n",
      "The following object is masked from ‘package:corrplot’:\n",
      "\n",
      "    corrplot\n",
      "\n",
      "\n",
      "The following object is masked from ‘package:stats’:\n",
      "\n",
      "    loadings\n",
      "\n",
      "\n",
      "Loading required package: graph\n",
      "\n",
      "Loading required package: BiocGenerics\n",
      "\n",
      "Loading required package: parallel\n",
      "\n",
      "\n",
      "Attaching package: ‘BiocGenerics’\n",
      "\n",
      "\n",
      "The following objects are masked from ‘package:parallel’:\n",
      "\n",
      "    clusterApply, clusterApplyLB, clusterCall, clusterEvalQ,\n",
      "    clusterExport, clusterMap, parApply, parCapply, parLapply,\n",
      "    parLapplyLB, parRapply, parSapply, parSapplyLB\n",
      "\n",
      "\n",
      "The following objects are masked from ‘package:stats’:\n",
      "\n",
      "    IQR, mad, sd, var, xtabs\n",
      "\n",
      "\n",
      "The following objects are masked from ‘package:base’:\n",
      "\n",
      "    anyDuplicated, append, as.data.frame, basename, cbind, colnames,\n",
      "    dirname, do.call, duplicated, eval, evalq, Filter, Find, get, grep,\n",
      "    grepl, intersect, is.unsorted, lapply, Map, mapply, match, mget,\n",
      "    order, paste, pmax, pmax.int, pmin, pmin.int, Position, rank,\n",
      "    rbind, Reduce, rownames, sapply, setdiff, sort, table, tapply,\n",
      "    union, unique, unsplit, which, which.max, which.min\n",
      "\n",
      "\n",
      "\n",
      "Attaching package: ‘graph’\n",
      "\n",
      "\n",
      "The following object is masked from ‘package:stringr’:\n",
      "\n",
      "    boundary\n",
      "\n",
      "\n",
      "Loading required package: GOstats\n",
      "\n",
      "Loading required package: Biobase\n",
      "\n",
      "Welcome to Bioconductor\n",
      "\n",
      "    Vignettes contain introductory material; view with\n",
      "    'browseVignettes()'. To cite Bioconductor, see\n",
      "    'citation(\"Biobase\")', and for packages 'citation(\"pkgname\")'.\n",
      "\n",
      "\n",
      "Loading required package: Category\n",
      "\n",
      "Loading required package: stats4\n",
      "\n",
      "Loading required package: AnnotationDbi\n",
      "\n",
      "Loading required package: IRanges\n",
      "\n",
      "Loading required package: S4Vectors\n",
      "\n",
      "\n",
      "Attaching package: ‘S4Vectors’\n",
      "\n",
      "\n",
      "The following object is masked from ‘package:base’:\n",
      "\n",
      "    expand.grid\n",
      "\n",
      "\n",
      "Loading required package: Matrix\n",
      "\n",
      "\n",
      "Attaching package: ‘Matrix’\n",
      "\n",
      "\n",
      "The following object is masked from ‘package:S4Vectors’:\n",
      "\n",
      "    expand\n",
      "\n",
      "\n",
      "\n",
      "\n",
      "\n",
      "Attaching package: ‘GOstats’\n",
      "\n",
      "\n",
      "The following object is masked from ‘package:AnnotationDbi’:\n",
      "\n",
      "    makeGOGraph\n",
      "\n",
      "\n",
      "\n",
      "Attaching package: ‘RDAVIDWebService’\n",
      "\n",
      "\n",
      "The following object is masked from ‘package:AnnotationDbi’:\n",
      "\n",
      "    species\n",
      "\n",
      "\n",
      "The following object is masked from ‘package:IRanges’:\n",
      "\n",
      "    members\n",
      "\n",
      "\n",
      "The following objects are masked from ‘package:BiocGenerics’:\n",
      "\n",
      "    counts, species, type\n",
      "\n",
      "\n",
      "\n",
      "\n",
      "\n",
      "Attaching package: ‘data.table’\n",
      "\n",
      "\n",
      "The following object is masked from ‘package:IRanges’:\n",
      "\n",
      "    shift\n",
      "\n",
      "\n",
      "The following objects are masked from ‘package:S4Vectors’:\n",
      "\n",
      "    first, second\n",
      "\n",
      "\n",
      "Welcome! Want to learn more? See two factoextra-related books at https://goo.gl/ve3WBa\n",
      "\n",
      "Loading required package: cluster\n",
      "\n",
      "Loading required package: rpart\n",
      "\n"
     ]
    }
   ],
   "source": [
    "source(\"Main.R\")\n",
    "source(\"Conf.R\")\n",
    "source(\"Utilities.R\")\n",
    "source(\"DAVID_query.R\")\n",
    "library(\"factoextra\")\n",
    "library(\"maptree\")\n",
    "fileDir = \"/home/beraslan/jovian-work/analysis/\""
   ]
  },
  {
   "cell_type": "code",
   "execution_count": 2,
   "metadata": {},
   "outputs": [
    {
     "name": "stdout",
     "output_type": "stream",
     "text": [
      "[1] \"0 nongeneSites 122\"\n",
      "[1] \"0 noTargets 142\"\n",
      "[1] \"1 nongeneSites 102\"\n",
      "[1] \"1 noTargets 131\"\n",
      "[1] \"2 nongeneSites 83\"\n",
      "[1] \"2 noTargets 123\"\n",
      "[1] \"3 nongeneSites 35\"\n",
      "[1] \"3 noTargets 95\"\n"
     ]
    }
   ],
   "source": [
    "\n",
    "badGuidesAll = c()\n",
    "nongeneSitesAll = c()\n",
    "noTargetsAll = c()\n",
    "for(elem in c(0,1,2,3)){\n",
    "    fileName = paste0(fileDir,'Cluster_',elem,'_weights.csv') \n",
    "    weights = as.data.frame(read.csv(fileName, stringsAsFactors = F, strip.white = T, header = TRUE))\n",
    "    rownames(weights) <- weights$X\n",
    "    weights$X = NULL\n",
    "    nongeneSites <- grep(\"ONE_NONGENE_SITE_\", colnames(weights))\n",
    "    print(paste0(elem, \" nongeneSites \", length(nongeneSites)))\n",
    "    nongeneSitesAll = c(nongeneSitesAll, colnames(weights)[nongeneSites])\n",
    "    \n",
    "    noTargets <- grep(\"NO_TARGET_\", colnames(weights))\n",
    "    print(paste0(elem, \" noTargets \", length(noTargets)))\n",
    "    noTargetsAll = c(noTargetsAll, colnames(weights)[noTargets])\n",
    "    \n",
    "    weightsControls <- weights[,c(nongeneSites, noTargets)]\n",
    "    pca <- prcomp(t(weightsControls), scale. = FALSE)\n",
    "    U <- pca$x\n",
    "    kk <- apply(U[,1:40], 2, function(x) which( abs(x - mean(x)) > (6 * sd(x)) ))\n",
    "    badGuides = unique(unlist(sapply(kk,function(x){return(names(x))})))\n",
    "    badGuidesAll <- c(badGuidesAll, badGuides)\n",
    "}\n"
   ]
  },
  {
   "cell_type": "code",
   "execution_count": 3,
   "metadata": {},
   "outputs": [
    {
     "data": {
      "text/plain": [
       "badGuidesAll\n",
       "        NO_TARGET_10        NO_TARGET_102        NO_TARGET_108 \n",
       "                   1                    1                    1 \n",
       "       NO_TARGET_110        NO_TARGET_123        NO_TARGET_129 \n",
       "                   2                    1                    1 \n",
       "       NO_TARGET_158         NO_TARGET_29         NO_TARGET_40 \n",
       "                   1                    1                    1 \n",
       "        NO_TARGET_46         NO_TARGET_76         NO_TARGET_84 \n",
       "                   2                    1                    1 \n",
       "        NO_TARGET_90         NO_TARGET_93 ONE_NONGENE_SITE_185 \n",
       "                   1                    1                    1 \n",
       "ONE_NONGENE_SITE_220 ONE_NONGENE_SITE_221 ONE_NONGENE_SITE_222 \n",
       "                   1                    1                    1 \n",
       "ONE_NONGENE_SITE_241 ONE_NONGENE_SITE_256 ONE_NONGENE_SITE_261 \n",
       "                   1                    1                    1 \n",
       "ONE_NONGENE_SITE_262 ONE_NONGENE_SITE_268 ONE_NONGENE_SITE_281 \n",
       "                   1                    1                    1 \n",
       "ONE_NONGENE_SITE_292 ONE_NONGENE_SITE_294 ONE_NONGENE_SITE_304 \n",
       "                   1                    1                    1 \n",
       "ONE_NONGENE_SITE_322 ONE_NONGENE_SITE_323 ONE_NONGENE_SITE_328 \n",
       "                   1                    1                    1 "
      ]
     },
     "metadata": {},
     "output_type": "display_data"
    }
   ],
   "source": [
    "table(badGuidesAll)"
   ]
  },
  {
   "cell_type": "code",
   "execution_count": 4,
   "metadata": {},
   "outputs": [
    {
     "data": {
      "text/html": [
       "30"
      ],
      "text/latex": [
       "30"
      ],
      "text/markdown": [
       "30"
      ],
      "text/plain": [
       "[1] 30"
      ]
     },
     "metadata": {},
     "output_type": "display_data"
    }
   ],
   "source": [
    "length(unique(badGuidesAll))"
   ]
  },
  {
   "cell_type": "code",
   "execution_count": 5,
   "metadata": {},
   "outputs": [],
   "source": [
    "write.csv(sort(unique(badGuidesAll)),\"BadGuidesList.csv\", row.names = FALSE)"
   ]
  },
  {
   "cell_type": "code",
   "execution_count": null,
   "metadata": {},
   "outputs": [],
   "source": [
    "saveRDS(unique(badGuidesAll), \"./RDSFiles/badControlGuides.rds\")"
   ]
  },
  {
   "cell_type": "code",
   "execution_count": null,
   "metadata": {},
   "outputs": [],
   "source": [
    "clusterID=0\n",
    "fileName = paste0(fileDir,'Cluster_',clusterID,'_weights.csv') "
   ]
  },
  {
   "cell_type": "code",
   "execution_count": null,
   "metadata": {},
   "outputs": [],
   "source": [
    "weights = as.data.frame(read.csv(fileName, stringsAsFactors = F, strip.white = T, header = TRUE))\n",
    "rownames(weights) <- weights$X\n",
    "weights$X = NULL"
   ]
  },
  {
   "cell_type": "code",
   "execution_count": null,
   "metadata": {},
   "outputs": [],
   "source": [
    "nongeneSites <- grep(\"ONE_NONGENE_SITE_\", colnames(weights))\n",
    "noTargets <- grep(\"NO_TARGET_\", colnames(weights))"
   ]
  },
  {
   "cell_type": "code",
   "execution_count": null,
   "metadata": {},
   "outputs": [],
   "source": [
    "weightsControls <- weights[,c(nongeneSites, noTargets)]"
   ]
  },
  {
   "cell_type": "code",
   "execution_count": null,
   "metadata": {},
   "outputs": [],
   "source": [
    "dim(weightsControls)"
   ]
  },
  {
   "cell_type": "code",
   "execution_count": null,
   "metadata": {},
   "outputs": [],
   "source": [
    "distance <- get_dist(t(weightsControls),method=\"pearson\")"
   ]
  },
  {
   "cell_type": "code",
   "execution_count": null,
   "metadata": {},
   "outputs": [],
   "source": [
    "library(repr)\n",
    "# Change plot size to 4 x 3\n",
    "options(repr.plot.width=15, repr.plot.height=15)\n",
    "distanceTemp = 1- distance\n",
    "#distanceTemp[distanceTemp > 0.35] <- 0.35\n",
    "#distanceTemp[distanceTemp < 0.05] <- 0.1\n",
    "fviz_dist(distanceTemp, gradient = list(high = \"red\", mid = \"white\", low = \"grey\"),order = F,lab_size = 4)"
   ]
  },
  {
   "cell_type": "code",
   "execution_count": null,
   "metadata": {},
   "outputs": [],
   "source": [
    "k2 <- kmeans(t(weightsControls), centers = 25, nstart = 25)\n",
    "str(k2)   "
   ]
  },
  {
   "cell_type": "code",
   "execution_count": null,
   "metadata": {},
   "outputs": [],
   "source": [
    "options(repr.plot.width=10, repr.plot.height=8)\n",
    "fviz_cluster(k2, data = t(weightsControls), ellipse = FALSE)"
   ]
  },
  {
   "cell_type": "code",
   "execution_count": null,
   "metadata": {},
   "outputs": [],
   "source": [
    "badGuides = readRDS(\"./RDSFiles/badControlGuides.rds\")"
   ]
  },
  {
   "cell_type": "code",
   "execution_count": null,
   "metadata": {},
   "outputs": [],
   "source": [
    "length(badGuides)"
   ]
  },
  {
   "cell_type": "code",
   "execution_count": null,
   "metadata": {},
   "outputs": [],
   "source": [
    "dim(weightsControls)"
   ]
  },
  {
   "cell_type": "code",
   "execution_count": null,
   "metadata": {},
   "outputs": [],
   "source": [
    "length(colnames(weightsControls))"
   ]
  },
  {
   "cell_type": "code",
   "execution_count": null,
   "metadata": {},
   "outputs": [],
   "source": [
    "weightsControlsFiltered <- colnames(weightsControls)\n",
    "weightsControlsFiltered <- weightsControlsFiltered[weightsControlsFiltered %ni% badGuides]\n",
    "weightsControlsFiltered <- weights[,weightsControlsFiltered]"
   ]
  },
  {
   "cell_type": "code",
   "execution_count": null,
   "metadata": {},
   "outputs": [],
   "source": [
    "dim(weightsControlsFiltered)"
   ]
  },
  {
   "cell_type": "code",
   "execution_count": null,
   "metadata": {},
   "outputs": [],
   "source": [
    "distance2 <- get_dist(t(weightsControlsFiltered),method=\"pearson\")"
   ]
  },
  {
   "cell_type": "code",
   "execution_count": null,
   "metadata": {},
   "outputs": [],
   "source": [
    "distanceTemp = 1- distance2\n",
    "#distanceTemp[distanceTemp > 0.35] <- 0.35\n",
    "fviz_dist(distanceTemp, gradient = list(high = \"red\", mid = \"white\", low = \"grey\"),order = F,lab_size = 4)"
   ]
  },
  {
   "cell_type": "code",
   "execution_count": null,
   "metadata": {},
   "outputs": [],
   "source": [
    "k2 <- kmeans(t(weightsControlsFiltered), centers = 1, nstart = 25)\n",
    "str(k2)"
   ]
  },
  {
   "cell_type": "code",
   "execution_count": null,
   "metadata": {},
   "outputs": [],
   "source": [
    "options(repr.plot.width=10, repr.plot.height=8)\n",
    "fviz_cluster(k2, data = t(weightsControlsFiltered), ellipse = FALSE)"
   ]
  },
  {
   "cell_type": "code",
   "execution_count": null,
   "metadata": {},
   "outputs": [],
   "source": [
    "head(weightsControlsFiltered)\n",
    "dim(weightsControlsFiltered)"
   ]
  },
  {
   "cell_type": "code",
   "execution_count": null,
   "metadata": {},
   "outputs": [],
   "source": [
    "library(plyr)\n",
    "mu <- ddply(dfTemp, \"Type\", summarise, grp.mean=mean(betas))\n",
    "mu"
   ]
  },
  {
   "cell_type": "code",
   "execution_count": null,
   "metadata": {},
   "outputs": [],
   "source": [
    "ggplot(dfTemp, aes(x=Type, y=betas)) + \n",
    "     geom_violin(trim=FALSE, aes(fill=Type))+\n",
    "     stat_summary(fun.data=mean_sdl, mult=1, \n",
    "                 geom=\"pointrange\", color=\"red\")+\n",
    "     stat_summary(fun.data = n_fun, geom = \"text\", size=3)"
   ]
  },
  {
   "cell_type": "code",
   "execution_count": null,
   "metadata": {},
   "outputs": [],
   "source": [
    "options(repr.plot.width=20, repr.plot.height=6)\n",
    "ggplot(dfTemp, aes(x=betas, color=Type, fill=Type)) +\n",
    "geom_histogram(aes(y=..density..), position=\"identity\", alpha=0.1, binwidth = 0.05)+\n",
    "geom_density(alpha=0.1)+\n",
    "geom_vline(data=mu, aes(xintercept=grp.mean, color=Type),\n",
    "           linetype=\"dashed\")+\n",
    "labs(title=\"Effect size per guide \",x=\"Effect size\", y = \"Density\")+\n",
    "theme_classic()"
   ]
  },
  {
   "cell_type": "code",
   "execution_count": null,
   "metadata": {},
   "outputs": [],
   "source": [
    "head(weightsGenes)"
   ]
  },
  {
   "cell_type": "code",
   "execution_count": null,
   "metadata": {},
   "outputs": [],
   "source": [
    "dim(weightsGenes)"
   ]
  },
  {
   "cell_type": "code",
   "execution_count": null,
   "metadata": {},
   "outputs": [],
   "source": [
    "geneNames = colnames(weightsGenes)\n",
    "geneNames = unique(sapply(geneNames, function(x){strsplit(x,\"_\")[[1]][1]}))"
   ]
  },
  {
   "cell_type": "code",
   "execution_count": null,
   "metadata": {},
   "outputs": [],
   "source": [
    "k <- grep(\"Rnf2\", colnames(weightsGenes))\n",
    "colnames(weightsGenes)[k]"
   ]
  },
  {
   "cell_type": "code",
   "execution_count": null,
   "metadata": {},
   "outputs": [],
   "source": [
    "length(geneNames)"
   ]
  },
  {
   "cell_type": "code",
   "execution_count": null,
   "metadata": {},
   "outputs": [],
   "source": [
    "i=1"
   ]
  },
  {
   "cell_type": "code",
   "execution_count": null,
   "metadata": {},
   "outputs": [],
   "source": [
    "tempGN = geneNames[i:(i+100)]\n",
    "ss <- sapply(tempGN , function(x){grep(paste0(x,\"_\"), colnames(weightsGenes))})\n"
   ]
  },
  {
   "cell_type": "code",
   "execution_count": null,
   "metadata": {},
   "outputs": [],
   "source": [
    "for( i in seq(1, length(geneNames), 100)){\n",
    "    tempGN = geneNames[i:(i+100)]\n",
    "}"
   ]
  },
  {
   "cell_type": "code",
   "execution_count": null,
   "metadata": {},
   "outputs": [],
   "source": [
    "first = weightsGenes$Arih1_1 \n",
    "second = weightsGenes$Arih1_2 \n",
    "third = weightsGenes$Arih1_3 "
   ]
  },
  {
   "cell_type": "code",
   "execution_count": null,
   "metadata": {},
   "outputs": [],
   "source": [
    "max(weightsGenes$Arih1_3)"
   ]
  },
  {
   "cell_type": "code",
   "execution_count": null,
   "metadata": {},
   "outputs": [],
   "source": [
    "which.max(weightsGenes$Arih1_1 )"
   ]
  },
  {
   "cell_type": "code",
   "execution_count": null,
   "metadata": {},
   "outputs": [],
   "source": [
    "which.max(weightsGenes$Arih1_2 )"
   ]
  },
  {
   "cell_type": "code",
   "execution_count": null,
   "metadata": {},
   "outputs": [],
   "source": [
    "a = which(abs(first) > 0.1)\n",
    "b = which(abs(second) > 0.1)\n",
    "d = which(abs(third) > 0.1)"
   ]
  },
  {
   "cell_type": "code",
   "execution_count": null,
   "metadata": {},
   "outputs": [],
   "source": [
    "cor.test(first[c(a,b,d)], second[c(a,b,d)], method=\"spearman\")"
   ]
  },
  {
   "cell_type": "code",
   "execution_count": null,
   "metadata": {},
   "outputs": [],
   "source": [
    "cor.test(first, third, method=\"spearman\")"
   ]
  },
  {
   "cell_type": "code",
   "execution_count": null,
   "metadata": {},
   "outputs": [],
   "source": []
  }
 ],
 "metadata": {
  "kernelspec": {
   "display_name": "R",
   "language": "R",
   "name": "ir"
  },
  "language_info": {
   "codemirror_mode": "r",
   "file_extension": ".r",
   "mimetype": "text/x-r-source",
   "name": "R",
   "pygments_lexer": "r",
   "version": "3.6.3"
  }
 },
 "nbformat": 4,
 "nbformat_minor": 4
}
