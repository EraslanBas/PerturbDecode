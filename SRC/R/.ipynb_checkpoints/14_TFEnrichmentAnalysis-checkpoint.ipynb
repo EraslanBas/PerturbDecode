{
 "cells": [
  {
   "cell_type": "code",
   "execution_count": 25,
   "id": "005a033c-1167-4df6-9abb-19fa54b03b43",
   "metadata": {
    "tags": []
   },
   "outputs": [],
   "source": [
    "source(\"Main.R\")\n",
    "source(\"Conf.R\")\n",
    "source(\"Utilities.R\")\n",
    "source(\"DAVID_query.R\")\n",
    "library(\"factoextra\")\n",
    "library(\"maptree\")\n",
    "library(\"ggpubr\")\n",
    "library(NMF)\n",
    "library(\"ica\")\n",
    "library(ICtest)\n",
    "\n",
    "library(repr)\n",
    "fileDir = \"/home/beraslan/jovian-work/analysisSingle/\"\n",
    "geneCutOff=4\n",
    "targetCutOff=15\n",
    "nFactors=15"
   ]
  },
  {
   "cell_type": "code",
   "execution_count": 31,
   "id": "4aabdd7a-96bb-44f5-a804-bced6ddde771",
   "metadata": {
    "tags": []
   },
   "outputs": [],
   "source": [
    "icaGroups = read.csv('/home/beraslan/jovian-work/analysisSingle/ICA_15_factors_effectedGenes_paper.csv', stringsAsFactors = FALSE)\n"
   ]
  },
  {
   "cell_type": "code",
   "execution_count": 32,
   "id": "5ddc09a7-e87b-4b33-98b0-08f7c3dc4e99",
   "metadata": {},
   "outputs": [
    {
     "data": {
      "text/html": [
       "<table>\n",
       "<caption>A data.frame: 6 × 6</caption>\n",
       "<thead>\n",
       "\t<tr><th></th><th scope=col>Species</th><th scope=col>Symbol</th><th scope=col>Ensembl</th><th scope=col>Family</th><th scope=col>Protein</th><th scope=col>Entrez.ID</th></tr>\n",
       "\t<tr><th></th><th scope=col>&lt;chr&gt;</th><th scope=col>&lt;chr&gt;</th><th scope=col>&lt;chr&gt;</th><th scope=col>&lt;chr&gt;</th><th scope=col>&lt;chr&gt;</th><th scope=col>&lt;chr&gt;</th></tr>\n",
       "</thead>\n",
       "<tbody>\n",
       "\t<tr><th scope=row>1</th><td>Mus_musculus</td><td>Zfp146</td><td>ENSMUSG00000037029</td><td>zf-C2H2 </td><td>ENSMUSP00000058588;                                                         </td><td>26465 </td></tr>\n",
       "\t<tr><th scope=row>2</th><td>Mus_musculus</td><td>Ets1  </td><td>ENSMUSG00000032035</td><td>ETS     </td><td>ENSMUSP00000051303;ENSMUSP00000139107;ENSMUSP00000034534;                   </td><td>23871 </td></tr>\n",
       "\t<tr><th scope=row>3</th><td>Mus_musculus</td><td>Mxd3  </td><td>ENSMUSG00000021485</td><td>bHLH    </td><td>ENSMUSP00000021941;                                                         </td><td>17121 </td></tr>\n",
       "\t<tr><th scope=row>4</th><td>Mus_musculus</td><td>Rhox6 </td><td>ENSMUSG00000097200</td><td>Homeobox</td><td>ENSMUSP00000138055;                                                         </td><td>-     </td></tr>\n",
       "\t<tr><th scope=row>5</th><td>Mus_musculus</td><td>Zfp82 </td><td>ENSMUSG00000098022</td><td>zf-C2H2 </td><td>ENSMUSP00000079647;ENSMUSP00000138217;                                      </td><td>330502</td></tr>\n",
       "\t<tr><th scope=row>6</th><td>Mus_musculus</td><td>Lef1  </td><td>ENSMUSG00000027985</td><td>HMG     </td><td>ENSMUSP00000067808;ENSMUSP00000101948;ENSMUSP00000029611;ENSMUSP00000096211;</td><td>16842 </td></tr>\n",
       "</tbody>\n",
       "</table>\n"
      ],
      "text/latex": [
       "A data.frame: 6 × 6\n",
       "\\begin{tabular}{r|llllll}\n",
       "  & Species & Symbol & Ensembl & Family & Protein & Entrez.ID\\\\\n",
       "  & <chr> & <chr> & <chr> & <chr> & <chr> & <chr>\\\\\n",
       "\\hline\n",
       "\t1 & Mus\\_musculus & Zfp146 & ENSMUSG00000037029 & zf-C2H2  & ENSMUSP00000058588;                                                          & 26465 \\\\\n",
       "\t2 & Mus\\_musculus & Ets1   & ENSMUSG00000032035 & ETS      & ENSMUSP00000051303;ENSMUSP00000139107;ENSMUSP00000034534;                    & 23871 \\\\\n",
       "\t3 & Mus\\_musculus & Mxd3   & ENSMUSG00000021485 & bHLH     & ENSMUSP00000021941;                                                          & 17121 \\\\\n",
       "\t4 & Mus\\_musculus & Rhox6  & ENSMUSG00000097200 & Homeobox & ENSMUSP00000138055;                                                          & -     \\\\\n",
       "\t5 & Mus\\_musculus & Zfp82  & ENSMUSG00000098022 & zf-C2H2  & ENSMUSP00000079647;ENSMUSP00000138217;                                       & 330502\\\\\n",
       "\t6 & Mus\\_musculus & Lef1   & ENSMUSG00000027985 & HMG      & ENSMUSP00000067808;ENSMUSP00000101948;ENSMUSP00000029611;ENSMUSP00000096211; & 16842 \\\\\n",
       "\\end{tabular}\n"
      ],
      "text/markdown": [
       "\n",
       "A data.frame: 6 × 6\n",
       "\n",
       "| <!--/--> | Species &lt;chr&gt; | Symbol &lt;chr&gt; | Ensembl &lt;chr&gt; | Family &lt;chr&gt; | Protein &lt;chr&gt; | Entrez.ID &lt;chr&gt; |\n",
       "|---|---|---|---|---|---|---|\n",
       "| 1 | Mus_musculus | Zfp146 | ENSMUSG00000037029 | zf-C2H2  | ENSMUSP00000058588;                                                          | 26465  |\n",
       "| 2 | Mus_musculus | Ets1   | ENSMUSG00000032035 | ETS      | ENSMUSP00000051303;ENSMUSP00000139107;ENSMUSP00000034534;                    | 23871  |\n",
       "| 3 | Mus_musculus | Mxd3   | ENSMUSG00000021485 | bHLH     | ENSMUSP00000021941;                                                          | 17121  |\n",
       "| 4 | Mus_musculus | Rhox6  | ENSMUSG00000097200 | Homeobox | ENSMUSP00000138055;                                                          | -      |\n",
       "| 5 | Mus_musculus | Zfp82  | ENSMUSG00000098022 | zf-C2H2  | ENSMUSP00000079647;ENSMUSP00000138217;                                       | 330502 |\n",
       "| 6 | Mus_musculus | Lef1   | ENSMUSG00000027985 | HMG      | ENSMUSP00000067808;ENSMUSP00000101948;ENSMUSP00000029611;ENSMUSP00000096211; | 16842  |\n",
       "\n"
      ],
      "text/plain": [
       "  Species      Symbol Ensembl            Family  \n",
       "1 Mus_musculus Zfp146 ENSMUSG00000037029 zf-C2H2 \n",
       "2 Mus_musculus Ets1   ENSMUSG00000032035 ETS     \n",
       "3 Mus_musculus Mxd3   ENSMUSG00000021485 bHLH    \n",
       "4 Mus_musculus Rhox6  ENSMUSG00000097200 Homeobox\n",
       "5 Mus_musculus Zfp82  ENSMUSG00000098022 zf-C2H2 \n",
       "6 Mus_musculus Lef1   ENSMUSG00000027985 HMG     \n",
       "  Protein                                                                     \n",
       "1 ENSMUSP00000058588;                                                         \n",
       "2 ENSMUSP00000051303;ENSMUSP00000139107;ENSMUSP00000034534;                   \n",
       "3 ENSMUSP00000021941;                                                         \n",
       "4 ENSMUSP00000138055;                                                         \n",
       "5 ENSMUSP00000079647;ENSMUSP00000138217;                                      \n",
       "6 ENSMUSP00000067808;ENSMUSP00000101948;ENSMUSP00000029611;ENSMUSP00000096211;\n",
       "  Entrez.ID\n",
       "1 26465    \n",
       "2 23871    \n",
       "3 17121    \n",
       "4 -        \n",
       "5 330502   \n",
       "6 16842    "
      ]
     },
     "metadata": {},
     "output_type": "display_data"
    }
   ],
   "source": [
    "mouseTFs = read.csv('/home/beraslan/jovian-work/analysisSingle/Mus_musculus_TF.txt', sep = \"\\t\", stringsAsFactors = FALSE)\n",
    "head(mouseTFs)"
   ]
  },
  {
   "cell_type": "code",
   "execution_count": 51,
   "id": "1bfd7e00-5223-49df-a12e-29e8c1e2d378",
   "metadata": {},
   "outputs": [
    {
     "data": {
      "text/html": [
       "<style>\n",
       ".list-inline {list-style: none; margin:0; padding: 0}\n",
       ".list-inline>li {display: inline-block}\n",
       ".list-inline>li:not(:last-child)::after {content: \"\\00b7\"; padding: 0 .5ex}\n",
       "</style>\n",
       "<ol class=list-inline><li>1636</li><li>6</li></ol>\n"
      ],
      "text/latex": [
       "\\begin{enumerate*}\n",
       "\\item 1636\n",
       "\\item 6\n",
       "\\end{enumerate*}\n"
      ],
      "text/markdown": [
       "1. 1636\n",
       "2. 6\n",
       "\n",
       "\n"
      ],
      "text/plain": [
       "[1] 1636    6"
      ]
     },
     "metadata": {},
     "output_type": "display_data"
    }
   ],
   "source": [
    "dim(mouseTFs)"
   ]
  },
  {
   "cell_type": "code",
   "execution_count": 33,
   "id": "cbbc3f63-d91e-4110-9cef-8a9030e0cc68",
   "metadata": {},
   "outputs": [],
   "source": [
    "K <- sapply(icaGroups, function(x){return(x[x %in% mouseTFs$Symbol])})"
   ]
  },
  {
   "cell_type": "code",
   "execution_count": 34,
   "id": "9b34bd27-8532-4208-8ec0-3c3b789e4208",
   "metadata": {},
   "outputs": [],
   "source": [
    "writePathwayFile(pathwayGenes=K, fileName=\"TFs_in_ICAFACTORS.csv\", cNames=T)"
   ]
  },
  {
   "cell_type": "code",
   "execution_count": 35,
   "id": "2f828a77-15e6-4f55-83b1-5310e655ef4b",
   "metadata": {},
   "outputs": [],
   "source": [
    "cGuides = data.frame(read.csv('/home/beraslan/jovian-work/analysisSingle/ME_GuideModules_leiden_6_Modules.csv'), stringsAsFactors = FALSE, row.names = 1)\n"
   ]
  },
  {
   "cell_type": "code",
   "execution_count": 37,
   "id": "cc26b8fe-f513-4999-b4b0-d4b96b77cdf0",
   "metadata": {},
   "outputs": [],
   "source": [
    "cGuidesTFs <- cGuides[cGuides$GuideName %in% mouseTFs$Symbol,]"
   ]
  },
  {
   "cell_type": "code",
   "execution_count": 39,
   "id": "c296101c-b20f-40b5-b5b2-33e1a263df50",
   "metadata": {},
   "outputs": [],
   "source": [
    "cGuidesTFs$GuideColor <- NULL"
   ]
  },
  {
   "cell_type": "code",
   "execution_count": 42,
   "id": "2ec2ee44-ade1-4b8d-9df5-2c8586f195fc",
   "metadata": {},
   "outputs": [],
   "source": [
    "write.csv(cGuidesTFs, \"TFs_in_GuideGroups.csv\", row.names=FALSE)"
   ]
  },
  {
   "cell_type": "code",
   "execution_count": 46,
   "id": "e2faceac-13e6-41b8-9b40-d8f572a13aed",
   "metadata": {},
   "outputs": [],
   "source": [
    "cGenes = data.frame(read.csv('/home/beraslan/jovian-work/analysisSingle/ME_GeneModules_leiden_8_Modules.csv'), stringsAsFactors = FALSE, row.names = 1)\n"
   ]
  },
  {
   "cell_type": "code",
   "execution_count": 47,
   "id": "2ad26f6e-f564-49a3-aef3-1d6348f14907",
   "metadata": {},
   "outputs": [],
   "source": [
    "cGenesTFs <- cGenes[cGenes$GeneName %in% mouseTFs$Symbol,]"
   ]
  },
  {
   "cell_type": "code",
   "execution_count": 49,
   "id": "e349321b-bd8b-4c14-a68a-6a4cd783b970",
   "metadata": {},
   "outputs": [],
   "source": [
    "cGenesTFs$GeneColor = NULL"
   ]
  },
  {
   "cell_type": "code",
   "execution_count": 50,
   "id": "fbc99632-80a7-431b-9cd0-7fc31eab0bdf",
   "metadata": {},
   "outputs": [],
   "source": [
    "write.csv(cGenesTFs, \"TFs_in_GeneGroups.csv\", row.names=FALSE)"
   ]
  },
  {
   "cell_type": "code",
   "execution_count": null,
   "id": "d658ab6b-f620-4766-8725-8fa5ad176abb",
   "metadata": {},
   "outputs": [],
   "source": []
  }
 ],
 "metadata": {
  "kernelspec": {
   "display_name": "R",
   "language": "R",
   "name": "ir"
  },
  "language_info": {
   "codemirror_mode": "r",
   "file_extension": ".r",
   "mimetype": "text/x-r-source",
   "name": "R",
   "pygments_lexer": "r",
   "version": "4.1.3"
  }
 },
 "nbformat": 4,
 "nbformat_minor": 5
}
