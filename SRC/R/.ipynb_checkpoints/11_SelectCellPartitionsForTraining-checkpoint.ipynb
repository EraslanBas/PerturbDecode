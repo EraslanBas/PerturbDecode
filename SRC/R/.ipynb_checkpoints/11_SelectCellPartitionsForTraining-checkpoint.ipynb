{
 "cells": [
  {
   "cell_type": "code",
   "execution_count": 8,
   "metadata": {},
   "outputs": [],
   "source": [
    "source(\"Main.R\")\n",
    "source(\"Conf.R\")\n",
    "source(\"Utilities.R\")\n",
    "source(\"DAVID_query.R\")\n",
    "library(\"factoextra\")\n",
    "library(\"maptree\")\n",
    "library(repr)\n",
    "library(\"stringr\")"
   ]
  },
  {
   "cell_type": "code",
   "execution_count": 9,
   "metadata": {},
   "outputs": [],
   "source": [
    "covariateNames <- read.csv(\"/home/beraslan/jovian-work/analysisSingle/GroupInteractionsLMCovariates82GeneModules.csv\")\n",
    "genes <- as.data.frame(read.csv(\"/home/beraslan/jovian-work/analysisSingle/GroupInteractionsSelectedGenes82GeneModules.csv\"),stringsAsFactors = FALSE)\n",
    "guideMatrix <- as.data.frame(read.csv(\"/home/beraslan/jovian-work/analysisSingle/GroupInteractionsGuideMatrix.csv\"), stringsAsFactors = FALSE)\n"
   ]
  },
  {
   "cell_type": "code",
   "execution_count": 10,
   "metadata": {},
   "outputs": [],
   "source": [
    "rownames(guideMatrix) <- guideMatrix$X"
   ]
  },
  {
   "cell_type": "code",
   "execution_count": 11,
   "metadata": {},
   "outputs": [
    {
     "data": {
      "text/html": [
       "<table>\n",
       "<caption>A data.frame: 6 × 28</caption>\n",
       "<thead>\n",
       "\t<tr><th></th><th scope=col>G1</th><th scope=col>G2</th><th scope=col>G3</th><th scope=col>G4</th><th scope=col>G5</th><th scope=col>G6</th><th scope=col>G7</th><th scope=col>G1.G2</th><th scope=col>G1.G3</th><th scope=col>G1.G4</th><th scope=col>⋯</th><th scope=col>G3.G4</th><th scope=col>G3.G5</th><th scope=col>G3.G6</th><th scope=col>G3.G7</th><th scope=col>G4.G5</th><th scope=col>G4.G6</th><th scope=col>G4.G7</th><th scope=col>G5.G6</th><th scope=col>G5.G7</th><th scope=col>G6.G7</th></tr>\n",
       "\t<tr><th></th><th scope=col>&lt;dbl&gt;</th><th scope=col>&lt;dbl&gt;</th><th scope=col>&lt;dbl&gt;</th><th scope=col>&lt;dbl&gt;</th><th scope=col>&lt;dbl&gt;</th><th scope=col>&lt;dbl&gt;</th><th scope=col>&lt;dbl&gt;</th><th scope=col>&lt;dbl&gt;</th><th scope=col>&lt;dbl&gt;</th><th scope=col>&lt;dbl&gt;</th><th scope=col>⋯</th><th scope=col>&lt;dbl&gt;</th><th scope=col>&lt;dbl&gt;</th><th scope=col>&lt;dbl&gt;</th><th scope=col>&lt;dbl&gt;</th><th scope=col>&lt;dbl&gt;</th><th scope=col>&lt;dbl&gt;</th><th scope=col>&lt;dbl&gt;</th><th scope=col>&lt;dbl&gt;</th><th scope=col>&lt;dbl&gt;</th><th scope=col>&lt;dbl&gt;</th></tr>\n",
       "</thead>\n",
       "<tbody>\n",
       "\t<tr><th scope=row>AAACGAAAGCAGTCTT-1-E3-1-0</th><td>0</td><td>0</td><td>1</td><td>0</td><td>0</td><td>0</td><td>0</td><td>0</td><td>0</td><td>0</td><td>⋯</td><td>0</td><td>0</td><td>0</td><td>0</td><td>0</td><td>0</td><td>0</td><td>0</td><td>0</td><td>0</td></tr>\n",
       "\t<tr><th scope=row>AAACGAATCTCAACCC-1-E3-1-0</th><td>0</td><td>1</td><td>0</td><td>0</td><td>0</td><td>0</td><td>0</td><td>0</td><td>0</td><td>0</td><td>⋯</td><td>0</td><td>0</td><td>0</td><td>0</td><td>0</td><td>0</td><td>0</td><td>0</td><td>0</td><td>0</td></tr>\n",
       "\t<tr><th scope=row>AAACGCTAGTTGTAGA-1-E3-1-0</th><td>0</td><td>0</td><td>0</td><td>0</td><td>0</td><td>0</td><td>0</td><td>0</td><td>0</td><td>0</td><td>⋯</td><td>0</td><td>0</td><td>0</td><td>0</td><td>0</td><td>0</td><td>0</td><td>0</td><td>0</td><td>0</td></tr>\n",
       "\t<tr><th scope=row>AAACGCTCAAAGACGC-1-E3-1-0</th><td>1</td><td>0</td><td>0</td><td>0</td><td>0</td><td>0</td><td>0</td><td>0</td><td>0</td><td>0</td><td>⋯</td><td>0</td><td>0</td><td>0</td><td>0</td><td>0</td><td>0</td><td>0</td><td>0</td><td>0</td><td>0</td></tr>\n",
       "\t<tr><th scope=row>AAACGCTCAGTGTACT-1-E3-1-0</th><td>0</td><td>0</td><td>0</td><td>0</td><td>1</td><td>0</td><td>0</td><td>0</td><td>0</td><td>0</td><td>⋯</td><td>0</td><td>0</td><td>0</td><td>0</td><td>0</td><td>0</td><td>0</td><td>0</td><td>0</td><td>0</td></tr>\n",
       "\t<tr><th scope=row>AAAGAACAGCGAGTCA-1-E3-1-0</th><td>0</td><td>1</td><td>0</td><td>0</td><td>0</td><td>0</td><td>0</td><td>0</td><td>0</td><td>0</td><td>⋯</td><td>0</td><td>0</td><td>0</td><td>0</td><td>0</td><td>0</td><td>0</td><td>0</td><td>0</td><td>0</td></tr>\n",
       "</tbody>\n",
       "</table>\n"
      ],
      "text/latex": [
       "A data.frame: 6 × 28\n",
       "\\begin{tabular}{r|lllllllllllllllllllll}\n",
       "  & G1 & G2 & G3 & G4 & G5 & G6 & G7 & G1.G2 & G1.G3 & G1.G4 & ⋯ & G3.G4 & G3.G5 & G3.G6 & G3.G7 & G4.G5 & G4.G6 & G4.G7 & G5.G6 & G5.G7 & G6.G7\\\\\n",
       "  & <dbl> & <dbl> & <dbl> & <dbl> & <dbl> & <dbl> & <dbl> & <dbl> & <dbl> & <dbl> & ⋯ & <dbl> & <dbl> & <dbl> & <dbl> & <dbl> & <dbl> & <dbl> & <dbl> & <dbl> & <dbl>\\\\\n",
       "\\hline\n",
       "\tAAACGAAAGCAGTCTT-1-E3-1-0 & 0 & 0 & 1 & 0 & 0 & 0 & 0 & 0 & 0 & 0 & ⋯ & 0 & 0 & 0 & 0 & 0 & 0 & 0 & 0 & 0 & 0\\\\\n",
       "\tAAACGAATCTCAACCC-1-E3-1-0 & 0 & 1 & 0 & 0 & 0 & 0 & 0 & 0 & 0 & 0 & ⋯ & 0 & 0 & 0 & 0 & 0 & 0 & 0 & 0 & 0 & 0\\\\\n",
       "\tAAACGCTAGTTGTAGA-1-E3-1-0 & 0 & 0 & 0 & 0 & 0 & 0 & 0 & 0 & 0 & 0 & ⋯ & 0 & 0 & 0 & 0 & 0 & 0 & 0 & 0 & 0 & 0\\\\\n",
       "\tAAACGCTCAAAGACGC-1-E3-1-0 & 1 & 0 & 0 & 0 & 0 & 0 & 0 & 0 & 0 & 0 & ⋯ & 0 & 0 & 0 & 0 & 0 & 0 & 0 & 0 & 0 & 0\\\\\n",
       "\tAAACGCTCAGTGTACT-1-E3-1-0 & 0 & 0 & 0 & 0 & 1 & 0 & 0 & 0 & 0 & 0 & ⋯ & 0 & 0 & 0 & 0 & 0 & 0 & 0 & 0 & 0 & 0\\\\\n",
       "\tAAAGAACAGCGAGTCA-1-E3-1-0 & 0 & 1 & 0 & 0 & 0 & 0 & 0 & 0 & 0 & 0 & ⋯ & 0 & 0 & 0 & 0 & 0 & 0 & 0 & 0 & 0 & 0\\\\\n",
       "\\end{tabular}\n"
      ],
      "text/markdown": [
       "\n",
       "A data.frame: 6 × 28\n",
       "\n",
       "| <!--/--> | G1 &lt;dbl&gt; | G2 &lt;dbl&gt; | G3 &lt;dbl&gt; | G4 &lt;dbl&gt; | G5 &lt;dbl&gt; | G6 &lt;dbl&gt; | G7 &lt;dbl&gt; | G1.G2 &lt;dbl&gt; | G1.G3 &lt;dbl&gt; | G1.G4 &lt;dbl&gt; | ⋯ ⋯ | G3.G4 &lt;dbl&gt; | G3.G5 &lt;dbl&gt; | G3.G6 &lt;dbl&gt; | G3.G7 &lt;dbl&gt; | G4.G5 &lt;dbl&gt; | G4.G6 &lt;dbl&gt; | G4.G7 &lt;dbl&gt; | G5.G6 &lt;dbl&gt; | G5.G7 &lt;dbl&gt; | G6.G7 &lt;dbl&gt; |\n",
       "|---|---|---|---|---|---|---|---|---|---|---|---|---|---|---|---|---|---|---|---|---|---|\n",
       "| AAACGAAAGCAGTCTT-1-E3-1-0 | 0 | 0 | 1 | 0 | 0 | 0 | 0 | 0 | 0 | 0 | ⋯ | 0 | 0 | 0 | 0 | 0 | 0 | 0 | 0 | 0 | 0 |\n",
       "| AAACGAATCTCAACCC-1-E3-1-0 | 0 | 1 | 0 | 0 | 0 | 0 | 0 | 0 | 0 | 0 | ⋯ | 0 | 0 | 0 | 0 | 0 | 0 | 0 | 0 | 0 | 0 |\n",
       "| AAACGCTAGTTGTAGA-1-E3-1-0 | 0 | 0 | 0 | 0 | 0 | 0 | 0 | 0 | 0 | 0 | ⋯ | 0 | 0 | 0 | 0 | 0 | 0 | 0 | 0 | 0 | 0 |\n",
       "| AAACGCTCAAAGACGC-1-E3-1-0 | 1 | 0 | 0 | 0 | 0 | 0 | 0 | 0 | 0 | 0 | ⋯ | 0 | 0 | 0 | 0 | 0 | 0 | 0 | 0 | 0 | 0 |\n",
       "| AAACGCTCAGTGTACT-1-E3-1-0 | 0 | 0 | 0 | 0 | 1 | 0 | 0 | 0 | 0 | 0 | ⋯ | 0 | 0 | 0 | 0 | 0 | 0 | 0 | 0 | 0 | 0 |\n",
       "| AAAGAACAGCGAGTCA-1-E3-1-0 | 0 | 1 | 0 | 0 | 0 | 0 | 0 | 0 | 0 | 0 | ⋯ | 0 | 0 | 0 | 0 | 0 | 0 | 0 | 0 | 0 | 0 |\n",
       "\n"
      ],
      "text/plain": [
       "                          G1 G2 G3 G4 G5 G6 G7 G1.G2 G1.G3 G1.G4 ⋯ G3.G4 G3.G5\n",
       "AAACGAAAGCAGTCTT-1-E3-1-0 0  0  1  0  0  0  0  0     0     0     ⋯ 0     0    \n",
       "AAACGAATCTCAACCC-1-E3-1-0 0  1  0  0  0  0  0  0     0     0     ⋯ 0     0    \n",
       "AAACGCTAGTTGTAGA-1-E3-1-0 0  0  0  0  0  0  0  0     0     0     ⋯ 0     0    \n",
       "AAACGCTCAAAGACGC-1-E3-1-0 1  0  0  0  0  0  0  0     0     0     ⋯ 0     0    \n",
       "AAACGCTCAGTGTACT-1-E3-1-0 0  0  0  0  1  0  0  0     0     0     ⋯ 0     0    \n",
       "AAAGAACAGCGAGTCA-1-E3-1-0 0  1  0  0  0  0  0  0     0     0     ⋯ 0     0    \n",
       "                          G3.G6 G3.G7 G4.G5 G4.G6 G4.G7 G5.G6 G5.G7 G6.G7\n",
       "AAACGAAAGCAGTCTT-1-E3-1-0 0     0     0     0     0     0     0     0    \n",
       "AAACGAATCTCAACCC-1-E3-1-0 0     0     0     0     0     0     0     0    \n",
       "AAACGCTAGTTGTAGA-1-E3-1-0 0     0     0     0     0     0     0     0    \n",
       "AAACGCTCAAAGACGC-1-E3-1-0 0     0     0     0     0     0     0     0    \n",
       "AAACGCTCAGTGTACT-1-E3-1-0 0     0     0     0     0     0     0     0    \n",
       "AAAGAACAGCGAGTCA-1-E3-1-0 0     0     0     0     0     0     0     0    "
      ]
     },
     "metadata": {},
     "output_type": "display_data"
    }
   ],
   "source": [
    "koGroupNames = colnames(guideMatrix)[2:29]\n",
    "koMatrix = guideMatrix[,koGroupNames]\n",
    "head(koMatrix)"
   ]
  },
  {
   "cell_type": "code",
   "execution_count": 12,
   "metadata": {},
   "outputs": [],
   "source": [
    "koNo = rowSums(koMatrix)\n",
    "genes$X0 <- as.character(genes$X0)"
   ]
  },
  {
   "cell_type": "code",
   "execution_count": 13,
   "metadata": {},
   "outputs": [
    {
     "name": "stdout",
     "output_type": "stream",
     "text": [
      "[1] \"G1.G2\"\n",
      "[1] 662\n",
      "[1] \"G1.G3\"\n",
      "[1] 832\n",
      "[1] \"G1.G4\"\n",
      "[1] 533\n",
      "[1] \"G1.G5\"\n",
      "[1] 381\n",
      "[1] \"G1.G6\"\n",
      "[1] 171\n",
      "[1] \"G1.G7\"\n",
      "[1] 363\n",
      "[1] \"G2.G3\"\n",
      "[1] 1039\n",
      "[1] \"G2.G4\"\n",
      "[1] 561\n",
      "[1] \"G2.G5\"\n",
      "[1] 424\n",
      "[1] \"G2.G6\"\n",
      "[1] 224\n",
      "[1] \"G2.G7\"\n",
      "[1] 404\n",
      "[1] \"G3.G4\"\n",
      "[1] 652\n",
      "[1] \"G3.G5\"\n",
      "[1] 508\n",
      "[1] \"G3.G6\"\n",
      "[1] 247\n",
      "[1] \"G3.G7\"\n",
      "[1] 497\n",
      "[1] \"G4.G5\"\n",
      "[1] 311\n",
      "[1] \"G4.G6\"\n",
      "[1] 147\n",
      "[1] \"G4.G7\"\n",
      "[1] 266\n",
      "[1] \"G5.G6\"\n",
      "[1] 125\n",
      "[1] \"G5.G7\"\n",
      "[1] 245\n",
      "[1] \"G6.G7\"\n",
      "[1] 91\n"
     ]
    }
   ],
   "source": [
    "singleKOcells = c()\n",
    "\n",
    "for(elem in koGroupNames){\n",
    "    \n",
    "    if(elem %in% c(\"G1\",\"G2\",\"G3\",\"G4\",\"G5\",\"G6\",\"G7\")){\n",
    "        sellCells = rownames(koMatrix[(koMatrix[,elem] == 1 & koNo == 1),])\n",
    "        singleKOcells = c(singleKOcells, sellCells)\n",
    "        \n",
    "    }else{\n",
    "        sellCells = rownames(koMatrix[(koMatrix[,elem] == 1 & koNo == 3),])\n",
    "        print(elem)\n",
    "        nCells = length(sellCells)\n",
    "        print(nCells)\n",
    "        \n",
    "        onePerc = sample(1:nCells, round(nCells*0.01, digits = 0), replace=FALSE)\n",
    "        write.csv(sellCells[onePerc], paste0(\"/home/beraslan/jovian-work/analysisSingle/SelectCellsForTraining/\",elem,\"_1_Perc.csv\") , quote = F)\n",
    "        \n",
    "        twoPerc = sample(1:nCells, round(nCells*0.02, digits = 0), replace=FALSE)\n",
    "        write.csv(sellCells[twoPerc], paste0(\"/home/beraslan/jovian-work/analysisSingle/SelectCellsForTraining/\",elem,\"_2_Perc.csv\") , quote = F)\n",
    "\n",
    "        fourPerc = sample(1:nCells, round(nCells*0.04, digits = 0), replace=FALSE)\n",
    "        write.csv(sellCells[fourPerc], paste0(\"/home/beraslan/jovian-work/analysisSingle/SelectCellsForTraining/\",elem,\"_4_Perc.csv\") , quote = F)\n",
    "        \n",
    "        eightPerc = sample(1:nCells, round(nCells*0.08, digits = 0), replace=FALSE)\n",
    "        write.csv(sellCells[eightPerc], paste0(\"/home/beraslan/jovian-work/analysisSingle/SelectCellsForTraining/\",elem,\"_8_Perc.csv\") , quote = F)\n",
    "\n",
    "        sixteenPerc = sample(1:nCells, round(nCells*0.16, digits = 0), replace=FALSE)\n",
    "        write.csv(sellCells[sixteenPerc], paste0(\"/home/beraslan/jovian-work/analysisSingle/SelectCellsForTraining/\",elem,\"_16_Perc.csv\") , quote = F)\n",
    "\n",
    "        thirthytwoPerc = sample(1:nCells, round(nCells*0.32, digits = 0), replace=FALSE)\n",
    "        write.csv(sellCells[thirthytwoPerc], paste0(\"/home/beraslan/jovian-work/analysisSingle/SelectCellsForTraining/\",elem,\"_32_Perc.csv\") , quote = F)\n",
    "\n",
    "        fiftyPerc = sample(1:nCells, round(nCells*0.5, digits = 0), replace=FALSE)\n",
    "        write.csv(sellCells[fiftyPerc], paste0(\"/home/beraslan/jovian-work/analysisSingle/SelectCellsForTraining/\",elem,\"_50_Perc.csv\") , quote = F)\n",
    "\n",
    "\n",
    "        sixtyfourPerc = sample(1:nCells, round(nCells*0.64, digits = 0), replace=FALSE)\n",
    "        write.csv(sellCells[sixtyfourPerc], paste0(\"/home/beraslan/jovian-work/analysisSingle/SelectCellsForTraining/\",elem,\"_64_Perc.csv\") , quote = F)\n",
    "        \n",
    "        eightyPerc = sample(1:nCells, round(nCells*0.80, digits = 0), replace=FALSE)\n",
    "        write.csv(sellCells[eightyPerc], paste0(\"/home/beraslan/jovian-work/analysisSingle/SelectCellsForTraining/\",elem,\"_80_Perc.csv\") , quote = F)\n",
    "\n",
    "\n",
    "    }\n",
    "    \n",
    "    \n",
    "}"
   ]
  },
  {
   "cell_type": "code",
   "execution_count": null,
   "metadata": {},
   "outputs": [],
   "source": []
  }
 ],
 "metadata": {
  "kernelspec": {
   "display_name": "R",
   "language": "R",
   "name": "ir"
  },
  "language_info": {
   "codemirror_mode": "r",
   "file_extension": ".r",
   "mimetype": "text/x-r-source",
   "name": "R",
   "pygments_lexer": "r",
   "version": "3.6.3"
  }
 },
 "nbformat": 4,
 "nbformat_minor": 4
}
