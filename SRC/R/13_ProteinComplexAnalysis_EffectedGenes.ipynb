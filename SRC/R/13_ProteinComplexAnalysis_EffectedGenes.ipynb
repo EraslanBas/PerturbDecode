{
 "cells": [
  {
   "cell_type": "code",
   "execution_count": 1,
   "metadata": {
    "collapsed": true,
    "jupyter": {
     "outputs_hidden": true
    },
    "tags": []
   },
   "outputs": [
    {
     "name": "stderr",
     "output_type": "stream",
     "text": [
      "corrplot 0.84 loaded\n",
      "\n",
      "\n",
      "********************************************************\n",
      "\n",
      "Note: As of version 1.0.0, cowplot does not change the\n",
      "\n",
      "  default ggplot2 theme anymore. To recover the previous\n",
      "\n",
      "  behavior, execute:\n",
      "  theme_set(theme_cowplot())\n",
      "\n",
      "********************************************************\n",
      "\n",
      "\n",
      "\n",
      "Attaching package: ‘pls’\n",
      "\n",
      "\n",
      "The following object is masked from ‘package:corrplot’:\n",
      "\n",
      "    corrplot\n",
      "\n",
      "\n",
      "The following object is masked from ‘package:stats’:\n",
      "\n",
      "    loadings\n",
      "\n",
      "\n",
      "Loading required package: AnnotationDbi\n",
      "\n",
      "Loading required package: stats4\n",
      "\n",
      "Loading required package: BiocGenerics\n",
      "\n",
      "Loading required package: parallel\n",
      "\n",
      "\n",
      "Attaching package: ‘BiocGenerics’\n",
      "\n",
      "\n",
      "The following objects are masked from ‘package:parallel’:\n",
      "\n",
      "    clusterApply, clusterApplyLB, clusterCall, clusterEvalQ,\n",
      "    clusterExport, clusterMap, parApply, parCapply, parLapply,\n",
      "    parLapplyLB, parRapply, parSapply, parSapplyLB\n",
      "\n",
      "\n",
      "The following objects are masked from ‘package:stats’:\n",
      "\n",
      "    IQR, mad, sd, var, xtabs\n",
      "\n",
      "\n",
      "The following objects are masked from ‘package:base’:\n",
      "\n",
      "    anyDuplicated, append, as.data.frame, basename, cbind, colnames,\n",
      "    dirname, do.call, duplicated, eval, evalq, Filter, Find, get, grep,\n",
      "    grepl, intersect, is.unsorted, lapply, Map, mapply, match, mget,\n",
      "    order, paste, pmax, pmax.int, pmin, pmin.int, Position, rank,\n",
      "    rbind, Reduce, rownames, sapply, setdiff, sort, table, tapply,\n",
      "    union, unique, unsplit, which, which.max, which.min\n",
      "\n",
      "\n",
      "Loading required package: Biobase\n",
      "\n",
      "Welcome to Bioconductor\n",
      "\n",
      "    Vignettes contain introductory material; view with\n",
      "    'browseVignettes()'. To cite Bioconductor, see\n",
      "    'citation(\"Biobase\")', and for packages 'citation(\"pkgname\")'.\n",
      "\n",
      "\n",
      "Loading required package: IRanges\n",
      "\n",
      "Loading required package: S4Vectors\n",
      "\n",
      "\n",
      "Attaching package: ‘S4Vectors’\n",
      "\n",
      "\n",
      "The following object is masked from ‘package:base’:\n",
      "\n",
      "    expand.grid\n",
      "\n",
      "\n",
      "\n",
      "\n",
      "\n",
      "Attaching package: ‘data.table’\n",
      "\n",
      "\n",
      "The following object is masked from ‘package:IRanges’:\n",
      "\n",
      "    shift\n",
      "\n",
      "\n",
      "The following objects are masked from ‘package:S4Vectors’:\n",
      "\n",
      "    first, second\n",
      "\n",
      "\n",
      "\n",
      "Attaching package: ‘reshape2’\n",
      "\n",
      "\n",
      "The following objects are masked from ‘package:data.table’:\n",
      "\n",
      "    dcast, melt\n",
      "\n",
      "\n",
      "Welcome! Want to learn more? See two factoextra-related books at https://goo.gl/ve3WBa\n",
      "\n",
      "Loading required package: cluster\n",
      "\n",
      "Loading required package: rpart\n",
      "\n"
     ]
    }
   ],
   "source": [
    "source(\"Main.R\")\n",
    "source(\"Conf.R\")\n",
    "source(\"Utilities.R\")\n",
    "source(\"DAVID_query.R\")\n",
    "library(\"factoextra\")\n",
    "library(\"maptree\")\n",
    "library(repr)\n"
   ]
  },
  {
   "cell_type": "code",
   "execution_count": 2,
   "metadata": {},
   "outputs": [],
   "source": [
    "proComp <- data.frame(fread(\"/home/beraslan/jovian-work/analysisSingle/R/allComplexes.txt\"), stringsAsFactors = F)\n",
    "proComp <- proComp[proComp$Organism == \"Mouse\",]"
   ]
  },
  {
   "cell_type": "code",
   "execution_count": 3,
   "metadata": {},
   "outputs": [],
   "source": [
    "ProteinComplexes=list()\n",
    "\n",
    "for(i in 1:nrow(proComp)){\n",
    "  ProteinComplexes <- lappend(ProteinComplexes, strsplit(as.character(proComp[i,\"subunits.Gene.name.\"]) , \";\")[[1]])\n",
    "}\n",
    "names(ProteinComplexes) <- proComp$ComplexName\n",
    "ProteinComplexes <- ProteinComplexes[!duplicated(names(ProteinComplexes))]\n"
   ]
  },
  {
   "cell_type": "code",
   "execution_count": 4,
   "metadata": {},
   "outputs": [],
   "source": [
    "testSignOfKOOnProComp <- function(KOEffectedGenes, ProCompGenes, Universe, KOGene, ProComplex, allTests){\n",
    "    \n",
    "    if(length(ProCompGenes[ProCompGenes %in% KOEffectedGenes]) > 1){\n",
    "        myDF = data.frame(koGenes = c(length(KOEffectedGenes[KOEffectedGenes %in% ProCompGenes]), length(ProCompGenes[ProCompGenes %ni% KOEffectedGenes])),\n",
    "              restNo = c( length(KOEffectedGenes[KOEffectedGenes %ni% ProCompGenes]), length(Universe[Universe %ni% unique(c(KOEffectedGenes, ProCompGenes))])))\n",
    "\n",
    "        testRes_g <- fisher.test(x= myDF, alternative = \"greater\")\n",
    "        return(c(KOGene, ProComplex, testRes_g$p.value))\n",
    "    }else{\n",
    "        return(c(KOGene, ProComplex, 1))\n",
    "    }\n",
    "\n",
    "}"
   ]
  },
  {
   "cell_type": "code",
   "execution_count": 5,
   "metadata": {},
   "outputs": [],
   "source": [
    "coefsAll <- read.csv(\"/home/beraslan/jovian-work/analysisSingle/MixedEffectLMOutputs/ME_LMBetaCoefsALL.csv\", row.names = 1)\n",
    "pValsAll <- read.csv(\"/home/beraslan/jovian-work/analysisSingle/MixedEffectLMOutputs/ME_LMPValuesALL.csv\", row.names = 1)\n",
    "pValsAllAdj <- sapply(pValsAll, function(x){p.adjust(x, method = \"fdr\", n = length(x))})\n",
    "rownames(pValsAllAdj) <- rownames(pValsAll)\n",
    "coefsAll[pValsAllAdj > 0.1] = 0"
   ]
  },
  {
   "cell_type": "code",
   "execution_count": 6,
   "metadata": {},
   "outputs": [],
   "source": [
    "coefsAllSign <-  read.csv(\"/home/beraslan/jovian-work/analysisSingle/MixedEffectLMOutputs/ME_SignificantBetaCoefs.csv\", row.names = 1)"
   ]
  },
  {
   "cell_type": "code",
   "execution_count": 7,
   "metadata": {},
   "outputs": [],
   "source": [
    "coefsAll <- coefsAll[rownames(coefsAllSign),]"
   ]
  },
  {
   "cell_type": "code",
   "execution_count": 8,
   "metadata": {},
   "outputs": [
    {
     "data": {
      "text/html": [
       "<style>\n",
       ".list-inline {list-style: none; margin:0; padding: 0}\n",
       ".list-inline>li {display: inline-block}\n",
       ".list-inline>li:not(:last-child)::after {content: \"\\00b7\"; padding: 0 .5ex}\n",
       "</style>\n",
       "<ol class=list-inline><li>329</li><li>6685</li></ol>\n"
      ],
      "text/latex": [
       "\\begin{enumerate*}\n",
       "\\item 329\n",
       "\\item 6685\n",
       "\\end{enumerate*}\n"
      ],
      "text/markdown": [
       "1. 329\n",
       "2. 6685\n",
       "\n",
       "\n"
      ],
      "text/plain": [
       "[1]  329 6685"
      ]
     },
     "metadata": {},
     "output_type": "display_data"
    }
   ],
   "source": [
    "dim(coefsAll)"
   ]
  },
  {
   "cell_type": "code",
   "execution_count": 9,
   "metadata": {},
   "outputs": [],
   "source": [
    "k <- apply(coefsAll, 1, function(x){colnames(coefsAll)[which(x != 0)]})\n"
   ]
  },
  {
   "cell_type": "code",
   "execution_count": 10,
   "metadata": {},
   "outputs": [],
   "source": [
    "names(k) <- sapply(names(k), function(x){strsplit(x,\"_\")[[1]][2]})"
   ]
  },
  {
   "cell_type": "code",
   "execution_count": 14,
   "metadata": {},
   "outputs": [
    {
     "data": {
      "text/html": [
       "<table>\n",
       "<caption>A data.frame: 1 × 273</caption>\n",
       "<thead>\n",
       "\t<tr><th></th><th scope=col>Rpl7</th><th scope=col>Cox5b</th><th scope=col>Rpl31</th><th scope=col>Rnf149</th><th scope=col>Eef1b2</th><th scope=col>Rpl37a</th><th scope=col>Ptma</th><th scope=col>St8sia4</th><th scope=col>Serpinb2</th><th scope=col>Dbi</th><th scope=col>⋯</th><th scope=col>Fau</th><th scope=col>Ppp1r14b</th><th scope=col>Cox8a</th><th scope=col>Eef1g</th><th scope=col>Fth1</th><th scope=col>Cd274</th><th scope=col>Pten</th><th scope=col>Scd2</th><th scope=col>Usmg5</th><th scope=col>Shoc2</th></tr>\n",
       "\t<tr><th></th><th scope=col>&lt;dbl&gt;</th><th scope=col>&lt;dbl&gt;</th><th scope=col>&lt;dbl&gt;</th><th scope=col>&lt;dbl&gt;</th><th scope=col>&lt;dbl&gt;</th><th scope=col>&lt;dbl&gt;</th><th scope=col>&lt;dbl&gt;</th><th scope=col>&lt;dbl&gt;</th><th scope=col>&lt;dbl&gt;</th><th scope=col>&lt;dbl&gt;</th><th scope=col>⋯</th><th scope=col>&lt;dbl&gt;</th><th scope=col>&lt;dbl&gt;</th><th scope=col>&lt;dbl&gt;</th><th scope=col>&lt;dbl&gt;</th><th scope=col>&lt;dbl&gt;</th><th scope=col>&lt;dbl&gt;</th><th scope=col>&lt;dbl&gt;</th><th scope=col>&lt;dbl&gt;</th><th scope=col>&lt;dbl&gt;</th><th scope=col>&lt;dbl&gt;</th></tr>\n",
       "</thead>\n",
       "<tbody>\n",
       "\t<tr><th scope=row>GENE_Rack1_</th><td>-0.397</td><td>-0.381</td><td>-0.247</td><td>0.259</td><td>-0.291</td><td>-0.487</td><td>-0.241</td><td>0.229</td><td>0.261</td><td>-0.253</td><td>⋯</td><td>-0.29</td><td>-0.261</td><td>-0.418</td><td>-0.359</td><td>0.138</td><td>0.248</td><td>0.255</td><td>-0.242</td><td>-0.296</td><td>0.256</td></tr>\n",
       "</tbody>\n",
       "</table>\n"
      ],
      "text/latex": [
       "A data.frame: 1 × 273\n",
       "\\begin{tabular}{r|lllllllllllllllllllll}\n",
       "  & Rpl7 & Cox5b & Rpl31 & Rnf149 & Eef1b2 & Rpl37a & Ptma & St8sia4 & Serpinb2 & Dbi & ⋯ & Fau & Ppp1r14b & Cox8a & Eef1g & Fth1 & Cd274 & Pten & Scd2 & Usmg5 & Shoc2\\\\\n",
       "  & <dbl> & <dbl> & <dbl> & <dbl> & <dbl> & <dbl> & <dbl> & <dbl> & <dbl> & <dbl> & ⋯ & <dbl> & <dbl> & <dbl> & <dbl> & <dbl> & <dbl> & <dbl> & <dbl> & <dbl> & <dbl>\\\\\n",
       "\\hline\n",
       "\tGENE\\_Rack1\\_ & -0.397 & -0.381 & -0.247 & 0.259 & -0.291 & -0.487 & -0.241 & 0.229 & 0.261 & -0.253 & ⋯ & -0.29 & -0.261 & -0.418 & -0.359 & 0.138 & 0.248 & 0.255 & -0.242 & -0.296 & 0.256\\\\\n",
       "\\end{tabular}\n"
      ],
      "text/markdown": [
       "\n",
       "A data.frame: 1 × 273\n",
       "\n",
       "| <!--/--> | Rpl7 &lt;dbl&gt; | Cox5b &lt;dbl&gt; | Rpl31 &lt;dbl&gt; | Rnf149 &lt;dbl&gt; | Eef1b2 &lt;dbl&gt; | Rpl37a &lt;dbl&gt; | Ptma &lt;dbl&gt; | St8sia4 &lt;dbl&gt; | Serpinb2 &lt;dbl&gt; | Dbi &lt;dbl&gt; | ⋯ ⋯ | Fau &lt;dbl&gt; | Ppp1r14b &lt;dbl&gt; | Cox8a &lt;dbl&gt; | Eef1g &lt;dbl&gt; | Fth1 &lt;dbl&gt; | Cd274 &lt;dbl&gt; | Pten &lt;dbl&gt; | Scd2 &lt;dbl&gt; | Usmg5 &lt;dbl&gt; | Shoc2 &lt;dbl&gt; |\n",
       "|---|---|---|---|---|---|---|---|---|---|---|---|---|---|---|---|---|---|---|---|---|---|\n",
       "| GENE_Rack1_ | -0.397 | -0.381 | -0.247 | 0.259 | -0.291 | -0.487 | -0.241 | 0.229 | 0.261 | -0.253 | ⋯ | -0.29 | -0.261 | -0.418 | -0.359 | 0.138 | 0.248 | 0.255 | -0.242 | -0.296 | 0.256 |\n",
       "\n"
      ],
      "text/plain": [
       "            Rpl7   Cox5b  Rpl31  Rnf149 Eef1b2 Rpl37a Ptma   St8sia4 Serpinb2\n",
       "GENE_Rack1_ -0.397 -0.381 -0.247 0.259  -0.291 -0.487 -0.241 0.229   0.261   \n",
       "            Dbi    ⋯ Fau   Ppp1r14b Cox8a  Eef1g  Fth1  Cd274 Pten  Scd2  \n",
       "GENE_Rack1_ -0.253 ⋯ -0.29 -0.261   -0.418 -0.359 0.138 0.248 0.255 -0.242\n",
       "            Usmg5  Shoc2\n",
       "GENE_Rack1_ -0.296 0.256"
      ]
     },
     "metadata": {},
     "output_type": "display_data"
    }
   ],
   "source": [
    "coefsAll[\"GENE_Rack1_\", k[[\"Rack1\"]]]"
   ]
  },
  {
   "cell_type": "code",
   "execution_count": null,
   "metadata": {},
   "outputs": [],
   "source": [
    "allTests = list()\n",
    "for(i in 1:length(k)){\n",
    "    for(j in 1:length(ProteinComplexes)){\n",
    "        allTests <- lappend(allTests, testSignOfKOOnProComp(KOEffectedGenes=k[[i]],\n",
    "                                          ProCompGenes=ProteinComplexes[[j]],\n",
    "                                          Universe=colnames(coefsAll),\n",
    "                                          KOGene=names(k)[i],\n",
    "                                          ProComplex=names(ProteinComplexes)[j],\n",
    "                                          allTests = allTests))\n",
    "    }\n",
    "}    "
   ]
  },
  {
   "cell_type": "code",
   "execution_count": null,
   "metadata": {},
   "outputs": [],
   "source": [
    "allTests <- data.frame(do.call(rbind, allTests), stringsAsFactors = FALSE)"
   ]
  },
  {
   "cell_type": "code",
   "execution_count": null,
   "metadata": {},
   "outputs": [],
   "source": [
    "colnames(allTests) = c(\"KOGene\", \"ProComplex\", \"Pval\")"
   ]
  },
  {
   "cell_type": "code",
   "execution_count": null,
   "metadata": {},
   "outputs": [],
   "source": [
    "allTests <- allTests[allTests$Pval < 0.1,]"
   ]
  },
  {
   "cell_type": "code",
   "execution_count": null,
   "metadata": {},
   "outputs": [],
   "source": [
    "length(unique(allTests$ProComplex))"
   ]
  },
  {
   "cell_type": "code",
   "execution_count": null,
   "metadata": {},
   "outputs": [],
   "source": [
    "dim(allTests)"
   ]
  },
  {
   "cell_type": "code",
   "execution_count": null,
   "metadata": {},
   "outputs": [],
   "source": [
    "allTestsSplit <- split(allTests, f = allTests$ProComplex)"
   ]
  },
  {
   "cell_type": "code",
   "execution_count": null,
   "metadata": {},
   "outputs": [],
   "source": [
    "myRes <- sapply(allTestsSplit, function(x){return(paste(unique(x[,\"KOGene\"]), collapse = \", \"))})"
   ]
  },
  {
   "cell_type": "code",
   "execution_count": null,
   "metadata": {},
   "outputs": [],
   "source": [
    "myRes"
   ]
  },
  {
   "cell_type": "code",
   "execution_count": null,
   "metadata": {},
   "outputs": [],
   "source": [
    "myRes"
   ]
  },
  {
   "cell_type": "code",
   "execution_count": null,
   "metadata": {},
   "outputs": [],
   "source": [
    "head(allTests)"
   ]
  },
  {
   "cell_type": "code",
   "execution_count": null,
   "metadata": {},
   "outputs": [],
   "source": [
    "myResMat = matrix(0, ncol = length(unique(allTests$KOGene)), nrow = length(unique(allTests$ProComplex)))"
   ]
  },
  {
   "cell_type": "code",
   "execution_count": null,
   "metadata": {},
   "outputs": [],
   "source": [
    "dim(myResMat)"
   ]
  },
  {
   "cell_type": "code",
   "execution_count": null,
   "metadata": {},
   "outputs": [],
   "source": [
    "colnames(myResMat) = unique(allTests$KOGene)\n",
    "rownames(myResMat) = unique(allTests$ProComplex)"
   ]
  },
  {
   "cell_type": "code",
   "execution_count": null,
   "metadata": {},
   "outputs": [],
   "source": [
    "myResMat = data.frame(myResMat)"
   ]
  },
  {
   "cell_type": "code",
   "execution_count": null,
   "metadata": {},
   "outputs": [],
   "source": [
    "for( i in 1:nrow(allTests)){\n",
    "    myResMat[allTests[i,\"ProComplex\"], allTests[i,\"KOGene\"]] = 1\n",
    "}"
   ]
  },
  {
   "cell_type": "code",
   "execution_count": null,
   "metadata": {},
   "outputs": [],
   "source": [
    "guideModulesN <- data.frame(read.csv(\"/home/beraslan/jovian-work/analysisSingle/ME_GuideModules_leiden_6_Modules.csv\"),  row.names = 1)\n",
    "rownames(guideModulesN) <- guideModulesN$GuideName \n",
    "guideModulesN$GuideName <- NULL\n",
    "guideModulesN$GuideGroup <- factor(guideModulesN$GuideGroup)"
   ]
  },
  {
   "cell_type": "code",
   "execution_count": null,
   "metadata": {},
   "outputs": [],
   "source": [
    "guideModulesN$GuideGroup <- paste0(\"KOGroup_\", guideModulesN$GuideGroup)\n",
    "head(guideModulesN)"
   ]
  },
  {
   "cell_type": "code",
   "execution_count": null,
   "metadata": {},
   "outputs": [],
   "source": [
    "guideModulesN$GuideColor <- NULL"
   ]
  },
  {
   "cell_type": "code",
   "execution_count": null,
   "metadata": {},
   "outputs": [],
   "source": [
    "head(guideModulesN)"
   ]
  },
  {
   "cell_type": "code",
   "execution_count": null,
   "metadata": {},
   "outputs": [],
   "source": [
    "annoCols<-list( GuideGroup=c(KOGroup_0=\"#1f77b4\", KOGroup_1=\"#ff7f0e\", KOGroup_2=\"#279e68\", KOGroup_3=\"#d62728\", KOGroup_4=\"#aa40fc\", KOGroup_5=\"#8c564b\"))\n",
    "  "
   ]
  },
  {
   "cell_type": "code",
   "execution_count": null,
   "metadata": {},
   "outputs": [],
   "source": [
    "head(myResMat)"
   ]
  },
  {
   "cell_type": "code",
   "execution_count": null,
   "metadata": {},
   "outputs": [],
   "source": [
    "options(repr.plot.width=25, repr.plot.height=10)\n",
    "pheatmap(myResMat, clustering_method=\"ward.D2\", treeheight_col = 0, treeheight_row = 0, color = c(\"lightgrey\", \"red\"),  annotation_colors = annoCols, annotation_col = guideModulesN)"
   ]
  },
  {
   "cell_type": "code",
   "execution_count": null,
   "metadata": {},
   "outputs": [],
   "source": [
    "KOEffectedGenes[KOEffectedGenes %ni% ProCompGenes]"
   ]
  },
  {
   "cell_type": "code",
   "execution_count": null,
   "metadata": {},
   "outputs": [],
   "source": [
    "length(ProCompGenes[ProCompGenes %ni% KOEffectedGenes])"
   ]
  },
  {
   "cell_type": "code",
   "execution_count": null,
   "metadata": {},
   "outputs": [],
   "source": [
    "unique(c(KOEffectedGenes, ProCompGenes))"
   ]
  },
  {
   "cell_type": "code",
   "execution_count": null,
   "metadata": {},
   "outputs": [],
   "source": [
    "length(universe[universe %ni% unique(c(KOEffectedGenes, ProCompGenes))])"
   ]
  },
  {
   "cell_type": "code",
   "execution_count": null,
   "metadata": {},
   "outputs": [],
   "source": []
  }
 ],
 "metadata": {
  "kernelspec": {
   "display_name": "R",
   "language": "R",
   "name": "ir"
  },
  "language_info": {
   "codemirror_mode": "r",
   "file_extension": ".r",
   "mimetype": "text/x-r-source",
   "name": "R",
   "pygments_lexer": "r",
   "version": "3.6.3"
  }
 },
 "nbformat": 4,
 "nbformat_minor": 4
}
