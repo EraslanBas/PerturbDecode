{
 "cells": [
  {
   "cell_type": "code",
   "execution_count": 1,
   "metadata": {
    "collapsed": true,
    "jupyter": {
     "outputs_hidden": true
    }
   },
   "outputs": [
    {
     "name": "stderr",
     "output_type": "stream",
     "text": [
      "corrplot 0.84 loaded\n",
      "\n",
      "\n",
      "********************************************************\n",
      "\n",
      "Note: As of version 1.0.0, cowplot does not change the\n",
      "\n",
      "  default ggplot2 theme anymore. To recover the previous\n",
      "\n",
      "  behavior, execute:\n",
      "  theme_set(theme_cowplot())\n",
      "\n",
      "********************************************************\n",
      "\n",
      "\n",
      "\n",
      "Attaching package: ‘pls’\n",
      "\n",
      "\n",
      "The following object is masked from ‘package:corrplot’:\n",
      "\n",
      "    corrplot\n",
      "\n",
      "\n",
      "The following object is masked from ‘package:stats’:\n",
      "\n",
      "    loadings\n",
      "\n",
      "\n",
      "Loading required package: AnnotationDbi\n",
      "\n",
      "Loading required package: stats4\n",
      "\n",
      "Loading required package: BiocGenerics\n",
      "\n",
      "Loading required package: parallel\n",
      "\n",
      "\n",
      "Attaching package: ‘BiocGenerics’\n",
      "\n",
      "\n",
      "The following objects are masked from ‘package:parallel’:\n",
      "\n",
      "    clusterApply, clusterApplyLB, clusterCall, clusterEvalQ,\n",
      "    clusterExport, clusterMap, parApply, parCapply, parLapply,\n",
      "    parLapplyLB, parRapply, parSapply, parSapplyLB\n",
      "\n",
      "\n",
      "The following objects are masked from ‘package:stats’:\n",
      "\n",
      "    IQR, mad, sd, var, xtabs\n",
      "\n",
      "\n",
      "The following objects are masked from ‘package:base’:\n",
      "\n",
      "    anyDuplicated, append, as.data.frame, basename, cbind, colnames,\n",
      "    dirname, do.call, duplicated, eval, evalq, Filter, Find, get, grep,\n",
      "    grepl, intersect, is.unsorted, lapply, Map, mapply, match, mget,\n",
      "    order, paste, pmax, pmax.int, pmin, pmin.int, Position, rank,\n",
      "    rbind, Reduce, rownames, sapply, setdiff, sort, table, tapply,\n",
      "    union, unique, unsplit, which, which.max, which.min\n",
      "\n",
      "\n",
      "Loading required package: Biobase\n",
      "\n",
      "Welcome to Bioconductor\n",
      "\n",
      "    Vignettes contain introductory material; view with\n",
      "    'browseVignettes()'. To cite Bioconductor, see\n",
      "    'citation(\"Biobase\")', and for packages 'citation(\"pkgname\")'.\n",
      "\n",
      "\n",
      "Loading required package: IRanges\n",
      "\n",
      "Loading required package: S4Vectors\n",
      "\n",
      "\n",
      "Attaching package: ‘S4Vectors’\n",
      "\n",
      "\n",
      "The following object is masked from ‘package:base’:\n",
      "\n",
      "    expand.grid\n",
      "\n",
      "\n",
      "\n",
      "\n",
      "\n",
      "Attaching package: ‘data.table’\n",
      "\n",
      "\n",
      "The following object is masked from ‘package:IRanges’:\n",
      "\n",
      "    shift\n",
      "\n",
      "\n",
      "The following objects are masked from ‘package:S4Vectors’:\n",
      "\n",
      "    first, second\n",
      "\n",
      "\n",
      "\n",
      "Attaching package: ‘reshape2’\n",
      "\n",
      "\n",
      "The following objects are masked from ‘package:data.table’:\n",
      "\n",
      "    dcast, melt\n",
      "\n",
      "\n",
      "Welcome! Want to learn more? See two factoextra-related books at https://goo.gl/ve3WBa\n",
      "\n",
      "Loading required package: cluster\n",
      "\n",
      "Loading required package: rpart\n",
      "\n"
     ]
    }
   ],
   "source": [
    "source(\"Main.R\")\n",
    "source(\"Conf.R\")\n",
    "source(\"Utilities.R\")\n",
    "source(\"DAVID_query.R\")\n",
    "library(\"factoextra\")\n",
    "library(\"maptree\")\n",
    "library(repr)\n"
   ]
  },
  {
   "cell_type": "code",
   "execution_count": 2,
   "metadata": {},
   "outputs": [
    {
     "data": {
      "text/html": [
       "'/home/beraslan/jovian-work/analysisSingle/R'"
      ],
      "text/latex": [
       "'/home/beraslan/jovian-work/analysisSingle/R'"
      ],
      "text/markdown": [
       "'/home/beraslan/jovian-work/analysisSingle/R'"
      ],
      "text/plain": [
       "[1] \"/home/beraslan/jovian-work/analysisSingle/R\""
      ]
     },
     "metadata": {},
     "output_type": "display_data"
    }
   ],
   "source": [
    "getwd()"
   ]
  },
  {
   "cell_type": "code",
   "execution_count": 3,
   "metadata": {},
   "outputs": [],
   "source": [
    "pvalsAllM <- data.frame()\n",
    "coefsAllM <- data.frame()\n",
    "for(i in 1:4){\n",
    "    pValsAll <- read.csv(paste0(\"/home/beraslan/jovian-work/analysisSingle//pvalues_\",0,\"_\",(0+80),\"_Control_MixedEffect_100_\",i,\".csv\" ))\n",
    "    rownames(pValsAll) <- pValsAll$X\n",
    "    pValsAll$X <- NULL\n",
    "\n",
    "    coefsAll <- read.csv(paste0(\"/home/beraslan/jovian-work/analysisSingle//coefs_\",0,\"_\",(0+80),\"_Control_MixedEffec_100_\",i,\".csv\" ))\n",
    "    rownames(coefsAll) <- coefsAll$X\n",
    "    coefsAll$X <- NULL\n",
    "\n",
    "    for(elem in seq(80, 6560, 80)){\n",
    "        pVals <- read.csv(paste0(\"/home/beraslan/jovian-work/analysisSingle//pvalues_\",elem,\"_\",(elem+80),\"_Control_MixedEffect_100_\",i,\".csv\" ))\n",
    "        pVals$X <- NULL\n",
    "        pValsAll <- cbind(pValsAll, pVals)\n",
    "\n",
    "        coefs <- read.csv(paste0(\"/home/beraslan/jovian-work/analysisSingle//coefs_\",elem,\"_\",(elem+80),\"_Control_MixedEffec_100_\",i,\".csv\" ))\n",
    "        coefs$X <- NULL\n",
    "        coefsAll <- cbind(coefsAll, coefs)\n",
    "    }\n",
    "\n",
    "    pValsAll <- pValsAll[grepl(\"GENE_RandomControl_\", rownames(pValsAll)),]\n",
    "    coefsAll <- coefsAll[grepl(\"GENE_RandomControl_\", rownames(coefsAll)),]\n",
    "    \n",
    "    pvalsAllM <- rbind(pvalsAllM, pValsAll)\n",
    "    coefsAllM <- rbind(coefsAllM, coefsAll)\n",
    "    \n",
    "}\n",
    "\n",
    "    "
   ]
  },
  {
   "cell_type": "code",
   "execution_count": 4,
   "metadata": {},
   "outputs": [
    {
     "data": {
      "text/html": [
       "<style>\n",
       ".list-inline {list-style: none; margin:0; padding: 0}\n",
       ".list-inline>li {display: inline-block}\n",
       ".list-inline>li:not(:last-child)::after {content: \"\\00b7\"; padding: 0 .5ex}\n",
       "</style>\n",
       "<ol class=list-inline><li>400</li><li>6640</li></ol>\n"
      ],
      "text/latex": [
       "\\begin{enumerate*}\n",
       "\\item 400\n",
       "\\item 6640\n",
       "\\end{enumerate*}\n"
      ],
      "text/markdown": [
       "1. 400\n",
       "2. 6640\n",
       "\n",
       "\n"
      ],
      "text/plain": [
       "[1]  400 6640"
      ]
     },
     "metadata": {},
     "output_type": "display_data"
    }
   ],
   "source": [
    "dim(coefsAllM)"
   ]
  },
  {
   "cell_type": "code",
   "execution_count": 5,
   "metadata": {},
   "outputs": [
    {
     "data": {
      "text/html": [
       "<table>\n",
       "<caption>A data.frame: 6 × 6640</caption>\n",
       "<thead>\n",
       "\t<tr><th></th><th scope=col>X0</th><th scope=col>X1</th><th scope=col>X2</th><th scope=col>X3</th><th scope=col>X4</th><th scope=col>X5</th><th scope=col>X6</th><th scope=col>X7</th><th scope=col>X8</th><th scope=col>X9</th><th scope=col>⋯</th><th scope=col>X6630</th><th scope=col>X6631</th><th scope=col>X6632</th><th scope=col>X6633</th><th scope=col>X6634</th><th scope=col>X6635</th><th scope=col>X6636</th><th scope=col>X6637</th><th scope=col>X6638</th><th scope=col>X6639</th></tr>\n",
       "\t<tr><th></th><th scope=col>&lt;dbl&gt;</th><th scope=col>&lt;dbl&gt;</th><th scope=col>&lt;dbl&gt;</th><th scope=col>&lt;dbl&gt;</th><th scope=col>&lt;dbl&gt;</th><th scope=col>&lt;dbl&gt;</th><th scope=col>&lt;dbl&gt;</th><th scope=col>&lt;dbl&gt;</th><th scope=col>&lt;dbl&gt;</th><th scope=col>&lt;dbl&gt;</th><th scope=col>⋯</th><th scope=col>&lt;dbl&gt;</th><th scope=col>&lt;dbl&gt;</th><th scope=col>&lt;dbl&gt;</th><th scope=col>&lt;dbl&gt;</th><th scope=col>&lt;dbl&gt;</th><th scope=col>&lt;dbl&gt;</th><th scope=col>&lt;dbl&gt;</th><th scope=col>&lt;dbl&gt;</th><th scope=col>&lt;dbl&gt;</th><th scope=col>&lt;dbl&gt;</th></tr>\n",
       "</thead>\n",
       "<tbody>\n",
       "\t<tr><th scope=row>GENE_RandomControl_0</th><td> 0.118</td><td> 0.011</td><td> 0.084</td><td>-0.028</td><td> 0.075</td><td> 0.016</td><td>-0.118</td><td>-0.026</td><td>-0.154</td><td>-0.030</td><td>⋯</td><td>-0.010</td><td> 0.121</td><td> 0.050</td><td>-0.001</td><td>-0.087</td><td> 0.011</td><td>-0.017</td><td>-0.122</td><td> 0.004</td><td>-0.089</td></tr>\n",
       "\t<tr><th scope=row>GENE_RandomControl_1</th><td> 0.021</td><td> 0.062</td><td>-0.048</td><td> 0.029</td><td> 0.019</td><td> 0.026</td><td>-0.130</td><td>-0.072</td><td>-0.004</td><td> 0.062</td><td>⋯</td><td>-0.140</td><td>-0.121</td><td>-0.011</td><td>-0.094</td><td> 0.021</td><td> 0.033</td><td>-0.005</td><td>-0.101</td><td>-0.038</td><td> 0.057</td></tr>\n",
       "\t<tr><th scope=row>GENE_RandomControl_2</th><td>-0.121</td><td>-0.087</td><td> 0.033</td><td> 0.115</td><td>-0.086</td><td>-0.074</td><td>-0.098</td><td>-0.028</td><td> 0.032</td><td> 0.032</td><td>⋯</td><td> 0.041</td><td> 0.003</td><td>-0.049</td><td>-0.093</td><td>-0.023</td><td>-0.067</td><td> 0.016</td><td>-0.020</td><td> 0.034</td><td>-0.075</td></tr>\n",
       "\t<tr><th scope=row>GENE_RandomControl_3</th><td>-0.021</td><td> 0.105</td><td> 0.057</td><td>-0.055</td><td>-0.015</td><td> 0.097</td><td>-0.143</td><td>-0.087</td><td>-0.015</td><td> 0.101</td><td>⋯</td><td> 0.025</td><td>-0.040</td><td> 0.001</td><td>-0.122</td><td>-0.064</td><td>-0.011</td><td>-0.023</td><td>-0.015</td><td> 0.028</td><td>-0.026</td></tr>\n",
       "\t<tr><th scope=row>GENE_RandomControl_4</th><td> 0.002</td><td> 0.018</td><td> 0.046</td><td>-0.094</td><td>-0.014</td><td>-0.090</td><td> 0.021</td><td> 0.007</td><td>-0.009</td><td>-0.041</td><td>⋯</td><td>-0.009</td><td> 0.026</td><td>-0.095</td><td> 0.044</td><td> 0.122</td><td>-0.082</td><td>-0.063</td><td>-0.016</td><td>-0.017</td><td>-0.055</td></tr>\n",
       "\t<tr><th scope=row>GENE_RandomControl_5</th><td> 0.051</td><td>-0.086</td><td>-0.073</td><td>-0.018</td><td> 0.144</td><td>-0.009</td><td>-0.089</td><td>-0.014</td><td>-0.002</td><td> 0.107</td><td>⋯</td><td> 0.095</td><td>-0.155</td><td>-0.026</td><td>-0.086</td><td> 0.000</td><td>-0.030</td><td>-0.068</td><td>-0.136</td><td>-0.007</td><td>-0.077</td></tr>\n",
       "</tbody>\n",
       "</table>\n"
      ],
      "text/latex": [
       "A data.frame: 6 × 6640\n",
       "\\begin{tabular}{r|lllllllllllllllllllll}\n",
       "  & X0 & X1 & X2 & X3 & X4 & X5 & X6 & X7 & X8 & X9 & ⋯ & X6630 & X6631 & X6632 & X6633 & X6634 & X6635 & X6636 & X6637 & X6638 & X6639\\\\\n",
       "  & <dbl> & <dbl> & <dbl> & <dbl> & <dbl> & <dbl> & <dbl> & <dbl> & <dbl> & <dbl> & ⋯ & <dbl> & <dbl> & <dbl> & <dbl> & <dbl> & <dbl> & <dbl> & <dbl> & <dbl> & <dbl>\\\\\n",
       "\\hline\n",
       "\tGENE\\_RandomControl\\_0 &  0.118 &  0.011 &  0.084 & -0.028 &  0.075 &  0.016 & -0.118 & -0.026 & -0.154 & -0.030 & ⋯ & -0.010 &  0.121 &  0.050 & -0.001 & -0.087 &  0.011 & -0.017 & -0.122 &  0.004 & -0.089\\\\\n",
       "\tGENE\\_RandomControl\\_1 &  0.021 &  0.062 & -0.048 &  0.029 &  0.019 &  0.026 & -0.130 & -0.072 & -0.004 &  0.062 & ⋯ & -0.140 & -0.121 & -0.011 & -0.094 &  0.021 &  0.033 & -0.005 & -0.101 & -0.038 &  0.057\\\\\n",
       "\tGENE\\_RandomControl\\_2 & -0.121 & -0.087 &  0.033 &  0.115 & -0.086 & -0.074 & -0.098 & -0.028 &  0.032 &  0.032 & ⋯ &  0.041 &  0.003 & -0.049 & -0.093 & -0.023 & -0.067 &  0.016 & -0.020 &  0.034 & -0.075\\\\\n",
       "\tGENE\\_RandomControl\\_3 & -0.021 &  0.105 &  0.057 & -0.055 & -0.015 &  0.097 & -0.143 & -0.087 & -0.015 &  0.101 & ⋯ &  0.025 & -0.040 &  0.001 & -0.122 & -0.064 & -0.011 & -0.023 & -0.015 &  0.028 & -0.026\\\\\n",
       "\tGENE\\_RandomControl\\_4 &  0.002 &  0.018 &  0.046 & -0.094 & -0.014 & -0.090 &  0.021 &  0.007 & -0.009 & -0.041 & ⋯ & -0.009 &  0.026 & -0.095 &  0.044 &  0.122 & -0.082 & -0.063 & -0.016 & -0.017 & -0.055\\\\\n",
       "\tGENE\\_RandomControl\\_5 &  0.051 & -0.086 & -0.073 & -0.018 &  0.144 & -0.009 & -0.089 & -0.014 & -0.002 &  0.107 & ⋯ &  0.095 & -0.155 & -0.026 & -0.086 &  0.000 & -0.030 & -0.068 & -0.136 & -0.007 & -0.077\\\\\n",
       "\\end{tabular}\n"
      ],
      "text/markdown": [
       "\n",
       "A data.frame: 6 × 6640\n",
       "\n",
       "| <!--/--> | X0 &lt;dbl&gt; | X1 &lt;dbl&gt; | X2 &lt;dbl&gt; | X3 &lt;dbl&gt; | X4 &lt;dbl&gt; | X5 &lt;dbl&gt; | X6 &lt;dbl&gt; | X7 &lt;dbl&gt; | X8 &lt;dbl&gt; | X9 &lt;dbl&gt; | ⋯ ⋯ | X6630 &lt;dbl&gt; | X6631 &lt;dbl&gt; | X6632 &lt;dbl&gt; | X6633 &lt;dbl&gt; | X6634 &lt;dbl&gt; | X6635 &lt;dbl&gt; | X6636 &lt;dbl&gt; | X6637 &lt;dbl&gt; | X6638 &lt;dbl&gt; | X6639 &lt;dbl&gt; |\n",
       "|---|---|---|---|---|---|---|---|---|---|---|---|---|---|---|---|---|---|---|---|---|---|\n",
       "| GENE_RandomControl_0 |  0.118 |  0.011 |  0.084 | -0.028 |  0.075 |  0.016 | -0.118 | -0.026 | -0.154 | -0.030 | ⋯ | -0.010 |  0.121 |  0.050 | -0.001 | -0.087 |  0.011 | -0.017 | -0.122 |  0.004 | -0.089 |\n",
       "| GENE_RandomControl_1 |  0.021 |  0.062 | -0.048 |  0.029 |  0.019 |  0.026 | -0.130 | -0.072 | -0.004 |  0.062 | ⋯ | -0.140 | -0.121 | -0.011 | -0.094 |  0.021 |  0.033 | -0.005 | -0.101 | -0.038 |  0.057 |\n",
       "| GENE_RandomControl_2 | -0.121 | -0.087 |  0.033 |  0.115 | -0.086 | -0.074 | -0.098 | -0.028 |  0.032 |  0.032 | ⋯ |  0.041 |  0.003 | -0.049 | -0.093 | -0.023 | -0.067 |  0.016 | -0.020 |  0.034 | -0.075 |\n",
       "| GENE_RandomControl_3 | -0.021 |  0.105 |  0.057 | -0.055 | -0.015 |  0.097 | -0.143 | -0.087 | -0.015 |  0.101 | ⋯ |  0.025 | -0.040 |  0.001 | -0.122 | -0.064 | -0.011 | -0.023 | -0.015 |  0.028 | -0.026 |\n",
       "| GENE_RandomControl_4 |  0.002 |  0.018 |  0.046 | -0.094 | -0.014 | -0.090 |  0.021 |  0.007 | -0.009 | -0.041 | ⋯ | -0.009 |  0.026 | -0.095 |  0.044 |  0.122 | -0.082 | -0.063 | -0.016 | -0.017 | -0.055 |\n",
       "| GENE_RandomControl_5 |  0.051 | -0.086 | -0.073 | -0.018 |  0.144 | -0.009 | -0.089 | -0.014 | -0.002 |  0.107 | ⋯ |  0.095 | -0.155 | -0.026 | -0.086 |  0.000 | -0.030 | -0.068 | -0.136 | -0.007 | -0.077 |\n",
       "\n"
      ],
      "text/plain": [
       "                     X0     X1     X2     X3     X4     X5     X6     X7    \n",
       "GENE_RandomControl_0  0.118  0.011  0.084 -0.028  0.075  0.016 -0.118 -0.026\n",
       "GENE_RandomControl_1  0.021  0.062 -0.048  0.029  0.019  0.026 -0.130 -0.072\n",
       "GENE_RandomControl_2 -0.121 -0.087  0.033  0.115 -0.086 -0.074 -0.098 -0.028\n",
       "GENE_RandomControl_3 -0.021  0.105  0.057 -0.055 -0.015  0.097 -0.143 -0.087\n",
       "GENE_RandomControl_4  0.002  0.018  0.046 -0.094 -0.014 -0.090  0.021  0.007\n",
       "GENE_RandomControl_5  0.051 -0.086 -0.073 -0.018  0.144 -0.009 -0.089 -0.014\n",
       "                     X8     X9     ⋯ X6630  X6631  X6632  X6633  X6634  X6635 \n",
       "GENE_RandomControl_0 -0.154 -0.030 ⋯ -0.010  0.121  0.050 -0.001 -0.087  0.011\n",
       "GENE_RandomControl_1 -0.004  0.062 ⋯ -0.140 -0.121 -0.011 -0.094  0.021  0.033\n",
       "GENE_RandomControl_2  0.032  0.032 ⋯  0.041  0.003 -0.049 -0.093 -0.023 -0.067\n",
       "GENE_RandomControl_3 -0.015  0.101 ⋯  0.025 -0.040  0.001 -0.122 -0.064 -0.011\n",
       "GENE_RandomControl_4 -0.009 -0.041 ⋯ -0.009  0.026 -0.095  0.044  0.122 -0.082\n",
       "GENE_RandomControl_5 -0.002  0.107 ⋯  0.095 -0.155 -0.026 -0.086  0.000 -0.030\n",
       "                     X6636  X6637  X6638  X6639 \n",
       "GENE_RandomControl_0 -0.017 -0.122  0.004 -0.089\n",
       "GENE_RandomControl_1 -0.005 -0.101 -0.038  0.057\n",
       "GENE_RandomControl_2  0.016 -0.020  0.034 -0.075\n",
       "GENE_RandomControl_3 -0.023 -0.015  0.028 -0.026\n",
       "GENE_RandomControl_4 -0.063 -0.016 -0.017 -0.055\n",
       "GENE_RandomControl_5 -0.068 -0.136 -0.007 -0.077"
      ]
     },
     "metadata": {},
     "output_type": "display_data"
    }
   ],
   "source": [
    "head(coefsAll)"
   ]
  },
  {
   "cell_type": "code",
   "execution_count": 6,
   "metadata": {},
   "outputs": [
    {
     "data": {
      "text/html": [
       "6685"
      ],
      "text/latex": [
       "6685"
      ],
      "text/markdown": [
       "6685"
      ],
      "text/plain": [
       "[1] 6685"
      ]
     },
     "metadata": {},
     "output_type": "display_data"
    }
   ],
   "source": [
    "genes <- read.csv(\"/home/beraslan/jovian-work/analysisSingle/Gene_names.csv\")\n",
    "length(genes$X0)"
   ]
  },
  {
   "cell_type": "code",
   "execution_count": 7,
   "metadata": {},
   "outputs": [],
   "source": [
    "colnames(pvalsAllM) <- genes$X0[0:dim(coefsAllM)[2]]\n",
    "colnames(coefsAllM) <- genes$X0[0:dim(coefsAllM)[2]]\n"
   ]
  },
  {
   "cell_type": "code",
   "execution_count": 8,
   "metadata": {},
   "outputs": [
    {
     "data": {
      "text/html": [
       "6640"
      ],
      "text/latex": [
       "6640"
      ],
      "text/markdown": [
       "6640"
      ],
      "text/plain": [
       "[1] 6640"
      ]
     },
     "metadata": {},
     "output_type": "display_data"
    }
   ],
   "source": [
    "dim(coefsAll)[2]"
   ]
  },
  {
   "cell_type": "code",
   "execution_count": 9,
   "metadata": {},
   "outputs": [
    {
     "data": {
      "text/html": [
       "<table>\n",
       "<caption>A data.frame: 6 × 6640</caption>\n",
       "<thead>\n",
       "\t<tr><th></th><th scope=col>Mrpl15</th><th scope=col>Lypla1</th><th scope=col>Tcea1</th><th scope=col>Atp6v1h</th><th scope=col>Rb1cc1</th><th scope=col>Pcmtd1</th><th scope=col>Rrs1</th><th scope=col>Vcpip1</th><th scope=col>Sgk3</th><th scope=col>Snhg6</th><th scope=col>⋯</th><th scope=col>Slf2</th><th scope=col>Mrpl43</th><th scope=col>Sfxn3</th><th scope=col>Gm17018</th><th scope=col>Npm3</th><th scope=col>Mgea5</th><th scope=col>Ldb1</th><th scope=col>Pprc1</th><th scope=col>Nolc1</th><th scope=col>Gbf1</th></tr>\n",
       "\t<tr><th></th><th scope=col>&lt;dbl&gt;</th><th scope=col>&lt;dbl&gt;</th><th scope=col>&lt;dbl&gt;</th><th scope=col>&lt;dbl&gt;</th><th scope=col>&lt;dbl&gt;</th><th scope=col>&lt;dbl&gt;</th><th scope=col>&lt;dbl&gt;</th><th scope=col>&lt;dbl&gt;</th><th scope=col>&lt;dbl&gt;</th><th scope=col>&lt;dbl&gt;</th><th scope=col>⋯</th><th scope=col>&lt;dbl&gt;</th><th scope=col>&lt;dbl&gt;</th><th scope=col>&lt;dbl&gt;</th><th scope=col>&lt;dbl&gt;</th><th scope=col>&lt;dbl&gt;</th><th scope=col>&lt;dbl&gt;</th><th scope=col>&lt;dbl&gt;</th><th scope=col>&lt;dbl&gt;</th><th scope=col>&lt;dbl&gt;</th><th scope=col>&lt;dbl&gt;</th></tr>\n",
       "</thead>\n",
       "<tbody>\n",
       "\t<tr><th scope=row>GENE_RandomControl_0</th><td>0.910</td><td>0.501</td><td>0.119</td><td>0.924</td><td>0.013</td><td>0.195</td><td>0.283</td><td>0.674</td><td>0.515</td><td>0.316</td><td>⋯</td><td>0.087</td><td>0.322</td><td>0.748</td><td>0.390</td><td>0.438</td><td>0.532</td><td>0.232</td><td>0.743</td><td>0.894</td><td>0.655</td></tr>\n",
       "\t<tr><th scope=row>GENE_RandomControl_1</th><td>0.372</td><td>0.545</td><td>0.214</td><td>0.209</td><td>0.951</td><td>0.886</td><td>0.961</td><td>0.307</td><td>0.150</td><td>0.007</td><td>⋯</td><td>0.877</td><td>0.161</td><td>0.825</td><td>0.085</td><td>0.164</td><td>0.977</td><td>0.421</td><td>0.125</td><td>0.290</td><td>0.922</td></tr>\n",
       "\t<tr><th scope=row>GENE_RandomControl_2</th><td>0.940</td><td>0.039</td><td>0.898</td><td>0.514</td><td>0.212</td><td>0.576</td><td>0.262</td><td>0.567</td><td>0.481</td><td>0.976</td><td>⋯</td><td>0.094</td><td>0.235</td><td>0.068</td><td>0.919</td><td>0.673</td><td>0.258</td><td>0.169</td><td>0.201</td><td>0.883</td><td>0.213</td></tr>\n",
       "\t<tr><th scope=row>GENE_RandomControl_3</th><td>0.908</td><td>0.555</td><td>0.573</td><td>0.076</td><td>0.430</td><td>0.613</td><td>0.937</td><td>0.597</td><td>0.956</td><td>0.290</td><td>⋯</td><td>0.942</td><td>0.831</td><td>0.454</td><td>0.481</td><td>0.302</td><td>0.256</td><td>0.967</td><td>0.650</td><td>0.065</td><td>0.477</td></tr>\n",
       "\t<tr><th scope=row>GENE_RandomControl_4</th><td>0.813</td><td>0.253</td><td>0.036</td><td>0.151</td><td>0.035</td><td>0.912</td><td>0.770</td><td>0.631</td><td>0.729</td><td>0.767</td><td>⋯</td><td>0.658</td><td>0.387</td><td>0.872</td><td>0.211</td><td>0.169</td><td>0.974</td><td>0.877</td><td>0.090</td><td>0.949</td><td>0.332</td></tr>\n",
       "\t<tr><th scope=row>GENE_RandomControl_5</th><td>0.799</td><td>0.378</td><td>0.253</td><td>0.351</td><td>0.028</td><td>0.309</td><td>0.408</td><td>0.818</td><td>0.220</td><td>0.054</td><td>⋯</td><td>0.272</td><td>0.576</td><td>0.712</td><td>0.046</td><td>0.761</td><td>0.740</td><td>0.425</td><td>0.697</td><td>0.611</td><td>0.333</td></tr>\n",
       "</tbody>\n",
       "</table>\n"
      ],
      "text/latex": [
       "A data.frame: 6 × 6640\n",
       "\\begin{tabular}{r|lllllllllllllllllllll}\n",
       "  & Mrpl15 & Lypla1 & Tcea1 & Atp6v1h & Rb1cc1 & Pcmtd1 & Rrs1 & Vcpip1 & Sgk3 & Snhg6 & ⋯ & Slf2 & Mrpl43 & Sfxn3 & Gm17018 & Npm3 & Mgea5 & Ldb1 & Pprc1 & Nolc1 & Gbf1\\\\\n",
       "  & <dbl> & <dbl> & <dbl> & <dbl> & <dbl> & <dbl> & <dbl> & <dbl> & <dbl> & <dbl> & ⋯ & <dbl> & <dbl> & <dbl> & <dbl> & <dbl> & <dbl> & <dbl> & <dbl> & <dbl> & <dbl>\\\\\n",
       "\\hline\n",
       "\tGENE\\_RandomControl\\_0 & 0.910 & 0.501 & 0.119 & 0.924 & 0.013 & 0.195 & 0.283 & 0.674 & 0.515 & 0.316 & ⋯ & 0.087 & 0.322 & 0.748 & 0.390 & 0.438 & 0.532 & 0.232 & 0.743 & 0.894 & 0.655\\\\\n",
       "\tGENE\\_RandomControl\\_1 & 0.372 & 0.545 & 0.214 & 0.209 & 0.951 & 0.886 & 0.961 & 0.307 & 0.150 & 0.007 & ⋯ & 0.877 & 0.161 & 0.825 & 0.085 & 0.164 & 0.977 & 0.421 & 0.125 & 0.290 & 0.922\\\\\n",
       "\tGENE\\_RandomControl\\_2 & 0.940 & 0.039 & 0.898 & 0.514 & 0.212 & 0.576 & 0.262 & 0.567 & 0.481 & 0.976 & ⋯ & 0.094 & 0.235 & 0.068 & 0.919 & 0.673 & 0.258 & 0.169 & 0.201 & 0.883 & 0.213\\\\\n",
       "\tGENE\\_RandomControl\\_3 & 0.908 & 0.555 & 0.573 & 0.076 & 0.430 & 0.613 & 0.937 & 0.597 & 0.956 & 0.290 & ⋯ & 0.942 & 0.831 & 0.454 & 0.481 & 0.302 & 0.256 & 0.967 & 0.650 & 0.065 & 0.477\\\\\n",
       "\tGENE\\_RandomControl\\_4 & 0.813 & 0.253 & 0.036 & 0.151 & 0.035 & 0.912 & 0.770 & 0.631 & 0.729 & 0.767 & ⋯ & 0.658 & 0.387 & 0.872 & 0.211 & 0.169 & 0.974 & 0.877 & 0.090 & 0.949 & 0.332\\\\\n",
       "\tGENE\\_RandomControl\\_5 & 0.799 & 0.378 & 0.253 & 0.351 & 0.028 & 0.309 & 0.408 & 0.818 & 0.220 & 0.054 & ⋯ & 0.272 & 0.576 & 0.712 & 0.046 & 0.761 & 0.740 & 0.425 & 0.697 & 0.611 & 0.333\\\\\n",
       "\\end{tabular}\n"
      ],
      "text/markdown": [
       "\n",
       "A data.frame: 6 × 6640\n",
       "\n",
       "| <!--/--> | Mrpl15 &lt;dbl&gt; | Lypla1 &lt;dbl&gt; | Tcea1 &lt;dbl&gt; | Atp6v1h &lt;dbl&gt; | Rb1cc1 &lt;dbl&gt; | Pcmtd1 &lt;dbl&gt; | Rrs1 &lt;dbl&gt; | Vcpip1 &lt;dbl&gt; | Sgk3 &lt;dbl&gt; | Snhg6 &lt;dbl&gt; | ⋯ ⋯ | Slf2 &lt;dbl&gt; | Mrpl43 &lt;dbl&gt; | Sfxn3 &lt;dbl&gt; | Gm17018 &lt;dbl&gt; | Npm3 &lt;dbl&gt; | Mgea5 &lt;dbl&gt; | Ldb1 &lt;dbl&gt; | Pprc1 &lt;dbl&gt; | Nolc1 &lt;dbl&gt; | Gbf1 &lt;dbl&gt; |\n",
       "|---|---|---|---|---|---|---|---|---|---|---|---|---|---|---|---|---|---|---|---|---|---|\n",
       "| GENE_RandomControl_0 | 0.910 | 0.501 | 0.119 | 0.924 | 0.013 | 0.195 | 0.283 | 0.674 | 0.515 | 0.316 | ⋯ | 0.087 | 0.322 | 0.748 | 0.390 | 0.438 | 0.532 | 0.232 | 0.743 | 0.894 | 0.655 |\n",
       "| GENE_RandomControl_1 | 0.372 | 0.545 | 0.214 | 0.209 | 0.951 | 0.886 | 0.961 | 0.307 | 0.150 | 0.007 | ⋯ | 0.877 | 0.161 | 0.825 | 0.085 | 0.164 | 0.977 | 0.421 | 0.125 | 0.290 | 0.922 |\n",
       "| GENE_RandomControl_2 | 0.940 | 0.039 | 0.898 | 0.514 | 0.212 | 0.576 | 0.262 | 0.567 | 0.481 | 0.976 | ⋯ | 0.094 | 0.235 | 0.068 | 0.919 | 0.673 | 0.258 | 0.169 | 0.201 | 0.883 | 0.213 |\n",
       "| GENE_RandomControl_3 | 0.908 | 0.555 | 0.573 | 0.076 | 0.430 | 0.613 | 0.937 | 0.597 | 0.956 | 0.290 | ⋯ | 0.942 | 0.831 | 0.454 | 0.481 | 0.302 | 0.256 | 0.967 | 0.650 | 0.065 | 0.477 |\n",
       "| GENE_RandomControl_4 | 0.813 | 0.253 | 0.036 | 0.151 | 0.035 | 0.912 | 0.770 | 0.631 | 0.729 | 0.767 | ⋯ | 0.658 | 0.387 | 0.872 | 0.211 | 0.169 | 0.974 | 0.877 | 0.090 | 0.949 | 0.332 |\n",
       "| GENE_RandomControl_5 | 0.799 | 0.378 | 0.253 | 0.351 | 0.028 | 0.309 | 0.408 | 0.818 | 0.220 | 0.054 | ⋯ | 0.272 | 0.576 | 0.712 | 0.046 | 0.761 | 0.740 | 0.425 | 0.697 | 0.611 | 0.333 |\n",
       "\n"
      ],
      "text/plain": [
       "                     Mrpl15 Lypla1 Tcea1 Atp6v1h Rb1cc1 Pcmtd1 Rrs1  Vcpip1\n",
       "GENE_RandomControl_0 0.910  0.501  0.119 0.924   0.013  0.195  0.283 0.674 \n",
       "GENE_RandomControl_1 0.372  0.545  0.214 0.209   0.951  0.886  0.961 0.307 \n",
       "GENE_RandomControl_2 0.940  0.039  0.898 0.514   0.212  0.576  0.262 0.567 \n",
       "GENE_RandomControl_3 0.908  0.555  0.573 0.076   0.430  0.613  0.937 0.597 \n",
       "GENE_RandomControl_4 0.813  0.253  0.036 0.151   0.035  0.912  0.770 0.631 \n",
       "GENE_RandomControl_5 0.799  0.378  0.253 0.351   0.028  0.309  0.408 0.818 \n",
       "                     Sgk3  Snhg6 ⋯ Slf2  Mrpl43 Sfxn3 Gm17018 Npm3  Mgea5 Ldb1 \n",
       "GENE_RandomControl_0 0.515 0.316 ⋯ 0.087 0.322  0.748 0.390   0.438 0.532 0.232\n",
       "GENE_RandomControl_1 0.150 0.007 ⋯ 0.877 0.161  0.825 0.085   0.164 0.977 0.421\n",
       "GENE_RandomControl_2 0.481 0.976 ⋯ 0.094 0.235  0.068 0.919   0.673 0.258 0.169\n",
       "GENE_RandomControl_3 0.956 0.290 ⋯ 0.942 0.831  0.454 0.481   0.302 0.256 0.967\n",
       "GENE_RandomControl_4 0.729 0.767 ⋯ 0.658 0.387  0.872 0.211   0.169 0.974 0.877\n",
       "GENE_RandomControl_5 0.220 0.054 ⋯ 0.272 0.576  0.712 0.046   0.761 0.740 0.425\n",
       "                     Pprc1 Nolc1 Gbf1 \n",
       "GENE_RandomControl_0 0.743 0.894 0.655\n",
       "GENE_RandomControl_1 0.125 0.290 0.922\n",
       "GENE_RandomControl_2 0.201 0.883 0.213\n",
       "GENE_RandomControl_3 0.650 0.065 0.477\n",
       "GENE_RandomControl_4 0.090 0.949 0.332\n",
       "GENE_RandomControl_5 0.697 0.611 0.333"
      ]
     },
     "metadata": {},
     "output_type": "display_data"
    }
   ],
   "source": [
    "head(pvalsAllM)"
   ]
  },
  {
   "cell_type": "code",
   "execution_count": 10,
   "metadata": {},
   "outputs": [
    {
     "data": {
      "text/html": [
       "<table>\n",
       "<caption>A data.frame: 6 × 6640</caption>\n",
       "<thead>\n",
       "\t<tr><th></th><th scope=col>Mrpl15</th><th scope=col>Lypla1</th><th scope=col>Tcea1</th><th scope=col>Atp6v1h</th><th scope=col>Rb1cc1</th><th scope=col>Pcmtd1</th><th scope=col>Rrs1</th><th scope=col>Vcpip1</th><th scope=col>Sgk3</th><th scope=col>Snhg6</th><th scope=col>⋯</th><th scope=col>Slf2</th><th scope=col>Mrpl43</th><th scope=col>Sfxn3</th><th scope=col>Gm17018</th><th scope=col>Npm3</th><th scope=col>Mgea5</th><th scope=col>Ldb1</th><th scope=col>Pprc1</th><th scope=col>Nolc1</th><th scope=col>Gbf1</th></tr>\n",
       "\t<tr><th></th><th scope=col>&lt;dbl&gt;</th><th scope=col>&lt;dbl&gt;</th><th scope=col>&lt;dbl&gt;</th><th scope=col>&lt;dbl&gt;</th><th scope=col>&lt;dbl&gt;</th><th scope=col>&lt;dbl&gt;</th><th scope=col>&lt;dbl&gt;</th><th scope=col>&lt;dbl&gt;</th><th scope=col>&lt;dbl&gt;</th><th scope=col>&lt;dbl&gt;</th><th scope=col>⋯</th><th scope=col>&lt;dbl&gt;</th><th scope=col>&lt;dbl&gt;</th><th scope=col>&lt;dbl&gt;</th><th scope=col>&lt;dbl&gt;</th><th scope=col>&lt;dbl&gt;</th><th scope=col>&lt;dbl&gt;</th><th scope=col>&lt;dbl&gt;</th><th scope=col>&lt;dbl&gt;</th><th scope=col>&lt;dbl&gt;</th><th scope=col>&lt;dbl&gt;</th></tr>\n",
       "</thead>\n",
       "<tbody>\n",
       "\t<tr><th scope=row>GENE_RandomControl_0</th><td> 0.008</td><td> 0.047</td><td> 0.109</td><td>-0.007</td><td>-0.173</td><td>-0.090</td><td>-0.076</td><td>-0.029</td><td> 0.046</td><td> 0.071</td><td>⋯</td><td> 0.120</td><td> 0.070</td><td> 0.022</td><td>-0.061</td><td>-0.055</td><td> 0.044</td><td>-0.085</td><td> 0.023</td><td>-0.009</td><td> 0.032</td></tr>\n",
       "\t<tr><th scope=row>GENE_RandomControl_1</th><td>-0.063</td><td>-0.043</td><td> 0.087</td><td>-0.088</td><td> 0.004</td><td>-0.010</td><td>-0.003</td><td> 0.071</td><td> 0.102</td><td> 0.189</td><td>⋯</td><td> 0.011</td><td> 0.099</td><td> 0.015</td><td> 0.122</td><td> 0.099</td><td> 0.002</td><td> 0.057</td><td>-0.108</td><td>-0.074</td><td>-0.007</td></tr>\n",
       "\t<tr><th scope=row>GENE_RandomControl_2</th><td>-0.005</td><td> 0.145</td><td>-0.009</td><td>-0.046</td><td> 0.087</td><td>-0.039</td><td>-0.079</td><td> 0.040</td><td>-0.050</td><td>-0.002</td><td>⋯</td><td>-0.118</td><td> 0.084</td><td>-0.127</td><td>-0.007</td><td>-0.030</td><td>-0.080</td><td>-0.098</td><td> 0.090</td><td>-0.010</td><td> 0.090</td></tr>\n",
       "\t<tr><th scope=row>GENE_RandomControl_3</th><td>-0.008</td><td>-0.041</td><td> 0.039</td><td>-0.124</td><td> 0.055</td><td> 0.035</td><td>-0.006</td><td> 0.037</td><td> 0.004</td><td>-0.074</td><td>⋯</td><td>-0.005</td><td>-0.015</td><td> 0.052</td><td> 0.050</td><td>-0.073</td><td>-0.080</td><td>-0.003</td><td> 0.032</td><td>-0.130</td><td> 0.051</td></tr>\n",
       "\t<tr><th scope=row>GENE_RandomControl_4</th><td>-0.017</td><td>-0.080</td><td>-0.147</td><td>-0.101</td><td> 0.147</td><td> 0.008</td><td>-0.021</td><td> 0.034</td><td> 0.024</td><td> 0.021</td><td>⋯</td><td> 0.031</td><td> 0.061</td><td> 0.011</td><td>-0.088</td><td>-0.098</td><td> 0.002</td><td>-0.011</td><td>-0.120</td><td>-0.005</td><td>-0.070</td></tr>\n",
       "\t<tr><th scope=row>GENE_RandomControl_5</th><td> 0.018</td><td> 0.062</td><td>-0.080</td><td> 0.065</td><td> 0.153</td><td>-0.071</td><td>-0.058</td><td> 0.016</td><td> 0.087</td><td> 0.136</td><td>⋯</td><td> 0.077</td><td> 0.039</td><td>-0.026</td><td> 0.141</td><td> 0.022</td><td>-0.023</td><td> 0.057</td><td>-0.028</td><td> 0.036</td><td> 0.070</td></tr>\n",
       "</tbody>\n",
       "</table>\n"
      ],
      "text/latex": [
       "A data.frame: 6 × 6640\n",
       "\\begin{tabular}{r|lllllllllllllllllllll}\n",
       "  & Mrpl15 & Lypla1 & Tcea1 & Atp6v1h & Rb1cc1 & Pcmtd1 & Rrs1 & Vcpip1 & Sgk3 & Snhg6 & ⋯ & Slf2 & Mrpl43 & Sfxn3 & Gm17018 & Npm3 & Mgea5 & Ldb1 & Pprc1 & Nolc1 & Gbf1\\\\\n",
       "  & <dbl> & <dbl> & <dbl> & <dbl> & <dbl> & <dbl> & <dbl> & <dbl> & <dbl> & <dbl> & ⋯ & <dbl> & <dbl> & <dbl> & <dbl> & <dbl> & <dbl> & <dbl> & <dbl> & <dbl> & <dbl>\\\\\n",
       "\\hline\n",
       "\tGENE\\_RandomControl\\_0 &  0.008 &  0.047 &  0.109 & -0.007 & -0.173 & -0.090 & -0.076 & -0.029 &  0.046 &  0.071 & ⋯ &  0.120 &  0.070 &  0.022 & -0.061 & -0.055 &  0.044 & -0.085 &  0.023 & -0.009 &  0.032\\\\\n",
       "\tGENE\\_RandomControl\\_1 & -0.063 & -0.043 &  0.087 & -0.088 &  0.004 & -0.010 & -0.003 &  0.071 &  0.102 &  0.189 & ⋯ &  0.011 &  0.099 &  0.015 &  0.122 &  0.099 &  0.002 &  0.057 & -0.108 & -0.074 & -0.007\\\\\n",
       "\tGENE\\_RandomControl\\_2 & -0.005 &  0.145 & -0.009 & -0.046 &  0.087 & -0.039 & -0.079 &  0.040 & -0.050 & -0.002 & ⋯ & -0.118 &  0.084 & -0.127 & -0.007 & -0.030 & -0.080 & -0.098 &  0.090 & -0.010 &  0.090\\\\\n",
       "\tGENE\\_RandomControl\\_3 & -0.008 & -0.041 &  0.039 & -0.124 &  0.055 &  0.035 & -0.006 &  0.037 &  0.004 & -0.074 & ⋯ & -0.005 & -0.015 &  0.052 &  0.050 & -0.073 & -0.080 & -0.003 &  0.032 & -0.130 &  0.051\\\\\n",
       "\tGENE\\_RandomControl\\_4 & -0.017 & -0.080 & -0.147 & -0.101 &  0.147 &  0.008 & -0.021 &  0.034 &  0.024 &  0.021 & ⋯ &  0.031 &  0.061 &  0.011 & -0.088 & -0.098 &  0.002 & -0.011 & -0.120 & -0.005 & -0.070\\\\\n",
       "\tGENE\\_RandomControl\\_5 &  0.018 &  0.062 & -0.080 &  0.065 &  0.153 & -0.071 & -0.058 &  0.016 &  0.087 &  0.136 & ⋯ &  0.077 &  0.039 & -0.026 &  0.141 &  0.022 & -0.023 &  0.057 & -0.028 &  0.036 &  0.070\\\\\n",
       "\\end{tabular}\n"
      ],
      "text/markdown": [
       "\n",
       "A data.frame: 6 × 6640\n",
       "\n",
       "| <!--/--> | Mrpl15 &lt;dbl&gt; | Lypla1 &lt;dbl&gt; | Tcea1 &lt;dbl&gt; | Atp6v1h &lt;dbl&gt; | Rb1cc1 &lt;dbl&gt; | Pcmtd1 &lt;dbl&gt; | Rrs1 &lt;dbl&gt; | Vcpip1 &lt;dbl&gt; | Sgk3 &lt;dbl&gt; | Snhg6 &lt;dbl&gt; | ⋯ ⋯ | Slf2 &lt;dbl&gt; | Mrpl43 &lt;dbl&gt; | Sfxn3 &lt;dbl&gt; | Gm17018 &lt;dbl&gt; | Npm3 &lt;dbl&gt; | Mgea5 &lt;dbl&gt; | Ldb1 &lt;dbl&gt; | Pprc1 &lt;dbl&gt; | Nolc1 &lt;dbl&gt; | Gbf1 &lt;dbl&gt; |\n",
       "|---|---|---|---|---|---|---|---|---|---|---|---|---|---|---|---|---|---|---|---|---|---|\n",
       "| GENE_RandomControl_0 |  0.008 |  0.047 |  0.109 | -0.007 | -0.173 | -0.090 | -0.076 | -0.029 |  0.046 |  0.071 | ⋯ |  0.120 |  0.070 |  0.022 | -0.061 | -0.055 |  0.044 | -0.085 |  0.023 | -0.009 |  0.032 |\n",
       "| GENE_RandomControl_1 | -0.063 | -0.043 |  0.087 | -0.088 |  0.004 | -0.010 | -0.003 |  0.071 |  0.102 |  0.189 | ⋯ |  0.011 |  0.099 |  0.015 |  0.122 |  0.099 |  0.002 |  0.057 | -0.108 | -0.074 | -0.007 |\n",
       "| GENE_RandomControl_2 | -0.005 |  0.145 | -0.009 | -0.046 |  0.087 | -0.039 | -0.079 |  0.040 | -0.050 | -0.002 | ⋯ | -0.118 |  0.084 | -0.127 | -0.007 | -0.030 | -0.080 | -0.098 |  0.090 | -0.010 |  0.090 |\n",
       "| GENE_RandomControl_3 | -0.008 | -0.041 |  0.039 | -0.124 |  0.055 |  0.035 | -0.006 |  0.037 |  0.004 | -0.074 | ⋯ | -0.005 | -0.015 |  0.052 |  0.050 | -0.073 | -0.080 | -0.003 |  0.032 | -0.130 |  0.051 |\n",
       "| GENE_RandomControl_4 | -0.017 | -0.080 | -0.147 | -0.101 |  0.147 |  0.008 | -0.021 |  0.034 |  0.024 |  0.021 | ⋯ |  0.031 |  0.061 |  0.011 | -0.088 | -0.098 |  0.002 | -0.011 | -0.120 | -0.005 | -0.070 |\n",
       "| GENE_RandomControl_5 |  0.018 |  0.062 | -0.080 |  0.065 |  0.153 | -0.071 | -0.058 |  0.016 |  0.087 |  0.136 | ⋯ |  0.077 |  0.039 | -0.026 |  0.141 |  0.022 | -0.023 |  0.057 | -0.028 |  0.036 |  0.070 |\n",
       "\n"
      ],
      "text/plain": [
       "                     Mrpl15 Lypla1 Tcea1  Atp6v1h Rb1cc1 Pcmtd1 Rrs1   Vcpip1\n",
       "GENE_RandomControl_0  0.008  0.047  0.109 -0.007  -0.173 -0.090 -0.076 -0.029\n",
       "GENE_RandomControl_1 -0.063 -0.043  0.087 -0.088   0.004 -0.010 -0.003  0.071\n",
       "GENE_RandomControl_2 -0.005  0.145 -0.009 -0.046   0.087 -0.039 -0.079  0.040\n",
       "GENE_RandomControl_3 -0.008 -0.041  0.039 -0.124   0.055  0.035 -0.006  0.037\n",
       "GENE_RandomControl_4 -0.017 -0.080 -0.147 -0.101   0.147  0.008 -0.021  0.034\n",
       "GENE_RandomControl_5  0.018  0.062 -0.080  0.065   0.153 -0.071 -0.058  0.016\n",
       "                     Sgk3   Snhg6  ⋯ Slf2   Mrpl43 Sfxn3  Gm17018 Npm3   Mgea5 \n",
       "GENE_RandomControl_0  0.046  0.071 ⋯  0.120  0.070  0.022 -0.061  -0.055  0.044\n",
       "GENE_RandomControl_1  0.102  0.189 ⋯  0.011  0.099  0.015  0.122   0.099  0.002\n",
       "GENE_RandomControl_2 -0.050 -0.002 ⋯ -0.118  0.084 -0.127 -0.007  -0.030 -0.080\n",
       "GENE_RandomControl_3  0.004 -0.074 ⋯ -0.005 -0.015  0.052  0.050  -0.073 -0.080\n",
       "GENE_RandomControl_4  0.024  0.021 ⋯  0.031  0.061  0.011 -0.088  -0.098  0.002\n",
       "GENE_RandomControl_5  0.087  0.136 ⋯  0.077  0.039 -0.026  0.141   0.022 -0.023\n",
       "                     Ldb1   Pprc1  Nolc1  Gbf1  \n",
       "GENE_RandomControl_0 -0.085  0.023 -0.009  0.032\n",
       "GENE_RandomControl_1  0.057 -0.108 -0.074 -0.007\n",
       "GENE_RandomControl_2 -0.098  0.090 -0.010  0.090\n",
       "GENE_RandomControl_3 -0.003  0.032 -0.130  0.051\n",
       "GENE_RandomControl_4 -0.011 -0.120 -0.005 -0.070\n",
       "GENE_RandomControl_5  0.057 -0.028  0.036  0.070"
      ]
     },
     "metadata": {},
     "output_type": "display_data"
    }
   ],
   "source": [
    "head(coefsAllM)"
   ]
  },
  {
   "cell_type": "code",
   "execution_count": 11,
   "metadata": {},
   "outputs": [],
   "source": [
    "write.csv(coefsAllM, \"/home/beraslan/jovian-work/analysisSingle/MixedEffectLMOutputs/ME_LMBetaCoefsALL_Control.csv\", quote=FALSE)\n",
    "write.csv(pvalsAllM, \"/home/beraslan/jovian-work/analysisSingle/MixedEffectLMOutputs/ME_LMPValuesALL_Control.csv\", quote=FALSE)"
   ]
  },
  {
   "cell_type": "code",
   "execution_count": null,
   "metadata": {},
   "outputs": [],
   "source": []
  }
 ],
 "metadata": {
  "kernelspec": {
   "display_name": "R",
   "language": "R",
   "name": "ir"
  },
  "language_info": {
   "codemirror_mode": "r",
   "file_extension": ".r",
   "mimetype": "text/x-r-source",
   "name": "R",
   "pygments_lexer": "r",
   "version": "3.6.3"
  }
 },
 "nbformat": 4,
 "nbformat_minor": 4
}
