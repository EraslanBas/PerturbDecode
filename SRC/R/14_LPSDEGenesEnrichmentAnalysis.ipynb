{
 "cells": [
  {
   "cell_type": "code",
   "execution_count": 1,
   "id": "005a033c-1167-4df6-9abb-19fa54b03b43",
   "metadata": {
    "collapsed": true,
    "jupyter": {
     "outputs_hidden": true
    },
    "tags": []
   },
   "outputs": [
    {
     "name": "stderr",
     "output_type": "stream",
     "text": [
      "corrplot 0.84 loaded\n",
      "\n",
      "\n",
      "********************************************************\n",
      "\n",
      "Note: As of version 1.0.0, cowplot does not change the\n",
      "\n",
      "  default ggplot2 theme anymore. To recover the previous\n",
      "\n",
      "  behavior, execute:\n",
      "  theme_set(theme_cowplot())\n",
      "\n",
      "********************************************************\n",
      "\n",
      "\n",
      "\n",
      "Attaching package: ‘pls’\n",
      "\n",
      "\n",
      "The following object is masked from ‘package:corrplot’:\n",
      "\n",
      "    corrplot\n",
      "\n",
      "\n",
      "The following object is masked from ‘package:stats’:\n",
      "\n",
      "    loadings\n",
      "\n",
      "\n",
      "Loading required package: AnnotationDbi\n",
      "\n",
      "Loading required package: stats4\n",
      "\n",
      "Loading required package: BiocGenerics\n",
      "\n",
      "Loading required package: parallel\n",
      "\n",
      "\n",
      "Attaching package: ‘BiocGenerics’\n",
      "\n",
      "\n",
      "The following objects are masked from ‘package:parallel’:\n",
      "\n",
      "    clusterApply, clusterApplyLB, clusterCall, clusterEvalQ,\n",
      "    clusterExport, clusterMap, parApply, parCapply, parLapply,\n",
      "    parLapplyLB, parRapply, parSapply, parSapplyLB\n",
      "\n",
      "\n",
      "The following objects are masked from ‘package:stats’:\n",
      "\n",
      "    IQR, mad, sd, var, xtabs\n",
      "\n",
      "\n",
      "The following objects are masked from ‘package:base’:\n",
      "\n",
      "    anyDuplicated, append, as.data.frame, basename, cbind, colnames,\n",
      "    dirname, do.call, duplicated, eval, evalq, Filter, Find, get, grep,\n",
      "    grepl, intersect, is.unsorted, lapply, Map, mapply, match, mget,\n",
      "    order, paste, pmax, pmax.int, pmin, pmin.int, Position, rank,\n",
      "    rbind, Reduce, rownames, sapply, setdiff, sort, table, tapply,\n",
      "    union, unique, unsplit, which, which.max, which.min\n",
      "\n",
      "\n",
      "Loading required package: Biobase\n",
      "\n",
      "Welcome to Bioconductor\n",
      "\n",
      "    Vignettes contain introductory material; view with\n",
      "    'browseVignettes()'. To cite Bioconductor, see\n",
      "    'citation(\"Biobase\")', and for packages 'citation(\"pkgname\")'.\n",
      "\n",
      "\n",
      "Loading required package: IRanges\n",
      "\n",
      "Loading required package: S4Vectors\n",
      "\n",
      "\n",
      "Attaching package: ‘S4Vectors’\n",
      "\n",
      "\n",
      "The following object is masked from ‘package:base’:\n",
      "\n",
      "    expand.grid\n",
      "\n",
      "\n",
      "\n",
      "\n",
      "\n",
      "Attaching package: ‘data.table’\n",
      "\n",
      "\n",
      "The following object is masked from ‘package:IRanges’:\n",
      "\n",
      "    shift\n",
      "\n",
      "\n",
      "The following objects are masked from ‘package:S4Vectors’:\n",
      "\n",
      "    first, second\n",
      "\n",
      "\n",
      "\n",
      "Attaching package: ‘reshape2’\n",
      "\n",
      "\n",
      "The following objects are masked from ‘package:data.table’:\n",
      "\n",
      "    dcast, melt\n",
      "\n",
      "\n",
      "Welcome! Want to learn more? See two factoextra-related books at https://goo.gl/ve3WBa\n",
      "\n",
      "Loading required package: cluster\n",
      "\n",
      "Loading required package: rpart\n",
      "\n",
      "\n",
      "Attaching package: ‘ggpubr’\n",
      "\n",
      "\n",
      "The following object is masked from ‘package:cowplot’:\n",
      "\n",
      "    get_legend\n",
      "\n",
      "\n",
      "Loading required package: pkgmaker\n",
      "\n",
      "Loading required package: registry\n",
      "\n",
      "\n",
      "Attaching package: ‘pkgmaker’\n",
      "\n",
      "\n",
      "The following object is masked from ‘package:S4Vectors’:\n",
      "\n",
      "    new2\n",
      "\n",
      "\n",
      "Loading required package: rngtools\n",
      "\n",
      "NMF - BioConductor layer [OK] | Shared memory capabilities [OK] | Cores 63/64\n",
      "\n",
      "\n",
      "Attaching package: ‘NMF’\n",
      "\n",
      "\n",
      "The following object is masked from ‘package:S4Vectors’:\n",
      "\n",
      "    nrun\n",
      "\n",
      "\n",
      "Loading required package: JADE\n",
      "\n",
      "Loading required package: ICS\n",
      "\n",
      "Loading required package: mvtnorm\n",
      "\n",
      "Registered S3 method overwritten by 'GGally':\n",
      "  method from   \n",
      "  +.gg   ggplot2\n",
      "\n"
     ]
    }
   ],
   "source": [
    "source(\"Main.R\")\n",
    "source(\"Conf.R\")\n",
    "source(\"Utilities.R\")\n",
    "source(\"DAVID_query.R\")\n",
    "library(\"factoextra\")\n",
    "library(\"maptree\")\n",
    "library(\"ggpubr\")\n",
    "library(NMF)\n",
    "library(\"ica\")\n",
    "library(ICtest)\n",
    "\n",
    "library(repr)\n",
    "fileDir = \"/home/beraslan/jovian-work/analysisSingle/\"\n",
    "geneCutOff=4\n",
    "targetCutOff=15\n",
    "nFactors=15"
   ]
  },
  {
   "cell_type": "code",
   "execution_count": 2,
   "id": "4aabdd7a-96bb-44f5-a804-bced6ddde771",
   "metadata": {
    "tags": []
   },
   "outputs": [],
   "source": [
    "icaGroups = read.csv('/home/beraslan/jovian-work/analysisSingle/ICA_15_factors_effectedGenes_paper.csv', stringsAsFactors = FALSE)\n"
   ]
  },
  {
   "cell_type": "code",
   "execution_count": 3,
   "id": "5ddc09a7-e87b-4b33-98b0-08f7c3dc4e99",
   "metadata": {
    "tags": []
   },
   "outputs": [
    {
     "data": {
      "text/html": [
       "<table>\n",
       "<caption>A data.frame: 6 × 6</caption>\n",
       "<thead>\n",
       "\t<tr><th></th><th scope=col>names</th><th scope=col>scores</th><th scope=col>logfoldchanges</th><th scope=col>pvals</th><th scope=col>pvals_adj</th><th scope=col>TestCondition</th></tr>\n",
       "\t<tr><th></th><th scope=col>&lt;chr&gt;</th><th scope=col>&lt;dbl&gt;</th><th scope=col>&lt;dbl&gt;</th><th scope=col>&lt;dbl&gt;</th><th scope=col>&lt;dbl&gt;</th><th scope=col>&lt;chr&gt;</th></tr>\n",
       "</thead>\n",
       "<tbody>\n",
       "\t<tr><th scope=row>1</th><td>Il1b </td><td>113.96947</td><td>6.291486</td><td>0</td><td>0</td><td>LPSPlusOverMinus</td></tr>\n",
       "\t<tr><th scope=row>2</th><td>Ccl3 </td><td> 82.82667</td><td>4.866614</td><td>0</td><td>0</td><td>LPSPlusOverMinus</td></tr>\n",
       "\t<tr><th scope=row>3</th><td>Il1a </td><td> 82.29810</td><td>5.450544</td><td>0</td><td>0</td><td>LPSPlusOverMinus</td></tr>\n",
       "\t<tr><th scope=row>4</th><td>Cxcl3</td><td> 75.69734</td><td>5.183929</td><td>0</td><td>0</td><td>LPSPlusOverMinus</td></tr>\n",
       "\t<tr><th scope=row>5</th><td>Ccl4 </td><td> 69.94819</td><td>5.198575</td><td>0</td><td>0</td><td>LPSPlusOverMinus</td></tr>\n",
       "\t<tr><th scope=row>6</th><td>Tnf  </td><td> 68.40440</td><td>4.412643</td><td>0</td><td>0</td><td>LPSPlusOverMinus</td></tr>\n",
       "</tbody>\n",
       "</table>\n"
      ],
      "text/latex": [
       "A data.frame: 6 × 6\n",
       "\\begin{tabular}{r|llllll}\n",
       "  & names & scores & logfoldchanges & pvals & pvals\\_adj & TestCondition\\\\\n",
       "  & <chr> & <dbl> & <dbl> & <dbl> & <dbl> & <chr>\\\\\n",
       "\\hline\n",
       "\t1 & Il1b  & 113.96947 & 6.291486 & 0 & 0 & LPSPlusOverMinus\\\\\n",
       "\t2 & Ccl3  &  82.82667 & 4.866614 & 0 & 0 & LPSPlusOverMinus\\\\\n",
       "\t3 & Il1a  &  82.29810 & 5.450544 & 0 & 0 & LPSPlusOverMinus\\\\\n",
       "\t4 & Cxcl3 &  75.69734 & 5.183929 & 0 & 0 & LPSPlusOverMinus\\\\\n",
       "\t5 & Ccl4  &  69.94819 & 5.198575 & 0 & 0 & LPSPlusOverMinus\\\\\n",
       "\t6 & Tnf   &  68.40440 & 4.412643 & 0 & 0 & LPSPlusOverMinus\\\\\n",
       "\\end{tabular}\n"
      ],
      "text/markdown": [
       "\n",
       "A data.frame: 6 × 6\n",
       "\n",
       "| <!--/--> | names &lt;chr&gt; | scores &lt;dbl&gt; | logfoldchanges &lt;dbl&gt; | pvals &lt;dbl&gt; | pvals_adj &lt;dbl&gt; | TestCondition &lt;chr&gt; |\n",
       "|---|---|---|---|---|---|---|\n",
       "| 1 | Il1b  | 113.96947 | 6.291486 | 0 | 0 | LPSPlusOverMinus |\n",
       "| 2 | Ccl3  |  82.82667 | 4.866614 | 0 | 0 | LPSPlusOverMinus |\n",
       "| 3 | Il1a  |  82.29810 | 5.450544 | 0 | 0 | LPSPlusOverMinus |\n",
       "| 4 | Cxcl3 |  75.69734 | 5.183929 | 0 | 0 | LPSPlusOverMinus |\n",
       "| 5 | Ccl4  |  69.94819 | 5.198575 | 0 | 0 | LPSPlusOverMinus |\n",
       "| 6 | Tnf   |  68.40440 | 4.412643 | 0 | 0 | LPSPlusOverMinus |\n",
       "\n"
      ],
      "text/plain": [
       "  names scores    logfoldchanges pvals pvals_adj TestCondition   \n",
       "1 Il1b  113.96947 6.291486       0     0         LPSPlusOverMinus\n",
       "2 Ccl3   82.82667 4.866614       0     0         LPSPlusOverMinus\n",
       "3 Il1a   82.29810 5.450544       0     0         LPSPlusOverMinus\n",
       "4 Cxcl3  75.69734 5.183929       0     0         LPSPlusOverMinus\n",
       "5 Ccl4   69.94819 5.198575       0     0         LPSPlusOverMinus\n",
       "6 Tnf    68.40440 4.412643       0     0         LPSPlusOverMinus"
      ]
     },
     "metadata": {},
     "output_type": "display_data"
    }
   ],
   "source": [
    "lpsDEGenes = read.csv('/home/beraslan/jovian-work/analysisSingle/LPSPlusOverMinusDEGenes.csv', stringsAsFactors = FALSE)\n",
    "head(lpsDEGenes)"
   ]
  },
  {
   "cell_type": "code",
   "execution_count": 4,
   "id": "1bfd7e00-5223-49df-a12e-29e8c1e2d378",
   "metadata": {},
   "outputs": [
    {
     "data": {
      "text/html": [
       "0.5000689"
      ],
      "text/latex": [
       "0.5000689"
      ],
      "text/markdown": [
       "0.5000689"
      ],
      "text/plain": [
       "[1] 0.5000689"
      ]
     },
     "metadata": {},
     "output_type": "display_data"
    }
   ],
   "source": [
    "min(abs(lpsDEGenes$logfoldchanges))"
   ]
  },
  {
   "cell_type": "code",
   "execution_count": 5,
   "id": "3733e0be-8396-46c3-8ae9-ca0046b5ff76",
   "metadata": {},
   "outputs": [],
   "source": [
    "lpsUpRegGenes <- lpsDEGenes[lpsDEGenes$logfoldchanges > 0,]\n",
    "lpsDownRegGenes <- lpsDEGenes[lpsDEGenes$logfoldchanges < 0,]"
   ]
  },
  {
   "cell_type": "code",
   "execution_count": 6,
   "id": "cbbc3f63-d91e-4110-9cef-8a9030e0cc68",
   "metadata": {},
   "outputs": [],
   "source": [
    "K <- sapply(icaGroups, function(x){return(x[x %in% lpsUpRegGenes$names])})\n",
    "writePathwayFile(pathwayGenes=K, fileName=\"lpsUpRegGenes_in_ICAFACTORS.csv\", cNames=T)"
   ]
  },
  {
   "cell_type": "code",
   "execution_count": 8,
   "id": "9b34bd27-8532-4208-8ec0-3c3b789e4208",
   "metadata": {},
   "outputs": [],
   "source": [
    "K <- sapply(icaGroups, function(x){return(x[x %in% lpsDownRegGenes$names])})\n",
    "writePathwayFile(pathwayGenes=K, fileName=\"lpsDownRegGenes_in_ICAFACTORS.csv\", cNames=T)"
   ]
  },
  {
   "cell_type": "code",
   "execution_count": 9,
   "id": "2f828a77-15e6-4f55-83b1-5310e655ef4b",
   "metadata": {},
   "outputs": [],
   "source": [
    "cGuides = data.frame(read.csv('/home/beraslan/jovian-work/analysisSingle/ME_GuideModules_leiden_6_Modules.csv'), stringsAsFactors = FALSE, row.names = 1)\n"
   ]
  },
  {
   "cell_type": "code",
   "execution_count": 10,
   "id": "cc26b8fe-f513-4999-b4b0-d4b96b77cdf0",
   "metadata": {},
   "outputs": [],
   "source": [
    "cGuidesTFs <- cGuides[cGuides$GuideName %in% lpsUpRegGenes$names,]\n",
    "cGuidesTFs$GuideColor <- NULL\n",
    "write.csv(cGuidesTFs, \"lpsUpRegGenes_in_GuideGroups.csv\", row.names=FALSE)"
   ]
  },
  {
   "cell_type": "code",
   "execution_count": 11,
   "id": "c296101c-b20f-40b5-b5b2-33e1a263df50",
   "metadata": {},
   "outputs": [],
   "source": [
    "cGuidesTFs <- cGuides[cGuides$GuideName %in% lpsDownRegGenes$names,]\n",
    "cGuidesTFs$GuideColor <- NULL\n",
    "write.csv(cGuidesTFs, \"lpsDownRegGenes_in_GuideGroups.csv\", row.names=FALSE)"
   ]
  },
  {
   "cell_type": "code",
   "execution_count": 12,
   "id": "e2faceac-13e6-41b8-9b40-d8f572a13aed",
   "metadata": {},
   "outputs": [],
   "source": [
    "cGenes = data.frame(read.csv('/home/beraslan/jovian-work/analysisSingle/ME_GeneModules_leiden_8_Modules.csv'), stringsAsFactors = FALSE, row.names = 1)\n"
   ]
  },
  {
   "cell_type": "code",
   "execution_count": 13,
   "id": "2ad26f6e-f564-49a3-aef3-1d6348f14907",
   "metadata": {},
   "outputs": [],
   "source": [
    "cGenesTFs <- cGenes[cGenes$GeneName %in% lpsUpRegGenes$names,]\n",
    "cGenesTFs$GeneColor = NULL\n",
    "write.csv(cGenesTFs, \"lpsUpRegGenes_in_GeneGroups.csv\", row.names=FALSE)"
   ]
  },
  {
   "cell_type": "code",
   "execution_count": 14,
   "id": "e349321b-bd8b-4c14-a68a-6a4cd783b970",
   "metadata": {},
   "outputs": [],
   "source": [
    "cGenesTFs <- cGenes[cGenes$GeneName %in% lpsDownRegGenes$names,]\n",
    "cGenesTFs$GeneColor = NULL\n",
    "write.csv(cGenesTFs, \"lpsDownRegGenes_in_GeneGroups.csv\", row.names=FALSE)"
   ]
  },
  {
   "cell_type": "code",
   "execution_count": null,
   "id": "fbc99632-80a7-431b-9cd0-7fc31eab0bdf",
   "metadata": {},
   "outputs": [],
   "source": []
  },
  {
   "cell_type": "code",
   "execution_count": null,
   "id": "d658ab6b-f620-4766-8725-8fa5ad176abb",
   "metadata": {},
   "outputs": [],
   "source": []
  }
 ],
 "metadata": {
  "kernelspec": {
   "display_name": "R",
   "language": "R",
   "name": "ir"
  },
  "language_info": {
   "codemirror_mode": "r",
   "file_extension": ".r",
   "mimetype": "text/x-r-source",
   "name": "R",
   "pygments_lexer": "r",
   "version": "3.6.3"
  }
 },
 "nbformat": 4,
 "nbformat_minor": 5
}
