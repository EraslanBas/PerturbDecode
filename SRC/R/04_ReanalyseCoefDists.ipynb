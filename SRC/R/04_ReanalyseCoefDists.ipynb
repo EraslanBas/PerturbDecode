{
 "cells": [
  {
   "cell_type": "code",
   "execution_count": 23,
   "id": "f3d9d349-a1f3-450d-8481-83386ad7b3bf",
   "metadata": {
    "tags": []
   },
   "outputs": [],
   "source": [
    "source(\"Main.R\")\n",
    "source(\"Conf.R\")\n",
    "source(\"Utilities.R\")\n",
    "source(\"DAVID_query.R\")\n",
    "library(\"factoextra\")\n",
    "library(\"maptree\")\n",
    "library(\"ggpubr\")\n",
    "library(NMF)\n",
    "\n",
    "library(repr)\n",
    "fileDir = \"/home/beraslan/jovian-work/analysisSingle/\"\n",
    "geneCutOff=4\n",
    "targetCutOff=14\n",
    "library(qvalue)"
   ]
  },
  {
   "cell_type": "code",
   "execution_count": 2,
   "id": "177f027e-401d-416f-b5d1-4df25cbbd199",
   "metadata": {},
   "outputs": [],
   "source": [
    "coefsAll_Control <- read.csv(\"/home/beraslan/jovian-work/analysisSingle/MixedEffectLMOutputs/ME_LMBetaCoefsALL_Control.csv\", row.names = 1, )\n",
    "pValsAll_Control <- read.csv(\"/home/beraslan/jovian-work/analysisSingle/MixedEffectLMOutputs/ME_LMPValuesALL_Control.csv\", row.names = 1)\n",
    "\n",
    "coefsAll <- read.csv(\"/home/beraslan/jovian-work/analysisSingle/MixedEffectLMOutputs/ME_LMBetaCoefsALL.csv\", row.names = 1, )\n",
    "pValsAll <- read.csv(\"/home/beraslan/jovian-work/analysisSingle/MixedEffectLMOutputs/ME_LMPValuesALL.csv\", row.names = 1)\n",
    "pValsAll <- pValsAll[rownames(pValsAll) %ni% c(\"Intercept\", \"n_genes\", \"mt_frac\", \"Group Var\"),]\n",
    "coefsAll <- coefsAll[rownames(coefsAll) %ni% c(\"Intercept\", \"n_genes\", \"mt_frac\", \"Group Var\"),]"
   ]
  },
  {
   "cell_type": "code",
   "execution_count": 4,
   "id": "745f87ff-220f-41a8-9178-855a5a051cef",
   "metadata": {},
   "outputs": [
    {
     "data": {
      "text/html": [
       "<style>\n",
       ".list-inline {list-style: none; margin:0; padding: 0}\n",
       ".list-inline>li {display: inline-block}\n",
       ".list-inline>li:not(:last-child)::after {content: \"\\00b7\"; padding: 0 .5ex}\n",
       "</style>\n",
       "<ol class=list-inline><li>400</li><li>6640</li></ol>\n"
      ],
      "text/latex": [
       "\\begin{enumerate*}\n",
       "\\item 400\n",
       "\\item 6640\n",
       "\\end{enumerate*}\n"
      ],
      "text/markdown": [
       "1. 400\n",
       "2. 6640\n",
       "\n",
       "\n"
      ],
      "text/plain": [
       "[1]  400 6640"
      ]
     },
     "metadata": {},
     "output_type": "display_data"
    }
   ],
   "source": [
    "dim(coefsAll_Control)"
   ]
  },
  {
   "cell_type": "code",
   "execution_count": 5,
   "id": "d0625719-5be6-4898-9048-8594245b03b9",
   "metadata": {},
   "outputs": [
    {
     "data": {
      "text/html": [
       "<style>\n",
       ".list-inline {list-style: none; margin:0; padding: 0}\n",
       ".list-inline>li {display: inline-block}\n",
       ".list-inline>li:not(:last-child)::after {content: \"\\00b7\"; padding: 0 .5ex}\n",
       "</style>\n",
       "<ol class=list-inline><li>1031</li><li>6685</li></ol>\n"
      ],
      "text/latex": [
       "\\begin{enumerate*}\n",
       "\\item 1031\n",
       "\\item 6685\n",
       "\\end{enumerate*}\n"
      ],
      "text/markdown": [
       "1. 1031\n",
       "2. 6685\n",
       "\n",
       "\n"
      ],
      "text/plain": [
       "[1] 1031 6685"
      ]
     },
     "metadata": {},
     "output_type": "display_data"
    }
   ],
   "source": [
    "dim(coefsAll)"
   ]
  },
  {
   "cell_type": "code",
   "execution_count": 6,
   "id": "16de2b07-c957-4b72-b31b-779a52f1709e",
   "metadata": {},
   "outputs": [
    {
     "data": {
      "text/html": [
       "<table>\n",
       "<caption>A data.frame: 6 × 6640</caption>\n",
       "<thead>\n",
       "\t<tr><th></th><th scope=col>Mrpl15</th><th scope=col>Lypla1</th><th scope=col>Tcea1</th><th scope=col>Atp6v1h</th><th scope=col>Rb1cc1</th><th scope=col>Pcmtd1</th><th scope=col>Rrs1</th><th scope=col>Vcpip1</th><th scope=col>Sgk3</th><th scope=col>Snhg6</th><th scope=col>⋯</th><th scope=col>Slf2</th><th scope=col>Mrpl43</th><th scope=col>Sfxn3</th><th scope=col>Gm17018</th><th scope=col>Npm3</th><th scope=col>Mgea5</th><th scope=col>Ldb1</th><th scope=col>Pprc1</th><th scope=col>Nolc1</th><th scope=col>Gbf1</th></tr>\n",
       "\t<tr><th></th><th scope=col>&lt;dbl&gt;</th><th scope=col>&lt;dbl&gt;</th><th scope=col>&lt;dbl&gt;</th><th scope=col>&lt;dbl&gt;</th><th scope=col>&lt;dbl&gt;</th><th scope=col>&lt;dbl&gt;</th><th scope=col>&lt;dbl&gt;</th><th scope=col>&lt;dbl&gt;</th><th scope=col>&lt;dbl&gt;</th><th scope=col>&lt;dbl&gt;</th><th scope=col>⋯</th><th scope=col>&lt;dbl&gt;</th><th scope=col>&lt;dbl&gt;</th><th scope=col>&lt;dbl&gt;</th><th scope=col>&lt;dbl&gt;</th><th scope=col>&lt;dbl&gt;</th><th scope=col>&lt;dbl&gt;</th><th scope=col>&lt;dbl&gt;</th><th scope=col>&lt;dbl&gt;</th><th scope=col>&lt;dbl&gt;</th><th scope=col>&lt;dbl&gt;</th></tr>\n",
       "</thead>\n",
       "<tbody>\n",
       "\t<tr><th scope=row>GENE_RandomControl_0</th><td> 0.008</td><td> 0.047</td><td> 0.109</td><td>-0.007</td><td>-0.173</td><td>-0.090</td><td>-0.076</td><td>-0.029</td><td> 0.046</td><td> 0.071</td><td>⋯</td><td> 0.120</td><td> 0.070</td><td> 0.022</td><td>-0.061</td><td>-0.055</td><td> 0.044</td><td>-0.085</td><td> 0.023</td><td>-0.009</td><td> 0.032</td></tr>\n",
       "\t<tr><th scope=row>GENE_RandomControl_1</th><td>-0.063</td><td>-0.043</td><td> 0.087</td><td>-0.088</td><td> 0.004</td><td>-0.010</td><td>-0.003</td><td> 0.071</td><td> 0.102</td><td> 0.189</td><td>⋯</td><td> 0.011</td><td> 0.099</td><td> 0.015</td><td> 0.122</td><td> 0.099</td><td> 0.002</td><td> 0.057</td><td>-0.108</td><td>-0.074</td><td>-0.007</td></tr>\n",
       "\t<tr><th scope=row>GENE_RandomControl_2</th><td>-0.005</td><td> 0.145</td><td>-0.009</td><td>-0.046</td><td> 0.087</td><td>-0.039</td><td>-0.079</td><td> 0.040</td><td>-0.050</td><td>-0.002</td><td>⋯</td><td>-0.118</td><td> 0.084</td><td>-0.127</td><td>-0.007</td><td>-0.030</td><td>-0.080</td><td>-0.098</td><td> 0.090</td><td>-0.010</td><td> 0.090</td></tr>\n",
       "\t<tr><th scope=row>GENE_RandomControl_3</th><td>-0.008</td><td>-0.041</td><td> 0.039</td><td>-0.124</td><td> 0.055</td><td> 0.035</td><td>-0.006</td><td> 0.037</td><td> 0.004</td><td>-0.074</td><td>⋯</td><td>-0.005</td><td>-0.015</td><td> 0.052</td><td> 0.050</td><td>-0.073</td><td>-0.080</td><td>-0.003</td><td> 0.032</td><td>-0.130</td><td> 0.051</td></tr>\n",
       "\t<tr><th scope=row>GENE_RandomControl_4</th><td>-0.017</td><td>-0.080</td><td>-0.147</td><td>-0.101</td><td> 0.147</td><td> 0.008</td><td>-0.021</td><td> 0.034</td><td> 0.024</td><td> 0.021</td><td>⋯</td><td> 0.031</td><td> 0.061</td><td> 0.011</td><td>-0.088</td><td>-0.098</td><td> 0.002</td><td>-0.011</td><td>-0.120</td><td>-0.005</td><td>-0.070</td></tr>\n",
       "\t<tr><th scope=row>GENE_RandomControl_5</th><td> 0.018</td><td> 0.062</td><td>-0.080</td><td> 0.065</td><td> 0.153</td><td>-0.071</td><td>-0.058</td><td> 0.016</td><td> 0.087</td><td> 0.136</td><td>⋯</td><td> 0.077</td><td> 0.039</td><td>-0.026</td><td> 0.141</td><td> 0.022</td><td>-0.023</td><td> 0.057</td><td>-0.028</td><td> 0.036</td><td> 0.070</td></tr>\n",
       "</tbody>\n",
       "</table>\n"
      ],
      "text/latex": [
       "A data.frame: 6 × 6640\n",
       "\\begin{tabular}{r|lllllllllllllllllllll}\n",
       "  & Mrpl15 & Lypla1 & Tcea1 & Atp6v1h & Rb1cc1 & Pcmtd1 & Rrs1 & Vcpip1 & Sgk3 & Snhg6 & ⋯ & Slf2 & Mrpl43 & Sfxn3 & Gm17018 & Npm3 & Mgea5 & Ldb1 & Pprc1 & Nolc1 & Gbf1\\\\\n",
       "  & <dbl> & <dbl> & <dbl> & <dbl> & <dbl> & <dbl> & <dbl> & <dbl> & <dbl> & <dbl> & ⋯ & <dbl> & <dbl> & <dbl> & <dbl> & <dbl> & <dbl> & <dbl> & <dbl> & <dbl> & <dbl>\\\\\n",
       "\\hline\n",
       "\tGENE\\_RandomControl\\_0 &  0.008 &  0.047 &  0.109 & -0.007 & -0.173 & -0.090 & -0.076 & -0.029 &  0.046 &  0.071 & ⋯ &  0.120 &  0.070 &  0.022 & -0.061 & -0.055 &  0.044 & -0.085 &  0.023 & -0.009 &  0.032\\\\\n",
       "\tGENE\\_RandomControl\\_1 & -0.063 & -0.043 &  0.087 & -0.088 &  0.004 & -0.010 & -0.003 &  0.071 &  0.102 &  0.189 & ⋯ &  0.011 &  0.099 &  0.015 &  0.122 &  0.099 &  0.002 &  0.057 & -0.108 & -0.074 & -0.007\\\\\n",
       "\tGENE\\_RandomControl\\_2 & -0.005 &  0.145 & -0.009 & -0.046 &  0.087 & -0.039 & -0.079 &  0.040 & -0.050 & -0.002 & ⋯ & -0.118 &  0.084 & -0.127 & -0.007 & -0.030 & -0.080 & -0.098 &  0.090 & -0.010 &  0.090\\\\\n",
       "\tGENE\\_RandomControl\\_3 & -0.008 & -0.041 &  0.039 & -0.124 &  0.055 &  0.035 & -0.006 &  0.037 &  0.004 & -0.074 & ⋯ & -0.005 & -0.015 &  0.052 &  0.050 & -0.073 & -0.080 & -0.003 &  0.032 & -0.130 &  0.051\\\\\n",
       "\tGENE\\_RandomControl\\_4 & -0.017 & -0.080 & -0.147 & -0.101 &  0.147 &  0.008 & -0.021 &  0.034 &  0.024 &  0.021 & ⋯ &  0.031 &  0.061 &  0.011 & -0.088 & -0.098 &  0.002 & -0.011 & -0.120 & -0.005 & -0.070\\\\\n",
       "\tGENE\\_RandomControl\\_5 &  0.018 &  0.062 & -0.080 &  0.065 &  0.153 & -0.071 & -0.058 &  0.016 &  0.087 &  0.136 & ⋯ &  0.077 &  0.039 & -0.026 &  0.141 &  0.022 & -0.023 &  0.057 & -0.028 &  0.036 &  0.070\\\\\n",
       "\\end{tabular}\n"
      ],
      "text/markdown": [
       "\n",
       "A data.frame: 6 × 6640\n",
       "\n",
       "| <!--/--> | Mrpl15 &lt;dbl&gt; | Lypla1 &lt;dbl&gt; | Tcea1 &lt;dbl&gt; | Atp6v1h &lt;dbl&gt; | Rb1cc1 &lt;dbl&gt; | Pcmtd1 &lt;dbl&gt; | Rrs1 &lt;dbl&gt; | Vcpip1 &lt;dbl&gt; | Sgk3 &lt;dbl&gt; | Snhg6 &lt;dbl&gt; | ⋯ ⋯ | Slf2 &lt;dbl&gt; | Mrpl43 &lt;dbl&gt; | Sfxn3 &lt;dbl&gt; | Gm17018 &lt;dbl&gt; | Npm3 &lt;dbl&gt; | Mgea5 &lt;dbl&gt; | Ldb1 &lt;dbl&gt; | Pprc1 &lt;dbl&gt; | Nolc1 &lt;dbl&gt; | Gbf1 &lt;dbl&gt; |\n",
       "|---|---|---|---|---|---|---|---|---|---|---|---|---|---|---|---|---|---|---|---|---|---|\n",
       "| GENE_RandomControl_0 |  0.008 |  0.047 |  0.109 | -0.007 | -0.173 | -0.090 | -0.076 | -0.029 |  0.046 |  0.071 | ⋯ |  0.120 |  0.070 |  0.022 | -0.061 | -0.055 |  0.044 | -0.085 |  0.023 | -0.009 |  0.032 |\n",
       "| GENE_RandomControl_1 | -0.063 | -0.043 |  0.087 | -0.088 |  0.004 | -0.010 | -0.003 |  0.071 |  0.102 |  0.189 | ⋯ |  0.011 |  0.099 |  0.015 |  0.122 |  0.099 |  0.002 |  0.057 | -0.108 | -0.074 | -0.007 |\n",
       "| GENE_RandomControl_2 | -0.005 |  0.145 | -0.009 | -0.046 |  0.087 | -0.039 | -0.079 |  0.040 | -0.050 | -0.002 | ⋯ | -0.118 |  0.084 | -0.127 | -0.007 | -0.030 | -0.080 | -0.098 |  0.090 | -0.010 |  0.090 |\n",
       "| GENE_RandomControl_3 | -0.008 | -0.041 |  0.039 | -0.124 |  0.055 |  0.035 | -0.006 |  0.037 |  0.004 | -0.074 | ⋯ | -0.005 | -0.015 |  0.052 |  0.050 | -0.073 | -0.080 | -0.003 |  0.032 | -0.130 |  0.051 |\n",
       "| GENE_RandomControl_4 | -0.017 | -0.080 | -0.147 | -0.101 |  0.147 |  0.008 | -0.021 |  0.034 |  0.024 |  0.021 | ⋯ |  0.031 |  0.061 |  0.011 | -0.088 | -0.098 |  0.002 | -0.011 | -0.120 | -0.005 | -0.070 |\n",
       "| GENE_RandomControl_5 |  0.018 |  0.062 | -0.080 |  0.065 |  0.153 | -0.071 | -0.058 |  0.016 |  0.087 |  0.136 | ⋯ |  0.077 |  0.039 | -0.026 |  0.141 |  0.022 | -0.023 |  0.057 | -0.028 |  0.036 |  0.070 |\n",
       "\n"
      ],
      "text/plain": [
       "                     Mrpl15 Lypla1 Tcea1  Atp6v1h Rb1cc1 Pcmtd1 Rrs1   Vcpip1\n",
       "GENE_RandomControl_0  0.008  0.047  0.109 -0.007  -0.173 -0.090 -0.076 -0.029\n",
       "GENE_RandomControl_1 -0.063 -0.043  0.087 -0.088   0.004 -0.010 -0.003  0.071\n",
       "GENE_RandomControl_2 -0.005  0.145 -0.009 -0.046   0.087 -0.039 -0.079  0.040\n",
       "GENE_RandomControl_3 -0.008 -0.041  0.039 -0.124   0.055  0.035 -0.006  0.037\n",
       "GENE_RandomControl_4 -0.017 -0.080 -0.147 -0.101   0.147  0.008 -0.021  0.034\n",
       "GENE_RandomControl_5  0.018  0.062 -0.080  0.065   0.153 -0.071 -0.058  0.016\n",
       "                     Sgk3   Snhg6  ⋯ Slf2   Mrpl43 Sfxn3  Gm17018 Npm3   Mgea5 \n",
       "GENE_RandomControl_0  0.046  0.071 ⋯  0.120  0.070  0.022 -0.061  -0.055  0.044\n",
       "GENE_RandomControl_1  0.102  0.189 ⋯  0.011  0.099  0.015  0.122   0.099  0.002\n",
       "GENE_RandomControl_2 -0.050 -0.002 ⋯ -0.118  0.084 -0.127 -0.007  -0.030 -0.080\n",
       "GENE_RandomControl_3  0.004 -0.074 ⋯ -0.005 -0.015  0.052  0.050  -0.073 -0.080\n",
       "GENE_RandomControl_4  0.024  0.021 ⋯  0.031  0.061  0.011 -0.088  -0.098  0.002\n",
       "GENE_RandomControl_5  0.087  0.136 ⋯  0.077  0.039 -0.026  0.141   0.022 -0.023\n",
       "                     Ldb1   Pprc1  Nolc1  Gbf1  \n",
       "GENE_RandomControl_0 -0.085  0.023 -0.009  0.032\n",
       "GENE_RandomControl_1  0.057 -0.108 -0.074 -0.007\n",
       "GENE_RandomControl_2 -0.098  0.090 -0.010  0.090\n",
       "GENE_RandomControl_3 -0.003  0.032 -0.130  0.051\n",
       "GENE_RandomControl_4 -0.011 -0.120 -0.005 -0.070\n",
       "GENE_RandomControl_5  0.057 -0.028  0.036  0.070"
      ]
     },
     "metadata": {},
     "output_type": "display_data"
    }
   ],
   "source": [
    "head(coefsAll_Control)"
   ]
  },
  {
   "cell_type": "code",
   "execution_count": 9,
   "id": "e595ff84-c361-4f97-87a8-950a84f3ae2c",
   "metadata": {},
   "outputs": [
    {
     "data": {
      "text/html": [
       "<table>\n",
       "<caption>A data.frame: 6 × 6640</caption>\n",
       "<thead>\n",
       "\t<tr><th></th><th scope=col>Mrpl15</th><th scope=col>Lypla1</th><th scope=col>Tcea1</th><th scope=col>Atp6v1h</th><th scope=col>Rb1cc1</th><th scope=col>Pcmtd1</th><th scope=col>Rrs1</th><th scope=col>Vcpip1</th><th scope=col>Sgk3</th><th scope=col>Snhg6</th><th scope=col>⋯</th><th scope=col>Slf2</th><th scope=col>Mrpl43</th><th scope=col>Sfxn3</th><th scope=col>Gm17018</th><th scope=col>Npm3</th><th scope=col>Mgea5</th><th scope=col>Ldb1</th><th scope=col>Pprc1</th><th scope=col>Nolc1</th><th scope=col>Gbf1</th></tr>\n",
       "\t<tr><th></th><th scope=col>&lt;dbl&gt;</th><th scope=col>&lt;dbl&gt;</th><th scope=col>&lt;dbl&gt;</th><th scope=col>&lt;dbl&gt;</th><th scope=col>&lt;dbl&gt;</th><th scope=col>&lt;dbl&gt;</th><th scope=col>&lt;dbl&gt;</th><th scope=col>&lt;dbl&gt;</th><th scope=col>&lt;dbl&gt;</th><th scope=col>&lt;dbl&gt;</th><th scope=col>⋯</th><th scope=col>&lt;dbl&gt;</th><th scope=col>&lt;dbl&gt;</th><th scope=col>&lt;dbl&gt;</th><th scope=col>&lt;dbl&gt;</th><th scope=col>&lt;dbl&gt;</th><th scope=col>&lt;dbl&gt;</th><th scope=col>&lt;dbl&gt;</th><th scope=col>&lt;dbl&gt;</th><th scope=col>&lt;dbl&gt;</th><th scope=col>&lt;dbl&gt;</th></tr>\n",
       "</thead>\n",
       "<tbody>\n",
       "\t<tr><th scope=row>GENE_4921501E09Rik_</th><td> 0.140</td><td> 0.050</td><td> 0.064</td><td> 0.116</td><td>-0.012</td><td> 0.030</td><td>-0.103</td><td>-0.003</td><td> 0.005</td><td> 0.217</td><td>⋯</td><td>-0.040</td><td> 0.046</td><td>-0.046</td><td>-0.008</td><td>-0.090</td><td>-0.053</td><td>-0.071</td><td>-0.028</td><td> 0.031</td><td>0.001</td></tr>\n",
       "\t<tr><th scope=row>GENE_4930595M18Rik_</th><td> 0.009</td><td> 0.099</td><td> 0.003</td><td>-0.004</td><td> 0.006</td><td> 0.034</td><td> 0.041</td><td>-0.035</td><td>-0.018</td><td> 0.000</td><td>⋯</td><td> 0.135</td><td>-0.007</td><td>-0.048</td><td>-0.113</td><td>-0.099</td><td>-0.018</td><td>-0.007</td><td> 0.019</td><td> 0.036</td><td>0.044</td></tr>\n",
       "\t<tr><th scope=row>GENE_8030462N17Rik_</th><td>-0.126</td><td>-0.066</td><td>-0.174</td><td>-0.094</td><td> 0.129</td><td>-0.030</td><td> 0.066</td><td>-0.247</td><td>-0.038</td><td> 0.097</td><td>⋯</td><td> 0.086</td><td> 0.079</td><td> 0.079</td><td>-0.150</td><td> 0.018</td><td> 0.153</td><td> 0.443</td><td>-0.022</td><td>-0.006</td><td>0.028</td></tr>\n",
       "\t<tr><th scope=row>GENE_Aamp_</th><td> 0.084</td><td> 0.062</td><td> 0.038</td><td> 0.121</td><td> 0.043</td><td>-0.035</td><td> 0.004</td><td> 0.197</td><td>-0.044</td><td>-0.119</td><td>⋯</td><td>-0.057</td><td>-0.167</td><td> 0.027</td><td>-0.007</td><td>-0.262</td><td> 0.031</td><td>-0.086</td><td> 0.055</td><td>-0.105</td><td>0.136</td></tr>\n",
       "\t<tr><th scope=row>GENE_Abtb1_</th><td> 0.004</td><td> 0.199</td><td>-0.143</td><td>-0.043</td><td> 0.004</td><td> 0.145</td><td>-0.114</td><td>-0.029</td><td> 0.116</td><td>-0.026</td><td>⋯</td><td> 0.025</td><td>-0.120</td><td> 0.001</td><td> 0.063</td><td>-0.042</td><td> 0.085</td><td> 0.152</td><td>-0.116</td><td>-0.098</td><td>0.021</td></tr>\n",
       "\t<tr><th scope=row>GENE_Abtb2_</th><td> 0.063</td><td> 0.001</td><td> 0.053</td><td> 0.090</td><td>-0.012</td><td> 0.022</td><td> 0.043</td><td> 0.011</td><td> 0.034</td><td>-0.035</td><td>⋯</td><td>-0.044</td><td> 0.014</td><td>-0.056</td><td>-0.086</td><td> 0.019</td><td>-0.053</td><td> 0.039</td><td> 0.011</td><td>-0.089</td><td>0.026</td></tr>\n",
       "</tbody>\n",
       "</table>\n"
      ],
      "text/latex": [
       "A data.frame: 6 × 6640\n",
       "\\begin{tabular}{r|lllllllllllllllllllll}\n",
       "  & Mrpl15 & Lypla1 & Tcea1 & Atp6v1h & Rb1cc1 & Pcmtd1 & Rrs1 & Vcpip1 & Sgk3 & Snhg6 & ⋯ & Slf2 & Mrpl43 & Sfxn3 & Gm17018 & Npm3 & Mgea5 & Ldb1 & Pprc1 & Nolc1 & Gbf1\\\\\n",
       "  & <dbl> & <dbl> & <dbl> & <dbl> & <dbl> & <dbl> & <dbl> & <dbl> & <dbl> & <dbl> & ⋯ & <dbl> & <dbl> & <dbl> & <dbl> & <dbl> & <dbl> & <dbl> & <dbl> & <dbl> & <dbl>\\\\\n",
       "\\hline\n",
       "\tGENE\\_4921501E09Rik\\_ &  0.140 &  0.050 &  0.064 &  0.116 & -0.012 &  0.030 & -0.103 & -0.003 &  0.005 &  0.217 & ⋯ & -0.040 &  0.046 & -0.046 & -0.008 & -0.090 & -0.053 & -0.071 & -0.028 &  0.031 & 0.001\\\\\n",
       "\tGENE\\_4930595M18Rik\\_ &  0.009 &  0.099 &  0.003 & -0.004 &  0.006 &  0.034 &  0.041 & -0.035 & -0.018 &  0.000 & ⋯ &  0.135 & -0.007 & -0.048 & -0.113 & -0.099 & -0.018 & -0.007 &  0.019 &  0.036 & 0.044\\\\\n",
       "\tGENE\\_8030462N17Rik\\_ & -0.126 & -0.066 & -0.174 & -0.094 &  0.129 & -0.030 &  0.066 & -0.247 & -0.038 &  0.097 & ⋯ &  0.086 &  0.079 &  0.079 & -0.150 &  0.018 &  0.153 &  0.443 & -0.022 & -0.006 & 0.028\\\\\n",
       "\tGENE\\_Aamp\\_ &  0.084 &  0.062 &  0.038 &  0.121 &  0.043 & -0.035 &  0.004 &  0.197 & -0.044 & -0.119 & ⋯ & -0.057 & -0.167 &  0.027 & -0.007 & -0.262 &  0.031 & -0.086 &  0.055 & -0.105 & 0.136\\\\\n",
       "\tGENE\\_Abtb1\\_ &  0.004 &  0.199 & -0.143 & -0.043 &  0.004 &  0.145 & -0.114 & -0.029 &  0.116 & -0.026 & ⋯ &  0.025 & -0.120 &  0.001 &  0.063 & -0.042 &  0.085 &  0.152 & -0.116 & -0.098 & 0.021\\\\\n",
       "\tGENE\\_Abtb2\\_ &  0.063 &  0.001 &  0.053 &  0.090 & -0.012 &  0.022 &  0.043 &  0.011 &  0.034 & -0.035 & ⋯ & -0.044 &  0.014 & -0.056 & -0.086 &  0.019 & -0.053 &  0.039 &  0.011 & -0.089 & 0.026\\\\\n",
       "\\end{tabular}\n"
      ],
      "text/markdown": [
       "\n",
       "A data.frame: 6 × 6640\n",
       "\n",
       "| <!--/--> | Mrpl15 &lt;dbl&gt; | Lypla1 &lt;dbl&gt; | Tcea1 &lt;dbl&gt; | Atp6v1h &lt;dbl&gt; | Rb1cc1 &lt;dbl&gt; | Pcmtd1 &lt;dbl&gt; | Rrs1 &lt;dbl&gt; | Vcpip1 &lt;dbl&gt; | Sgk3 &lt;dbl&gt; | Snhg6 &lt;dbl&gt; | ⋯ ⋯ | Slf2 &lt;dbl&gt; | Mrpl43 &lt;dbl&gt; | Sfxn3 &lt;dbl&gt; | Gm17018 &lt;dbl&gt; | Npm3 &lt;dbl&gt; | Mgea5 &lt;dbl&gt; | Ldb1 &lt;dbl&gt; | Pprc1 &lt;dbl&gt; | Nolc1 &lt;dbl&gt; | Gbf1 &lt;dbl&gt; |\n",
       "|---|---|---|---|---|---|---|---|---|---|---|---|---|---|---|---|---|---|---|---|---|---|\n",
       "| GENE_4921501E09Rik_ |  0.140 |  0.050 |  0.064 |  0.116 | -0.012 |  0.030 | -0.103 | -0.003 |  0.005 |  0.217 | ⋯ | -0.040 |  0.046 | -0.046 | -0.008 | -0.090 | -0.053 | -0.071 | -0.028 |  0.031 | 0.001 |\n",
       "| GENE_4930595M18Rik_ |  0.009 |  0.099 |  0.003 | -0.004 |  0.006 |  0.034 |  0.041 | -0.035 | -0.018 |  0.000 | ⋯ |  0.135 | -0.007 | -0.048 | -0.113 | -0.099 | -0.018 | -0.007 |  0.019 |  0.036 | 0.044 |\n",
       "| GENE_8030462N17Rik_ | -0.126 | -0.066 | -0.174 | -0.094 |  0.129 | -0.030 |  0.066 | -0.247 | -0.038 |  0.097 | ⋯ |  0.086 |  0.079 |  0.079 | -0.150 |  0.018 |  0.153 |  0.443 | -0.022 | -0.006 | 0.028 |\n",
       "| GENE_Aamp_ |  0.084 |  0.062 |  0.038 |  0.121 |  0.043 | -0.035 |  0.004 |  0.197 | -0.044 | -0.119 | ⋯ | -0.057 | -0.167 |  0.027 | -0.007 | -0.262 |  0.031 | -0.086 |  0.055 | -0.105 | 0.136 |\n",
       "| GENE_Abtb1_ |  0.004 |  0.199 | -0.143 | -0.043 |  0.004 |  0.145 | -0.114 | -0.029 |  0.116 | -0.026 | ⋯ |  0.025 | -0.120 |  0.001 |  0.063 | -0.042 |  0.085 |  0.152 | -0.116 | -0.098 | 0.021 |\n",
       "| GENE_Abtb2_ |  0.063 |  0.001 |  0.053 |  0.090 | -0.012 |  0.022 |  0.043 |  0.011 |  0.034 | -0.035 | ⋯ | -0.044 |  0.014 | -0.056 | -0.086 |  0.019 | -0.053 |  0.039 |  0.011 | -0.089 | 0.026 |\n",
       "\n"
      ],
      "text/plain": [
       "                    Mrpl15 Lypla1 Tcea1  Atp6v1h Rb1cc1 Pcmtd1 Rrs1   Vcpip1\n",
       "GENE_4921501E09Rik_  0.140  0.050  0.064  0.116  -0.012  0.030 -0.103 -0.003\n",
       "GENE_4930595M18Rik_  0.009  0.099  0.003 -0.004   0.006  0.034  0.041 -0.035\n",
       "GENE_8030462N17Rik_ -0.126 -0.066 -0.174 -0.094   0.129 -0.030  0.066 -0.247\n",
       "GENE_Aamp_           0.084  0.062  0.038  0.121   0.043 -0.035  0.004  0.197\n",
       "GENE_Abtb1_          0.004  0.199 -0.143 -0.043   0.004  0.145 -0.114 -0.029\n",
       "GENE_Abtb2_          0.063  0.001  0.053  0.090  -0.012  0.022  0.043  0.011\n",
       "                    Sgk3   Snhg6  ⋯ Slf2   Mrpl43 Sfxn3  Gm17018 Npm3   Mgea5 \n",
       "GENE_4921501E09Rik_  0.005  0.217 ⋯ -0.040  0.046 -0.046 -0.008  -0.090 -0.053\n",
       "GENE_4930595M18Rik_ -0.018  0.000 ⋯  0.135 -0.007 -0.048 -0.113  -0.099 -0.018\n",
       "GENE_8030462N17Rik_ -0.038  0.097 ⋯  0.086  0.079  0.079 -0.150   0.018  0.153\n",
       "GENE_Aamp_          -0.044 -0.119 ⋯ -0.057 -0.167  0.027 -0.007  -0.262  0.031\n",
       "GENE_Abtb1_          0.116 -0.026 ⋯  0.025 -0.120  0.001  0.063  -0.042  0.085\n",
       "GENE_Abtb2_          0.034 -0.035 ⋯ -0.044  0.014 -0.056 -0.086   0.019 -0.053\n",
       "                    Ldb1   Pprc1  Nolc1  Gbf1 \n",
       "GENE_4921501E09Rik_ -0.071 -0.028  0.031 0.001\n",
       "GENE_4930595M18Rik_ -0.007  0.019  0.036 0.044\n",
       "GENE_8030462N17Rik_  0.443 -0.022 -0.006 0.028\n",
       "GENE_Aamp_          -0.086  0.055 -0.105 0.136\n",
       "GENE_Abtb1_          0.152 -0.116 -0.098 0.021\n",
       "GENE_Abtb2_          0.039  0.011 -0.089 0.026"
      ]
     },
     "metadata": {},
     "output_type": "display_data"
    }
   ],
   "source": [
    "head(coefsAll[1:6640])"
   ]
  },
  {
   "cell_type": "code",
   "execution_count": 12,
   "id": "0a953732-8a9a-413a-8fea-45e6b54ab9e3",
   "metadata": {},
   "outputs": [],
   "source": [
    "deneme = data.frame(Coef = coefsAll$Mrpl15, type=\"observed\")\n",
    "k = data.frame(Coef = coefsAll_Control$Mrpl15, type=\"control\")\n",
    "deneme = rbind(deneme, k)"
   ]
  },
  {
   "cell_type": "code",
   "execution_count": 13,
   "id": "0a779c1f-f149-4c15-92ae-418f4db9612f",
   "metadata": {},
   "outputs": [
    {
     "data": {
      "text/html": [
       "<table>\n",
       "<caption>A data.frame: 6 × 2</caption>\n",
       "<thead>\n",
       "\t<tr><th></th><th scope=col>Coef</th><th scope=col>type</th></tr>\n",
       "\t<tr><th></th><th scope=col>&lt;dbl&gt;</th><th scope=col>&lt;fct&gt;</th></tr>\n",
       "</thead>\n",
       "<tbody>\n",
       "\t<tr><th scope=row>1</th><td> 0.140</td><td>observed</td></tr>\n",
       "\t<tr><th scope=row>2</th><td> 0.009</td><td>observed</td></tr>\n",
       "\t<tr><th scope=row>3</th><td>-0.126</td><td>observed</td></tr>\n",
       "\t<tr><th scope=row>4</th><td> 0.084</td><td>observed</td></tr>\n",
       "\t<tr><th scope=row>5</th><td> 0.004</td><td>observed</td></tr>\n",
       "\t<tr><th scope=row>6</th><td> 0.063</td><td>observed</td></tr>\n",
       "</tbody>\n",
       "</table>\n"
      ],
      "text/latex": [
       "A data.frame: 6 × 2\n",
       "\\begin{tabular}{r|ll}\n",
       "  & Coef & type\\\\\n",
       "  & <dbl> & <fct>\\\\\n",
       "\\hline\n",
       "\t1 &  0.140 & observed\\\\\n",
       "\t2 &  0.009 & observed\\\\\n",
       "\t3 & -0.126 & observed\\\\\n",
       "\t4 &  0.084 & observed\\\\\n",
       "\t5 &  0.004 & observed\\\\\n",
       "\t6 &  0.063 & observed\\\\\n",
       "\\end{tabular}\n"
      ],
      "text/markdown": [
       "\n",
       "A data.frame: 6 × 2\n",
       "\n",
       "| <!--/--> | Coef &lt;dbl&gt; | type &lt;fct&gt; |\n",
       "|---|---|---|\n",
       "| 1 |  0.140 | observed |\n",
       "| 2 |  0.009 | observed |\n",
       "| 3 | -0.126 | observed |\n",
       "| 4 |  0.084 | observed |\n",
       "| 5 |  0.004 | observed |\n",
       "| 6 |  0.063 | observed |\n",
       "\n"
      ],
      "text/plain": [
       "  Coef   type    \n",
       "1  0.140 observed\n",
       "2  0.009 observed\n",
       "3 -0.126 observed\n",
       "4  0.084 observed\n",
       "5  0.004 observed\n",
       "6  0.063 observed"
      ]
     },
     "metadata": {},
     "output_type": "display_data"
    }
   ],
   "source": [
    "head(deneme)"
   ]
  },
  {
   "cell_type": "code",
   "execution_count": 15,
   "id": "c834075d-606c-46cc-bb04-b60c06f0b27b",
   "metadata": {},
   "outputs": [
    {
     "name": "stderr",
     "output_type": "stream",
     "text": [
      "`stat_bin()` using `bins = 30`. Pick better value with `binwidth`.\n",
      "\n"
     ]
    },
    {
     "data": {
      "image/png": "[encoded data removed]",
      "text/plain": [
       "plot without title"
      ]
     },
     "metadata": {
      "image/png": {
       "height": 420,
       "width": 420
      }
     },
     "output_type": "display_data"
    }
   ],
   "source": [
    "ggplot(deneme, aes(x=Coef, color=type)) +\n",
    "  geom_histogram(fill=\"white\", alpha=0.5, position=\"dodge\")"
   ]
  },
  {
   "cell_type": "code",
   "execution_count": 16,
   "id": "d88e85b9-6940-4ff7-bae2-e9291ab84912",
   "metadata": {},
   "outputs": [
    {
     "name": "stderr",
     "output_type": "stream",
     "text": [
      "Warning message in ks.test(coefsAll$Mrpl15, coefsAll_Control$Mrpl15):\n",
      "“p-value will be approximate in the presence of ties”\n"
     ]
    },
    {
     "data": {
      "text/plain": [
       "\n",
       "\tTwo-sample Kolmogorov-Smirnov test\n",
       "\n",
       "data:  coefsAll$Mrpl15 and coefsAll_Control$Mrpl15\n",
       "D = 0.081198, p-value = 0.04474\n",
       "alternative hypothesis: two-sided\n"
      ]
     },
     "metadata": {},
     "output_type": "display_data"
    }
   ],
   "source": [
    "ks.test(coefsAll$Mrpl15,coefsAll_Control$Mrpl15)"
   ]
  },
  {
   "cell_type": "code",
   "execution_count": 17,
   "id": "ba45df8d-bef0-4172-be7b-794e9d740046",
   "metadata": {},
   "outputs": [
    {
     "data": {
      "text/html": [
       "<table>\n",
       "<caption>A data.frame: 6 × 6685</caption>\n",
       "<thead>\n",
       "\t<tr><th></th><th scope=col>Mrpl15</th><th scope=col>Lypla1</th><th scope=col>Tcea1</th><th scope=col>Atp6v1h</th><th scope=col>Rb1cc1</th><th scope=col>Pcmtd1</th><th scope=col>Rrs1</th><th scope=col>Vcpip1</th><th scope=col>Sgk3</th><th scope=col>Snhg6</th><th scope=col>⋯</th><th scope=col>Cacul1</th><th scope=col>Eif3a</th><th scope=col>Fam45a</th><th scope=col>Prdx3</th><th scope=col>Grk5</th><th scope=col>Zfp950</th><th scope=col>Csf2ra</th><th scope=col>Vamp7</th><th scope=col>AC149090.1</th><th scope=col>CAAA01118383.1</th></tr>\n",
       "\t<tr><th></th><th scope=col>&lt;dbl&gt;</th><th scope=col>&lt;dbl&gt;</th><th scope=col>&lt;dbl&gt;</th><th scope=col>&lt;dbl&gt;</th><th scope=col>&lt;dbl&gt;</th><th scope=col>&lt;dbl&gt;</th><th scope=col>&lt;dbl&gt;</th><th scope=col>&lt;dbl&gt;</th><th scope=col>&lt;dbl&gt;</th><th scope=col>&lt;dbl&gt;</th><th scope=col>⋯</th><th scope=col>&lt;dbl&gt;</th><th scope=col>&lt;dbl&gt;</th><th scope=col>&lt;dbl&gt;</th><th scope=col>&lt;dbl&gt;</th><th scope=col>&lt;dbl&gt;</th><th scope=col>&lt;dbl&gt;</th><th scope=col>&lt;dbl&gt;</th><th scope=col>&lt;dbl&gt;</th><th scope=col>&lt;dbl&gt;</th><th scope=col>&lt;dbl&gt;</th></tr>\n",
       "</thead>\n",
       "<tbody>\n",
       "\t<tr><th scope=row>GENE_4921501E09Rik_</th><td>0.017</td><td>0.393</td><td>0.272</td><td>0.046</td><td>0.832</td><td>0.604</td><td>0.077</td><td>0.961</td><td>0.932</td><td>0.000</td><td>⋯</td><td>0.050</td><td>0.361</td><td>0.212</td><td>0.281</td><td>0.981</td><td>0.486</td><td>0.375</td><td>0.998</td><td>0.952</td><td>0.188</td></tr>\n",
       "\t<tr><th scope=row>GENE_4930595M18Rik_</th><td>0.859</td><td>0.039</td><td>0.953</td><td>0.927</td><td>0.906</td><td>0.476</td><td>0.393</td><td>0.470</td><td>0.707</td><td>0.993</td><td>⋯</td><td>0.078</td><td>0.244</td><td>0.859</td><td>0.652</td><td>0.769</td><td>0.401</td><td>0.529</td><td>0.906</td><td>0.179</td><td>0.181</td></tr>\n",
       "\t<tr><th scope=row>GENE_8030462N17Rik_</th><td>0.307</td><td>0.586</td><td>0.154</td><td>0.441</td><td>0.288</td><td>0.807</td><td>0.590</td><td>0.042</td><td>0.760</td><td>0.432</td><td>⋯</td><td>0.156</td><td>0.876</td><td>0.309</td><td>0.437</td><td>0.669</td><td>0.099</td><td>0.087</td><td>0.242</td><td>0.313</td><td>0.939</td></tr>\n",
       "\t<tr><th scope=row>GENE_Aamp_</th><td>0.452</td><td>0.572</td><td>0.727</td><td>0.273</td><td>0.693</td><td>0.750</td><td>0.970</td><td>0.073</td><td>0.692</td><td>0.283</td><td>⋯</td><td>0.926</td><td>0.657</td><td>0.674</td><td>0.109</td><td>0.353</td><td>0.476</td><td>0.931</td><td>0.699</td><td>0.193</td><td>0.173</td></tr>\n",
       "\t<tr><th scope=row>GENE_Abtb1_</th><td>0.959</td><td>0.005</td><td>0.040</td><td>0.540</td><td>0.955</td><td>0.037</td><td>0.104</td><td>0.674</td><td>0.100</td><td>0.717</td><td>⋯</td><td>0.789</td><td>0.144</td><td>0.329</td><td>0.665</td><td>0.402</td><td>0.745</td><td>0.099</td><td>0.034</td><td>0.641</td><td>0.796</td></tr>\n",
       "\t<tr><th scope=row>GENE_Abtb2_</th><td>0.354</td><td>0.985</td><td>0.433</td><td>0.186</td><td>0.855</td><td>0.740</td><td>0.521</td><td>0.866</td><td>0.619</td><td>0.604</td><td>⋯</td><td>0.282</td><td>0.547</td><td>0.519</td><td>0.480</td><td>0.962</td><td>0.719</td><td>0.420</td><td>0.516</td><td>0.318</td><td>0.872</td></tr>\n",
       "</tbody>\n",
       "</table>\n"
      ],
      "text/latex": [
       "A data.frame: 6 × 6685\n",
       "\\begin{tabular}{r|lllllllllllllllllllll}\n",
       "  & Mrpl15 & Lypla1 & Tcea1 & Atp6v1h & Rb1cc1 & Pcmtd1 & Rrs1 & Vcpip1 & Sgk3 & Snhg6 & ⋯ & Cacul1 & Eif3a & Fam45a & Prdx3 & Grk5 & Zfp950 & Csf2ra & Vamp7 & AC149090.1 & CAAA01118383.1\\\\\n",
       "  & <dbl> & <dbl> & <dbl> & <dbl> & <dbl> & <dbl> & <dbl> & <dbl> & <dbl> & <dbl> & ⋯ & <dbl> & <dbl> & <dbl> & <dbl> & <dbl> & <dbl> & <dbl> & <dbl> & <dbl> & <dbl>\\\\\n",
       "\\hline\n",
       "\tGENE\\_4921501E09Rik\\_ & 0.017 & 0.393 & 0.272 & 0.046 & 0.832 & 0.604 & 0.077 & 0.961 & 0.932 & 0.000 & ⋯ & 0.050 & 0.361 & 0.212 & 0.281 & 0.981 & 0.486 & 0.375 & 0.998 & 0.952 & 0.188\\\\\n",
       "\tGENE\\_4930595M18Rik\\_ & 0.859 & 0.039 & 0.953 & 0.927 & 0.906 & 0.476 & 0.393 & 0.470 & 0.707 & 0.993 & ⋯ & 0.078 & 0.244 & 0.859 & 0.652 & 0.769 & 0.401 & 0.529 & 0.906 & 0.179 & 0.181\\\\\n",
       "\tGENE\\_8030462N17Rik\\_ & 0.307 & 0.586 & 0.154 & 0.441 & 0.288 & 0.807 & 0.590 & 0.042 & 0.760 & 0.432 & ⋯ & 0.156 & 0.876 & 0.309 & 0.437 & 0.669 & 0.099 & 0.087 & 0.242 & 0.313 & 0.939\\\\\n",
       "\tGENE\\_Aamp\\_ & 0.452 & 0.572 & 0.727 & 0.273 & 0.693 & 0.750 & 0.970 & 0.073 & 0.692 & 0.283 & ⋯ & 0.926 & 0.657 & 0.674 & 0.109 & 0.353 & 0.476 & 0.931 & 0.699 & 0.193 & 0.173\\\\\n",
       "\tGENE\\_Abtb1\\_ & 0.959 & 0.005 & 0.040 & 0.540 & 0.955 & 0.037 & 0.104 & 0.674 & 0.100 & 0.717 & ⋯ & 0.789 & 0.144 & 0.329 & 0.665 & 0.402 & 0.745 & 0.099 & 0.034 & 0.641 & 0.796\\\\\n",
       "\tGENE\\_Abtb2\\_ & 0.354 & 0.985 & 0.433 & 0.186 & 0.855 & 0.740 & 0.521 & 0.866 & 0.619 & 0.604 & ⋯ & 0.282 & 0.547 & 0.519 & 0.480 & 0.962 & 0.719 & 0.420 & 0.516 & 0.318 & 0.872\\\\\n",
       "\\end{tabular}\n"
      ],
      "text/markdown": [
       "\n",
       "A data.frame: 6 × 6685\n",
       "\n",
       "| <!--/--> | Mrpl15 &lt;dbl&gt; | Lypla1 &lt;dbl&gt; | Tcea1 &lt;dbl&gt; | Atp6v1h &lt;dbl&gt; | Rb1cc1 &lt;dbl&gt; | Pcmtd1 &lt;dbl&gt; | Rrs1 &lt;dbl&gt; | Vcpip1 &lt;dbl&gt; | Sgk3 &lt;dbl&gt; | Snhg6 &lt;dbl&gt; | ⋯ ⋯ | Cacul1 &lt;dbl&gt; | Eif3a &lt;dbl&gt; | Fam45a &lt;dbl&gt; | Prdx3 &lt;dbl&gt; | Grk5 &lt;dbl&gt; | Zfp950 &lt;dbl&gt; | Csf2ra &lt;dbl&gt; | Vamp7 &lt;dbl&gt; | AC149090.1 &lt;dbl&gt; | CAAA01118383.1 &lt;dbl&gt; |\n",
       "|---|---|---|---|---|---|---|---|---|---|---|---|---|---|---|---|---|---|---|---|---|---|\n",
       "| GENE_4921501E09Rik_ | 0.017 | 0.393 | 0.272 | 0.046 | 0.832 | 0.604 | 0.077 | 0.961 | 0.932 | 0.000 | ⋯ | 0.050 | 0.361 | 0.212 | 0.281 | 0.981 | 0.486 | 0.375 | 0.998 | 0.952 | 0.188 |\n",
       "| GENE_4930595M18Rik_ | 0.859 | 0.039 | 0.953 | 0.927 | 0.906 | 0.476 | 0.393 | 0.470 | 0.707 | 0.993 | ⋯ | 0.078 | 0.244 | 0.859 | 0.652 | 0.769 | 0.401 | 0.529 | 0.906 | 0.179 | 0.181 |\n",
       "| GENE_8030462N17Rik_ | 0.307 | 0.586 | 0.154 | 0.441 | 0.288 | 0.807 | 0.590 | 0.042 | 0.760 | 0.432 | ⋯ | 0.156 | 0.876 | 0.309 | 0.437 | 0.669 | 0.099 | 0.087 | 0.242 | 0.313 | 0.939 |\n",
       "| GENE_Aamp_ | 0.452 | 0.572 | 0.727 | 0.273 | 0.693 | 0.750 | 0.970 | 0.073 | 0.692 | 0.283 | ⋯ | 0.926 | 0.657 | 0.674 | 0.109 | 0.353 | 0.476 | 0.931 | 0.699 | 0.193 | 0.173 |\n",
       "| GENE_Abtb1_ | 0.959 | 0.005 | 0.040 | 0.540 | 0.955 | 0.037 | 0.104 | 0.674 | 0.100 | 0.717 | ⋯ | 0.789 | 0.144 | 0.329 | 0.665 | 0.402 | 0.745 | 0.099 | 0.034 | 0.641 | 0.796 |\n",
       "| GENE_Abtb2_ | 0.354 | 0.985 | 0.433 | 0.186 | 0.855 | 0.740 | 0.521 | 0.866 | 0.619 | 0.604 | ⋯ | 0.282 | 0.547 | 0.519 | 0.480 | 0.962 | 0.719 | 0.420 | 0.516 | 0.318 | 0.872 |\n",
       "\n"
      ],
      "text/plain": [
       "                    Mrpl15 Lypla1 Tcea1 Atp6v1h Rb1cc1 Pcmtd1 Rrs1  Vcpip1\n",
       "GENE_4921501E09Rik_ 0.017  0.393  0.272 0.046   0.832  0.604  0.077 0.961 \n",
       "GENE_4930595M18Rik_ 0.859  0.039  0.953 0.927   0.906  0.476  0.393 0.470 \n",
       "GENE_8030462N17Rik_ 0.307  0.586  0.154 0.441   0.288  0.807  0.590 0.042 \n",
       "GENE_Aamp_          0.452  0.572  0.727 0.273   0.693  0.750  0.970 0.073 \n",
       "GENE_Abtb1_         0.959  0.005  0.040 0.540   0.955  0.037  0.104 0.674 \n",
       "GENE_Abtb2_         0.354  0.985  0.433 0.186   0.855  0.740  0.521 0.866 \n",
       "                    Sgk3  Snhg6 ⋯ Cacul1 Eif3a Fam45a Prdx3 Grk5  Zfp950 Csf2ra\n",
       "GENE_4921501E09Rik_ 0.932 0.000 ⋯ 0.050  0.361 0.212  0.281 0.981 0.486  0.375 \n",
       "GENE_4930595M18Rik_ 0.707 0.993 ⋯ 0.078  0.244 0.859  0.652 0.769 0.401  0.529 \n",
       "GENE_8030462N17Rik_ 0.760 0.432 ⋯ 0.156  0.876 0.309  0.437 0.669 0.099  0.087 \n",
       "GENE_Aamp_          0.692 0.283 ⋯ 0.926  0.657 0.674  0.109 0.353 0.476  0.931 \n",
       "GENE_Abtb1_         0.100 0.717 ⋯ 0.789  0.144 0.329  0.665 0.402 0.745  0.099 \n",
       "GENE_Abtb2_         0.619 0.604 ⋯ 0.282  0.547 0.519  0.480 0.962 0.719  0.420 \n",
       "                    Vamp7 AC149090.1 CAAA01118383.1\n",
       "GENE_4921501E09Rik_ 0.998 0.952      0.188         \n",
       "GENE_4930595M18Rik_ 0.906 0.179      0.181         \n",
       "GENE_8030462N17Rik_ 0.242 0.313      0.939         \n",
       "GENE_Aamp_          0.699 0.193      0.173         \n",
       "GENE_Abtb1_         0.034 0.641      0.796         \n",
       "GENE_Abtb2_         0.516 0.318      0.872         "
      ]
     },
     "metadata": {},
     "output_type": "display_data"
    }
   ],
   "source": [
    "head(pValsAll)"
   ]
  },
  {
   "cell_type": "code",
   "execution_count": 38,
   "id": "aa3a6148-3dc1-4753-a221-743c7d07aae2",
   "metadata": {},
   "outputs": [],
   "source": [
    "k <- apply(pValsAll[1:6640],2, function(x){length(which(x < 0.05))})"
   ]
  },
  {
   "cell_type": "code",
   "execution_count": 29,
   "id": "8ef7d9fe-5ea4-4db5-82d0-6c974a200cfc",
   "metadata": {},
   "outputs": [
    {
     "data": {
      "text/html": [
       "<style>\n",
       ".dl-inline {width: auto; margin:0; padding: 0}\n",
       ".dl-inline>dt, .dl-inline>dd {float: none; width: auto; display: inline-block}\n",
       ".dl-inline>dt::after {content: \":\\0020\"; padding-right: .5ex}\n",
       ".dl-inline>dt:not(:first-of-type) {padding-left: .5ex}\n",
       "</style><dl class=dl-inline><dt>Mrpl15</dt><dd>61</dd><dt>Lypla1</dt><dd>60</dd><dt>Tcea1</dt><dd>58</dd><dt>Atp6v1h</dt><dd>52</dd><dt>Rb1cc1</dt><dd>55</dd><dt>Pcmtd1</dt><dd>55</dd></dl>\n"
      ],
      "text/latex": [
       "\\begin{description*}\n",
       "\\item[Mrpl15] 61\n",
       "\\item[Lypla1] 60\n",
       "\\item[Tcea1] 58\n",
       "\\item[Atp6v1h] 52\n",
       "\\item[Rb1cc1] 55\n",
       "\\item[Pcmtd1] 55\n",
       "\\end{description*}\n"
      ],
      "text/markdown": [
       "Mrpl15\n",
       ":   61Lypla1\n",
       ":   60Tcea1\n",
       ":   58Atp6v1h\n",
       ":   52Rb1cc1\n",
       ":   55Pcmtd1\n",
       ":   55\n",
       "\n"
      ],
      "text/plain": [
       " Mrpl15  Lypla1   Tcea1 Atp6v1h  Rb1cc1  Pcmtd1 \n",
       "     61      60      58      52      55      55 "
      ]
     },
     "metadata": {},
     "output_type": "display_data"
    }
   ],
   "source": [
    "head(k)"
   ]
  },
  {
   "cell_type": "code",
   "execution_count": 32,
   "id": "24f79d5a-278c-4a3f-a56c-f4b65a991433",
   "metadata": {},
   "outputs": [],
   "source": [
    "\n",
    "l_Mrpl15 <- empPvals(coefsAll$Mrpl15, coefsAll_Control$Mrpl15, pool = TRUE)\n",
    "l_Lypla <- empPvals(coefsAll$Lypla1, coefsAll_Control$Lypla1, pool = TRUE)\n"
   ]
  },
  {
   "cell_type": "code",
   "execution_count": 33,
   "id": "1f74c72c-511d-4538-aaae-410fa174643a",
   "metadata": {},
   "outputs": [],
   "source": [
    "empiricalL <- data.frame(l_Mrpl15 = l_Mrpl15, l_Lypla=l_Lypla)"
   ]
  },
  {
   "cell_type": "code",
   "execution_count": 34,
   "id": "a3530a58-d73a-4291-bf39-3671c615b9c5",
   "metadata": {},
   "outputs": [],
   "source": [
    "for(i in 3:6640){\n",
    "   empiricalL[paste0(\"l_\", colnames(coefsAll)[i])] = empPvals(coefsAll[,i], coefsAll_Control[,i], pool = TRUE)\n",
    "}"
   ]
  },
  {
   "cell_type": "code",
   "execution_count": 35,
   "id": "1a72c330-96b8-4a6b-af05-bf6777401aad",
   "metadata": {},
   "outputs": [
    {
     "data": {
      "text/html": [
       "<table>\n",
       "<caption>A data.frame: 6 × 6640</caption>\n",
       "<thead>\n",
       "\t<tr><th></th><th scope=col>l_Mrpl15</th><th scope=col>l_Lypla</th><th scope=col>l_Tcea1</th><th scope=col>l_Atp6v1h</th><th scope=col>l_Rb1cc1</th><th scope=col>l_Pcmtd1</th><th scope=col>l_Rrs1</th><th scope=col>l_Vcpip1</th><th scope=col>l_Sgk3</th><th scope=col>l_Snhg6</th><th scope=col>⋯</th><th scope=col>l_Slf2</th><th scope=col>l_Mrpl43</th><th scope=col>l_Sfxn3</th><th scope=col>l_Gm17018</th><th scope=col>l_Npm3</th><th scope=col>l_Mgea5</th><th scope=col>l_Ldb1</th><th scope=col>l_Pprc1</th><th scope=col>l_Nolc1</th><th scope=col>l_Gbf1</th></tr>\n",
       "\t<tr><th></th><th scope=col>&lt;dbl&gt;</th><th scope=col>&lt;dbl&gt;</th><th scope=col>&lt;dbl&gt;</th><th scope=col>&lt;dbl&gt;</th><th scope=col>&lt;dbl&gt;</th><th scope=col>&lt;dbl&gt;</th><th scope=col>&lt;dbl&gt;</th><th scope=col>&lt;dbl&gt;</th><th scope=col>&lt;dbl&gt;</th><th scope=col>&lt;dbl&gt;</th><th scope=col>⋯</th><th scope=col>&lt;dbl&gt;</th><th scope=col>&lt;dbl&gt;</th><th scope=col>&lt;dbl&gt;</th><th scope=col>&lt;dbl&gt;</th><th scope=col>&lt;dbl&gt;</th><th scope=col>&lt;dbl&gt;</th><th scope=col>&lt;dbl&gt;</th><th scope=col>&lt;dbl&gt;</th><th scope=col>&lt;dbl&gt;</th><th scope=col>&lt;dbl&gt;</th></tr>\n",
       "</thead>\n",
       "<tbody>\n",
       "\t<tr><th scope=row>1</th><td>0.0200</td><td>0.2450</td><td>0.1700</td><td>0.0675</td><td>0.5600</td><td>0.3150</td><td>0.9250</td><td>0.4975</td><td>0.5125</td><td>0.0050</td><td>⋯</td><td>0.6825</td><td>0.2850</td><td>0.7425</td><td>0.4950</td><td>0.9075</td><td>0.7575</td><td>0.8800</td><td>0.6950</td><td>0.2850</td><td>0.4725</td></tr>\n",
       "\t<tr><th scope=row>2</th><td>0.4600</td><td>0.0825</td><td>0.5200</td><td>0.5175</td><td>0.4425</td><td>0.2975</td><td>0.3300</td><td>0.6750</td><td>0.6400</td><td>0.5225</td><td>⋯</td><td>0.0275</td><td>0.5925</td><td>0.7600</td><td>0.9350</td><td>0.9350</td><td>0.5650</td><td>0.5550</td><td>0.4475</td><td>0.2500</td><td>0.2500</td></tr>\n",
       "\t<tr><th scope=row>3</th><td>0.9750</td><td>0.8225</td><td>0.9950</td><td>0.9225</td><td>0.0350</td><td>0.6100</td><td>0.2225</td><td>1.0000</td><td>0.7575</td><td>0.1150</td><td>⋯</td><td>0.0800</td><td>0.1675</td><td>0.1100</td><td>0.9725</td><td>0.3850</td><td>0.0150</td><td>0.0025</td><td>0.6525</td><td>0.4925</td><td>0.3200</td></tr>\n",
       "\t<tr><th scope=row>4</th><td>0.1050</td><td>0.1925</td><td>0.3075</td><td>0.0650</td><td>0.2850</td><td>0.6375</td><td>0.4850</td><td>0.0025</td><td>0.7775</td><td>0.9550</td><td>⋯</td><td>0.7675</td><td>0.9950</td><td>0.3050</td><td>0.4925</td><td>1.0000</td><td>0.3175</td><td>0.9250</td><td>0.2550</td><td>0.9500</td><td>0.0300</td></tr>\n",
       "\t<tr><th scope=row>5</th><td>0.4875</td><td>0.0025</td><td>0.9850</td><td>0.7425</td><td>0.4600</td><td>0.0275</td><td>0.9325</td><td>0.6525</td><td>0.0550</td><td>0.6675</td><td>⋯</td><td>0.2900</td><td>0.9675</td><td>0.4425</td><td>0.1550</td><td>0.7225</td><td>0.0975</td><td>0.0300</td><td>0.9450</td><td>0.9375</td><td>0.3625</td></tr>\n",
       "\t<tr><th scope=row>6</th><td>0.1650</td><td>0.5075</td><td>0.2275</td><td>0.1175</td><td>0.5600</td><td>0.3450</td><td>0.3225</td><td>0.4100</td><td>0.3425</td><td>0.7075</td><td>⋯</td><td>0.7100</td><td>0.4675</td><td>0.7800</td><td>0.8550</td><td>0.3825</td><td>0.7575</td><td>0.2925</td><td>0.4725</td><td>0.9075</td><td>0.3300</td></tr>\n",
       "</tbody>\n",
       "</table>\n"
      ],
      "text/latex": [
       "A data.frame: 6 × 6640\n",
       "\\begin{tabular}{r|lllllllllllllllllllll}\n",
       "  & l\\_Mrpl15 & l\\_Lypla & l\\_Tcea1 & l\\_Atp6v1h & l\\_Rb1cc1 & l\\_Pcmtd1 & l\\_Rrs1 & l\\_Vcpip1 & l\\_Sgk3 & l\\_Snhg6 & ⋯ & l\\_Slf2 & l\\_Mrpl43 & l\\_Sfxn3 & l\\_Gm17018 & l\\_Npm3 & l\\_Mgea5 & l\\_Ldb1 & l\\_Pprc1 & l\\_Nolc1 & l\\_Gbf1\\\\\n",
       "  & <dbl> & <dbl> & <dbl> & <dbl> & <dbl> & <dbl> & <dbl> & <dbl> & <dbl> & <dbl> & ⋯ & <dbl> & <dbl> & <dbl> & <dbl> & <dbl> & <dbl> & <dbl> & <dbl> & <dbl> & <dbl>\\\\\n",
       "\\hline\n",
       "\t1 & 0.0200 & 0.2450 & 0.1700 & 0.0675 & 0.5600 & 0.3150 & 0.9250 & 0.4975 & 0.5125 & 0.0050 & ⋯ & 0.6825 & 0.2850 & 0.7425 & 0.4950 & 0.9075 & 0.7575 & 0.8800 & 0.6950 & 0.2850 & 0.4725\\\\\n",
       "\t2 & 0.4600 & 0.0825 & 0.5200 & 0.5175 & 0.4425 & 0.2975 & 0.3300 & 0.6750 & 0.6400 & 0.5225 & ⋯ & 0.0275 & 0.5925 & 0.7600 & 0.9350 & 0.9350 & 0.5650 & 0.5550 & 0.4475 & 0.2500 & 0.2500\\\\\n",
       "\t3 & 0.9750 & 0.8225 & 0.9950 & 0.9225 & 0.0350 & 0.6100 & 0.2225 & 1.0000 & 0.7575 & 0.1150 & ⋯ & 0.0800 & 0.1675 & 0.1100 & 0.9725 & 0.3850 & 0.0150 & 0.0025 & 0.6525 & 0.4925 & 0.3200\\\\\n",
       "\t4 & 0.1050 & 0.1925 & 0.3075 & 0.0650 & 0.2850 & 0.6375 & 0.4850 & 0.0025 & 0.7775 & 0.9550 & ⋯ & 0.7675 & 0.9950 & 0.3050 & 0.4925 & 1.0000 & 0.3175 & 0.9250 & 0.2550 & 0.9500 & 0.0300\\\\\n",
       "\t5 & 0.4875 & 0.0025 & 0.9850 & 0.7425 & 0.4600 & 0.0275 & 0.9325 & 0.6525 & 0.0550 & 0.6675 & ⋯ & 0.2900 & 0.9675 & 0.4425 & 0.1550 & 0.7225 & 0.0975 & 0.0300 & 0.9450 & 0.9375 & 0.3625\\\\\n",
       "\t6 & 0.1650 & 0.5075 & 0.2275 & 0.1175 & 0.5600 & 0.3450 & 0.3225 & 0.4100 & 0.3425 & 0.7075 & ⋯ & 0.7100 & 0.4675 & 0.7800 & 0.8550 & 0.3825 & 0.7575 & 0.2925 & 0.4725 & 0.9075 & 0.3300\\\\\n",
       "\\end{tabular}\n"
      ],
      "text/markdown": [
       "\n",
       "A data.frame: 6 × 6640\n",
       "\n",
       "| <!--/--> | l_Mrpl15 &lt;dbl&gt; | l_Lypla &lt;dbl&gt; | l_Tcea1 &lt;dbl&gt; | l_Atp6v1h &lt;dbl&gt; | l_Rb1cc1 &lt;dbl&gt; | l_Pcmtd1 &lt;dbl&gt; | l_Rrs1 &lt;dbl&gt; | l_Vcpip1 &lt;dbl&gt; | l_Sgk3 &lt;dbl&gt; | l_Snhg6 &lt;dbl&gt; | ⋯ ⋯ | l_Slf2 &lt;dbl&gt; | l_Mrpl43 &lt;dbl&gt; | l_Sfxn3 &lt;dbl&gt; | l_Gm17018 &lt;dbl&gt; | l_Npm3 &lt;dbl&gt; | l_Mgea5 &lt;dbl&gt; | l_Ldb1 &lt;dbl&gt; | l_Pprc1 &lt;dbl&gt; | l_Nolc1 &lt;dbl&gt; | l_Gbf1 &lt;dbl&gt; |\n",
       "|---|---|---|---|---|---|---|---|---|---|---|---|---|---|---|---|---|---|---|---|---|---|\n",
       "| 1 | 0.0200 | 0.2450 | 0.1700 | 0.0675 | 0.5600 | 0.3150 | 0.9250 | 0.4975 | 0.5125 | 0.0050 | ⋯ | 0.6825 | 0.2850 | 0.7425 | 0.4950 | 0.9075 | 0.7575 | 0.8800 | 0.6950 | 0.2850 | 0.4725 |\n",
       "| 2 | 0.4600 | 0.0825 | 0.5200 | 0.5175 | 0.4425 | 0.2975 | 0.3300 | 0.6750 | 0.6400 | 0.5225 | ⋯ | 0.0275 | 0.5925 | 0.7600 | 0.9350 | 0.9350 | 0.5650 | 0.5550 | 0.4475 | 0.2500 | 0.2500 |\n",
       "| 3 | 0.9750 | 0.8225 | 0.9950 | 0.9225 | 0.0350 | 0.6100 | 0.2225 | 1.0000 | 0.7575 | 0.1150 | ⋯ | 0.0800 | 0.1675 | 0.1100 | 0.9725 | 0.3850 | 0.0150 | 0.0025 | 0.6525 | 0.4925 | 0.3200 |\n",
       "| 4 | 0.1050 | 0.1925 | 0.3075 | 0.0650 | 0.2850 | 0.6375 | 0.4850 | 0.0025 | 0.7775 | 0.9550 | ⋯ | 0.7675 | 0.9950 | 0.3050 | 0.4925 | 1.0000 | 0.3175 | 0.9250 | 0.2550 | 0.9500 | 0.0300 |\n",
       "| 5 | 0.4875 | 0.0025 | 0.9850 | 0.7425 | 0.4600 | 0.0275 | 0.9325 | 0.6525 | 0.0550 | 0.6675 | ⋯ | 0.2900 | 0.9675 | 0.4425 | 0.1550 | 0.7225 | 0.0975 | 0.0300 | 0.9450 | 0.9375 | 0.3625 |\n",
       "| 6 | 0.1650 | 0.5075 | 0.2275 | 0.1175 | 0.5600 | 0.3450 | 0.3225 | 0.4100 | 0.3425 | 0.7075 | ⋯ | 0.7100 | 0.4675 | 0.7800 | 0.8550 | 0.3825 | 0.7575 | 0.2925 | 0.4725 | 0.9075 | 0.3300 |\n",
       "\n"
      ],
      "text/plain": [
       "  l_Mrpl15 l_Lypla l_Tcea1 l_Atp6v1h l_Rb1cc1 l_Pcmtd1 l_Rrs1 l_Vcpip1 l_Sgk3\n",
       "1 0.0200   0.2450  0.1700  0.0675    0.5600   0.3150   0.9250 0.4975   0.5125\n",
       "2 0.4600   0.0825  0.5200  0.5175    0.4425   0.2975   0.3300 0.6750   0.6400\n",
       "3 0.9750   0.8225  0.9950  0.9225    0.0350   0.6100   0.2225 1.0000   0.7575\n",
       "4 0.1050   0.1925  0.3075  0.0650    0.2850   0.6375   0.4850 0.0025   0.7775\n",
       "5 0.4875   0.0025  0.9850  0.7425    0.4600   0.0275   0.9325 0.6525   0.0550\n",
       "6 0.1650   0.5075  0.2275  0.1175    0.5600   0.3450   0.3225 0.4100   0.3425\n",
       "  l_Snhg6 ⋯ l_Slf2 l_Mrpl43 l_Sfxn3 l_Gm17018 l_Npm3 l_Mgea5 l_Ldb1 l_Pprc1\n",
       "1 0.0050  ⋯ 0.6825 0.2850   0.7425  0.4950    0.9075 0.7575  0.8800 0.6950 \n",
       "2 0.5225  ⋯ 0.0275 0.5925   0.7600  0.9350    0.9350 0.5650  0.5550 0.4475 \n",
       "3 0.1150  ⋯ 0.0800 0.1675   0.1100  0.9725    0.3850 0.0150  0.0025 0.6525 \n",
       "4 0.9550  ⋯ 0.7675 0.9950   0.3050  0.4925    1.0000 0.3175  0.9250 0.2550 \n",
       "5 0.6675  ⋯ 0.2900 0.9675   0.4425  0.1550    0.7225 0.0975  0.0300 0.9450 \n",
       "6 0.7075  ⋯ 0.7100 0.4675   0.7800  0.8550    0.3825 0.7575  0.2925 0.4725 \n",
       "  l_Nolc1 l_Gbf1\n",
       "1 0.2850  0.4725\n",
       "2 0.2500  0.2500\n",
       "3 0.4925  0.3200\n",
       "4 0.9500  0.0300\n",
       "5 0.9375  0.3625\n",
       "6 0.9075  0.3300"
      ]
     },
     "metadata": {},
     "output_type": "display_data"
    }
   ],
   "source": [
    "head(empiricalL)"
   ]
  },
  {
   "cell_type": "code",
   "execution_count": 36,
   "id": "258c7d12-a0c6-454d-b3e4-72cb0db444f7",
   "metadata": {},
   "outputs": [],
   "source": [
    "hehe <- sapply(empiricalL, function(x){length(which(x < 0.05))})"
   ]
  },
  {
   "cell_type": "code",
   "execution_count": 39,
   "id": "e9aa68fc-31fe-4e0b-bfba-df04d2ca605a",
   "metadata": {},
   "outputs": [],
   "source": [
    "res = data.frame(regTest=k, empTest=hehe)"
   ]
  },
  {
   "cell_type": "code",
   "execution_count": 41,
   "id": "130aa791-c438-49b2-903e-03bf61145a2e",
   "metadata": {},
   "outputs": [],
   "source": [
    "res$gg = 0\n",
    "res[res$empTest > res$regTest,\"gg\"]=1"
   ]
  },
  {
   "cell_type": "code",
   "execution_count": 42,
   "id": "2b3cbeb7-809f-4a2a-b8e8-c4d6f071d63a",
   "metadata": {},
   "outputs": [
    {
     "data": {
      "text/html": [
       "4778"
      ],
      "text/latex": [
       "4778"
      ],
      "text/markdown": [
       "4778"
      ],
      "text/plain": [
       "[1] 4778"
      ]
     },
     "metadata": {},
     "output_type": "display_data"
    }
   ],
   "source": [
    "sum(res$gg)"
   ]
  },
  {
   "cell_type": "code",
   "execution_count": 43,
   "id": "7d9ca208-7437-42d0-ad37-b16664c629a2",
   "metadata": {},
   "outputs": [
    {
     "data": {
      "text/html": [
       "<style>\n",
       ".list-inline {list-style: none; margin:0; padding: 0}\n",
       ".list-inline>li {display: inline-block}\n",
       ".list-inline>li:not(:last-child)::after {content: \"\\00b7\"; padding: 0 .5ex}\n",
       "</style>\n",
       "<ol class=list-inline><li>6640</li><li>3</li></ol>\n"
      ],
      "text/latex": [
       "\\begin{enumerate*}\n",
       "\\item 6640\n",
       "\\item 3\n",
       "\\end{enumerate*}\n"
      ],
      "text/markdown": [
       "1. 6640\n",
       "2. 3\n",
       "\n",
       "\n"
      ],
      "text/plain": [
       "[1] 6640    3"
      ]
     },
     "metadata": {},
     "output_type": "display_data"
    }
   ],
   "source": [
    "dim(res)"
   ]
  },
  {
   "cell_type": "code",
   "execution_count": null,
   "id": "2017bed7-bb91-4d28-a2d3-81118e045988",
   "metadata": {},
   "outputs": [],
   "source": []
  }
 ],
 "metadata": {
  "kernelspec": {
   "display_name": "R",
   "language": "R",
   "name": "ir"
  },
  "language_info": {
   "codemirror_mode": "r",
   "file_extension": ".r",
   "mimetype": "text/x-r-source",
   "name": "R",
   "pygments_lexer": "r",
   "version": "4.1.3"
  }
 },
 "nbformat": 4,
 "nbformat_minor": 5
}
