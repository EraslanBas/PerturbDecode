{
 "cells": [
  {
   "cell_type": "code",
   "execution_count": 1,
   "metadata": {
    "collapsed": true,
    "jupyter": {
     "outputs_hidden": true
    },
    "tags": []
   },
   "outputs": [
    {
     "name": "stderr",
     "output_type": "stream",
     "text": [
      "corrplot 0.92 loaded\n",
      "\n",
      "\n",
      "Attaching package: ‘pls’\n",
      "\n",
      "\n",
      "The following object is masked from ‘package:corrplot’:\n",
      "\n",
      "    corrplot\n",
      "\n",
      "\n",
      "The following object is masked from ‘package:stats’:\n",
      "\n",
      "    loadings\n",
      "\n",
      "\n",
      "\n",
      "Attaching package: ‘reshape2’\n",
      "\n",
      "\n",
      "The following objects are masked from ‘package:data.table’:\n",
      "\n",
      "    dcast, melt\n",
      "\n",
      "\n",
      "Welcome! Want to learn more? See two factoextra-related books at https://goo.gl/ve3WBa\n",
      "\n",
      "Loading required package: cluster\n",
      "\n",
      "Loading required package: rpart\n",
      "\n",
      "\n",
      "Attaching package: ‘ggpubr’\n",
      "\n",
      "\n",
      "The following object is masked from ‘package:cowplot’:\n",
      "\n",
      "    get_legend\n",
      "\n",
      "\n"
     ]
    }
   ],
   "source": [
    "source(\"Main.R\")\n",
    "source(\"Conf.R\")\n",
    "source(\"Utilities.R\")\n",
    "source(\"DAVID_query.R\")\n",
    "library(\"factoextra\")\n",
    "library(\"maptree\")\n",
    "library(\"ggpubr\")\n",
    "library(\"ica\")\n",
    "#library(ICtest)\n",
    "\n",
    "library(repr)\n",
    "fileDir = \"/home/beraslan/jovian-work/analysisSingle/\"\n",
    "geneCutOff=4\n",
    "targetCutOff=15\n",
    "nFactors=15"
   ]
  },
  {
   "cell_type": "code",
   "execution_count": 2,
   "metadata": {},
   "outputs": [],
   "source": [
    "selCoefs <- read.csv(\"./../SignificantCoefMatrix.csv\", row.names = 1)\n",
    "selCoefs <- t(selCoefs)\n",
    "KOGenes <-  colnames(selCoefs)\n",
    "KOGenes <- sapply(KOGenes, function(x){strsplit(x,\"_\")[[1]][2]})\n",
    "colnames(selCoefs) <- KOGenes"
   ]
  },
  {
   "cell_type": "code",
   "execution_count": 3,
   "metadata": {
    "tags": []
   },
   "outputs": [
    {
     "data": {
      "text/html": [
       "<table class=\"dataframe\">\n",
       "<caption>A matrix: 6 × 329 of type dbl</caption>\n",
       "<thead>\n",
       "\t<tr><th></th><th scope=col>Rack1</th><th scope=col>Utp15</th><th scope=col>Wdr43</th><th scope=col>Raf1</th><th scope=col>Rrp9</th><th scope=col>Uhrf1</th><th scope=col>Myc</th><th scope=col>Wdr3</th><th scope=col>Aamp</th><th scope=col>Dcaf13</th><th scope=col>⋯</th><th scope=col>Acaca</th><th scope=col>Trim45</th><th scope=col>Rnf135</th><th scope=col>Dcaf10</th><th scope=col>Traf7</th><th scope=col>Zmiz2</th><th scope=col>Klhl30</th><th scope=col>Wdr91</th><th scope=col>Efcab8</th><th scope=col>Wdr81</th></tr>\n",
       "</thead>\n",
       "<tbody>\n",
       "\t<tr><th scope=row>Eef1a1</th><td>-0.052</td><td>-0.147</td><td>-0.238</td><td>-0.125</td><td>-0.135</td><td> 0.063</td><td>-0.397</td><td> 0.028</td><td>-0.052</td><td>-0.101</td><td>⋯</td><td>0.158</td><td>-0.042</td><td> 0.004</td><td> 0.038</td><td>0.025</td><td>-0.066</td><td>-0.016</td><td>0.061</td><td>-0.033</td><td>0.085</td></tr>\n",
       "\t<tr><th scope=row>Tpt1</th><td>-0.255</td><td>-0.096</td><td>-0.261</td><td>-0.026</td><td>-0.079</td><td>-0.218</td><td>-0.158</td><td>-0.159</td><td>-0.323</td><td>-0.190</td><td>⋯</td><td>0.104</td><td> 0.112</td><td> 0.068</td><td> 0.024</td><td>0.099</td><td> 0.095</td><td> 0.119</td><td>0.104</td><td> 0.119</td><td>0.050</td></tr>\n",
       "\t<tr><th scope=row>Rps27</th><td>-0.289</td><td>-0.235</td><td>-0.094</td><td>-0.097</td><td>-0.104</td><td>-0.116</td><td>-0.167</td><td>-0.087</td><td>-0.081</td><td>-0.159</td><td>⋯</td><td>0.075</td><td> 0.087</td><td> 0.070</td><td>-0.003</td><td>0.061</td><td> 0.024</td><td> 0.060</td><td>0.028</td><td> 0.077</td><td>0.035</td></tr>\n",
       "\t<tr><th scope=row>Rplp0</th><td>-0.328</td><td>-0.076</td><td>-0.110</td><td>-0.130</td><td>-0.008</td><td>-0.134</td><td>-0.586</td><td>-0.017</td><td>-0.031</td><td>-0.064</td><td>⋯</td><td>0.113</td><td> 0.017</td><td>-0.018</td><td> 0.145</td><td>0.103</td><td> 0.105</td><td> 0.017</td><td>0.015</td><td> 0.082</td><td>0.047</td></tr>\n",
       "\t<tr><th scope=row>Denr</th><td>-0.140</td><td>-0.042</td><td>-0.027</td><td>-0.047</td><td>-0.070</td><td>-0.208</td><td>-0.079</td><td>-0.098</td><td> 0.140</td><td>-0.104</td><td>⋯</td><td>0.086</td><td> 0.103</td><td>-0.057</td><td>-0.118</td><td>0.049</td><td> 0.149</td><td> 0.198</td><td>0.042</td><td> 0.070</td><td>0.017</td></tr>\n",
       "\t<tr><th scope=row>Hmgb2</th><td>-0.078</td><td> 0.024</td><td>-0.019</td><td>-0.001</td><td>-0.032</td><td>-0.083</td><td>-0.089</td><td> 0.054</td><td> 0.011</td><td>-0.039</td><td>⋯</td><td>0.029</td><td>-0.011</td><td> 0.013</td><td>-0.003</td><td>0.018</td><td> 0.045</td><td> 0.183</td><td>0.007</td><td> 0.124</td><td>0.020</td></tr>\n",
       "</tbody>\n",
       "</table>\n"
      ],
      "text/latex": [
       "A matrix: 6 × 329 of type dbl\n",
       "\\begin{tabular}{r|lllllllllllllllllllll}\n",
       "  & Rack1 & Utp15 & Wdr43 & Raf1 & Rrp9 & Uhrf1 & Myc & Wdr3 & Aamp & Dcaf13 & ⋯ & Acaca & Trim45 & Rnf135 & Dcaf10 & Traf7 & Zmiz2 & Klhl30 & Wdr91 & Efcab8 & Wdr81\\\\\n",
       "\\hline\n",
       "\tEef1a1 & -0.052 & -0.147 & -0.238 & -0.125 & -0.135 &  0.063 & -0.397 &  0.028 & -0.052 & -0.101 & ⋯ & 0.158 & -0.042 &  0.004 &  0.038 & 0.025 & -0.066 & -0.016 & 0.061 & -0.033 & 0.085\\\\\n",
       "\tTpt1 & -0.255 & -0.096 & -0.261 & -0.026 & -0.079 & -0.218 & -0.158 & -0.159 & -0.323 & -0.190 & ⋯ & 0.104 &  0.112 &  0.068 &  0.024 & 0.099 &  0.095 &  0.119 & 0.104 &  0.119 & 0.050\\\\\n",
       "\tRps27 & -0.289 & -0.235 & -0.094 & -0.097 & -0.104 & -0.116 & -0.167 & -0.087 & -0.081 & -0.159 & ⋯ & 0.075 &  0.087 &  0.070 & -0.003 & 0.061 &  0.024 &  0.060 & 0.028 &  0.077 & 0.035\\\\\n",
       "\tRplp0 & -0.328 & -0.076 & -0.110 & -0.130 & -0.008 & -0.134 & -0.586 & -0.017 & -0.031 & -0.064 & ⋯ & 0.113 &  0.017 & -0.018 &  0.145 & 0.103 &  0.105 &  0.017 & 0.015 &  0.082 & 0.047\\\\\n",
       "\tDenr & -0.140 & -0.042 & -0.027 & -0.047 & -0.070 & -0.208 & -0.079 & -0.098 &  0.140 & -0.104 & ⋯ & 0.086 &  0.103 & -0.057 & -0.118 & 0.049 &  0.149 &  0.198 & 0.042 &  0.070 & 0.017\\\\\n",
       "\tHmgb2 & -0.078 &  0.024 & -0.019 & -0.001 & -0.032 & -0.083 & -0.089 &  0.054 &  0.011 & -0.039 & ⋯ & 0.029 & -0.011 &  0.013 & -0.003 & 0.018 &  0.045 &  0.183 & 0.007 &  0.124 & 0.020\\\\\n",
       "\\end{tabular}\n"
      ],
      "text/markdown": [
       "\n",
       "A matrix: 6 × 329 of type dbl\n",
       "\n",
       "| <!--/--> | Rack1 | Utp15 | Wdr43 | Raf1 | Rrp9 | Uhrf1 | Myc | Wdr3 | Aamp | Dcaf13 | ⋯ | Acaca | Trim45 | Rnf135 | Dcaf10 | Traf7 | Zmiz2 | Klhl30 | Wdr91 | Efcab8 | Wdr81 |\n",
       "|---|---|---|---|---|---|---|---|---|---|---|---|---|---|---|---|---|---|---|---|---|---|\n",
       "| Eef1a1 | -0.052 | -0.147 | -0.238 | -0.125 | -0.135 |  0.063 | -0.397 |  0.028 | -0.052 | -0.101 | ⋯ | 0.158 | -0.042 |  0.004 |  0.038 | 0.025 | -0.066 | -0.016 | 0.061 | -0.033 | 0.085 |\n",
       "| Tpt1 | -0.255 | -0.096 | -0.261 | -0.026 | -0.079 | -0.218 | -0.158 | -0.159 | -0.323 | -0.190 | ⋯ | 0.104 |  0.112 |  0.068 |  0.024 | 0.099 |  0.095 |  0.119 | 0.104 |  0.119 | 0.050 |\n",
       "| Rps27 | -0.289 | -0.235 | -0.094 | -0.097 | -0.104 | -0.116 | -0.167 | -0.087 | -0.081 | -0.159 | ⋯ | 0.075 |  0.087 |  0.070 | -0.003 | 0.061 |  0.024 |  0.060 | 0.028 |  0.077 | 0.035 |\n",
       "| Rplp0 | -0.328 | -0.076 | -0.110 | -0.130 | -0.008 | -0.134 | -0.586 | -0.017 | -0.031 | -0.064 | ⋯ | 0.113 |  0.017 | -0.018 |  0.145 | 0.103 |  0.105 |  0.017 | 0.015 |  0.082 | 0.047 |\n",
       "| Denr | -0.140 | -0.042 | -0.027 | -0.047 | -0.070 | -0.208 | -0.079 | -0.098 |  0.140 | -0.104 | ⋯ | 0.086 |  0.103 | -0.057 | -0.118 | 0.049 |  0.149 |  0.198 | 0.042 |  0.070 | 0.017 |\n",
       "| Hmgb2 | -0.078 |  0.024 | -0.019 | -0.001 | -0.032 | -0.083 | -0.089 |  0.054 |  0.011 | -0.039 | ⋯ | 0.029 | -0.011 |  0.013 | -0.003 | 0.018 |  0.045 |  0.183 | 0.007 |  0.124 | 0.020 |\n",
       "\n"
      ],
      "text/plain": [
       "       Rack1  Utp15  Wdr43  Raf1   Rrp9   Uhrf1  Myc    Wdr3   Aamp   Dcaf13 ⋯\n",
       "Eef1a1 -0.052 -0.147 -0.238 -0.125 -0.135  0.063 -0.397  0.028 -0.052 -0.101 ⋯\n",
       "Tpt1   -0.255 -0.096 -0.261 -0.026 -0.079 -0.218 -0.158 -0.159 -0.323 -0.190 ⋯\n",
       "Rps27  -0.289 -0.235 -0.094 -0.097 -0.104 -0.116 -0.167 -0.087 -0.081 -0.159 ⋯\n",
       "Rplp0  -0.328 -0.076 -0.110 -0.130 -0.008 -0.134 -0.586 -0.017 -0.031 -0.064 ⋯\n",
       "Denr   -0.140 -0.042 -0.027 -0.047 -0.070 -0.208 -0.079 -0.098  0.140 -0.104 ⋯\n",
       "Hmgb2  -0.078  0.024 -0.019 -0.001 -0.032 -0.083 -0.089  0.054  0.011 -0.039 ⋯\n",
       "       Acaca Trim45 Rnf135 Dcaf10 Traf7 Zmiz2  Klhl30 Wdr91 Efcab8 Wdr81\n",
       "Eef1a1 0.158 -0.042  0.004  0.038 0.025 -0.066 -0.016 0.061 -0.033 0.085\n",
       "Tpt1   0.104  0.112  0.068  0.024 0.099  0.095  0.119 0.104  0.119 0.050\n",
       "Rps27  0.075  0.087  0.070 -0.003 0.061  0.024  0.060 0.028  0.077 0.035\n",
       "Rplp0  0.113  0.017 -0.018  0.145 0.103  0.105  0.017 0.015  0.082 0.047\n",
       "Denr   0.086  0.103 -0.057 -0.118 0.049  0.149  0.198 0.042  0.070 0.017\n",
       "Hmgb2  0.029 -0.011  0.013 -0.003 0.018  0.045  0.183 0.007  0.124 0.020"
      ]
     },
     "metadata": {},
     "output_type": "display_data"
    }
   ],
   "source": [
    "head(selCoefs)"
   ]
  },
  {
   "cell_type": "code",
   "execution_count": 4,
   "metadata": {},
   "outputs": [
    {
     "data": {
      "text/html": [
       "<table class=\"dataframe\">\n",
       "<caption>A data.frame: 6 × 2</caption>\n",
       "<thead>\n",
       "\t<tr><th></th><th scope=col>GeneGroup</th><th scope=col>GeneColor</th></tr>\n",
       "\t<tr><th></th><th scope=col>&lt;fct&gt;</th><th scope=col>&lt;chr&gt;</th></tr>\n",
       "</thead>\n",
       "<tbody>\n",
       "\t<tr><th scope=row>AI314180</th><td>3</td><td>#E7298A</td></tr>\n",
       "\t<tr><th scope=row>Abcc1</th><td>3</td><td>#E7298A</td></tr>\n",
       "\t<tr><th scope=row>Acod1</th><td>3</td><td>#E7298A</td></tr>\n",
       "\t<tr><th scope=row>Akr1a1</th><td>3</td><td>#E7298A</td></tr>\n",
       "\t<tr><th scope=row>Alas1</th><td>3</td><td>#E7298A</td></tr>\n",
       "\t<tr><th scope=row>Alox5ap</th><td>3</td><td>#E7298A</td></tr>\n",
       "</tbody>\n",
       "</table>\n"
      ],
      "text/latex": [
       "A data.frame: 6 × 2\n",
       "\\begin{tabular}{r|ll}\n",
       "  & GeneGroup & GeneColor\\\\\n",
       "  & <fct> & <chr>\\\\\n",
       "\\hline\n",
       "\tAI314180 & 3 & \\#E7298A\\\\\n",
       "\tAbcc1 & 3 & \\#E7298A\\\\\n",
       "\tAcod1 & 3 & \\#E7298A\\\\\n",
       "\tAkr1a1 & 3 & \\#E7298A\\\\\n",
       "\tAlas1 & 3 & \\#E7298A\\\\\n",
       "\tAlox5ap & 3 & \\#E7298A\\\\\n",
       "\\end{tabular}\n"
      ],
      "text/markdown": [
       "\n",
       "A data.frame: 6 × 2\n",
       "\n",
       "| <!--/--> | GeneGroup &lt;fct&gt; | GeneColor &lt;chr&gt; |\n",
       "|---|---|---|\n",
       "| AI314180 | 3 | #E7298A |\n",
       "| Abcc1 | 3 | #E7298A |\n",
       "| Acod1 | 3 | #E7298A |\n",
       "| Akr1a1 | 3 | #E7298A |\n",
       "| Alas1 | 3 | #E7298A |\n",
       "| Alox5ap | 3 | #E7298A |\n",
       "\n"
      ],
      "text/plain": [
       "         GeneGroup GeneColor\n",
       "AI314180 3         #E7298A  \n",
       "Abcc1    3         #E7298A  \n",
       "Acod1    3         #E7298A  \n",
       "Akr1a1   3         #E7298A  \n",
       "Alas1    3         #E7298A  \n",
       "Alox5ap  3         #E7298A  "
      ]
     },
     "metadata": {},
     "output_type": "display_data"
    }
   ],
   "source": [
    "#geneModulesN <- data.frame(read.csv(\"/home/beraslan/jovian-work/analysisSingle/ME_GeneModules_6_Modules.csv\", row.names = 1))\n",
    "geneModulesN <- data.frame(read.csv(\"./../ME_GeneModules_leiden_8_Modules.csv\"), row.names = 1)\n",
    "rownames(geneModulesN) <- geneModulesN$GeneName\n",
    "geneModulesN$GeneName <- NULL\n",
    "geneModulesN$GeneGroup <- factor(geneModulesN$GeneGroup)\n",
    "\n",
    "head(geneModulesN)"
   ]
  },
  {
   "cell_type": "code",
   "execution_count": 22,
   "metadata": {},
   "outputs": [
    {
     "data": {
      "text/html": [
       "<table class=\"dataframe\">\n",
       "<caption>A data.frame: 6 × 3</caption>\n",
       "<thead>\n",
       "\t<tr><th></th><th scope=col>GuideName</th><th scope=col>GuideGroup</th><th scope=col>GuideColor</th></tr>\n",
       "\t<tr><th></th><th scope=col>&lt;chr&gt;</th><th scope=col>&lt;int&gt;</th><th scope=col>&lt;chr&gt;</th></tr>\n",
       "</thead>\n",
       "<tbody>\n",
       "\t<tr><th scope=row>Aamp</th><td>Aamp  </td><td>4</td><td>#aa40fc</td></tr>\n",
       "\t<tr><th scope=row>Bop1</th><td>Bop1  </td><td>4</td><td>#aa40fc</td></tr>\n",
       "\t<tr><th scope=row>Cirh1a</th><td>Cirh1a</td><td>4</td><td>#aa40fc</td></tr>\n",
       "\t<tr><th scope=row>Dcaf13</th><td>Dcaf13</td><td>4</td><td>#aa40fc</td></tr>\n",
       "\t<tr><th scope=row>Grb2</th><td>Grb2  </td><td>4</td><td>#aa40fc</td></tr>\n",
       "\t<tr><th scope=row>Myc</th><td>Myc   </td><td>4</td><td>#aa40fc</td></tr>\n",
       "</tbody>\n",
       "</table>\n"
      ],
      "text/latex": [
       "A data.frame: 6 × 3\n",
       "\\begin{tabular}{r|lll}\n",
       "  & GuideName & GuideGroup & GuideColor\\\\\n",
       "  & <chr> & <int> & <chr>\\\\\n",
       "\\hline\n",
       "\tAamp & Aamp   & 4 & \\#aa40fc\\\\\n",
       "\tBop1 & Bop1   & 4 & \\#aa40fc\\\\\n",
       "\tCirh1a & Cirh1a & 4 & \\#aa40fc\\\\\n",
       "\tDcaf13 & Dcaf13 & 4 & \\#aa40fc\\\\\n",
       "\tGrb2 & Grb2   & 4 & \\#aa40fc\\\\\n",
       "\tMyc & Myc    & 4 & \\#aa40fc\\\\\n",
       "\\end{tabular}\n"
      ],
      "text/markdown": [
       "\n",
       "A data.frame: 6 × 3\n",
       "\n",
       "| <!--/--> | GuideName &lt;chr&gt; | GuideGroup &lt;int&gt; | GuideColor &lt;chr&gt; |\n",
       "|---|---|---|---|\n",
       "| Aamp | Aamp   | 4 | #aa40fc |\n",
       "| Bop1 | Bop1   | 4 | #aa40fc |\n",
       "| Cirh1a | Cirh1a | 4 | #aa40fc |\n",
       "| Dcaf13 | Dcaf13 | 4 | #aa40fc |\n",
       "| Grb2 | Grb2   | 4 | #aa40fc |\n",
       "| Myc | Myc    | 4 | #aa40fc |\n",
       "\n"
      ],
      "text/plain": [
       "       GuideName GuideGroup GuideColor\n",
       "Aamp   Aamp      4          #aa40fc   \n",
       "Bop1   Bop1      4          #aa40fc   \n",
       "Cirh1a Cirh1a    4          #aa40fc   \n",
       "Dcaf13 Dcaf13    4          #aa40fc   \n",
       "Grb2   Grb2      4          #aa40fc   \n",
       "Myc    Myc       4          #aa40fc   "
      ]
     },
     "metadata": {},
     "output_type": "display_data"
    }
   ],
   "source": [
    "#guideModulesN <- data.frame(read.csv(\"/home/beraslan/jovian-work/analysisSingle/ME_GuideModules_7_Modules.csv\", row.names = 1))\n",
    "#guideModulesN$GuideName <- sapply(guideModulesN$GuideName, function(x){strsplit(as.character(x),\"_\")[[1]][2]})\n",
    "\n",
    "guideModulesN <- data.frame(read.csv(\"./../ME_GuideModules_leiden_6_Modules.csv\"),  row.names = 1)\n",
    "rownames(guideModulesN) <- guideModulesN$GuideName \n",
    "\n",
    "head(guideModulesN)"
   ]
  },
  {
   "cell_type": "code",
   "execution_count": 24,
   "metadata": {},
   "outputs": [],
   "source": [
    "## This is for selecting training and validation sets in combo prediction\n",
    "# allTestGuides = list()\n",
    "\n",
    "# for(elem in unique(guideModulesN$GuideGroup)){\n",
    "#     myTmp = guideModulesN[guideModulesN$GuideGroup == elem,]\n",
    "#     k = sample(myTmp$GuideName, round(nrow(myTmp) *0.10, digits = 0), replace=FALSE)\n",
    "#     allTestGuides = lappend(allTestGuides, k)\n",
    "# }\n",
    "\n",
    "# allTestGuides = unique(unlist(allTestGuides))\n",
    "# allTrainingGuides = guideModulesN$GuideName[guideModulesN$GuideName %ni% allTestGuides]\n",
    "# write.csv(allTestGuides, \"./../TestGuides.csv\")\n",
    "# write.csv(allTrainingGuides, \"./../TrainingGuides.csv\")"
   ]
  },
  {
   "cell_type": "code",
   "execution_count": 6,
   "metadata": {},
   "outputs": [],
   "source": [
    "evaluateFactorNo <- function(){\n",
    "    allTestGuides = list()\n",
    "\n",
    "    for(elem in unique(guideModulesN$GuideGroup)){\n",
    "        myTmp = guideModulesN[guideModulesN$GuideGroup == elem,]\n",
    "        k = sample(myTmp$GuideName, round(nrow(myTmp) *0.2, digits = 0), replace=FALSE)\n",
    "        allTestGuides = lappend(allTestGuides, k)\n",
    "    }\n",
    "\n",
    "    allTestGuides = unique(unlist(allTestGuides))\n",
    "    allTrainingGuides = guideModulesN$GuideName[guideModulesN$GuideName %ni% allTestGuides]\n",
    "    selCoefsTest = data.frame(selCoefs[,allTestGuides])\n",
    "    selCoefsTrain = data.frame(selCoefs[,allTrainingGuides])\n",
    "    \n",
    "    \n",
    "    allExpVars = list()\n",
    "\n",
    "    for(i in 1:30){\n",
    "        k <- icaimax(selCoefsTrain, nc = i, center = T)\n",
    "        mySelFac = data.frame(k$S)\n",
    "        \n",
    "        r2ForNfac= c()\n",
    "        for(j in 1:ncol(selCoefsTest)){\n",
    "\n",
    "            mySelFac$y = selCoefsTest[,j]\n",
    "            k = lm(\"y ~ .\", data= mySelFac)\n",
    "            myPredict = predict(k, newdata = mySelFac)\n",
    "\n",
    "            myR2 = computeR2(mySelFac$y, myPredict)\n",
    "            r2ForNfac = c(r2ForNfac, myR2)\n",
    "        }\n",
    "        \n",
    "        allExpVars = lappend(allExpVars, r2ForNfac)\n",
    "    }\n",
    "    \n",
    "    \n",
    "    allExpVars = data.frame(do.call(cbind, allExpVars))\n",
    "    rownames(allExpVars) = colnames(selCoefsTest) \n",
    "    colnames(allExpVars) = paste0(\"NFac_\",1:ncol(allExpVars))\n",
    "    allExpVars$genes = rownames(allExpVars)\n",
    "    allExpVarsMelted = melt(allExpVars)\n",
    "    \n",
    "    return(allExpVarsMelted)\n",
    "\n",
    "}"
   ]
  },
  {
   "cell_type": "code",
   "execution_count": 7,
   "metadata": {},
   "outputs": [
    {
     "name": "stderr",
     "output_type": "stream",
     "text": [
      "Using genes as id variables\n",
      "\n",
      "Using genes as id variables\n",
      "\n",
      "Using genes as id variables\n",
      "\n",
      "Using genes as id variables\n",
      "\n",
      "Using genes as id variables\n",
      "\n",
      "Using genes as id variables\n",
      "\n"
     ]
    }
   ],
   "source": [
    "hh <- evaluateFactorNo() \n",
    "\n",
    "for(i in 1:5){\n",
    "    vv = evaluateFactorNo()\n",
    "    \n",
    "    hh = rbind(hh,  vv)\n",
    "}\n"
   ]
  },
  {
   "cell_type": "code",
   "execution_count": 10,
   "metadata": {},
   "outputs": [
    {
     "name": "stderr",
     "output_type": "stream",
     "text": [
      "Warning message:\n",
      "“Removed 1361 rows containing missing values (geom_violin).”\n"
     ]
    },
    {
     "data": {
      "image/png": "[encoded data removed]",
      "text/plain": [
       "plot without title"
      ]
     },
     "metadata": {
      "image/png": {
       "height": 480,
       "width": 720
      }
     },
     "output_type": "display_data"
    }
   ],
   "source": [
    "options(repr.plot.width=12, repr.plot.height=8)\n",
    "\n",
    "ggplot(hh, aes(x=variable, y=value)) + \n",
    "     geom_violin(trim=FALSE)+\n",
    "     geom_boxplot()+theme_minimal()+ \n",
    "     #stat_summary(fun.data = mean, geom = \"text\", size=6)+\n",
    "        # stat_compare_means(method=\"t.test\",paired = FALSE,\n",
    "        #                         comparisons = list(c(\"Control\", \"KO\")),\n",
    "        #                         color=\"red\", method.args = list(alternative = \"less\"),\n",
    "        #                         label.y = c(30), aes(label = ..p.signif..))+\n",
    "     #scale_fill_brewer(palette = \"Pastel1\")+\n",
    "ylab(\"Explained variance in unseen perturbation responses (R^2)\")+\n",
    "theme(axis.text = element_text(size=15),\n",
    "      axis.text.x = element_text(angle=90),\n",
    "              axis.title =  element_text(size=16))+ylim(0,1) +xlab(\"Number of ICA factors\") "
   ]
  },
  {
   "cell_type": "code",
   "execution_count": null,
   "metadata": {},
   "outputs": [],
   "source": [
    "myH <- t(k$S)\n",
    "myW <- k$M"
   ]
  },
  {
   "cell_type": "code",
   "execution_count": null,
   "metadata": {},
   "outputs": [],
   "source": [
    "dim(myH)"
   ]
  },
  {
   "cell_type": "code",
   "execution_count": null,
   "metadata": {},
   "outputs": [],
   "source": [
    "dim(myW)"
   ]
  },
  {
   "cell_type": "code",
   "execution_count": null,
   "metadata": {},
   "outputs": [],
   "source": [
    "rownames(myH) <- 1:nrow(myH)\n",
    "colnames(myW) <- 1:ncol(myW)\n"
   ]
  },
  {
   "cell_type": "code",
   "execution_count": null,
   "metadata": {},
   "outputs": [],
   "source": [
    "rownames(myW) <- KOGenes\n",
    "colnames(myH) <- rownames(selCoefs)"
   ]
  },
  {
   "cell_type": "code",
   "execution_count": null,
   "metadata": {},
   "outputs": [],
   "source": [
    "head(myW)"
   ]
  },
  {
   "cell_type": "code",
   "execution_count": null,
   "metadata": {},
   "outputs": [],
   "source": [
    "head(myH)"
   ]
  },
  {
   "cell_type": "code",
   "execution_count": null,
   "metadata": {},
   "outputs": [],
   "source": [
    "head(selCoefs)"
   ]
  },
  {
   "cell_type": "code",
   "execution_count": null,
   "metadata": {},
   "outputs": [],
   "source": [
    "M_targets = cor(t(myH), method = \"pearson\")\n",
    "M_genes = cor((myW), method = \"pearson\")"
   ]
  },
  {
   "cell_type": "code",
   "execution_count": null,
   "metadata": {},
   "outputs": [],
   "source": [
    "boxplot(M_targets, main=\"M targets\")\n",
    "abline(h=0.2, col=\"red\")\n",
    "abline(h= -0.2, col=\"red\")\n",
    "axis(2, at = seq(-0.5,0.5,0.1))\n"
   ]
  },
  {
   "cell_type": "code",
   "execution_count": null,
   "metadata": {},
   "outputs": [],
   "source": [
    "boxplot(M_genes, main=\"M genes\")\n",
    "abline(h=0.2, col=\"red\")\n",
    "abline(h= -0.2, col=\"red\")\n",
    "axis(2, at = seq(-0.5,0.5,0.1))"
   ]
  },
  {
   "cell_type": "code",
   "execution_count": null,
   "metadata": {},
   "outputs": [],
   "source": [
    "M_targets[M_targets > 0.2] = 0.2\n",
    "M_targets[M_targets < -0.2] = -0.2\n",
    "\n",
    "M_genes[M_genes > 0.3] = 0.3\n",
    "M_genes[M_genes < -0.3] = -0.3"
   ]
  },
  {
   "cell_type": "code",
   "execution_count": null,
   "metadata": {},
   "outputs": [],
   "source": [
    "# diag(M_targets) <- NA\n",
    "# diag(M_genes) <- NA"
   ]
  },
  {
   "cell_type": "code",
   "execution_count": null,
   "metadata": {},
   "outputs": [],
   "source": [
    "#fviz_nbclust(M_targets, kmeans, method = \"wss\", k.max = 19)+ggtitle(\"Optimal number of clusters in of factor covariance based on target loadings\")\n"
   ]
  },
  {
   "cell_type": "code",
   "execution_count": null,
   "metadata": {},
   "outputs": [],
   "source": [
    "#fviz_nbclust(M_genes, kmeans, method = \"wss\", k.max = 19)+ggtitle(\"Optimal number of clusters in of factor covariance based on gene loadings\")\n"
   ]
  },
  {
   "cell_type": "code",
   "execution_count": null,
   "metadata": {},
   "outputs": [],
   "source": [
    "options(repr.plot.width=9, repr.plot.height=8)\n",
    "\n",
    "col3 = colorRampPalette(c(\"navy\", \"white\", \"red\"))(50)\n",
    "corrplot::corrplot(M_genes, order = 'AOE', cl.lim=c(-0.3,0.3), col=col3, method = 'ellipse', is.corr = FALSE, tl.cex = 1.5, diag = FALSE, type = 'upper')"
   ]
  },
  {
   "cell_type": "code",
   "execution_count": null,
   "metadata": {},
   "outputs": [],
   "source": [
    "# options(repr.plot.width=10, repr.plot.height=6)\n",
    "\n",
    "# ctree=9\n",
    "# plot(hmTarget$tree_row)\n",
    "# abline(h=ctree, col=\"red\", lty=2, lwd=2)\n"
   ]
  },
  {
   "cell_type": "code",
   "execution_count": null,
   "metadata": {},
   "outputs": [],
   "source": [
    "options(repr.plot.width=9, repr.plot.height=8)\n",
    "\n",
    "hmGene <- pheatmap(M_genes, clustering_method=\"ward.D2\", show_colnames = TRUE, show_rownames = TRUE, \n",
    "                clustering_distance_rows=\"euclidean\", clustering_distance_cols=\"euclidean\",\n",
    "                   main=\"Covariance matrix of factors based on effected gene loadings\", colorRampPalette(c(\"navy\", \"white\", \"red\"))(50))\n"
   ]
  },
  {
   "cell_type": "code",
   "execution_count": null,
   "metadata": {},
   "outputs": [],
   "source": [
    "hmGene$tree_col$order\n"
   ]
  },
  {
   "cell_type": "code",
   "execution_count": null,
   "metadata": {},
   "outputs": [],
   "source": [
    "options(repr.plot.width=10, repr.plot.height=6)\n",
    "plot(hmGene$tree_row)\n"
   ]
  },
  {
   "cell_type": "code",
   "execution_count": null,
   "metadata": {},
   "outputs": [],
   "source": [
    "res.pca <- prcomp(M_targets, scale = FALSE)\n",
    "summary(res.pca)\n",
    "fviz_eig(res.pca, choice = 'variance', ncp = 19)+ggtitle(\"Scree plot of factor covariance based on target loadings\")\n",
    "\n"
   ]
  },
  {
   "cell_type": "code",
   "execution_count": null,
   "metadata": {},
   "outputs": [],
   "source": [
    "res.pca <- prcomp(M_genes, scale = FALSE)\n",
    "fviz_eig(res.pca, ncp = 19)+ ggtitle(\"Scree plot of factor covariance based on effected gene loadings\")\n"
   ]
  },
  {
   "cell_type": "code",
   "execution_count": null,
   "metadata": {},
   "outputs": [],
   "source": [
    "head(selCoefs)"
   ]
  },
  {
   "cell_type": "code",
   "execution_count": null,
   "metadata": {},
   "outputs": [],
   "source": [
    "boxplot(selCoefs)"
   ]
  },
  {
   "cell_type": "code",
   "execution_count": null,
   "metadata": {},
   "outputs": [],
   "source": [
    "geneModulesN$GeneGroup <- paste0(\"GeneGroup_\", geneModulesN$GeneGroup)"
   ]
  },
  {
   "cell_type": "code",
   "execution_count": null,
   "metadata": {},
   "outputs": [],
   "source": [
    "unique(geneModulesN)"
   ]
  },
  {
   "cell_type": "code",
   "execution_count": null,
   "metadata": {},
   "outputs": [],
   "source": [
    "guideModulesN$GuideGroup <- paste0(\"KOGroup_\", guideModulesN$GuideGroup)"
   ]
  },
  {
   "cell_type": "code",
   "execution_count": null,
   "metadata": {},
   "outputs": [],
   "source": [
    "unique(guideModulesN)"
   ]
  },
  {
   "cell_type": "code",
   "execution_count": null,
   "metadata": {},
   "outputs": [],
   "source": [
    "guideModulesN$GuideColor <- NULL\n",
    "geneModulesN$GeneColor <- NULL"
   ]
  },
  {
   "cell_type": "code",
   "execution_count": null,
   "metadata": {},
   "outputs": [],
   "source": [
    "plotFactorHeatmap <- function(coefsAll, sKOGenes, sEffectGenes, elem){\n",
    "  tempDF <- t(coefsAll[sEffectGenes, sKOGenes])\n",
    "  #tmpPVals <- pValsAllAdj[sTargets, sGenes]\n",
    "  #tempDF[tmpPVals > 0.1] <- 0\n",
    "  tempDF[tempDF > 0.5] = 0.5\n",
    "  tempDF[tempDF < -0.5] = -0.5\n",
    "   \n",
    "  annoCols<-list(GeneGroup=c(GeneGroup_0=\"#1B9E77\", GeneGroup_1=\"#D95F02\", GeneGroup_2=\"#7570B3\", GeneGroup_3=\"#E7298A\", \n",
    "                        GeneGroup_4=\"#66A61E\", GeneGroup_5=\"#E6AB02\", GeneGroup_6=\"#A6761D\", GeneGroup_7=\"#666666\"),\n",
    "                 GuideGroup=c(KOGroup_0=\"#1f77b4\", KOGroup_1=\"#ff7f0e\", KOGroup_2=\"#279e68\", KOGroup_3=\"#d62728\", \n",
    "                        KOGroup_4=\"#aa40fc\", KOGroup_5=\"#8c564b\"))\n",
    "    \n",
    "    \n",
    "  annotDFcol <- subset(geneModulesN, rownames(geneModulesN) %in% colnames(tempDF))\n",
    "  annotDFrow <- subset(guideModulesN, rownames(guideModulesN) %in% rownames(tempDF))\n",
    "    \n",
    "  options(repr.plot.width=16, repr.plot.height=9)\n",
    "  km2 <- pheatmap(tempDF, main = paste0(\"Factor \",elem),\n",
    "           na_col = \"grey\",  \n",
    "           annotation_col = annotDFcol,\n",
    "                  annotation_row = annotDFrow,\n",
    "            annotation_colors = annoCols,\n",
    "           clustering_method=\"ward.D2\",\n",
    "           clustering_distance_rows=\"euclidean\",\n",
    "           clustering_distance_cols=\"euclidean\", colorRampPalette(c(\"navy\", \"white\", \"red\"))(50))\n",
    "  \n",
    "  geneOrder = colnames(tempDF)[km2$tree_col$order]\n",
    "  koOrder = rownames(tempDF)[km2$tree_row$order]\n",
    "    \n",
    "  geneClusters=cutree(km2$tree_col, h=1)\n",
    "  i=1\n",
    "  while(length(unique(geneClusters)) > 2){\n",
    "    i = (i+0.5)\n",
    "    geneClusters <- cutree(km2$tree_col, h=i)\n",
    "  }\n",
    "  \n",
    "    \n",
    "  geneClusters_one <- names(geneClusters[geneClusters==1])\n",
    "  geneClusters_two <- names(geneClusters[geneClusters==2])\n",
    "    \n",
    "    \n",
    "  guideClusters=cutree(km2$tree_row, h=1)\n",
    "  i=1\n",
    "  while(length(unique(guideClusters)) > 2){\n",
    "    i = (i+0.5)\n",
    "    guideClusters <- cutree(km2$tree_row, h=i)\n",
    "  }\n",
    "  \n",
    "  guideClusters_one <- names(guideClusters[guideClusters==1])\n",
    "  guideClusters_two <- names(guideClusters[guideClusters==2])\n",
    "    \n",
    "  return(list(\"geneClusters_one\"=geneClusters_one, \"geneClusters_two\"=geneClusters_two,\n",
    "              \"guideClusters_one\"=guideClusters_one, \"guideClusters_two\"=guideClusters_two,\n",
    "             \"geneOrder\" = geneOrder, \"koOrder\" = koOrder))\n",
    "}\n",
    "\n",
    "\n",
    "#ensemblBackground <- mapIds(org.Mm.eg.db, keys = colnames(coefsAll), keytype = \"SYMBOL\", column= \"ENSEMBL\")\n"
   ]
  },
  {
   "cell_type": "code",
   "execution_count": null,
   "metadata": {},
   "outputs": [],
   "source": [
    "getOutliers <- function(x){\n",
    "  qX <- quantile(x)\n",
    "  IQR = qX[4] - qX[2]\n",
    "  minLev = qX[2] - IQR\n",
    "  maxLev = qX[4] + IQR\n",
    "  \n",
    "  return(x[ x < minLev | x > maxLev])\n",
    "}\n"
   ]
  },
  {
   "cell_type": "code",
   "execution_count": null,
   "metadata": {},
   "outputs": [],
   "source": [
    "getOutliers2 <- function(x){\n",
    "  qX <- quantile(x)\n",
    "  IQR = qX[4] - qX[2]\n",
    "  minLev = qX[2] - 1.3*IQR\n",
    "  maxLev = qX[4] + 1.3*IQR\n",
    "  \n",
    "  return(x[ x < minLev | x > maxLev])\n",
    "}\n"
   ]
  },
  {
   "cell_type": "code",
   "execution_count": null,
   "metadata": {},
   "outputs": [],
   "source": [
    "pathwayGenes <- list()\n",
    "pathwayKOs <- list()\n",
    "pathwayEffectedGenes <- list()\n",
    "pathwayEffectedUpGenes <- list()\n",
    "pathwayEffectedDownGenes <- list()\n",
    "factorGeneGroups <- list()\n",
    "geneKOOrder <- list()\n",
    "\n",
    "\n",
    "for(elem in c(1:nFactors)){\n",
    "  print(paste0(\"############## FACTOR : \",elem, \" ##################\"))\n",
    "  \n",
    "  factor0X <- myW[,elem]\n",
    "  names(factor0X) <- rownames(myW)\n",
    "  sKOGenes <- names(getOutliers(factor0X))\n",
    "  print(length(sKOGenes))\n",
    "    \n",
    "  factor0Y <- myH[elem,]\n",
    "  names(factor0Y) <- colnames(myH)\n",
    "  sEffectGenes <- names(getOutliers2(factor0Y))\n",
    "  print(length(sEffectGenes))\n",
    " \n",
    "  boxplot(selCoefs)\n",
    "  options(repr.plot.width=16, repr.plot.height=9)\n",
    "\n",
    "  k <- plotFactorHeatmap(selCoefs, sKOGenes, sEffectGenes, elem)\n",
    "\n",
    "  names(k) <- c(paste0(\"Factor \", elem, \" gene group 1\"), paste0(\"Factor \", elem, \" gene group 2\"),\n",
    "                paste0(\"Factor \", elem, \" guide group 1\"),paste0(\"Factor \", elem, \" guide group 2\"),\n",
    "                paste0(\"Factor \", elem, \" gene order\"), paste0(\"Factor \", elem, \" guide order\") )\n",
    "  factorGeneGroups <- lappend(factorGeneGroups, k[1:4])\n",
    "  geneKOOrder <- lappend(geneKOOrder, k[5:6])\n",
    "\n",
    "  print(\"Genes in the pathway: \")\n",
    "  pGenes = c(sEffectGenes, sKOGenes)\n",
    "\n",
    "  pathwayGenes <- lappend(pathwayGenes, pGenes)\n",
    "  pathwayKOs <- lappend(pathwayKOs, sKOGenes)\n",
    "  pathwayEffectedGenes <- lappend(pathwayEffectedGenes, sEffectGenes)\n",
    "  \n",
    "  #getDAVIDGOTerms (pGenes, ensemblBackground, fNamePrefix=paste0(\"NMF_\",inT, \"_\", elem), titleStr=paste0(\"Factor \",elem,))\n",
    "\n",
    "}\n"
   ]
  },
  {
   "cell_type": "code",
   "execution_count": null,
   "metadata": {},
   "outputs": [],
   "source": [
    "length(unique(unlist(pathwayKOs)))"
   ]
  },
  {
   "cell_type": "code",
   "execution_count": null,
   "metadata": {},
   "outputs": [],
   "source": [
    "sort(unique(unlist(pathwayKOs)))"
   ]
  },
  {
   "cell_type": "code",
   "execution_count": null,
   "metadata": {},
   "outputs": [],
   "source": [
    "\n",
    "length(unique(unlist(pathwayEffectedGenes)))"
   ]
  },
  {
   "cell_type": "code",
   "execution_count": null,
   "metadata": {},
   "outputs": [],
   "source": [
    "saveRDS(geneKOOrder, paste0(\"/home/beraslan/jovian-work/analysisSingle/R/factorGeneGroups.rds\"))"
   ]
  },
  {
   "cell_type": "code",
   "execution_count": null,
   "metadata": {},
   "outputs": [],
   "source": [
    "KOFactorMatrix = data.frame(matrix(0, ncol = length(unique(unlist(pathwayKOs))), nrow= nFactors))\n",
    "rownames(KOFactorMatrix) <- paste0(\"Factor \", 1:nrow(KOFactorMatrix))\n",
    "colnames(KOFactorMatrix) <- sort(unique(unlist(pathwayKOs)))"
   ]
  },
  {
   "cell_type": "code",
   "execution_count": null,
   "metadata": {},
   "outputs": [],
   "source": [
    "for(i in 1:length(pathwayKOs)){\n",
    "    facKOGenes = pathwayKOs[[i]]\n",
    "    KOFactorMatrix[i,facKOGenes] = 1\n",
    "}"
   ]
  },
  {
   "cell_type": "code",
   "execution_count": null,
   "metadata": {},
   "outputs": [],
   "source": [
    "head(KOFactorMatrix)"
   ]
  },
  {
   "cell_type": "code",
   "execution_count": null,
   "metadata": {},
   "outputs": [],
   "source": [
    "options(repr.plot.width=26, repr.plot.height=6)\n",
    "\n",
    "pheatmap(KOFactorMatrix, color = c(\"white\",\"blue\"), cluster_rows = F, main = \"KO genes per factor\")"
   ]
  },
  {
   "cell_type": "code",
   "execution_count": null,
   "metadata": {},
   "outputs": [],
   "source": [
    "EGenesFactorMatrix = data.frame(matrix(0, ncol = length(unique(unlist(pathwayEffectedGenes))), nrow= nFactors))\n",
    "rownames(EGenesFactorMatrix) <- paste0(\"Factor \", 1:nrow(EGenesFactorMatrix))\n",
    "colnames(EGenesFactorMatrix) <- sort(unique(unlist(pathwayEffectedGenes)))"
   ]
  },
  {
   "cell_type": "code",
   "execution_count": null,
   "metadata": {},
   "outputs": [],
   "source": [
    "for(i in 1:length(pathwayEffectedGenes)){\n",
    "    facEffectedGenes = pathwayEffectedGenes[[i]]\n",
    "    EGenesFactorMatrix[i,facEffectedGenes] = 1\n",
    "}"
   ]
  },
  {
   "cell_type": "code",
   "execution_count": null,
   "metadata": {},
   "outputs": [],
   "source": [
    "options(repr.plot.width=26, repr.plot.height=6)\n",
    "\n",
    "pheatmap(EGenesFactorMatrix, color = c(\"white\",\"red\"), cluster_rows = F, main = \"Effected genes per factor\")"
   ]
  },
  {
   "cell_type": "code",
   "execution_count": null,
   "metadata": {},
   "outputs": [],
   "source": []
  },
  {
   "cell_type": "code",
   "execution_count": null,
   "metadata": {},
   "outputs": [],
   "source": [
    "names(pathwayGenes) <- paste0(\"Factor_\",1:nFactors)\n",
    "names(pathwayTargets) <- paste0(\"Factor_\",1:nFactors)\n",
    "names(pathwayEffectedGenes) <-  paste0(\"Factor_\",1:nFactors)\n"
   ]
  },
  {
   "cell_type": "code",
   "execution_count": null,
   "metadata": {},
   "outputs": [],
   "source": [
    "factorGeneGroups <- unlist(factorGeneGroups, recursive = F)\n",
    "lLen <- unlist(lapply(factorGeneGroups, length))\n",
    "factorGeneGroups <- factorGeneGroups[lLen!=0]"
   ]
  },
  {
   "cell_type": "code",
   "execution_count": null,
   "metadata": {},
   "outputs": [],
   "source": [
    "writePathwayFile(pathwayGenes=factorGeneGroups,\n",
    "                 fileName=\"/home/beraslan/jovian-work/analysisSingle/ICA_15_factors_effectedGenes.csv\",\n",
    "                 cNames= names(factorGeneGroups))"
   ]
  },
  {
   "cell_type": "code",
   "execution_count": null,
   "metadata": {},
   "outputs": [],
   "source": [
    "length(factorGeneGroups)"
   ]
  },
  {
   "cell_type": "code",
   "execution_count": null,
   "metadata": {},
   "outputs": [],
   "source": []
  }
 ],
 "metadata": {
  "kernelspec": {
   "display_name": "R",
   "language": "R",
   "name": "ir"
  },
  "language_info": {
   "codemirror_mode": "r",
   "file_extension": ".r",
   "mimetype": "text/x-r-source",
   "name": "R",
   "pygments_lexer": "r",
   "version": "4.2.1"
  }
 },
 "nbformat": 4,
 "nbformat_minor": 4
}
