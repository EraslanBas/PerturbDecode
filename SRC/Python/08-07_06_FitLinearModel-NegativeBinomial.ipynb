{
 "cells": [
  {
   "cell_type": "code",
   "execution_count": 2,
   "metadata": {
    "papermill": {
     "duration": 2.497662,
     "end_time": "2020-02-03T11:16:52.810525",
     "exception": false,
     "start_time": "2020-02-03T11:16:50.312863",
     "status": "completed"
    },
    "tags": []
   },
   "outputs": [],
   "source": [
    "from libraries import *\n",
    "from parameters import *\n",
    "import statsmodels.api as sm\n",
    "import sklearn.feature_selection\n",
    "import statsmodels.api as sm\n",
    "import sklearn.feature_selection\n",
    "from sklearn.preprocessing import PolynomialFeatures\n",
    "import warnings\n",
    "warnings.filterwarnings('ignore')\n",
    "#from statannot import add_stat_annotation\n",
    "from numpy.random import seed\n",
    "from numpy.random import randint\n",
    "import statsmodels.formula.api as smf\n",
    "\n",
    "import statsmodels.api as sm\n",
    "%load_ext rpy2.ipython\n",
    "\n",
    "import sys"
   ]
  },
  {
   "cell_type": "code",
   "execution_count": null,
   "metadata": {
    "tags": [
     "parameters"
    ]
   },
   "outputs": [],
   "source": [
    "setIndex_1=0"
   ]
  },
  {
   "cell_type": "code",
   "execution_count": null,
   "metadata": {},
   "outputs": [],
   "source": [
    "setIndex_2= setIndex_1+150\n",
    "print(setIndex_2)"
   ]
  },
  {
   "cell_type": "code",
   "execution_count": null,
   "metadata": {},
   "outputs": [],
   "source": [
    "os.getcwd()\n",
    "os.chdir(projectDir)"
   ]
  },
  {
   "cell_type": "code",
   "execution_count": null,
   "metadata": {},
   "outputs": [],
   "source": [
    "adata = sc.read('outputs/anndata/adata-hash-features_singlets_SingleKO_05242020_Filtered.h5ad')\n",
    "allGeneNames = pd.read_csv(\"/home/beraslan/jovian-work/analysisSingle/AllExpGeneNames.csv\", index_col=0)"
   ]
  },
  {
   "cell_type": "code",
   "execution_count": null,
   "metadata": {},
   "outputs": [],
   "source": [
    "allBarcodeNames = adata.uns['feature_barcode_names']\n",
    "controlBarcodes = allBarcodeNames[[(x.startswith(\"NO_TARGET_\") or x.startswith(\"ONE_NONGENE_SITE_\")) for x in allBarcodeNames]]\n",
    "adata.obs[\"ControlGuidesAll\"] = adata.obs[controlBarcodes].sum(axis=1)"
   ]
  },
  {
   "cell_type": "code",
   "execution_count": null,
   "metadata": {},
   "outputs": [],
   "source": [
    "guideMatrix = adata.obs[adata.uns['feature_KO_barcode_names_filtered']]\n",
    "KOGuides = pd.Series(adata.uns['feature_KO_barcode_names_filtered'])\n",
    "guideMatrix.shape"
   ]
  },
  {
   "cell_type": "code",
   "execution_count": null,
   "metadata": {},
   "outputs": [],
   "source": [
    "KOGuides"
   ]
  },
  {
   "cell_type": "code",
   "execution_count": null,
   "metadata": {
    "tags": []
   },
   "outputs": [],
   "source": [
    "df = adata.obs[[\"n_genes\", \"mt_frac\", \"leiden\" ]]\n",
    "# dummies = pd.get_dummies(df.leiden)\n",
    "# df = df.join(dummies)\n",
    "# df.drop([\"leiden\"], axis=1,inplace = True) \n",
    "# df.shape"
   ]
  },
  {
   "cell_type": "code",
   "execution_count": null,
   "metadata": {},
   "outputs": [],
   "source": [
    "guideMatrix = guideMatrix.join(df)\n",
    "guideMatrix.shape"
   ]
  },
  {
   "cell_type": "code",
   "execution_count": null,
   "metadata": {},
   "outputs": [],
   "source": [
    "expressionMatrix = pd.DataFrame(adata.raw.X.A)\n",
    "expressionMatrix.columns = allGeneNames.iloc[:,0]\n",
    "expressionMatrix = expressionMatrix[adata.var_names]\n",
    "expressionMatrix.index = adata.obs.index\n",
    "expressionMatrix.shape"
   ]
  },
  {
   "cell_type": "code",
   "execution_count": null,
   "metadata": {},
   "outputs": [],
   "source": [
    "selColumns = pd.Series(KOGuides[setIndex_1:setIndex_2]).append(pd.Series([\"n_genes\", \"mt_frac\", \"leiden\"]))"
   ]
  },
  {
   "cell_type": "code",
   "execution_count": null,
   "metadata": {},
   "outputs": [],
   "source": [
    "selColumns"
   ]
  },
  {
   "cell_type": "code",
   "execution_count": null,
   "metadata": {},
   "outputs": [],
   "source": [
    "controlExpressionMat = expressionMatrix.loc[adata.obs[\"ControlGuidesAll\"] == 1,]\n",
    "controlGuideMat = guideMatrix.loc[adata.obs[\"ControlGuidesAll\"] == 1,]\n",
    "controlExpressionMat = controlExpressionMat.iloc[0:5000,:]\n",
    "controlGuideMat = controlGuideMat.iloc[0:5000,:]\n",
    "controlGuideMat=controlGuideMat[selColumns]"
   ]
  },
  {
   "cell_type": "code",
   "execution_count": null,
   "metadata": {},
   "outputs": [],
   "source": [
    "controlGuideMat"
   ]
  },
  {
   "cell_type": "code",
   "execution_count": null,
   "metadata": {},
   "outputs": [],
   "source": [
    "geneExpressionMat = expressionMatrix.loc[adata.obs[KOGuides[setIndex_1:setIndex_2]].sum(axis=1) > 0,]\n",
    "geneGuideMat = guideMatrix.loc[adata.obs[KOGuides[setIndex_1:setIndex_2]].sum(axis=1) > 0,]\n",
    "geneGuideMat=geneGuideMat[selColumns]"
   ]
  },
  {
   "cell_type": "code",
   "execution_count": null,
   "metadata": {},
   "outputs": [],
   "source": [
    "geneExpressionMat"
   ]
  },
  {
   "cell_type": "code",
   "execution_count": null,
   "metadata": {},
   "outputs": [],
   "source": [
    "geneGuideMat"
   ]
  },
  {
   "cell_type": "code",
   "execution_count": null,
   "metadata": {},
   "outputs": [],
   "source": [
    "allExpMat = np.concatenate((controlExpressionMat, geneExpressionMat))\n",
    "allGuideMat = controlGuideMat.append(geneGuideMat)"
   ]
  },
  {
   "cell_type": "code",
   "execution_count": null,
   "metadata": {},
   "outputs": [],
   "source": [
    "allVars = pd.Series(KOGuides[setIndex_1:setIndex_2]) \n",
    "myForm = allVars.append(pd.Series([\"n_genes\",\"mt_frac\",\"leiden\"]))\n",
    "\n",
    "myFormula = \"+\".join(myForm)\n",
    "my_formula = \"y~\" + myFormula"
   ]
  },
  {
   "cell_type": "code",
   "execution_count": null,
   "metadata": {},
   "outputs": [],
   "source": [
    "my_formula"
   ]
  },
  {
   "cell_type": "code",
   "execution_count": null,
   "metadata": {},
   "outputs": [],
   "source": [
    "allResp=adata.var_names\n",
    "allResp"
   ]
  },
  {
   "cell_type": "code",
   "execution_count": null,
   "metadata": {},
   "outputs": [],
   "source": [
    "del adata "
   ]
  },
  {
   "cell_type": "code",
   "execution_count": null,
   "metadata": {
    "tags": []
   },
   "outputs": [],
   "source": [
    "%%R -i allGuideMat,allExpMat,my_formula,allResp,setIndex_1,setIndex_2  -w 8 -h 4 -u in\n",
    "library(\"MASS\")\n",
    "library(\"broom\")\n",
    "\n",
    "for(i in seq(1,ncol(allExpMat),20)){\n",
    "    print(i)\n",
    "    \n",
    "    coefDF = data.frame()\n",
    "    for(j in seq(i,i+20,1)){\n",
    "       \n",
    "        \n",
    "      tryCatch(\n",
    "            expr = {\n",
    "                   allGuideMat[\"y\"] = allExpMat[,j]\n",
    "                   myFit <- glm.nb(formula(my_formula), data = allGuideMat)\n",
    "                   myDF <- data.frame(tidy(myFit))\n",
    "                   myDF$respGene = allResp[j] \n",
    "                   coefDF <- rbind(coefDF, myDF)\n",
    "            },\n",
    "            error = function(e){ \n",
    "                print(\"alooooo\")\n",
    "                print(e)\n",
    "            },\n",
    "            finally = {\n",
    "                # (Optional)\n",
    "                # Do this at the end before quitting the tryCatch structure...\n",
    "            }\n",
    "      )\n",
    "     \n",
    "    }\n",
    "    \n",
    "     print(dim(coefDF))\n",
    "     saveRDS(coefDF, paste0(\"./GuidesLM_NegativeBinomial/coefs_\",setIndex_1,\"_\",setIndex_2,\"_\", i, \"_\",i+20,\".rds\"))\n",
    "    \n",
    "\n",
    "}"
   ]
  },
  {
   "cell_type": "code",
   "execution_count": null,
   "metadata": {},
   "outputs": [],
   "source": [
    "%%R  -w 8 -h 4 -u in\n",
    "\n",
    "readRDS(\"./GuidesLM_NegativeBinomial/)"
   ]
  }
 ],
 "metadata": {
  "kernelspec": {
   "display_name": "Python 3 (ipykernel)",
   "language": "python",
   "name": "python3"
  },
  "language_info": {
   "codemirror_mode": {
    "name": "ipython",
    "version": 3
   },
   "file_extension": ".py",
   "mimetype": "text/x-python",
   "name": "python",
   "nbconvert_exporter": "python",
   "pygments_lexer": "ipython3",
   "version": "3.8.13"
  }
 },
 "nbformat": 4,
 "nbformat_minor": 4
}
