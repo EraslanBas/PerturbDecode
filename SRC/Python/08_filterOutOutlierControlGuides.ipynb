{
 "cells": [
  {
   "cell_type": "code",
   "execution_count": null,
   "metadata": {
    "papermill": {
     "duration": 2.497662,
     "end_time": "2020-02-03T11:16:52.810525",
     "exception": false,
     "start_time": "2020-02-03T11:16:50.312863",
     "status": "completed"
    },
    "tags": []
   },
   "outputs": [],
   "source": [
    "from libraries import *\n",
    "from parameters import *\n",
    "import statsmodels.api as sm\n",
    "from sklearn.ensemble import IsolationForest\n",
    "from sklearn.covariance import EllipticEnvelope\n",
    "from sklearn.neighbors import LocalOutlierFactor\n",
    "from sklearn.svm import OneClassSVM"
   ]
  },
  {
   "cell_type": "code",
   "execution_count": null,
   "metadata": {},
   "outputs": [],
   "source": [
    "os.getcwd()\n",
    "os.chdir(projectDir)"
   ]
  },
  {
   "cell_type": "code",
   "execution_count": null,
   "metadata": {},
   "outputs": [],
   "source": [
    "adata = sc.read(par_save_filename_5)\n",
    "adata.X.shape"
   ]
  },
  {
   "cell_type": "code",
   "execution_count": null,
   "metadata": {},
   "outputs": [],
   "source": [
    "adata.uns['Control_guides'] = [ x for x in adata.uns['feature_barcode_names'] if\n",
    "                               (x.startswith(\"ONE_NONGENE_SITE\") or x.startswith(\"NO_TARGET\"))]\n",
    "controlGM = adata.obs[adata.uns['Control_guides']]\n",
    "controlGM =controlGM[controlGM.sum(axis=1) == 1]\n",
    "adataControl = adata[controlGM.index,]\n",
    "adataControl.obs['Control_guide'] = adataControl.obs[adataControl.uns['Control_guides']].idxmax(axis=1)\n",
    "adataControl.shape"
   ]
  },
  {
   "cell_type": "code",
   "execution_count": null,
   "metadata": {},
   "outputs": [],
   "source": [
    "sc.tl.pca(adataControl, use_highly_variable=True,n_comps=100, svd_solver='arpack')"
   ]
  },
  {
   "cell_type": "code",
   "execution_count": null,
   "metadata": {},
   "outputs": [],
   "source": [
    "expressionMatrix = adataControl.obsm['X_pca']\n",
    "guideMatrix = adataControl.obs[adataControl.uns['Control_guides']]"
   ]
  },
  {
   "cell_type": "code",
   "execution_count": null,
   "metadata": {
    "tags": []
   },
   "outputs": [],
   "source": [
    "pvalDF = pd.DataFrame()\n",
    "coefDF = pd.DataFrame()\n",
    "    \n",
    "for j in range(0,100):\n",
    "    print(j)\n",
    "    est = sm.OLS(np.array(expressionMatrix)[:,j], np.array(guideMatrix))\n",
    "    est2 = est.fit().summary2().tables[1]\n",
    "    pvalDF[str(j)] = est2['P>|t|']\n",
    "    coefDF[str(j)] = est2['Coef.']\n",
    "    "
   ]
  },
  {
   "cell_type": "code",
   "execution_count": null,
   "metadata": {},
   "outputs": [],
   "source": [
    "coefDF.index = adataControl.uns['Control_guides']"
   ]
  },
  {
   "cell_type": "code",
   "execution_count": null,
   "metadata": {},
   "outputs": [],
   "source": [
    "iso = IsolationForest(contamination=0.1)\n",
    "yhat = iso.fit_predict(coefDF)\n",
    "k = pd.Series(coefDF.index[yhat == -1,])"
   ]
  },
  {
   "cell_type": "code",
   "execution_count": null,
   "metadata": {},
   "outputs": [],
   "source": [
    "ee = EllipticEnvelope(contamination=0.1)\n",
    "yhat = ee.fit_predict(coefDF)\n",
    "\n",
    "k = k.append(pd.Series(coefDF.index[yhat == -1,]))"
   ]
  },
  {
   "cell_type": "code",
   "execution_count": null,
   "metadata": {},
   "outputs": [],
   "source": [
    "lof = LocalOutlierFactor()\n",
    "yhat = lof.fit_predict(coefDF)\n",
    "k = k.append(pd.Series(coefDF.index[yhat == -1,]))"
   ]
  },
  {
   "cell_type": "code",
   "execution_count": null,
   "metadata": {},
   "outputs": [],
   "source": [
    "ee = OneClassSVM(nu=0.01)\n",
    "yhat = ee.fit_predict(coefDF)\n",
    "k = k.append(pd.Series(coefDF.index[yhat == -1,]))"
   ]
  },
  {
   "cell_type": "code",
   "execution_count": null,
   "metadata": {},
   "outputs": [],
   "source": [
    "allSel = pd.DataFrame(k.value_counts())\n",
    "allSel.columns = [\"nClassf\"]"
   ]
  },
  {
   "cell_type": "code",
   "execution_count": null,
   "metadata": {},
   "outputs": [],
   "source": [
    "allSel = allSel.loc[ allSel.nClassf > 2,]\n",
    "allSel['OutlierGuides'] = allSel.index"
   ]
  },
  {
   "cell_type": "code",
   "execution_count": null,
   "metadata": {},
   "outputs": [],
   "source": [
    "allSel = allSel.sort_values(by=['OutlierGuides'])"
   ]
  },
  {
   "cell_type": "code",
   "execution_count": null,
   "metadata": {},
   "outputs": [],
   "source": [
    "allSel.loc[:,\"OutlierGuides\"].to_csv(par_outlier_controlguides_file, index=False)"
   ]
  }
 ],
 "metadata": {
  "kernelspec": {
   "display_name": "Python 3 (ipykernel)",
   "language": "python",
   "name": "python3"
  },
  "language_info": {
   "codemirror_mode": {
    "name": "ipython",
    "version": 3
   },
   "file_extension": ".py",
   "mimetype": "text/x-python",
   "name": "python",
   "nbconvert_exporter": "python",
   "pygments_lexer": "ipython3",
   "version": "3.8.13"
  }
 },
 "nbformat": 4,
 "nbformat_minor": 4
}
