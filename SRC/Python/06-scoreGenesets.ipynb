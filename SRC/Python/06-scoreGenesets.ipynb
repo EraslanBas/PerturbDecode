{
 "cells": [
  {
   "cell_type": "markdown",
   "metadata": {},
   "source": [
    "# 06 - Scoring the signatures of predefined gene sets"
   ]
  },
  {
   "cell_type": "code",
   "execution_count": null,
   "metadata": {
    "papermill": {
     "duration": 2.497662,
     "end_time": "2020-02-03T11:16:52.810525",
     "exception": false,
     "start_time": "2020-02-03T11:16:50.312863",
     "status": "completed"
    },
    "tags": []
   },
   "outputs": [],
   "source": [
    "from libraries import *\n",
    "from parameters import *"
   ]
  },
  {
   "cell_type": "code",
   "execution_count": null,
   "metadata": {},
   "outputs": [],
   "source": [
    "os.getcwd()\n",
    "os.chdir(projectDir)"
   ]
  },
  {
   "cell_type": "code",
   "execution_count": null,
   "metadata": {},
   "outputs": [],
   "source": [
    "adata = sc.read(par_save_filename_4)"
   ]
  },
  {
   "cell_type": "code",
   "execution_count": null,
   "metadata": {},
   "outputs": [],
   "source": [
    "cGenes = pd.read_csv(par_predefined_genesets_filename)"
   ]
  },
  {
   "cell_type": "code",
   "execution_count": null,
   "metadata": {
    "tags": []
   },
   "outputs": [],
   "source": [
    "for i in [col for col in cGenes.columns if 'genes' in col]:\n",
    "    myGeneList = [x for x in cGenes.loc[:,i] if x != ' ']\n",
    "    myGeneList = [x.replace(\".\",\"-\") for x in myGeneList]\n",
    "    if(sum(pd.Series(myGeneList).isin(adata.var_names)) > 1):\n",
    "        sc.tl.score_genes(adata=adata, gene_list=myGeneList, score_name=i)\n",
    "        sc.pl.umap(adata, color=i, size=1, color_map=\"coolwarm\")\n",
    "        sc.pl.violin(adata, i, groupby='leiden')"
   ]
  }
 ],
 "metadata": {
  "kernelspec": {
   "display_name": "Python 3 (ipykernel)",
   "language": "python",
   "name": "python3"
  },
  "language_info": {
   "codemirror_mode": {
    "name": "ipython",
    "version": 3
   },
   "file_extension": ".py",
   "mimetype": "text/x-python",
   "name": "python",
   "nbconvert_exporter": "python",
   "pygments_lexer": "ipython3",
   "version": "3.8.13"
  }
 },
 "nbformat": 4,
 "nbformat_minor": 4
}
