{
 "cells": [
  {
   "cell_type": "markdown",
   "metadata": {
    "papermill": {
     "duration": 0.03355,
     "end_time": "2020-02-03T02:05:01.665597",
     "exception": false,
     "start_time": "2020-02-03T02:05:01.632047",
     "status": "completed"
    },
    "tags": []
   },
   "source": [
    "# 05 - Downstream Integration"
   ]
  },
  {
   "cell_type": "code",
   "execution_count": 1,
   "metadata": {
    "papermill": {
     "duration": 2.497662,
     "end_time": "2020-02-03T11:16:52.810525",
     "exception": false,
     "start_time": "2020-02-03T11:16:50.312863",
     "status": "completed"
    },
    "tags": []
   },
   "outputs": [],
   "source": [
    "from libraries import *\n",
    "from parameters import *"
   ]
  },
  {
   "cell_type": "code",
   "execution_count": 2,
   "metadata": {
    "papermill": {
     "duration": 0.391954,
     "end_time": "2020-02-02T03:12:57.617897",
     "exception": false,
     "start_time": "2020-02-02T03:12:57.225943",
     "status": "completed"
    },
    "tags": []
   },
   "outputs": [],
   "source": [
    "%load_ext rpy2.ipython"
   ]
  },
  {
   "cell_type": "code",
   "execution_count": 3,
   "metadata": {},
   "outputs": [],
   "source": [
    "os.getcwd()\n",
    "os.chdir(projectDir)"
   ]
  },
  {
   "cell_type": "code",
   "execution_count": null,
   "metadata": {
    "tags": []
   },
   "outputs": [],
   "source": [
    "adata = sc.read(par_save_filename_3)"
   ]
  },
  {
   "cell_type": "markdown",
   "metadata": {
    "papermill": {
     "duration": 0.059522,
     "end_time": "2020-02-03T03:52:09.203706",
     "exception": false,
     "start_time": "2020-02-03T03:52:09.144184",
     "status": "completed"
    },
    "tags": []
   },
   "source": [
    "## Normalization and log transform"
   ]
  },
  {
   "cell_type": "code",
   "execution_count": null,
   "metadata": {
    "papermill": {
     "duration": 55.060024,
     "end_time": "2020-02-03T03:53:04.322650",
     "exception": false,
     "start_time": "2020-02-03T03:52:09.262626",
     "status": "completed"
    },
    "tags": []
   },
   "outputs": [],
   "source": [
    "adata.layers['counts'] = adata.X.copy()\n",
    "\n",
    "sc.pp.normalize_total(adata, target_sum=par_preprocessing_target_sum)\n",
    "sc.pp.log1p(adata)\n",
    "adata.raw = adata"
   ]
  },
  {
   "cell_type": "code",
   "execution_count": null,
   "metadata": {
    "papermill": {
     "duration": 0.09955,
     "end_time": "2020-02-03T03:53:04.485945",
     "exception": false,
     "start_time": "2020-02-03T03:53:04.386395",
     "status": "completed"
    },
    "tags": []
   },
   "outputs": [],
   "source": [
    "sc.pp.highly_variable_genes(adata, n_top_genes=par_downstream_n_top_genes)"
   ]
  },
  {
   "cell_type": "code",
   "execution_count": null,
   "metadata": {},
   "outputs": [],
   "source": [
    "sc.pp.scale(adata, max_value=10)"
   ]
  },
  {
   "cell_type": "code",
   "execution_count": null,
   "metadata": {},
   "outputs": [],
   "source": [
    "n_pcs = min(min(adata.n_obs, adata.n_vars)-1, par_downstream_n_pcs)\n",
    "n_pcs"
   ]
  },
  {
   "cell_type": "markdown",
   "metadata": {},
   "source": [
    "## PCA, UMAP embedding and leiden clustering"
   ]
  },
  {
   "cell_type": "code",
   "execution_count": null,
   "metadata": {},
   "outputs": [],
   "source": [
    "sc.pp.pca(adata, n_comps=n_pcs, svd_solver='arpack')"
   ]
  },
  {
   "cell_type": "code",
   "execution_count": null,
   "metadata": {},
   "outputs": [],
   "source": [
    "sc.pp.neighbors(adata, n_neighbors=par_downstream_n_neighbors, metric=par_downstream_neighbor_metric)"
   ]
  },
  {
   "cell_type": "code",
   "execution_count": null,
   "metadata": {},
   "outputs": [],
   "source": [
    "sc.tl.umap(adata)"
   ]
  },
  {
   "cell_type": "code",
   "execution_count": null,
   "metadata": {},
   "outputs": [],
   "source": [
    "sc.tl.leiden(adata, resolution=par_leiden_clustering_resolution)"
   ]
  },
  {
   "cell_type": "code",
   "execution_count": null,
   "metadata": {},
   "outputs": [],
   "source": [
    "sc.tl.diffmap(adata)"
   ]
  },
  {
   "cell_type": "code",
   "execution_count": null,
   "metadata": {},
   "outputs": [],
   "source": [
    "umap_point_size = np.maximum(120000/adata.n_obs, 2)"
   ]
  },
  {
   "cell_type": "code",
   "execution_count": null,
   "metadata": {},
   "outputs": [],
   "source": [
    "f, ax = plt.subplots(figsize=(4, 4))\n",
    "sc.pl.umap(adata, color='leiden', \n",
    "           legend_loc='on data', \n",
    "           legend_fontoutline=3, \n",
    "           legend_fontsize=14, \n",
    "           legend_fontweight='normal', \n",
    "           title='Clusters', \n",
    "           ax=ax, \n",
    "           show=False, \n",
    "           size=0.3);"
   ]
  },
  {
   "cell_type": "code",
   "execution_count": null,
   "metadata": {},
   "outputs": [],
   "source": [
    "sc.tl.dendrogram(adata, groupby='leiden')"
   ]
  },
  {
   "cell_type": "code",
   "execution_count": null,
   "metadata": {},
   "outputs": [],
   "source": [
    "sc.pl.dendrogram(adata, groupby='leiden')"
   ]
  },
  {
   "cell_type": "markdown",
   "metadata": {},
   "source": [
    "## Identify and plot cluster marker genes"
   ]
  },
  {
   "cell_type": "code",
   "execution_count": null,
   "metadata": {},
   "outputs": [],
   "source": [
    "sc.tl.rank_genes_groups(adata, groupby=\"leiden\", n_genes=2000, method=\"t-test_overestim_var\")"
   ]
  },
  {
   "cell_type": "code",
   "execution_count": null,
   "metadata": {},
   "outputs": [],
   "source": [
    "markerGenes = pd.DataFrame(adata.uns['rank_genes_groups']['names'])\n",
    "markerGenes = markerGenes.iloc[0:10,:]\n",
    "markerGenes = np.unique(markerGenes.values.flatten())"
   ]
  },
  {
   "cell_type": "code",
   "execution_count": null,
   "metadata": {},
   "outputs": [],
   "source": [
    "sc.pl.matrixplot(adata, markerGenes, groupby='leiden', dendrogram=True,\n",
    "                      use_raw=False, vmin=-3, vmax=3,cmap='bwr',  swap_axes=True, figsize=(10,14))"
   ]
  },
  {
   "cell_type": "code",
   "execution_count": null,
   "metadata": {},
   "outputs": [],
   "source": [
    "sc.pl.heatmap(adata, markerGenes, \n",
    "              groupby='leiden', \n",
    "              figsize=(20, 10),\n",
    "              use_raw=False,\n",
    "              vmin=-3, \n",
    "              vmax=3,\n",
    "              cmap='bwr', \n",
    "              show_gene_labels=True, \n",
    "              dendrogram=True, \n",
    "              swap_axes=False)"
   ]
  },
  {
   "cell_type": "code",
   "execution_count": null,
   "metadata": {},
   "outputs": [],
   "source": [
    "sc.pl.heatmap(adata,markerGenes, \n",
    "              groupby='leiden', \n",
    "              show_gene_labels=True, \n",
    "              swap_axes=True)"
   ]
  },
  {
   "cell_type": "code",
   "execution_count": null,
   "metadata": {},
   "outputs": [],
   "source": [
    "sc.pl.dotplot(adata, markerGenes, groupby='leiden')"
   ]
  },
  {
   "cell_type": "code",
   "execution_count": null,
   "metadata": {},
   "outputs": [],
   "source": [
    "sc.pl.rank_genes_groups_matrixplot(adata, \n",
    "                                   n_genes=10, \n",
    "                                   standard_scale='var', \n",
    "                                   cmap='Blues')"
   ]
  },
  {
   "cell_type": "markdown",
   "metadata": {},
   "source": [
    "## Scoring cell cycle signatures"
   ]
  },
  {
   "cell_type": "code",
   "execution_count": null,
   "metadata": {
    "papermill": {
     "duration": 84.343566,
     "end_time": "2020-02-18T17:53:29.556827",
     "exception": false,
     "start_time": "2020-02-18T17:52:05.213261",
     "status": "completed"
    },
    "tags": []
   },
   "outputs": [],
   "source": [
    "gene_list_url = 'https://raw.githubusercontent.com/theislab/scanpy_usage/master/180209_cell_cycle/data/regev_lab_cell_cycle_genes.txt'\n",
    "\n",
    "cell_cycle_genes = [str(x.strip(), 'utf-8').capitalize() for x in urlopen(gene_list_url)] # capitalize = shame\n",
    "\n",
    "\n",
    "s_genes = cell_cycle_genes[:43]\n",
    "g2m_genes = cell_cycle_genes[43:]\n",
    "\n",
    "\n",
    "sc.tl.score_genes_cell_cycle(adata, s_genes=s_genes, g2m_genes=g2m_genes)"
   ]
  },
  {
   "cell_type": "code",
   "execution_count": null,
   "metadata": {},
   "outputs": [],
   "source": [
    "sc.pl.umap(adata, color='S_score', vmax=0.5, cmap='Reds')"
   ]
  },
  {
   "cell_type": "code",
   "execution_count": null,
   "metadata": {},
   "outputs": [],
   "source": [
    "sc.pl.umap(adata, color='G2M_score', vmax=0.5, cmap='Reds')"
   ]
  },
  {
   "cell_type": "code",
   "execution_count": null,
   "metadata": {},
   "outputs": [],
   "source": [
    "sc.pl.umap(adata, color='phase', vmax=0.5, cmap='Reds')"
   ]
  },
  {
   "cell_type": "markdown",
   "metadata": {
    "papermill": {
     "duration": 0.240104,
     "end_time": "2020-02-03T07:28:27.221535",
     "exception": false,
     "start_time": "2020-02-03T07:28:26.981431",
     "status": "completed"
    },
    "tags": []
   },
   "source": [
    "## Percent mito UMI"
   ]
  },
  {
   "cell_type": "code",
   "execution_count": null,
   "metadata": {
    "papermill": {
     "duration": 109.020338,
     "end_time": "2020-02-03T07:30:16.493384",
     "exception": false,
     "start_time": "2020-02-03T07:28:27.473046",
     "status": "completed"
    },
    "tags": []
   },
   "outputs": [],
   "source": [
    "f, ax = plt.subplots(1, 4, figsize=(20, 4))\n",
    "sc.pl.scatter(adata,\n",
    "              x='n_umis',\n",
    "              y='n_genes',\n",
    "              color='mt_frac',\n",
    "              ax=ax[0],\n",
    "              show=False,\n",
    "              right_margin=2.85,\n",
    "              title='Percent mitochondrial UMIs')\n",
    "ax[0].set_xscale('log')\n",
    "ax[0].set_yscale('log')\n",
    "\n",
    "sc.pl.scatter(adata, x='n_umis', y='mt_frac', ax=ax[1], show=False)\n",
    "ax[1].set_xscale('log')\n",
    "plt.subplots_adjust(wspace=0.5)\n",
    "\n",
    "sc.pl.violin(adata, keys='log10_n_umis', groupby='sample_name', rotation=90, ax=ax[2], show=False)\n",
    "sc.pl.violin(adata, keys='log10_n_umis', groupby='sample_name', rotation=90, ax=ax[3], show=False)"
   ]
  },
  {
   "cell_type": "code",
   "execution_count": null,
   "metadata": {},
   "outputs": [],
   "source": [
    "adata.write(par_save_filename_4)"
   ]
  },
  {
   "cell_type": "markdown",
   "metadata": {},
   "source": [
    "## Save the single and multiple KO cells as two separate anndata objects"
   ]
  },
  {
   "cell_type": "code",
   "execution_count": 5,
   "metadata": {},
   "outputs": [],
   "source": [
    "fBarMat = adata.obs[adata.uns['feature_barcode_names']]\n",
    "fBarMat[fBarMat>0] = 1"
   ]
  },
  {
   "cell_type": "code",
   "execution_count": 10,
   "metadata": {},
   "outputs": [],
   "source": [
    "adata.obs = adata.obs.assign(KONo = fBarMat.sum(axis=1).to_numpy()) \n",
    "adata.obs = adata.obs.assign(KOType = \"SingleKO\")\n",
    "adata.obs.loc[adata.obs.KONo > 1,'KOType'] = \"MultipleKO\""
   ]
  },
  {
   "cell_type": "code",
   "execution_count": 11,
   "metadata": {},
   "outputs": [
    {
     "data": {
      "text/plain": [
       "SingleKO      341664\n",
       "MultipleKO    177871\n",
       "Name: KOType, dtype: int64"
      ]
     },
     "execution_count": 11,
     "metadata": {},
     "output_type": "execute_result"
    }
   ],
   "source": [
    "adata.obs[\"KOType\"].value_counts()"
   ]
  },
  {
   "cell_type": "code",
   "execution_count": 12,
   "metadata": {},
   "outputs": [],
   "source": [
    "for elem in fBarMat.columns.to_list():\n",
    "     adata.obs.loc[adata.obs[elem] > 0,elem] = 1"
   ]
  },
  {
   "cell_type": "code",
   "execution_count": 13,
   "metadata": {},
   "outputs": [],
   "source": [
    "adataSingle = adata[adata.obs.KOType == \"SingleKO\", :]\n",
    "adataMultiple = adata[adata.obs.KOType == \"MultipleKO\", :]"
   ]
  },
  {
   "cell_type": "code",
   "execution_count": null,
   "metadata": {},
   "outputs": [],
   "source": [
    "adataSingle.write(par_save_filename_5)"
   ]
  },
  {
   "cell_type": "code",
   "execution_count": null,
   "metadata": {},
   "outputs": [],
   "source": [
    "adataMultiple.write(par_save_filename_6)"
   ]
  }
 ],
 "metadata": {
  "jupytext": {
   "cell_metadata_json": true
  },
  "kernelspec": {
   "display_name": "Python 3 (ipykernel)",
   "language": "python",
   "name": "python3"
  },
  "language_info": {
   "codemirror_mode": {
    "name": "ipython",
    "version": 3
   },
   "file_extension": ".py",
   "mimetype": "text/x-python",
   "name": "python",
   "nbconvert_exporter": "python",
   "pygments_lexer": "ipython3",
   "version": "3.8.13"
  },
  "papermill": {
   "duration": 33099.116899,
   "end_time": "2020-02-03T11:16:39.855412",
   "environment_variables": {},
   "exception": null,
   "input_path": "inputs/notebooks/jovian-02b-downstream-integrated.ipynb",
   "output_path": "outputs/notebooks/jovian-02b-downstream-integrated.ipynb",
   "parameters": {
    "par_batch_key": "sample_name",
    "par_cutoff_max_genes": null,
    "par_cutoff_min_counts": 200,
    "par_cutoff_min_genes": 200,
    "par_data_dir": "data",
    "par_de_group": "leiden",
    "par_de_method": "t-test_overestim_var",
    "par_de_n_genes": 2000,
    "par_downstream_hvg_batch_key": null,
    "par_downstream_louvain_resolution": 1.5,
    "par_downstream_n_neighbors": 15,
    "par_downstream_n_pcs": 50,
    "par_downstream_n_top_genes": 2000,
    "par_downstream_neighbor_metric": "euclidean",
    "par_empty_drops_fdr_cutoff": 0.01,
    "par_empty_drops_ignore_cutoff": 10,
    "par_empty_drops_lower_umi_cutoff": 200,
    "par_empty_drops_niters": 10000,
    "par_empty_drops_retain": 800,
    "par_final_empty_drops_fdr_cutoff": 0.01,
    "par_generate_plots_per_group": true,
    "par_group_key": "round",
    "par_initial_gene_cutoff": 10,
    "par_initial_umi_cutoff": 10,
    "par_merge_type": "outer",
    "par_mito_cutoff": 0.2,
    "par_per_group_de": true,
    "par_preprocessing_target_sum": 10000,
    "par_regress_out_n_jobs": 1,
    "par_regress_out_variables": [],
    "par_remove_doublets": false,
    "par_remove_mito_genes": true,
    "par_remove_sex_genes": false,
    "par_save_filename": "outputs/anndata/adata.h5ad",
    "par_save_filename_de": "outputs/reports/de-genes.xlsx",
    "par_save_filename_de_group": "outputs/reports/de-genes-%s.xlsx",
    "par_save_filename_group": "outputs/anndata/adata-group-%s.h5ad",
    "par_save_filename_sample": "outputs/anndata/adata-sample-%s.h5ad",
    "par_species": "mouse"
   },
   "start_time": "2020-02-03T02:05:00.738513",
   "version": "1.2.1"
  }
 },
 "nbformat": 4,
 "nbformat_minor": 4
}
