{
 "cells": [
  {
   "cell_type": "code",
   "execution_count": 1,
   "metadata": {},
   "outputs": [],
   "source": [
    "from libraries import *\n",
    "from parameters import *\n",
    "from sklearn import linear_model\n",
    "from scipy import stats\n",
    "from scipy.spatial import distance\n",
    "from scipy.cluster import hierarchy"
   ]
  },
  {
   "cell_type": "code",
   "execution_count": 2,
   "metadata": {},
   "outputs": [],
   "source": [
    "os.getcwd()\n",
    "os.chdir(projectDir)"
   ]
  },
  {
   "cell_type": "code",
   "execution_count": 3,
   "metadata": {},
   "outputs": [],
   "source": [
    "adata = sc.read('outputs/anndata/adata-hash-features_singlets_SingleKO_06292020_PerGENE.h5ad')"
   ]
  },
  {
   "cell_type": "code",
   "execution_count": 4,
   "metadata": {},
   "outputs": [],
   "source": [
    "selectedCells = pd.read_csv('./selectedCellsAfterEM.csv')"
   ]
  },
  {
   "cell_type": "code",
   "execution_count": 5,
   "metadata": {},
   "outputs": [
    {
     "data": {
      "text/html": [
       "<div>\n",
       "<style scoped>\n",
       "    .dataframe tbody tr th:only-of-type {\n",
       "        vertical-align: middle;\n",
       "    }\n",
       "\n",
       "    .dataframe tbody tr th {\n",
       "        vertical-align: top;\n",
       "    }\n",
       "\n",
       "    .dataframe thead th {\n",
       "        text-align: right;\n",
       "    }\n",
       "</style>\n",
       "<table border=\"1\" class=\"dataframe\">\n",
       "  <thead>\n",
       "    <tr style=\"text-align: right;\">\n",
       "      <th></th>\n",
       "      <th>x</th>\n",
       "    </tr>\n",
       "  </thead>\n",
       "  <tbody>\n",
       "    <tr>\n",
       "      <th>0</th>\n",
       "      <td>AAACGCTAGTTGTAGA-1-E3-1</td>\n",
       "    </tr>\n",
       "    <tr>\n",
       "      <th>1</th>\n",
       "      <td>AAAGGGCAGAGATCGC-1-E3-1</td>\n",
       "    </tr>\n",
       "    <tr>\n",
       "      <th>2</th>\n",
       "      <td>AAAGGGCTCCGAGATT-1-E3-1</td>\n",
       "    </tr>\n",
       "    <tr>\n",
       "      <th>3</th>\n",
       "      <td>AAATGGAAGCACTTTG-1-E3-1</td>\n",
       "    </tr>\n",
       "    <tr>\n",
       "      <th>4</th>\n",
       "      <td>AACACACGTCAGATTC-1-E3-1</td>\n",
       "    </tr>\n",
       "    <tr>\n",
       "      <th>...</th>\n",
       "      <td>...</td>\n",
       "    </tr>\n",
       "    <tr>\n",
       "      <th>242933</th>\n",
       "      <td>GTTAGACAGGAATTAC-1-E4-24</td>\n",
       "    </tr>\n",
       "    <tr>\n",
       "      <th>242934</th>\n",
       "      <td>GTTGTAGCAACGTTAC-1-E4-24</td>\n",
       "    </tr>\n",
       "    <tr>\n",
       "      <th>242935</th>\n",
       "      <td>TGATTTCTCTGAACGT-1-E4-24</td>\n",
       "    </tr>\n",
       "    <tr>\n",
       "      <th>242936</th>\n",
       "      <td>TGCTTCGGTCACTACA-1-E4-24</td>\n",
       "    </tr>\n",
       "    <tr>\n",
       "      <th>242937</th>\n",
       "      <td>TTAGGGTTCGCAGTGC-1-E4-24</td>\n",
       "    </tr>\n",
       "  </tbody>\n",
       "</table>\n",
       "<p>242938 rows × 1 columns</p>\n",
       "</div>"
      ],
      "text/plain": [
       "                               x\n",
       "0        AAACGCTAGTTGTAGA-1-E3-1\n",
       "1        AAAGGGCAGAGATCGC-1-E3-1\n",
       "2        AAAGGGCTCCGAGATT-1-E3-1\n",
       "3        AAATGGAAGCACTTTG-1-E3-1\n",
       "4        AACACACGTCAGATTC-1-E3-1\n",
       "...                          ...\n",
       "242933  GTTAGACAGGAATTAC-1-E4-24\n",
       "242934  GTTGTAGCAACGTTAC-1-E4-24\n",
       "242935  TGATTTCTCTGAACGT-1-E4-24\n",
       "242936  TGCTTCGGTCACTACA-1-E4-24\n",
       "242937  TTAGGGTTCGCAGTGC-1-E4-24\n",
       "\n",
       "[242938 rows x 1 columns]"
      ]
     },
     "execution_count": 5,
     "metadata": {},
     "output_type": "execute_result"
    }
   ],
   "source": [
    "selectedCells"
   ]
  },
  {
   "cell_type": "code",
   "execution_count": 6,
   "metadata": {},
   "outputs": [
    {
     "name": "stderr",
     "output_type": "stream",
     "text": [
      "/home/beraslan/anaconda3/lib/python3.7/site-packages/pandas/core/arrays/categorical.py:2487: FutureWarning: The `inplace` parameter in pandas.Categorical.remove_unused_categories is deprecated and will be removed in a future version.\n",
      "  res = method(*args, **kwargs)\n"
     ]
    }
   ],
   "source": [
    "adataSelected = adata[adata.obs.index.isin(selectedCells.x)].copy()"
   ]
  },
  {
   "cell_type": "code",
   "execution_count": 7,
   "metadata": {},
   "outputs": [],
   "source": [
    "fBarMat = adataSelected.obs[adataSelected.uns['feature_barcode_names_filtered_GENES']]"
   ]
  },
  {
   "cell_type": "code",
   "execution_count": 8,
   "metadata": {},
   "outputs": [
    {
     "data": {
      "text/plain": [
       "(242938, 1032)"
      ]
     },
     "execution_count": 8,
     "metadata": {},
     "output_type": "execute_result"
    }
   ],
   "source": [
    "fBarMat.shape"
   ]
  },
  {
   "cell_type": "code",
   "execution_count": 9,
   "metadata": {},
   "outputs": [],
   "source": [
    "badFBarMat = fBarMat.loc[:,fBarMat.sum(axis=0) < 5]\n",
    "badGuides = badFBarMat.columns.to_list()"
   ]
  },
  {
   "cell_type": "code",
   "execution_count": 10,
   "metadata": {},
   "outputs": [
    {
     "data": {
      "text/plain": [
       "[]"
      ]
     },
     "execution_count": 10,
     "metadata": {},
     "output_type": "execute_result"
    }
   ],
   "source": [
    "badGuides"
   ]
  },
  {
   "cell_type": "code",
   "execution_count": 11,
   "metadata": {},
   "outputs": [],
   "source": [
    "adataSelected.write('outputs/anndata/adata-hash-features_singlets_SingleKO_08122020_PerGENE.h5ad')"
   ]
  },
  {
   "cell_type": "code",
   "execution_count": null,
   "metadata": {},
   "outputs": [],
   "source": []
  }
 ],
 "metadata": {
  "kernelspec": {
   "display_name": "Python 3 (ipykernel)",
   "language": "python",
   "name": "python3"
  },
  "language_info": {
   "codemirror_mode": {
    "name": "ipython",
    "version": 3
   },
   "file_extension": ".py",
   "mimetype": "text/x-python",
   "name": "python",
   "nbconvert_exporter": "python",
   "pygments_lexer": "ipython3",
   "version": "3.8.13"
  }
 },
 "nbformat": 4,
 "nbformat_minor": 4
}
