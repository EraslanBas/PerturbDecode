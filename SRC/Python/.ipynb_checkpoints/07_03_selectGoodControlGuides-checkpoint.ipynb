{
 "cells": [
  {
   "cell_type": "code",
   "execution_count": 1,
   "metadata": {
    "papermill": {
     "duration": 2.497662,
     "end_time": "2020-02-03T11:16:52.810525",
     "exception": false,
     "start_time": "2020-02-03T11:16:50.312863",
     "status": "completed"
    },
    "tags": []
   },
   "outputs": [],
   "source": [
    "from libraries import *\n",
    "from parameters import *\n",
    "import statsmodels.api as sm"
   ]
  },
  {
   "cell_type": "code",
   "execution_count": 2,
   "metadata": {},
   "outputs": [],
   "source": [
    "os.getcwd()\n",
    "os.chdir(projectDir)"
   ]
  },
  {
   "cell_type": "code",
   "execution_count": 3,
   "metadata": {},
   "outputs": [
    {
     "data": {
      "text/plain": [
       "(341664, 13811)"
      ]
     },
     "execution_count": 3,
     "metadata": {},
     "output_type": "execute_result"
    }
   ],
   "source": [
    "adata = sc.read('outputs/anndata/adata-hash-features_singlets_SingleKO_05242020.h5ad')\n",
    "adata.X.shape"
   ]
  },
  {
   "cell_type": "code",
   "execution_count": 22,
   "metadata": {},
   "outputs": [
    {
     "data": {
      "text/plain": [
       "(341664, 330)"
      ]
     },
     "execution_count": 22,
     "metadata": {},
     "output_type": "execute_result"
    }
   ],
   "source": [
    "adata.uns['Control_guides'] = [ x for x in adata.uns['feature_barcode_names'] if (x.startswith(\"ONE_NONGENE_SITE\") or x.startswith(\"NO_TARGET\"))]\n",
    "controlGM = adata.obs[adata.uns['Control_guides']]\n",
    "controlGM.shape"
   ]
  },
  {
   "cell_type": "code",
   "execution_count": 23,
   "metadata": {},
   "outputs": [
    {
     "data": {
      "text/plain": [
       "(44074, 13811)"
      ]
     },
     "execution_count": 23,
     "metadata": {},
     "output_type": "execute_result"
    }
   ],
   "source": [
    "controlGM =controlGM[controlGM.sum(axis=1) == 1]\n",
    "adataControl = adata[controlGM.index,]\n",
    "adataControl.shape"
   ]
  },
  {
   "cell_type": "code",
   "execution_count": 24,
   "metadata": {},
   "outputs": [
    {
     "name": "stderr",
     "output_type": "stream",
     "text": [
      "/tmp/ipykernel_42943/1481002648.py:1: ImplicitModificationWarning: Trying to modify attribute `.obs` of view, initializing view as actual.\n",
      "  adataControl.obs['Control_guide'] = adataControl.obs[adataControl.uns['Control_guides']].idxmax(axis=1)\n"
     ]
    },
    {
     "data": {
      "text/plain": [
       "AAACGCTAGTTGTAGA-1-E3-1     ONE_NONGENE_SITE_192\n",
       "AAAGGATCAGGTTTAC-1-E3-1             NO_TARGET_60\n",
       "AAAGGATTCAGACAAA-1-E3-1     ONE_NONGENE_SITE_203\n",
       "AAAGGGCAGACGGTTG-1-E3-1            NO_TARGET_148\n",
       "AAAGGGCAGAGATCGC-1-E3-1            NO_TARGET_101\n",
       "                                    ...         \n",
       "TTTGATCCAAACGAGC-1-E4-24    ONE_NONGENE_SITE_243\n",
       "TTTGATCCATGACAAA-1-E4-24    ONE_NONGENE_SITE_287\n",
       "TTTGATCTCAGCTGTA-1-E4-24            NO_TARGET_81\n",
       "TTTGGAGTCCGTAGGC-1-E4-24            NO_TARGET_51\n",
       "TTTGGTTAGTTTAGGA-1-E4-24            NO_TARGET_79\n",
       "Name: Control_guide, Length: 44074, dtype: object"
      ]
     },
     "execution_count": 24,
     "metadata": {},
     "output_type": "execute_result"
    }
   ],
   "source": [
    "adataControl.obs['Control_guide'] = adataControl.obs[adataControl.uns['Control_guides']].idxmax(axis=1)\n",
    "adataControl.obs['Control_guide']"
   ]
  },
  {
   "cell_type": "code",
   "execution_count": 26,
   "metadata": {},
   "outputs": [
    {
     "name": "stdout",
     "output_type": "stream",
     "text": [
      "computing PCA\n",
      "    on highly variable genes\n",
      "    with n_comps=100\n",
      "    finished (0:00:07)\n"
     ]
    }
   ],
   "source": [
    "sc.tl.pca(adataControl, use_highly_variable=True,n_comps=100, svd_solver='arpack')"
   ]
  },
  {
   "cell_type": "code",
   "execution_count": 27,
   "metadata": {},
   "outputs": [],
   "source": [
    "expressionMatrix = adataControl.obsm['X_pca']\n",
    "guideMatrix = adataControl.obs[adataControl.uns['Control_guides']]"
   ]
  },
  {
   "cell_type": "code",
   "execution_count": 28,
   "metadata": {
    "collapsed": true,
    "jupyter": {
     "outputs_hidden": true
    },
    "tags": []
   },
   "outputs": [
    {
     "name": "stdout",
     "output_type": "stream",
     "text": [
      "0\n",
      "1\n",
      "2\n",
      "3\n",
      "4\n",
      "5\n",
      "6\n",
      "7\n",
      "8\n",
      "9\n",
      "10\n",
      "11\n",
      "12\n",
      "13\n",
      "14\n",
      "15\n",
      "16\n",
      "17\n",
      "18\n",
      "19\n",
      "20\n",
      "21\n",
      "22\n",
      "23\n",
      "24\n",
      "25\n",
      "26\n",
      "27\n",
      "28\n",
      "29\n",
      "30\n",
      "31\n",
      "32\n",
      "33\n",
      "34\n",
      "35\n",
      "36\n",
      "37\n",
      "38\n",
      "39\n",
      "40\n",
      "41\n",
      "42\n",
      "43\n",
      "44\n",
      "45\n",
      "46\n",
      "47\n",
      "48\n",
      "49\n",
      "50\n",
      "51\n",
      "52\n",
      "53\n",
      "54\n",
      "55\n",
      "56\n",
      "57\n",
      "58\n",
      "59\n",
      "60\n",
      "61\n",
      "62\n",
      "63\n",
      "64\n",
      "65\n",
      "66\n",
      "67\n",
      "68\n",
      "69\n",
      "70\n",
      "71\n",
      "72\n",
      "73\n",
      "74\n",
      "75\n",
      "76\n",
      "77\n",
      "78\n",
      "79\n",
      "80\n",
      "81\n",
      "82\n",
      "83\n",
      "84\n",
      "85\n",
      "86\n",
      "87\n",
      "88\n",
      "89\n",
      "90\n",
      "91\n",
      "92\n",
      "93\n",
      "94\n",
      "95\n",
      "96\n",
      "97\n",
      "98\n",
      "99\n"
     ]
    }
   ],
   "source": [
    "pvalDF = pd.DataFrame()\n",
    "coefDF = pd.DataFrame()\n",
    "    \n",
    "for j in range(0,100):\n",
    "    print(j)\n",
    "    est = sm.OLS(np.array(expressionMatrix)[:,j], np.array(guideMatrix))\n",
    "    est2 = est.fit().summary2().tables[1]\n",
    "    pvalDF[str(j)] = est2['P>|t|']\n",
    "    coefDF[str(j)] = est2['Coef.']\n",
    "    \n",
    "# pvalDF.to_csv(\"ControlGuides_pvalues.csv\")   \n",
    "# coefDF.to_csv(\"ControlGuides_coefs.csv\")   \n",
    " "
   ]
  },
  {
   "cell_type": "code",
   "execution_count": 29,
   "metadata": {},
   "outputs": [
    {
     "data": {
      "text/plain": [
       "(44074, 100)"
      ]
     },
     "execution_count": 29,
     "metadata": {},
     "output_type": "execute_result"
    }
   ],
   "source": [
    "adataControl.obsm['X_pca'].shape"
   ]
  },
  {
   "cell_type": "code",
   "execution_count": 30,
   "metadata": {},
   "outputs": [],
   "source": [
    "coefDF.index = adataControl.uns['Control_guides']"
   ]
  },
  {
   "cell_type": "code",
   "execution_count": 41,
   "metadata": {},
   "outputs": [
    {
     "data": {
      "text/plain": [
       "(330, 100)"
      ]
     },
     "execution_count": 41,
     "metadata": {},
     "output_type": "execute_result"
    }
   ],
   "source": [
    "coefDF.shape"
   ]
  },
  {
   "cell_type": "code",
   "execution_count": 31,
   "metadata": {},
   "outputs": [
    {
     "name": "stderr",
     "output_type": "stream",
     "text": [
      "/home/eraslab1/miniconda3/lib/python3.8/site-packages/sklearn/base.py:450: UserWarning: X does not have valid feature names, but IsolationForest was fitted with feature names\n",
      "  warnings.warn(\n"
     ]
    }
   ],
   "source": [
    "from sklearn.ensemble import IsolationForest\n",
    "\n",
    "iso = IsolationForest(contamination=0.1)\n",
    "yhat = iso.fit_predict(coefDF)\n",
    "k = pd.Series(coefDF.index[yhat == -1,])"
   ]
  },
  {
   "cell_type": "code",
   "execution_count": 32,
   "metadata": {},
   "outputs": [
    {
     "name": "stderr",
     "output_type": "stream",
     "text": [
      "/tmp/ipykernel_42943/3453177345.py:5: FutureWarning: The series.append method is deprecated and will be removed from pandas in a future version. Use pandas.concat instead.\n",
      "  k = k.append(pd.Series(coefDF.index[yhat == -1,]))\n"
     ]
    }
   ],
   "source": [
    "from sklearn.covariance import EllipticEnvelope\n",
    "ee = EllipticEnvelope(contamination=0.1)\n",
    "yhat = ee.fit_predict(coefDF)\n",
    "\n",
    "k = k.append(pd.Series(coefDF.index[yhat == -1,]))"
   ]
  },
  {
   "cell_type": "code",
   "execution_count": 33,
   "metadata": {},
   "outputs": [
    {
     "name": "stderr",
     "output_type": "stream",
     "text": [
      "/tmp/ipykernel_42943/901771125.py:4: FutureWarning: The series.append method is deprecated and will be removed from pandas in a future version. Use pandas.concat instead.\n",
      "  k = k.append(pd.Series(coefDF.index[yhat == -1,]))\n"
     ]
    }
   ],
   "source": [
    "from sklearn.neighbors import LocalOutlierFactor\n",
    "lof = LocalOutlierFactor()\n",
    "yhat = lof.fit_predict(coefDF)\n",
    "k = k.append(pd.Series(coefDF.index[yhat == -1,]))"
   ]
  },
  {
   "cell_type": "code",
   "execution_count": 34,
   "metadata": {},
   "outputs": [
    {
     "name": "stderr",
     "output_type": "stream",
     "text": [
      "/tmp/ipykernel_42943/11974079.py:4: FutureWarning: The series.append method is deprecated and will be removed from pandas in a future version. Use pandas.concat instead.\n",
      "  k = k.append(pd.Series(coefDF.index[yhat == -1,]))\n"
     ]
    }
   ],
   "source": [
    "from sklearn.svm import OneClassSVM\n",
    "ee = OneClassSVM(nu=0.01)\n",
    "yhat = ee.fit_predict(coefDF)\n",
    "k = k.append(pd.Series(coefDF.index[yhat == -1,]))"
   ]
  },
  {
   "cell_type": "code",
   "execution_count": 35,
   "metadata": {},
   "outputs": [],
   "source": [
    "allSel = pd.DataFrame(k.value_counts())\n",
    "allSel.columns = [\"dene\"]"
   ]
  },
  {
   "cell_type": "code",
   "execution_count": 37,
   "metadata": {},
   "outputs": [
    {
     "name": "stderr",
     "output_type": "stream",
     "text": [
      "/tmp/ipykernel_42943/2423422964.py:2: SettingWithCopyWarning: \n",
      "A value is trying to be set on a copy of a slice from a DataFrame.\n",
      "Try using .loc[row_indexer,col_indexer] = value instead\n",
      "\n",
      "See the caveats in the documentation: https://pandas.pydata.org/pandas-docs/stable/user_guide/indexing.html#returning-a-view-versus-a-copy\n",
      "  allSel['OutlierGuides'] = allSel.index\n"
     ]
    }
   ],
   "source": [
    "allSel = allSel.loc[ allSel.dene > 2,]\n",
    "allSel['OutlierGuides'] = allSel.index"
   ]
  },
  {
   "cell_type": "code",
   "execution_count": 39,
   "metadata": {},
   "outputs": [],
   "source": [
    "allSel = allSel.sort_values(by=['OutlierGuides'])"
   ]
  },
  {
   "cell_type": "code",
   "execution_count": 40,
   "metadata": {},
   "outputs": [
    {
     "data": {
      "text/html": [
       "<div>\n",
       "<style scoped>\n",
       "    .dataframe tbody tr th:only-of-type {\n",
       "        vertical-align: middle;\n",
       "    }\n",
       "\n",
       "    .dataframe tbody tr th {\n",
       "        vertical-align: top;\n",
       "    }\n",
       "\n",
       "    .dataframe thead th {\n",
       "        text-align: right;\n",
       "    }\n",
       "</style>\n",
       "<table border=\"1\" class=\"dataframe\">\n",
       "  <thead>\n",
       "    <tr style=\"text-align: right;\">\n",
       "      <th></th>\n",
       "      <th>dene</th>\n",
       "      <th>OutlierGuides</th>\n",
       "    </tr>\n",
       "  </thead>\n",
       "  <tbody>\n",
       "    <tr>\n",
       "      <th>NO_TARGET_104</th>\n",
       "      <td>3</td>\n",
       "      <td>NO_TARGET_104</td>\n",
       "    </tr>\n",
       "    <tr>\n",
       "      <th>NO_TARGET_135</th>\n",
       "      <td>4</td>\n",
       "      <td>NO_TARGET_135</td>\n",
       "    </tr>\n",
       "    <tr>\n",
       "      <th>NO_TARGET_149</th>\n",
       "      <td>3</td>\n",
       "      <td>NO_TARGET_149</td>\n",
       "    </tr>\n",
       "    <tr>\n",
       "      <th>NO_TARGET_151</th>\n",
       "      <td>4</td>\n",
       "      <td>NO_TARGET_151</td>\n",
       "    </tr>\n",
       "    <tr>\n",
       "      <th>NO_TARGET_17</th>\n",
       "      <td>3</td>\n",
       "      <td>NO_TARGET_17</td>\n",
       "    </tr>\n",
       "    <tr>\n",
       "      <th>NO_TARGET_56</th>\n",
       "      <td>3</td>\n",
       "      <td>NO_TARGET_56</td>\n",
       "    </tr>\n",
       "    <tr>\n",
       "      <th>NO_TARGET_58</th>\n",
       "      <td>4</td>\n",
       "      <td>NO_TARGET_58</td>\n",
       "    </tr>\n",
       "    <tr>\n",
       "      <th>NO_TARGET_64</th>\n",
       "      <td>4</td>\n",
       "      <td>NO_TARGET_64</td>\n",
       "    </tr>\n",
       "    <tr>\n",
       "      <th>NO_TARGET_87</th>\n",
       "      <td>3</td>\n",
       "      <td>NO_TARGET_87</td>\n",
       "    </tr>\n",
       "    <tr>\n",
       "      <th>ONE_NONGENE_SITE_174</th>\n",
       "      <td>3</td>\n",
       "      <td>ONE_NONGENE_SITE_174</td>\n",
       "    </tr>\n",
       "    <tr>\n",
       "      <th>ONE_NONGENE_SITE_176</th>\n",
       "      <td>3</td>\n",
       "      <td>ONE_NONGENE_SITE_176</td>\n",
       "    </tr>\n",
       "    <tr>\n",
       "      <th>ONE_NONGENE_SITE_177</th>\n",
       "      <td>3</td>\n",
       "      <td>ONE_NONGENE_SITE_177</td>\n",
       "    </tr>\n",
       "    <tr>\n",
       "      <th>ONE_NONGENE_SITE_202</th>\n",
       "      <td>3</td>\n",
       "      <td>ONE_NONGENE_SITE_202</td>\n",
       "    </tr>\n",
       "    <tr>\n",
       "      <th>ONE_NONGENE_SITE_207</th>\n",
       "      <td>3</td>\n",
       "      <td>ONE_NONGENE_SITE_207</td>\n",
       "    </tr>\n",
       "    <tr>\n",
       "      <th>ONE_NONGENE_SITE_209</th>\n",
       "      <td>3</td>\n",
       "      <td>ONE_NONGENE_SITE_209</td>\n",
       "    </tr>\n",
       "    <tr>\n",
       "      <th>ONE_NONGENE_SITE_219</th>\n",
       "      <td>3</td>\n",
       "      <td>ONE_NONGENE_SITE_219</td>\n",
       "    </tr>\n",
       "    <tr>\n",
       "      <th>ONE_NONGENE_SITE_223</th>\n",
       "      <td>4</td>\n",
       "      <td>ONE_NONGENE_SITE_223</td>\n",
       "    </tr>\n",
       "    <tr>\n",
       "      <th>ONE_NONGENE_SITE_225</th>\n",
       "      <td>3</td>\n",
       "      <td>ONE_NONGENE_SITE_225</td>\n",
       "    </tr>\n",
       "    <tr>\n",
       "      <th>ONE_NONGENE_SITE_263</th>\n",
       "      <td>4</td>\n",
       "      <td>ONE_NONGENE_SITE_263</td>\n",
       "    </tr>\n",
       "    <tr>\n",
       "      <th>ONE_NONGENE_SITE_267</th>\n",
       "      <td>3</td>\n",
       "      <td>ONE_NONGENE_SITE_267</td>\n",
       "    </tr>\n",
       "    <tr>\n",
       "      <th>ONE_NONGENE_SITE_279</th>\n",
       "      <td>3</td>\n",
       "      <td>ONE_NONGENE_SITE_279</td>\n",
       "    </tr>\n",
       "    <tr>\n",
       "      <th>ONE_NONGENE_SITE_290</th>\n",
       "      <td>3</td>\n",
       "      <td>ONE_NONGENE_SITE_290</td>\n",
       "    </tr>\n",
       "    <tr>\n",
       "      <th>ONE_NONGENE_SITE_298</th>\n",
       "      <td>3</td>\n",
       "      <td>ONE_NONGENE_SITE_298</td>\n",
       "    </tr>\n",
       "    <tr>\n",
       "      <th>ONE_NONGENE_SITE_300</th>\n",
       "      <td>4</td>\n",
       "      <td>ONE_NONGENE_SITE_300</td>\n",
       "    </tr>\n",
       "    <tr>\n",
       "      <th>ONE_NONGENE_SITE_302</th>\n",
       "      <td>3</td>\n",
       "      <td>ONE_NONGENE_SITE_302</td>\n",
       "    </tr>\n",
       "    <tr>\n",
       "      <th>ONE_NONGENE_SITE_311</th>\n",
       "      <td>4</td>\n",
       "      <td>ONE_NONGENE_SITE_311</td>\n",
       "    </tr>\n",
       "  </tbody>\n",
       "</table>\n",
       "</div>"
      ],
      "text/plain": [
       "                      dene         OutlierGuides\n",
       "NO_TARGET_104            3         NO_TARGET_104\n",
       "NO_TARGET_135            4         NO_TARGET_135\n",
       "NO_TARGET_149            3         NO_TARGET_149\n",
       "NO_TARGET_151            4         NO_TARGET_151\n",
       "NO_TARGET_17             3          NO_TARGET_17\n",
       "NO_TARGET_56             3          NO_TARGET_56\n",
       "NO_TARGET_58             4          NO_TARGET_58\n",
       "NO_TARGET_64             4          NO_TARGET_64\n",
       "NO_TARGET_87             3          NO_TARGET_87\n",
       "ONE_NONGENE_SITE_174     3  ONE_NONGENE_SITE_174\n",
       "ONE_NONGENE_SITE_176     3  ONE_NONGENE_SITE_176\n",
       "ONE_NONGENE_SITE_177     3  ONE_NONGENE_SITE_177\n",
       "ONE_NONGENE_SITE_202     3  ONE_NONGENE_SITE_202\n",
       "ONE_NONGENE_SITE_207     3  ONE_NONGENE_SITE_207\n",
       "ONE_NONGENE_SITE_209     3  ONE_NONGENE_SITE_209\n",
       "ONE_NONGENE_SITE_219     3  ONE_NONGENE_SITE_219\n",
       "ONE_NONGENE_SITE_223     4  ONE_NONGENE_SITE_223\n",
       "ONE_NONGENE_SITE_225     3  ONE_NONGENE_SITE_225\n",
       "ONE_NONGENE_SITE_263     4  ONE_NONGENE_SITE_263\n",
       "ONE_NONGENE_SITE_267     3  ONE_NONGENE_SITE_267\n",
       "ONE_NONGENE_SITE_279     3  ONE_NONGENE_SITE_279\n",
       "ONE_NONGENE_SITE_290     3  ONE_NONGENE_SITE_290\n",
       "ONE_NONGENE_SITE_298     3  ONE_NONGENE_SITE_298\n",
       "ONE_NONGENE_SITE_300     4  ONE_NONGENE_SITE_300\n",
       "ONE_NONGENE_SITE_302     3  ONE_NONGENE_SITE_302\n",
       "ONE_NONGENE_SITE_311     4  ONE_NONGENE_SITE_311"
      ]
     },
     "execution_count": 40,
     "metadata": {},
     "output_type": "execute_result"
    }
   ],
   "source": [
    "allSel"
   ]
  },
  {
   "cell_type": "code",
   "execution_count": null,
   "metadata": {},
   "outputs": [],
   "source": [
    "#allSel.loc[:,\"OutlierGuides\"].to_csv(\"BadControlGuides_v2.csv\", index=False)"
   ]
  },
  {
   "cell_type": "code",
   "execution_count": null,
   "metadata": {},
   "outputs": [],
   "source": []
  },
  {
   "cell_type": "code",
   "execution_count": null,
   "metadata": {},
   "outputs": [],
   "source": []
  }
 ],
 "metadata": {
  "kernelspec": {
   "display_name": "Python 3 (ipykernel)",
   "language": "python",
   "name": "python3"
  },
  "language_info": {
   "codemirror_mode": {
    "name": "ipython",
    "version": 3
   },
   "file_extension": ".py",
   "mimetype": "text/x-python",
   "name": "python",
   "nbconvert_exporter": "python",
   "pygments_lexer": "ipython3",
   "version": "3.8.13"
  }
 },
 "nbformat": 4,
 "nbformat_minor": 4
}
