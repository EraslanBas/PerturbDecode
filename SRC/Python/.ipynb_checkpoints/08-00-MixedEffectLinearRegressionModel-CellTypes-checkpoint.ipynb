{
 "cells": [
  {
   "cell_type": "code",
   "execution_count": 17,
   "metadata": {
    "papermill": {
     "duration": 2.497662,
     "end_time": "2020-02-03T11:16:52.810525",
     "exception": false,
     "start_time": "2020-02-03T11:16:50.312863",
     "status": "completed"
    },
    "tags": []
   },
   "outputs": [],
   "source": [
    "from libraries import *\n",
    "from parameters import *\n",
    "import statsmodels.api as sm\n",
    "import sklearn.feature_selection\n",
    "import statsmodels.api as sm\n",
    "import sklearn.feature_selection\n",
    "from sklearn.preprocessing import PolynomialFeatures\n",
    "import warnings\n",
    "warnings.filterwarnings('ignore')\n",
    "from statannot import add_stat_annotation\n",
    "from numpy.random import seed\n",
    "from numpy.random import randint\n",
    "import statsmodels.formula.api as smf\n",
    "\n",
    "%load_ext rpy2.ipython"
   ]
  },
  {
   "cell_type": "code",
   "execution_count": null,
   "metadata": {},
   "outputs": [],
   "source": [
    "# data = sm.datasets.get_rdataset(\"dietox\", \"geepack\").data\n",
    "# md = smf.mixedlm(\"Weight ~ Time\", data, groups=data[\"Pig\"], re_formula=\"~Time\")\n",
    "# mdf = md.fit(method=[\"lbfgs\"])\n",
    "# mdf.random_effects\n",
    "# mdf.summary()"
   ]
  },
  {
   "cell_type": "code",
   "execution_count": 2,
   "metadata": {},
   "outputs": [],
   "source": [
    "os.getcwd()\n",
    "os.chdir(projectDir)"
   ]
  },
  {
   "cell_type": "code",
   "execution_count": 3,
   "metadata": {},
   "outputs": [],
   "source": [
    "adataC = sc.read('outputs/anndata/adata-hash-features_singlets_SingleKO_08122020_PerGENE.h5ad')\n"
   ]
  },
  {
   "cell_type": "code",
   "execution_count": null,
   "metadata": {},
   "outputs": [],
   "source": [
    "# adataC.obs.loc[adataC.obs.leiden.isin(['3']), \"subCellType\"] = \"MacDC\"\n",
    "# adataC.obs.loc[adataC.obs.leiden.isin(['8']), \"subCellType\"] = \"DC1\"\n",
    "# adataC.obs.loc[adataC.obs.leiden.isin(['5']), \"subCellType\"] = \"MReg\""
   ]
  },
  {
   "cell_type": "code",
   "execution_count": 4,
   "metadata": {},
   "outputs": [],
   "source": [
    "covariates = adataC.uns['feature_barcode_names_filtered_GENES']\n",
    "covariates = covariates[covariates != \"GENE_CONTROL_\"]"
   ]
  },
  {
   "cell_type": "code",
   "execution_count": 5,
   "metadata": {},
   "outputs": [
    {
     "data": {
      "text/plain": [
       "1031"
      ]
     },
     "execution_count": 5,
     "metadata": {},
     "output_type": "execute_result"
    }
   ],
   "source": [
    "len(covariates)"
   ]
  },
  {
   "cell_type": "code",
   "execution_count": 6,
   "metadata": {},
   "outputs": [],
   "source": [
    "guideMatrix = adataC.obs[covariates]\n",
    "guideMatrix.shape\n",
    "guideMatrix.rename(columns = {'GENE_Rnf8-cmtr1_':'GENE_Rnf8cmtr1_'}, inplace = True) \n",
    "guideMatrix.rename(columns = {'GENE_Siah1-ps1_':'GENE_Siah1ps1_'}, inplace = True) \n",
    "guideMatrix.rename(columns = {'GENE_Siah1-ps2_':'GENE_Siah1ps2_'}, inplace = True) \n"
   ]
  },
  {
   "cell_type": "code",
   "execution_count": 7,
   "metadata": {},
   "outputs": [
    {
     "data": {
      "text/plain": [
       "(242938, 1034)"
      ]
     },
     "execution_count": 7,
     "metadata": {},
     "output_type": "execute_result"
    }
   ],
   "source": [
    "## Add covariates that should be corrected for\n",
    "df = adataC.obs[[\"n_genes\", \"mt_frac\", \"leiden\" ]]\n",
    "\n",
    "guideMatrix = guideMatrix.join(df)\n",
    "guideMatrix.shape"
   ]
  },
  {
   "cell_type": "code",
   "execution_count": 8,
   "metadata": {},
   "outputs": [],
   "source": [
    "expressionMatrix = adataC.X"
   ]
  },
  {
   "cell_type": "code",
   "execution_count": 13,
   "metadata": {},
   "outputs": [],
   "source": [
    "controlExpressionMat = expressionMatrix[adataC.obs[\"GENE_CONTROL_\"] == 1,]\n",
    "controlGuideMat = guideMatrix.loc[adataC.obs[\"GENE_CONTROL_\"] == 1,]\n"
   ]
  },
  {
   "cell_type": "code",
   "execution_count": 14,
   "metadata": {},
   "outputs": [],
   "source": [
    "controlExpressionMat = controlExpressionMat[0:5000,:]\n",
    "controlGuideMat = controlGuideMat.iloc[0:5000,:]"
   ]
  },
  {
   "cell_type": "code",
   "execution_count": 15,
   "metadata": {},
   "outputs": [],
   "source": [
    "geneExpressionMat = expressionMatrix[adataC.obs[covariates[0:100]].sum(axis=1) > 0,]\n",
    "geneGuideMat = guideMatrix.loc[adataC.obs[covariates[0:100]].sum(axis=1) > 0,]"
   ]
  },
  {
   "cell_type": "code",
   "execution_count": null,
   "metadata": {},
   "outputs": [],
   "source": [
    "# geneExpressionMat = expressionMatrix[adataC.obs[\"GENE_Aamp_\"] == 1,]\n",
    "# geneGuideMat = guideMatrix.loc[adataC.obs[\"GENE_Aamp_\"] == 1,]"
   ]
  },
  {
   "cell_type": "code",
   "execution_count": null,
   "metadata": {},
   "outputs": [],
   "source": [
    "allExpMat = np.concatenate((controlExpressionMat, geneExpressionMat))\n",
    "allGuideMat = controlGuideMat.append(geneGuideMat)"
   ]
  },
  {
   "cell_type": "code",
   "execution_count": 21,
   "metadata": {
    "collapsed": true,
    "jupyter": {
     "outputs_hidden": true
    },
    "tags": []
   },
   "outputs": [
    {
     "data": {
      "text/plain": [
       "array(['GENE_4921501E09Rik_', 'GENE_4930595M18Rik_',\n",
       "       'GENE_8030462N17Rik_', 'GENE_Aamp_', 'GENE_Abtb1_', 'GENE_Abtb2_',\n",
       "       'GENE_Acaca_', 'GENE_Ago2_', 'GENE_Ahctf1_', 'GENE_Ahr_',\n",
       "       'GENE_Akt1_', 'GENE_Ambra1_', 'GENE_Amfr_', 'GENE_Anapc10_',\n",
       "       'GENE_Anapc11_', 'GENE_Anapc13_', 'GENE_Anapc1_', 'GENE_Anapc2_',\n",
       "       'GENE_Anapc4_', 'GENE_Anapc5_', 'GENE_Anapc7_', 'GENE_Ankfy1_',\n",
       "       'GENE_Apaf1_', 'GENE_Apbb1_', 'GENE_Apc_', 'GENE_Ar_',\n",
       "       'GENE_Arel1_', 'GENE_Arih1_', 'GENE_Arih2_', 'GENE_Armc8_',\n",
       "       'GENE_Arnt_', 'GENE_Arpc1a_', 'GENE_Arpc1b_', 'GENE_Arrb1_',\n",
       "       'GENE_Asb11_', 'GENE_Asb12_', 'GENE_Asb14_', 'GENE_Asb15_',\n",
       "       'GENE_Asb1_', 'GENE_Asb2_', 'GENE_Asb3_', 'GENE_Asb4_',\n",
       "       'GENE_Asb6_', 'GENE_Asb7_', 'GENE_Asb9_', 'GENE_Atg16l1_',\n",
       "       'GENE_Atg16l2_', 'GENE_Atg5_', 'GENE_Atxn3_', 'GENE_Aurka_',\n",
       "       'GENE_Bach1_', 'GENE_Bard1_', 'GENE_Baz1a_', 'GENE_Baz1b_',\n",
       "       'GENE_Bcl6_', 'GENE_Bfar_', 'GENE_Bid_', 'GENE_Birc2_',\n",
       "       'GENE_Birc3_', 'GENE_Bmi1_', 'GENE_Bop1_', 'GENE_Bptf_',\n",
       "       'GENE_Brap_', 'GENE_Brca1_', 'GENE_Brwd1_', 'GENE_Brwd3_',\n",
       "       'GENE_Btbd19_', 'GENE_Btbd1_', 'GENE_Btbd2_', 'GENE_Btbd3_',\n",
       "       'GENE_Btbd6_', 'GENE_Btbd7_', 'GENE_Btbd8_', 'GENE_Btbd9_',\n",
       "       'GENE_Btrc_', 'GENE_Bub3_', 'GENE_Cacybp_', 'GENE_Cadps2_',\n",
       "       'GENE_Cbl_', 'GENE_Cblb_', 'GENE_Cblc_', 'GENE_Cbll1_',\n",
       "       'GENE_Ccin_', 'GENE_Ccnb1ip1_', 'GENE_Ccnb2_', 'GENE_Ccnd1_',\n",
       "       'GENE_Ccnf_', 'GENE_Cd28_', 'GENE_Cd2ap_', 'GENE_Cdc16_',\n",
       "       'GENE_Cdc23_', 'GENE_Cdc26_', 'GENE_Cdc27_', 'GENE_Cdc34_',\n",
       "       'GENE_Cdc40_', 'GENE_Cdca3_', 'GENE_Cdk5_', 'GENE_Cdkn1b_',\n",
       "       'GENE_Cdkn2a_', 'GENE_Cebpb_'], dtype=object)"
      ]
     },
     "execution_count": 21,
     "metadata": {},
     "output_type": "execute_result"
    }
   ],
   "source": [
    "allVars = covariates[0:100]\n",
    "allVars"
   ]
  },
  {
   "cell_type": "code",
   "execution_count": null,
   "metadata": {},
   "outputs": [],
   "source": [
    "all_columns = \"+\".join(allVars[~allVars.isin([\"leiden\"])])\n",
    "all_columns = all_columns + \"+n_genes\"+\"+mt_frac\""
   ]
  },
  {
   "cell_type": "code",
   "execution_count": null,
   "metadata": {},
   "outputs": [],
   "source": [
    "all_columns"
   ]
  },
  {
   "cell_type": "code",
   "execution_count": null,
   "metadata": {},
   "outputs": [],
   "source": []
  },
  {
   "cell_type": "code",
   "execution_count": null,
   "metadata": {},
   "outputs": [],
   "source": [
    "allGuideMat"
   ]
  },
  {
   "cell_type": "code",
   "execution_count": null,
   "metadata": {},
   "outputs": [],
   "source": [
    "allVars"
   ]
  },
  {
   "cell_type": "code",
   "execution_count": null,
   "metadata": {},
   "outputs": [],
   "source": [
    "%%R -i allVars  -w 8 -h 4 -u in\n",
    "xVars = paste0(allVars, collapse=\"+\")\n",
    "paste0(\"y ~ \", xVars, \"+ n_genes +  mt_frac + (1+\", xVars,\"|leiden)\")"
   ]
  },
  {
   "cell_type": "code",
   "execution_count": 24,
   "metadata": {
    "tags": []
   },
   "outputs": [
    {
     "name": "stderr",
     "output_type": "stream",
     "text": [
      "R[write to console]: fixed-effect model matrix is rank deficient so dropping 1 column / coefficient\n",
      "\n",
      "R[write to console]: boundary (singular) fit: see ?isSingular\n",
      "\n"
     ]
    },
    {
     "name": "stdout",
     "output_type": "stream",
     "text": [
      "Linear mixed model fit by REML ['lmerMod']\n",
      "Formula: y ~ GENE_Aamp_ + n_genes + mt_frac + (1 + GENE_Aamp_ | leiden)\n",
      "   Data: selGuideMat\n",
      "\n",
      "REML criterion at convergence: 236.6\n",
      "\n",
      "Scaled residuals: \n",
      "    Min      1Q  Median      3Q     Max \n",
      "-1.2578 -0.5988 -0.3619 -0.1339  3.5434 \n",
      "\n",
      "Random effects:\n",
      " Groups   Name        Variance  Std.Dev. Corr \n",
      " leiden   (Intercept) 0.0004572 0.02138       \n",
      "          GENE_Aamp_  0.0004560 0.02135  -1.00\n",
      " Residual             0.9759641 0.98791       \n",
      "Number of obs: 81, groups:  leiden, 7\n",
      "\n",
      "Fixed effects:\n",
      "              Estimate Std. Error t value\n",
      "(Intercept) -0.9150815  0.5702018  -1.605\n",
      "n_genes      0.0006497  0.0002703   2.404\n",
      "mt_frac     -0.3294774  6.0180677  -0.055\n",
      "\n",
      "Correlation of Fixed Effects:\n",
      "        (Intr) n_gens\n",
      "n_genes -0.738       \n",
      "mt_frac -0.657  0.015\n",
      "fit warnings:\n",
      "fixed-effect model matrix is rank deficient so dropping 1 column / coefficient\n",
      "Some predictor variables are on very different scales: consider rescaling\n",
      "optimizer (nloptwrap) convergence code: 0 (OK)\n",
      "boundary (singular) fit: see ?isSingular\n",
      "\n"
     ]
    }
   ],
   "source": [
    "%%R -i controlExpressionMat,controlGuideMat,geneExpressionMat,geneGuideMat,allVars  -w 8 -h 4 -u in\n",
    "library(\"lme4\")\n",
    "\n",
    "selCells = which(geneGuideMat[,\"GENE_Aamp_\"]> 0)\n",
    "\n",
    "selExpressionMat <- geneExpressionMat[selCells,]\n",
    "selGuideMat <- geneGuideMat[selCells,]\n",
    "\n",
    "selGuideMat[\"y\"] = selExpressionMat[,1]\n",
    "\n",
    "mixed.lmer <- lmer(formula(paste0(\"y ~ \", \"GENE_Aamp_\", \"+ n_genes +  mt_frac + (1+\", \"GENE_Aamp_\",\"|leiden)\")), data = selGuideMat)\n",
    "modelSum <- summary(mixed.lmer)\n",
    "modelSum\n"
   ]
  },
  {
   "cell_type": "code",
   "execution_count": null,
   "metadata": {},
   "outputs": [],
   "source": [
    "allExpMat.shape"
   ]
  },
  {
   "cell_type": "code",
   "execution_count": null,
   "metadata": {},
   "outputs": [],
   "source": [
    "allGuideMat[\"y\"] = np.array(allExpMat)[:,0]\n"
   ]
  },
  {
   "cell_type": "code",
   "execution_count": null,
   "metadata": {},
   "outputs": [],
   "source": [
    "est = smf.mixedlm(\"y~GENE_Aamp_+n_genes+mt_frac\", allGuideMat, groups=allGuideMat[\"leiden\"], missing='drop')\n",
    "\n",
    "mdf = est.fit(method=[\"bfgs\"])\n",
    "\n",
    "mdf.summary()"
   ]
  },
  {
   "cell_type": "code",
   "execution_count": null,
   "metadata": {},
   "outputs": [],
   "source": []
  },
  {
   "cell_type": "code",
   "execution_count": null,
   "metadata": {
    "tags": []
   },
   "outputs": [],
   "source": [
    "%%R -i allGuideMat -w 8 -h 4 -u in\n",
    "\n",
    "library(\"lme4\")\n",
    "\n",
    "mixed.lmer <- lmer(formula(\"y ~ GENE_Aamp_ + n_genes +  mt_frac + (1+GENE_Aamp_|leiden)\"), data = allGuideMat)\n",
    "h <- summary(mixed.lmer)\n",
    "h\n",
    "\n",
    "#ranef(mixed.lmer)"
   ]
  },
  {
   "cell_type": "code",
   "execution_count": null,
   "metadata": {},
   "outputs": [],
   "source": [
    "%%R  -w 8 -h 4 -u in\n",
    "data.frame(h$varcor)\n"
   ]
  },
  {
   "cell_type": "code",
   "execution_count": null,
   "metadata": {},
   "outputs": [],
   "source": [
    "%%R  -w 8 -h 4 -u in\n",
    "attributes(h)"
   ]
  },
  {
   "cell_type": "code",
   "execution_count": null,
   "metadata": {},
   "outputs": [],
   "source": [
    "%%R  -w 8 -h 4 -u in\n",
    "h <- data.frame(ranef(mixed.lmer))\n",
    "h "
   ]
  },
  {
   "cell_type": "code",
   "execution_count": null,
   "metadata": {},
   "outputs": [],
   "source": [
    "%%R  -w 8 -h 4 -u in\n",
    "h$condval <- h$condval + 5.979e-02"
   ]
  },
  {
   "cell_type": "code",
   "execution_count": null,
   "metadata": {},
   "outputs": [],
   "source": [
    "%%R  -w 8 -h 4 -u in\n",
    "h"
   ]
  },
  {
   "cell_type": "code",
   "execution_count": null,
   "metadata": {},
   "outputs": [],
   "source": [
    "%%R  -w 8 -h 4 -u in\n",
    "coef(mixed.lmer)"
   ]
  },
  {
   "cell_type": "code",
   "execution_count": null,
   "metadata": {},
   "outputs": [],
   "source": [
    "%%R  -w 8 -h 4 -u in\n",
    "h$vcov"
   ]
  },
  {
   "cell_type": "code",
   "execution_count": null,
   "metadata": {},
   "outputs": [],
   "source": [
    "guideMatrix.columns[0:1031]"
   ]
  },
  {
   "cell_type": "code",
   "execution_count": null,
   "metadata": {},
   "outputs": [],
   "source": [
    "pd.Series(adataC.var_names).to_csv(\"/home/beraslan/jovian-work/analysisSingle/Gene_names.csv\", index=False)"
   ]
  },
  {
   "cell_type": "code",
   "execution_count": null,
   "metadata": {},
   "outputs": [],
   "source": [
    "allVars = pd.Series(guideMatrix.columns) \n",
    "allVars"
   ]
  },
  {
   "cell_type": "code",
   "execution_count": null,
   "metadata": {},
   "outputs": [],
   "source": [
    "all_columns = \"+\".join(allVars[~allVars.isin([\"leiden\"])])\n"
   ]
  },
  {
   "cell_type": "code",
   "execution_count": null,
   "metadata": {
    "tags": []
   },
   "outputs": [],
   "source": []
  },
  {
   "cell_type": "code",
   "execution_count": null,
   "metadata": {
    "tags": []
   },
   "outputs": [],
   "source": [
    "my_formula = \"y~\" + all_columns\n",
    "my_formula"
   ]
  },
  {
   "cell_type": "code",
   "execution_count": null,
   "metadata": {},
   "outputs": [],
   "source": [
    "guideMatrix[\"y\"] = np.array(expressionMatrix)[:,1]\n"
   ]
  },
  {
   "cell_type": "code",
   "execution_count": null,
   "metadata": {},
   "outputs": [],
   "source": [
    "est = smf.mixedlm(\"y~GENE_Aamp_\", guideMatrix, groups=guideMatrix[\"leiden\"], missing='drop',re_formula=(\"~GENE_Aamp_\"))"
   ]
  },
  {
   "cell_type": "code",
   "execution_count": null,
   "metadata": {},
   "outputs": [],
   "source": [
    "mdf = est.fit(method=[\"bfgs\"])"
   ]
  },
  {
   "cell_type": "code",
   "execution_count": null,
   "metadata": {},
   "outputs": [],
   "source": [
    "mdf.summary().tables"
   ]
  },
  {
   "cell_type": "code",
   "execution_count": null,
   "metadata": {},
   "outputs": [],
   "source": [
    "mdf.random_effects"
   ]
  },
  {
   "cell_type": "code",
   "execution_count": null,
   "metadata": {},
   "outputs": [],
   "source": [
    "est = smf.mixedlm(my_formula, guideMatrix, groups=guideMatrix[\"leiden\"], missing='drop',re_formula=(\"~\"+all_columns))"
   ]
  },
  {
   "cell_type": "code",
   "execution_count": null,
   "metadata": {},
   "outputs": [],
   "source": []
  },
  {
   "cell_type": "code",
   "execution_count": null,
   "metadata": {
    "tags": []
   },
   "outputs": [],
   "source": [
    "mdf.random_effects"
   ]
  },
  {
   "cell_type": "code",
   "execution_count": null,
   "metadata": {},
   "outputs": [],
   "source": [
    "for i in range(5760,6000,20):\n",
    "    print(i)\n",
    "    pvalDF = pd.DataFrame()\n",
    "    coefDF = pd.DataFrame()\n",
    "    \n",
    "    for j in range(i,i+20):\n",
    "        print(j)\n",
    "        guideMatrix[\"y\"] = np.array(expressionMatrix)[:,j]\n",
    "        est = smf.mixedlm(my_formula, guideMatrix, groups=guideMatrix[\"leiden\"], missing='drop')\n",
    "        mdf = est.fit(method=[\"bfgs\"])\n",
    "        pvalDF[str(j)] = mdf.summary().tables[1][\"P>|z|\"]\n",
    "        coefDF[str(j)] = mdf.summary().tables[1][\"Coef.\"]\n",
    "    \n",
    "    coefDF.index = mdf.summary().tables[1].index\n",
    "    pvalDF.index = mdf.summary().tables[1].index\n",
    "    pvalDF.to_csv(\"pvalues_\"+str(i)+\"_\"+str(i+20)+\"_MixedEffect.csv\")   \n",
    "    coefDF.to_csv(\"coefs_\"+str(i)+\"_\"+str(i+20)+\"_MixedEffec.csv\")   "
   ]
  },
  {
   "cell_type": "code",
   "execution_count": null,
   "metadata": {},
   "outputs": [],
   "source": []
  },
  {
   "cell_type": "code",
   "execution_count": null,
   "metadata": {},
   "outputs": [],
   "source": []
  }
 ],
 "metadata": {
  "kernelspec": {
   "display_name": "Python 3 (ipykernel)",
   "language": "python",
   "name": "python3"
  },
  "language_info": {
   "codemirror_mode": {
    "name": "ipython",
    "version": 3
   },
   "file_extension": ".py",
   "mimetype": "text/x-python",
   "name": "python",
   "nbconvert_exporter": "python",
   "pygments_lexer": "ipython3",
   "version": "3.8.13"
  }
 },
 "nbformat": 4,
 "nbformat_minor": 4
}
