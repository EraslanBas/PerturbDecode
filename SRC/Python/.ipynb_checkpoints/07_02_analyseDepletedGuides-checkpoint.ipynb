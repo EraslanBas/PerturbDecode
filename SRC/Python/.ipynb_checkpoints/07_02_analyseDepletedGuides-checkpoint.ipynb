{
 "cells": [
  {
   "cell_type": "markdown",
   "metadata": {},
   "source": [
    "# Find out the depleted KOs compared to the initial pool of cells\n"
   ]
  },
  {
   "cell_type": "code",
   "execution_count": 34,
   "metadata": {
    "papermill": {
     "duration": 2.497662,
     "end_time": "2020-02-03T11:16:52.810525",
     "exception": false,
     "start_time": "2020-02-03T11:16:50.312863",
     "status": "completed"
    },
    "tags": []
   },
   "outputs": [],
   "source": [
    "from libraries import *\n",
    "from parameters import *\n",
    "\n",
    "from statsmodels.stats.proportion import proportions_ztest\n",
    "import statsmodels.stats.multitest as smm"
   ]
  },
  {
   "cell_type": "code",
   "execution_count": 35,
   "metadata": {
    "papermill": {
     "duration": 0.391954,
     "end_time": "2020-02-02T03:12:57.617897",
     "exception": false,
     "start_time": "2020-02-02T03:12:57.225943",
     "status": "completed"
    },
    "tags": []
   },
   "outputs": [
    {
     "name": "stdout",
     "output_type": "stream",
     "text": [
      "The rpy2.ipython extension is already loaded. To reload it, use:\n",
      "  %reload_ext rpy2.ipython\n"
     ]
    }
   ],
   "source": [
    "%load_ext rpy2.ipython"
   ]
  },
  {
   "cell_type": "code",
   "execution_count": 36,
   "metadata": {},
   "outputs": [],
   "source": [
    "os.getcwd()\n",
    "os.chdir(projectDir)"
   ]
  },
  {
   "cell_type": "code",
   "execution_count": 37,
   "metadata": {},
   "outputs": [],
   "source": [
    "adata = sc.read(\"outputs/anndata/adata-hash-features_singlets_SingleKO_05242020.h5ad\")"
   ]
  },
  {
   "cell_type": "code",
   "execution_count": 38,
   "metadata": {},
   "outputs": [
    {
     "data": {
      "text/plain": [
       "(341664, 13811)"
      ]
     },
     "execution_count": 38,
     "metadata": {},
     "output_type": "execute_result"
    }
   ],
   "source": [
    "adata.X.shape"
   ]
  },
  {
   "cell_type": "code",
   "execution_count": null,
   "metadata": {},
   "outputs": [],
   "source": [
    "fBarMat = adata.obs[adata.uns['feature_barcode_names']]\n",
    "fBarMat.shape"
   ]
  },
  {
   "cell_type": "code",
   "execution_count": null,
   "metadata": {},
   "outputs": [],
   "source": [
    "fBarMat[fBarMat > 0] = 1"
   ]
  },
  {
   "cell_type": "code",
   "execution_count": null,
   "metadata": {},
   "outputs": [],
   "source": [
    "fBarMatMulti = fBarMat.loc[fBarMat.sum(axis=1) > 1,]\n",
    "fBarMatMulti.shape"
   ]
  },
  {
   "cell_type": "code",
   "execution_count": null,
   "metadata": {},
   "outputs": [],
   "source": [
    "fBarMat = fBarMat.loc[fBarMat.sum(axis=1) == 1,]\n",
    "fBarMat.shape"
   ]
  },
  {
   "cell_type": "code",
   "execution_count": null,
   "metadata": {},
   "outputs": [],
   "source": [
    "guideList = fBarMat.columns"
   ]
  },
  {
   "cell_type": "code",
   "execution_count": null,
   "metadata": {},
   "outputs": [],
   "source": [
    "k = [x.startswith(\"ONE_NONGENE_SITE_\") for x in guideList]\n",
    "nonGeneGuides = fBarMat.loc[:,k]\n",
    "nonGeneGuides = nonGeneGuides.loc[nonGeneGuides.sum(axis=1) == 1,:]\n",
    "nonGeneGuides.shape"
   ]
  },
  {
   "cell_type": "code",
   "execution_count": null,
   "metadata": {},
   "outputs": [],
   "source": [
    "cellsPersNonGeneGuides = nonGeneGuides.sum(axis=0)\n",
    "cellsPersNonGeneGuides[cellsPersNonGeneGuides == 0]"
   ]
  },
  {
   "cell_type": "code",
   "execution_count": null,
   "metadata": {},
   "outputs": [],
   "source": [
    "l = [x.startswith(\"NO_TARGET_\") for x in guideList]\n",
    "noTargetGuides = fBarMat.loc[:,l]\n",
    "noTargetGuides = noTargetGuides.loc[noTargetGuides.sum(axis=1) == 1,:]\n",
    "noTargetGuides.shape"
   ]
  },
  {
   "cell_type": "code",
   "execution_count": null,
   "metadata": {},
   "outputs": [],
   "source": [
    "cellsPerNoTargetGuides = noTargetGuides.sum(axis=0)\n",
    "cellsPerNoTargetGuides[cellsPerNoTargetGuides == 0]"
   ]
  },
  {
   "cell_type": "code",
   "execution_count": null,
   "metadata": {},
   "outputs": [],
   "source": [
    "g = [(not(x.startswith(\"ONE_NONGENE_SITE_\") or x.startswith(\"NO_TARGET_\")) )for x in guideList]\n",
    "geneGuides = fBarMat.loc[:,g]\n",
    "geneGuides = geneGuides.loc[geneGuides.sum(axis=1) == 1,:]\n",
    "geneGuides.shape"
   ]
  },
  {
   "cell_type": "code",
   "execution_count": null,
   "metadata": {},
   "outputs": [],
   "source": [
    "cellsPerKOGuides = geneGuides.sum(axis=0)\n",
    "cellsPerKOGuides[cellsPerKOGuides == 0]"
   ]
  },
  {
   "cell_type": "code",
   "execution_count": null,
   "metadata": {},
   "outputs": [],
   "source": [
    "poolSummary = pd.read_csv('./PositiveControls/GuidePoolSummary_2.csv', sep=\"\\\\,\" )\n",
    "poolSummary.columns = [\"Guide\", \"nCellsPool\"]\n",
    "poolSummary[\"nCellsPool\"] = poolSummary[\"nCellsPool\"].astype(int)\n",
    "poolSummary[\"Guide\"] = poolSummary[\"Guide\"].replace('-', '_', regex=True)\n",
    "poolSummary"
   ]
  },
  {
   "cell_type": "code",
   "execution_count": null,
   "metadata": {},
   "outputs": [],
   "source": [
    "k1 = pd.DataFrame(nonGeneGuides.sum(axis=0), columns=[\"nCellsScreen\"])\n",
    "k1[\"Guide\"] = k1.index\n",
    "k1\n",
    "\n",
    "k2 = pd.DataFrame(noTargetGuides.sum(axis=0), columns=[\"nCellsScreen\"])\n",
    "k2[\"Guide\"] = k2.index\n",
    "k2\n",
    "\n",
    "k3 = pd.DataFrame(geneGuides.sum(axis=0), columns=[\"nCellsScreen\"])\n",
    "k3[\"Guide\"] = k3.index\n",
    "k3\n",
    "\n",
    "k = k1.append(k2)\n",
    "k = k.append(k3)"
   ]
  },
  {
   "cell_type": "code",
   "execution_count": null,
   "metadata": {},
   "outputs": [],
   "source": [
    "k"
   ]
  },
  {
   "cell_type": "code",
   "execution_count": null,
   "metadata": {},
   "outputs": [],
   "source": [
    "poolSummary['Guide'] = poolSummary['Guide'].str.replace('Rnf8_cmtr1','Rnf8-cmtr1')\n",
    "poolSummary['Guide'] = poolSummary['Guide'].str.replace('Siah1_ps1','Siah1-ps1')\n",
    "poolSummary['Guide'] = poolSummary['Guide'].str.replace('Siah1_ps2','Siah1-ps2')"
   ]
  },
  {
   "cell_type": "code",
   "execution_count": null,
   "metadata": {},
   "outputs": [],
   "source": [
    "poolSummary.Guide[~poolSummary.Guide.isin(k.Guide)]"
   ]
  },
  {
   "cell_type": "code",
   "execution_count": null,
   "metadata": {},
   "outputs": [],
   "source": [
    "k.Guide[~k.Guide.isin(poolSummary.Guide)]"
   ]
  },
  {
   "cell_type": "code",
   "execution_count": null,
   "metadata": {},
   "outputs": [],
   "source": [
    "result = pd.merge(poolSummary, k, on=\"Guide\")\n",
    "result[\"type\"] = \"Gene\"\n",
    "\n",
    "l = [x.startswith(\"NO_TARGET_\") for x in result[\"Guide\"]]\n",
    "result.loc[l,\"type\"] = \"Control_NO_TARGET\"\n",
    "l = [x.startswith(\"ONE_NONGENE_SITE\") for x in result[\"Guide\"]]\n",
    "result.loc[l,\"type\"] = \"Control_ONE_NON_GENE_SITE\""
   ]
  },
  {
   "cell_type": "code",
   "execution_count": null,
   "metadata": {},
   "outputs": [],
   "source": [
    "resultGeneLev = result.copy()\n",
    "resultGeneLev[\"targetGene\"] = ['_'.join(x.split(\"_\")[:-1]) for x in resultGeneLev.Guide]\n",
    "resultGeneLev = resultGeneLev.groupby(\"targetGene\").sum()\n",
    "resultGeneLev = resultGeneLev.drop('ONE_NONGENE_SITE')\n",
    "resultGeneLev = resultGeneLev.drop('NO_TARGET')"
   ]
  },
  {
   "cell_type": "code",
   "execution_count": null,
   "metadata": {},
   "outputs": [],
   "source": [
    "resultGeneLev"
   ]
  },
  {
   "cell_type": "code",
   "execution_count": null,
   "metadata": {},
   "outputs": [],
   "source": [
    "# Cut the window in 2 parts\n",
    "f, (ax_box, ax_hist) = plt.subplots(2, sharex=True, gridspec_kw={\"height_ratios\": (.15, .85)}, figsize=(15, 3))\n",
    " \n",
    "# Add a graph in each part\n",
    "kGene = result.loc[result.type == \"Gene\",:]\n",
    "print(kGene.nCellsScreen.sum())\n",
    "print(kGene.shape)\n",
    "print(kGene.nCellsScreen.median())\n",
    "sns.boxplot(data = kGene, x= 'nCellsScreen', ax=ax_box, color=\"pink\")\n",
    "sns.histplot(data = kGene, x = 'nCellsScreen', ax=ax_hist, color=\"pink\", binwidth=1)\n",
    "ax_hist.set_xticks(range(0,600,20))\n",
    "ax_hist.set_xticklabels(range(0,600,20))\n",
    "plt.axvline(x=kGene.nCellsScreen.mean(),\n",
    "            color='red')\n",
    "plt.axvline(x=kGene.nCellsScreen.median(),\n",
    "            color='blue')\n",
    " \n",
    "# Remove x axis name for the boxplot\n",
    "ax_box.set(xlabel='')\n",
    "ax_hist.set(xlabel=\"Number of cells per knock out guide\")\n",
    "\n",
    "\n",
    "f, (ax_box, ax_hist) = plt.subplots(2, sharex=True, gridspec_kw={\"height_ratios\": (.15, .85)}, figsize=(15, 3))\n",
    " \n",
    "# Add a graph in each part\n",
    "kControlNonGene = result.loc[result.type == \"Control_ONE_NON_GENE_SITE\",:]\n",
    "print(kControlNonGene.nCellsScreen.sum())\n",
    "print(kControlNonGene.nCellsScreen.median())\n",
    "sns.boxplot(data = kControlNonGene,x= 'nCellsScreen', ax=ax_box, color=\"lightgreen\")\n",
    "sns.histplot(data = kControlNonGene,x = 'nCellsScreen', ax=ax_hist, color=\"lightgreen\", binwidth=1)\n",
    "ax_hist.set_xticks(range(0,500,20))\n",
    "ax_hist.set_xticklabels(range(0,500,20))\n",
    "plt.axvline(x=kControlNonGene.nCellsScreen.mean(),\n",
    "            color='red')\n",
    "plt.axvline(x=kControlNonGene.nCellsScreen.median(),\n",
    "            color='blue')\n",
    " \n",
    "# Remove x axis name for the boxplot\n",
    "ax_box.set(xlabel='')\n",
    "ax_hist.set(xlabel=\"Number of cells per control non-gene-site guide\")\n",
    "\n",
    "\n",
    "f, (ax_box, ax_hist) = plt.subplots(2, sharex=True, gridspec_kw={\"height_ratios\": (.15, .85)}, figsize=(15, 3))\n",
    " \n",
    "# Add a graph in each part\n",
    "kControlNoTarget = result.loc[result.type == \"Control_NO_TARGET\",:]\n",
    "print(kControlNoTarget.nCellsScreen.sum())\n",
    "print(kControlNoTarget.nCellsScreen.median())\n",
    "sns.boxplot(data = kControlNoTarget,x= 'nCellsScreen', ax=ax_box, color=\"lightblue\")\n",
    "sns.histplot(data = kControlNoTarget,x = 'nCellsScreen', ax=ax_hist, color=\"lightblue\", binwidth=1)\n",
    "ax_hist.set_xticks(range(0,500,20))\n",
    "ax_hist.set_xticklabels(range(0,500,20))\n",
    "plt.axvline(x=kControlNoTarget.nCellsScreen.mean(),\n",
    "            color='red')\n",
    "plt.axvline(x=kControlNoTarget.nCellsScreen.median(),\n",
    "            color='blue')\n",
    " \n",
    "# Remove x axis name for the boxplot\n",
    "ax_box.set(xlabel='')\n",
    "ax_hist.set(xlabel=\"Number of cells per control no-target guide\")\n",
    "\n"
   ]
  },
  {
   "cell_type": "code",
   "execution_count": null,
   "metadata": {},
   "outputs": [],
   "source": [
    "totalScreen = sum(resultGeneLev.nCellsScreen)\n",
    "totalGuidePool = sum(resultGeneLev.nCellsPool)\n",
    "\n",
    "resultGeneLev[\"nCellsPoolPerc\"] = resultGeneLev.nCellsPool / totalGuidePool\n",
    "resultGeneLev[\"nCellsScreenPerc\"] = resultGeneLev.nCellsScreen / totalScreen\n",
    "resultGeneLev[\"nCellsScreenPoolPercDif\"] = resultGeneLev[\"nCellsScreenPerc\"] - resultGeneLev[\"nCellsPoolPerc\"]\n",
    "\n",
    "resultGeneLev = resultGeneLev.sort_values('nCellsScreenPerc')\n",
    "resultGeneLev"
   ]
  },
  {
   "cell_type": "code",
   "execution_count": null,
   "metadata": {},
   "outputs": [],
   "source": [
    "sns.boxplot(data = resultGeneLev, x= 'nCellsScreenPoolPercDif', color=\"pink\")\n"
   ]
  },
  {
   "cell_type": "code",
   "execution_count": null,
   "metadata": {},
   "outputs": [],
   "source": [
    "resultGeneLev[\"statLarger\"] = 0\n",
    "resultGeneLev[\"pValLarger\"] = 0\n",
    "resultGeneLev[\"statSmaller\"] = 0\n",
    "resultGeneLev[\"pValSmaller\"] = 0\n",
    "\n",
    "for i in range(0,resultGeneLev.shape[0]):\n",
    "    count = np.array([resultGeneLev[\"nCellsPool\"].iat[i], resultGeneLev[\"nCellsScreen\"].iat[i]])\n",
    "    nobs = np.array([totalGuidePool, totalScreen])\n",
    "    stat1, pval1 = proportions_ztest(count, nobs, alternative = \"larger\" )\n",
    "    resultGeneLev[\"statLarger\"].iat[i] = stat1\n",
    "    resultGeneLev[\"pValLarger\"].iat[i] = pval1\n",
    "    \n",
    "    stat2, pval2 = proportions_ztest(count, nobs, alternative = \"smaller\" )\n",
    "    resultGeneLev[\"statSmaller\"].iat[i] = stat2\n",
    "    resultGeneLev[\"pValSmaller\"].iat[i] = pval2"
   ]
  },
  {
   "cell_type": "code",
   "execution_count": null,
   "metadata": {},
   "outputs": [],
   "source": [
    "resultGeneLev[\"FDR_larger\"] = smm.multipletests(resultGeneLev.pValLarger, method='fdr_bh')[1]\n",
    "resultGeneLev[\"FDR_smaller\"] = smm.multipletests(resultGeneLev.pValSmaller, method='fdr_bh')[1]"
   ]
  },
  {
   "cell_type": "code",
   "execution_count": null,
   "metadata": {},
   "outputs": [],
   "source": [
    "resultGeneLev.to_csv(\"NoOfCellsPerGuide_GeneLevel.csv\")"
   ]
  },
  {
   "cell_type": "code",
   "execution_count": null,
   "metadata": {},
   "outputs": [],
   "source": [
    "resultGeneLev.loc[resultGeneLev.FDR_larger < 0.1,]"
   ]
  },
  {
   "cell_type": "code",
   "execution_count": null,
   "metadata": {},
   "outputs": [],
   "source": [
    "resultGeneLev.loc[resultGeneLev.FDR_smaller < 0.1,]"
   ]
  },
  {
   "cell_type": "code",
   "execution_count": null,
   "metadata": {
    "tags": []
   },
   "outputs": [],
   "source": [
    "allRes = pd.DataFrame()\n",
    "\n",
    "k = nonGeneGuides.sum(axis=0)\n",
    "k = k[k!=0].index\n",
    "\n",
    "for x in np.array(k):\n",
    "    k = pd.DataFrame(pd.crosstab(index=nonGeneGuides[x], columns=adata.obs['leiden']).iloc[1,:] )\n",
    "    k['leiden'] = k.index\n",
    "    k['type'] = \"Non-Gene\"\n",
    "    k['Guide_name'] = x\n",
    "    allRes = allRes.append(k)"
   ]
  },
  {
   "cell_type": "code",
   "execution_count": null,
   "metadata": {
    "tags": []
   },
   "outputs": [],
   "source": [
    "allRes"
   ]
  },
  {
   "cell_type": "code",
   "execution_count": null,
   "metadata": {
    "tags": []
   },
   "outputs": [],
   "source": [
    "l = noTargetGuides.sum(axis=0)\n",
    "l = l[l!=0].index\n",
    "\n",
    "\n",
    "for x in np.array(l):\n",
    "    k = pd.DataFrame(pd.crosstab(index=noTargetGuides[x], columns=adata.obs['leiden']).iloc[1,:] )\n",
    "    k['leiden'] = k.index\n",
    "    k['type'] = \"No-Target\"\n",
    "    k['Guide_name'] = x\n",
    "    allRes = allRes.append(k)"
   ]
  },
  {
   "cell_type": "code",
   "execution_count": null,
   "metadata": {
    "tags": []
   },
   "outputs": [],
   "source": [
    "g = geneGuides.sum(axis=0)\n",
    "g = g[g!=0].index\n",
    "\n",
    "\n",
    "for x in np.array(g):\n",
    "    k = pd.DataFrame(pd.crosstab(index=geneGuides[x], columns=adata.obs['leiden']).iloc[1,:] )\n",
    "    k['leiden'] = k.index\n",
    "    k['type'] = \"Gene\"\n",
    "    k['Guide_name'] = x\n",
    "    allRes = allRes.append(k)"
   ]
  },
  {
   "cell_type": "code",
   "execution_count": null,
   "metadata": {},
   "outputs": [],
   "source": [
    "allRes"
   ]
  },
  {
   "cell_type": "code",
   "execution_count": null,
   "metadata": {},
   "outputs": [],
   "source": [
    "allRes[\"counts\"] = allRes[1].astype(int)\n",
    "allRes = allRes.reset_index(drop=True)"
   ]
  },
  {
   "cell_type": "code",
   "execution_count": null,
   "metadata": {},
   "outputs": [],
   "source": [
    "%%R -i allRes -w 20 -h 5 -u in\n",
    "\n",
    "library(ggplot2)\n",
    "library(ggpubr)\n",
    "\n",
    "allRes$type = factor(allRes$type, levels=c(\"Gene\", \"Non-Gene\", \"No-Target\"))\n",
    "\n",
    "cList=list(c(\"Gene\", \"Non-Gene\"), c(\"Gene\", \"No-Target\"), c(\"Non-Gene\", \"No-Target\"))\n",
    "\n",
    "#allRes <- allRes[allRes$leiden %in% c(\"3\", \"4\", \"8\"),]\n",
    "\n",
    "k <- ggplot(allRes, aes(type, counts)) +\n",
    "      geom_violin(aes(fill=type), scale='width') +\n",
    "      #geom_boxplot()+\n",
    "      facet_wrap('leiden', ncol=10, scales=\"free_y\") +\n",
    "      theme_bw() +\n",
    "      theme(axis.text.x=element_text(angle=90, size=15), \n",
    "            axis.text=element_text(size=15),\n",
    "            strip.text=element_text(size=15),axis.title=element_text(size=15))+ylab(\"Number of cells\")+xlab(\"\")+  \n",
    "      stat_summary(fun.data=\"mean_sdl\",geom=\"crossbar\", width=0.2, color=\"red\")+\n",
    "      stat_compare_means(method=\"t.test\",paired = FALSE,comparisons = cList,color=\"red\",aes(label = ..p.signif..), method.args = list(alternative = \"less\"))\n",
    "\n",
    "k    \n",
    "#ggsave(\"./figures/Figure_1I_singleGuide.pdf\")"
   ]
  },
  {
   "cell_type": "code",
   "execution_count": null,
   "metadata": {},
   "outputs": [],
   "source": []
  }
 ],
 "metadata": {
  "kernelspec": {
   "display_name": "Python 3 (ipykernel)",
   "language": "python",
   "name": "python3"
  },
  "language_info": {
   "codemirror_mode": {
    "name": "ipython",
    "version": 3
   },
   "file_extension": ".py",
   "mimetype": "text/x-python",
   "name": "python",
   "nbconvert_exporter": "python",
   "pygments_lexer": "ipython3",
   "version": "3.8.13"
  }
 },
 "nbformat": 4,
 "nbformat_minor": 4
}
