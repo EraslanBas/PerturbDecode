{
 "cells": [
  {
   "cell_type": "code",
   "execution_count": 1,
   "metadata": {
    "papermill": {
     "duration": 2.497662,
     "end_time": "2020-02-03T11:16:52.810525",
     "exception": false,
     "start_time": "2020-02-03T11:16:50.312863",
     "status": "completed"
    },
    "tags": []
   },
   "outputs": [
    {
     "name": "stderr",
     "output_type": "stream",
     "text": [
      "/home/beraslan/miniconda3/lib/python3.8/site-packages/statsmodels/compat/pandas.py:65: FutureWarning: pandas.Int64Index is deprecated and will be removed from pandas in a future version. Use pandas.Index with the appropriate dtype instead.\n",
      "  from pandas import Int64Index as NumericIndex\n"
     ]
    }
   ],
   "source": [
    "from libraries import *\n",
    "from parameters import *\n",
    "import statsmodels.api as sm\n",
    "import sklearn.feature_selection\n",
    "import statsmodels.api as sm\n",
    "import sklearn.feature_selection\n",
    "from sklearn.preprocessing import PolynomialFeatures\n",
    "import warnings\n",
    "warnings.filterwarnings('ignore')\n",
    "from statannot import add_stat_annotation\n",
    "from numpy.random import seed\n",
    "from numpy.random import randint\n",
    "import statsmodels.formula.api as smf\n",
    "\n",
    "import statsmodels.api as sm\n",
    "%load_ext rpy2.ipython\n",
    "\n",
    "import sys\n",
    "# setIndex_1=sys.argv[1]\n",
    "# setIndex_2=sys.argv[2]\n"
   ]
  },
  {
   "cell_type": "code",
   "execution_count": 2,
   "metadata": {
    "tags": [
     "parameters"
    ]
   },
   "outputs": [],
   "source": [
    "setIndex_1=0"
   ]
  },
  {
   "cell_type": "code",
   "execution_count": 3,
   "metadata": {},
   "outputs": [],
   "source": [
    "os.getcwd()\n",
    "os.chdir(projectDir)"
   ]
  },
  {
   "cell_type": "code",
   "execution_count": 4,
   "metadata": {},
   "outputs": [
    {
     "name": "stdout",
     "output_type": "stream",
     "text": [
      "10\n"
     ]
    }
   ],
   "source": [
    "setIndex_2= setIndex_1+10\n",
    "print(setIndex_2)"
   ]
  },
  {
   "cell_type": "code",
   "execution_count": 5,
   "metadata": {
    "tags": []
   },
   "outputs": [],
   "source": [
    "adataC = sc.read('outputs/anndata/adata-hash-features_SingleKO_ForSCVI_09072021.h5ad')\n",
    "\n",
    "allGeneNames = pd.read_csv(\"/home/beraslan/jovian-work/analysisSingle/AllExpGeneNames.csv\", index_col=0)\n",
    "\n",
    "# adataC.obs[\"subCellType\"] = \"DC2\"\n",
    "# adataC.obs.loc[adataC.obs.leiden.isin(['3']), \"subCellType\"] = \"MacDC\"\n",
    "# adataC.obs.loc[adataC.obs.leiden.isin(['8']), \"subCellType\"] = \"DC1\"\n",
    "# adataC.obs.loc[adataC.obs.leiden.isin(['5']), \"subCellType\"] = \"MReg\""
   ]
  },
  {
   "cell_type": "code",
   "execution_count": 6,
   "metadata": {},
   "outputs": [],
   "source": [
    "guideModules = pd.read_csv(\"/home/beraslan/jovian-work/analysisSingle/ME_GuideModules_leiden_6_Modules.csv\", index_col=0)\n",
    "guideModules.index = \"GENE_\"+guideModules.GuideName+\"_\"\n",
    "guideModules.GuideName = \"GENE_\"+guideModules.GuideName+\"_\""
   ]
  },
  {
   "cell_type": "code",
   "execution_count": 7,
   "metadata": {},
   "outputs": [
    {
     "data": {
      "text/html": [
       "<div>\n",
       "<style scoped>\n",
       "    .dataframe tbody tr th:only-of-type {\n",
       "        vertical-align: middle;\n",
       "    }\n",
       "\n",
       "    .dataframe tbody tr th {\n",
       "        vertical-align: top;\n",
       "    }\n",
       "\n",
       "    .dataframe thead th {\n",
       "        text-align: right;\n",
       "    }\n",
       "</style>\n",
       "<table border=\"1\" class=\"dataframe\">\n",
       "  <thead>\n",
       "    <tr style=\"text-align: right;\">\n",
       "      <th></th>\n",
       "      <th>GuideName</th>\n",
       "      <th>GuideGroup</th>\n",
       "      <th>GuideColor</th>\n",
       "    </tr>\n",
       "    <tr>\n",
       "      <th>GuideName</th>\n",
       "      <th></th>\n",
       "      <th></th>\n",
       "      <th></th>\n",
       "    </tr>\n",
       "  </thead>\n",
       "  <tbody>\n",
       "    <tr>\n",
       "      <th>GENE_Aamp_</th>\n",
       "      <td>GENE_Aamp_</td>\n",
       "      <td>4</td>\n",
       "      <td>#aa40fc</td>\n",
       "    </tr>\n",
       "    <tr>\n",
       "      <th>GENE_Bop1_</th>\n",
       "      <td>GENE_Bop1_</td>\n",
       "      <td>4</td>\n",
       "      <td>#aa40fc</td>\n",
       "    </tr>\n",
       "    <tr>\n",
       "      <th>GENE_Cirh1a_</th>\n",
       "      <td>GENE_Cirh1a_</td>\n",
       "      <td>4</td>\n",
       "      <td>#aa40fc</td>\n",
       "    </tr>\n",
       "    <tr>\n",
       "      <th>GENE_Dcaf13_</th>\n",
       "      <td>GENE_Dcaf13_</td>\n",
       "      <td>4</td>\n",
       "      <td>#aa40fc</td>\n",
       "    </tr>\n",
       "    <tr>\n",
       "      <th>GENE_Grb2_</th>\n",
       "      <td>GENE_Grb2_</td>\n",
       "      <td>4</td>\n",
       "      <td>#aa40fc</td>\n",
       "    </tr>\n",
       "    <tr>\n",
       "      <th>...</th>\n",
       "      <td>...</td>\n",
       "      <td>...</td>\n",
       "      <td>...</td>\n",
       "    </tr>\n",
       "    <tr>\n",
       "      <th>GENE_Wdr20_</th>\n",
       "      <td>GENE_Wdr20_</td>\n",
       "      <td>2</td>\n",
       "      <td>#279e68</td>\n",
       "    </tr>\n",
       "    <tr>\n",
       "      <th>GENE_Wdr26_</th>\n",
       "      <td>GENE_Wdr26_</td>\n",
       "      <td>2</td>\n",
       "      <td>#279e68</td>\n",
       "    </tr>\n",
       "    <tr>\n",
       "      <th>GENE_Wdr33_</th>\n",
       "      <td>GENE_Wdr33_</td>\n",
       "      <td>2</td>\n",
       "      <td>#279e68</td>\n",
       "    </tr>\n",
       "    <tr>\n",
       "      <th>GENE_Zbtb17_</th>\n",
       "      <td>GENE_Zbtb17_</td>\n",
       "      <td>2</td>\n",
       "      <td>#279e68</td>\n",
       "    </tr>\n",
       "    <tr>\n",
       "      <th>GENE_Zbtb7b_</th>\n",
       "      <td>GENE_Zbtb7b_</td>\n",
       "      <td>2</td>\n",
       "      <td>#279e68</td>\n",
       "    </tr>\n",
       "  </tbody>\n",
       "</table>\n",
       "<p>329 rows × 3 columns</p>\n",
       "</div>"
      ],
      "text/plain": [
       "                 GuideName  GuideGroup GuideColor\n",
       "GuideName                                        \n",
       "GENE_Aamp_      GENE_Aamp_           4    #aa40fc\n",
       "GENE_Bop1_      GENE_Bop1_           4    #aa40fc\n",
       "GENE_Cirh1a_  GENE_Cirh1a_           4    #aa40fc\n",
       "GENE_Dcaf13_  GENE_Dcaf13_           4    #aa40fc\n",
       "GENE_Grb2_      GENE_Grb2_           4    #aa40fc\n",
       "...                    ...         ...        ...\n",
       "GENE_Wdr20_    GENE_Wdr20_           2    #279e68\n",
       "GENE_Wdr26_    GENE_Wdr26_           2    #279e68\n",
       "GENE_Wdr33_    GENE_Wdr33_           2    #279e68\n",
       "GENE_Zbtb17_  GENE_Zbtb17_           2    #279e68\n",
       "GENE_Zbtb7b_  GENE_Zbtb7b_           2    #279e68\n",
       "\n",
       "[329 rows x 3 columns]"
      ]
     },
     "execution_count": 7,
     "metadata": {},
     "output_type": "execute_result"
    }
   ],
   "source": [
    "guideModules"
   ]
  },
  {
   "cell_type": "code",
   "execution_count": null,
   "metadata": {},
   "outputs": [],
   "source": [
    "covariates = guideModules.GuideName\n",
    "covariates = covariates[covariates != \"GENE_CONTROL_\"]"
   ]
  },
  {
   "cell_type": "code",
   "execution_count": null,
   "metadata": {},
   "outputs": [],
   "source": [
    "guideMatrix = adataC.obs[covariates]\n",
    "guideMatrix.shape\n",
    "guideMatrix.rename(columns = {'GENE_Rnf8-cmtr1_':'GENE_Rnf8cmtr1_'}, inplace = True) \n",
    "guideMatrix.rename(columns = {'GENE_Siah1-ps1_':'GENE_Siah1ps1_'}, inplace = True) \n",
    "guideMatrix.rename(columns = {'GENE_Siah1-ps2_':'GENE_Siah1ps2_'}, inplace = True) \n",
    "\n",
    "KOGenes = pd.Series(guideMatrix.columns)"
   ]
  },
  {
   "cell_type": "code",
   "execution_count": null,
   "metadata": {
    "tags": []
   },
   "outputs": [],
   "source": [
    "## Add covariates that should be corrected for\n",
    "df = adataC.obs[[\"n_genes\", \"mt_frac\", \"leiden\" ]]\n",
    "\n",
    "guideMatrix = guideMatrix.join(df)\n",
    "guideMatrix.shape"
   ]
  },
  {
   "cell_type": "code",
   "execution_count": null,
   "metadata": {},
   "outputs": [],
   "source": [
    "expressionMatrix = pd.DataFrame(adataC.raw.X.A)\n",
    "expressionMatrix.columns = allGeneNames.iloc[:,0]\n",
    "expressionMatrix = expressionMatrix[adataC.var_names]\n",
    "expressionMatrix.index = adataC.obs.index"
   ]
  },
  {
   "cell_type": "code",
   "execution_count": null,
   "metadata": {},
   "outputs": [],
   "source": [
    "selColumns = pd.Series(KOGenes[setIndex_1:setIndex_2]).append(pd.Series([\"n_genes\", \"mt_frac\", \"leiden\"]))"
   ]
  },
  {
   "cell_type": "code",
   "execution_count": null,
   "metadata": {},
   "outputs": [],
   "source": [
    "controlExpressionMat = expressionMatrix.loc[adataC.obs[\"GENE_CONTROL_\"] == 1,]\n",
    "controlGuideMat = guideMatrix.loc[adataC.obs[\"GENE_CONTROL_\"] == 1,]\n",
    "controlExpressionMat = controlExpressionMat.iloc[0:5000,:]\n",
    "controlGuideMat = controlGuideMat.iloc[0:5000,:]\n",
    "controlGuideMat=controlGuideMat[selColumns]"
   ]
  },
  {
   "cell_type": "code",
   "execution_count": null,
   "metadata": {},
   "outputs": [],
   "source": [
    "controlGuideMat"
   ]
  },
  {
   "cell_type": "code",
   "execution_count": null,
   "metadata": {},
   "outputs": [],
   "source": [
    "geneExpressionMat = expressionMatrix.loc[adataC.obs[covariates[setIndex_1:setIndex_2]].sum(axis=1) > 0,]\n",
    "geneGuideMat = guideMatrix.loc[adataC.obs[covariates[setIndex_1:setIndex_2]].sum(axis=1) > 0,]\n",
    "geneGuideMat=geneGuideMat[selColumns]"
   ]
  },
  {
   "cell_type": "code",
   "execution_count": null,
   "metadata": {},
   "outputs": [],
   "source": [
    "allExpMat = np.concatenate((controlExpressionMat, geneExpressionMat))\n",
    "allGuideMat = controlGuideMat.append(geneGuideMat)"
   ]
  },
  {
   "cell_type": "code",
   "execution_count": null,
   "metadata": {},
   "outputs": [],
   "source": [
    "allGuideMat.shape"
   ]
  },
  {
   "cell_type": "code",
   "execution_count": null,
   "metadata": {},
   "outputs": [],
   "source": [
    "controlGuideMat.shape"
   ]
  },
  {
   "cell_type": "code",
   "execution_count": null,
   "metadata": {},
   "outputs": [],
   "source": [
    "geneGuideMat.shape"
   ]
  },
  {
   "cell_type": "code",
   "execution_count": null,
   "metadata": {
    "tags": []
   },
   "outputs": [],
   "source": [
    "allVars = pd.Series(KOGenes[setIndex_1:setIndex_2]) \n",
    "allVarsInteract = KOGenes[setIndex_1:setIndex_2] + \"*leiden\"\n",
    "\n",
    "myForm = allVars.append(allVarsInteract)\n",
    "myForm = myForm.append(pd.Series([\"n_genes\",\"mt_frac\",\"leiden\"]))\n",
    "\n",
    "myFormula = \"+\".join(myForm)\n",
    "my_formula = \"y~\" + myFormula"
   ]
  },
  {
   "cell_type": "code",
   "execution_count": null,
   "metadata": {},
   "outputs": [],
   "source": [
    "allResp=adataC.var_names\n",
    "allResp"
   ]
  },
  {
   "cell_type": "code",
   "execution_count": null,
   "metadata": {},
   "outputs": [],
   "source": [
    "del adataC\n",
    "del expressionMatrix"
   ]
  },
  {
   "cell_type": "code",
   "execution_count": null,
   "metadata": {},
   "outputs": [],
   "source": [
    "%%R -i allGuideMat,allExpMat,my_formula,allResp,setIndex_1,setIndex_2  -w 8 -h 4 -u in\n",
    "library(\"MASS\")\n",
    "library(\"broom\")\n",
    "\n",
    "for(i in seq(1,ncol(allExpMat),20)){\n",
    "    print(i)\n",
    "    \n",
    "    coefDF = data.frame()\n",
    "    for(j in seq(i,i+20,1)){\n",
    "       \n",
    "        \n",
    "      tryCatch(\n",
    "            expr = {\n",
    "                   allGuideMat[\"y\"] = allExpMat[,j]\n",
    "                   myFit <- glm.nb(formula(my_formula), data = allGuideMat)\n",
    "                   myDF <- data.frame(tidy(myFit))\n",
    "                   myDF$respGene = allResp[j] \n",
    "                   coefDF <- rbind(coefDF, myDF)\n",
    "            },\n",
    "            error = function(e){ \n",
    "                print(e)\n",
    "            },\n",
    "            finally = {\n",
    "                # (Optional)\n",
    "                # Do this at the end before quitting the tryCatch structure...\n",
    "            }\n",
    "      )\n",
    "     \n",
    "    }\n",
    "    \n",
    "     saveRDS(coefDF, paste0(\"./ClusterInteractions/coefs_\",setIndex_1,\"_\",setIndex_2,\"_\", i, \"_\",i+20,\".rds\"))\n",
    "    \n",
    "\n",
    "}"
   ]
  },
  {
   "cell_type": "code",
   "execution_count": null,
   "metadata": {},
   "outputs": [],
   "source": [
    "%%R  -w 8 -h 4 -u in\n",
    "\n",
    "readRDS(\"./ClusterInteractions/\")"
   ]
  }
 ],
 "metadata": {
  "kernelspec": {
   "display_name": "Python 3 (ipykernel)",
   "language": "python",
   "name": "python3"
  },
  "language_info": {
   "codemirror_mode": {
    "name": "ipython",
    "version": 3
   },
   "file_extension": ".py",
   "mimetype": "text/x-python",
   "name": "python",
   "nbconvert_exporter": "python",
   "pygments_lexer": "ipython3",
   "version": "3.8.13"
  }
 },
 "nbformat": 4,
 "nbformat_minor": 4
}
