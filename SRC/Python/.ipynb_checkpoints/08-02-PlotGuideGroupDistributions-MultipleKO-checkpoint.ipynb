{
 "cells": [
  {
   "cell_type": "code",
   "execution_count": 1,
   "metadata": {
    "papermill": {
     "duration": 2.497662,
     "end_time": "2020-02-03T11:16:52.810525",
     "exception": false,
     "start_time": "2020-02-03T11:16:50.312863",
     "status": "completed"
    },
    "tags": []
   },
   "outputs": [],
   "source": [
    "from libraries import *\n",
    "from parameters import *\n",
    "from sklearn.cross_decomposition import PLSCanonical, PLSRegression, CCA\n",
    "from sklearn.model_selection import cross_val_score\n",
    "from numpy import asarray\n",
    "from numpy import savetxt\n",
    "\n",
    "import scvi\n",
    "\n",
    "%matplotlib inline"
   ]
  },
  {
   "cell_type": "code",
   "execution_count": 2,
   "metadata": {},
   "outputs": [],
   "source": [
    "os.getcwd()\n",
    "os.chdir(projectDir)"
   ]
  },
  {
   "cell_type": "code",
   "execution_count": 3,
   "metadata": {},
   "outputs": [],
   "source": [
    "adata = sc.read('outputs/anndata/adata-hash-features_ALLKO_ForSCVI_12222020.h5ad')\n"
   ]
  },
  {
   "cell_type": "code",
   "execution_count": 33,
   "metadata": {},
   "outputs": [],
   "source": [
    "fBarMat_grouped = adata.obs[[\"G_1\",\"G_2\", \"G_3\", \"G_4\", \"G_5\", \"G_6\", \"G_7\" ,\"G_CONTROL\"]]"
   ]
  },
  {
   "cell_type": "code",
   "execution_count": 34,
   "metadata": {},
   "outputs": [
    {
     "data": {
      "text/html": [
       "<div>\n",
       "<style scoped>\n",
       "    .dataframe tbody tr th:only-of-type {\n",
       "        vertical-align: middle;\n",
       "    }\n",
       "\n",
       "    .dataframe tbody tr th {\n",
       "        vertical-align: top;\n",
       "    }\n",
       "\n",
       "    .dataframe thead th {\n",
       "        text-align: right;\n",
       "    }\n",
       "</style>\n",
       "<table border=\"1\" class=\"dataframe\">\n",
       "  <thead>\n",
       "    <tr style=\"text-align: right;\">\n",
       "      <th></th>\n",
       "      <th>G_1</th>\n",
       "      <th>G_2</th>\n",
       "      <th>G_3</th>\n",
       "      <th>G_4</th>\n",
       "      <th>G_5</th>\n",
       "      <th>G_6</th>\n",
       "      <th>G_7</th>\n",
       "      <th>G_CONTROL</th>\n",
       "    </tr>\n",
       "  </thead>\n",
       "  <tbody>\n",
       "    <tr>\n",
       "      <th>AAACGAAAGCAGTCTT-1-E3-1-0</th>\n",
       "      <td>0</td>\n",
       "      <td>0</td>\n",
       "      <td>1</td>\n",
       "      <td>0</td>\n",
       "      <td>0</td>\n",
       "      <td>0</td>\n",
       "      <td>0</td>\n",
       "      <td>0</td>\n",
       "    </tr>\n",
       "    <tr>\n",
       "      <th>AAACGAATCTCAACCC-1-E3-1-0</th>\n",
       "      <td>0</td>\n",
       "      <td>1</td>\n",
       "      <td>0</td>\n",
       "      <td>0</td>\n",
       "      <td>0</td>\n",
       "      <td>0</td>\n",
       "      <td>0</td>\n",
       "      <td>0</td>\n",
       "    </tr>\n",
       "    <tr>\n",
       "      <th>AAACGCTAGTTGTAGA-1-E3-1-0</th>\n",
       "      <td>0</td>\n",
       "      <td>0</td>\n",
       "      <td>0</td>\n",
       "      <td>0</td>\n",
       "      <td>0</td>\n",
       "      <td>0</td>\n",
       "      <td>0</td>\n",
       "      <td>1</td>\n",
       "    </tr>\n",
       "    <tr>\n",
       "      <th>AAACGCTCAAAGACGC-1-E3-1-0</th>\n",
       "      <td>1</td>\n",
       "      <td>0</td>\n",
       "      <td>0</td>\n",
       "      <td>0</td>\n",
       "      <td>0</td>\n",
       "      <td>0</td>\n",
       "      <td>0</td>\n",
       "      <td>0</td>\n",
       "    </tr>\n",
       "    <tr>\n",
       "      <th>AAACGCTCAGTGTACT-1-E3-1-0</th>\n",
       "      <td>0</td>\n",
       "      <td>0</td>\n",
       "      <td>0</td>\n",
       "      <td>0</td>\n",
       "      <td>1</td>\n",
       "      <td>0</td>\n",
       "      <td>0</td>\n",
       "      <td>0</td>\n",
       "    </tr>\n",
       "    <tr>\n",
       "      <th>...</th>\n",
       "      <td>...</td>\n",
       "      <td>...</td>\n",
       "      <td>...</td>\n",
       "      <td>...</td>\n",
       "      <td>...</td>\n",
       "      <td>...</td>\n",
       "      <td>...</td>\n",
       "      <td>...</td>\n",
       "    </tr>\n",
       "    <tr>\n",
       "      <th>TTGTGGATCTATTTCG-1-E4-24-1</th>\n",
       "      <td>0</td>\n",
       "      <td>0</td>\n",
       "      <td>0</td>\n",
       "      <td>1</td>\n",
       "      <td>1</td>\n",
       "      <td>0</td>\n",
       "      <td>0</td>\n",
       "      <td>0</td>\n",
       "    </tr>\n",
       "    <tr>\n",
       "      <th>TTGTGTTCAGGCGATA-1-E4-24-1</th>\n",
       "      <td>0</td>\n",
       "      <td>1</td>\n",
       "      <td>0</td>\n",
       "      <td>0</td>\n",
       "      <td>0</td>\n",
       "      <td>1</td>\n",
       "      <td>0</td>\n",
       "      <td>0</td>\n",
       "    </tr>\n",
       "    <tr>\n",
       "      <th>TTGTTCAGTCCGGATC-1-E4-24-1</th>\n",
       "      <td>0</td>\n",
       "      <td>0</td>\n",
       "      <td>0</td>\n",
       "      <td>0</td>\n",
       "      <td>0</td>\n",
       "      <td>1</td>\n",
       "      <td>1</td>\n",
       "      <td>0</td>\n",
       "    </tr>\n",
       "    <tr>\n",
       "      <th>TTTCAGTTCTATCGGA-1-E4-24-1</th>\n",
       "      <td>0</td>\n",
       "      <td>0</td>\n",
       "      <td>1</td>\n",
       "      <td>0</td>\n",
       "      <td>0</td>\n",
       "      <td>0</td>\n",
       "      <td>1</td>\n",
       "      <td>0</td>\n",
       "    </tr>\n",
       "    <tr>\n",
       "      <th>TTTGACTCAGATCCAT-1-E4-24-1</th>\n",
       "      <td>1</td>\n",
       "      <td>0</td>\n",
       "      <td>0</td>\n",
       "      <td>0</td>\n",
       "      <td>0</td>\n",
       "      <td>0</td>\n",
       "      <td>0</td>\n",
       "      <td>0</td>\n",
       "    </tr>\n",
       "  </tbody>\n",
       "</table>\n",
       "<p>131361 rows × 8 columns</p>\n",
       "</div>"
      ],
      "text/plain": [
       "                            G_1  G_2  G_3  G_4  G_5  G_6  G_7  G_CONTROL\n",
       "AAACGAAAGCAGTCTT-1-E3-1-0     0    0    1    0    0    0    0          0\n",
       "AAACGAATCTCAACCC-1-E3-1-0     0    1    0    0    0    0    0          0\n",
       "AAACGCTAGTTGTAGA-1-E3-1-0     0    0    0    0    0    0    0          1\n",
       "AAACGCTCAAAGACGC-1-E3-1-0     1    0    0    0    0    0    0          0\n",
       "AAACGCTCAGTGTACT-1-E3-1-0     0    0    0    0    1    0    0          0\n",
       "...                         ...  ...  ...  ...  ...  ...  ...        ...\n",
       "TTGTGGATCTATTTCG-1-E4-24-1    0    0    0    1    1    0    0          0\n",
       "TTGTGTTCAGGCGATA-1-E4-24-1    0    1    0    0    0    1    0          0\n",
       "TTGTTCAGTCCGGATC-1-E4-24-1    0    0    0    0    0    1    1          0\n",
       "TTTCAGTTCTATCGGA-1-E4-24-1    0    0    1    0    0    0    1          0\n",
       "TTTGACTCAGATCCAT-1-E4-24-1    1    0    0    0    0    0    0          0\n",
       "\n",
       "[131361 rows x 8 columns]"
      ]
     },
     "execution_count": 34,
     "metadata": {},
     "output_type": "execute_result"
    }
   ],
   "source": [
    "fBarMat_grouped"
   ]
  },
  {
   "cell_type": "code",
   "execution_count": 12,
   "metadata": {},
   "outputs": [
    {
     "data": {
      "text/plain": [
       "Index(['G_1', 'G_2', 'G_3', 'G_4', 'G_5', 'G_6', 'G_7'], dtype='object')"
      ]
     },
     "execution_count": 12,
     "metadata": {},
     "output_type": "execute_result"
    }
   ],
   "source": [
    "fBarMat_grouped.columns[0:7]"
   ]
  },
  {
   "cell_type": "code",
   "execution_count": 13,
   "metadata": {},
   "outputs": [],
   "source": [
    "fBarMat_groupedSingle = fBarMat_grouped[fBarMat_grouped.columns[0:7]].apply(lambda x: ''.join(x.dropna().astype(str)),axis=1)\n"
   ]
  },
  {
   "cell_type": "code",
   "execution_count": 26,
   "metadata": {},
   "outputs": [
    {
     "data": {
      "text/plain": [
       "array(['0010000', '0100000', '0000000', ..., '0000011', '0010001',\n",
       "       '1000000'], dtype=object)"
      ]
     },
     "execution_count": 26,
     "metadata": {},
     "output_type": "execute_result"
    }
   ],
   "source": [
    "fBarMat_groupedSingle.values"
   ]
  },
  {
   "cell_type": "code",
   "execution_count": 35,
   "metadata": {},
   "outputs": [],
   "source": [
    "adata.obs['fBarMat_groupedSingle'] = fBarMat_groupedSingle.values"
   ]
  },
  {
   "cell_type": "code",
   "execution_count": 36,
   "metadata": {},
   "outputs": [
    {
     "data": {
      "text/plain": [
       "AAACGAAAGCAGTCTT-1-E3-1-0     0010000\n",
       "AAACGAATCTCAACCC-1-E3-1-0     0100000\n",
       "AAACGCTAGTTGTAGA-1-E3-1-0     0000000\n",
       "AAACGCTCAAAGACGC-1-E3-1-0     1000000\n",
       "AAACGCTCAGTGTACT-1-E3-1-0     0000100\n",
       "                               ...   \n",
       "TTGTGGATCTATTTCG-1-E4-24-1    0001100\n",
       "TTGTGTTCAGGCGATA-1-E4-24-1    0100010\n",
       "TTGTTCAGTCCGGATC-1-E4-24-1    0000011\n",
       "TTTCAGTTCTATCGGA-1-E4-24-1    0010001\n",
       "TTTGACTCAGATCCAT-1-E4-24-1    1000000\n",
       "Name: fBarMat_groupedSingle, Length: 131361, dtype: object"
      ]
     },
     "execution_count": 36,
     "metadata": {},
     "output_type": "execute_result"
    }
   ],
   "source": [
    "adata.obs['fBarMat_groupedSingle']"
   ]
  },
  {
   "cell_type": "code",
   "execution_count": 37,
   "metadata": {},
   "outputs": [],
   "source": [
    "from sklearn.preprocessing import LabelEncoder\n",
    "label_encoder = LabelEncoder()\n",
    "fBarMat_encodedDF = pd.Series(label_encoder.fit_transform(fBarMat_groupedSingle))\n"
   ]
  },
  {
   "cell_type": "code",
   "execution_count": 39,
   "metadata": {},
   "outputs": [
    {
     "data": {
      "text/html": [
       "<div>\n",
       "<style scoped>\n",
       "    .dataframe tbody tr th:only-of-type {\n",
       "        vertical-align: middle;\n",
       "    }\n",
       "\n",
       "    .dataframe tbody tr th {\n",
       "        vertical-align: top;\n",
       "    }\n",
       "\n",
       "    .dataframe thead th {\n",
       "        text-align: right;\n",
       "    }\n",
       "</style>\n",
       "<table border=\"1\" class=\"dataframe\">\n",
       "  <thead>\n",
       "    <tr style=\"text-align: right;\">\n",
       "      <th></th>\n",
       "      <th>fBarMat_groupedSingle</th>\n",
       "      <th>fBarMat_encodedDF</th>\n",
       "    </tr>\n",
       "  </thead>\n",
       "  <tbody>\n",
       "    <tr>\n",
       "      <th>0</th>\n",
       "      <td>0010000</td>\n",
       "      <td>14</td>\n",
       "    </tr>\n",
       "    <tr>\n",
       "      <th>1</th>\n",
       "      <td>0100000</td>\n",
       "      <td>24</td>\n",
       "    </tr>\n",
       "    <tr>\n",
       "      <th>2</th>\n",
       "      <td>0000000</td>\n",
       "      <td>0</td>\n",
       "    </tr>\n",
       "    <tr>\n",
       "      <th>3</th>\n",
       "      <td>1000000</td>\n",
       "      <td>40</td>\n",
       "    </tr>\n",
       "    <tr>\n",
       "      <th>4</th>\n",
       "      <td>0000100</td>\n",
       "      <td>4</td>\n",
       "    </tr>\n",
       "    <tr>\n",
       "      <th>...</th>\n",
       "      <td>...</td>\n",
       "      <td>...</td>\n",
       "    </tr>\n",
       "    <tr>\n",
       "      <th>124027</th>\n",
       "      <td>0011010</td>\n",
       "      <td>22</td>\n",
       "    </tr>\n",
       "    <tr>\n",
       "      <th>124092</th>\n",
       "      <td>1001100</td>\n",
       "      <td>50</td>\n",
       "    </tr>\n",
       "    <tr>\n",
       "      <th>124717</th>\n",
       "      <td>1000011</td>\n",
       "      <td>43</td>\n",
       "    </tr>\n",
       "    <tr>\n",
       "      <th>125533</th>\n",
       "      <td>0101010</td>\n",
       "      <td>33</td>\n",
       "    </tr>\n",
       "    <tr>\n",
       "      <th>126805</th>\n",
       "      <td>0000111</td>\n",
       "      <td>7</td>\n",
       "    </tr>\n",
       "  </tbody>\n",
       "</table>\n",
       "<p>62 rows × 2 columns</p>\n",
       "</div>"
      ],
      "text/plain": [
       "       fBarMat_groupedSingle  fBarMat_encodedDF\n",
       "0                    0010000                 14\n",
       "1                    0100000                 24\n",
       "2                    0000000                  0\n",
       "3                    1000000                 40\n",
       "4                    0000100                  4\n",
       "...                      ...                ...\n",
       "124027               0011010                 22\n",
       "124092               1001100                 50\n",
       "124717               1000011                 43\n",
       "125533               0101010                 33\n",
       "126805               0000111                  7\n",
       "\n",
       "[62 rows x 2 columns]"
      ]
     },
     "execution_count": 39,
     "metadata": {},
     "output_type": "execute_result"
    }
   ],
   "source": [
    "tp = pd.DataFrame(data={\"fBarMat_groupedSingle\" :fBarMat_groupedSingle.values,\n",
    "             \"fBarMat_encodedDF\" : fBarMat_encodedDF.values})\n",
    "tp = tp.drop_duplicates()\n",
    "tp"
   ]
  },
  {
   "cell_type": "code",
   "execution_count": null,
   "metadata": {},
   "outputs": [],
   "source": [
    "for i in range(1,8):\n",
    "    adata.obs[f'G_{i}'] = adata.obs[f'G_{i}'].astype(str)"
   ]
  },
  {
   "cell_type": "code",
   "execution_count": null,
   "metadata": {},
   "outputs": [],
   "source": [
    "adata.obs[f'G_CONTROL'] = adata.obs[f'G_CONTROL'].astype(str)"
   ]
  },
  {
   "cell_type": "code",
   "execution_count": null,
   "metadata": {},
   "outputs": [],
   "source": [
    "zs = [\"G_1\",\"G_2\", \"G_3\", \"G_4\", \"G_5\", \"G_6\", \"G_7\" ,\"G_CONTROL\"]\n",
    "sc.pl.umap(adata, color=zs, ncols=4, palette=[\"grey\", \"red\"], groups=\"1\")"
   ]
  },
  {
   "cell_type": "code",
   "execution_count": null,
   "metadata": {},
   "outputs": [],
   "source": []
  },
  {
   "cell_type": "code",
   "execution_count": 40,
   "metadata": {},
   "outputs": [
    {
     "name": "stderr",
     "output_type": "stream",
     "text": [
      "... storing 'fBarMat_groupedSingle' as categorical\n"
     ]
    },
    {
     "name": "stdout",
     "output_type": "stream",
     "text": [
      "computing density on 'umap'\n"
     ]
    },
    {
     "ename": "ValueError",
     "evalue": "More than 10 categories in 'fBarMat_groupedSingle' column.",
     "output_type": "error",
     "traceback": [
      "\u001b[0;31m---------------------------------------------------------------------------\u001b[0m",
      "\u001b[0;31mValueError\u001b[0m                                Traceback (most recent call last)",
      "\u001b[0;32m<ipython-input-40-88cae1751f7a>\u001b[0m in \u001b[0;36m<module>\u001b[0;34m\u001b[0m\n\u001b[0;32m----> 1\u001b[0;31m \u001b[0msc\u001b[0m\u001b[0;34m.\u001b[0m\u001b[0mtl\u001b[0m\u001b[0;34m.\u001b[0m\u001b[0membedding_density\u001b[0m\u001b[0;34m(\u001b[0m\u001b[0madata\u001b[0m\u001b[0;34m,\u001b[0m \u001b[0mgroupby\u001b[0m\u001b[0;34m=\u001b[0m\u001b[0;34m\"fBarMat_groupedSingle\"\u001b[0m\u001b[0;34m)\u001b[0m\u001b[0;34m\u001b[0m\u001b[0;34m\u001b[0m\u001b[0m\n\u001b[0m",
      "\u001b[0;32m~/anaconda3/lib/python3.7/site-packages/scanpy/tools/_embedding_density.py\u001b[0m in \u001b[0;36membedding_density\u001b[0;34m(adata, basis, groupby, key_added, components)\u001b[0m\n\u001b[1;32m    130\u001b[0m \u001b[0;34m\u001b[0m\u001b[0m\n\u001b[1;32m    131\u001b[0m         \u001b[0;32mif\u001b[0m \u001b[0mlen\u001b[0m\u001b[0;34m(\u001b[0m\u001b[0madata\u001b[0m\u001b[0;34m.\u001b[0m\u001b[0mobs\u001b[0m\u001b[0;34m[\u001b[0m\u001b[0mgroupby\u001b[0m\u001b[0;34m]\u001b[0m\u001b[0;34m.\u001b[0m\u001b[0mcat\u001b[0m\u001b[0;34m.\u001b[0m\u001b[0mcategories\u001b[0m\u001b[0;34m)\u001b[0m \u001b[0;34m>\u001b[0m \u001b[0;36m10\u001b[0m\u001b[0;34m:\u001b[0m\u001b[0;34m\u001b[0m\u001b[0;34m\u001b[0m\u001b[0m\n\u001b[0;32m--> 132\u001b[0;31m             \u001b[0;32mraise\u001b[0m \u001b[0mValueError\u001b[0m\u001b[0;34m(\u001b[0m\u001b[0;34mf'More than 10 categories in {groupby!r} column.'\u001b[0m\u001b[0;34m)\u001b[0m\u001b[0;34m\u001b[0m\u001b[0;34m\u001b[0m\u001b[0m\n\u001b[0m\u001b[1;32m    133\u001b[0m \u001b[0;34m\u001b[0m\u001b[0m\n\u001b[1;32m    134\u001b[0m     \u001b[0;31m# Define new covariate name\u001b[0m\u001b[0;34m\u001b[0m\u001b[0;34m\u001b[0m\u001b[0;34m\u001b[0m\u001b[0m\n",
      "\u001b[0;31mValueError\u001b[0m: More than 10 categories in 'fBarMat_groupedSingle' column."
     ]
    }
   ],
   "source": [
    "sc.tl.embedding_density(adata, groupby=\"fBarMat_groupedSingle\")"
   ]
  },
  {
   "cell_type": "code",
   "execution_count": null,
   "metadata": {},
   "outputs": [],
   "source": [
    "sc.pl.embedding_density(adata, key=\"umap_density_G_1\", group=\"1\", color_map=\"nipy_spectral\",title=\"G_1\")"
   ]
  },
  {
   "cell_type": "code",
   "execution_count": null,
   "metadata": {},
   "outputs": [],
   "source": [
    "sc.pl.embedding_density(adata, key=\"umap_density_G_2\", group=\"1\", color_map=\"nipy_spectral\", title=\"G_2\")"
   ]
  },
  {
   "cell_type": "code",
   "execution_count": null,
   "metadata": {},
   "outputs": [],
   "source": [
    "sc.pl.embedding_density(adata, key=\"umap_density_G_3\", group=\"1\", color_map=\"nipy_spectral\", title=\"G_3\")"
   ]
  },
  {
   "cell_type": "code",
   "execution_count": null,
   "metadata": {},
   "outputs": [],
   "source": [
    "sc.pl.embedding_density(adata, key=\"umap_density_G_4\", group=\"1\", color_map=\"nipy_spectral\", title=\"G_4\")"
   ]
  },
  {
   "cell_type": "code",
   "execution_count": null,
   "metadata": {},
   "outputs": [],
   "source": [
    "sc.pl.embedding_density(adata, key=\"umap_density_G_5\", group=\"1\", color_map=\"nipy_spectral\", title=\"G_5\")"
   ]
  },
  {
   "cell_type": "code",
   "execution_count": null,
   "metadata": {},
   "outputs": [],
   "source": [
    "sc.pl.embedding_density(adata, key=\"umap_density_G_6\", group=\"1\", color_map=\"nipy_spectral\", title=\"G_6\")"
   ]
  },
  {
   "cell_type": "code",
   "execution_count": null,
   "metadata": {},
   "outputs": [],
   "source": [
    "sc.pl.embedding_density(adata, key=\"umap_density_G_7\", group=\"1\", color_map=\"nipy_spectral\", title=\"G_7\")"
   ]
  },
  {
   "cell_type": "code",
   "execution_count": null,
   "metadata": {},
   "outputs": [],
   "source": [
    "sc.pl.embedding_density(adata, key=\"umap_density_G_CONTROL\", group=\"1\", color_map=\"nipy_spectral\", title=\"G_CONTROL\")"
   ]
  },
  {
   "cell_type": "code",
   "execution_count": null,
   "metadata": {},
   "outputs": [],
   "source": [
    "adataSubType0 = adata[adata.obs['SubCellType_0'] == 1,]"
   ]
  },
  {
   "cell_type": "code",
   "execution_count": null,
   "metadata": {},
   "outputs": [],
   "source": [
    "adataSubType0.X.shape"
   ]
  },
  {
   "cell_type": "code",
   "execution_count": null,
   "metadata": {},
   "outputs": [],
   "source": [
    "sc.tl.embedding_density(adataSubType0, groupby=\"G_1\")\n",
    "sc.tl.embedding_density(adataSubType0, groupby=\"G_2\")\n",
    "sc.tl.embedding_density(adataSubType0, groupby=\"G_3\")\n",
    "sc.tl.embedding_density(adataSubType0, groupby=\"G_4\")\n",
    "sc.tl.embedding_density(adataSubType0, groupby=\"G_5\")\n",
    "sc.tl.embedding_density(adataSubType0, groupby=\"G_6\")\n",
    "sc.tl.embedding_density(adataSubType0, groupby=\"G_7\")\n",
    "sc.tl.embedding_density(adataSubType0, groupby=\"G_CONTROL\")\n"
   ]
  },
  {
   "cell_type": "code",
   "execution_count": null,
   "metadata": {},
   "outputs": [],
   "source": [
    "sc.pl.embedding_density(adataSubType0, key=\"umap_density_G_1\", group=\"1\", color_map=\"nipy_spectral\",title=\"G_1\")"
   ]
  },
  {
   "cell_type": "code",
   "execution_count": null,
   "metadata": {},
   "outputs": [],
   "source": [
    "sc.pl.embedding_density(adataSubType0, key=\"umap_density_G_2\", group=\"1\", color_map=\"nipy_spectral\",title=\"G_2\")"
   ]
  },
  {
   "cell_type": "code",
   "execution_count": null,
   "metadata": {},
   "outputs": [],
   "source": [
    "sc.pl.embedding_density(adataSubType0, key=\"umap_density_G_3\", group=\"1\", color_map=\"nipy_spectral\",title=\"G_3\")"
   ]
  },
  {
   "cell_type": "code",
   "execution_count": null,
   "metadata": {},
   "outputs": [],
   "source": [
    "sc.pl.embedding_density(adataSubType0, key=\"umap_density_G_4\", group=\"1\", color_map=\"nipy_spectral\",title=\"G_4\")"
   ]
  },
  {
   "cell_type": "code",
   "execution_count": null,
   "metadata": {},
   "outputs": [],
   "source": [
    "sc.pl.embedding_density(adataSubType0, key=\"umap_density_G_5\", group=\"1\", color_map=\"nipy_spectral\",title=\"G_5\")"
   ]
  },
  {
   "cell_type": "code",
   "execution_count": null,
   "metadata": {},
   "outputs": [],
   "source": [
    "sc.pl.embedding_density(adataSubType0, key=\"umap_density_G_6\", group=\"1\", color_map=\"nipy_spectral\",title=\"G_6\")"
   ]
  },
  {
   "cell_type": "code",
   "execution_count": null,
   "metadata": {},
   "outputs": [],
   "source": [
    "sc.pl.embedding_density(adataSubType0, key=\"umap_density_G_7\", group=\"1\", color_map=\"nipy_spectral\",title=\"G_7\")"
   ]
  },
  {
   "cell_type": "code",
   "execution_count": null,
   "metadata": {},
   "outputs": [],
   "source": [
    "sc.pl.embedding_density(adataSubType0, key=\"umap_density_G_CONTROL\", group=\"1\", color_map=\"nipy_spectral\",title=\"G_CONTROL\")"
   ]
  },
  {
   "cell_type": "code",
   "execution_count": null,
   "metadata": {},
   "outputs": [],
   "source": [
    "adataSubType1 = adata[adata.obs['SubCellType_1'] == 1,]"
   ]
  },
  {
   "cell_type": "code",
   "execution_count": null,
   "metadata": {},
   "outputs": [],
   "source": [
    "sc.tl.embedding_density(adataSubType1, groupby=\"G_1\")\n",
    "sc.tl.embedding_density(adataSubType1, groupby=\"G_2\")\n",
    "sc.tl.embedding_density(adataSubType1, groupby=\"G_3\")\n",
    "sc.tl.embedding_density(adataSubType1, groupby=\"G_4\")\n",
    "sc.tl.embedding_density(adataSubType1, groupby=\"G_5\")\n",
    "sc.tl.embedding_density(adataSubType1, groupby=\"G_6\")\n",
    "sc.tl.embedding_density(adataSubType1, groupby=\"G_7\")\n",
    "sc.tl.embedding_density(adataSubType1, groupby=\"G_CONTROL\")\n"
   ]
  },
  {
   "cell_type": "code",
   "execution_count": null,
   "metadata": {},
   "outputs": [],
   "source": [
    "sc.pl.embedding_density(adataSubType1, key=\"umap_density_G_1\", group=\"1\", color_map=\"nipy_spectral\",title=\"G_1\")"
   ]
  },
  {
   "cell_type": "code",
   "execution_count": null,
   "metadata": {},
   "outputs": [],
   "source": [
    "sc.pl.embedding_density(adataSubType1, key=\"umap_density_G_2\", group=\"1\", color_map=\"nipy_spectral\",title=\"G_2\")"
   ]
  },
  {
   "cell_type": "code",
   "execution_count": null,
   "metadata": {},
   "outputs": [],
   "source": [
    "sc.pl.embedding_density(adataSubType1, key=\"umap_density_G_3\", group=\"1\", color_map=\"nipy_spectral\",title=\"G_3\")"
   ]
  },
  {
   "cell_type": "code",
   "execution_count": null,
   "metadata": {},
   "outputs": [],
   "source": [
    "sc.pl.embedding_density(adataSubType1, key=\"umap_density_G_4\", group=\"1\", color_map=\"nipy_spectral\",title=\"G_4\")"
   ]
  },
  {
   "cell_type": "code",
   "execution_count": null,
   "metadata": {},
   "outputs": [],
   "source": [
    "sc.pl.embedding_density(adataSubType1, key=\"umap_density_G_5\", group=\"1\", color_map=\"nipy_spectral\",title=\"G_5\")"
   ]
  },
  {
   "cell_type": "code",
   "execution_count": null,
   "metadata": {},
   "outputs": [],
   "source": [
    "sc.pl.embedding_density(adataSubType1, key=\"umap_density_G_6\", group=\"1\", color_map=\"nipy_spectral\",title=\"G_6\")"
   ]
  },
  {
   "cell_type": "code",
   "execution_count": null,
   "metadata": {},
   "outputs": [],
   "source": [
    "sc.pl.embedding_density(adataSubType1, key=\"umap_density_G_7\", group=\"1\", color_map=\"nipy_spectral\",title=\"G_7\")"
   ]
  },
  {
   "cell_type": "code",
   "execution_count": null,
   "metadata": {},
   "outputs": [],
   "source": [
    "sc.pl.embedding_density(adataSubType1, key=\"umap_density_G_CONTROL\", group=\"1\", color_map=\"nipy_spectral\",title=\"G_CONTROL\")"
   ]
  },
  {
   "cell_type": "code",
   "execution_count": null,
   "metadata": {},
   "outputs": [],
   "source": []
  }
 ],
 "metadata": {
  "kernelspec": {
   "display_name": "Python 3 (ipykernel)",
   "language": "python",
   "name": "python3"
  },
  "language_info": {
   "codemirror_mode": {
    "name": "ipython",
    "version": 3
   },
   "file_extension": ".py",
   "mimetype": "text/x-python",
   "name": "python",
   "nbconvert_exporter": "python",
   "pygments_lexer": "ipython3",
   "version": "3.8.12"
  }
 },
 "nbformat": 4,
 "nbformat_minor": 4
}
