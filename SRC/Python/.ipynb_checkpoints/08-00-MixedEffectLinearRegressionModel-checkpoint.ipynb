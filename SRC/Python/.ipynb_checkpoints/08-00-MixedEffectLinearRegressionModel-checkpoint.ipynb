{
 "cells": [
  {
   "cell_type": "code",
   "execution_count": null,
   "metadata": {
    "papermill": {
     "duration": 2.497662,
     "end_time": "2020-02-03T11:16:52.810525",
     "exception": false,
     "start_time": "2020-02-03T11:16:50.312863",
     "status": "completed"
    },
    "tags": []
   },
   "outputs": [],
   "source": [
    "from libraries import *\n",
    "from parameters import *\n",
    "import statsmodels.api as sm\n",
    "import sklearn.feature_selection\n",
    "import statsmodels.api as sm\n",
    "import sklearn.feature_selection\n",
    "from sklearn.preprocessing import PolynomialFeatures\n",
    "import warnings\n",
    "warnings.filterwarnings('ignore')\n",
    "from statannot import add_stat_annotation\n",
    "from numpy.random import seed\n",
    "from numpy.random import randint\n",
    "import statsmodels.formula.api as smf"
   ]
  },
  {
   "cell_type": "code",
   "execution_count": null,
   "metadata": {},
   "outputs": [],
   "source": [
    "os.getcwd()\n",
    "os.chdir(projectDir)"
   ]
  },
  {
   "cell_type": "code",
   "execution_count": null,
   "metadata": {},
   "outputs": [],
   "source": [
    "adataC = sc.read('outputs/anndata/adata-hash-features_singlets_SingleKO_08122020_PerGENE.h5ad')\n"
   ]
  },
  {
   "cell_type": "code",
   "execution_count": null,
   "metadata": {},
   "outputs": [],
   "source": [
    "adataC.X.shape"
   ]
  },
  {
   "cell_type": "code",
   "execution_count": null,
   "metadata": {},
   "outputs": [],
   "source": [
    "covariates = adataC.uns['feature_barcode_names_filtered_GENES']\n",
    "covariates = covariates[covariates != \"GENE_CONTROL_\"]"
   ]
  },
  {
   "cell_type": "code",
   "execution_count": null,
   "metadata": {},
   "outputs": [],
   "source": [
    "guideMatrix = adataC.obs[covariates]\n",
    "guideMatrix.shape\n",
    "guideMatrix.rename(columns = {'GENE_Rnf8-cmtr1_':'GENE_Rnf8cmtr1_'}, inplace = True) \n",
    "guideMatrix.rename(columns = {'GENE_Siah1-ps1_':'GENE_Siah1ps1_'}, inplace = True) \n",
    "guideMatrix.rename(columns = {'GENE_Siah1-ps2_':'GENE_Siah1ps2_'}, inplace = True) \n"
   ]
  },
  {
   "cell_type": "code",
   "execution_count": null,
   "metadata": {},
   "outputs": [],
   "source": [
    "## Add covariates that should be corrected for\n",
    "df = adataC.obs[[\"n_genes\", \"mt_frac\", \"leiden\" ]]\n",
    "\n",
    "guideMatrix = guideMatrix.join(df)\n",
    "guideMatrix.shape"
   ]
  },
  {
   "cell_type": "code",
   "execution_count": null,
   "metadata": {},
   "outputs": [],
   "source": [
    "expressionMatrix = adataC.X"
   ]
  },
  {
   "cell_type": "code",
   "execution_count": null,
   "metadata": {},
   "outputs": [],
   "source": [
    "pd.Series(adataC.var_names).to_csv(\"/home/beraslan/jovian-work/analysisSingle/Gene_names.csv\", index=False)"
   ]
  },
  {
   "cell_type": "code",
   "execution_count": null,
   "metadata": {
    "tags": []
   },
   "outputs": [],
   "source": [
    "allVars = pd.Series(guideMatrix.columns) \n",
    "allVars"
   ]
  },
  {
   "cell_type": "code",
   "execution_count": null,
   "metadata": {},
   "outputs": [],
   "source": [
    "all_columns = \"+\".join(allVars[~allVars.isin([\"leiden\"])])\n"
   ]
  },
  {
   "cell_type": "code",
   "execution_count": null,
   "metadata": {
    "tags": []
   },
   "outputs": [],
   "source": [
    "my_formula = \"y~\" + all_columns\n",
    "my_formula"
   ]
  },
  {
   "cell_type": "code",
   "execution_count": null,
   "metadata": {},
   "outputs": [],
   "source": [
    "guideMatrix[\"y\"] = np.array(expressionMatrix)[:,1]\n"
   ]
  },
  {
   "cell_type": "code",
   "execution_count": null,
   "metadata": {
    "tags": []
   },
   "outputs": [],
   "source": [
    "est = smf.mixedlm(my_formula, guideMatrix, groups=guideMatrix[\"leiden\"], missing='drop',re_formula=(\"~\"+all_columns))"
   ]
  },
  {
   "cell_type": "code",
   "execution_count": null,
   "metadata": {},
   "outputs": [],
   "source": [
    "mdf = est.fit(method=[\"bfgs\"])"
   ]
  },
  {
   "cell_type": "code",
   "execution_count": null,
   "metadata": {
    "tags": []
   },
   "outputs": [],
   "source": [
    "mdf.random_effects"
   ]
  },
  {
   "cell_type": "code",
   "execution_count": null,
   "metadata": {},
   "outputs": [],
   "source": [
    "for i in range(5760,6000,20):\n",
    "    print(i)\n",
    "    pvalDF = pd.DataFrame()\n",
    "    coefDF = pd.DataFrame()\n",
    "    \n",
    "    for j in range(i,i+20):\n",
    "        print(j)\n",
    "        guideMatrix[\"y\"] = np.array(expressionMatrix)[:,j]\n",
    "        est = smf.mixedlm(my_formula, guideMatrix, groups=guideMatrix[\"leiden\"], missing='drop')\n",
    "        mdf = est.fit(method=[\"bfgs\"])\n",
    "        pvalDF[str(j)] = mdf.summary().tables[1][\"P>|z|\"]\n",
    "        coefDF[str(j)] = mdf.summary().tables[1][\"Coef.\"]\n",
    "    \n",
    "    coefDF.index = mdf.summary().tables[1].index\n",
    "    pvalDF.index = mdf.summary().tables[1].index\n",
    "    pvalDF.to_csv(\"pvalues_\"+str(i)+\"_\"+str(i+20)+\"_MixedEffect.csv\")   \n",
    "    coefDF.to_csv(\"coefs_\"+str(i)+\"_\"+str(i+20)+\"_MixedEffec.csv\")   "
   ]
  },
  {
   "cell_type": "code",
   "execution_count": null,
   "metadata": {},
   "outputs": [],
   "source": []
  },
  {
   "cell_type": "code",
   "execution_count": null,
   "metadata": {},
   "outputs": [],
   "source": []
  }
 ],
 "metadata": {
  "kernelspec": {
   "display_name": "Python 3 (ipykernel)",
   "language": "python",
   "name": "python3"
  },
  "language_info": {
   "codemirror_mode": {
    "name": "ipython",
    "version": 3
   },
   "file_extension": ".py",
   "mimetype": "text/x-python",
   "name": "python",
   "nbconvert_exporter": "python",
   "pygments_lexer": "ipython3",
   "version": "3.8.13"
  }
 },
 "nbformat": 4,
 "nbformat_minor": 4
}
