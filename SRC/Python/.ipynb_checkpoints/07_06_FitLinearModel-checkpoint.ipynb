{
 "cells": [
  {
   "cell_type": "code",
   "execution_count": 1,
   "metadata": {
    "papermill": {
     "duration": 2.497662,
     "end_time": "2020-02-03T11:16:52.810525",
     "exception": false,
     "start_time": "2020-02-03T11:16:50.312863",
     "status": "completed"
    },
    "tags": []
   },
   "outputs": [
    {
     "name": "stderr",
     "output_type": "stream",
     "text": [
      "/home/beraslan/miniconda3/lib/python3.8/site-packages/tqdm/auto.py:22: TqdmWarning: IProgress not found. Please update jupyter and ipywidgets. See https://ipywidgets.readthedocs.io/en/stable/user_install.html\n",
      "  from .autonotebook import tqdm as notebook_tqdm\n"
     ]
    }
   ],
   "source": [
    "from libraries import *\n",
    "from parameters import *\n",
    "import statsmodels.api as sm"
   ]
  },
  {
   "cell_type": "code",
   "execution_count": 2,
   "metadata": {},
   "outputs": [],
   "source": [
    "os.getcwd()\n",
    "os.chdir(projectDir)"
   ]
  },
  {
   "cell_type": "code",
   "execution_count": 3,
   "metadata": {},
   "outputs": [],
   "source": [
    "adata = sc.read('outputs/anndata/adata-hash-features_singlets_SingleKO_05242020_Filtered.h5ad')\n"
   ]
  },
  {
   "cell_type": "code",
   "execution_count": 4,
   "metadata": {},
   "outputs": [
    {
     "data": {
      "text/plain": [
       "array(['Arih1_1', 'Arih1_2', 'Arih1_3', ..., 'ONE_NONGENE_SITE_328',\n",
       "       'ONE_NONGENE_SITE_329', 'ONE_NONGENE_SITE_330'], dtype=object)"
      ]
     },
     "execution_count": 4,
     "metadata": {},
     "output_type": "execute_result"
    }
   ],
   "source": [
    "adata.uns['feature_barcode_names']"
   ]
  },
  {
   "cell_type": "code",
   "execution_count": 5,
   "metadata": {},
   "outputs": [],
   "source": [
    "adata.uns['Control_guides'] = [ x for x in adata.uns['feature_barcode_names'] if (x.startswith(\"ONE_NONGENE_SITE\") or x.startswith(\"NO_TARGET\"))]\n"
   ]
  },
  {
   "cell_type": "code",
   "execution_count": 9,
   "metadata": {},
   "outputs": [
    {
     "data": {
      "text/plain": [
       "(325203, 6685)"
      ]
     },
     "execution_count": 9,
     "metadata": {},
     "output_type": "execute_result"
    }
   ],
   "source": [
    "expressionMatrix = adata.X\n",
    "expressionMatrix.shape"
   ]
  },
  {
   "cell_type": "code",
   "execution_count": 10,
   "metadata": {},
   "outputs": [],
   "source": [
    "pd.Series(adata.var_names).to_csv(\"GuideSelectionLM_GeneNames.csv\", index=False )"
   ]
  },
  {
   "cell_type": "code",
   "execution_count": 11,
   "metadata": {},
   "outputs": [
    {
     "data": {
      "text/plain": [
       "(325203, 12)"
      ]
     },
     "execution_count": 11,
     "metadata": {},
     "output_type": "execute_result"
    }
   ],
   "source": [
    "df = adata.obs[[\"n_genes\", \"mt_frac\", \"leiden\" ]]\n",
    "dummies = pd.get_dummies(df.leiden)\n",
    "df = df.join(dummies)\n",
    "df.drop([\"leiden\"], axis=1,inplace = True) \n",
    "df.shape"
   ]
  },
  {
   "cell_type": "code",
   "execution_count": 7,
   "metadata": {},
   "outputs": [
    {
     "data": {
      "text/plain": [
       "(325203, 3204)"
      ]
     },
     "execution_count": 7,
     "metadata": {},
     "output_type": "execute_result"
    }
   ],
   "source": [
    "guideMatrix = adata.obs[adata.uns['feature_KO_barcode_names_filtered']]\n",
    "guideMatrix.shape"
   ]
  },
  {
   "cell_type": "code",
   "execution_count": 8,
   "metadata": {},
   "outputs": [
    {
     "data": {
      "text/html": [
       "<div>\n",
       "<style scoped>\n",
       "    .dataframe tbody tr th:only-of-type {\n",
       "        vertical-align: middle;\n",
       "    }\n",
       "\n",
       "    .dataframe tbody tr th {\n",
       "        vertical-align: top;\n",
       "    }\n",
       "\n",
       "    .dataframe thead th {\n",
       "        text-align: right;\n",
       "    }\n",
       "</style>\n",
       "<table border=\"1\" class=\"dataframe\">\n",
       "  <thead>\n",
       "    <tr style=\"text-align: right;\">\n",
       "      <th></th>\n",
       "      <th>Arih1_1</th>\n",
       "      <th>Arih1_2</th>\n",
       "      <th>Arih1_3</th>\n",
       "      <th>Rnf212_1</th>\n",
       "      <th>Rnf212_2</th>\n",
       "      <th>Rnf212_3</th>\n",
       "      <th>Cbl_1</th>\n",
       "      <th>Cbl_2</th>\n",
       "      <th>Cbl_3</th>\n",
       "      <th>Ube3a_1</th>\n",
       "      <th>...</th>\n",
       "      <th>Gm13416_3</th>\n",
       "      <th>Gm19037_1</th>\n",
       "      <th>Gm19037_2</th>\n",
       "      <th>Gm19037_3</th>\n",
       "      <th>Socs2_1</th>\n",
       "      <th>Socs2_2</th>\n",
       "      <th>Socs2_3</th>\n",
       "      <th>Gm9847_1</th>\n",
       "      <th>Gm9847_2</th>\n",
       "      <th>Gm9847_3</th>\n",
       "    </tr>\n",
       "  </thead>\n",
       "  <tbody>\n",
       "    <tr>\n",
       "      <th>AAACCCAAGTCCGCGT-1-E3-1</th>\n",
       "      <td>0</td>\n",
       "      <td>0</td>\n",
       "      <td>0</td>\n",
       "      <td>0</td>\n",
       "      <td>0</td>\n",
       "      <td>0</td>\n",
       "      <td>0</td>\n",
       "      <td>0</td>\n",
       "      <td>0</td>\n",
       "      <td>0</td>\n",
       "      <td>...</td>\n",
       "      <td>0</td>\n",
       "      <td>0</td>\n",
       "      <td>0</td>\n",
       "      <td>0</td>\n",
       "      <td>0</td>\n",
       "      <td>0</td>\n",
       "      <td>0</td>\n",
       "      <td>0</td>\n",
       "      <td>0</td>\n",
       "      <td>0</td>\n",
       "    </tr>\n",
       "    <tr>\n",
       "      <th>AAACCCACAAAGGCTG-1-E3-1</th>\n",
       "      <td>0</td>\n",
       "      <td>0</td>\n",
       "      <td>0</td>\n",
       "      <td>0</td>\n",
       "      <td>0</td>\n",
       "      <td>0</td>\n",
       "      <td>0</td>\n",
       "      <td>0</td>\n",
       "      <td>0</td>\n",
       "      <td>0</td>\n",
       "      <td>...</td>\n",
       "      <td>0</td>\n",
       "      <td>0</td>\n",
       "      <td>0</td>\n",
       "      <td>0</td>\n",
       "      <td>0</td>\n",
       "      <td>0</td>\n",
       "      <td>0</td>\n",
       "      <td>0</td>\n",
       "      <td>0</td>\n",
       "      <td>0</td>\n",
       "    </tr>\n",
       "    <tr>\n",
       "      <th>AAACCCAGTGACACGA-1-E3-1</th>\n",
       "      <td>0</td>\n",
       "      <td>0</td>\n",
       "      <td>0</td>\n",
       "      <td>0</td>\n",
       "      <td>0</td>\n",
       "      <td>0</td>\n",
       "      <td>0</td>\n",
       "      <td>0</td>\n",
       "      <td>0</td>\n",
       "      <td>0</td>\n",
       "      <td>...</td>\n",
       "      <td>0</td>\n",
       "      <td>0</td>\n",
       "      <td>0</td>\n",
       "      <td>0</td>\n",
       "      <td>0</td>\n",
       "      <td>0</td>\n",
       "      <td>0</td>\n",
       "      <td>0</td>\n",
       "      <td>0</td>\n",
       "      <td>0</td>\n",
       "    </tr>\n",
       "    <tr>\n",
       "      <th>AAACGAAAGCAGTCTT-1-E3-1</th>\n",
       "      <td>0</td>\n",
       "      <td>0</td>\n",
       "      <td>0</td>\n",
       "      <td>0</td>\n",
       "      <td>0</td>\n",
       "      <td>0</td>\n",
       "      <td>0</td>\n",
       "      <td>0</td>\n",
       "      <td>0</td>\n",
       "      <td>0</td>\n",
       "      <td>...</td>\n",
       "      <td>0</td>\n",
       "      <td>0</td>\n",
       "      <td>0</td>\n",
       "      <td>0</td>\n",
       "      <td>0</td>\n",
       "      <td>0</td>\n",
       "      <td>0</td>\n",
       "      <td>0</td>\n",
       "      <td>0</td>\n",
       "      <td>0</td>\n",
       "    </tr>\n",
       "    <tr>\n",
       "      <th>AAACGAAAGCATTTGC-1-E3-1</th>\n",
       "      <td>0</td>\n",
       "      <td>0</td>\n",
       "      <td>0</td>\n",
       "      <td>0</td>\n",
       "      <td>0</td>\n",
       "      <td>0</td>\n",
       "      <td>0</td>\n",
       "      <td>0</td>\n",
       "      <td>0</td>\n",
       "      <td>0</td>\n",
       "      <td>...</td>\n",
       "      <td>0</td>\n",
       "      <td>0</td>\n",
       "      <td>0</td>\n",
       "      <td>0</td>\n",
       "      <td>0</td>\n",
       "      <td>0</td>\n",
       "      <td>0</td>\n",
       "      <td>0</td>\n",
       "      <td>0</td>\n",
       "      <td>0</td>\n",
       "    </tr>\n",
       "    <tr>\n",
       "      <th>...</th>\n",
       "      <td>...</td>\n",
       "      <td>...</td>\n",
       "      <td>...</td>\n",
       "      <td>...</td>\n",
       "      <td>...</td>\n",
       "      <td>...</td>\n",
       "      <td>...</td>\n",
       "      <td>...</td>\n",
       "      <td>...</td>\n",
       "      <td>...</td>\n",
       "      <td>...</td>\n",
       "      <td>...</td>\n",
       "      <td>...</td>\n",
       "      <td>...</td>\n",
       "      <td>...</td>\n",
       "      <td>...</td>\n",
       "      <td>...</td>\n",
       "      <td>...</td>\n",
       "      <td>...</td>\n",
       "      <td>...</td>\n",
       "      <td>...</td>\n",
       "    </tr>\n",
       "    <tr>\n",
       "      <th>TTTGTTGAGTTAACAG-1-E4-24</th>\n",
       "      <td>0</td>\n",
       "      <td>0</td>\n",
       "      <td>0</td>\n",
       "      <td>0</td>\n",
       "      <td>0</td>\n",
       "      <td>0</td>\n",
       "      <td>0</td>\n",
       "      <td>0</td>\n",
       "      <td>0</td>\n",
       "      <td>0</td>\n",
       "      <td>...</td>\n",
       "      <td>0</td>\n",
       "      <td>0</td>\n",
       "      <td>0</td>\n",
       "      <td>0</td>\n",
       "      <td>0</td>\n",
       "      <td>0</td>\n",
       "      <td>0</td>\n",
       "      <td>0</td>\n",
       "      <td>0</td>\n",
       "      <td>0</td>\n",
       "    </tr>\n",
       "    <tr>\n",
       "      <th>TTTGTTGCAGGACATG-1-E4-24</th>\n",
       "      <td>0</td>\n",
       "      <td>0</td>\n",
       "      <td>0</td>\n",
       "      <td>0</td>\n",
       "      <td>0</td>\n",
       "      <td>0</td>\n",
       "      <td>0</td>\n",
       "      <td>0</td>\n",
       "      <td>0</td>\n",
       "      <td>0</td>\n",
       "      <td>...</td>\n",
       "      <td>0</td>\n",
       "      <td>0</td>\n",
       "      <td>0</td>\n",
       "      <td>0</td>\n",
       "      <td>0</td>\n",
       "      <td>0</td>\n",
       "      <td>0</td>\n",
       "      <td>0</td>\n",
       "      <td>0</td>\n",
       "      <td>0</td>\n",
       "    </tr>\n",
       "    <tr>\n",
       "      <th>TTTGTTGCATCGATGT-1-E4-24</th>\n",
       "      <td>0</td>\n",
       "      <td>0</td>\n",
       "      <td>0</td>\n",
       "      <td>0</td>\n",
       "      <td>0</td>\n",
       "      <td>0</td>\n",
       "      <td>0</td>\n",
       "      <td>0</td>\n",
       "      <td>0</td>\n",
       "      <td>0</td>\n",
       "      <td>...</td>\n",
       "      <td>0</td>\n",
       "      <td>0</td>\n",
       "      <td>0</td>\n",
       "      <td>0</td>\n",
       "      <td>0</td>\n",
       "      <td>0</td>\n",
       "      <td>0</td>\n",
       "      <td>0</td>\n",
       "      <td>0</td>\n",
       "      <td>0</td>\n",
       "    </tr>\n",
       "    <tr>\n",
       "      <th>TTTGTTGGTTCAATCG-1-E4-24</th>\n",
       "      <td>0</td>\n",
       "      <td>0</td>\n",
       "      <td>0</td>\n",
       "      <td>0</td>\n",
       "      <td>0</td>\n",
       "      <td>0</td>\n",
       "      <td>0</td>\n",
       "      <td>0</td>\n",
       "      <td>0</td>\n",
       "      <td>0</td>\n",
       "      <td>...</td>\n",
       "      <td>0</td>\n",
       "      <td>0</td>\n",
       "      <td>0</td>\n",
       "      <td>0</td>\n",
       "      <td>0</td>\n",
       "      <td>0</td>\n",
       "      <td>0</td>\n",
       "      <td>0</td>\n",
       "      <td>0</td>\n",
       "      <td>0</td>\n",
       "    </tr>\n",
       "    <tr>\n",
       "      <th>TTTGTTGTCCATTGTT-1-E4-24</th>\n",
       "      <td>0</td>\n",
       "      <td>0</td>\n",
       "      <td>0</td>\n",
       "      <td>0</td>\n",
       "      <td>0</td>\n",
       "      <td>0</td>\n",
       "      <td>0</td>\n",
       "      <td>0</td>\n",
       "      <td>0</td>\n",
       "      <td>0</td>\n",
       "      <td>...</td>\n",
       "      <td>0</td>\n",
       "      <td>0</td>\n",
       "      <td>0</td>\n",
       "      <td>0</td>\n",
       "      <td>0</td>\n",
       "      <td>0</td>\n",
       "      <td>0</td>\n",
       "      <td>0</td>\n",
       "      <td>0</td>\n",
       "      <td>0</td>\n",
       "    </tr>\n",
       "  </tbody>\n",
       "</table>\n",
       "<p>325203 rows × 3204 columns</p>\n",
       "</div>"
      ],
      "text/plain": [
       "                          Arih1_1  Arih1_2  Arih1_3  Rnf212_1  Rnf212_2  \\\n",
       "AAACCCAAGTCCGCGT-1-E3-1         0        0        0         0         0   \n",
       "AAACCCACAAAGGCTG-1-E3-1         0        0        0         0         0   \n",
       "AAACCCAGTGACACGA-1-E3-1         0        0        0         0         0   \n",
       "AAACGAAAGCAGTCTT-1-E3-1         0        0        0         0         0   \n",
       "AAACGAAAGCATTTGC-1-E3-1         0        0        0         0         0   \n",
       "...                           ...      ...      ...       ...       ...   \n",
       "TTTGTTGAGTTAACAG-1-E4-24        0        0        0         0         0   \n",
       "TTTGTTGCAGGACATG-1-E4-24        0        0        0         0         0   \n",
       "TTTGTTGCATCGATGT-1-E4-24        0        0        0         0         0   \n",
       "TTTGTTGGTTCAATCG-1-E4-24        0        0        0         0         0   \n",
       "TTTGTTGTCCATTGTT-1-E4-24        0        0        0         0         0   \n",
       "\n",
       "                          Rnf212_3  Cbl_1  Cbl_2  Cbl_3  Ube3a_1  ...  \\\n",
       "AAACCCAAGTCCGCGT-1-E3-1          0      0      0      0        0  ...   \n",
       "AAACCCACAAAGGCTG-1-E3-1          0      0      0      0        0  ...   \n",
       "AAACCCAGTGACACGA-1-E3-1          0      0      0      0        0  ...   \n",
       "AAACGAAAGCAGTCTT-1-E3-1          0      0      0      0        0  ...   \n",
       "AAACGAAAGCATTTGC-1-E3-1          0      0      0      0        0  ...   \n",
       "...                            ...    ...    ...    ...      ...  ...   \n",
       "TTTGTTGAGTTAACAG-1-E4-24         0      0      0      0        0  ...   \n",
       "TTTGTTGCAGGACATG-1-E4-24         0      0      0      0        0  ...   \n",
       "TTTGTTGCATCGATGT-1-E4-24         0      0      0      0        0  ...   \n",
       "TTTGTTGGTTCAATCG-1-E4-24         0      0      0      0        0  ...   \n",
       "TTTGTTGTCCATTGTT-1-E4-24         0      0      0      0        0  ...   \n",
       "\n",
       "                          Gm13416_3  Gm19037_1  Gm19037_2  Gm19037_3  Socs2_1  \\\n",
       "AAACCCAAGTCCGCGT-1-E3-1           0          0          0          0        0   \n",
       "AAACCCACAAAGGCTG-1-E3-1           0          0          0          0        0   \n",
       "AAACCCAGTGACACGA-1-E3-1           0          0          0          0        0   \n",
       "AAACGAAAGCAGTCTT-1-E3-1           0          0          0          0        0   \n",
       "AAACGAAAGCATTTGC-1-E3-1           0          0          0          0        0   \n",
       "...                             ...        ...        ...        ...      ...   \n",
       "TTTGTTGAGTTAACAG-1-E4-24          0          0          0          0        0   \n",
       "TTTGTTGCAGGACATG-1-E4-24          0          0          0          0        0   \n",
       "TTTGTTGCATCGATGT-1-E4-24          0          0          0          0        0   \n",
       "TTTGTTGGTTCAATCG-1-E4-24          0          0          0          0        0   \n",
       "TTTGTTGTCCATTGTT-1-E4-24          0          0          0          0        0   \n",
       "\n",
       "                          Socs2_2  Socs2_3  Gm9847_1  Gm9847_2  Gm9847_3  \n",
       "AAACCCAAGTCCGCGT-1-E3-1         0        0         0         0         0  \n",
       "AAACCCACAAAGGCTG-1-E3-1         0        0         0         0         0  \n",
       "AAACCCAGTGACACGA-1-E3-1         0        0         0         0         0  \n",
       "AAACGAAAGCAGTCTT-1-E3-1         0        0         0         0         0  \n",
       "AAACGAAAGCATTTGC-1-E3-1         0        0         0         0         0  \n",
       "...                           ...      ...       ...       ...       ...  \n",
       "TTTGTTGAGTTAACAG-1-E4-24        0        0         0         0         0  \n",
       "TTTGTTGCAGGACATG-1-E4-24        0        0         0         0         0  \n",
       "TTTGTTGCATCGATGT-1-E4-24        0        0         0         0         0  \n",
       "TTTGTTGGTTCAATCG-1-E4-24        0        0         0         0         0  \n",
       "TTTGTTGTCCATTGTT-1-E4-24        0        0         0         0         0  \n",
       "\n",
       "[325203 rows x 3204 columns]"
      ]
     },
     "execution_count": 8,
     "metadata": {},
     "output_type": "execute_result"
    }
   ],
   "source": [
    "guideMatrix"
   ]
  },
  {
   "cell_type": "code",
   "execution_count": 19,
   "metadata": {},
   "outputs": [
    {
     "data": {
      "text/plain": [
       "Arih1_1       46.0\n",
       "Arih1_2      111.0\n",
       "Arih1_3      124.0\n",
       "Rnf212_1      74.0\n",
       "Rnf212_2      26.0\n",
       "             ...  \n",
       "5           9687.0\n",
       "6           7533.0\n",
       "7           5355.0\n",
       "8           4695.0\n",
       "9            331.0\n",
       "Length: 3216, dtype: float64"
      ]
     },
     "execution_count": 19,
     "metadata": {},
     "output_type": "execute_result"
    }
   ],
   "source": [
    "guideMatrix.sum(axis=0)"
   ]
  },
  {
   "cell_type": "code",
   "execution_count": 9,
   "metadata": {},
   "outputs": [
    {
     "data": {
      "text/plain": [
       "(325203, 3216)"
      ]
     },
     "execution_count": 9,
     "metadata": {},
     "output_type": "execute_result"
    }
   ],
   "source": [
    "guideMatrix = guideMatrix.join(df)\n",
    "guideMatrix.shape"
   ]
  },
  {
   "cell_type": "code",
   "execution_count": null,
   "metadata": {},
   "outputs": [],
   "source": [
    "for i in range(6200,6680,20):\n",
    "    print(i)\n",
    "    pvalDF = pd.DataFrame()\n",
    "    coefDF = pd.DataFrame()\n",
    "    \n",
    "    for j in range(i,i+20):\n",
    "        print(j)\n",
    "        est = sm.OLS(np.array(expressionMatrix)[:,j], np.array(guideMatrix))\n",
    "        est2 = est.fit().summary2().tables[1]\n",
    "        pvalDF[str(j)] = est2['P>|t|']\n",
    "        coefDF[str(j)] = est2['Coef.']\n",
    "    \n",
    "    pvalDF.to_csv(\"pvalues_\"+str(i)+\"_\"+str(i+20)+\"_GuideSel.csv\")   \n",
    "    coefDF.to_csv(\"coefs_\"+str(i)+\"_\"+str(i+20)+\"_GuideSel.csv\")   \n",
    "   "
   ]
  }
 ],
 "metadata": {
  "kernelspec": {
   "display_name": "Python 3 (ipykernel)",
   "language": "python",
   "name": "python3"
  },
  "language_info": {
   "codemirror_mode": {
    "name": "ipython",
    "version": 3
   },
   "file_extension": ".py",
   "mimetype": "text/x-python",
   "name": "python",
   "nbconvert_exporter": "python",
   "pygments_lexer": "ipython3",
   "version": "3.8.13"
  }
 },
 "nbformat": 4,
 "nbformat_minor": 4
}
