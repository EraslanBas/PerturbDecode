{
 "cells": [
  {
   "cell_type": "code",
   "execution_count": 1,
   "metadata": {
    "papermill": {
     "duration": 2.497662,
     "end_time": "2020-02-03T11:16:52.810525",
     "exception": false,
     "start_time": "2020-02-03T11:16:50.312863",
     "status": "completed"
    },
    "tags": []
   },
   "outputs": [],
   "source": [
    "from libraries import *\n",
    "from parameters import *\n",
    "from sklearn.cross_decomposition import PLSCanonical\n",
    "from sklearn import linear_model"
   ]
  },
  {
   "cell_type": "code",
   "execution_count": 2,
   "metadata": {},
   "outputs": [],
   "source": [
    "os.getcwd()\n",
    "os.chdir(projectDir)"
   ]
  },
  {
   "cell_type": "code",
   "execution_count": 3,
   "metadata": {},
   "outputs": [],
   "source": [
    "adata = sc.read('outputs/anndata/adata-hash-features_singlets_SingleKO_06292020_PerGENE.h5ad')\n"
   ]
  },
  {
   "cell_type": "code",
   "execution_count": 4,
   "metadata": {
    "tags": []
   },
   "outputs": [
    {
     "data": {
      "text/plain": [
       "(246050, 6685)"
      ]
     },
     "execution_count": 4,
     "metadata": {},
     "output_type": "execute_result"
    }
   ],
   "source": [
    "adata.shape"
   ]
  },
  {
   "cell_type": "code",
   "execution_count": 5,
   "metadata": {},
   "outputs": [],
   "source": [
    "#regr.score(df, rnaMat)\n",
    "df = adata.obs[[\"n_genes\", \"mt_frac\", \"leiden\" ]]\n",
    "dummies = pd.get_dummies(df.leiden)\n",
    "df = df.join(dummies)\n",
    "df.drop([\"leiden\"], axis=1,inplace = True) \n",
    "\n",
    "rnaMat = adata.X\n",
    "rnaMat = pd.DataFrame(rnaMat)\n",
    "rnaMat.columns = adata.var_names\n",
    "rnaMat.index = adata.obs_names\n",
    "\n",
    "regr = linear_model.LinearRegression(fit_intercept = False) # Do not use fit_intercept = False if you have removed 1 column after dummy encoding\n",
    "regr.fit(df, rnaMat)\n",
    "predicted = regr.predict(df)\n",
    "\n",
    "residuals = rnaMat-predicted\n",
    "\n",
    "adata.layers[\"ClusterResiduals\"] = residuals\n",
    "\n"
   ]
  },
  {
   "cell_type": "code",
   "execution_count": 6,
   "metadata": {},
   "outputs": [
    {
     "data": {
      "text/plain": [
       "array([[-0.39191944, -0.436491  , -0.59834654, ..., -0.31061187,\n",
       "        -0.55112243, -0.38936811],\n",
       "       [-0.46106026, -0.4865718 ,  2.03060514, ..., -0.35359844,\n",
       "        -0.50893631, -0.41224031],\n",
       "       [-0.44404237, -0.46617789,  3.14850278, ..., -0.34032954,\n",
       "        -0.48520616, -0.40233358],\n",
       "       ...,\n",
       "       [-0.59984026, -0.63646174,  1.54475173, ..., -0.49785291,\n",
       "        -0.53434293, -0.40589696],\n",
       "       [-0.33065707, -0.33117992, -0.55946897, ..., -0.25221621,\n",
       "        -0.3308232 , -0.33679488],\n",
       "       [-0.43407562, -0.43845152,  1.37731026, ..., -0.32729892,\n",
       "        -0.4045706 , -0.38816412]])"
      ]
     },
     "execution_count": 6,
     "metadata": {},
     "output_type": "execute_result"
    }
   ],
   "source": [
    "adata.layers[\"ClusterResiduals\"]"
   ]
  },
  {
   "cell_type": "code",
   "execution_count": 7,
   "metadata": {},
   "outputs": [],
   "source": [
    "adata.write('outputs/anndata/adata-hash-features_singlets_SingleKO_06292020_PerGENE.h5ad')"
   ]
  },
  {
   "cell_type": "code",
   "execution_count": null,
   "metadata": {},
   "outputs": [],
   "source": []
  }
 ],
 "metadata": {
  "kernelspec": {
   "display_name": "Python 3 (ipykernel)",
   "language": "python",
   "name": "python3"
  },
  "language_info": {
   "codemirror_mode": {
    "name": "ipython",
    "version": 3
   },
   "file_extension": ".py",
   "mimetype": "text/x-python",
   "name": "python",
   "nbconvert_exporter": "python",
   "pygments_lexer": "ipython3",
   "version": "3.8.13"
  }
 },
 "nbformat": 4,
 "nbformat_minor": 4
}
