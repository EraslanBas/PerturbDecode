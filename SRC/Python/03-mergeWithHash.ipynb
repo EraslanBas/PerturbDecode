{
 "cells": [
  {
   "cell_type": "markdown",
   "metadata": {
    "papermill": {
     "duration": 0.03355,
     "end_time": "2020-02-03T02:05:01.665597",
     "exception": false,
     "start_time": "2020-02-03T02:05:01.632047",
     "status": "completed"
    },
    "tags": []
   },
   "source": [
    "# 03 Merge With Hash Info"
   ]
  },
  {
   "cell_type": "code",
   "execution_count": 1,
   "metadata": {
    "papermill": {
     "duration": 2.497662,
     "end_time": "2020-02-03T11:16:52.810525",
     "exception": false,
     "start_time": "2020-02-03T11:16:50.312863",
     "status": "completed"
    },
    "tags": []
   },
   "outputs": [],
   "source": [
    "from libraries import *\n",
    "from parameters import *"
   ]
  },
  {
   "cell_type": "code",
   "execution_count": 2,
   "metadata": {
    "papermill": {
     "duration": 0.391954,
     "end_time": "2020-02-02T03:12:57.617897",
     "exception": false,
     "start_time": "2020-02-02T03:12:57.225943",
     "status": "completed"
    },
    "tags": []
   },
   "outputs": [],
   "source": [
    "%load_ext rpy2.ipython"
   ]
  },
  {
   "cell_type": "code",
   "execution_count": 3,
   "metadata": {},
   "outputs": [],
   "source": [
    "os.getcwd()\n",
    "os.chdir(projectDir)"
   ]
  },
  {
   "cell_type": "markdown",
   "metadata": {
    "papermill": {
     "duration": 0.025149,
     "end_time": "2020-02-03T11:19:43.494504",
     "exception": false,
     "start_time": "2020-02-03T11:19:43.469355",
     "status": "completed"
    },
    "tags": []
   },
   "source": [
    "***"
   ]
  },
  {
   "cell_type": "code",
   "execution_count": 4,
   "metadata": {
    "collapsed": true,
    "jupyter": {
     "outputs_hidden": true
    },
    "tags": []
   },
   "outputs": [
    {
     "ename": "FileNotFoundError",
     "evalue": "[Errno 2] Unable to open file (unable to open file: name = 'outputs/anndata/adata.h5ad', errno = 2, error message = 'No such file or directory', flags = 0, o_flags = 0)",
     "output_type": "error",
     "traceback": [
      "\u001b[0;31m---------------------------------------------------------------------------\u001b[0m",
      "\u001b[0;31mFileNotFoundError\u001b[0m                         Traceback (most recent call last)",
      "Input \u001b[0;32mIn [4]\u001b[0m, in \u001b[0;36m<cell line: 1>\u001b[0;34m()\u001b[0m\n\u001b[0;32m----> 1\u001b[0m adata \u001b[38;5;241m=\u001b[39m \u001b[43msc\u001b[49m\u001b[38;5;241;43m.\u001b[39;49m\u001b[43mread\u001b[49m\u001b[43m(\u001b[49m\u001b[38;5;124;43m'\u001b[39;49m\u001b[38;5;124;43moutputs/anndata/adata.h5ad\u001b[39;49m\u001b[38;5;124;43m'\u001b[39;49m\u001b[43m)\u001b[49m\n",
      "File \u001b[0;32m~/miniconda3/lib/python3.8/site-packages/scanpy/readwrite.py:112\u001b[0m, in \u001b[0;36mread\u001b[0;34m(filename, backed, sheet, ext, delimiter, first_column_names, backup_url, cache, cache_compression, **kwargs)\u001b[0m\n\u001b[1;32m    110\u001b[0m filename \u001b[38;5;241m=\u001b[39m Path(filename)  \u001b[38;5;66;03m# allow passing strings\u001b[39;00m\n\u001b[1;32m    111\u001b[0m \u001b[38;5;28;01mif\u001b[39;00m is_valid_filename(filename):\n\u001b[0;32m--> 112\u001b[0m     \u001b[38;5;28;01mreturn\u001b[39;00m \u001b[43m_read\u001b[49m\u001b[43m(\u001b[49m\n\u001b[1;32m    113\u001b[0m \u001b[43m        \u001b[49m\u001b[43mfilename\u001b[49m\u001b[43m,\u001b[49m\n\u001b[1;32m    114\u001b[0m \u001b[43m        \u001b[49m\u001b[43mbacked\u001b[49m\u001b[38;5;241;43m=\u001b[39;49m\u001b[43mbacked\u001b[49m\u001b[43m,\u001b[49m\n\u001b[1;32m    115\u001b[0m \u001b[43m        \u001b[49m\u001b[43msheet\u001b[49m\u001b[38;5;241;43m=\u001b[39;49m\u001b[43msheet\u001b[49m\u001b[43m,\u001b[49m\n\u001b[1;32m    116\u001b[0m \u001b[43m        \u001b[49m\u001b[43mext\u001b[49m\u001b[38;5;241;43m=\u001b[39;49m\u001b[43mext\u001b[49m\u001b[43m,\u001b[49m\n\u001b[1;32m    117\u001b[0m \u001b[43m        \u001b[49m\u001b[43mdelimiter\u001b[49m\u001b[38;5;241;43m=\u001b[39;49m\u001b[43mdelimiter\u001b[49m\u001b[43m,\u001b[49m\n\u001b[1;32m    118\u001b[0m \u001b[43m        \u001b[49m\u001b[43mfirst_column_names\u001b[49m\u001b[38;5;241;43m=\u001b[39;49m\u001b[43mfirst_column_names\u001b[49m\u001b[43m,\u001b[49m\n\u001b[1;32m    119\u001b[0m \u001b[43m        \u001b[49m\u001b[43mbackup_url\u001b[49m\u001b[38;5;241;43m=\u001b[39;49m\u001b[43mbackup_url\u001b[49m\u001b[43m,\u001b[49m\n\u001b[1;32m    120\u001b[0m \u001b[43m        \u001b[49m\u001b[43mcache\u001b[49m\u001b[38;5;241;43m=\u001b[39;49m\u001b[43mcache\u001b[49m\u001b[43m,\u001b[49m\n\u001b[1;32m    121\u001b[0m \u001b[43m        \u001b[49m\u001b[43mcache_compression\u001b[49m\u001b[38;5;241;43m=\u001b[39;49m\u001b[43mcache_compression\u001b[49m\u001b[43m,\u001b[49m\n\u001b[1;32m    122\u001b[0m \u001b[43m        \u001b[49m\u001b[38;5;241;43m*\u001b[39;49m\u001b[38;5;241;43m*\u001b[39;49m\u001b[43mkwargs\u001b[49m\u001b[43m,\u001b[49m\n\u001b[1;32m    123\u001b[0m \u001b[43m    \u001b[49m\u001b[43m)\u001b[49m\n\u001b[1;32m    124\u001b[0m \u001b[38;5;66;03m# generate filename and read to dict\u001b[39;00m\n\u001b[1;32m    125\u001b[0m filekey \u001b[38;5;241m=\u001b[39m \u001b[38;5;28mstr\u001b[39m(filename)\n",
      "File \u001b[0;32m~/miniconda3/lib/python3.8/site-packages/scanpy/readwrite.py:722\u001b[0m, in \u001b[0;36m_read\u001b[0;34m(filename, backed, sheet, ext, delimiter, first_column_names, backup_url, cache, cache_compression, suppress_cache_warning, **kwargs)\u001b[0m\n\u001b[1;32m    720\u001b[0m \u001b[38;5;28;01mif\u001b[39;00m ext \u001b[38;5;129;01min\u001b[39;00m {\u001b[38;5;124m'\u001b[39m\u001b[38;5;124mh5\u001b[39m\u001b[38;5;124m'\u001b[39m, \u001b[38;5;124m'\u001b[39m\u001b[38;5;124mh5ad\u001b[39m\u001b[38;5;124m'\u001b[39m}:\n\u001b[1;32m    721\u001b[0m     \u001b[38;5;28;01mif\u001b[39;00m sheet \u001b[38;5;129;01mis\u001b[39;00m \u001b[38;5;28;01mNone\u001b[39;00m:\n\u001b[0;32m--> 722\u001b[0m         \u001b[38;5;28;01mreturn\u001b[39;00m \u001b[43mread_h5ad\u001b[49m\u001b[43m(\u001b[49m\u001b[43mfilename\u001b[49m\u001b[43m,\u001b[49m\u001b[43m \u001b[49m\u001b[43mbacked\u001b[49m\u001b[38;5;241;43m=\u001b[39;49m\u001b[43mbacked\u001b[49m\u001b[43m)\u001b[49m\n\u001b[1;32m    723\u001b[0m     \u001b[38;5;28;01melse\u001b[39;00m:\n\u001b[1;32m    724\u001b[0m         logg\u001b[38;5;241m.\u001b[39mdebug(\u001b[38;5;124mf\u001b[39m\u001b[38;5;124m'\u001b[39m\u001b[38;5;124mreading sheet \u001b[39m\u001b[38;5;132;01m{\u001b[39;00msheet\u001b[38;5;132;01m}\u001b[39;00m\u001b[38;5;124m from file \u001b[39m\u001b[38;5;132;01m{\u001b[39;00mfilename\u001b[38;5;132;01m}\u001b[39;00m\u001b[38;5;124m'\u001b[39m)\n",
      "File \u001b[0;32m~/miniconda3/lib/python3.8/site-packages/anndata/_io/h5ad.py:224\u001b[0m, in \u001b[0;36mread_h5ad\u001b[0;34m(filename, backed, as_sparse, as_sparse_fmt, chunk_size)\u001b[0m\n\u001b[1;32m    216\u001b[0m         \u001b[38;5;28;01mraise\u001b[39;00m \u001b[38;5;167;01mNotImplementedError\u001b[39;00m(\n\u001b[1;32m    217\u001b[0m             \u001b[38;5;124m\"\u001b[39m\u001b[38;5;124mCurrently only `X` and `raw/X` can be read as sparse.\u001b[39m\u001b[38;5;124m\"\u001b[39m\n\u001b[1;32m    218\u001b[0m         )\n\u001b[1;32m    220\u001b[0m rdasp \u001b[38;5;241m=\u001b[39m partial(\n\u001b[1;32m    221\u001b[0m     read_dense_as_sparse, sparse_format\u001b[38;5;241m=\u001b[39mas_sparse_fmt, axis_chunk\u001b[38;5;241m=\u001b[39mchunk_size\n\u001b[1;32m    222\u001b[0m )\n\u001b[0;32m--> 224\u001b[0m \u001b[38;5;28;01mwith\u001b[39;00m \u001b[43mh5py\u001b[49m\u001b[38;5;241;43m.\u001b[39;49m\u001b[43mFile\u001b[49m\u001b[43m(\u001b[49m\u001b[43mfilename\u001b[49m\u001b[43m,\u001b[49m\u001b[43m \u001b[49m\u001b[38;5;124;43m\"\u001b[39;49m\u001b[38;5;124;43mr\u001b[39;49m\u001b[38;5;124;43m\"\u001b[39;49m\u001b[43m)\u001b[49m \u001b[38;5;28;01mas\u001b[39;00m f:\n\u001b[1;32m    225\u001b[0m     d \u001b[38;5;241m=\u001b[39m {}\n\u001b[1;32m    226\u001b[0m     \u001b[38;5;28;01mfor\u001b[39;00m k \u001b[38;5;129;01min\u001b[39;00m f\u001b[38;5;241m.\u001b[39mkeys():\n\u001b[1;32m    227\u001b[0m         \u001b[38;5;66;03m# Backwards compat for old raw\u001b[39;00m\n",
      "File \u001b[0;32m~/miniconda3/lib/python3.8/site-packages/h5py/_hl/files.py:533\u001b[0m, in \u001b[0;36mFile.__init__\u001b[0;34m(self, name, mode, driver, libver, userblock_size, swmr, rdcc_nslots, rdcc_nbytes, rdcc_w0, track_order, fs_strategy, fs_persist, fs_threshold, fs_page_size, page_buf_size, min_meta_keep, min_raw_keep, locking, alignment_threshold, alignment_interval, **kwds)\u001b[0m\n\u001b[1;32m    525\u001b[0m     fapl \u001b[38;5;241m=\u001b[39m make_fapl(driver, libver, rdcc_nslots, rdcc_nbytes, rdcc_w0,\n\u001b[1;32m    526\u001b[0m                      locking, page_buf_size, min_meta_keep, min_raw_keep,\n\u001b[1;32m    527\u001b[0m                      alignment_threshold\u001b[38;5;241m=\u001b[39malignment_threshold,\n\u001b[1;32m    528\u001b[0m                      alignment_interval\u001b[38;5;241m=\u001b[39malignment_interval,\n\u001b[1;32m    529\u001b[0m                      \u001b[38;5;241m*\u001b[39m\u001b[38;5;241m*\u001b[39mkwds)\n\u001b[1;32m    530\u001b[0m     fcpl \u001b[38;5;241m=\u001b[39m make_fcpl(track_order\u001b[38;5;241m=\u001b[39mtrack_order, fs_strategy\u001b[38;5;241m=\u001b[39mfs_strategy,\n\u001b[1;32m    531\u001b[0m                      fs_persist\u001b[38;5;241m=\u001b[39mfs_persist, fs_threshold\u001b[38;5;241m=\u001b[39mfs_threshold,\n\u001b[1;32m    532\u001b[0m                      fs_page_size\u001b[38;5;241m=\u001b[39mfs_page_size)\n\u001b[0;32m--> 533\u001b[0m     fid \u001b[38;5;241m=\u001b[39m \u001b[43mmake_fid\u001b[49m\u001b[43m(\u001b[49m\u001b[43mname\u001b[49m\u001b[43m,\u001b[49m\u001b[43m \u001b[49m\u001b[43mmode\u001b[49m\u001b[43m,\u001b[49m\u001b[43m \u001b[49m\u001b[43muserblock_size\u001b[49m\u001b[43m,\u001b[49m\u001b[43m \u001b[49m\u001b[43mfapl\u001b[49m\u001b[43m,\u001b[49m\u001b[43m \u001b[49m\u001b[43mfcpl\u001b[49m\u001b[43m,\u001b[49m\u001b[43m \u001b[49m\u001b[43mswmr\u001b[49m\u001b[38;5;241;43m=\u001b[39;49m\u001b[43mswmr\u001b[49m\u001b[43m)\u001b[49m\n\u001b[1;32m    535\u001b[0m \u001b[38;5;28;01mif\u001b[39;00m \u001b[38;5;28misinstance\u001b[39m(libver, \u001b[38;5;28mtuple\u001b[39m):\n\u001b[1;32m    536\u001b[0m     \u001b[38;5;28mself\u001b[39m\u001b[38;5;241m.\u001b[39m_libver \u001b[38;5;241m=\u001b[39m libver\n",
      "File \u001b[0;32m~/miniconda3/lib/python3.8/site-packages/h5py/_hl/files.py:226\u001b[0m, in \u001b[0;36mmake_fid\u001b[0;34m(name, mode, userblock_size, fapl, fcpl, swmr)\u001b[0m\n\u001b[1;32m    224\u001b[0m     \u001b[38;5;28;01mif\u001b[39;00m swmr \u001b[38;5;129;01mand\u001b[39;00m swmr_support:\n\u001b[1;32m    225\u001b[0m         flags \u001b[38;5;241m|\u001b[39m\u001b[38;5;241m=\u001b[39m h5f\u001b[38;5;241m.\u001b[39mACC_SWMR_READ\n\u001b[0;32m--> 226\u001b[0m     fid \u001b[38;5;241m=\u001b[39m \u001b[43mh5f\u001b[49m\u001b[38;5;241;43m.\u001b[39;49m\u001b[43mopen\u001b[49m\u001b[43m(\u001b[49m\u001b[43mname\u001b[49m\u001b[43m,\u001b[49m\u001b[43m \u001b[49m\u001b[43mflags\u001b[49m\u001b[43m,\u001b[49m\u001b[43m \u001b[49m\u001b[43mfapl\u001b[49m\u001b[38;5;241;43m=\u001b[39;49m\u001b[43mfapl\u001b[49m\u001b[43m)\u001b[49m\n\u001b[1;32m    227\u001b[0m \u001b[38;5;28;01melif\u001b[39;00m mode \u001b[38;5;241m==\u001b[39m \u001b[38;5;124m'\u001b[39m\u001b[38;5;124mr+\u001b[39m\u001b[38;5;124m'\u001b[39m:\n\u001b[1;32m    228\u001b[0m     fid \u001b[38;5;241m=\u001b[39m h5f\u001b[38;5;241m.\u001b[39mopen(name, h5f\u001b[38;5;241m.\u001b[39mACC_RDWR, fapl\u001b[38;5;241m=\u001b[39mfapl)\n",
      "File \u001b[0;32mh5py/_objects.pyx:54\u001b[0m, in \u001b[0;36mh5py._objects.with_phil.wrapper\u001b[0;34m()\u001b[0m\n",
      "File \u001b[0;32mh5py/_objects.pyx:55\u001b[0m, in \u001b[0;36mh5py._objects.with_phil.wrapper\u001b[0;34m()\u001b[0m\n",
      "File \u001b[0;32mh5py/h5f.pyx:106\u001b[0m, in \u001b[0;36mh5py.h5f.open\u001b[0;34m()\u001b[0m\n",
      "\u001b[0;31mFileNotFoundError\u001b[0m: [Errno 2] Unable to open file (unable to open file: name = 'outputs/anndata/adata.h5ad', errno = 2, error message = 'No such file or directory', flags = 0, o_flags = 0)"
     ]
    }
   ],
   "source": [
    "adata = sc.read('outputs/anndata/adata.h5ad')"
   ]
  },
  {
   "cell_type": "code",
   "execution_count": 12,
   "metadata": {},
   "outputs": [
    {
     "data": {
      "text/plain": [
       "(1071671, 13)"
      ]
     },
     "execution_count": 12,
     "metadata": {},
     "output_type": "execute_result"
    }
   ],
   "source": [
    "adata.obs.shape"
   ]
  },
  {
   "cell_type": "code",
   "execution_count": 13,
   "metadata": {},
   "outputs": [],
   "source": [
    "from pathlib import Path\n",
    "from tqdm.auto import tqdm"
   ]
  },
  {
   "cell_type": "code",
   "execution_count": 14,
   "metadata": {
    "collapsed": true,
    "jupyter": {
     "outputs_hidden": true
    },
    "tags": []
   },
   "outputs": [
    {
     "data": {
      "application/vnd.jupyter.widget-view+json": {
       "model_id": "dad811dfc8ef403083720cfaab904ec2",
       "version_major": 2,
       "version_minor": 0
      },
      "text/plain": [
       "  0%|          | 0/48 [00:00<?, ?it/s]"
      ]
     },
     "metadata": {},
     "output_type": "display_data"
    },
    {
     "name": "stdout",
     "output_type": "stream",
     "text": [
      "E3-1\n",
      "E3-1\n",
      "E3-10\n",
      "E3-10\n",
      "E3-11\n",
      "E3-11\n",
      "E3-12\n",
      "E3-12\n",
      "E3-13\n",
      "E3-13\n",
      "E3-14\n",
      "E3-14\n",
      "E3-15\n",
      "E3-15\n",
      "E3-16\n",
      "E3-16\n",
      "E3-17\n",
      "E3-17\n",
      "E3-18\n",
      "E3-18\n",
      "E3-19\n",
      "E3-19\n",
      "E3-2\n",
      "E3-2\n",
      "E3-20\n",
      "E3-20\n",
      "E3-21\n",
      "E3-21\n",
      "E3-22\n",
      "E3-22\n",
      "E3-23\n",
      "E3-23\n",
      "E3-24\n",
      "E3-24\n",
      "E3-3\n",
      "E3-3\n",
      "E3-4\n",
      "E3-4\n",
      "E3-5\n",
      "E3-5\n",
      "E3-6\n",
      "E3-6\n",
      "E3-7\n",
      "E3-7\n",
      "E3-8\n",
      "E3-8\n",
      "E3-9\n",
      "E3-9\n",
      "E4-1\n",
      "E4-1\n",
      "E4-10\n",
      "E4-10\n",
      "E4-11\n",
      "E4-11\n",
      "E4-12\n",
      "E4-12\n",
      "E4-13\n",
      "E4-13\n",
      "E4-14\n",
      "E4-14\n",
      "E4-15\n",
      "E4-15\n",
      "E4-16\n",
      "E4-16\n",
      "E4-17\n",
      "E4-17\n",
      "E4-19\n",
      "E4-19\n",
      "E4-2\n",
      "E4-2\n",
      "E4-20\n",
      "E4-20\n",
      "E4-21\n",
      "E4-21\n",
      "E4-22\n",
      "E4-22\n",
      "E4-24\n",
      "E4-24\n",
      "E4-3\n",
      "E4-3\n",
      "E4-4\n",
      "E4-4\n",
      "E4-5\n",
      "E4-5\n",
      "E4-6\n",
      "E4-6\n",
      "E4-7\n",
      "E4-7\n",
      "E4-8\n",
      "E4-8\n",
      "E4-9\n",
      "E4-9\n"
     ]
    }
   ],
   "source": [
    "hash_ads = {}\n",
    "feats = {}\n",
    "\n",
    "for d in tqdm(sorted([x for x in Path('data').iterdir() if x.is_dir() and x.name.startswith('E')])):\n",
    "    sample = d.name.replace('_', '-')\n",
    "    roundlow = sample.split('-')[0].lower()\n",
    "    chrom = sample.split('-')[1].lower()\n",
    "    \n",
    "    hash_path = Path('data') / sample.replace('-', '_') / f'{roundlow}_ch{chrom}_mixhash' / f'{roundlow}_ch{chrom}_mixhash_demux.h5ad'\n",
    "    if hash_path.is_file():\n",
    "        print(sample)\n",
    "        hash_ads[sample] = sc.read(hash_path)\n",
    "        \n",
    "    feat_path = Path(f'data/{sample.replace(\"-\", \"_\")}/R{roundlow[1:]}_Ch{chrom}_FeatBarc/R{roundlow[1:]}_Ch{chrom}_FeatBarc.csv')\n",
    "    if feat_path.is_file():\n",
    "        print(sample)\n",
    "        feats[sample] = pd.read_csv(feat_path)"
   ]
  },
  {
   "cell_type": "markdown",
   "metadata": {},
   "source": [
    "## Merge hash IDs"
   ]
  },
  {
   "cell_type": "code",
   "execution_count": 15,
   "metadata": {},
   "outputs": [
    {
     "data": {
      "text/html": [
       "<div>\n",
       "<style scoped>\n",
       "    .dataframe tbody tr th:only-of-type {\n",
       "        vertical-align: middle;\n",
       "    }\n",
       "\n",
       "    .dataframe tbody tr th {\n",
       "        vertical-align: top;\n",
       "    }\n",
       "\n",
       "    .dataframe thead th {\n",
       "        text-align: right;\n",
       "    }\n",
       "</style>\n",
       "<table border=\"1\" class=\"dataframe\">\n",
       "  <thead>\n",
       "    <tr style=\"text-align: right;\">\n",
       "      <th></th>\n",
       "      <th>Channel</th>\n",
       "      <th>n_genes</th>\n",
       "      <th>n_counts</th>\n",
       "      <th>demux_type</th>\n",
       "      <th>assignment</th>\n",
       "    </tr>\n",
       "    <tr>\n",
       "      <th>index</th>\n",
       "      <th></th>\n",
       "      <th></th>\n",
       "      <th></th>\n",
       "      <th></th>\n",
       "      <th></th>\n",
       "    </tr>\n",
       "  </thead>\n",
       "  <tbody>\n",
       "    <tr>\n",
       "      <th>AAACCCAAGCGTTCCG</th>\n",
       "      <td></td>\n",
       "      <td>1878</td>\n",
       "      <td>5915.0</td>\n",
       "      <td>singlet</td>\n",
       "      <td>100LPS_B</td>\n",
       "    </tr>\n",
       "    <tr>\n",
       "      <th>AAACCCAAGCTTCATG</th>\n",
       "      <td></td>\n",
       "      <td>2425</td>\n",
       "      <td>7652.0</td>\n",
       "      <td>doublet</td>\n",
       "      <td>100LPS_G,100LPS_C</td>\n",
       "    </tr>\n",
       "    <tr>\n",
       "      <th>AAACCCAAGGAGATAG</th>\n",
       "      <td></td>\n",
       "      <td>1412</td>\n",
       "      <td>3452.0</td>\n",
       "      <td>singlet</td>\n",
       "      <td>100LPS_B</td>\n",
       "    </tr>\n",
       "    <tr>\n",
       "      <th>AAACCCAAGTACAGCG</th>\n",
       "      <td></td>\n",
       "      <td>185</td>\n",
       "      <td>245.0</td>\n",
       "      <td>singlet</td>\n",
       "      <td>100LPS_H</td>\n",
       "    </tr>\n",
       "    <tr>\n",
       "      <th>AAACCCAAGTCCGCGT</th>\n",
       "      <td></td>\n",
       "      <td>1715</td>\n",
       "      <td>4448.0</td>\n",
       "      <td>singlet</td>\n",
       "      <td>100LPS_G</td>\n",
       "    </tr>\n",
       "  </tbody>\n",
       "</table>\n",
       "</div>"
      ],
      "text/plain": [
       "                 Channel  n_genes  n_counts demux_type         assignment\n",
       "index                                                                    \n",
       "AAACCCAAGCGTTCCG             1878    5915.0    singlet           100LPS_B\n",
       "AAACCCAAGCTTCATG             2425    7652.0    doublet  100LPS_G,100LPS_C\n",
       "AAACCCAAGGAGATAG             1412    3452.0    singlet           100LPS_B\n",
       "AAACCCAAGTACAGCG              185     245.0    singlet           100LPS_H\n",
       "AAACCCAAGTCCGCGT             1715    4448.0    singlet           100LPS_G"
      ]
     },
     "execution_count": 15,
     "metadata": {},
     "output_type": "execute_result"
    }
   ],
   "source": [
    "hash_ads['E3-1'].obs.head()"
   ]
  },
  {
   "cell_type": "code",
   "execution_count": 16,
   "metadata": {},
   "outputs": [
    {
     "name": "stdout",
     "output_type": "stream",
     "text": [
      "CPU times: user 9.97 s, sys: 7.63 s, total: 17.6 s\n",
      "Wall time: 17.6 s\n"
     ]
    },
    {
     "data": {
      "text/plain": [
       "AnnData object with n_obs × n_vars = 1258502 × 31053\n",
       "    obs: 'Channel', 'n_genes', 'n_counts', 'demux_type', 'assignment', 'mixhash'\n",
       "    var: 'gene_ids', 'robust'\n",
       "    obsm: 'raw_probs'"
      ]
     },
     "execution_count": 16,
     "metadata": {},
     "output_type": "execute_result"
    }
   ],
   "source": [
    "%%time\n",
    "\n",
    "hash_ad = sc.AnnData.concatenate(*hash_ads.values(), \n",
    "                                 batch_key='mixhash', \n",
    "                                 batch_categories=list(hash_ads.keys()))\n",
    "hash_ad"
   ]
  },
  {
   "cell_type": "code",
   "execution_count": 17,
   "metadata": {},
   "outputs": [
    {
     "data": {
      "text/html": [
       "<div>\n",
       "<style scoped>\n",
       "    .dataframe tbody tr th:only-of-type {\n",
       "        vertical-align: middle;\n",
       "    }\n",
       "\n",
       "    .dataframe tbody tr th {\n",
       "        vertical-align: top;\n",
       "    }\n",
       "\n",
       "    .dataframe thead th {\n",
       "        text-align: right;\n",
       "    }\n",
       "</style>\n",
       "<table border=\"1\" class=\"dataframe\">\n",
       "  <thead>\n",
       "    <tr style=\"text-align: right;\">\n",
       "      <th></th>\n",
       "      <th>Channel</th>\n",
       "      <th>n_genes</th>\n",
       "      <th>n_counts</th>\n",
       "      <th>demux_type</th>\n",
       "      <th>assignment</th>\n",
       "      <th>mixhash</th>\n",
       "    </tr>\n",
       "    <tr>\n",
       "      <th>index</th>\n",
       "      <th></th>\n",
       "      <th></th>\n",
       "      <th></th>\n",
       "      <th></th>\n",
       "      <th></th>\n",
       "      <th></th>\n",
       "    </tr>\n",
       "  </thead>\n",
       "  <tbody>\n",
       "    <tr>\n",
       "      <th>AAACCCAAGCGTTCCG-E3-1</th>\n",
       "      <td></td>\n",
       "      <td>1878</td>\n",
       "      <td>5915.0</td>\n",
       "      <td>singlet</td>\n",
       "      <td>100LPS_B</td>\n",
       "      <td>E3-1</td>\n",
       "    </tr>\n",
       "    <tr>\n",
       "      <th>AAACCCAAGCTTCATG-E3-1</th>\n",
       "      <td></td>\n",
       "      <td>2425</td>\n",
       "      <td>7652.0</td>\n",
       "      <td>doublet</td>\n",
       "      <td>100LPS_G,100LPS_C</td>\n",
       "      <td>E3-1</td>\n",
       "    </tr>\n",
       "    <tr>\n",
       "      <th>AAACCCAAGGAGATAG-E3-1</th>\n",
       "      <td></td>\n",
       "      <td>1412</td>\n",
       "      <td>3452.0</td>\n",
       "      <td>singlet</td>\n",
       "      <td>100LPS_B</td>\n",
       "      <td>E3-1</td>\n",
       "    </tr>\n",
       "    <tr>\n",
       "      <th>AAACCCAAGTACAGCG-E3-1</th>\n",
       "      <td></td>\n",
       "      <td>185</td>\n",
       "      <td>245.0</td>\n",
       "      <td>singlet</td>\n",
       "      <td>100LPS_H</td>\n",
       "      <td>E3-1</td>\n",
       "    </tr>\n",
       "    <tr>\n",
       "      <th>AAACCCAAGTCCGCGT-E3-1</th>\n",
       "      <td></td>\n",
       "      <td>1715</td>\n",
       "      <td>4448.0</td>\n",
       "      <td>singlet</td>\n",
       "      <td>100LPS_G</td>\n",
       "      <td>E3-1</td>\n",
       "    </tr>\n",
       "  </tbody>\n",
       "</table>\n",
       "</div>"
      ],
      "text/plain": [
       "                      Channel  n_genes  n_counts demux_type  \\\n",
       "index                                                         \n",
       "AAACCCAAGCGTTCCG-E3-1             1878    5915.0    singlet   \n",
       "AAACCCAAGCTTCATG-E3-1             2425    7652.0    doublet   \n",
       "AAACCCAAGGAGATAG-E3-1             1412    3452.0    singlet   \n",
       "AAACCCAAGTACAGCG-E3-1              185     245.0    singlet   \n",
       "AAACCCAAGTCCGCGT-E3-1             1715    4448.0    singlet   \n",
       "\n",
       "                              assignment mixhash  \n",
       "index                                             \n",
       "AAACCCAAGCGTTCCG-E3-1           100LPS_B    E3-1  \n",
       "AAACCCAAGCTTCATG-E3-1  100LPS_G,100LPS_C    E3-1  \n",
       "AAACCCAAGGAGATAG-E3-1           100LPS_B    E3-1  \n",
       "AAACCCAAGTACAGCG-E3-1           100LPS_H    E3-1  \n",
       "AAACCCAAGTCCGCGT-E3-1           100LPS_G    E3-1  "
      ]
     },
     "execution_count": 17,
     "metadata": {},
     "output_type": "execute_result"
    }
   ],
   "source": [
    "hash_ad.obs.head()"
   ]
  },
  {
   "cell_type": "code",
   "execution_count": 18,
   "metadata": {},
   "outputs": [],
   "source": [
    "hash_ad.obs.index = ['-'.join([x.split('-')[0], \n",
    "                               '1', \n",
    "                               x.split('-')[1], \n",
    "                               x.split('-')[2]]) for x in hash_ad.obs.index]"
   ]
  },
  {
   "cell_type": "code",
   "execution_count": 19,
   "metadata": {},
   "outputs": [
    {
     "data": {
      "text/html": [
       "<div>\n",
       "<style scoped>\n",
       "    .dataframe tbody tr th:only-of-type {\n",
       "        vertical-align: middle;\n",
       "    }\n",
       "\n",
       "    .dataframe tbody tr th {\n",
       "        vertical-align: top;\n",
       "    }\n",
       "\n",
       "    .dataframe thead th {\n",
       "        text-align: right;\n",
       "    }\n",
       "</style>\n",
       "<table border=\"1\" class=\"dataframe\">\n",
       "  <thead>\n",
       "    <tr style=\"text-align: right;\">\n",
       "      <th></th>\n",
       "      <th>Channel</th>\n",
       "      <th>n_genes</th>\n",
       "      <th>n_counts</th>\n",
       "      <th>demux_type</th>\n",
       "      <th>assignment</th>\n",
       "      <th>mixhash</th>\n",
       "    </tr>\n",
       "  </thead>\n",
       "  <tbody>\n",
       "    <tr>\n",
       "      <th>AAACCCAAGCGTTCCG-1-E3-1</th>\n",
       "      <td></td>\n",
       "      <td>1878</td>\n",
       "      <td>5915.0</td>\n",
       "      <td>singlet</td>\n",
       "      <td>100LPS_B</td>\n",
       "      <td>E3-1</td>\n",
       "    </tr>\n",
       "    <tr>\n",
       "      <th>AAACCCAAGCTTCATG-1-E3-1</th>\n",
       "      <td></td>\n",
       "      <td>2425</td>\n",
       "      <td>7652.0</td>\n",
       "      <td>doublet</td>\n",
       "      <td>100LPS_G,100LPS_C</td>\n",
       "      <td>E3-1</td>\n",
       "    </tr>\n",
       "    <tr>\n",
       "      <th>AAACCCAAGGAGATAG-1-E3-1</th>\n",
       "      <td></td>\n",
       "      <td>1412</td>\n",
       "      <td>3452.0</td>\n",
       "      <td>singlet</td>\n",
       "      <td>100LPS_B</td>\n",
       "      <td>E3-1</td>\n",
       "    </tr>\n",
       "    <tr>\n",
       "      <th>AAACCCAAGTACAGCG-1-E3-1</th>\n",
       "      <td></td>\n",
       "      <td>185</td>\n",
       "      <td>245.0</td>\n",
       "      <td>singlet</td>\n",
       "      <td>100LPS_H</td>\n",
       "      <td>E3-1</td>\n",
       "    </tr>\n",
       "    <tr>\n",
       "      <th>AAACCCAAGTCCGCGT-1-E3-1</th>\n",
       "      <td></td>\n",
       "      <td>1715</td>\n",
       "      <td>4448.0</td>\n",
       "      <td>singlet</td>\n",
       "      <td>100LPS_G</td>\n",
       "      <td>E3-1</td>\n",
       "    </tr>\n",
       "  </tbody>\n",
       "</table>\n",
       "</div>"
      ],
      "text/plain": [
       "                        Channel  n_genes  n_counts demux_type  \\\n",
       "AAACCCAAGCGTTCCG-1-E3-1             1878    5915.0    singlet   \n",
       "AAACCCAAGCTTCATG-1-E3-1             2425    7652.0    doublet   \n",
       "AAACCCAAGGAGATAG-1-E3-1             1412    3452.0    singlet   \n",
       "AAACCCAAGTACAGCG-1-E3-1              185     245.0    singlet   \n",
       "AAACCCAAGTCCGCGT-1-E3-1             1715    4448.0    singlet   \n",
       "\n",
       "                                assignment mixhash  \n",
       "AAACCCAAGCGTTCCG-1-E3-1           100LPS_B    E3-1  \n",
       "AAACCCAAGCTTCATG-1-E3-1  100LPS_G,100LPS_C    E3-1  \n",
       "AAACCCAAGGAGATAG-1-E3-1           100LPS_B    E3-1  \n",
       "AAACCCAAGTACAGCG-1-E3-1           100LPS_H    E3-1  \n",
       "AAACCCAAGTCCGCGT-1-E3-1           100LPS_G    E3-1  "
      ]
     },
     "execution_count": 19,
     "metadata": {},
     "output_type": "execute_result"
    }
   ],
   "source": [
    "hash_ad.obs.head()"
   ]
  },
  {
   "cell_type": "code",
   "execution_count": 20,
   "metadata": {},
   "outputs": [
    {
     "data": {
      "text/html": [
       "<div>\n",
       "<style scoped>\n",
       "    .dataframe tbody tr th:only-of-type {\n",
       "        vertical-align: middle;\n",
       "    }\n",
       "\n",
       "    .dataframe tbody tr th {\n",
       "        vertical-align: top;\n",
       "    }\n",
       "\n",
       "    .dataframe thead th {\n",
       "        text-align: right;\n",
       "    }\n",
       "</style>\n",
       "<table border=\"1\" class=\"dataframe\">\n",
       "  <thead>\n",
       "    <tr style=\"text-align: right;\">\n",
       "      <th></th>\n",
       "      <th>barcode_rank</th>\n",
       "      <th>channel</th>\n",
       "      <th>empty_drops_FDR</th>\n",
       "      <th>log10_n_genes</th>\n",
       "      <th>log10_n_umis</th>\n",
       "      <th>mt_frac</th>\n",
       "      <th>n_counts</th>\n",
       "      <th>n_genes</th>\n",
       "      <th>n_umis</th>\n",
       "      <th>neg_log10_empty_drops_FDR</th>\n",
       "      <th>raw</th>\n",
       "      <th>round</th>\n",
       "      <th>sample_name</th>\n",
       "    </tr>\n",
       "  </thead>\n",
       "  <tbody>\n",
       "    <tr>\n",
       "      <th>AAACCCAAGCGTTCCG-1-E3-1</th>\n",
       "      <td>4441.0</td>\n",
       "      <td>1</td>\n",
       "      <td>0.0</td>\n",
       "      <td>3.273696</td>\n",
       "      <td>3.771955</td>\n",
       "      <td>0.064243</td>\n",
       "      <td>5915.0</td>\n",
       "      <td>1878</td>\n",
       "      <td>5915.0</td>\n",
       "      <td>4.0</td>\n",
       "      <td>True</td>\n",
       "      <td>E3</td>\n",
       "      <td>E3-1</td>\n",
       "    </tr>\n",
       "    <tr>\n",
       "      <th>AAACCCAAGCTTCATG-1-E3-1</th>\n",
       "      <td>1588.0</td>\n",
       "      <td>1</td>\n",
       "      <td>0.0</td>\n",
       "      <td>3.384712</td>\n",
       "      <td>3.883775</td>\n",
       "      <td>0.062729</td>\n",
       "      <td>7652.0</td>\n",
       "      <td>2425</td>\n",
       "      <td>7652.0</td>\n",
       "      <td>4.0</td>\n",
       "      <td>True</td>\n",
       "      <td>E3</td>\n",
       "      <td>E3-1</td>\n",
       "    </tr>\n",
       "    <tr>\n",
       "      <th>AAACCCAAGGAGATAG-1-E3-1</th>\n",
       "      <td>15850.0</td>\n",
       "      <td>1</td>\n",
       "      <td>0.0</td>\n",
       "      <td>3.149835</td>\n",
       "      <td>3.538071</td>\n",
       "      <td>0.043163</td>\n",
       "      <td>3452.0</td>\n",
       "      <td>1412</td>\n",
       "      <td>3452.0</td>\n",
       "      <td>4.0</td>\n",
       "      <td>True</td>\n",
       "      <td>E3</td>\n",
       "      <td>E3-1</td>\n",
       "    </tr>\n",
       "    <tr>\n",
       "      <th>AAACCCAAGTCCGCGT-1-E3-1</th>\n",
       "      <td>9651.5</td>\n",
       "      <td>1</td>\n",
       "      <td>0.0</td>\n",
       "      <td>3.234264</td>\n",
       "      <td>3.648165</td>\n",
       "      <td>0.071493</td>\n",
       "      <td>4448.0</td>\n",
       "      <td>1715</td>\n",
       "      <td>4448.0</td>\n",
       "      <td>4.0</td>\n",
       "      <td>True</td>\n",
       "      <td>E3</td>\n",
       "      <td>E3-1</td>\n",
       "    </tr>\n",
       "    <tr>\n",
       "      <th>AAACCCACAAAGGCTG-1-E3-1</th>\n",
       "      <td>1517.0</td>\n",
       "      <td>1</td>\n",
       "      <td>0.0</td>\n",
       "      <td>3.382017</td>\n",
       "      <td>3.887898</td>\n",
       "      <td>0.074822</td>\n",
       "      <td>7725.0</td>\n",
       "      <td>2410</td>\n",
       "      <td>7725.0</td>\n",
       "      <td>4.0</td>\n",
       "      <td>True</td>\n",
       "      <td>E3</td>\n",
       "      <td>E3-1</td>\n",
       "    </tr>\n",
       "  </tbody>\n",
       "</table>\n",
       "</div>"
      ],
      "text/plain": [
       "                         barcode_rank  channel  empty_drops_FDR  \\\n",
       "AAACCCAAGCGTTCCG-1-E3-1        4441.0        1              0.0   \n",
       "AAACCCAAGCTTCATG-1-E3-1        1588.0        1              0.0   \n",
       "AAACCCAAGGAGATAG-1-E3-1       15850.0        1              0.0   \n",
       "AAACCCAAGTCCGCGT-1-E3-1        9651.5        1              0.0   \n",
       "AAACCCACAAAGGCTG-1-E3-1        1517.0        1              0.0   \n",
       "\n",
       "                         log10_n_genes  log10_n_umis   mt_frac  n_counts  \\\n",
       "AAACCCAAGCGTTCCG-1-E3-1       3.273696      3.771955  0.064243    5915.0   \n",
       "AAACCCAAGCTTCATG-1-E3-1       3.384712      3.883775  0.062729    7652.0   \n",
       "AAACCCAAGGAGATAG-1-E3-1       3.149835      3.538071  0.043163    3452.0   \n",
       "AAACCCAAGTCCGCGT-1-E3-1       3.234264      3.648165  0.071493    4448.0   \n",
       "AAACCCACAAAGGCTG-1-E3-1       3.382017      3.887898  0.074822    7725.0   \n",
       "\n",
       "                         n_genes  n_umis  neg_log10_empty_drops_FDR   raw  \\\n",
       "AAACCCAAGCGTTCCG-1-E3-1     1878  5915.0                        4.0  True   \n",
       "AAACCCAAGCTTCATG-1-E3-1     2425  7652.0                        4.0  True   \n",
       "AAACCCAAGGAGATAG-1-E3-1     1412  3452.0                        4.0  True   \n",
       "AAACCCAAGTCCGCGT-1-E3-1     1715  4448.0                        4.0  True   \n",
       "AAACCCACAAAGGCTG-1-E3-1     2410  7725.0                        4.0  True   \n",
       "\n",
       "                        round sample_name  \n",
       "AAACCCAAGCGTTCCG-1-E3-1    E3        E3-1  \n",
       "AAACCCAAGCTTCATG-1-E3-1    E3        E3-1  \n",
       "AAACCCAAGGAGATAG-1-E3-1    E3        E3-1  \n",
       "AAACCCAAGTCCGCGT-1-E3-1    E3        E3-1  \n",
       "AAACCCACAAAGGCTG-1-E3-1    E3        E3-1  "
      ]
     },
     "execution_count": 20,
     "metadata": {},
     "output_type": "execute_result"
    }
   ],
   "source": [
    "adata.obs.head()"
   ]
  },
  {
   "cell_type": "code",
   "execution_count": 21,
   "metadata": {},
   "outputs": [
    {
     "data": {
      "text/plain": [
       "(1071671, 13811)"
      ]
     },
     "execution_count": 21,
     "metadata": {},
     "output_type": "execute_result"
    }
   ],
   "source": [
    "adata.shape"
   ]
  },
  {
   "cell_type": "code",
   "execution_count": 22,
   "metadata": {},
   "outputs": [
    {
     "data": {
      "text/plain": [
       "(1258502, 31053)"
      ]
     },
     "execution_count": 22,
     "metadata": {},
     "output_type": "execute_result"
    }
   ],
   "source": [
    "hash_ad.shape"
   ]
  },
  {
   "cell_type": "code",
   "execution_count": 23,
   "metadata": {},
   "outputs": [
    {
     "data": {
      "text/plain": [
       "1071671"
      ]
     },
     "execution_count": 23,
     "metadata": {},
     "output_type": "execute_result"
    }
   ],
   "source": [
    "len(set(adata.obs.index.tolist()) & set(hash_ad.obs.index.tolist()))"
   ]
  },
  {
   "cell_type": "code",
   "execution_count": 24,
   "metadata": {},
   "outputs": [],
   "source": [
    "adata.obs['demux_type'] = hash_ad.obs.demux_type\n",
    "adata.obs['hash_assignment'] = hash_ad.obs.assignment"
   ]
  },
  {
   "cell_type": "code",
   "execution_count": 25,
   "metadata": {},
   "outputs": [
    {
     "data": {
      "text/plain": [
       "(1071671, 15)"
      ]
     },
     "execution_count": 25,
     "metadata": {},
     "output_type": "execute_result"
    }
   ],
   "source": [
    "adata.obs.shape"
   ]
  },
  {
   "cell_type": "code",
   "execution_count": 26,
   "metadata": {},
   "outputs": [
    {
     "data": {
      "text/html": [
       "<div>\n",
       "<style scoped>\n",
       "    .dataframe tbody tr th:only-of-type {\n",
       "        vertical-align: middle;\n",
       "    }\n",
       "\n",
       "    .dataframe tbody tr th {\n",
       "        vertical-align: top;\n",
       "    }\n",
       "\n",
       "    .dataframe thead th {\n",
       "        text-align: right;\n",
       "    }\n",
       "</style>\n",
       "<table border=\"1\" class=\"dataframe\">\n",
       "  <thead>\n",
       "    <tr style=\"text-align: right;\">\n",
       "      <th></th>\n",
       "      <th>Channel</th>\n",
       "      <th>n_genes</th>\n",
       "      <th>n_counts</th>\n",
       "      <th>demux_type</th>\n",
       "      <th>assignment</th>\n",
       "      <th>mixhash</th>\n",
       "    </tr>\n",
       "  </thead>\n",
       "  <tbody>\n",
       "    <tr>\n",
       "      <th>TTTGTTGTCATTCTTG-1-E4-9</th>\n",
       "      <td></td>\n",
       "      <td>100</td>\n",
       "      <td>115.0</td>\n",
       "      <td>unknown</td>\n",
       "      <td></td>\n",
       "      <td>E4-9</td>\n",
       "    </tr>\n",
       "    <tr>\n",
       "      <th>TTTGTTGTCCGTCACT-1-E4-9</th>\n",
       "      <td></td>\n",
       "      <td>107</td>\n",
       "      <td>127.0</td>\n",
       "      <td>unknown</td>\n",
       "      <td></td>\n",
       "      <td>E4-9</td>\n",
       "    </tr>\n",
       "    <tr>\n",
       "      <th>TTTGTTGTCCGTGGTG-1-E4-9</th>\n",
       "      <td></td>\n",
       "      <td>1771</td>\n",
       "      <td>4500.0</td>\n",
       "      <td>singlet</td>\n",
       "      <td>100LPS_B</td>\n",
       "      <td>E4-9</td>\n",
       "    </tr>\n",
       "    <tr>\n",
       "      <th>TTTGTTGTCGACCAAT-1-E4-9</th>\n",
       "      <td></td>\n",
       "      <td>2608</td>\n",
       "      <td>7824.0</td>\n",
       "      <td>doublet</td>\n",
       "      <td>100LPS_D,100LPS_E</td>\n",
       "      <td>E4-9</td>\n",
       "    </tr>\n",
       "    <tr>\n",
       "      <th>TTTGTTGTCTCAACCC-1-E4-9</th>\n",
       "      <td></td>\n",
       "      <td>2109</td>\n",
       "      <td>6072.0</td>\n",
       "      <td>singlet</td>\n",
       "      <td>100LPS_C</td>\n",
       "      <td>E4-9</td>\n",
       "    </tr>\n",
       "  </tbody>\n",
       "</table>\n",
       "</div>"
      ],
      "text/plain": [
       "                        Channel  n_genes  n_counts demux_type  \\\n",
       "TTTGTTGTCATTCTTG-1-E4-9              100     115.0    unknown   \n",
       "TTTGTTGTCCGTCACT-1-E4-9              107     127.0    unknown   \n",
       "TTTGTTGTCCGTGGTG-1-E4-9             1771    4500.0    singlet   \n",
       "TTTGTTGTCGACCAAT-1-E4-9             2608    7824.0    doublet   \n",
       "TTTGTTGTCTCAACCC-1-E4-9             2109    6072.0    singlet   \n",
       "\n",
       "                                assignment mixhash  \n",
       "TTTGTTGTCATTCTTG-1-E4-9                       E4-9  \n",
       "TTTGTTGTCCGTCACT-1-E4-9                       E4-9  \n",
       "TTTGTTGTCCGTGGTG-1-E4-9           100LPS_B    E4-9  \n",
       "TTTGTTGTCGACCAAT-1-E4-9  100LPS_D,100LPS_E    E4-9  \n",
       "TTTGTTGTCTCAACCC-1-E4-9           100LPS_C    E4-9  "
      ]
     },
     "execution_count": 26,
     "metadata": {},
     "output_type": "execute_result"
    }
   ],
   "source": [
    "hash_ad.obs.tail()"
   ]
  },
  {
   "cell_type": "code",
   "execution_count": 27,
   "metadata": {},
   "outputs": [
    {
     "data": {
      "text/html": [
       "<div>\n",
       "<style scoped>\n",
       "    .dataframe tbody tr th:only-of-type {\n",
       "        vertical-align: middle;\n",
       "    }\n",
       "\n",
       "    .dataframe tbody tr th {\n",
       "        vertical-align: top;\n",
       "    }\n",
       "\n",
       "    .dataframe thead th {\n",
       "        text-align: right;\n",
       "    }\n",
       "</style>\n",
       "<table border=\"1\" class=\"dataframe\">\n",
       "  <thead>\n",
       "    <tr style=\"text-align: right;\">\n",
       "      <th></th>\n",
       "      <th>barcode_rank</th>\n",
       "      <th>channel</th>\n",
       "      <th>empty_drops_FDR</th>\n",
       "      <th>log10_n_genes</th>\n",
       "      <th>log10_n_umis</th>\n",
       "      <th>mt_frac</th>\n",
       "      <th>n_counts</th>\n",
       "      <th>n_genes</th>\n",
       "      <th>n_umis</th>\n",
       "      <th>neg_log10_empty_drops_FDR</th>\n",
       "      <th>raw</th>\n",
       "      <th>round</th>\n",
       "      <th>sample_name</th>\n",
       "      <th>demux_type</th>\n",
       "      <th>hash_assignment</th>\n",
       "    </tr>\n",
       "  </thead>\n",
       "  <tbody>\n",
       "    <tr>\n",
       "      <th>AAACCCAAGCGTTCCG-1-E3-1</th>\n",
       "      <td>4441.0</td>\n",
       "      <td>1</td>\n",
       "      <td>0.0</td>\n",
       "      <td>3.273696</td>\n",
       "      <td>3.771955</td>\n",
       "      <td>0.064243</td>\n",
       "      <td>5915.0</td>\n",
       "      <td>1878</td>\n",
       "      <td>5915.0</td>\n",
       "      <td>4.0</td>\n",
       "      <td>True</td>\n",
       "      <td>E3</td>\n",
       "      <td>E3-1</td>\n",
       "      <td>singlet</td>\n",
       "      <td>100LPS_B</td>\n",
       "    </tr>\n",
       "    <tr>\n",
       "      <th>AAACCCAAGCTTCATG-1-E3-1</th>\n",
       "      <td>1588.0</td>\n",
       "      <td>1</td>\n",
       "      <td>0.0</td>\n",
       "      <td>3.384712</td>\n",
       "      <td>3.883775</td>\n",
       "      <td>0.062729</td>\n",
       "      <td>7652.0</td>\n",
       "      <td>2425</td>\n",
       "      <td>7652.0</td>\n",
       "      <td>4.0</td>\n",
       "      <td>True</td>\n",
       "      <td>E3</td>\n",
       "      <td>E3-1</td>\n",
       "      <td>doublet</td>\n",
       "      <td>100LPS_G,100LPS_C</td>\n",
       "    </tr>\n",
       "    <tr>\n",
       "      <th>AAACCCAAGGAGATAG-1-E3-1</th>\n",
       "      <td>15850.0</td>\n",
       "      <td>1</td>\n",
       "      <td>0.0</td>\n",
       "      <td>3.149835</td>\n",
       "      <td>3.538071</td>\n",
       "      <td>0.043163</td>\n",
       "      <td>3452.0</td>\n",
       "      <td>1412</td>\n",
       "      <td>3452.0</td>\n",
       "      <td>4.0</td>\n",
       "      <td>True</td>\n",
       "      <td>E3</td>\n",
       "      <td>E3-1</td>\n",
       "      <td>singlet</td>\n",
       "      <td>100LPS_B</td>\n",
       "    </tr>\n",
       "    <tr>\n",
       "      <th>AAACCCAAGTCCGCGT-1-E3-1</th>\n",
       "      <td>9651.5</td>\n",
       "      <td>1</td>\n",
       "      <td>0.0</td>\n",
       "      <td>3.234264</td>\n",
       "      <td>3.648165</td>\n",
       "      <td>0.071493</td>\n",
       "      <td>4448.0</td>\n",
       "      <td>1715</td>\n",
       "      <td>4448.0</td>\n",
       "      <td>4.0</td>\n",
       "      <td>True</td>\n",
       "      <td>E3</td>\n",
       "      <td>E3-1</td>\n",
       "      <td>singlet</td>\n",
       "      <td>100LPS_G</td>\n",
       "    </tr>\n",
       "    <tr>\n",
       "      <th>AAACCCACAAAGGCTG-1-E3-1</th>\n",
       "      <td>1517.0</td>\n",
       "      <td>1</td>\n",
       "      <td>0.0</td>\n",
       "      <td>3.382017</td>\n",
       "      <td>3.887898</td>\n",
       "      <td>0.074822</td>\n",
       "      <td>7725.0</td>\n",
       "      <td>2410</td>\n",
       "      <td>7725.0</td>\n",
       "      <td>4.0</td>\n",
       "      <td>True</td>\n",
       "      <td>E3</td>\n",
       "      <td>E3-1</td>\n",
       "      <td>singlet</td>\n",
       "      <td>100LPS_H</td>\n",
       "    </tr>\n",
       "  </tbody>\n",
       "</table>\n",
       "</div>"
      ],
      "text/plain": [
       "                         barcode_rank  channel  empty_drops_FDR  \\\n",
       "AAACCCAAGCGTTCCG-1-E3-1        4441.0        1              0.0   \n",
       "AAACCCAAGCTTCATG-1-E3-1        1588.0        1              0.0   \n",
       "AAACCCAAGGAGATAG-1-E3-1       15850.0        1              0.0   \n",
       "AAACCCAAGTCCGCGT-1-E3-1        9651.5        1              0.0   \n",
       "AAACCCACAAAGGCTG-1-E3-1        1517.0        1              0.0   \n",
       "\n",
       "                         log10_n_genes  log10_n_umis   mt_frac  n_counts  \\\n",
       "AAACCCAAGCGTTCCG-1-E3-1       3.273696      3.771955  0.064243    5915.0   \n",
       "AAACCCAAGCTTCATG-1-E3-1       3.384712      3.883775  0.062729    7652.0   \n",
       "AAACCCAAGGAGATAG-1-E3-1       3.149835      3.538071  0.043163    3452.0   \n",
       "AAACCCAAGTCCGCGT-1-E3-1       3.234264      3.648165  0.071493    4448.0   \n",
       "AAACCCACAAAGGCTG-1-E3-1       3.382017      3.887898  0.074822    7725.0   \n",
       "\n",
       "                         n_genes  n_umis  neg_log10_empty_drops_FDR   raw  \\\n",
       "AAACCCAAGCGTTCCG-1-E3-1     1878  5915.0                        4.0  True   \n",
       "AAACCCAAGCTTCATG-1-E3-1     2425  7652.0                        4.0  True   \n",
       "AAACCCAAGGAGATAG-1-E3-1     1412  3452.0                        4.0  True   \n",
       "AAACCCAAGTCCGCGT-1-E3-1     1715  4448.0                        4.0  True   \n",
       "AAACCCACAAAGGCTG-1-E3-1     2410  7725.0                        4.0  True   \n",
       "\n",
       "                        round sample_name demux_type    hash_assignment  \n",
       "AAACCCAAGCGTTCCG-1-E3-1    E3        E3-1    singlet           100LPS_B  \n",
       "AAACCCAAGCTTCATG-1-E3-1    E3        E3-1    doublet  100LPS_G,100LPS_C  \n",
       "AAACCCAAGGAGATAG-1-E3-1    E3        E3-1    singlet           100LPS_B  \n",
       "AAACCCAAGTCCGCGT-1-E3-1    E3        E3-1    singlet           100LPS_G  \n",
       "AAACCCACAAAGGCTG-1-E3-1    E3        E3-1    singlet           100LPS_H  "
      ]
     },
     "execution_count": 27,
     "metadata": {},
     "output_type": "execute_result"
    }
   ],
   "source": [
    "adata.obs.head()"
   ]
  },
  {
   "cell_type": "code",
   "execution_count": 28,
   "metadata": {},
   "outputs": [
    {
     "data": {
      "text/html": [
       "<div>\n",
       "<style scoped>\n",
       "    .dataframe tbody tr th:only-of-type {\n",
       "        vertical-align: middle;\n",
       "    }\n",
       "\n",
       "    .dataframe tbody tr th {\n",
       "        vertical-align: top;\n",
       "    }\n",
       "\n",
       "    .dataframe thead th {\n",
       "        text-align: right;\n",
       "    }\n",
       "</style>\n",
       "<table border=\"1\" class=\"dataframe\">\n",
       "  <thead>\n",
       "    <tr style=\"text-align: right;\">\n",
       "      <th></th>\n",
       "      <th>barcode_rank</th>\n",
       "      <th>channel</th>\n",
       "      <th>empty_drops_FDR</th>\n",
       "      <th>log10_n_genes</th>\n",
       "      <th>log10_n_umis</th>\n",
       "      <th>mt_frac</th>\n",
       "      <th>n_counts</th>\n",
       "      <th>n_genes</th>\n",
       "      <th>n_umis</th>\n",
       "      <th>neg_log10_empty_drops_FDR</th>\n",
       "      <th>raw</th>\n",
       "      <th>round</th>\n",
       "      <th>sample_name</th>\n",
       "      <th>demux_type</th>\n",
       "      <th>hash_assignment</th>\n",
       "    </tr>\n",
       "  </thead>\n",
       "  <tbody>\n",
       "    <tr>\n",
       "      <th>AAACCCAAGCGTTCCG-1-E3-1</th>\n",
       "      <td>4441.0</td>\n",
       "      <td>1</td>\n",
       "      <td>0.0</td>\n",
       "      <td>3.273696</td>\n",
       "      <td>3.771955</td>\n",
       "      <td>0.064243</td>\n",
       "      <td>5915.0</td>\n",
       "      <td>1878</td>\n",
       "      <td>5915.0</td>\n",
       "      <td>4.0</td>\n",
       "      <td>True</td>\n",
       "      <td>E3</td>\n",
       "      <td>E3-1</td>\n",
       "      <td>singlet</td>\n",
       "      <td>100LPS_B</td>\n",
       "    </tr>\n",
       "    <tr>\n",
       "      <th>AAACCCAAGCTTCATG-1-E3-1</th>\n",
       "      <td>1588.0</td>\n",
       "      <td>1</td>\n",
       "      <td>0.0</td>\n",
       "      <td>3.384712</td>\n",
       "      <td>3.883775</td>\n",
       "      <td>0.062729</td>\n",
       "      <td>7652.0</td>\n",
       "      <td>2425</td>\n",
       "      <td>7652.0</td>\n",
       "      <td>4.0</td>\n",
       "      <td>True</td>\n",
       "      <td>E3</td>\n",
       "      <td>E3-1</td>\n",
       "      <td>doublet</td>\n",
       "      <td>100LPS_G,100LPS_C</td>\n",
       "    </tr>\n",
       "    <tr>\n",
       "      <th>AAACCCAAGGAGATAG-1-E3-1</th>\n",
       "      <td>15850.0</td>\n",
       "      <td>1</td>\n",
       "      <td>0.0</td>\n",
       "      <td>3.149835</td>\n",
       "      <td>3.538071</td>\n",
       "      <td>0.043163</td>\n",
       "      <td>3452.0</td>\n",
       "      <td>1412</td>\n",
       "      <td>3452.0</td>\n",
       "      <td>4.0</td>\n",
       "      <td>True</td>\n",
       "      <td>E3</td>\n",
       "      <td>E3-1</td>\n",
       "      <td>singlet</td>\n",
       "      <td>100LPS_B</td>\n",
       "    </tr>\n",
       "    <tr>\n",
       "      <th>AAACCCAAGTCCGCGT-1-E3-1</th>\n",
       "      <td>9651.5</td>\n",
       "      <td>1</td>\n",
       "      <td>0.0</td>\n",
       "      <td>3.234264</td>\n",
       "      <td>3.648165</td>\n",
       "      <td>0.071493</td>\n",
       "      <td>4448.0</td>\n",
       "      <td>1715</td>\n",
       "      <td>4448.0</td>\n",
       "      <td>4.0</td>\n",
       "      <td>True</td>\n",
       "      <td>E3</td>\n",
       "      <td>E3-1</td>\n",
       "      <td>singlet</td>\n",
       "      <td>100LPS_G</td>\n",
       "    </tr>\n",
       "    <tr>\n",
       "      <th>AAACCCACAAAGGCTG-1-E3-1</th>\n",
       "      <td>1517.0</td>\n",
       "      <td>1</td>\n",
       "      <td>0.0</td>\n",
       "      <td>3.382017</td>\n",
       "      <td>3.887898</td>\n",
       "      <td>0.074822</td>\n",
       "      <td>7725.0</td>\n",
       "      <td>2410</td>\n",
       "      <td>7725.0</td>\n",
       "      <td>4.0</td>\n",
       "      <td>True</td>\n",
       "      <td>E3</td>\n",
       "      <td>E3-1</td>\n",
       "      <td>singlet</td>\n",
       "      <td>100LPS_H</td>\n",
       "    </tr>\n",
       "  </tbody>\n",
       "</table>\n",
       "</div>"
      ],
      "text/plain": [
       "                         barcode_rank  channel  empty_drops_FDR  \\\n",
       "AAACCCAAGCGTTCCG-1-E3-1        4441.0        1              0.0   \n",
       "AAACCCAAGCTTCATG-1-E3-1        1588.0        1              0.0   \n",
       "AAACCCAAGGAGATAG-1-E3-1       15850.0        1              0.0   \n",
       "AAACCCAAGTCCGCGT-1-E3-1        9651.5        1              0.0   \n",
       "AAACCCACAAAGGCTG-1-E3-1        1517.0        1              0.0   \n",
       "\n",
       "                         log10_n_genes  log10_n_umis   mt_frac  n_counts  \\\n",
       "AAACCCAAGCGTTCCG-1-E3-1       3.273696      3.771955  0.064243    5915.0   \n",
       "AAACCCAAGCTTCATG-1-E3-1       3.384712      3.883775  0.062729    7652.0   \n",
       "AAACCCAAGGAGATAG-1-E3-1       3.149835      3.538071  0.043163    3452.0   \n",
       "AAACCCAAGTCCGCGT-1-E3-1       3.234264      3.648165  0.071493    4448.0   \n",
       "AAACCCACAAAGGCTG-1-E3-1       3.382017      3.887898  0.074822    7725.0   \n",
       "\n",
       "                         n_genes  n_umis  neg_log10_empty_drops_FDR   raw  \\\n",
       "AAACCCAAGCGTTCCG-1-E3-1     1878  5915.0                        4.0  True   \n",
       "AAACCCAAGCTTCATG-1-E3-1     2425  7652.0                        4.0  True   \n",
       "AAACCCAAGGAGATAG-1-E3-1     1412  3452.0                        4.0  True   \n",
       "AAACCCAAGTCCGCGT-1-E3-1     1715  4448.0                        4.0  True   \n",
       "AAACCCACAAAGGCTG-1-E3-1     2410  7725.0                        4.0  True   \n",
       "\n",
       "                        round sample_name demux_type    hash_assignment  \n",
       "AAACCCAAGCGTTCCG-1-E3-1    E3        E3-1    singlet           100LPS_B  \n",
       "AAACCCAAGCTTCATG-1-E3-1    E3        E3-1    doublet  100LPS_G,100LPS_C  \n",
       "AAACCCAAGGAGATAG-1-E3-1    E3        E3-1    singlet           100LPS_B  \n",
       "AAACCCAAGTCCGCGT-1-E3-1    E3        E3-1    singlet           100LPS_G  \n",
       "AAACCCACAAAGGCTG-1-E3-1    E3        E3-1    singlet           100LPS_H  "
      ]
     },
     "execution_count": 28,
     "metadata": {},
     "output_type": "execute_result"
    }
   ],
   "source": [
    "adata.obs.head()"
   ]
  },
  {
   "cell_type": "code",
   "execution_count": 29,
   "metadata": {},
   "outputs": [],
   "source": [
    "adata.obs['hash_assignment'] = adata.obs['hash_assignment'].astype('category')"
   ]
  },
  {
   "cell_type": "code",
   "execution_count": 30,
   "metadata": {},
   "outputs": [
    {
     "data": {
      "text/plain": [
       "Index(['', '100LPS_A', '100LPS_A,100LPS_B', '100LPS_A,100LPS_B,100LPS_C',\n",
       "       '100LPS_A,100LPS_B,100LPS_C,100LPS_D',\n",
       "       '100LPS_A,100LPS_B,100LPS_C,100LPS_E',\n",
       "       '100LPS_A,100LPS_B,100LPS_C,100LPS_F',\n",
       "       '100LPS_A,100LPS_B,100LPS_C,100LPS_F,100LPS_D',\n",
       "       '100LPS_A,100LPS_B,100LPS_C,100LPS_F,100LPS_E',\n",
       "       '100LPS_A,100LPS_B,100LPS_C,100LPS_F,100LPS_H',\n",
       "       ...\n",
       "       '100LPS_H,100LPS_G,100LPS_D,100LPS_E,100LPS_A',\n",
       "       '100LPS_H,100LPS_G,100LPS_D,100LPS_F',\n",
       "       '100LPS_H,100LPS_G,100LPS_D,100LPS_F,100LPS_B',\n",
       "       '100LPS_H,100LPS_G,100LPS_E', '100LPS_H,100LPS_G,100LPS_E,100LPS_A',\n",
       "       '100LPS_H,100LPS_G,100LPS_E,100LPS_C',\n",
       "       '100LPS_H,100LPS_G,100LPS_E,100LPS_D',\n",
       "       '100LPS_H,100LPS_G,100LPS_E,100LPS_F', '100LPS_H,100LPS_G,100LPS_F',\n",
       "       '100LPS_H,100LPS_G,100LPS_F,100LPS_D'],\n",
       "      dtype='object', length=2142)"
      ]
     },
     "execution_count": 30,
     "metadata": {},
     "output_type": "execute_result"
    }
   ],
   "source": [
    "adata.obs['hash_assignment'].cat.categories"
   ]
  },
  {
   "cell_type": "markdown",
   "metadata": {},
   "source": [
    "Filter out doublets and multiplets\n"
   ]
  },
  {
   "cell_type": "code",
   "execution_count": 31,
   "metadata": {},
   "outputs": [
    {
     "name": "stderr",
     "output_type": "stream",
     "text": [
      "/home/beraslan/anaconda3/lib/python3.7/site-packages/pandas/core/arrays/categorical.py:2487: FutureWarning: The `inplace` parameter in pandas.Categorical.remove_unused_categories is deprecated and will be removed in a future version.\n",
      "  res = method(*args, **kwargs)\n"
     ]
    }
   ],
   "source": [
    "adata = adata[adata.obs.demux_type == 'singlet']"
   ]
  },
  {
   "cell_type": "code",
   "execution_count": 32,
   "metadata": {},
   "outputs": [
    {
     "data": {
      "text/plain": [
       "(838201, 15)"
      ]
     },
     "execution_count": 32,
     "metadata": {},
     "output_type": "execute_result"
    }
   ],
   "source": [
    "adata.obs.shape"
   ]
  },
  {
   "cell_type": "code",
   "execution_count": 33,
   "metadata": {},
   "outputs": [],
   "source": [
    "adata.write('outputs/anndata/adataSinglets.h5ad')"
   ]
  }
 ],
 "metadata": {
  "kernelspec": {
   "display_name": "Python 3 (ipykernel)",
   "language": "python",
   "name": "python3"
  },
  "language_info": {
   "codemirror_mode": {
    "name": "ipython",
    "version": 3
   },
   "file_extension": ".py",
   "mimetype": "text/x-python",
   "name": "python",
   "nbconvert_exporter": "python",
   "pygments_lexer": "ipython3",
   "version": "3.8.13"
  }
 },
 "nbformat": 4,
 "nbformat_minor": 4
}
