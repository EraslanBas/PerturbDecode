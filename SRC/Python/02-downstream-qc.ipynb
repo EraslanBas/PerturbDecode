{
 "cells": [
  {
   "cell_type": "markdown",
   "metadata": {
    "papermill": {
     "duration": 0.024462,
     "end_time": "2020-02-18T17:01:02.856541",
     "exception": false,
     "start_time": "2020-02-18T17:01:02.832079",
     "status": "completed"
    },
    "tags": []
   },
   "source": [
    "# 02a Downstream QC"
   ]
  },
  {
   "cell_type": "code",
   "execution_count": 1,
   "metadata": {
    "papermill": {
     "duration": 2.497662,
     "end_time": "2020-02-03T11:16:52.810525",
     "exception": false,
     "start_time": "2020-02-03T11:16:50.312863",
     "status": "completed"
    },
    "tags": []
   },
   "outputs": [],
   "source": [
    "from libraries import *\n",
    "from parameters import *"
   ]
  },
  {
   "cell_type": "code",
   "execution_count": 2,
   "metadata": {
    "papermill": {
     "duration": 0.391954,
     "end_time": "2020-02-02T03:12:57.617897",
     "exception": false,
     "start_time": "2020-02-02T03:12:57.225943",
     "status": "completed"
    },
    "tags": []
   },
   "outputs": [],
   "source": [
    "%load_ext rpy2.ipython"
   ]
  },
  {
   "cell_type": "code",
   "execution_count": 3,
   "metadata": {},
   "outputs": [],
   "source": [
    "os.getcwd()\n",
    "os.chdir(projectDir)"
   ]
  },
  {
   "cell_type": "markdown",
   "metadata": {
    "papermill": {
     "duration": 0.028129,
     "end_time": "2020-02-18T17:01:10.290199",
     "exception": false,
     "start_time": "2020-02-18T17:01:10.262070",
     "status": "completed"
    },
    "tags": []
   },
   "source": [
    "***"
   ]
  },
  {
   "cell_type": "markdown",
   "metadata": {
    "papermill": {
     "duration": 0.025583,
     "end_time": "2020-02-18T17:01:10.341092",
     "exception": false,
     "start_time": "2020-02-18T17:01:10.315509",
     "status": "completed"
    },
    "tags": []
   },
   "source": [
    "## Load session"
   ]
  },
  {
   "cell_type": "code",
   "execution_count": 4,
   "metadata": {
    "papermill": {
     "duration": 287.025042,
     "end_time": "2020-02-18T17:05:57.391263",
     "exception": false,
     "start_time": "2020-02-18T17:01:10.366221",
     "status": "completed"
    },
    "tags": []
   },
   "outputs": [],
   "source": [
    "with shelve.open('session_01.pkl', protocol=4, writeback=False) as db:\n",
    "    for k in db.keys():\n",
    "        globals()[k] = db[k]"
   ]
  },
  {
   "cell_type": "markdown",
   "metadata": {
    "papermill": {
     "duration": 0.023321,
     "end_time": "2020-02-18T17:05:57.614522",
     "exception": false,
     "start_time": "2020-02-18T17:05:57.591201",
     "status": "completed"
    },
    "tags": []
   },
   "source": [
    "***"
   ]
  },
  {
   "cell_type": "code",
   "execution_count": 5,
   "metadata": {
    "collapsed": true,
    "jupyter": {
     "outputs_hidden": true
    },
    "papermill": {
     "duration": 0.040445,
     "end_time": "2020-02-18T17:05:57.678627",
     "exception": false,
     "start_time": "2020-02-18T17:05:57.638182",
     "status": "completed"
    },
    "tags": []
   },
   "outputs": [
    {
     "data": {
      "text/plain": [
       "{'E3-1': AnnData object with n_obs × n_vars = 22667 × 31053\n",
       "     obs: 'sample_name', 'raw', 'round', 'channel', 'empty_drops_FDR', 'neg_log10_empty_drops_FDR', 'n_umis', 'n_genes', 'log10_n_umis', 'log10_n_genes', 'barcode_rank', 'mt_frac'\n",
       "     var: 'gene_ids', 'feature_types', 'genome',\n",
       " 'E3-2': AnnData object with n_obs × n_vars = 23157 × 31053\n",
       "     obs: 'sample_name', 'raw', 'round', 'channel', 'empty_drops_FDR', 'neg_log10_empty_drops_FDR', 'n_umis', 'n_genes', 'log10_n_umis', 'log10_n_genes', 'barcode_rank', 'mt_frac'\n",
       "     var: 'gene_ids', 'feature_types', 'genome',\n",
       " 'E3-3': AnnData object with n_obs × n_vars = 23149 × 31053\n",
       "     obs: 'sample_name', 'raw', 'round', 'channel', 'empty_drops_FDR', 'neg_log10_empty_drops_FDR', 'n_umis', 'n_genes', 'log10_n_umis', 'log10_n_genes', 'barcode_rank', 'mt_frac'\n",
       "     var: 'gene_ids', 'feature_types', 'genome',\n",
       " 'E3-4': AnnData object with n_obs × n_vars = 15597 × 31053\n",
       "     obs: 'sample_name', 'raw', 'round', 'channel', 'empty_drops_FDR', 'neg_log10_empty_drops_FDR', 'n_umis', 'n_genes', 'log10_n_umis', 'log10_n_genes', 'barcode_rank', 'mt_frac'\n",
       "     var: 'gene_ids', 'feature_types', 'genome',\n",
       " 'E3-5': AnnData object with n_obs × n_vars = 22478 × 31053\n",
       "     obs: 'sample_name', 'raw', 'round', 'channel', 'empty_drops_FDR', 'neg_log10_empty_drops_FDR', 'n_umis', 'n_genes', 'log10_n_umis', 'log10_n_genes', 'barcode_rank', 'mt_frac'\n",
       "     var: 'gene_ids', 'feature_types', 'genome',\n",
       " 'E3-6': AnnData object with n_obs × n_vars = 23657 × 31053\n",
       "     obs: 'sample_name', 'raw', 'round', 'channel', 'empty_drops_FDR', 'neg_log10_empty_drops_FDR', 'n_umis', 'n_genes', 'log10_n_umis', 'log10_n_genes', 'barcode_rank', 'mt_frac'\n",
       "     var: 'gene_ids', 'feature_types', 'genome',\n",
       " 'E3-7': AnnData object with n_obs × n_vars = 23488 × 31053\n",
       "     obs: 'sample_name', 'raw', 'round', 'channel', 'empty_drops_FDR', 'neg_log10_empty_drops_FDR', 'n_umis', 'n_genes', 'log10_n_umis', 'log10_n_genes', 'barcode_rank', 'mt_frac'\n",
       "     var: 'gene_ids', 'feature_types', 'genome',\n",
       " 'E3-8': AnnData object with n_obs × n_vars = 23547 × 31053\n",
       "     obs: 'sample_name', 'raw', 'round', 'channel', 'empty_drops_FDR', 'neg_log10_empty_drops_FDR', 'n_umis', 'n_genes', 'log10_n_umis', 'log10_n_genes', 'barcode_rank', 'mt_frac'\n",
       "     var: 'gene_ids', 'feature_types', 'genome',\n",
       " 'E3-9': AnnData object with n_obs × n_vars = 24281 × 31053\n",
       "     obs: 'sample_name', 'raw', 'round', 'channel', 'empty_drops_FDR', 'neg_log10_empty_drops_FDR', 'n_umis', 'n_genes', 'log10_n_umis', 'log10_n_genes', 'barcode_rank', 'mt_frac'\n",
       "     var: 'gene_ids', 'feature_types', 'genome',\n",
       " 'E3-10': AnnData object with n_obs × n_vars = 24685 × 31053\n",
       "     obs: 'sample_name', 'raw', 'round', 'channel', 'empty_drops_FDR', 'neg_log10_empty_drops_FDR', 'n_umis', 'n_genes', 'log10_n_umis', 'log10_n_genes', 'barcode_rank', 'mt_frac'\n",
       "     var: 'gene_ids', 'feature_types', 'genome',\n",
       " 'E3-11': AnnData object with n_obs × n_vars = 23040 × 31053\n",
       "     obs: 'sample_name', 'raw', 'round', 'channel', 'empty_drops_FDR', 'neg_log10_empty_drops_FDR', 'n_umis', 'n_genes', 'log10_n_umis', 'log10_n_genes', 'barcode_rank', 'mt_frac'\n",
       "     var: 'gene_ids', 'feature_types', 'genome',\n",
       " 'E3-12': AnnData object with n_obs × n_vars = 25157 × 31053\n",
       "     obs: 'sample_name', 'raw', 'round', 'channel', 'empty_drops_FDR', 'neg_log10_empty_drops_FDR', 'n_umis', 'n_genes', 'log10_n_umis', 'log10_n_genes', 'barcode_rank', 'mt_frac'\n",
       "     var: 'gene_ids', 'feature_types', 'genome',\n",
       " 'E3-13': AnnData object with n_obs × n_vars = 24724 × 31053\n",
       "     obs: 'sample_name', 'raw', 'round', 'channel', 'empty_drops_FDR', 'neg_log10_empty_drops_FDR', 'n_umis', 'n_genes', 'log10_n_umis', 'log10_n_genes', 'barcode_rank', 'mt_frac'\n",
       "     var: 'gene_ids', 'feature_types', 'genome',\n",
       " 'E3-14': AnnData object with n_obs × n_vars = 24498 × 31053\n",
       "     obs: 'sample_name', 'raw', 'round', 'channel', 'empty_drops_FDR', 'neg_log10_empty_drops_FDR', 'n_umis', 'n_genes', 'log10_n_umis', 'log10_n_genes', 'barcode_rank', 'mt_frac'\n",
       "     var: 'gene_ids', 'feature_types', 'genome',\n",
       " 'E3-15': AnnData object with n_obs × n_vars = 23893 × 31053\n",
       "     obs: 'sample_name', 'raw', 'round', 'channel', 'empty_drops_FDR', 'neg_log10_empty_drops_FDR', 'n_umis', 'n_genes', 'log10_n_umis', 'log10_n_genes', 'barcode_rank', 'mt_frac'\n",
       "     var: 'gene_ids', 'feature_types', 'genome',\n",
       " 'E3-16': AnnData object with n_obs × n_vars = 23027 × 31053\n",
       "     obs: 'sample_name', 'raw', 'round', 'channel', 'empty_drops_FDR', 'neg_log10_empty_drops_FDR', 'n_umis', 'n_genes', 'log10_n_umis', 'log10_n_genes', 'barcode_rank', 'mt_frac'\n",
       "     var: 'gene_ids', 'feature_types', 'genome',\n",
       " 'E3-17': AnnData object with n_obs × n_vars = 25249 × 31053\n",
       "     obs: 'sample_name', 'raw', 'round', 'channel', 'empty_drops_FDR', 'neg_log10_empty_drops_FDR', 'n_umis', 'n_genes', 'log10_n_umis', 'log10_n_genes', 'barcode_rank', 'mt_frac'\n",
       "     var: 'gene_ids', 'feature_types', 'genome',\n",
       " 'E3-18': AnnData object with n_obs × n_vars = 27108 × 31053\n",
       "     obs: 'sample_name', 'raw', 'round', 'channel', 'empty_drops_FDR', 'neg_log10_empty_drops_FDR', 'n_umis', 'n_genes', 'log10_n_umis', 'log10_n_genes', 'barcode_rank', 'mt_frac'\n",
       "     var: 'gene_ids', 'feature_types', 'genome',\n",
       " 'E3-19': AnnData object with n_obs × n_vars = 6861 × 31053\n",
       "     obs: 'sample_name', 'raw', 'round', 'channel', 'empty_drops_FDR', 'neg_log10_empty_drops_FDR', 'n_umis', 'n_genes', 'log10_n_umis', 'log10_n_genes', 'barcode_rank', 'mt_frac'\n",
       "     var: 'gene_ids', 'feature_types', 'genome',\n",
       " 'E3-20': AnnData object with n_obs × n_vars = 26527 × 31053\n",
       "     obs: 'sample_name', 'raw', 'round', 'channel', 'empty_drops_FDR', 'neg_log10_empty_drops_FDR', 'n_umis', 'n_genes', 'log10_n_umis', 'log10_n_genes', 'barcode_rank', 'mt_frac'\n",
       "     var: 'gene_ids', 'feature_types', 'genome',\n",
       " 'E3-21': AnnData object with n_obs × n_vars = 27159 × 31053\n",
       "     obs: 'sample_name', 'raw', 'round', 'channel', 'empty_drops_FDR', 'neg_log10_empty_drops_FDR', 'n_umis', 'n_genes', 'log10_n_umis', 'log10_n_genes', 'barcode_rank', 'mt_frac'\n",
       "     var: 'gene_ids', 'feature_types', 'genome',\n",
       " 'E3-22': AnnData object with n_obs × n_vars = 24658 × 31053\n",
       "     obs: 'sample_name', 'raw', 'round', 'channel', 'empty_drops_FDR', 'neg_log10_empty_drops_FDR', 'n_umis', 'n_genes', 'log10_n_umis', 'log10_n_genes', 'barcode_rank', 'mt_frac'\n",
       "     var: 'gene_ids', 'feature_types', 'genome',\n",
       " 'E3-23': AnnData object with n_obs × n_vars = 26939 × 31053\n",
       "     obs: 'sample_name', 'raw', 'round', 'channel', 'empty_drops_FDR', 'neg_log10_empty_drops_FDR', 'n_umis', 'n_genes', 'log10_n_umis', 'log10_n_genes', 'barcode_rank', 'mt_frac'\n",
       "     var: 'gene_ids', 'feature_types', 'genome',\n",
       " 'E3-24': AnnData object with n_obs × n_vars = 24078 × 31053\n",
       "     obs: 'sample_name', 'raw', 'round', 'channel', 'empty_drops_FDR', 'neg_log10_empty_drops_FDR', 'n_umis', 'n_genes', 'log10_n_umis', 'log10_n_genes', 'barcode_rank', 'mt_frac'\n",
       "     var: 'gene_ids', 'feature_types', 'genome',\n",
       " 'E4-1': AnnData object with n_obs × n_vars = 24377 × 31053\n",
       "     obs: 'sample_name', 'raw', 'round', 'channel', 'empty_drops_FDR', 'neg_log10_empty_drops_FDR', 'n_umis', 'n_genes', 'log10_n_umis', 'log10_n_genes', 'barcode_rank', 'mt_frac'\n",
       "     var: 'gene_ids', 'feature_types', 'genome',\n",
       " 'E4-2': AnnData object with n_obs × n_vars = 26724 × 31053\n",
       "     obs: 'sample_name', 'raw', 'round', 'channel', 'empty_drops_FDR', 'neg_log10_empty_drops_FDR', 'n_umis', 'n_genes', 'log10_n_umis', 'log10_n_genes', 'barcode_rank', 'mt_frac'\n",
       "     var: 'gene_ids', 'feature_types', 'genome',\n",
       " 'E4-3': AnnData object with n_obs × n_vars = 23882 × 31053\n",
       "     obs: 'sample_name', 'raw', 'round', 'channel', 'empty_drops_FDR', 'neg_log10_empty_drops_FDR', 'n_umis', 'n_genes', 'log10_n_umis', 'log10_n_genes', 'barcode_rank', 'mt_frac'\n",
       "     var: 'gene_ids', 'feature_types', 'genome',\n",
       " 'E4-4': AnnData object with n_obs × n_vars = 26932 × 31053\n",
       "     obs: 'sample_name', 'raw', 'round', 'channel', 'empty_drops_FDR', 'neg_log10_empty_drops_FDR', 'n_umis', 'n_genes', 'log10_n_umis', 'log10_n_genes', 'barcode_rank', 'mt_frac'\n",
       "     var: 'gene_ids', 'feature_types', 'genome',\n",
       " 'E4-5': AnnData object with n_obs × n_vars = 25311 × 31053\n",
       "     obs: 'sample_name', 'raw', 'round', 'channel', 'empty_drops_FDR', 'neg_log10_empty_drops_FDR', 'n_umis', 'n_genes', 'log10_n_umis', 'log10_n_genes', 'barcode_rank', 'mt_frac'\n",
       "     var: 'gene_ids', 'feature_types', 'genome',\n",
       " 'E4-6': AnnData object with n_obs × n_vars = 21886 × 31053\n",
       "     obs: 'sample_name', 'raw', 'round', 'channel', 'empty_drops_FDR', 'neg_log10_empty_drops_FDR', 'n_umis', 'n_genes', 'log10_n_umis', 'log10_n_genes', 'barcode_rank', 'mt_frac'\n",
       "     var: 'gene_ids', 'feature_types', 'genome',\n",
       " 'E4-7': AnnData object with n_obs × n_vars = 23609 × 31053\n",
       "     obs: 'sample_name', 'raw', 'round', 'channel', 'empty_drops_FDR', 'neg_log10_empty_drops_FDR', 'n_umis', 'n_genes', 'log10_n_umis', 'log10_n_genes', 'barcode_rank', 'mt_frac'\n",
       "     var: 'gene_ids', 'feature_types', 'genome',\n",
       " 'E4-8': AnnData object with n_obs × n_vars = 22356 × 31053\n",
       "     obs: 'sample_name', 'raw', 'round', 'channel', 'empty_drops_FDR', 'neg_log10_empty_drops_FDR', 'n_umis', 'n_genes', 'log10_n_umis', 'log10_n_genes', 'barcode_rank', 'mt_frac'\n",
       "     var: 'gene_ids', 'feature_types', 'genome',\n",
       " 'E4-9': AnnData object with n_obs × n_vars = 25987 × 31053\n",
       "     obs: 'sample_name', 'raw', 'round', 'channel', 'empty_drops_FDR', 'neg_log10_empty_drops_FDR', 'n_umis', 'n_genes', 'log10_n_umis', 'log10_n_genes', 'barcode_rank', 'mt_frac'\n",
       "     var: 'gene_ids', 'feature_types', 'genome',\n",
       " 'E4-10': AnnData object with n_obs × n_vars = 24466 × 31053\n",
       "     obs: 'sample_name', 'raw', 'round', 'channel', 'empty_drops_FDR', 'neg_log10_empty_drops_FDR', 'n_umis', 'n_genes', 'log10_n_umis', 'log10_n_genes', 'barcode_rank', 'mt_frac'\n",
       "     var: 'gene_ids', 'feature_types', 'genome',\n",
       " 'E4-11': AnnData object with n_obs × n_vars = 23273 × 31053\n",
       "     obs: 'sample_name', 'raw', 'round', 'channel', 'empty_drops_FDR', 'neg_log10_empty_drops_FDR', 'n_umis', 'n_genes', 'log10_n_umis', 'log10_n_genes', 'barcode_rank', 'mt_frac'\n",
       "     var: 'gene_ids', 'feature_types', 'genome',\n",
       " 'E4-12': AnnData object with n_obs × n_vars = 24844 × 31053\n",
       "     obs: 'sample_name', 'raw', 'round', 'channel', 'empty_drops_FDR', 'neg_log10_empty_drops_FDR', 'n_umis', 'n_genes', 'log10_n_umis', 'log10_n_genes', 'barcode_rank', 'mt_frac'\n",
       "     var: 'gene_ids', 'feature_types', 'genome',\n",
       " 'E4-13': AnnData object with n_obs × n_vars = 25585 × 31053\n",
       "     obs: 'sample_name', 'raw', 'round', 'channel', 'empty_drops_FDR', 'neg_log10_empty_drops_FDR', 'n_umis', 'n_genes', 'log10_n_umis', 'log10_n_genes', 'barcode_rank', 'mt_frac'\n",
       "     var: 'gene_ids', 'feature_types', 'genome',\n",
       " 'E4-14': AnnData object with n_obs × n_vars = 26627 × 31053\n",
       "     obs: 'sample_name', 'raw', 'round', 'channel', 'empty_drops_FDR', 'neg_log10_empty_drops_FDR', 'n_umis', 'n_genes', 'log10_n_umis', 'log10_n_genes', 'barcode_rank', 'mt_frac'\n",
       "     var: 'gene_ids', 'feature_types', 'genome',\n",
       " 'E4-15': AnnData object with n_obs × n_vars = 26867 × 31053\n",
       "     obs: 'sample_name', 'raw', 'round', 'channel', 'empty_drops_FDR', 'neg_log10_empty_drops_FDR', 'n_umis', 'n_genes', 'log10_n_umis', 'log10_n_genes', 'barcode_rank', 'mt_frac'\n",
       "     var: 'gene_ids', 'feature_types', 'genome',\n",
       " 'E4-16': AnnData object with n_obs × n_vars = 28477 × 31053\n",
       "     obs: 'sample_name', 'raw', 'round', 'channel', 'empty_drops_FDR', 'neg_log10_empty_drops_FDR', 'n_umis', 'n_genes', 'log10_n_umis', 'log10_n_genes', 'barcode_rank', 'mt_frac'\n",
       "     var: 'gene_ids', 'feature_types', 'genome',\n",
       " 'E4-17': AnnData object with n_obs × n_vars = 21873 × 31053\n",
       "     obs: 'sample_name', 'raw', 'round', 'channel', 'empty_drops_FDR', 'neg_log10_empty_drops_FDR', 'n_umis', 'n_genes', 'log10_n_umis', 'log10_n_genes', 'barcode_rank', 'mt_frac'\n",
       "     var: 'gene_ids', 'feature_types', 'genome',\n",
       " 'E4-19': AnnData object with n_obs × n_vars = 23416 × 31053\n",
       "     obs: 'sample_name', 'raw', 'round', 'channel', 'empty_drops_FDR', 'neg_log10_empty_drops_FDR', 'n_umis', 'n_genes', 'log10_n_umis', 'log10_n_genes', 'barcode_rank', 'mt_frac'\n",
       "     var: 'gene_ids', 'feature_types', 'genome',\n",
       " 'E4-20': AnnData object with n_obs × n_vars = 22379 × 31053\n",
       "     obs: 'sample_name', 'raw', 'round', 'channel', 'empty_drops_FDR', 'neg_log10_empty_drops_FDR', 'n_umis', 'n_genes', 'log10_n_umis', 'log10_n_genes', 'barcode_rank', 'mt_frac'\n",
       "     var: 'gene_ids', 'feature_types', 'genome',\n",
       " 'E4-21': AnnData object with n_obs × n_vars = 12969 × 31053\n",
       "     obs: 'sample_name', 'raw', 'round', 'channel', 'empty_drops_FDR', 'neg_log10_empty_drops_FDR', 'n_umis', 'n_genes', 'log10_n_umis', 'log10_n_genes', 'barcode_rank', 'mt_frac'\n",
       "     var: 'gene_ids', 'feature_types', 'genome',\n",
       " 'E4-22': AnnData object with n_obs × n_vars = 21604 × 31053\n",
       "     obs: 'sample_name', 'raw', 'round', 'channel', 'empty_drops_FDR', 'neg_log10_empty_drops_FDR', 'n_umis', 'n_genes', 'log10_n_umis', 'log10_n_genes', 'barcode_rank', 'mt_frac'\n",
       "     var: 'gene_ids', 'feature_types', 'genome',\n",
       " 'E4-24': AnnData object with n_obs × n_vars = 22946 × 31053\n",
       "     obs: 'sample_name', 'raw', 'round', 'channel', 'empty_drops_FDR', 'neg_log10_empty_drops_FDR', 'n_umis', 'n_genes', 'log10_n_umis', 'log10_n_genes', 'barcode_rank', 'mt_frac'\n",
       "     var: 'gene_ids', 'feature_types', 'genome'}"
      ]
     },
     "execution_count": 5,
     "metadata": {},
     "output_type": "execute_result"
    }
   ],
   "source": [
    "conf_samples"
   ]
  },
  {
   "cell_type": "markdown",
   "metadata": {
    "papermill": {
     "duration": 0.024244,
     "end_time": "2020-02-18T17:05:57.727449",
     "exception": false,
     "start_time": "2020-02-18T17:05:57.703205",
     "status": "completed"
    },
    "tags": []
   },
   "source": [
    "## Filtering and cell calling"
   ]
  },
  {
   "cell_type": "code",
   "execution_count": 6,
   "metadata": {
    "collapsed": true,
    "jupyter": {
     "outputs_hidden": true
    },
    "papermill": {
     "duration": 126.98434,
     "end_time": "2020-02-18T17:08:04.741544",
     "exception": false,
     "start_time": "2020-02-18T17:05:57.757204",
     "status": "completed"
    },
    "tags": []
   },
   "outputs": [
    {
     "data": {
      "application/vnd.jupyter.widget-view+json": {
       "model_id": "c6835e396c5247faa858ef38aded94e3",
       "version_major": 2,
       "version_minor": 0
      },
      "text/plain": [
       "  0%|          | 0/46 [00:00<?, ?it/s]"
      ]
     },
     "metadata": {},
     "output_type": "display_data"
    },
    {
     "data": {
      "text/plain": [
       "AnnData object with n_obs × n_vars = 22478 × 31040\n",
       "    obs: 'sample_name', 'raw', 'round', 'channel', 'empty_drops_FDR', 'neg_log10_empty_drops_FDR', 'n_umis', 'n_genes', 'log10_n_umis', 'log10_n_genes', 'barcode_rank', 'mt_frac', 'n_counts'\n",
       "    var: 'gene_ids', 'feature_types', 'genome'"
      ]
     },
     "metadata": {},
     "output_type": "display_data"
    },
    {
     "data": {
      "text/plain": [
       "AnnData object with n_obs × n_vars = 22961 × 31040\n",
       "    obs: 'sample_name', 'raw', 'round', 'channel', 'empty_drops_FDR', 'neg_log10_empty_drops_FDR', 'n_umis', 'n_genes', 'log10_n_umis', 'log10_n_genes', 'barcode_rank', 'mt_frac', 'n_counts'\n",
       "    var: 'gene_ids', 'feature_types', 'genome'"
      ]
     },
     "metadata": {},
     "output_type": "display_data"
    },
    {
     "data": {
      "text/plain": [
       "AnnData object with n_obs × n_vars = 22918 × 31040\n",
       "    obs: 'sample_name', 'raw', 'round', 'channel', 'empty_drops_FDR', 'neg_log10_empty_drops_FDR', 'n_umis', 'n_genes', 'log10_n_umis', 'log10_n_genes', 'barcode_rank', 'mt_frac', 'n_counts'\n",
       "    var: 'gene_ids', 'feature_types', 'genome'"
      ]
     },
     "metadata": {},
     "output_type": "display_data"
    },
    {
     "data": {
      "text/plain": [
       "AnnData object with n_obs × n_vars = 15348 × 31040\n",
       "    obs: 'sample_name', 'raw', 'round', 'channel', 'empty_drops_FDR', 'neg_log10_empty_drops_FDR', 'n_umis', 'n_genes', 'log10_n_umis', 'log10_n_genes', 'barcode_rank', 'mt_frac', 'n_counts'\n",
       "    var: 'gene_ids', 'feature_types', 'genome'"
      ]
     },
     "metadata": {},
     "output_type": "display_data"
    },
    {
     "data": {
      "text/plain": [
       "AnnData object with n_obs × n_vars = 22247 × 31040\n",
       "    obs: 'sample_name', 'raw', 'round', 'channel', 'empty_drops_FDR', 'neg_log10_empty_drops_FDR', 'n_umis', 'n_genes', 'log10_n_umis', 'log10_n_genes', 'barcode_rank', 'mt_frac', 'n_counts'\n",
       "    var: 'gene_ids', 'feature_types', 'genome'"
      ]
     },
     "metadata": {},
     "output_type": "display_data"
    },
    {
     "data": {
      "text/plain": [
       "AnnData object with n_obs × n_vars = 23379 × 31040\n",
       "    obs: 'sample_name', 'raw', 'round', 'channel', 'empty_drops_FDR', 'neg_log10_empty_drops_FDR', 'n_umis', 'n_genes', 'log10_n_umis', 'log10_n_genes', 'barcode_rank', 'mt_frac', 'n_counts'\n",
       "    var: 'gene_ids', 'feature_types', 'genome'"
      ]
     },
     "metadata": {},
     "output_type": "display_data"
    },
    {
     "data": {
      "text/plain": [
       "AnnData object with n_obs × n_vars = 23230 × 31040\n",
       "    obs: 'sample_name', 'raw', 'round', 'channel', 'empty_drops_FDR', 'neg_log10_empty_drops_FDR', 'n_umis', 'n_genes', 'log10_n_umis', 'log10_n_genes', 'barcode_rank', 'mt_frac', 'n_counts'\n",
       "    var: 'gene_ids', 'feature_types', 'genome'"
      ]
     },
     "metadata": {},
     "output_type": "display_data"
    },
    {
     "data": {
      "text/plain": [
       "AnnData object with n_obs × n_vars = 23267 × 31040\n",
       "    obs: 'sample_name', 'raw', 'round', 'channel', 'empty_drops_FDR', 'neg_log10_empty_drops_FDR', 'n_umis', 'n_genes', 'log10_n_umis', 'log10_n_genes', 'barcode_rank', 'mt_frac', 'n_counts'\n",
       "    var: 'gene_ids', 'feature_types', 'genome'"
      ]
     },
     "metadata": {},
     "output_type": "display_data"
    },
    {
     "data": {
      "text/plain": [
       "AnnData object with n_obs × n_vars = 24112 × 31040\n",
       "    obs: 'sample_name', 'raw', 'round', 'channel', 'empty_drops_FDR', 'neg_log10_empty_drops_FDR', 'n_umis', 'n_genes', 'log10_n_umis', 'log10_n_genes', 'barcode_rank', 'mt_frac', 'n_counts'\n",
       "    var: 'gene_ids', 'feature_types', 'genome'"
      ]
     },
     "metadata": {},
     "output_type": "display_data"
    },
    {
     "data": {
      "text/plain": [
       "AnnData object with n_obs × n_vars = 24411 × 31040\n",
       "    obs: 'sample_name', 'raw', 'round', 'channel', 'empty_drops_FDR', 'neg_log10_empty_drops_FDR', 'n_umis', 'n_genes', 'log10_n_umis', 'log10_n_genes', 'barcode_rank', 'mt_frac', 'n_counts'\n",
       "    var: 'gene_ids', 'feature_types', 'genome'"
      ]
     },
     "metadata": {},
     "output_type": "display_data"
    },
    {
     "data": {
      "text/plain": [
       "AnnData object with n_obs × n_vars = 22844 × 31040\n",
       "    obs: 'sample_name', 'raw', 'round', 'channel', 'empty_drops_FDR', 'neg_log10_empty_drops_FDR', 'n_umis', 'n_genes', 'log10_n_umis', 'log10_n_genes', 'barcode_rank', 'mt_frac', 'n_counts'\n",
       "    var: 'gene_ids', 'feature_types', 'genome'"
      ]
     },
     "metadata": {},
     "output_type": "display_data"
    },
    {
     "data": {
      "text/plain": [
       "AnnData object with n_obs × n_vars = 24891 × 31040\n",
       "    obs: 'sample_name', 'raw', 'round', 'channel', 'empty_drops_FDR', 'neg_log10_empty_drops_FDR', 'n_umis', 'n_genes', 'log10_n_umis', 'log10_n_genes', 'barcode_rank', 'mt_frac', 'n_counts'\n",
       "    var: 'gene_ids', 'feature_types', 'genome'"
      ]
     },
     "metadata": {},
     "output_type": "display_data"
    },
    {
     "data": {
      "text/plain": [
       "AnnData object with n_obs × n_vars = 24477 × 31040\n",
       "    obs: 'sample_name', 'raw', 'round', 'channel', 'empty_drops_FDR', 'neg_log10_empty_drops_FDR', 'n_umis', 'n_genes', 'log10_n_umis', 'log10_n_genes', 'barcode_rank', 'mt_frac', 'n_counts'\n",
       "    var: 'gene_ids', 'feature_types', 'genome'"
      ]
     },
     "metadata": {},
     "output_type": "display_data"
    },
    {
     "data": {
      "text/plain": [
       "AnnData object with n_obs × n_vars = 24261 × 31040\n",
       "    obs: 'sample_name', 'raw', 'round', 'channel', 'empty_drops_FDR', 'neg_log10_empty_drops_FDR', 'n_umis', 'n_genes', 'log10_n_umis', 'log10_n_genes', 'barcode_rank', 'mt_frac', 'n_counts'\n",
       "    var: 'gene_ids', 'feature_types', 'genome'"
      ]
     },
     "metadata": {},
     "output_type": "display_data"
    },
    {
     "data": {
      "text/plain": [
       "AnnData object with n_obs × n_vars = 23708 × 31040\n",
       "    obs: 'sample_name', 'raw', 'round', 'channel', 'empty_drops_FDR', 'neg_log10_empty_drops_FDR', 'n_umis', 'n_genes', 'log10_n_umis', 'log10_n_genes', 'barcode_rank', 'mt_frac', 'n_counts'\n",
       "    var: 'gene_ids', 'feature_types', 'genome'"
      ]
     },
     "metadata": {},
     "output_type": "display_data"
    },
    {
     "data": {
      "text/plain": [
       "AnnData object with n_obs × n_vars = 22870 × 31040\n",
       "    obs: 'sample_name', 'raw', 'round', 'channel', 'empty_drops_FDR', 'neg_log10_empty_drops_FDR', 'n_umis', 'n_genes', 'log10_n_umis', 'log10_n_genes', 'barcode_rank', 'mt_frac', 'n_counts'\n",
       "    var: 'gene_ids', 'feature_types', 'genome'"
      ]
     },
     "metadata": {},
     "output_type": "display_data"
    },
    {
     "data": {
      "text/plain": [
       "AnnData object with n_obs × n_vars = 25140 × 31040\n",
       "    obs: 'sample_name', 'raw', 'round', 'channel', 'empty_drops_FDR', 'neg_log10_empty_drops_FDR', 'n_umis', 'n_genes', 'log10_n_umis', 'log10_n_genes', 'barcode_rank', 'mt_frac', 'n_counts'\n",
       "    var: 'gene_ids', 'feature_types', 'genome'"
      ]
     },
     "metadata": {},
     "output_type": "display_data"
    },
    {
     "data": {
      "text/plain": [
       "AnnData object with n_obs × n_vars = 26925 × 31040\n",
       "    obs: 'sample_name', 'raw', 'round', 'channel', 'empty_drops_FDR', 'neg_log10_empty_drops_FDR', 'n_umis', 'n_genes', 'log10_n_umis', 'log10_n_genes', 'barcode_rank', 'mt_frac', 'n_counts'\n",
       "    var: 'gene_ids', 'feature_types', 'genome'"
      ]
     },
     "metadata": {},
     "output_type": "display_data"
    },
    {
     "data": {
      "text/plain": [
       "AnnData object with n_obs × n_vars = 6860 × 31040\n",
       "    obs: 'sample_name', 'raw', 'round', 'channel', 'empty_drops_FDR', 'neg_log10_empty_drops_FDR', 'n_umis', 'n_genes', 'log10_n_umis', 'log10_n_genes', 'barcode_rank', 'mt_frac', 'n_counts'\n",
       "    var: 'gene_ids', 'feature_types', 'genome'"
      ]
     },
     "metadata": {},
     "output_type": "display_data"
    },
    {
     "data": {
      "text/plain": [
       "AnnData object with n_obs × n_vars = 26325 × 31040\n",
       "    obs: 'sample_name', 'raw', 'round', 'channel', 'empty_drops_FDR', 'neg_log10_empty_drops_FDR', 'n_umis', 'n_genes', 'log10_n_umis', 'log10_n_genes', 'barcode_rank', 'mt_frac', 'n_counts'\n",
       "    var: 'gene_ids', 'feature_types', 'genome'"
      ]
     },
     "metadata": {},
     "output_type": "display_data"
    },
    {
     "data": {
      "text/plain": [
       "AnnData object with n_obs × n_vars = 26809 × 31040\n",
       "    obs: 'sample_name', 'raw', 'round', 'channel', 'empty_drops_FDR', 'neg_log10_empty_drops_FDR', 'n_umis', 'n_genes', 'log10_n_umis', 'log10_n_genes', 'barcode_rank', 'mt_frac', 'n_counts'\n",
       "    var: 'gene_ids', 'feature_types', 'genome'"
      ]
     },
     "metadata": {},
     "output_type": "display_data"
    },
    {
     "data": {
      "text/plain": [
       "AnnData object with n_obs × n_vars = 24423 × 31040\n",
       "    obs: 'sample_name', 'raw', 'round', 'channel', 'empty_drops_FDR', 'neg_log10_empty_drops_FDR', 'n_umis', 'n_genes', 'log10_n_umis', 'log10_n_genes', 'barcode_rank', 'mt_frac', 'n_counts'\n",
       "    var: 'gene_ids', 'feature_types', 'genome'"
      ]
     },
     "metadata": {},
     "output_type": "display_data"
    },
    {
     "data": {
      "text/plain": [
       "AnnData object with n_obs × n_vars = 26655 × 31040\n",
       "    obs: 'sample_name', 'raw', 'round', 'channel', 'empty_drops_FDR', 'neg_log10_empty_drops_FDR', 'n_umis', 'n_genes', 'log10_n_umis', 'log10_n_genes', 'barcode_rank', 'mt_frac', 'n_counts'\n",
       "    var: 'gene_ids', 'feature_types', 'genome'"
      ]
     },
     "metadata": {},
     "output_type": "display_data"
    },
    {
     "data": {
      "text/plain": [
       "AnnData object with n_obs × n_vars = 23822 × 31040\n",
       "    obs: 'sample_name', 'raw', 'round', 'channel', 'empty_drops_FDR', 'neg_log10_empty_drops_FDR', 'n_umis', 'n_genes', 'log10_n_umis', 'log10_n_genes', 'barcode_rank', 'mt_frac', 'n_counts'\n",
       "    var: 'gene_ids', 'feature_types', 'genome'"
      ]
     },
     "metadata": {},
     "output_type": "display_data"
    },
    {
     "data": {
      "text/plain": [
       "AnnData object with n_obs × n_vars = 24033 × 31040\n",
       "    obs: 'sample_name', 'raw', 'round', 'channel', 'empty_drops_FDR', 'neg_log10_empty_drops_FDR', 'n_umis', 'n_genes', 'log10_n_umis', 'log10_n_genes', 'barcode_rank', 'mt_frac', 'n_counts'\n",
       "    var: 'gene_ids', 'feature_types', 'genome'"
      ]
     },
     "metadata": {},
     "output_type": "display_data"
    },
    {
     "data": {
      "text/plain": [
       "AnnData object with n_obs × n_vars = 26306 × 31040\n",
       "    obs: 'sample_name', 'raw', 'round', 'channel', 'empty_drops_FDR', 'neg_log10_empty_drops_FDR', 'n_umis', 'n_genes', 'log10_n_umis', 'log10_n_genes', 'barcode_rank', 'mt_frac', 'n_counts'\n",
       "    var: 'gene_ids', 'feature_types', 'genome'"
      ]
     },
     "metadata": {},
     "output_type": "display_data"
    },
    {
     "data": {
      "text/plain": [
       "AnnData object with n_obs × n_vars = 23430 × 31040\n",
       "    obs: 'sample_name', 'raw', 'round', 'channel', 'empty_drops_FDR', 'neg_log10_empty_drops_FDR', 'n_umis', 'n_genes', 'log10_n_umis', 'log10_n_genes', 'barcode_rank', 'mt_frac', 'n_counts'\n",
       "    var: 'gene_ids', 'feature_types', 'genome'"
      ]
     },
     "metadata": {},
     "output_type": "display_data"
    },
    {
     "data": {
      "text/plain": [
       "AnnData object with n_obs × n_vars = 26517 × 31040\n",
       "    obs: 'sample_name', 'raw', 'round', 'channel', 'empty_drops_FDR', 'neg_log10_empty_drops_FDR', 'n_umis', 'n_genes', 'log10_n_umis', 'log10_n_genes', 'barcode_rank', 'mt_frac', 'n_counts'\n",
       "    var: 'gene_ids', 'feature_types', 'genome'"
      ]
     },
     "metadata": {},
     "output_type": "display_data"
    },
    {
     "data": {
      "text/plain": [
       "AnnData object with n_obs × n_vars = 24810 × 31040\n",
       "    obs: 'sample_name', 'raw', 'round', 'channel', 'empty_drops_FDR', 'neg_log10_empty_drops_FDR', 'n_umis', 'n_genes', 'log10_n_umis', 'log10_n_genes', 'barcode_rank', 'mt_frac', 'n_counts'\n",
       "    var: 'gene_ids', 'feature_types', 'genome'"
      ]
     },
     "metadata": {},
     "output_type": "display_data"
    },
    {
     "data": {
      "text/plain": [
       "AnnData object with n_obs × n_vars = 21510 × 31040\n",
       "    obs: 'sample_name', 'raw', 'round', 'channel', 'empty_drops_FDR', 'neg_log10_empty_drops_FDR', 'n_umis', 'n_genes', 'log10_n_umis', 'log10_n_genes', 'barcode_rank', 'mt_frac', 'n_counts'\n",
       "    var: 'gene_ids', 'feature_types', 'genome'"
      ]
     },
     "metadata": {},
     "output_type": "display_data"
    },
    {
     "data": {
      "text/plain": [
       "AnnData object with n_obs × n_vars = 23238 × 31040\n",
       "    obs: 'sample_name', 'raw', 'round', 'channel', 'empty_drops_FDR', 'neg_log10_empty_drops_FDR', 'n_umis', 'n_genes', 'log10_n_umis', 'log10_n_genes', 'barcode_rank', 'mt_frac', 'n_counts'\n",
       "    var: 'gene_ids', 'feature_types', 'genome'"
      ]
     },
     "metadata": {},
     "output_type": "display_data"
    },
    {
     "data": {
      "text/plain": [
       "AnnData object with n_obs × n_vars = 22009 × 31040\n",
       "    obs: 'sample_name', 'raw', 'round', 'channel', 'empty_drops_FDR', 'neg_log10_empty_drops_FDR', 'n_umis', 'n_genes', 'log10_n_umis', 'log10_n_genes', 'barcode_rank', 'mt_frac', 'n_counts'\n",
       "    var: 'gene_ids', 'feature_types', 'genome'"
      ]
     },
     "metadata": {},
     "output_type": "display_data"
    },
    {
     "data": {
      "text/plain": [
       "AnnData object with n_obs × n_vars = 25344 × 31040\n",
       "    obs: 'sample_name', 'raw', 'round', 'channel', 'empty_drops_FDR', 'neg_log10_empty_drops_FDR', 'n_umis', 'n_genes', 'log10_n_umis', 'log10_n_genes', 'barcode_rank', 'mt_frac', 'n_counts'\n",
       "    var: 'gene_ids', 'feature_types', 'genome'"
      ]
     },
     "metadata": {},
     "output_type": "display_data"
    },
    {
     "data": {
      "text/plain": [
       "AnnData object with n_obs × n_vars = 24077 × 31040\n",
       "    obs: 'sample_name', 'raw', 'round', 'channel', 'empty_drops_FDR', 'neg_log10_empty_drops_FDR', 'n_umis', 'n_genes', 'log10_n_umis', 'log10_n_genes', 'barcode_rank', 'mt_frac', 'n_counts'\n",
       "    var: 'gene_ids', 'feature_types', 'genome'"
      ]
     },
     "metadata": {},
     "output_type": "display_data"
    },
    {
     "data": {
      "text/plain": [
       "AnnData object with n_obs × n_vars = 22888 × 31040\n",
       "    obs: 'sample_name', 'raw', 'round', 'channel', 'empty_drops_FDR', 'neg_log10_empty_drops_FDR', 'n_umis', 'n_genes', 'log10_n_umis', 'log10_n_genes', 'barcode_rank', 'mt_frac', 'n_counts'\n",
       "    var: 'gene_ids', 'feature_types', 'genome'"
      ]
     },
     "metadata": {},
     "output_type": "display_data"
    },
    {
     "data": {
      "text/plain": [
       "AnnData object with n_obs × n_vars = 24456 × 31040\n",
       "    obs: 'sample_name', 'raw', 'round', 'channel', 'empty_drops_FDR', 'neg_log10_empty_drops_FDR', 'n_umis', 'n_genes', 'log10_n_umis', 'log10_n_genes', 'barcode_rank', 'mt_frac', 'n_counts'\n",
       "    var: 'gene_ids', 'feature_types', 'genome'"
      ]
     },
     "metadata": {},
     "output_type": "display_data"
    },
    {
     "data": {
      "text/plain": [
       "AnnData object with n_obs × n_vars = 25112 × 31040\n",
       "    obs: 'sample_name', 'raw', 'round', 'channel', 'empty_drops_FDR', 'neg_log10_empty_drops_FDR', 'n_umis', 'n_genes', 'log10_n_umis', 'log10_n_genes', 'barcode_rank', 'mt_frac', 'n_counts'\n",
       "    var: 'gene_ids', 'feature_types', 'genome'"
      ]
     },
     "metadata": {},
     "output_type": "display_data"
    },
    {
     "data": {
      "text/plain": [
       "AnnData object with n_obs × n_vars = 26223 × 31040\n",
       "    obs: 'sample_name', 'raw', 'round', 'channel', 'empty_drops_FDR', 'neg_log10_empty_drops_FDR', 'n_umis', 'n_genes', 'log10_n_umis', 'log10_n_genes', 'barcode_rank', 'mt_frac', 'n_counts'\n",
       "    var: 'gene_ids', 'feature_types', 'genome'"
      ]
     },
     "metadata": {},
     "output_type": "display_data"
    },
    {
     "data": {
      "text/plain": [
       "AnnData object with n_obs × n_vars = 26406 × 31040\n",
       "    obs: 'sample_name', 'raw', 'round', 'channel', 'empty_drops_FDR', 'neg_log10_empty_drops_FDR', 'n_umis', 'n_genes', 'log10_n_umis', 'log10_n_genes', 'barcode_rank', 'mt_frac', 'n_counts'\n",
       "    var: 'gene_ids', 'feature_types', 'genome'"
      ]
     },
     "metadata": {},
     "output_type": "display_data"
    },
    {
     "data": {
      "text/plain": [
       "AnnData object with n_obs × n_vars = 28027 × 31040\n",
       "    obs: 'sample_name', 'raw', 'round', 'channel', 'empty_drops_FDR', 'neg_log10_empty_drops_FDR', 'n_umis', 'n_genes', 'log10_n_umis', 'log10_n_genes', 'barcode_rank', 'mt_frac', 'n_counts'\n",
       "    var: 'gene_ids', 'feature_types', 'genome'"
      ]
     },
     "metadata": {},
     "output_type": "display_data"
    },
    {
     "data": {
      "text/plain": [
       "AnnData object with n_obs × n_vars = 21500 × 31040\n",
       "    obs: 'sample_name', 'raw', 'round', 'channel', 'empty_drops_FDR', 'neg_log10_empty_drops_FDR', 'n_umis', 'n_genes', 'log10_n_umis', 'log10_n_genes', 'barcode_rank', 'mt_frac', 'n_counts'\n",
       "    var: 'gene_ids', 'feature_types', 'genome'"
      ]
     },
     "metadata": {},
     "output_type": "display_data"
    },
    {
     "data": {
      "text/plain": [
       "AnnData object with n_obs × n_vars = 23053 × 31040\n",
       "    obs: 'sample_name', 'raw', 'round', 'channel', 'empty_drops_FDR', 'neg_log10_empty_drops_FDR', 'n_umis', 'n_genes', 'log10_n_umis', 'log10_n_genes', 'barcode_rank', 'mt_frac', 'n_counts'\n",
       "    var: 'gene_ids', 'feature_types', 'genome'"
      ]
     },
     "metadata": {},
     "output_type": "display_data"
    },
    {
     "data": {
      "text/plain": [
       "AnnData object with n_obs × n_vars = 21972 × 31040\n",
       "    obs: 'sample_name', 'raw', 'round', 'channel', 'empty_drops_FDR', 'neg_log10_empty_drops_FDR', 'n_umis', 'n_genes', 'log10_n_umis', 'log10_n_genes', 'barcode_rank', 'mt_frac', 'n_counts'\n",
       "    var: 'gene_ids', 'feature_types', 'genome'"
      ]
     },
     "metadata": {},
     "output_type": "display_data"
    },
    {
     "data": {
      "text/plain": [
       "AnnData object with n_obs × n_vars = 12695 × 31040\n",
       "    obs: 'sample_name', 'raw', 'round', 'channel', 'empty_drops_FDR', 'neg_log10_empty_drops_FDR', 'n_umis', 'n_genes', 'log10_n_umis', 'log10_n_genes', 'barcode_rank', 'mt_frac', 'n_counts'\n",
       "    var: 'gene_ids', 'feature_types', 'genome'"
      ]
     },
     "metadata": {},
     "output_type": "display_data"
    },
    {
     "data": {
      "text/plain": [
       "AnnData object with n_obs × n_vars = 21138 × 31040\n",
       "    obs: 'sample_name', 'raw', 'round', 'channel', 'empty_drops_FDR', 'neg_log10_empty_drops_FDR', 'n_umis', 'n_genes', 'log10_n_umis', 'log10_n_genes', 'barcode_rank', 'mt_frac', 'n_counts'\n",
       "    var: 'gene_ids', 'feature_types', 'genome'"
      ]
     },
     "metadata": {},
     "output_type": "display_data"
    },
    {
     "data": {
      "text/plain": [
       "AnnData object with n_obs × n_vars = 22566 × 31040\n",
       "    obs: 'sample_name', 'raw', 'round', 'channel', 'empty_drops_FDR', 'neg_log10_empty_drops_FDR', 'n_umis', 'n_genes', 'log10_n_umis', 'log10_n_genes', 'barcode_rank', 'mt_frac', 'n_counts'\n",
       "    var: 'gene_ids', 'feature_types', 'genome'"
      ]
     },
     "metadata": {},
     "output_type": "display_data"
    }
   ],
   "source": [
    "for k, ad in tqdm(list(conf_samples.items())):\n",
    "    if par_cutoff_min_genes: sc.pp.filter_cells(ad, min_genes=par_cutoff_min_genes)\n",
    "    if par_cutoff_max_genes: sc.pp.filter_cells(ad, max_genes=par_cutoff_max_genes)\n",
    "    if par_cutoff_min_counts: sc.pp.filter_cells(ad, min_counts=par_cutoff_min_counts)\n",
    "    if par_final_empty_drops_fdr_cutoff: ad._inplace_subset_obs(ad.obs.empty_drops_FDR < par_final_empty_drops_fdr_cutoff)\n",
    "    if par_mito_cutoff:\n",
    "        if isinstance(par_mito_cutoff, str) and par_mito_cutoff.endswith('_'):\n",
    "            ad._inplace_subset_obs(ad.obs.mt_frac < ad.obs[par_mito_cutoff])\n",
    "        else:\n",
    "            ad._inplace_subset_obs(ad.obs.mt_frac < par_mito_cutoff)\n",
    "    if par_remove_mito_genes:\n",
    "        ad._inplace_subset_var(~ad.var_names.str.startswith(conf_mt_prefix))\n",
    "\n",
    "    display(ad)"
   ]
  },
  {
   "cell_type": "code",
   "execution_count": 7,
   "metadata": {
    "papermill": {
     "duration": 6096.454001,
     "end_time": "2020-02-03T03:49:47.803461",
     "exception": false,
     "start_time": "2020-02-03T02:08:11.349460",
     "status": "completed"
    },
    "tags": []
   },
   "outputs": [
    {
     "name": "stderr",
     "output_type": "stream",
     "text": [
      "/home/eraslab1/miniconda3/lib/python3.8/site-packages/anndata/_core/anndata.py:1785: FutureWarning: X.dtype being converted to np.float32 from float64. In the next version of anndata (0.9) conversion will not be automatic. Pass dtype explicitly to avoid this warning. Pass `AnnData(X, dtype=X.dtype, ...)` to get the future behavour.\n",
      "  [AnnData(sparse.csr_matrix(a.shape), obs=a.obs) for a in all_adatas],\n"
     ]
    },
    {
     "name": "stdout",
     "output_type": "stream",
     "text": [
      "CPU times: user 7.33 s, sys: 4.54 s, total: 11.9 s\n",
      "Wall time: 11.9 s\n"
     ]
    },
    {
     "data": {
      "text/plain": [
       "AnnData object with n_obs × n_vars = 1071671 × 31040\n",
       "    obs: 'sample_name', 'raw', 'round', 'channel', 'empty_drops_FDR', 'neg_log10_empty_drops_FDR', 'n_umis', 'n_genes', 'log10_n_umis', 'log10_n_genes', 'barcode_rank', 'mt_frac', 'n_counts'\n",
       "    var: 'gene_ids', 'feature_types', 'genome'"
      ]
     },
     "execution_count": 7,
     "metadata": {},
     "output_type": "execute_result"
    }
   ],
   "source": [
    "%%time\n",
    "\n",
    "batch_categories, ads = zip(*conf_samples.items())\n",
    "\n",
    "adata = sc.AnnData.concatenate(*ads, join=par_merge_type, batch_key=par_batch_key, batch_categories=batch_categories)\n",
    "if 'X_diffmap' in adata.obsm_keys():\n",
    "    del adata.obsm['X_diffmap']\n",
    "del conf_samples\n",
    "\n",
    "adata"
   ]
  },
  {
   "cell_type": "code",
   "execution_count": 48,
   "metadata": {},
   "outputs": [],
   "source": [
    "koGenes = pd.read_csv('KO_genes.csv')\n",
    "koGenes.columns = [\"KOGenes\"]\n",
    "koGenes = pd.Series(koGenes.KOGenes)\n",
    "koGenes = koGenes[koGenes != \"NO\"]\n",
    "koGenes = koGenes[koGenes != \"ONE\"]"
   ]
  },
  {
   "cell_type": "code",
   "execution_count": 51,
   "metadata": {},
   "outputs": [],
   "source": [
    "koGenes.to_csv(\"KoGenes.csv\", index=False)"
   ]
  },
  {
   "cell_type": "code",
   "execution_count": 44,
   "metadata": {},
   "outputs": [
    {
     "data": {
      "text/plain": [
       "16           Gm44505\n",
       "38             Tceb2\n",
       "110            Tssc1\n",
       "190            Rfwd2\n",
       "211     LOC101055995\n",
       "246           Gm9840\n",
       "290            Whsc1\n",
       "316           Cirh1a\n",
       "342            Tceb3\n",
       "375        Siah1-ps1\n",
       "381        Siah1-ps2\n",
       "426          Gm19640\n",
       "438     LOC108168312\n",
       "521          Gm12361\n",
       "643          Gm15800\n",
       "699          Gm18806\n",
       "708          Whsc1l1\n",
       "712     LOC102637711\n",
       "742            Btbd8\n",
       "761            Tceb1\n",
       "811           Gm9847\n",
       "864     LOC100861784\n",
       "965          Gm19741\n",
       "974          Gm18856\n",
       "1009         Gm19037\n",
       "1028         Gm13416\n",
       "1030          Klhl17\n",
       "1036          Gm3701\n",
       "1102      Rnf8-cmtr1\n",
       "1122           Vprbp\n",
       "Name: KOGenes, dtype: object"
      ]
     },
     "execution_count": 44,
     "metadata": {},
     "output_type": "execute_result"
    }
   ],
   "source": [
    "koGenes[~koGenes.isin(adata.var_names)]"
   ]
  },
  {
   "cell_type": "code",
   "execution_count": 37,
   "metadata": {},
   "outputs": [
    {
     "data": {
      "text/plain": [
       "False"
      ]
     },
     "execution_count": 37,
     "metadata": {},
     "output_type": "execute_result"
    }
   ],
   "source": [
    "\"Siah1_ps1\" in adata.var_names"
   ]
  },
  {
   "cell_type": "code",
   "execution_count": 39,
   "metadata": {},
   "outputs": [],
   "source": [
    "pd.Series(adata.var_names).to_csv(\"AllGeneNames.csv\")"
   ]
  },
  {
   "cell_type": "code",
   "execution_count": 45,
   "metadata": {},
   "outputs": [
    {
     "data": {
      "text/plain": [
       "(1071671, 31040)"
      ]
     },
     "execution_count": 45,
     "metadata": {},
     "output_type": "execute_result"
    }
   ],
   "source": [
    "adata.X.shape"
   ]
  },
  {
   "cell_type": "code",
   "execution_count": 46,
   "metadata": {},
   "outputs": [
    {
     "name": "stdout",
     "output_type": "stream",
     "text": [
      "filtered out 17229 genes that are detected in less than 400 cells\n"
     ]
    }
   ],
   "source": [
    "sc.pp.filter_genes(adata, min_cells=400)"
   ]
  },
  {
   "cell_type": "code",
   "execution_count": 47,
   "metadata": {},
   "outputs": [
    {
     "data": {
      "text/plain": [
       "(1071671, 13811)"
      ]
     },
     "execution_count": 47,
     "metadata": {},
     "output_type": "execute_result"
    }
   ],
   "source": [
    "adata.X.shape"
   ]
  },
  {
   "cell_type": "code",
   "execution_count": 14,
   "metadata": {},
   "outputs": [
    {
     "data": {
      "text/plain": [
       "(1071671, 13811)"
      ]
     },
     "execution_count": 14,
     "metadata": {},
     "output_type": "execute_result"
    }
   ],
   "source": [
    "adata.X.shape"
   ]
  },
  {
   "cell_type": "code",
   "execution_count": 15,
   "metadata": {
    "papermill": {
     "duration": 112.805798,
     "end_time": "2020-02-03T07:28:26.169805",
     "exception": false,
     "start_time": "2020-02-03T07:26:33.364007",
     "status": "completed"
    },
    "tags": []
   },
   "outputs": [
    {
     "name": "stderr",
     "output_type": "stream",
     "text": [
      "... storing 'round' as categorical\n",
      "... storing 'feature_types-E3-1' as categorical\n",
      "... storing 'genome-E3-1' as categorical\n",
      "... storing 'feature_types-E3-2' as categorical\n",
      "... storing 'genome-E3-2' as categorical\n",
      "... storing 'feature_types-E3-3' as categorical\n",
      "... storing 'genome-E3-3' as categorical\n",
      "... storing 'feature_types-E3-4' as categorical\n",
      "... storing 'genome-E3-4' as categorical\n",
      "... storing 'feature_types-E3-5' as categorical\n",
      "... storing 'genome-E3-5' as categorical\n",
      "... storing 'feature_types-E3-6' as categorical\n",
      "... storing 'genome-E3-6' as categorical\n",
      "... storing 'feature_types-E3-7' as categorical\n",
      "... storing 'genome-E3-7' as categorical\n",
      "... storing 'feature_types-E3-8' as categorical\n",
      "... storing 'genome-E3-8' as categorical\n",
      "... storing 'feature_types-E3-9' as categorical\n",
      "... storing 'genome-E3-9' as categorical\n",
      "... storing 'feature_types-E3-10' as categorical\n",
      "... storing 'genome-E3-10' as categorical\n",
      "... storing 'feature_types-E3-11' as categorical\n",
      "... storing 'genome-E3-11' as categorical\n",
      "... storing 'feature_types-E3-12' as categorical\n",
      "... storing 'genome-E3-12' as categorical\n",
      "... storing 'feature_types-E3-13' as categorical\n",
      "... storing 'genome-E3-13' as categorical\n",
      "... storing 'feature_types-E3-14' as categorical\n",
      "... storing 'genome-E3-14' as categorical\n",
      "... storing 'feature_types-E3-15' as categorical\n",
      "... storing 'genome-E3-15' as categorical\n",
      "... storing 'feature_types-E3-16' as categorical\n",
      "... storing 'genome-E3-16' as categorical\n",
      "... storing 'feature_types-E3-17' as categorical\n",
      "... storing 'genome-E3-17' as categorical\n",
      "... storing 'feature_types-E3-18' as categorical\n",
      "... storing 'genome-E3-18' as categorical\n",
      "... storing 'feature_types-E3-19' as categorical\n",
      "... storing 'genome-E3-19' as categorical\n",
      "... storing 'feature_types-E3-20' as categorical\n",
      "... storing 'genome-E3-20' as categorical\n",
      "... storing 'feature_types-E3-21' as categorical\n",
      "... storing 'genome-E3-21' as categorical\n",
      "... storing 'feature_types-E3-22' as categorical\n",
      "... storing 'genome-E3-22' as categorical\n",
      "... storing 'feature_types-E3-23' as categorical\n",
      "... storing 'genome-E3-23' as categorical\n",
      "... storing 'feature_types-E3-24' as categorical\n",
      "... storing 'genome-E3-24' as categorical\n",
      "... storing 'feature_types-E4-1' as categorical\n",
      "... storing 'genome-E4-1' as categorical\n",
      "... storing 'feature_types-E4-2' as categorical\n",
      "... storing 'genome-E4-2' as categorical\n",
      "... storing 'feature_types-E4-3' as categorical\n",
      "... storing 'genome-E4-3' as categorical\n",
      "... storing 'feature_types-E4-4' as categorical\n",
      "... storing 'genome-E4-4' as categorical\n",
      "... storing 'feature_types-E4-5' as categorical\n",
      "... storing 'genome-E4-5' as categorical\n",
      "... storing 'feature_types-E4-6' as categorical\n",
      "... storing 'genome-E4-6' as categorical\n",
      "... storing 'feature_types-E4-7' as categorical\n",
      "... storing 'genome-E4-7' as categorical\n",
      "... storing 'feature_types-E4-8' as categorical\n",
      "... storing 'genome-E4-8' as categorical\n",
      "... storing 'feature_types-E4-9' as categorical\n",
      "... storing 'genome-E4-9' as categorical\n",
      "... storing 'feature_types-E4-10' as categorical\n",
      "... storing 'genome-E4-10' as categorical\n",
      "... storing 'feature_types-E4-11' as categorical\n",
      "... storing 'genome-E4-11' as categorical\n",
      "... storing 'feature_types-E4-12' as categorical\n",
      "... storing 'genome-E4-12' as categorical\n",
      "... storing 'feature_types-E4-13' as categorical\n",
      "... storing 'genome-E4-13' as categorical\n",
      "... storing 'feature_types-E4-14' as categorical\n",
      "... storing 'genome-E4-14' as categorical\n",
      "... storing 'feature_types-E4-15' as categorical\n",
      "... storing 'genome-E4-15' as categorical\n",
      "... storing 'feature_types-E4-16' as categorical\n",
      "... storing 'genome-E4-16' as categorical\n",
      "... storing 'feature_types-E4-17' as categorical\n",
      "... storing 'genome-E4-17' as categorical\n",
      "... storing 'feature_types-E4-19' as categorical\n",
      "... storing 'genome-E4-19' as categorical\n",
      "... storing 'feature_types-E4-20' as categorical\n",
      "... storing 'genome-E4-20' as categorical\n",
      "... storing 'feature_types-E4-21' as categorical\n",
      "... storing 'genome-E4-21' as categorical\n",
      "... storing 'feature_types-E4-22' as categorical\n",
      "... storing 'genome-E4-22' as categorical\n",
      "... storing 'feature_types-E4-24' as categorical\n",
      "... storing 'genome-E4-24' as categorical\n"
     ]
    }
   ],
   "source": [
    "adata.write(par_save_filename)"
   ]
  },
  {
   "cell_type": "markdown",
   "metadata": {
    "papermill": {
     "duration": 0.068729,
     "end_time": "2020-02-18T17:47:57.076138",
     "exception": false,
     "start_time": "2020-02-18T17:47:57.007409",
     "status": "completed"
    },
    "tags": []
   },
   "source": [
    "## Predict sex"
   ]
  },
  {
   "cell_type": "code",
   "execution_count": null,
   "metadata": {
    "papermill": {
     "duration": 4.391385,
     "end_time": "2020-02-18T17:48:01.536470",
     "exception": false,
     "start_time": "2020-02-18T17:47:57.145085",
     "status": "completed"
    },
    "tags": []
   },
   "outputs": [],
   "source": [
    "# conf_xist_gene_name = 'Xist' if par_species == 'mouse' else 'XIST'\n",
    "\n",
    "# for adata in tqdm(list(conf_samples.values())):\n",
    "#     if conf_xist_gene_name in adata.var_names:\n",
    "#         adata.obs['predicted_sex'] = ['female' if x else 'male' for x in adata.obs_vector(conf_xist_gene_name) > 0]\n",
    "#     else:\n",
    "#         adata.obs['predicted_sex'] = 'male'"
   ]
  },
  {
   "cell_type": "markdown",
   "metadata": {
    "papermill": {
     "duration": 0.124194,
     "end_time": "2020-02-18T17:49:18.264089",
     "exception": false,
     "start_time": "2020-02-18T17:49:18.139895",
     "status": "completed"
    },
    "tags": []
   },
   "source": [
    "### Exclude mito genes and & sex genes"
   ]
  },
  {
   "cell_type": "code",
   "execution_count": null,
   "metadata": {
    "papermill": {
     "duration": 0.161359,
     "end_time": "2020-02-18T17:49:45.937722",
     "exception": false,
     "start_time": "2020-02-18T17:49:45.776363",
     "status": "completed"
    },
    "tags": []
   },
   "outputs": [],
   "source": [
    "# if par_remove_sex_genes:\n",
    "#     from pyannotables import tables\n",
    "\n",
    "#     for sample in tqdm(list(conf_samples.keys())):\n",
    "#         genes = tables['mus_musculus-ensembl95-GRCm38'] if par_species == 'mouse' else tables['homo_sapiens-ensembl95-GRCh38']\n",
    "#         sex_genes = genes.gene_name[genes.contig.isin(['X', 'Y'])].values\n",
    "\n",
    "#         conf_samples[sample] = conf_samples[sample][:, ~conf_samples[sample].var_names.isin(sex_genes)].copy()\n",
    "#         display(conf_samples[sample])\n",
    "\n",
    "#     del tables"
   ]
  },
  {
   "cell_type": "markdown",
   "metadata": {
    "papermill": {
     "duration": 0.235698,
     "end_time": "2020-02-18T17:51:02.541746",
     "exception": false,
     "start_time": "2020-02-18T17:51:02.306048",
     "status": "completed"
    },
    "tags": []
   },
   "source": [
    "## Normalization and log transform"
   ]
  },
  {
   "cell_type": "code",
   "execution_count": null,
   "metadata": {
    "papermill": {
     "duration": 61.60125,
     "end_time": "2020-02-18T17:52:04.369061",
     "exception": false,
     "start_time": "2020-02-18T17:51:02.767811",
     "status": "completed"
    },
    "tags": []
   },
   "outputs": [],
   "source": [
    "# for adata in tqdm(list(conf_samples.values())):\n",
    "#     adata.layers['counts'] = adata.X.copy()\n",
    "#     sc.pp.normalize_total(adata, target_sum=par_preprocessing_target_sum)\n",
    "#     sc.pp.log1p(adata)\n",
    "#     adata.raw = adata\n",
    "\n",
    "#     display(adata)"
   ]
  },
  {
   "cell_type": "markdown",
   "metadata": {
    "papermill": {
     "duration": 0.291902,
     "end_time": "2020-02-18T17:52:04.937768",
     "exception": false,
     "start_time": "2020-02-18T17:52:04.645866",
     "status": "completed"
    },
    "tags": []
   },
   "source": [
    "## Cell cycle scores"
   ]
  },
  {
   "cell_type": "code",
   "execution_count": null,
   "metadata": {
    "papermill": {
     "duration": 84.343566,
     "end_time": "2020-02-18T17:53:29.556827",
     "exception": false,
     "start_time": "2020-02-18T17:52:05.213261",
     "status": "completed"
    },
    "tags": []
   },
   "outputs": [],
   "source": [
    "# gene_list_url = 'https://raw.githubusercontent.com/theislab/scanpy_usage/master/180209_cell_cycle/data/regev_lab_cell_cycle_genes.txt'\n",
    "\n",
    "# if par_species == 'mouse':\n",
    "#     cell_cycle_genes = [str(x.strip(), 'utf-8').capitalize() for x in urlopen(gene_list_url)] # capitalize = shame\n",
    "# else:\n",
    "#     cell_cycle_genes = [str(x.strip(), 'utf-8') for x in urlopen(gene_list_url)]\n",
    "\n",
    "# s_genes = cell_cycle_genes[:43]\n",
    "# g2m_genes = cell_cycle_genes[43:]\n",
    "\n",
    "# for adata in tqdm(list(conf_samples.values())):\n",
    "#     sc.tl.score_genes_cell_cycle(adata, s_genes=s_genes, g2m_genes=g2m_genes)"
   ]
  },
  {
   "cell_type": "markdown",
   "metadata": {
    "papermill": {
     "duration": 0.437418,
     "end_time": "2020-02-18T17:53:30.398021",
     "exception": false,
     "start_time": "2020-02-18T17:53:29.960603",
     "status": "completed"
    },
    "tags": []
   },
   "source": [
    "## Regress out"
   ]
  },
  {
   "cell_type": "code",
   "execution_count": null,
   "metadata": {
    "papermill": {
     "duration": 0.487445,
     "end_time": "2020-02-18T17:53:31.319327",
     "exception": false,
     "start_time": "2020-02-18T17:53:30.831882",
     "status": "completed"
    },
    "tags": []
   },
   "outputs": [],
   "source": [
    "#%%time\n",
    "\n",
    "#for adata in tqdm(list(conf_samples.values())):\n",
    "#    for v in par_regress_out_variables:\n",
    "#        sc.pp.regress_out(adata, v)"
   ]
  },
  {
   "cell_type": "markdown",
   "metadata": {
    "papermill": {
     "duration": 0.406705,
     "end_time": "2020-02-18T17:53:32.149608",
     "exception": false,
     "start_time": "2020-02-18T17:53:31.742903",
     "status": "completed"
    },
    "tags": []
   },
   "source": [
    "## Downstream"
   ]
  },
  {
   "cell_type": "code",
   "execution_count": null,
   "metadata": {
    "papermill": {
     "duration": 3573.262764,
     "end_time": "2020-02-18T18:53:05.811922",
     "exception": false,
     "start_time": "2020-02-18T17:53:32.549158",
     "status": "completed"
    },
    "tags": []
   },
   "outputs": [],
   "source": [
    "# sc.settings.verbosity = 0\n",
    "\n",
    "# for sample, ad in tqdm(list(conf_samples.items())):\n",
    "\n",
    "#     assert np.min(ad.X) >= 0.0\n",
    "#     ad._inplace_subset_var(ad.X.sum(0).A1 > 0)\n",
    "#     ad._inplace_subset_obs(ad.X.sum(1).A1 > 0)\n",
    "\n",
    "#     sc.pp.highly_variable_genes(ad, n_top_genes=par_downstream_n_top_genes)\n",
    "\n",
    "#     n_pcs = min(min(ad.n_obs, ad.n_vars)-1, par_downstream_n_pcs)\n",
    "#     sc.pp.pca(ad, n_comps=n_pcs, svd_solver='arpack')\n",
    "#     sc.pp.neighbors(ad, n_neighbors=par_downstream_n_neighbors, metric=par_downstream_neighbor_metric)\n",
    "#     sc.tl.umap(ad)\n",
    "#     sc.tl.leiden(ad, resolution=par_downstream_louvain_resolution)\n",
    "#     sc.tl.diffmap(ad)\n",
    "\n",
    "#     ad._sanitize()"
   ]
  },
  {
   "cell_type": "markdown",
   "metadata": {
    "papermill": {
     "duration": 0.648092,
     "end_time": "2020-02-18T18:53:07.071349",
     "exception": false,
     "start_time": "2020-02-18T18:53:06.423257",
     "status": "completed"
    },
    "tags": []
   },
   "source": [
    "# Visualization"
   ]
  },
  {
   "cell_type": "code",
   "execution_count": null,
   "metadata": {
    "papermill": {
     "duration": 0.534135,
     "end_time": "2020-02-18T18:53:08.117944",
     "exception": false,
     "start_time": "2020-02-18T18:53:07.583809",
     "status": "completed"
    },
    "tags": []
   },
   "outputs": [],
   "source": [
    "# conf_visualize_features = ['log10_n_umis', 'log10_n_genes', 'neg_log10_empty_drops_FDR',\n",
    "#                            'mt_frac', '10x_cell_calling', \n",
    "#                            'phase', 'scrublet']"
   ]
  },
  {
   "cell_type": "code",
   "execution_count": null,
   "metadata": {
    "papermill": {
     "duration": 733.852187,
     "end_time": "2020-02-18T19:05:22.504514",
     "exception": false,
     "start_time": "2020-02-18T18:53:08.652327",
     "status": "completed"
    },
    "tags": []
   },
   "outputs": [],
   "source": [
    "# %%time\n",
    "\n",
    "# from IPython.core.display import display, HTML\n",
    "\n",
    "# for sample, ad in tqdm(list(conf_samples.items())):\n",
    "\n",
    "#     display(HTML(f'<h1>Sample: {sample}</h1>'))\n",
    "\n",
    "#     f, ax = plt.subplots(1, 4, figsize=(20, 4))\n",
    "#     sc.pl.scatter(ad,\n",
    "#                   x='n_umis',\n",
    "#                   y='n_genes',\n",
    "#                   color='mt_frac',\n",
    "#                   ax=ax[0],\n",
    "#                   show=False,\n",
    "#                   right_margin=2.85,\n",
    "#                   title='Percent mitochondrial UMIs')\n",
    "#     ax[0].set_xscale('log')\n",
    "#     ax[0].set_yscale('log')\n",
    "\n",
    "#     sc.pl.scatter(ad, x='n_umis', y='mt_frac', ax=ax[1], show=False)\n",
    "#     ax[1].set_xscale('log')\n",
    "#     plt.subplots_adjust(wspace=0.5)\n",
    "\n",
    "#     sc.pl.violin(ad, keys='log10_n_genes', groupby='sample_name', rotation=90, ax=ax[2], show=False)\n",
    "#     sc.pl.violin(ad, keys='log10_n_umis', groupby='sample_name', rotation=90, ax=ax[3], show=False)\n",
    "\n",
    "#     sc.pl.violin(adata, ['n_genes', 'n_counts', 'mt_frac'],\n",
    "#              jitter=0.4, multi_panel=True)\n",
    "    \n",
    "#     f, ax = plt.subplots(figsize=(10, 10))\n",
    "#     sc.pl.umap(ad, color='leiden', legend_loc='on data', legend_fontoutline=3, legend_fontsize=14, legend_fontweight='normal', title='Clusters', ax=ax, show=False)\n",
    "\n",
    "#     #sc.pl.umap(ad, color=conf_visualize_features, wspace=0.7, ncols=4)\n",
    "#     sc.pl.umap(ad, color='scrublet_score', vmax=0.5, cmap='Reds')\n",
    "\n",
    "#     ##### Save\n",
    "#     ad.write(par_save_filename_sample % sample)"
   ]
  },
  {
   "cell_type": "markdown",
   "metadata": {
    "papermill": {
     "duration": 6.306287,
     "end_time": "2020-02-18T19:05:35.270160",
     "exception": false,
     "start_time": "2020-02-18T19:05:28.963873",
     "status": "completed"
    },
    "tags": []
   },
   "source": [
    "## Serialize the session"
   ]
  },
  {
   "cell_type": "code",
   "execution_count": null,
   "metadata": {
    "papermill": {
     "duration": 6.254637,
     "end_time": "2020-02-18T19:05:47.780007",
     "exception": false,
     "start_time": "2020-02-18T19:05:41.525370",
     "status": "completed"
    },
    "tags": []
   },
   "outputs": [],
   "source": [
    "# conf_samples_processed = conf_samples\n",
    "# del conf_samples"
   ]
  },
  {
   "cell_type": "code",
   "execution_count": null,
   "metadata": {
    "papermill": {
     "duration": 140.05419,
     "end_time": "2020-02-18T19:08:13.901152",
     "exception": false,
     "start_time": "2020-02-18T19:05:53.846962",
     "status": "completed"
    },
    "tags": []
   },
   "outputs": [],
   "source": [
    "# k = None\n",
    "# var = None\n",
    "\n",
    "# with shelve.open('session.pkl', protocol=4) as db:\n",
    "#     for k, var in globals().items():\n",
    "#         if k.startswith('par_') or k.startswith('conf_'):\n",
    "#             print(f'Storing {k}...')\n",
    "#             db[k] = var\n",
    "# db.close()"
   ]
  },
  {
   "cell_type": "code",
   "execution_count": null,
   "metadata": {},
   "outputs": [],
   "source": []
  }
 ],
 "metadata": {
  "jupytext": {
   "cell_metadata_json": true
  },
  "kernelspec": {
   "display_name": "Python 3 (ipykernel)",
   "language": "python",
   "name": "python3"
  },
  "language_info": {
   "codemirror_mode": {
    "name": "ipython",
    "version": 3
   },
   "file_extension": ".py",
   "mimetype": "text/x-python",
   "name": "python",
   "nbconvert_exporter": "python",
   "pygments_lexer": "ipython3",
   "version": "3.8.13"
  },
  "papermill": {
   "duration": 7643.469567,
   "end_time": "2020-02-18T19:08:25.464557",
   "environment_variables": {},
   "exception": null,
   "input_path": "inputs/notebooks/jovian-02a-downstream-qc.ipynb",
   "output_path": "outputs/notebooks/jovian-02a-downstream-qc.ipynb",
   "parameters": {
    "par_batch_key": "sample_name",
    "par_cutoff_max_genes": null,
    "par_cutoff_min_counts": 200,
    "par_cutoff_min_genes": 200,
    "par_data_dir": "data",
    "par_de_group": "leiden",
    "par_de_method": "t-test_overestim_var",
    "par_de_n_genes": 2000,
    "par_downstream_hvg_batch_key": null,
    "par_downstream_louvain_resolution": 1.5,
    "par_downstream_n_neighbors": 15,
    "par_downstream_n_pcs": 50,
    "par_downstream_n_top_genes": 2000,
    "par_downstream_neighbor_metric": "euclidean",
    "par_empty_drops_fdr_cutoff": 0.01,
    "par_empty_drops_ignore_cutoff": 10,
    "par_empty_drops_lower_umi_cutoff": 200,
    "par_empty_drops_niters": 10000,
    "par_empty_drops_retain": 800,
    "par_final_empty_drops_fdr_cutoff": 0.01,
    "par_generate_plots_per_group": true,
    "par_group_key": "round",
    "par_initial_gene_cutoff": 10,
    "par_initial_umi_cutoff": 10,
    "par_merge_type": "outer",
    "par_mito_cutoff": 0.2,
    "par_per_group_de": true,
    "par_preprocessing_target_sum": 10000,
    "par_regress_out_n_jobs": 1,
    "par_regress_out_variables": [],
    "par_remove_doublets": false,
    "par_remove_mito_genes": true,
    "par_remove_sex_genes": false,
    "par_save_filename": "outputs/anndata/adata.h5ad",
    "par_save_filename_de": "outputs/reports/de-genes.xlsx",
    "par_save_filename_de_group": "outputs/reports/de-genes-%s.xlsx",
    "par_save_filename_group": "outputs/anndata/adata-group-%s.h5ad",
    "par_save_filename_sample": "outputs/anndata/adata-sample-%s.h5ad",
    "par_species": "mouse"
   },
   "start_time": "2020-02-18T17:01:01.994990",
   "version": "1.2.1"
  },
  "widgets": {
   "application/vnd.jupyter.widget-state+json": {
    "state": {
     "015c754a2ee14fe4a483d9aa9e12a33b": {
      "model_module": "@jupyter-widgets/base",
      "model_module_version": "1.2.0",
      "model_name": "LayoutModel",
      "state": {
       "_model_module": "@jupyter-widgets/base",
       "_model_module_version": "1.2.0",
       "_model_name": "LayoutModel",
       "_view_count": null,
       "_view_module": "@jupyter-widgets/base",
       "_view_module_version": "1.2.0",
       "_view_name": "LayoutView",
       "align_content": null,
       "align_items": null,
       "align_self": null,
       "border": null,
       "bottom": null,
       "display": null,
       "flex": null,
       "flex_flow": null,
       "grid_area": null,
       "grid_auto_columns": null,
       "grid_auto_flow": null,
       "grid_auto_rows": null,
       "grid_column": null,
       "grid_gap": null,
       "grid_row": null,
       "grid_template_areas": null,
       "grid_template_columns": null,
       "grid_template_rows": null,
       "height": null,
       "justify_content": null,
       "justify_items": null,
       "left": null,
       "margin": null,
       "max_height": null,
       "max_width": null,
       "min_height": null,
       "min_width": null,
       "object_fit": null,
       "object_position": null,
       "order": null,
       "overflow": null,
       "overflow_x": null,
       "overflow_y": null,
       "padding": null,
       "right": null,
       "top": null,
       "visibility": null,
       "width": null
      }
     },
     "03c25218db1741b78d30fe1a1d8cf7dc": {
      "model_module": "@jupyter-widgets/controls",
      "model_module_version": "1.5.0",
      "model_name": "ProgressStyleModel",
      "state": {
       "_model_module": "@jupyter-widgets/controls",
       "_model_module_version": "1.5.0",
       "_model_name": "ProgressStyleModel",
       "_view_count": null,
       "_view_module": "@jupyter-widgets/base",
       "_view_module_version": "1.2.0",
       "_view_name": "StyleView",
       "bar_color": null,
       "description_width": "initial"
      }
     },
     "050ee9bd289b4f47920a3ef442d3c5dd": {
      "model_module": "@jupyter-widgets/controls",
      "model_module_version": "1.5.0",
      "model_name": "FloatProgressModel",
      "state": {
       "_dom_classes": [],
       "_model_module": "@jupyter-widgets/controls",
       "_model_module_version": "1.5.0",
       "_model_name": "FloatProgressModel",
       "_view_count": null,
       "_view_module": "@jupyter-widgets/controls",
       "_view_module_version": "1.5.0",
       "_view_name": "ProgressView",
       "bar_style": "success",
       "description": "100%",
       "description_tooltip": null,
       "layout": "IPY_MODEL_5aee848b830746e5b3cba94e9655c157",
       "max": 46,
       "min": 0,
       "orientation": "horizontal",
       "style": "IPY_MODEL_597c58e852964da680d3bb7905930a3a",
       "value": 46
      }
     },
     "06ed1966deaa4b538a9c075907bc61d8": {
      "model_module": "@jupyter-widgets/controls",
      "model_module_version": "1.5.0",
      "model_name": "FloatProgressModel",
      "state": {
       "_dom_classes": [],
       "_model_module": "@jupyter-widgets/controls",
       "_model_module_version": "1.5.0",
       "_model_name": "FloatProgressModel",
       "_view_count": null,
       "_view_module": "@jupyter-widgets/controls",
       "_view_module_version": "1.5.0",
       "_view_name": "ProgressView",
       "bar_style": "success",
       "description": "100%",
       "description_tooltip": null,
       "layout": "IPY_MODEL_1f75722ffc3a483e8be33ee4779e9d9d",
       "max": 46,
       "min": 0,
       "orientation": "horizontal",
       "style": "IPY_MODEL_f7c56a0848154fb8ada1b33e3c95c5f6",
       "value": 46
      }
     },
     "0c786d0ead794fb8a85b742dd71bc8a7": {
      "model_module": "@jupyter-widgets/controls",
      "model_module_version": "1.5.0",
      "model_name": "DescriptionStyleModel",
      "state": {
       "_model_module": "@jupyter-widgets/controls",
       "_model_module_version": "1.5.0",
       "_model_name": "DescriptionStyleModel",
       "_view_count": null,
       "_view_module": "@jupyter-widgets/base",
       "_view_module_version": "1.2.0",
       "_view_name": "StyleView",
       "description_width": ""
      }
     },
     "118bd6c77a1d486fbf3cc7b7570aa509": {
      "model_module": "@jupyter-widgets/controls",
      "model_module_version": "1.5.0",
      "model_name": "HTMLModel",
      "state": {
       "_dom_classes": [],
       "_model_module": "@jupyter-widgets/controls",
       "_model_module_version": "1.5.0",
       "_model_name": "HTMLModel",
       "_view_count": null,
       "_view_module": "@jupyter-widgets/controls",
       "_view_module_version": "1.5.0",
       "_view_name": "HTMLView",
       "description": "",
       "description_tooltip": null,
       "layout": "IPY_MODEL_1f2e57ec86d3435997dcc9069a54e8b6",
       "placeholder": "​",
       "style": "IPY_MODEL_f92adb75c3d947ae88475b429fb04009",
       "value": " 46/46 [00:28&lt;00:00,  1.60it/s]"
      }
     },
     "126135de5fd548a3a0e9e96ebb816f09": {
      "model_module": "@jupyter-widgets/controls",
      "model_module_version": "1.5.0",
      "model_name": "DescriptionStyleModel",
      "state": {
       "_model_module": "@jupyter-widgets/controls",
       "_model_module_version": "1.5.0",
       "_model_name": "DescriptionStyleModel",
       "_view_count": null,
       "_view_module": "@jupyter-widgets/base",
       "_view_module_version": "1.2.0",
       "_view_name": "StyleView",
       "description_width": ""
      }
     },
     "1e4b428c3a7145b4918bb82512c8d82f": {
      "model_module": "@jupyter-widgets/controls",
      "model_module_version": "1.5.0",
      "model_name": "ProgressStyleModel",
      "state": {
       "_model_module": "@jupyter-widgets/controls",
       "_model_module_version": "1.5.0",
       "_model_name": "ProgressStyleModel",
       "_view_count": null,
       "_view_module": "@jupyter-widgets/base",
       "_view_module_version": "1.2.0",
       "_view_name": "StyleView",
       "bar_color": null,
       "description_width": "initial"
      }
     },
     "1f2e57ec86d3435997dcc9069a54e8b6": {
      "model_module": "@jupyter-widgets/base",
      "model_module_version": "1.2.0",
      "model_name": "LayoutModel",
      "state": {
       "_model_module": "@jupyter-widgets/base",
       "_model_module_version": "1.2.0",
       "_model_name": "LayoutModel",
       "_view_count": null,
       "_view_module": "@jupyter-widgets/base",
       "_view_module_version": "1.2.0",
       "_view_name": "LayoutView",
       "align_content": null,
       "align_items": null,
       "align_self": null,
       "border": null,
       "bottom": null,
       "display": null,
       "flex": null,
       "flex_flow": null,
       "grid_area": null,
       "grid_auto_columns": null,
       "grid_auto_flow": null,
       "grid_auto_rows": null,
       "grid_column": null,
       "grid_gap": null,
       "grid_row": null,
       "grid_template_areas": null,
       "grid_template_columns": null,
       "grid_template_rows": null,
       "height": null,
       "justify_content": null,
       "justify_items": null,
       "left": null,
       "margin": null,
       "max_height": null,
       "max_width": null,
       "min_height": null,
       "min_width": null,
       "object_fit": null,
       "object_position": null,
       "order": null,
       "overflow": null,
       "overflow_x": null,
       "overflow_y": null,
       "padding": null,
       "right": null,
       "top": null,
       "visibility": null,
       "width": null
      }
     },
     "1f75722ffc3a483e8be33ee4779e9d9d": {
      "model_module": "@jupyter-widgets/base",
      "model_module_version": "1.2.0",
      "model_name": "LayoutModel",
      "state": {
       "_model_module": "@jupyter-widgets/base",
       "_model_module_version": "1.2.0",
       "_model_name": "LayoutModel",
       "_view_count": null,
       "_view_module": "@jupyter-widgets/base",
       "_view_module_version": "1.2.0",
       "_view_name": "LayoutView",
       "align_content": null,
       "align_items": null,
       "align_self": null,
       "border": null,
       "bottom": null,
       "display": null,
       "flex": null,
       "flex_flow": null,
       "grid_area": null,
       "grid_auto_columns": null,
       "grid_auto_flow": null,
       "grid_auto_rows": null,
       "grid_column": null,
       "grid_gap": null,
       "grid_row": null,
       "grid_template_areas": null,
       "grid_template_columns": null,
       "grid_template_rows": null,
       "height": null,
       "justify_content": null,
       "justify_items": null,
       "left": null,
       "margin": null,
       "max_height": null,
       "max_width": null,
       "min_height": null,
       "min_width": null,
       "object_fit": null,
       "object_position": null,
       "order": null,
       "overflow": null,
       "overflow_x": null,
       "overflow_y": null,
       "padding": null,
       "right": null,
       "top": null,
       "visibility": null,
       "width": null
      }
     },
     "282be8fd0a0545598b954cb8075842cf": {
      "model_module": "@jupyter-widgets/controls",
      "model_module_version": "1.5.0",
      "model_name": "ProgressStyleModel",
      "state": {
       "_model_module": "@jupyter-widgets/controls",
       "_model_module_version": "1.5.0",
       "_model_name": "ProgressStyleModel",
       "_view_count": null,
       "_view_module": "@jupyter-widgets/base",
       "_view_module_version": "1.2.0",
       "_view_name": "StyleView",
       "bar_color": null,
       "description_width": "initial"
      }
     },
     "2b6afd32511949f69274a66e541bb762": {
      "model_module": "@jupyter-widgets/base",
      "model_module_version": "1.2.0",
      "model_name": "LayoutModel",
      "state": {
       "_model_module": "@jupyter-widgets/base",
       "_model_module_version": "1.2.0",
       "_model_name": "LayoutModel",
       "_view_count": null,
       "_view_module": "@jupyter-widgets/base",
       "_view_module_version": "1.2.0",
       "_view_name": "LayoutView",
       "align_content": null,
       "align_items": null,
       "align_self": null,
       "border": null,
       "bottom": null,
       "display": null,
       "flex": null,
       "flex_flow": null,
       "grid_area": null,
       "grid_auto_columns": null,
       "grid_auto_flow": null,
       "grid_auto_rows": null,
       "grid_column": null,
       "grid_gap": null,
       "grid_row": null,
       "grid_template_areas": null,
       "grid_template_columns": null,
       "grid_template_rows": null,
       "height": null,
       "justify_content": null,
       "justify_items": null,
       "left": null,
       "margin": null,
       "max_height": null,
       "max_width": null,
       "min_height": null,
       "min_width": null,
       "object_fit": null,
       "object_position": null,
       "order": null,
       "overflow": null,
       "overflow_x": null,
       "overflow_y": null,
       "padding": null,
       "right": null,
       "top": null,
       "visibility": null,
       "width": null
      }
     },
     "2bc6d81a66924e9cb9316edcb5a60e9e": {
      "model_module": "@jupyter-widgets/controls",
      "model_module_version": "1.5.0",
      "model_name": "HTMLModel",
      "state": {
       "_dom_classes": [],
       "_model_module": "@jupyter-widgets/controls",
       "_model_module_version": "1.5.0",
       "_model_name": "HTMLModel",
       "_view_count": null,
       "_view_module": "@jupyter-widgets/controls",
       "_view_module_version": "1.5.0",
       "_view_name": "HTMLView",
       "description": "",
       "description_tooltip": null,
       "layout": "IPY_MODEL_5e126d5044814ec88be634775e9450df",
       "placeholder": "​",
       "style": "IPY_MODEL_a1f56d26fb454c3e8b7f229976d391c6",
       "value": " 46/46 [39:56&lt;00:00, 52.10s/it]"
      }
     },
     "2ddc1a84d27546cdb51565f1afaabb30": {
      "model_module": "@jupyter-widgets/base",
      "model_module_version": "1.2.0",
      "model_name": "LayoutModel",
      "state": {
       "_model_module": "@jupyter-widgets/base",
       "_model_module_version": "1.2.0",
       "_model_name": "LayoutModel",
       "_view_count": null,
       "_view_module": "@jupyter-widgets/base",
       "_view_module_version": "1.2.0",
       "_view_name": "LayoutView",
       "align_content": null,
       "align_items": null,
       "align_self": null,
       "border": null,
       "bottom": null,
       "display": null,
       "flex": null,
       "flex_flow": null,
       "grid_area": null,
       "grid_auto_columns": null,
       "grid_auto_flow": null,
       "grid_auto_rows": null,
       "grid_column": null,
       "grid_gap": null,
       "grid_row": null,
       "grid_template_areas": null,
       "grid_template_columns": null,
       "grid_template_rows": null,
       "height": null,
       "justify_content": null,
       "justify_items": null,
       "left": null,
       "margin": null,
       "max_height": null,
       "max_width": null,
       "min_height": null,
       "min_width": null,
       "object_fit": null,
       "object_position": null,
       "order": null,
       "overflow": null,
       "overflow_x": null,
       "overflow_y": null,
       "padding": null,
       "right": null,
       "top": null,
       "visibility": null,
       "width": null
      }
     },
     "3832e7f3cdbf42e2840ecb41200745e1": {
      "model_module": "@jupyter-widgets/controls",
      "model_module_version": "1.5.0",
      "model_name": "DescriptionStyleModel",
      "state": {
       "_model_module": "@jupyter-widgets/controls",
       "_model_module_version": "1.5.0",
       "_model_name": "DescriptionStyleModel",
       "_view_count": null,
       "_view_module": "@jupyter-widgets/base",
       "_view_module_version": "1.2.0",
       "_view_name": "StyleView",
       "description_width": ""
      }
     },
     "387940f43a9b4f97bda6fd5cd430acf9": {
      "model_module": "@jupyter-widgets/controls",
      "model_module_version": "1.5.0",
      "model_name": "ProgressStyleModel",
      "state": {
       "_model_module": "@jupyter-widgets/controls",
       "_model_module_version": "1.5.0",
       "_model_name": "ProgressStyleModel",
       "_view_count": null,
       "_view_module": "@jupyter-widgets/base",
       "_view_module_version": "1.2.0",
       "_view_name": "StyleView",
       "bar_color": null,
       "description_width": "initial"
      }
     },
     "3ccf5af9033b4deeba60e64a888038b8": {
      "model_module": "@jupyter-widgets/base",
      "model_module_version": "1.2.0",
      "model_name": "LayoutModel",
      "state": {
       "_model_module": "@jupyter-widgets/base",
       "_model_module_version": "1.2.0",
       "_model_name": "LayoutModel",
       "_view_count": null,
       "_view_module": "@jupyter-widgets/base",
       "_view_module_version": "1.2.0",
       "_view_name": "LayoutView",
       "align_content": null,
       "align_items": null,
       "align_self": null,
       "border": null,
       "bottom": null,
       "display": null,
       "flex": null,
       "flex_flow": null,
       "grid_area": null,
       "grid_auto_columns": null,
       "grid_auto_flow": null,
       "grid_auto_rows": null,
       "grid_column": null,
       "grid_gap": null,
       "grid_row": null,
       "grid_template_areas": null,
       "grid_template_columns": null,
       "grid_template_rows": null,
       "height": null,
       "justify_content": null,
       "justify_items": null,
       "left": null,
       "margin": null,
       "max_height": null,
       "max_width": null,
       "min_height": null,
       "min_width": null,
       "object_fit": null,
       "object_position": null,
       "order": null,
       "overflow": null,
       "overflow_x": null,
       "overflow_y": null,
       "padding": null,
       "right": null,
       "top": null,
       "visibility": null,
       "width": null
      }
     },
     "43be8231ed744d1e8e7d171a0947725a": {
      "model_module": "@jupyter-widgets/base",
      "model_module_version": "1.2.0",
      "model_name": "LayoutModel",
      "state": {
       "_model_module": "@jupyter-widgets/base",
       "_model_module_version": "1.2.0",
       "_model_name": "LayoutModel",
       "_view_count": null,
       "_view_module": "@jupyter-widgets/base",
       "_view_module_version": "1.2.0",
       "_view_name": "LayoutView",
       "align_content": null,
       "align_items": null,
       "align_self": null,
       "border": null,
       "bottom": null,
       "display": null,
       "flex": null,
       "flex_flow": null,
       "grid_area": null,
       "grid_auto_columns": null,
       "grid_auto_flow": null,
       "grid_auto_rows": null,
       "grid_column": null,
       "grid_gap": null,
       "grid_row": null,
       "grid_template_areas": null,
       "grid_template_columns": null,
       "grid_template_rows": null,
       "height": null,
       "justify_content": null,
       "justify_items": null,
       "left": null,
       "margin": null,
       "max_height": null,
       "max_width": null,
       "min_height": null,
       "min_width": null,
       "object_fit": null,
       "object_position": null,
       "order": null,
       "overflow": null,
       "overflow_x": null,
       "overflow_y": null,
       "padding": null,
       "right": null,
       "top": null,
       "visibility": null,
       "width": null
      }
     },
     "47153600bb6c403ab66ea915e4ad6cfd": {
      "model_module": "@jupyter-widgets/controls",
      "model_module_version": "1.5.0",
      "model_name": "HBoxModel",
      "state": {
       "_dom_classes": [],
       "_model_module": "@jupyter-widgets/controls",
       "_model_module_version": "1.5.0",
       "_model_name": "HBoxModel",
       "_view_count": null,
       "_view_module": "@jupyter-widgets/controls",
       "_view_module_version": "1.5.0",
       "_view_name": "HBoxView",
       "box_style": "",
       "children": [
        "IPY_MODEL_e040954b7f3e43e7b2f94a034254a60b",
        "IPY_MODEL_686827b11e864857b7288fdb7da58e60"
       ],
       "layout": "IPY_MODEL_2ddc1a84d27546cdb51565f1afaabb30"
      }
     },
     "4bee86dd50614c65ab4818f3d1af13ba": {
      "model_module": "@jupyter-widgets/base",
      "model_module_version": "1.2.0",
      "model_name": "LayoutModel",
      "state": {
       "_model_module": "@jupyter-widgets/base",
       "_model_module_version": "1.2.0",
       "_model_name": "LayoutModel",
       "_view_count": null,
       "_view_module": "@jupyter-widgets/base",
       "_view_module_version": "1.2.0",
       "_view_name": "LayoutView",
       "align_content": null,
       "align_items": null,
       "align_self": null,
       "border": null,
       "bottom": null,
       "display": null,
       "flex": null,
       "flex_flow": null,
       "grid_area": null,
       "grid_auto_columns": null,
       "grid_auto_flow": null,
       "grid_auto_rows": null,
       "grid_column": null,
       "grid_gap": null,
       "grid_row": null,
       "grid_template_areas": null,
       "grid_template_columns": null,
       "grid_template_rows": null,
       "height": null,
       "justify_content": null,
       "justify_items": null,
       "left": null,
       "margin": null,
       "max_height": null,
       "max_width": null,
       "min_height": null,
       "min_width": null,
       "object_fit": null,
       "object_position": null,
       "order": null,
       "overflow": null,
       "overflow_x": null,
       "overflow_y": null,
       "padding": null,
       "right": null,
       "top": null,
       "visibility": null,
       "width": null
      }
     },
     "51e14881a90b4f2891bbbd37ab3de542": {
      "model_module": "@jupyter-widgets/controls",
      "model_module_version": "1.5.0",
      "model_name": "HTMLModel",
      "state": {
       "_dom_classes": [],
       "_model_module": "@jupyter-widgets/controls",
       "_model_module_version": "1.5.0",
       "_model_name": "HTMLModel",
       "_view_count": null,
       "_view_module": "@jupyter-widgets/controls",
       "_view_module_version": "1.5.0",
       "_view_name": "HTMLView",
       "description": "",
       "description_tooltip": null,
       "layout": "IPY_MODEL_b496d5820235476da73e6e5bdb2c913c",
       "placeholder": "​",
       "style": "IPY_MODEL_e0a37084f43e4d3ea2dfe0b339361482",
       "value": " 46/46 [12:13&lt;00:00, 15.94s/it]"
      }
     },
     "51e6ebc5bb86406986c8bad6faf816ea": {
      "model_module": "@jupyter-widgets/controls",
      "model_module_version": "1.5.0",
      "model_name": "HBoxModel",
      "state": {
       "_dom_classes": [],
       "_model_module": "@jupyter-widgets/controls",
       "_model_module_version": "1.5.0",
       "_model_name": "HBoxModel",
       "_view_count": null,
       "_view_module": "@jupyter-widgets/controls",
       "_view_module_version": "1.5.0",
       "_view_name": "HBoxView",
       "box_style": "",
       "children": [
        "IPY_MODEL_b1719e92d62e4b428a4bb70bb90292e5",
        "IPY_MODEL_2bc6d81a66924e9cb9316edcb5a60e9e"
       ],
       "layout": "IPY_MODEL_6d30eb13564443bd9bd022abee4b3136"
      }
     },
     "523035aa5a844540a0c8c7271d07dd18": {
      "model_module": "@jupyter-widgets/base",
      "model_module_version": "1.2.0",
      "model_name": "LayoutModel",
      "state": {
       "_model_module": "@jupyter-widgets/base",
       "_model_module_version": "1.2.0",
       "_model_name": "LayoutModel",
       "_view_count": null,
       "_view_module": "@jupyter-widgets/base",
       "_view_module_version": "1.2.0",
       "_view_name": "LayoutView",
       "align_content": null,
       "align_items": null,
       "align_self": null,
       "border": null,
       "bottom": null,
       "display": null,
       "flex": null,
       "flex_flow": null,
       "grid_area": null,
       "grid_auto_columns": null,
       "grid_auto_flow": null,
       "grid_auto_rows": null,
       "grid_column": null,
       "grid_gap": null,
       "grid_row": null,
       "grid_template_areas": null,
       "grid_template_columns": null,
       "grid_template_rows": null,
       "height": null,
       "justify_content": null,
       "justify_items": null,
       "left": null,
       "margin": null,
       "max_height": null,
       "max_width": null,
       "min_height": null,
       "min_width": null,
       "object_fit": null,
       "object_position": null,
       "order": null,
       "overflow": null,
       "overflow_x": null,
       "overflow_y": null,
       "padding": null,
       "right": null,
       "top": null,
       "visibility": null,
       "width": null
      }
     },
     "52682df9fe6c4d62ab2a98b1027d1cdc": {
      "model_module": "@jupyter-widgets/base",
      "model_module_version": "1.2.0",
      "model_name": "LayoutModel",
      "state": {
       "_model_module": "@jupyter-widgets/base",
       "_model_module_version": "1.2.0",
       "_model_name": "LayoutModel",
       "_view_count": null,
       "_view_module": "@jupyter-widgets/base",
       "_view_module_version": "1.2.0",
       "_view_name": "LayoutView",
       "align_content": null,
       "align_items": null,
       "align_self": null,
       "border": null,
       "bottom": null,
       "display": null,
       "flex": null,
       "flex_flow": null,
       "grid_area": null,
       "grid_auto_columns": null,
       "grid_auto_flow": null,
       "grid_auto_rows": null,
       "grid_column": null,
       "grid_gap": null,
       "grid_row": null,
       "grid_template_areas": null,
       "grid_template_columns": null,
       "grid_template_rows": null,
       "height": null,
       "justify_content": null,
       "justify_items": null,
       "left": null,
       "margin": null,
       "max_height": null,
       "max_width": null,
       "min_height": null,
       "min_width": null,
       "object_fit": null,
       "object_position": null,
       "order": null,
       "overflow": null,
       "overflow_x": null,
       "overflow_y": null,
       "padding": null,
       "right": null,
       "top": null,
       "visibility": null,
       "width": null
      }
     },
     "597c58e852964da680d3bb7905930a3a": {
      "model_module": "@jupyter-widgets/controls",
      "model_module_version": "1.5.0",
      "model_name": "ProgressStyleModel",
      "state": {
       "_model_module": "@jupyter-widgets/controls",
       "_model_module_version": "1.5.0",
       "_model_name": "ProgressStyleModel",
       "_view_count": null,
       "_view_module": "@jupyter-widgets/base",
       "_view_module_version": "1.2.0",
       "_view_name": "StyleView",
       "bar_color": null,
       "description_width": "initial"
      }
     },
     "5aee848b830746e5b3cba94e9655c157": {
      "model_module": "@jupyter-widgets/base",
      "model_module_version": "1.2.0",
      "model_name": "LayoutModel",
      "state": {
       "_model_module": "@jupyter-widgets/base",
       "_model_module_version": "1.2.0",
       "_model_name": "LayoutModel",
       "_view_count": null,
       "_view_module": "@jupyter-widgets/base",
       "_view_module_version": "1.2.0",
       "_view_name": "LayoutView",
       "align_content": null,
       "align_items": null,
       "align_self": null,
       "border": null,
       "bottom": null,
       "display": null,
       "flex": null,
       "flex_flow": null,
       "grid_area": null,
       "grid_auto_columns": null,
       "grid_auto_flow": null,
       "grid_auto_rows": null,
       "grid_column": null,
       "grid_gap": null,
       "grid_row": null,
       "grid_template_areas": null,
       "grid_template_columns": null,
       "grid_template_rows": null,
       "height": null,
       "justify_content": null,
       "justify_items": null,
       "left": null,
       "margin": null,
       "max_height": null,
       "max_width": null,
       "min_height": null,
       "min_width": null,
       "object_fit": null,
       "object_position": null,
       "order": null,
       "overflow": null,
       "overflow_x": null,
       "overflow_y": null,
       "padding": null,
       "right": null,
       "top": null,
       "visibility": null,
       "width": null
      }
     },
     "5b6d9e0a720c4365b26983983d79b430": {
      "model_module": "@jupyter-widgets/base",
      "model_module_version": "1.2.0",
      "model_name": "LayoutModel",
      "state": {
       "_model_module": "@jupyter-widgets/base",
       "_model_module_version": "1.2.0",
       "_model_name": "LayoutModel",
       "_view_count": null,
       "_view_module": "@jupyter-widgets/base",
       "_view_module_version": "1.2.0",
       "_view_name": "LayoutView",
       "align_content": null,
       "align_items": null,
       "align_self": null,
       "border": null,
       "bottom": null,
       "display": null,
       "flex": null,
       "flex_flow": null,
       "grid_area": null,
       "grid_auto_columns": null,
       "grid_auto_flow": null,
       "grid_auto_rows": null,
       "grid_column": null,
       "grid_gap": null,
       "grid_row": null,
       "grid_template_areas": null,
       "grid_template_columns": null,
       "grid_template_rows": null,
       "height": null,
       "justify_content": null,
       "justify_items": null,
       "left": null,
       "margin": null,
       "max_height": null,
       "max_width": null,
       "min_height": null,
       "min_width": null,
       "object_fit": null,
       "object_position": null,
       "order": null,
       "overflow": null,
       "overflow_x": null,
       "overflow_y": null,
       "padding": null,
       "right": null,
       "top": null,
       "visibility": null,
       "width": null
      }
     },
     "5e126d5044814ec88be634775e9450df": {
      "model_module": "@jupyter-widgets/base",
      "model_module_version": "1.2.0",
      "model_name": "LayoutModel",
      "state": {
       "_model_module": "@jupyter-widgets/base",
       "_model_module_version": "1.2.0",
       "_model_name": "LayoutModel",
       "_view_count": null,
       "_view_module": "@jupyter-widgets/base",
       "_view_module_version": "1.2.0",
       "_view_name": "LayoutView",
       "align_content": null,
       "align_items": null,
       "align_self": null,
       "border": null,
       "bottom": null,
       "display": null,
       "flex": null,
       "flex_flow": null,
       "grid_area": null,
       "grid_auto_columns": null,
       "grid_auto_flow": null,
       "grid_auto_rows": null,
       "grid_column": null,
       "grid_gap": null,
       "grid_row": null,
       "grid_template_areas": null,
       "grid_template_columns": null,
       "grid_template_rows": null,
       "height": null,
       "justify_content": null,
       "justify_items": null,
       "left": null,
       "margin": null,
       "max_height": null,
       "max_width": null,
       "min_height": null,
       "min_width": null,
       "object_fit": null,
       "object_position": null,
       "order": null,
       "overflow": null,
       "overflow_x": null,
       "overflow_y": null,
       "padding": null,
       "right": null,
       "top": null,
       "visibility": null,
       "width": null
      }
     },
     "5e168f6e4b554ef0a94ab63937dc02e4": {
      "model_module": "@jupyter-widgets/base",
      "model_module_version": "1.2.0",
      "model_name": "LayoutModel",
      "state": {
       "_model_module": "@jupyter-widgets/base",
       "_model_module_version": "1.2.0",
       "_model_name": "LayoutModel",
       "_view_count": null,
       "_view_module": "@jupyter-widgets/base",
       "_view_module_version": "1.2.0",
       "_view_name": "LayoutView",
       "align_content": null,
       "align_items": null,
       "align_self": null,
       "border": null,
       "bottom": null,
       "display": null,
       "flex": null,
       "flex_flow": null,
       "grid_area": null,
       "grid_auto_columns": null,
       "grid_auto_flow": null,
       "grid_auto_rows": null,
       "grid_column": null,
       "grid_gap": null,
       "grid_row": null,
       "grid_template_areas": null,
       "grid_template_columns": null,
       "grid_template_rows": null,
       "height": null,
       "justify_content": null,
       "justify_items": null,
       "left": null,
       "margin": null,
       "max_height": null,
       "max_width": null,
       "min_height": null,
       "min_width": null,
       "object_fit": null,
       "object_position": null,
       "order": null,
       "overflow": null,
       "overflow_x": null,
       "overflow_y": null,
       "padding": null,
       "right": null,
       "top": null,
       "visibility": null,
       "width": null
      }
     },
     "686827b11e864857b7288fdb7da58e60": {
      "model_module": "@jupyter-widgets/controls",
      "model_module_version": "1.5.0",
      "model_name": "HTMLModel",
      "state": {
       "_dom_classes": [],
       "_model_module": "@jupyter-widgets/controls",
       "_model_module_version": "1.5.0",
       "_model_name": "HTMLModel",
       "_view_count": null,
       "_view_module": "@jupyter-widgets/controls",
       "_view_module_version": "1.5.0",
       "_view_name": "HTMLView",
       "description": "",
       "description_tooltip": null,
       "layout": "IPY_MODEL_b4a03ae1518540b380a97f997788f48b",
       "placeholder": "​",
       "style": "IPY_MODEL_9e931275325546abb6227ddf00c1c01a",
       "value": " 46/46 [59:36&lt;00:00, 77.76s/it]"
      }
     },
     "6d30eb13564443bd9bd022abee4b3136": {
      "model_module": "@jupyter-widgets/base",
      "model_module_version": "1.2.0",
      "model_name": "LayoutModel",
      "state": {
       "_model_module": "@jupyter-widgets/base",
       "_model_module_version": "1.2.0",
       "_model_name": "LayoutModel",
       "_view_count": null,
       "_view_module": "@jupyter-widgets/base",
       "_view_module_version": "1.2.0",
       "_view_name": "LayoutView",
       "align_content": null,
       "align_items": null,
       "align_self": null,
       "border": null,
       "bottom": null,
       "display": null,
       "flex": null,
       "flex_flow": null,
       "grid_area": null,
       "grid_auto_columns": null,
       "grid_auto_flow": null,
       "grid_auto_rows": null,
       "grid_column": null,
       "grid_gap": null,
       "grid_row": null,
       "grid_template_areas": null,
       "grid_template_columns": null,
       "grid_template_rows": null,
       "height": null,
       "justify_content": null,
       "justify_items": null,
       "left": null,
       "margin": null,
       "max_height": null,
       "max_width": null,
       "min_height": null,
       "min_width": null,
       "object_fit": null,
       "object_position": null,
       "order": null,
       "overflow": null,
       "overflow_x": null,
       "overflow_y": null,
       "padding": null,
       "right": null,
       "top": null,
       "visibility": null,
       "width": null
      }
     },
     "6dd4d38a4e964f6887f6c1ba705f293a": {
      "model_module": "@jupyter-widgets/controls",
      "model_module_version": "1.5.0",
      "model_name": "HBoxModel",
      "state": {
       "_dom_classes": [],
       "_model_module": "@jupyter-widgets/controls",
       "_model_module_version": "1.5.0",
       "_model_name": "HBoxModel",
       "_view_count": null,
       "_view_module": "@jupyter-widgets/controls",
       "_view_module_version": "1.5.0",
       "_view_name": "HBoxView",
       "box_style": "",
       "children": [
        "IPY_MODEL_7c86850115f94123866a6c994ac65103",
        "IPY_MODEL_fe56d11f4eb14ec8917948fe95cd22f6"
       ],
       "layout": "IPY_MODEL_2b6afd32511949f69274a66e541bb762"
      }
     },
     "7701247c25054bb2a9d0e5a71248f14d": {
      "model_module": "@jupyter-widgets/controls",
      "model_module_version": "1.5.0",
      "model_name": "HBoxModel",
      "state": {
       "_dom_classes": [],
       "_model_module": "@jupyter-widgets/controls",
       "_model_module_version": "1.5.0",
       "_model_name": "HBoxModel",
       "_view_count": null,
       "_view_module": "@jupyter-widgets/controls",
       "_view_module_version": "1.5.0",
       "_view_name": "HBoxView",
       "box_style": "",
       "children": [
        "IPY_MODEL_cebda2f2eaff40cabacb08accf733b4d",
        "IPY_MODEL_8c6bc72ec13b44e7aca25d6662bd46a4"
       ],
       "layout": "IPY_MODEL_3ccf5af9033b4deeba60e64a888038b8"
      }
     },
     "77abbe8afad84171b17e82c5b51f1d36": {
      "model_module": "@jupyter-widgets/controls",
      "model_module_version": "1.5.0",
      "model_name": "FloatProgressModel",
      "state": {
       "_dom_classes": [],
       "_model_module": "@jupyter-widgets/controls",
       "_model_module_version": "1.5.0",
       "_model_name": "FloatProgressModel",
       "_view_count": null,
       "_view_module": "@jupyter-widgets/controls",
       "_view_module_version": "1.5.0",
       "_view_name": "ProgressView",
       "bar_style": "success",
       "description": "100%",
       "description_tooltip": null,
       "layout": "IPY_MODEL_43be8231ed744d1e8e7d171a0947725a",
       "max": 46,
       "min": 0,
       "orientation": "horizontal",
       "style": "IPY_MODEL_03c25218db1741b78d30fe1a1d8cf7dc",
       "value": 46
      }
     },
     "7c86850115f94123866a6c994ac65103": {
      "model_module": "@jupyter-widgets/controls",
      "model_module_version": "1.5.0",
      "model_name": "FloatProgressModel",
      "state": {
       "_dom_classes": [],
       "_model_module": "@jupyter-widgets/controls",
       "_model_module_version": "1.5.0",
       "_model_name": "FloatProgressModel",
       "_view_count": null,
       "_view_module": "@jupyter-widgets/controls",
       "_view_module_version": "1.5.0",
       "_view_name": "ProgressView",
       "bar_style": "success",
       "description": "100%",
       "description_tooltip": null,
       "layout": "IPY_MODEL_52682df9fe6c4d62ab2a98b1027d1cdc",
       "max": 46,
       "min": 0,
       "orientation": "horizontal",
       "style": "IPY_MODEL_ec542ee343e44164855bcb38a54b06b6",
       "value": 46
      }
     },
     "7d4871c06ce14437b25051f5a08370dd": {
      "model_module": "@jupyter-widgets/base",
      "model_module_version": "1.2.0",
      "model_name": "LayoutModel",
      "state": {
       "_model_module": "@jupyter-widgets/base",
       "_model_module_version": "1.2.0",
       "_model_name": "LayoutModel",
       "_view_count": null,
       "_view_module": "@jupyter-widgets/base",
       "_view_module_version": "1.2.0",
       "_view_name": "LayoutView",
       "align_content": null,
       "align_items": null,
       "align_self": null,
       "border": null,
       "bottom": null,
       "display": null,
       "flex": null,
       "flex_flow": null,
       "grid_area": null,
       "grid_auto_columns": null,
       "grid_auto_flow": null,
       "grid_auto_rows": null,
       "grid_column": null,
       "grid_gap": null,
       "grid_row": null,
       "grid_template_areas": null,
       "grid_template_columns": null,
       "grid_template_rows": null,
       "height": null,
       "justify_content": null,
       "justify_items": null,
       "left": null,
       "margin": null,
       "max_height": null,
       "max_width": null,
       "min_height": null,
       "min_width": null,
       "object_fit": null,
       "object_position": null,
       "order": null,
       "overflow": null,
       "overflow_x": null,
       "overflow_y": null,
       "padding": null,
       "right": null,
       "top": null,
       "visibility": null,
       "width": null
      }
     },
     "7fc949eed9a44098a9eaee8c2c765e6d": {
      "model_module": "@jupyter-widgets/base",
      "model_module_version": "1.2.0",
      "model_name": "LayoutModel",
      "state": {
       "_model_module": "@jupyter-widgets/base",
       "_model_module_version": "1.2.0",
       "_model_name": "LayoutModel",
       "_view_count": null,
       "_view_module": "@jupyter-widgets/base",
       "_view_module_version": "1.2.0",
       "_view_name": "LayoutView",
       "align_content": null,
       "align_items": null,
       "align_self": null,
       "border": null,
       "bottom": null,
       "display": null,
       "flex": null,
       "flex_flow": null,
       "grid_area": null,
       "grid_auto_columns": null,
       "grid_auto_flow": null,
       "grid_auto_rows": null,
       "grid_column": null,
       "grid_gap": null,
       "grid_row": null,
       "grid_template_areas": null,
       "grid_template_columns": null,
       "grid_template_rows": null,
       "height": null,
       "justify_content": null,
       "justify_items": null,
       "left": null,
       "margin": null,
       "max_height": null,
       "max_width": null,
       "min_height": null,
       "min_width": null,
       "object_fit": null,
       "object_position": null,
       "order": null,
       "overflow": null,
       "overflow_x": null,
       "overflow_y": null,
       "padding": null,
       "right": null,
       "top": null,
       "visibility": null,
       "width": null
      }
     },
     "8658e11686464ff4bdb5e21f26590510": {
      "model_module": "@jupyter-widgets/base",
      "model_module_version": "1.2.0",
      "model_name": "LayoutModel",
      "state": {
       "_model_module": "@jupyter-widgets/base",
       "_model_module_version": "1.2.0",
       "_model_name": "LayoutModel",
       "_view_count": null,
       "_view_module": "@jupyter-widgets/base",
       "_view_module_version": "1.2.0",
       "_view_name": "LayoutView",
       "align_content": null,
       "align_items": null,
       "align_self": null,
       "border": null,
       "bottom": null,
       "display": null,
       "flex": null,
       "flex_flow": null,
       "grid_area": null,
       "grid_auto_columns": null,
       "grid_auto_flow": null,
       "grid_auto_rows": null,
       "grid_column": null,
       "grid_gap": null,
       "grid_row": null,
       "grid_template_areas": null,
       "grid_template_columns": null,
       "grid_template_rows": null,
       "height": null,
       "justify_content": null,
       "justify_items": null,
       "left": null,
       "margin": null,
       "max_height": null,
       "max_width": null,
       "min_height": null,
       "min_width": null,
       "object_fit": null,
       "object_position": null,
       "order": null,
       "overflow": null,
       "overflow_x": null,
       "overflow_y": null,
       "padding": null,
       "right": null,
       "top": null,
       "visibility": null,
       "width": null
      }
     },
     "88db3aa0a7ae4c7cb4f6580c0fa14060": {
      "model_module": "@jupyter-widgets/controls",
      "model_module_version": "1.5.0",
      "model_name": "FloatProgressModel",
      "state": {
       "_dom_classes": [],
       "_model_module": "@jupyter-widgets/controls",
       "_model_module_version": "1.5.0",
       "_model_name": "FloatProgressModel",
       "_view_count": null,
       "_view_module": "@jupyter-widgets/controls",
       "_view_module_version": "1.5.0",
       "_view_name": "ProgressView",
       "bar_style": "success",
       "description": "100%",
       "description_tooltip": null,
       "layout": "IPY_MODEL_96c10f603e6345fe9f06b43196fdf271",
       "max": 46,
       "min": 0,
       "orientation": "horizontal",
       "style": "IPY_MODEL_9625e389bdca40afa2e6c96c2d11b1a9",
       "value": 46
      }
     },
     "8aeae8d1239440b39f1398c82e7b986b": {
      "model_module": "@jupyter-widgets/base",
      "model_module_version": "1.2.0",
      "model_name": "LayoutModel",
      "state": {
       "_model_module": "@jupyter-widgets/base",
       "_model_module_version": "1.2.0",
       "_model_name": "LayoutModel",
       "_view_count": null,
       "_view_module": "@jupyter-widgets/base",
       "_view_module_version": "1.2.0",
       "_view_name": "LayoutView",
       "align_content": null,
       "align_items": null,
       "align_self": null,
       "border": null,
       "bottom": null,
       "display": null,
       "flex": null,
       "flex_flow": null,
       "grid_area": null,
       "grid_auto_columns": null,
       "grid_auto_flow": null,
       "grid_auto_rows": null,
       "grid_column": null,
       "grid_gap": null,
       "grid_row": null,
       "grid_template_areas": null,
       "grid_template_columns": null,
       "grid_template_rows": null,
       "height": null,
       "justify_content": null,
       "justify_items": null,
       "left": null,
       "margin": null,
       "max_height": null,
       "max_width": null,
       "min_height": null,
       "min_width": null,
       "object_fit": null,
       "object_position": null,
       "order": null,
       "overflow": null,
       "overflow_x": null,
       "overflow_y": null,
       "padding": null,
       "right": null,
       "top": null,
       "visibility": null,
       "width": null
      }
     },
     "8b5422cfbcc24e1aa8a80be8ddcb3c8b": {
      "model_module": "@jupyter-widgets/controls",
      "model_module_version": "1.5.0",
      "model_name": "HBoxModel",
      "state": {
       "_dom_classes": [],
       "_model_module": "@jupyter-widgets/controls",
       "_model_module_version": "1.5.0",
       "_model_name": "HBoxModel",
       "_view_count": null,
       "_view_module": "@jupyter-widgets/controls",
       "_view_module_version": "1.5.0",
       "_view_name": "HBoxView",
       "box_style": "",
       "children": [
        "IPY_MODEL_a0df92226a784f38b0aef41157ba3d6a",
        "IPY_MODEL_118bd6c77a1d486fbf3cc7b7570aa509"
       ],
       "layout": "IPY_MODEL_fb0c066904074d149c8e36f1ce6a8141"
      }
     },
     "8c6bc72ec13b44e7aca25d6662bd46a4": {
      "model_module": "@jupyter-widgets/controls",
      "model_module_version": "1.5.0",
      "model_name": "HTMLModel",
      "state": {
       "_dom_classes": [],
       "_model_module": "@jupyter-widgets/controls",
       "_model_module_version": "1.5.0",
       "_model_name": "HTMLModel",
       "_view_count": null,
       "_view_module": "@jupyter-widgets/controls",
       "_view_module_version": "1.5.0",
       "_view_name": "HTMLView",
       "description": "",
       "description_tooltip": null,
       "layout": "IPY_MODEL_015c754a2ee14fe4a483d9aa9e12a33b",
       "placeholder": "​",
       "style": "IPY_MODEL_bb932115b3434f3bb3a3185c27aa5261",
       "value": " 46/46 [00:01&lt;00:00, 26.79it/s]"
      }
     },
     "8d1bbf38fa78476684dc185165af6977": {
      "model_module": "@jupyter-widgets/base",
      "model_module_version": "1.2.0",
      "model_name": "LayoutModel",
      "state": {
       "_model_module": "@jupyter-widgets/base",
       "_model_module_version": "1.2.0",
       "_model_name": "LayoutModel",
       "_view_count": null,
       "_view_module": "@jupyter-widgets/base",
       "_view_module_version": "1.2.0",
       "_view_name": "LayoutView",
       "align_content": null,
       "align_items": null,
       "align_self": null,
       "border": null,
       "bottom": null,
       "display": null,
       "flex": null,
       "flex_flow": null,
       "grid_area": null,
       "grid_auto_columns": null,
       "grid_auto_flow": null,
       "grid_auto_rows": null,
       "grid_column": null,
       "grid_gap": null,
       "grid_row": null,
       "grid_template_areas": null,
       "grid_template_columns": null,
       "grid_template_rows": null,
       "height": null,
       "justify_content": null,
       "justify_items": null,
       "left": null,
       "margin": null,
       "max_height": null,
       "max_width": null,
       "min_height": null,
       "min_width": null,
       "object_fit": null,
       "object_position": null,
       "order": null,
       "overflow": null,
       "overflow_x": null,
       "overflow_y": null,
       "padding": null,
       "right": null,
       "top": null,
       "visibility": null,
       "width": null
      }
     },
     "8e2b9dfa9a0c42079f07795949661cb8": {
      "model_module": "@jupyter-widgets/controls",
      "model_module_version": "1.5.0",
      "model_name": "HTMLModel",
      "state": {
       "_dom_classes": [],
       "_model_module": "@jupyter-widgets/controls",
       "_model_module_version": "1.5.0",
       "_model_name": "HTMLModel",
       "_view_count": null,
       "_view_module": "@jupyter-widgets/controls",
       "_view_module_version": "1.5.0",
       "_view_name": "HTMLView",
       "description": "",
       "description_tooltip": null,
       "layout": "IPY_MODEL_8d1bbf38fa78476684dc185165af6977",
       "placeholder": "​",
       "style": "IPY_MODEL_d9c51f8e12c4452db5e3e2b16c30013e",
       "value": " 46/46 [00:04&lt;00:00,  9.88it/s]"
      }
     },
     "9625e389bdca40afa2e6c96c2d11b1a9": {
      "model_module": "@jupyter-widgets/controls",
      "model_module_version": "1.5.0",
      "model_name": "ProgressStyleModel",
      "state": {
       "_model_module": "@jupyter-widgets/controls",
       "_model_module_version": "1.5.0",
       "_model_name": "ProgressStyleModel",
       "_view_count": null,
       "_view_module": "@jupyter-widgets/base",
       "_view_module_version": "1.2.0",
       "_view_name": "StyleView",
       "bar_color": null,
       "description_width": "initial"
      }
     },
     "96c10f603e6345fe9f06b43196fdf271": {
      "model_module": "@jupyter-widgets/base",
      "model_module_version": "1.2.0",
      "model_name": "LayoutModel",
      "state": {
       "_model_module": "@jupyter-widgets/base",
       "_model_module_version": "1.2.0",
       "_model_name": "LayoutModel",
       "_view_count": null,
       "_view_module": "@jupyter-widgets/base",
       "_view_module_version": "1.2.0",
       "_view_name": "LayoutView",
       "align_content": null,
       "align_items": null,
       "align_self": null,
       "border": null,
       "bottom": null,
       "display": null,
       "flex": null,
       "flex_flow": null,
       "grid_area": null,
       "grid_auto_columns": null,
       "grid_auto_flow": null,
       "grid_auto_rows": null,
       "grid_column": null,
       "grid_gap": null,
       "grid_row": null,
       "grid_template_areas": null,
       "grid_template_columns": null,
       "grid_template_rows": null,
       "height": null,
       "justify_content": null,
       "justify_items": null,
       "left": null,
       "margin": null,
       "max_height": null,
       "max_width": null,
       "min_height": null,
       "min_width": null,
       "object_fit": null,
       "object_position": null,
       "order": null,
       "overflow": null,
       "overflow_x": null,
       "overflow_y": null,
       "padding": null,
       "right": null,
       "top": null,
       "visibility": null,
       "width": null
      }
     },
     "9974763dc7e64df1b2cd2e849a38cebb": {
      "model_module": "@jupyter-widgets/base",
      "model_module_version": "1.2.0",
      "model_name": "LayoutModel",
      "state": {
       "_model_module": "@jupyter-widgets/base",
       "_model_module_version": "1.2.0",
       "_model_name": "LayoutModel",
       "_view_count": null,
       "_view_module": "@jupyter-widgets/base",
       "_view_module_version": "1.2.0",
       "_view_name": "LayoutView",
       "align_content": null,
       "align_items": null,
       "align_self": null,
       "border": null,
       "bottom": null,
       "display": null,
       "flex": null,
       "flex_flow": null,
       "grid_area": null,
       "grid_auto_columns": null,
       "grid_auto_flow": null,
       "grid_auto_rows": null,
       "grid_column": null,
       "grid_gap": null,
       "grid_row": null,
       "grid_template_areas": null,
       "grid_template_columns": null,
       "grid_template_rows": null,
       "height": null,
       "justify_content": null,
       "justify_items": null,
       "left": null,
       "margin": null,
       "max_height": null,
       "max_width": null,
       "min_height": null,
       "min_width": null,
       "object_fit": null,
       "object_position": null,
       "order": null,
       "overflow": null,
       "overflow_x": null,
       "overflow_y": null,
       "padding": null,
       "right": null,
       "top": null,
       "visibility": null,
       "width": null
      }
     },
     "9e931275325546abb6227ddf00c1c01a": {
      "model_module": "@jupyter-widgets/controls",
      "model_module_version": "1.5.0",
      "model_name": "DescriptionStyleModel",
      "state": {
       "_model_module": "@jupyter-widgets/controls",
       "_model_module_version": "1.5.0",
       "_model_name": "DescriptionStyleModel",
       "_view_count": null,
       "_view_module": "@jupyter-widgets/base",
       "_view_module_version": "1.2.0",
       "_view_name": "StyleView",
       "description_width": ""
      }
     },
     "a0df92226a784f38b0aef41157ba3d6a": {
      "model_module": "@jupyter-widgets/controls",
      "model_module_version": "1.5.0",
      "model_name": "FloatProgressModel",
      "state": {
       "_dom_classes": [],
       "_model_module": "@jupyter-widgets/controls",
       "_model_module_version": "1.5.0",
       "_model_name": "FloatProgressModel",
       "_view_count": null,
       "_view_module": "@jupyter-widgets/controls",
       "_view_module_version": "1.5.0",
       "_view_name": "ProgressView",
       "bar_style": "success",
       "description": "100%",
       "description_tooltip": null,
       "layout": "IPY_MODEL_8aeae8d1239440b39f1398c82e7b986b",
       "max": 46,
       "min": 0,
       "orientation": "horizontal",
       "style": "IPY_MODEL_1e4b428c3a7145b4918bb82512c8d82f",
       "value": 46
      }
     },
     "a0e25d872e014448a0466cd2546c55e4": {
      "model_module": "@jupyter-widgets/controls",
      "model_module_version": "1.5.0",
      "model_name": "HBoxModel",
      "state": {
       "_dom_classes": [],
       "_model_module": "@jupyter-widgets/controls",
       "_model_module_version": "1.5.0",
       "_model_name": "HBoxModel",
       "_view_count": null,
       "_view_module": "@jupyter-widgets/controls",
       "_view_module_version": "1.5.0",
       "_view_name": "HBoxView",
       "box_style": "",
       "children": [
        "IPY_MODEL_77abbe8afad84171b17e82c5b51f1d36",
        "IPY_MODEL_faeee766eaa54da486751a6665c03f41"
       ],
       "layout": "IPY_MODEL_4bee86dd50614c65ab4818f3d1af13ba"
      }
     },
     "a1f56d26fb454c3e8b7f229976d391c6": {
      "model_module": "@jupyter-widgets/controls",
      "model_module_version": "1.5.0",
      "model_name": "DescriptionStyleModel",
      "state": {
       "_model_module": "@jupyter-widgets/controls",
       "_model_module_version": "1.5.0",
       "_model_name": "DescriptionStyleModel",
       "_view_count": null,
       "_view_module": "@jupyter-widgets/base",
       "_view_module_version": "1.2.0",
       "_view_name": "StyleView",
       "description_width": ""
      }
     },
     "b05876a0539d44e195bc92ac8d23134d": {
      "model_module": "@jupyter-widgets/controls",
      "model_module_version": "1.5.0",
      "model_name": "HTMLModel",
      "state": {
       "_dom_classes": [],
       "_model_module": "@jupyter-widgets/controls",
       "_model_module_version": "1.5.0",
       "_model_name": "HTMLModel",
       "_view_count": null,
       "_view_module": "@jupyter-widgets/controls",
       "_view_module_version": "1.5.0",
       "_view_name": "HTMLView",
       "description": "",
       "description_tooltip": null,
       "layout": "IPY_MODEL_5b6d9e0a720c4365b26983983d79b430",
       "placeholder": "​",
       "style": "IPY_MODEL_0c786d0ead794fb8a85b742dd71bc8a7",
       "value": " 46/46 [02:09&lt;00:00,  2.81s/it]"
      }
     },
     "b1719e92d62e4b428a4bb70bb90292e5": {
      "model_module": "@jupyter-widgets/controls",
      "model_module_version": "1.5.0",
      "model_name": "FloatProgressModel",
      "state": {
       "_dom_classes": [],
       "_model_module": "@jupyter-widgets/controls",
       "_model_module_version": "1.5.0",
       "_model_name": "FloatProgressModel",
       "_view_count": null,
       "_view_module": "@jupyter-widgets/controls",
       "_view_module_version": "1.5.0",
       "_view_name": "ProgressView",
       "bar_style": "success",
       "description": "100%",
       "description_tooltip": null,
       "layout": "IPY_MODEL_f8c01645528c444eae62dc274c698ec8",
       "max": 46,
       "min": 0,
       "orientation": "horizontal",
       "style": "IPY_MODEL_282be8fd0a0545598b954cb8075842cf",
       "value": 46
      }
     },
     "b339323be8a242b6b935e93981ba1c69": {
      "model_module": "@jupyter-widgets/base",
      "model_module_version": "1.2.0",
      "model_name": "LayoutModel",
      "state": {
       "_model_module": "@jupyter-widgets/base",
       "_model_module_version": "1.2.0",
       "_model_name": "LayoutModel",
       "_view_count": null,
       "_view_module": "@jupyter-widgets/base",
       "_view_module_version": "1.2.0",
       "_view_name": "LayoutView",
       "align_content": null,
       "align_items": null,
       "align_self": null,
       "border": null,
       "bottom": null,
       "display": null,
       "flex": null,
       "flex_flow": null,
       "grid_area": null,
       "grid_auto_columns": null,
       "grid_auto_flow": null,
       "grid_auto_rows": null,
       "grid_column": null,
       "grid_gap": null,
       "grid_row": null,
       "grid_template_areas": null,
       "grid_template_columns": null,
       "grid_template_rows": null,
       "height": null,
       "justify_content": null,
       "justify_items": null,
       "left": null,
       "margin": null,
       "max_height": null,
       "max_width": null,
       "min_height": null,
       "min_width": null,
       "object_fit": null,
       "object_position": null,
       "order": null,
       "overflow": null,
       "overflow_x": null,
       "overflow_y": null,
       "padding": null,
       "right": null,
       "top": null,
       "visibility": null,
       "width": null
      }
     },
     "b496d5820235476da73e6e5bdb2c913c": {
      "model_module": "@jupyter-widgets/base",
      "model_module_version": "1.2.0",
      "model_name": "LayoutModel",
      "state": {
       "_model_module": "@jupyter-widgets/base",
       "_model_module_version": "1.2.0",
       "_model_name": "LayoutModel",
       "_view_count": null,
       "_view_module": "@jupyter-widgets/base",
       "_view_module_version": "1.2.0",
       "_view_name": "LayoutView",
       "align_content": null,
       "align_items": null,
       "align_self": null,
       "border": null,
       "bottom": null,
       "display": null,
       "flex": null,
       "flex_flow": null,
       "grid_area": null,
       "grid_auto_columns": null,
       "grid_auto_flow": null,
       "grid_auto_rows": null,
       "grid_column": null,
       "grid_gap": null,
       "grid_row": null,
       "grid_template_areas": null,
       "grid_template_columns": null,
       "grid_template_rows": null,
       "height": null,
       "justify_content": null,
       "justify_items": null,
       "left": null,
       "margin": null,
       "max_height": null,
       "max_width": null,
       "min_height": null,
       "min_width": null,
       "object_fit": null,
       "object_position": null,
       "order": null,
       "overflow": null,
       "overflow_x": null,
       "overflow_y": null,
       "padding": null,
       "right": null,
       "top": null,
       "visibility": null,
       "width": null
      }
     },
     "b4a03ae1518540b380a97f997788f48b": {
      "model_module": "@jupyter-widgets/base",
      "model_module_version": "1.2.0",
      "model_name": "LayoutModel",
      "state": {
       "_model_module": "@jupyter-widgets/base",
       "_model_module_version": "1.2.0",
       "_model_name": "LayoutModel",
       "_view_count": null,
       "_view_module": "@jupyter-widgets/base",
       "_view_module_version": "1.2.0",
       "_view_name": "LayoutView",
       "align_content": null,
       "align_items": null,
       "align_self": null,
       "border": null,
       "bottom": null,
       "display": null,
       "flex": null,
       "flex_flow": null,
       "grid_area": null,
       "grid_auto_columns": null,
       "grid_auto_flow": null,
       "grid_auto_rows": null,
       "grid_column": null,
       "grid_gap": null,
       "grid_row": null,
       "grid_template_areas": null,
       "grid_template_columns": null,
       "grid_template_rows": null,
       "height": null,
       "justify_content": null,
       "justify_items": null,
       "left": null,
       "margin": null,
       "max_height": null,
       "max_width": null,
       "min_height": null,
       "min_width": null,
       "object_fit": null,
       "object_position": null,
       "order": null,
       "overflow": null,
       "overflow_x": null,
       "overflow_y": null,
       "padding": null,
       "right": null,
       "top": null,
       "visibility": null,
       "width": null
      }
     },
     "bb932115b3434f3bb3a3185c27aa5261": {
      "model_module": "@jupyter-widgets/controls",
      "model_module_version": "1.5.0",
      "model_name": "DescriptionStyleModel",
      "state": {
       "_model_module": "@jupyter-widgets/controls",
       "_model_module_version": "1.5.0",
       "_model_name": "DescriptionStyleModel",
       "_view_count": null,
       "_view_module": "@jupyter-widgets/base",
       "_view_module_version": "1.2.0",
       "_view_name": "StyleView",
       "description_width": ""
      }
     },
     "cebda2f2eaff40cabacb08accf733b4d": {
      "model_module": "@jupyter-widgets/controls",
      "model_module_version": "1.5.0",
      "model_name": "FloatProgressModel",
      "state": {
       "_dom_classes": [],
       "_model_module": "@jupyter-widgets/controls",
       "_model_module_version": "1.5.0",
       "_model_name": "FloatProgressModel",
       "_view_count": null,
       "_view_module": "@jupyter-widgets/controls",
       "_view_module_version": "1.5.0",
       "_view_name": "ProgressView",
       "bar_style": "success",
       "description": "100%",
       "description_tooltip": null,
       "layout": "IPY_MODEL_523035aa5a844540a0c8c7271d07dd18",
       "max": 46,
       "min": 0,
       "orientation": "horizontal",
       "style": "IPY_MODEL_f636d755749848b1b99a9de0032e9842",
       "value": 46
      }
     },
     "cf65683652f147ecb2f78df4a6398ce8": {
      "model_module": "@jupyter-widgets/controls",
      "model_module_version": "1.5.0",
      "model_name": "HBoxModel",
      "state": {
       "_dom_classes": [],
       "_model_module": "@jupyter-widgets/controls",
       "_model_module_version": "1.5.0",
       "_model_name": "HBoxModel",
       "_view_count": null,
       "_view_module": "@jupyter-widgets/controls",
       "_view_module_version": "1.5.0",
       "_view_name": "HBoxView",
       "box_style": "",
       "children": [
        "IPY_MODEL_06ed1966deaa4b538a9c075907bc61d8",
        "IPY_MODEL_51e14881a90b4f2891bbbd37ab3de542"
       ],
       "layout": "IPY_MODEL_9974763dc7e64df1b2cd2e849a38cebb"
      }
     },
     "d9c51f8e12c4452db5e3e2b16c30013e": {
      "model_module": "@jupyter-widgets/controls",
      "model_module_version": "1.5.0",
      "model_name": "DescriptionStyleModel",
      "state": {
       "_model_module": "@jupyter-widgets/controls",
       "_model_module_version": "1.5.0",
       "_model_name": "DescriptionStyleModel",
       "_view_count": null,
       "_view_module": "@jupyter-widgets/base",
       "_view_module_version": "1.2.0",
       "_view_name": "StyleView",
       "description_width": ""
      }
     },
     "e040954b7f3e43e7b2f94a034254a60b": {
      "model_module": "@jupyter-widgets/controls",
      "model_module_version": "1.5.0",
      "model_name": "FloatProgressModel",
      "state": {
       "_dom_classes": [],
       "_model_module": "@jupyter-widgets/controls",
       "_model_module_version": "1.5.0",
       "_model_name": "FloatProgressModel",
       "_view_count": null,
       "_view_module": "@jupyter-widgets/controls",
       "_view_module_version": "1.5.0",
       "_view_name": "ProgressView",
       "bar_style": "success",
       "description": "100%",
       "description_tooltip": null,
       "layout": "IPY_MODEL_b339323be8a242b6b935e93981ba1c69",
       "max": 46,
       "min": 0,
       "orientation": "horizontal",
       "style": "IPY_MODEL_387940f43a9b4f97bda6fd5cd430acf9",
       "value": 46
      }
     },
     "e0a37084f43e4d3ea2dfe0b339361482": {
      "model_module": "@jupyter-widgets/controls",
      "model_module_version": "1.5.0",
      "model_name": "DescriptionStyleModel",
      "state": {
       "_model_module": "@jupyter-widgets/controls",
       "_model_module_version": "1.5.0",
       "_model_name": "DescriptionStyleModel",
       "_view_count": null,
       "_view_module": "@jupyter-widgets/base",
       "_view_module_version": "1.2.0",
       "_view_name": "StyleView",
       "description_width": ""
      }
     },
     "e71284e26087489b9d637147cc128608": {
      "model_module": "@jupyter-widgets/controls",
      "model_module_version": "1.5.0",
      "model_name": "HBoxModel",
      "state": {
       "_dom_classes": [],
       "_model_module": "@jupyter-widgets/controls",
       "_model_module_version": "1.5.0",
       "_model_name": "HBoxModel",
       "_view_count": null,
       "_view_module": "@jupyter-widgets/controls",
       "_view_module_version": "1.5.0",
       "_view_name": "HBoxView",
       "box_style": "",
       "children": [
        "IPY_MODEL_88db3aa0a7ae4c7cb4f6580c0fa14060",
        "IPY_MODEL_8e2b9dfa9a0c42079f07795949661cb8"
       ],
       "layout": "IPY_MODEL_7d4871c06ce14437b25051f5a08370dd"
      }
     },
     "ebe42be42b384f6da80d436e35a118e1": {
      "model_module": "@jupyter-widgets/controls",
      "model_module_version": "1.5.0",
      "model_name": "HBoxModel",
      "state": {
       "_dom_classes": [],
       "_model_module": "@jupyter-widgets/controls",
       "_model_module_version": "1.5.0",
       "_model_name": "HBoxModel",
       "_view_count": null,
       "_view_module": "@jupyter-widgets/controls",
       "_view_module_version": "1.5.0",
       "_view_name": "HBoxView",
       "box_style": "",
       "children": [
        "IPY_MODEL_050ee9bd289b4f47920a3ef442d3c5dd",
        "IPY_MODEL_b05876a0539d44e195bc92ac8d23134d"
       ],
       "layout": "IPY_MODEL_8658e11686464ff4bdb5e21f26590510"
      }
     },
     "ec542ee343e44164855bcb38a54b06b6": {
      "model_module": "@jupyter-widgets/controls",
      "model_module_version": "1.5.0",
      "model_name": "ProgressStyleModel",
      "state": {
       "_model_module": "@jupyter-widgets/controls",
       "_model_module_version": "1.5.0",
       "_model_name": "ProgressStyleModel",
       "_view_count": null,
       "_view_module": "@jupyter-widgets/base",
       "_view_module_version": "1.2.0",
       "_view_name": "StyleView",
       "bar_color": null,
       "description_width": "initial"
      }
     },
     "f636d755749848b1b99a9de0032e9842": {
      "model_module": "@jupyter-widgets/controls",
      "model_module_version": "1.5.0",
      "model_name": "ProgressStyleModel",
      "state": {
       "_model_module": "@jupyter-widgets/controls",
       "_model_module_version": "1.5.0",
       "_model_name": "ProgressStyleModel",
       "_view_count": null,
       "_view_module": "@jupyter-widgets/base",
       "_view_module_version": "1.2.0",
       "_view_name": "StyleView",
       "bar_color": null,
       "description_width": "initial"
      }
     },
     "f7c56a0848154fb8ada1b33e3c95c5f6": {
      "model_module": "@jupyter-widgets/controls",
      "model_module_version": "1.5.0",
      "model_name": "ProgressStyleModel",
      "state": {
       "_model_module": "@jupyter-widgets/controls",
       "_model_module_version": "1.5.0",
       "_model_name": "ProgressStyleModel",
       "_view_count": null,
       "_view_module": "@jupyter-widgets/base",
       "_view_module_version": "1.2.0",
       "_view_name": "StyleView",
       "bar_color": null,
       "description_width": "initial"
      }
     },
     "f8c01645528c444eae62dc274c698ec8": {
      "model_module": "@jupyter-widgets/base",
      "model_module_version": "1.2.0",
      "model_name": "LayoutModel",
      "state": {
       "_model_module": "@jupyter-widgets/base",
       "_model_module_version": "1.2.0",
       "_model_name": "LayoutModel",
       "_view_count": null,
       "_view_module": "@jupyter-widgets/base",
       "_view_module_version": "1.2.0",
       "_view_name": "LayoutView",
       "align_content": null,
       "align_items": null,
       "align_self": null,
       "border": null,
       "bottom": null,
       "display": null,
       "flex": null,
       "flex_flow": null,
       "grid_area": null,
       "grid_auto_columns": null,
       "grid_auto_flow": null,
       "grid_auto_rows": null,
       "grid_column": null,
       "grid_gap": null,
       "grid_row": null,
       "grid_template_areas": null,
       "grid_template_columns": null,
       "grid_template_rows": null,
       "height": null,
       "justify_content": null,
       "justify_items": null,
       "left": null,
       "margin": null,
       "max_height": null,
       "max_width": null,
       "min_height": null,
       "min_width": null,
       "object_fit": null,
       "object_position": null,
       "order": null,
       "overflow": null,
       "overflow_x": null,
       "overflow_y": null,
       "padding": null,
       "right": null,
       "top": null,
       "visibility": null,
       "width": null
      }
     },
     "f92adb75c3d947ae88475b429fb04009": {
      "model_module": "@jupyter-widgets/controls",
      "model_module_version": "1.5.0",
      "model_name": "DescriptionStyleModel",
      "state": {
       "_model_module": "@jupyter-widgets/controls",
       "_model_module_version": "1.5.0",
       "_model_name": "DescriptionStyleModel",
       "_view_count": null,
       "_view_module": "@jupyter-widgets/base",
       "_view_module_version": "1.2.0",
       "_view_name": "StyleView",
       "description_width": ""
      }
     },
     "faeee766eaa54da486751a6665c03f41": {
      "model_module": "@jupyter-widgets/controls",
      "model_module_version": "1.5.0",
      "model_name": "HTMLModel",
      "state": {
       "_dom_classes": [],
       "_model_module": "@jupyter-widgets/controls",
       "_model_module_version": "1.5.0",
       "_model_name": "HTMLModel",
       "_view_count": null,
       "_view_module": "@jupyter-widgets/controls",
       "_view_module_version": "1.5.0",
       "_view_name": "HTMLView",
       "description": "",
       "description_tooltip": null,
       "layout": "IPY_MODEL_5e168f6e4b554ef0a94ab63937dc02e4",
       "placeholder": "​",
       "style": "IPY_MODEL_3832e7f3cdbf42e2840ecb41200745e1",
       "value": " 46/46 [01:30&lt;00:00,  1.97s/it]"
      }
     },
     "fb0c066904074d149c8e36f1ce6a8141": {
      "model_module": "@jupyter-widgets/base",
      "model_module_version": "1.2.0",
      "model_name": "LayoutModel",
      "state": {
       "_model_module": "@jupyter-widgets/base",
       "_model_module_version": "1.2.0",
       "_model_name": "LayoutModel",
       "_view_count": null,
       "_view_module": "@jupyter-widgets/base",
       "_view_module_version": "1.2.0",
       "_view_name": "LayoutView",
       "align_content": null,
       "align_items": null,
       "align_self": null,
       "border": null,
       "bottom": null,
       "display": null,
       "flex": null,
       "flex_flow": null,
       "grid_area": null,
       "grid_auto_columns": null,
       "grid_auto_flow": null,
       "grid_auto_rows": null,
       "grid_column": null,
       "grid_gap": null,
       "grid_row": null,
       "grid_template_areas": null,
       "grid_template_columns": null,
       "grid_template_rows": null,
       "height": null,
       "justify_content": null,
       "justify_items": null,
       "left": null,
       "margin": null,
       "max_height": null,
       "max_width": null,
       "min_height": null,
       "min_width": null,
       "object_fit": null,
       "object_position": null,
       "order": null,
       "overflow": null,
       "overflow_x": null,
       "overflow_y": null,
       "padding": null,
       "right": null,
       "top": null,
       "visibility": null,
       "width": null
      }
     },
     "fe56d11f4eb14ec8917948fe95cd22f6": {
      "model_module": "@jupyter-widgets/controls",
      "model_module_version": "1.5.0",
      "model_name": "HTMLModel",
      "state": {
       "_dom_classes": [],
       "_model_module": "@jupyter-widgets/controls",
       "_model_module_version": "1.5.0",
       "_model_name": "HTMLModel",
       "_view_count": null,
       "_view_module": "@jupyter-widgets/controls",
       "_view_module_version": "1.5.0",
       "_view_name": "HTMLView",
       "description": "",
       "description_tooltip": null,
       "layout": "IPY_MODEL_7fc949eed9a44098a9eaee8c2c765e6d",
       "placeholder": "​",
       "style": "IPY_MODEL_126135de5fd548a3a0e9e96ebb816f09",
       "value": " 46/46 [02:35&lt;00:00,  3.38s/it]"
      }
     }
    },
    "version_major": 2,
    "version_minor": 0
   }
  }
 },
 "nbformat": 4,
 "nbformat_minor": 4
}
