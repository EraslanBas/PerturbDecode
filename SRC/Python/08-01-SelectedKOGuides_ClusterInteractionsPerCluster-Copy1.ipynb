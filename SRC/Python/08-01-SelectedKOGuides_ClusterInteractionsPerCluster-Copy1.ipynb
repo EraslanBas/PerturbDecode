{
 "cells": [
  {
   "cell_type": "code",
   "execution_count": 1,
   "metadata": {
    "papermill": {
     "duration": 2.497662,
     "end_time": "2020-02-03T11:16:52.810525",
     "exception": false,
     "start_time": "2020-02-03T11:16:50.312863",
     "status": "completed"
    },
    "tags": []
   },
   "outputs": [
    {
     "name": "stderr",
     "output_type": "stream",
     "text": [
      "/home/beraslan/miniconda3/lib/python3.8/site-packages/statsmodels/compat/pandas.py:65: FutureWarning: pandas.Int64Index is deprecated and will be removed from pandas in a future version. Use pandas.Index with the appropriate dtype instead.\n",
      "  from pandas import Int64Index as NumericIndex\n"
     ]
    }
   ],
   "source": [
    "from libraries import *\n",
    "from parameters import *\n",
    "import statsmodels.api as sm\n",
    "import sklearn.feature_selection\n",
    "import statsmodels.api as sm\n",
    "import sklearn.feature_selection\n",
    "from sklearn.preprocessing import PolynomialFeatures\n",
    "import warnings\n",
    "warnings.filterwarnings('ignore')\n",
    "from statannot import add_stat_annotation\n",
    "from numpy.random import seed\n",
    "from numpy.random import randint\n",
    "import statsmodels.formula.api as smf\n",
    "\n",
    "import statsmodels.api as sm\n",
    "%load_ext rpy2.ipython\n",
    "\n",
    "import sys\n",
    "# setIndex_1=sys.argv[1]\n",
    "# setIndex_2=sys.argv[2]\n",
    "from sklearn.preprocessing import OneHotEncoder"
   ]
  },
  {
   "cell_type": "code",
   "execution_count": 2,
   "metadata": {
    "tags": [
     "parameters"
    ]
   },
   "outputs": [],
   "source": [
    "setIndex_1=100"
   ]
  },
  {
   "cell_type": "code",
   "execution_count": 3,
   "metadata": {},
   "outputs": [],
   "source": [
    "os.getcwd()\n",
    "os.chdir(projectDir)"
   ]
  },
  {
   "cell_type": "code",
   "execution_count": 4,
   "metadata": {},
   "outputs": [
    {
     "name": "stdout",
     "output_type": "stream",
     "text": [
      "110\n"
     ]
    }
   ],
   "source": [
    "setIndex_2= setIndex_1+10\n",
    "print(setIndex_2)"
   ]
  },
  {
   "cell_type": "code",
   "execution_count": 5,
   "metadata": {
    "tags": []
   },
   "outputs": [],
   "source": [
    "adataC = sc.read('outputs/anndata/adata-hash-features_singlets_SingleKO_08122020_PerGENE.h5ad')\n",
    "\n",
    "\n",
    "allGeneNames = pd.read_csv(\"/home/beraslan/jovian-work/analysisSingle/AllExpGeneNames.csv\", index_col=0)\n",
    "\n",
    "# adataC.obs[\"subCellType\"] = \"DC2\"\n",
    "# adataC.obs.loc[adataC.obs.leiden.isin(['3']), \"subCellType\"] = \"MacDC\"\n",
    "# adataC.obs.loc[adataC.obs.leiden.isin(['8']), \"subCellType\"] = \"DC1\"\n",
    "# adataC.obs.loc[adataC.obs.leiden.isin(['5']), \"subCellType\"] = \"MReg\""
   ]
  },
  {
   "cell_type": "code",
   "execution_count": 6,
   "metadata": {},
   "outputs": [],
   "source": [
    "cGenes = pd.read_csv('/home/beraslan/jovian-work/analysisSingle/ICA_15_factors_effectedGenes_paper.csv')\n",
    "cGenes.columns = [x.replace(\" \",\"\") for x in cGenes.columns]"
   ]
  },
  {
   "cell_type": "code",
   "execution_count": 7,
   "metadata": {
    "tags": []
   },
   "outputs": [
    {
     "name": "stdout",
     "output_type": "stream",
     "text": [
      "computing score 'Factor1genegroup1'\n",
      "    finished: added\n",
      "    'Factor1genegroup1', score of gene set (adata.obs).\n",
      "    203 total control genes are used. (0:00:08)\n",
      "computing score 'Factor1genegroup2'\n",
      "WARNING: genes are not in var_names and ignored: [' ', ' ', ' ', ' ', ' ', ' ', ' ', ' ', ' ', ' ', ' ', ' ', ' ', ' ', ' ', ' ', ' ', ' ', ' ', ' ', ' ', ' ', ' ', ' ', ' ', ' ', ' ', ' ', ' ', ' ', ' ', ' ', ' ', ' ', ' ', ' ', ' ', ' ', ' ', ' ', ' ', ' ', ' ', ' ', ' ', ' ', ' ', ' ', ' ', ' ', ' ', ' ', ' ', ' ', ' ', ' ', ' ', ' ', ' ', ' ', ' ', ' ', ' ', ' ', ' ', ' ', ' ', ' ', ' ', ' ', ' ', ' ', ' ', ' ', ' ', ' ', ' ', ' ', ' ', ' ', ' ', ' ', ' ', ' ', ' ', ' ', ' ', ' ', ' ', ' ', ' ', ' ', ' ']\n",
      "    finished: added\n",
      "    'Factor1genegroup2', score of gene set (adata.obs).\n",
      "    209 total control genes are used. (0:00:07)\n",
      "computing score 'Factor2genegroup1'\n",
      "WARNING: genes are not in var_names and ignored: [' ', ' ', ' ', ' ', ' ', ' ', ' ', ' ', ' ', ' ', ' ', ' ', ' ', ' ', ' ', ' ', ' ', ' ', ' ', ' ', ' ', ' ', ' ', ' ', ' ', ' ', ' ', ' ', ' ', ' ', ' ', ' ', ' ', ' ', ' ', ' ', ' ', ' ', ' ', ' ', ' ', ' ', ' ', ' ', ' ', ' ', ' ', ' ', ' ', ' ', ' ', ' ', ' ', ' ', ' ', ' ', ' ', ' ', ' ', ' ', ' ', ' ', ' ', ' ', ' ', ' ', ' ', ' ', ' ', ' ', ' ', ' ', ' ', ' ', ' ', ' ', ' ', ' ', ' ', ' ', ' ', ' ', ' ', ' ', ' ', ' ', ' ', ' ', ' ', ' ', ' ', ' ', ' ', ' ', ' ']\n",
      "    finished: added\n",
      "    'Factor2genegroup1', score of gene set (adata.obs).\n",
      "    197 total control genes are used. (0:00:07)\n",
      "computing score 'Factor2genegroup2'\n",
      "WARNING: genes are not in var_names and ignored: [' ', ' ', ' ', ' ', ' ', ' ', ' ', ' ', ' ', ' ', ' ', ' ', ' ', ' ', ' ', ' ', ' ', ' ', ' ', ' ', ' ', ' ', ' ', ' ', ' ', ' ', ' ', ' ', ' ', ' ', ' ', ' ', ' ']\n",
      "    finished: added\n",
      "    'Factor2genegroup2', score of gene set (adata.obs).\n",
      "    550 total control genes are used. (0:00:08)\n",
      "computing score 'Factor3genegroup1'\n",
      "WARNING: genes are not in var_names and ignored: ['X2010005H15Rik', ' ', ' ', ' ', ' ', ' ', ' ', ' ', ' ', ' ', ' ', ' ', ' ', ' ', ' ', ' ', ' ', ' ', ' ', ' ', ' ', ' ', ' ', ' ', ' ', ' ', ' ', ' ', ' ', ' ', ' ', ' ', ' ', ' ', ' ', ' ', ' ', ' ', ' ', ' ', ' ', ' ', ' ', ' ', ' ', ' ', ' ', ' ', ' ', ' ', ' ', ' ', ' ', ' ', ' ', ' ', ' ', ' ', ' ', ' ', ' ', ' ', ' ', ' ', ' ', ' ', ' ', ' ']\n",
      "    finished: added\n",
      "    'Factor3genegroup1', score of gene set (adata.obs).\n",
      "    497 total control genes are used. (0:00:07)\n",
      "computing score 'Factor3genegroup2'\n",
      "WARNING: genes are not in var_names and ignored: [' ', ' ', ' ', ' ', ' ', ' ', ' ', ' ', ' ', ' ', ' ', ' ', ' ', ' ', ' ', ' ', ' ', ' ', ' ', ' ', ' ', ' ', ' ', ' ', ' ', ' ', ' ', ' ', ' ', ' ', ' ', ' ', ' ', ' ', ' ', ' ', ' ', ' ', ' ', ' ', ' ', ' ', ' ', ' ', ' ', ' ', ' ', ' ', ' ', ' ', ' ', ' ', ' ', ' ', ' ', ' ', ' ', ' ', ' ', ' ', ' ', ' ', ' ', ' ', ' ', ' ', ' ', ' ', ' ', ' ', ' ', ' ', ' ', ' ']\n",
      "    finished: added\n",
      "    'Factor3genegroup2', score of gene set (adata.obs).\n",
      "    256 total control genes are used. (0:00:07)\n",
      "computing score 'Factor4genegroup1'\n",
      "WARNING: genes are not in var_names and ignored: ['AC160336-1', ' ', ' ', ' ', ' ', ' ', ' ', ' ', ' ', ' ', ' ', ' ', ' ', ' ', ' ', ' ', ' ', ' ', ' ', ' ', ' ', ' ', ' ', ' ', ' ', ' ', ' ', ' ', ' ', ' ', ' ', ' ', ' ', ' ', ' ', ' ', ' ', ' ', ' ', ' ', ' ', ' ', ' ', ' ', ' ', ' ', ' ', ' ', ' ', ' ', ' ', ' ', ' ', ' ', ' ', ' ', ' ', ' ', ' ', ' ', ' ', ' ', ' ', ' ', ' ', ' ', ' ', ' ', ' ', ' ', ' ', ' ', ' ', ' ', ' ', ' ', ' ', ' ', ' ', ' ', ' ', ' ', ' ', ' ', ' ']\n",
      "    finished: added\n",
      "    'Factor4genegroup1', score of gene set (adata.obs).\n",
      "    157 total control genes are used. (0:00:07)\n",
      "computing score 'Factor4genegroup2'\n",
      "WARNING: genes are not in var_names and ignored: [' ', ' ', ' ', ' ', ' ', ' ', ' ', ' ', ' ', ' ', ' ', ' ', ' ', ' ', ' ', ' ', ' ', ' ', ' ', ' ', ' ', ' ', ' ', ' ', ' ', ' ', ' ', ' ', ' ', ' ', ' ', ' ', ' ', ' ', ' ', ' ', ' ', ' ', ' ', ' ', ' ', ' ', ' ', ' ', ' ', ' ', ' ', ' ', ' ', ' ', ' ', ' ', ' ', ' ', ' ', ' ', ' ', ' ', ' ', ' ', ' ', ' ', ' ', ' ', ' ', ' ', ' ', ' ', ' ', ' ', ' ', ' ', ' ', ' ', ' ', ' ', ' ', ' ', ' ', ' ', ' ', ' ', ' ', ' ', ' ', ' ', ' ', ' ', ' ']\n",
      "    finished: added\n",
      "    'Factor4genegroup2', score of gene set (adata.obs).\n",
      "    259 total control genes are used. (0:00:07)\n",
      "computing score 'Factor5genegroup1'\n",
      "WARNING: genes are not in var_names and ignored: [' ', ' ', ' ', ' ', ' ', ' ', ' ', ' ', ' ', ' ', ' ', ' ', ' ', ' ', ' ', ' ', ' ', ' ', ' ', ' ', ' ', ' ', ' ', ' ', ' ', ' ', ' ', ' ', ' ', ' ', ' ', ' ', ' ', ' ', ' ', ' ', ' ', ' ', ' ', ' ', ' ', ' ', ' ', ' ', ' ', ' ', ' ', ' ', ' ', ' ', ' ', ' ']\n",
      "    finished: added\n",
      "    'Factor5genegroup1', score of gene set (adata.obs).\n",
      "    298 total control genes are used. (0:00:08)\n",
      "computing score 'Factor5genegroup2'\n",
      "WARNING: genes are not in var_names and ignored: [' ', ' ', ' ', ' ', ' ', ' ', ' ', ' ', ' ', ' ', ' ', ' ', ' ', ' ', ' ', ' ', ' ', ' ', ' ', ' ', ' ', ' ', ' ', ' ', ' ', ' ', ' ', ' ', ' ', ' ', ' ', ' ', ' ', ' ', ' ', ' ', ' ', ' ', ' ', ' ', ' ', ' ', ' ', ' ', ' ', ' ', ' ', ' ', ' ', ' ', ' ', ' ', ' ', ' ', ' ', ' ', ' ', ' ', ' ', ' ', ' ', ' ', ' ', ' ', ' ', ' ', ' ', ' ', ' ', ' ', ' ', ' ', ' ', ' ', ' ', ' ', ' ', ' ', ' ', ' ', ' ', ' ', ' ', ' ', ' ', ' ', ' ', ' ', ' ', ' ', ' ', ' ', ' ']\n",
      "    finished: added\n",
      "    'Factor5genegroup2', score of gene set (adata.obs).\n",
      "    358 total control genes are used. (0:00:07)\n",
      "computing score 'Factor6genegroup1'\n",
      "WARNING: genes are not in var_names and ignored: [' ', ' ', ' ', ' ', ' ', ' ', ' ', ' ', ' ', ' ', ' ', ' ', ' ', ' ', ' ', ' ', ' ', ' ', ' ', ' ', ' ', ' ', ' ', ' ', ' ', ' ', ' ', ' ', ' ', ' ', ' ', ' ', ' ', ' ', ' ', ' ', ' ', ' ', ' ', ' ', ' ', ' ', ' ', ' ', ' ', ' ', ' ', ' ', ' ', ' ', ' ', ' ', ' ', ' ', ' ', ' ', ' ', ' ', ' ', ' ', ' ', ' ', ' ', ' ', ' ', ' ', ' ', ' ', ' ', ' ', ' ', ' ', ' ', ' ', ' ', ' ', ' ', ' ', ' ', ' ', ' ', ' ']\n",
      "    finished: added\n",
      "    'Factor6genegroup1', score of gene set (adata.obs).\n",
      "    207 total control genes are used. (0:00:07)\n",
      "computing score 'Factor6genegroup2'\n",
      "WARNING: genes are not in var_names and ignored: [' ', ' ', ' ', ' ', ' ', ' ', ' ', ' ', ' ', ' ', ' ', ' ', ' ', ' ', ' ', ' ', ' ', ' ', ' ', ' ', ' ', ' ', ' ', ' ', ' ', ' ', ' ', ' ', ' ', ' ', ' ', ' ', ' ', ' ', ' ', ' ', ' ', ' ', ' ', ' ', ' ', ' ', ' ', ' ', ' ', ' ', ' ', ' ', ' ', ' ', ' ', ' ', ' ', ' ', ' ', ' ', ' ', ' ', ' ', ' ', ' ', ' ', ' ', ' ', ' ', ' ']\n",
      "    finished: added\n",
      "    'Factor6genegroup2', score of gene set (adata.obs).\n",
      "    345 total control genes are used. (0:00:07)\n",
      "computing score 'Factor7genegroup1'\n",
      "WARNING: genes are not in var_names and ignored: [' ', ' ', ' ', ' ', ' ', ' ', ' ', ' ', ' ', ' ', ' ', ' ', ' ', ' ', ' ', ' ', ' ', ' ', ' ', ' ', ' ', ' ', ' ', ' ', ' ', ' ', ' ', ' ', ' ', ' ', ' ', ' ', ' ', ' ', ' ', ' ', ' ', ' ', ' ', ' ', ' ', ' ', ' ', ' ', ' ', ' ', ' ', ' ', ' ', ' ', ' ', ' ', ' ', ' ', ' ', ' ', ' ', ' ', ' ', ' ', ' ', ' ', ' ', ' ', ' ', ' ', ' ', ' ', ' ', ' ', ' ', ' ', ' ', ' ', ' ', ' ', ' ', ' ', ' ', ' ', ' ', ' ', ' ', ' ', ' ', ' ', ' ', ' ', ' ', ' ', ' ', ' ', ' ', ' ', ' ']\n",
      "    finished: added\n",
      "    'Factor7genegroup1', score of gene set (adata.obs).\n",
      "    198 total control genes are used. (0:00:07)\n",
      "computing score 'Factor7genegroup2'\n",
      "WARNING: genes are not in var_names and ignored: [' ', ' ', ' ', ' ', ' ', ' ', ' ', ' ', ' ', ' ', ' ', ' ', ' ', ' ', ' ', ' ', ' ', ' ', ' ', ' ', ' ', ' ', ' ', ' ', ' ', ' ', ' ', ' ', ' ', ' ', ' ', ' ', ' ', ' ', ' ', ' ', ' ', ' ', ' ', ' ', ' ', ' ', ' ', ' ', ' ', ' ', ' ', ' ', ' ', ' ', ' ', ' ', ' ', ' ', ' ', ' ', ' ', ' ', ' ', ' ', ' ', ' ', ' ', ' ', ' ', ' ', ' ', ' ', ' ', ' ', ' ', ' ', ' ', ' ', ' ', ' ', ' ', ' ', ' ', ' ', ' ', ' ', ' ']\n",
      "    finished: added\n",
      "    'Factor7genegroup2', score of gene set (adata.obs).\n",
      "    111 total control genes are used. (0:00:07)\n",
      "computing score 'Factor8genegroup1'\n",
      "WARNING: genes are not in var_names and ignored: [' ', ' ', ' ', ' ', ' ', ' ', ' ', ' ', ' ', ' ', ' ', ' ', ' ', ' ', ' ', ' ', ' ', ' ', ' ', ' ', ' ', ' ', ' ', ' ', ' ', ' ', ' ', ' ', ' ', ' ', ' ', ' ', ' ', ' ', ' ', ' ', ' ', ' ', ' ', ' ', ' ', ' ', ' ', ' ', ' ', ' ', ' ', ' ', ' ', ' ', ' ', ' ', ' ', ' ', ' ', ' ', ' ']\n",
      "    finished: added\n",
      "    'Factor8genegroup1', score of gene set (adata.obs).\n",
      "    309 total control genes are used. (0:00:08)\n",
      "computing score 'Factor8genegroup2'\n",
      "WARNING: genes are not in var_names and ignored: [' ', ' ', ' ', ' ', ' ', ' ', ' ', ' ', ' ', ' ', ' ', ' ', ' ', ' ', ' ', ' ', ' ', ' ', ' ', ' ', ' ', ' ', ' ', ' ', ' ', ' ', ' ', ' ', ' ', ' ', ' ', ' ', ' ', ' ', ' ', ' ', ' ', ' ', ' ', ' ', ' ', ' ', ' ', ' ', ' ', ' ', ' ', ' ', ' ', ' ', ' ', ' ', ' ', ' ', ' ', ' ', ' ', ' ', ' ', ' ', ' ', ' ', ' ', ' ', ' ', ' ', ' ', ' ', ' ', ' ', ' ', ' ', ' ', ' ', ' ', ' ', ' ', ' ', ' ', ' ', ' ', ' ', ' ', ' ', ' ', ' ', ' ', ' ', ' ', ' ', ' ', ' ', ' ', ' ', ' ', ' ', ' ', ' ']\n",
      "    finished: added\n",
      "    'Factor8genegroup2', score of gene set (adata.obs).\n",
      "    160 total control genes are used. (0:00:07)\n",
      "computing score 'Factor9genegroup1'\n",
      "WARNING: genes are not in var_names and ignored: [' ', ' ', ' ', ' ', ' ', ' ', ' ', ' ', ' ', ' ', ' ', ' ', ' ', ' ', ' ', ' ', ' ', ' ', ' ', ' ', ' ', ' ', ' ', ' ', ' ', ' ', ' ', ' ', ' ', ' ', ' ', ' ', ' ', ' ', ' ', ' ', ' ', ' ', ' ', ' ', ' ', ' ', ' ', ' ', ' ', ' ', ' ', ' ', ' ', ' ', ' ', ' ', ' ', ' ', ' ', ' ', ' ', ' ', ' ', ' ', ' ', ' ', ' ', ' ', ' ', ' ', ' ', ' ', ' ', ' ', ' ', ' ', ' ', ' ', ' ', ' ', ' ', ' ', ' ', ' ']\n",
      "    finished: added\n",
      "    'Factor9genegroup1', score of gene set (adata.obs).\n",
      "    298 total control genes are used. (0:00:07)\n",
      "computing score 'Factor9genegroup2'\n",
      "WARNING: genes are not in var_names and ignored: [' ', ' ', ' ', ' ', ' ', ' ', ' ', ' ', ' ', ' ', ' ', ' ', ' ', ' ', ' ', ' ', ' ', ' ', ' ', ' ', ' ', ' ', ' ', ' ', ' ', ' ', ' ', ' ', ' ', ' ', ' ', ' ', ' ', ' ', ' ', ' ', ' ', ' ', ' ', ' ', ' ', ' ', ' ', ' ', ' ', ' ', ' ', ' ', ' ', ' ', ' ', ' ', ' ', ' ', ' ', ' ', ' ', ' ', ' ', ' ', ' ']\n",
      "    finished: added\n",
      "    'Factor9genegroup2', score of gene set (adata.obs).\n",
      "    547 total control genes are used. (0:00:07)\n",
      "computing score 'Factor10genegroup1'\n",
      "WARNING: genes are not in var_names and ignored: ['X2010005H15Rik', ' ', ' ', ' ', ' ', ' ', ' ', ' ', ' ', ' ', ' ', ' ', ' ', ' ', ' ', ' ', ' ', ' ', ' ', ' ', ' ', ' ', ' ', ' ', ' ', ' ', ' ', ' ', ' ', ' ', ' ', ' ', ' ', ' ', ' ', ' ', ' ', ' ', ' ', ' ', ' ', ' ', ' ', ' ', ' ', ' ', ' ', ' ', ' ', ' ', ' ', ' ', ' ', ' ', ' ']\n",
      "    finished: added\n",
      "    'Factor10genegroup1', score of gene set (adata.obs).\n",
      "    543 total control genes are used. (0:00:08)\n",
      "computing score 'Factor10genegroup2'\n",
      "WARNING: genes are not in var_names and ignored: [' ', ' ', ' ', ' ', ' ', ' ', ' ', ' ', ' ', ' ', ' ', ' ', ' ', ' ', ' ', ' ', ' ', ' ', ' ', ' ', ' ', ' ', ' ', ' ', ' ', ' ', ' ', ' ', ' ', ' ', ' ', ' ', ' ', ' ', ' ', ' ', ' ', ' ', ' ', ' ', ' ', ' ', ' ', ' ', ' ', ' ', ' ', ' ', ' ', ' ', ' ', ' ', ' ', ' ', ' ', ' ', ' ', ' ', ' ', ' ', ' ', ' ', ' ', ' ', ' ', ' ', ' ', ' ', ' ', ' ', ' ', ' ', ' ', ' ', ' ', ' ', ' ', ' ', ' ', ' ', ' ', ' ', ' ', ' ', ' ', ' ', ' ', ' ', ' ', ' ', ' ', ' ', ' ', ' ']\n",
      "    finished: added\n",
      "    'Factor10genegroup2', score of gene set (adata.obs).\n",
      "    160 total control genes are used. (0:00:07)\n",
      "computing score 'Factor11genegroup1'\n",
      "WARNING: genes are not in var_names and ignored: [' ', ' ', ' ', ' ', ' ', ' ', ' ', ' ', ' ', ' ', ' ', ' ', ' ', ' ', ' ', ' ', ' ', ' ', ' ', ' ', ' ', ' ', ' ', ' ', ' ', ' ', ' ', ' ', ' ', ' ', ' ', ' ', ' ', ' ', ' ', ' ', ' ', ' ', ' ', ' ', ' ', ' ', ' ', ' ', ' ', ' ', ' ', ' ', ' ', ' ', ' ', ' ', ' ', ' ', ' ', ' ', ' ', ' ', ' ', ' ', ' ', ' ', ' ', ' ', ' ', ' ', ' ', ' ', ' ', ' ', ' ', ' ', ' ', ' ', ' ', ' ', ' ', ' ', ' ', ' ']\n",
      "    finished: added\n",
      "    'Factor11genegroup1', score of gene set (adata.obs).\n",
      "    209 total control genes are used. (0:00:07)\n",
      "computing score 'Factor11genegroup2'\n",
      "WARNING: genes are not in var_names and ignored: ['X0610012G03Rik', ' ', ' ', ' ', ' ', ' ', ' ', ' ', ' ', ' ', ' ', ' ', ' ', ' ', ' ', ' ', ' ', ' ', ' ', ' ', ' ', ' ', ' ', ' ', ' ', ' ', ' ', ' ', ' ', ' ', ' ', ' ', ' ', ' ', ' ', ' ', ' ', ' ', ' ', ' ', ' ', ' ', ' ', ' ', ' ', ' ', ' ', ' ', ' ', ' ', ' ', ' ', ' ', ' ', ' ', ' ', ' ', ' ', ' ', ' ', ' ', ' ', ' ', ' ', ' ', ' ', ' ', ' ', ' ', ' ', ' ', ' ', ' ', ' ', ' ', ' ', ' ']\n",
      "    finished: added\n",
      "    'Factor11genegroup2', score of gene set (adata.obs).\n",
      "    447 total control genes are used. (0:00:07)\n",
      "computing score 'Factor12genegroup1'\n",
      "WARNING: genes are not in var_names and ignored: [' ', ' ', ' ', ' ', ' ', ' ', ' ', ' ', ' ', ' ', ' ', ' ', ' ', ' ', ' ', ' ', ' ', ' ', ' ', ' ', ' ', ' ', ' ', ' ', ' ', ' ', ' ', ' ', ' ', ' ', ' ', ' ', ' ', ' ', ' ', ' ', ' ', ' ', ' ', ' ', ' ', ' ', ' ', ' ', ' ', ' ', ' ', ' ', ' ', ' ', ' ', ' ', ' ', ' ', ' ', ' ', ' ', ' ', ' ', ' ', ' ', ' ', ' ', ' ', ' ', ' ', ' ', ' ', ' ', ' ', ' ', ' ', ' ', ' ', ' ', ' ', ' ', ' ', ' ', ' ', ' ', ' ', ' ', ' ', ' ']\n",
      "    finished: added\n",
      "    'Factor12genegroup1', score of gene set (adata.obs).\n",
      "    297 total control genes are used. (0:00:07)\n",
      "computing score 'Factor12genegroup2'\n",
      "WARNING: genes are not in var_names and ignored: [' ', ' ', ' ', ' ', ' ', ' ', ' ', ' ', ' ', ' ', ' ', ' ', ' ', ' ', ' ', ' ', ' ', ' ', ' ', ' ', ' ', ' ', ' ', ' ', ' ', ' ', ' ', ' ', ' ', ' ', ' ', ' ', ' ', ' ', ' ', ' ', ' ', ' ', ' ', ' ', ' ', ' ', ' ', ' ', ' ', ' ', ' ', ' ', ' ', ' ', ' ', ' ', ' ', ' ', ' ', ' ', ' ', ' ', ' ', ' ', ' ', ' ', ' ', ' ', ' ', ' ', ' ', ' ', ' ', ' ', ' ', ' ', ' ', ' ', ' ', ' ', ' ', ' ', ' ', ' ', ' ', ' ', ' ', ' ', ' ', ' ', ' ']\n",
      "    finished: added\n",
      "    'Factor12genegroup2', score of gene set (adata.obs).\n",
      "    248 total control genes are used. (0:00:07)\n",
      "computing score 'Factor13genegroup1'\n",
      "WARNING: genes are not in var_names and ignored: [' ', ' ', ' ', ' ', ' ', ' ', ' ', ' ', ' ', ' ', ' ', ' ', ' ', ' ', ' ', ' ', ' ', ' ', ' ', ' ', ' ', ' ', ' ', ' ', ' ', ' ', ' ', ' ', ' ', ' ', ' ', ' ', ' ', ' ', ' ', ' ', ' ', ' ', ' ', ' ', ' ', ' ', ' ', ' ', ' ', ' ', ' ', ' ', ' ', ' ', ' ', ' ', ' ', ' ', ' ', ' ', ' ', ' ', ' ', ' ', ' ', ' ', ' ', ' ', ' ', ' ', ' ', ' ', ' ', ' ', ' ']\n",
      "    finished: added\n",
      "    'Factor13genegroup1', score of gene set (adata.obs).\n",
      "    459 total control genes are used. (0:00:07)\n",
      "computing score 'Factor13genegroup2'\n",
      "WARNING: genes are not in var_names and ignored: [' ', ' ', ' ', ' ', ' ', ' ', ' ', ' ', ' ', ' ', ' ', ' ', ' ', ' ', ' ', ' ', ' ', ' ', ' ', ' ', ' ', ' ', ' ', ' ', ' ', ' ', ' ', ' ', ' ', ' ', ' ', ' ', ' ', ' ', ' ', ' ', ' ', ' ', ' ', ' ', ' ', ' ', ' ', ' ', ' ', ' ', ' ', ' ', ' ', ' ', ' ', ' ', ' ', ' ', ' ', ' ', ' ', ' ', ' ', ' ', ' ', ' ', ' ', ' ', ' ', ' ', ' ', ' ', ' ', ' ', ' ', ' ', ' ', ' ', ' ', ' ', ' ', ' ', ' ', ' ', ' ', ' ']\n",
      "    finished: added\n",
      "    'Factor13genegroup2', score of gene set (adata.obs).\n",
      "    256 total control genes are used. (0:00:07)\n",
      "computing score 'Factor14genegroup1'\n",
      "WARNING: genes are not in var_names and ignored: ['AC160336-1', ' ', ' ', ' ', ' ', ' ', ' ', ' ', ' ', ' ', ' ', ' ', ' ', ' ', ' ', ' ', ' ', ' ', ' ', ' ', ' ', ' ', ' ', ' ', ' ', ' ', ' ', ' ', ' ', ' ', ' ', ' ', ' ', ' ', ' ', ' ', ' ', ' ', ' ', ' ', ' ', ' ', ' ', ' ', ' ', ' ', ' ', ' ', ' ', ' ', ' ', ' ', ' ', ' ', ' ', ' ', ' ', ' ', ' ', ' ', ' ', ' ', ' ', ' ']\n",
      "    finished: added\n",
      "    'Factor14genegroup1', score of gene set (adata.obs).\n",
      "    545 total control genes are used. (0:00:07)\n",
      "computing score 'Factor14genegroup2'\n",
      "WARNING: genes are not in var_names and ignored: [' ', ' ', ' ', ' ', ' ', ' ', ' ', ' ', ' ', ' ', ' ', ' ', ' ', ' ', ' ', ' ', ' ', ' ', ' ', ' ', ' ', ' ', ' ', ' ', ' ', ' ', ' ', ' ', ' ', ' ', ' ', ' ', ' ', ' ', ' ', ' ', ' ', ' ', ' ', ' ', ' ', ' ', ' ', ' ', ' ', ' ', ' ', ' ', ' ', ' ', ' ', ' ', ' ', ' ', ' ', ' ', ' ', ' ', ' ', ' ', ' ', ' ', ' ', ' ', ' ', ' ', ' ', ' ', ' ', ' ', ' ', ' ', ' ', ' ', ' ', ' ', ' ', ' ', ' ', ' ', ' ', ' ', ' ', ' ', ' ', ' ', ' ', ' ', ' ']\n",
      "    finished: added\n",
      "    'Factor14genegroup2', score of gene set (adata.obs).\n",
      "    160 total control genes are used. (0:00:07)\n",
      "computing score 'Factor15genegroup1'\n",
      "WARNING: genes are not in var_names and ignored: ['AC160336-1', ' ', ' ', ' ', ' ', ' ', ' ', ' ', ' ', ' ', ' ', ' ', ' ', ' ', ' ', ' ', ' ', ' ', ' ', ' ', ' ', ' ', ' ', ' ', ' ', ' ', ' ', ' ', ' ', ' ', ' ', ' ', ' ', ' ', ' ', ' ', ' ', ' ', ' ', ' ', ' ', ' ', ' ', ' ', ' ', ' ', ' ', ' ', ' ', ' ', ' ', ' ', ' ', ' ', ' ', ' ', ' ', ' ', ' ', ' ', ' ', ' ', ' ', ' ', ' ', ' ', ' ', ' ', ' ', ' ', ' ', ' ', ' ', ' ', ' ', ' ', ' ', ' ', ' ', ' ', ' ', ' ', ' ', ' ', ' ', ' ', ' ', ' ', ' ', ' ', ' ']\n",
      "    finished: added\n",
      "    'Factor15genegroup1', score of gene set (adata.obs).\n",
      "    248 total control genes are used. (0:00:07)\n",
      "computing score 'Factor15genegroup2'\n",
      "WARNING: genes are not in var_names and ignored: [' ', ' ', ' ', ' ', ' ', ' ', ' ', ' ', ' ', ' ', ' ', ' ', ' ', ' ', ' ', ' ', ' ', ' ', ' ', ' ', ' ', ' ', ' ', ' ', ' ', ' ', ' ', ' ', ' ', ' ', ' ', ' ', ' ', ' ', ' ', ' ', ' ', ' ', ' ', ' ', ' ', ' ', ' ', ' ', ' ', ' ', ' ', ' ', ' ', ' ', ' ', ' ', ' ', ' ', ' ', ' ', ' ', ' ', ' ', ' ', ' ', ' ', ' ', ' ', ' ', ' ', ' ', ' ', ' ', ' ', ' ', ' ']\n",
      "    finished: added\n",
      "    'Factor15genegroup2', score of gene set (adata.obs).\n",
      "    197 total control genes are used. (0:00:07)\n"
     ]
    }
   ],
   "source": [
    "for i in [col for col in cGenes.columns if 'gene' in col]:\n",
    "     myGeneList = cGenes.loc[:,i]\n",
    "     myGeneList = [x.replace(\".\",\"-\") for x in myGeneList]\n",
    "     sc.tl.score_genes(adata=adataC, gene_list=myGeneList, score_name=i)\n",
    "     #sc.pl.umap(adataC, color=i, size=1, color_map=\"coolwarm\")\n",
    "     #sc.pl.violin(adataC, i, groupby='leiden')"
   ]
  },
  {
   "cell_type": "code",
   "execution_count": 8,
   "metadata": {},
   "outputs": [],
   "source": [
    "guideModules = pd.read_csv(\"/home/beraslan/jovian-work/analysisSingle/ME_GuideModules_leiden_6_Modules.csv\", index_col=0)\n",
    "guideModules.index = \"GENE_\"+guideModules.GuideName+\"_\"\n",
    "guideModules.GuideName = \"GENE_\"+guideModules.GuideName+\"_\""
   ]
  },
  {
   "cell_type": "code",
   "execution_count": 9,
   "metadata": {},
   "outputs": [],
   "source": [
    "covariates = guideModules.GuideName\n",
    "covariates = covariates[covariates != \"GENE_CONTROL_\"]"
   ]
  },
  {
   "cell_type": "code",
   "execution_count": 10,
   "metadata": {},
   "outputs": [],
   "source": [
    "guideMatrix = adataC.obs[covariates]\n",
    "guideMatrix.shape\n",
    "guideMatrix.rename(columns = {'GENE_Rnf8-cmtr1_':'GENE_Rnf8cmtr1_'}, inplace = True) \n",
    "guideMatrix.rename(columns = {'GENE_Siah1-ps1_':'GENE_Siah1ps1_'}, inplace = True) \n",
    "guideMatrix.rename(columns = {'GENE_Siah1-ps2_':'GENE_Siah1ps2_'}, inplace = True) \n",
    "\n",
    "KOGenes = pd.Series(guideMatrix.columns)"
   ]
  },
  {
   "cell_type": "code",
   "execution_count": 11,
   "metadata": {},
   "outputs": [
    {
     "data": {
      "text/plain": [
       "0        GENE_Aamp_\n",
       "1        GENE_Bop1_\n",
       "2      GENE_Cirh1a_\n",
       "3      GENE_Dcaf13_\n",
       "4        GENE_Grb2_\n",
       "           ...     \n",
       "324     GENE_Wdr20_\n",
       "325     GENE_Wdr26_\n",
       "326     GENE_Wdr33_\n",
       "327    GENE_Zbtb17_\n",
       "328    GENE_Zbtb7b_\n",
       "Length: 329, dtype: object"
      ]
     },
     "execution_count": 11,
     "metadata": {},
     "output_type": "execute_result"
    }
   ],
   "source": [
    "KOGenes"
   ]
  },
  {
   "cell_type": "code",
   "execution_count": 12,
   "metadata": {
    "tags": []
   },
   "outputs": [
    {
     "data": {
      "text/plain": [
       "(242938, 331)"
      ]
     },
     "execution_count": 12,
     "metadata": {},
     "output_type": "execute_result"
    }
   ],
   "source": [
    "## Add covariates that should be corrected for\n",
    "df = adataC.obs[[\"n_genes\", \"mt_frac\"]]\n",
    "\n",
    "guideMatrix = guideMatrix.join(df)\n",
    "guideMatrix.shape"
   ]
  },
  {
   "cell_type": "code",
   "execution_count": 13,
   "metadata": {},
   "outputs": [],
   "source": [
    "encoder = OneHotEncoder(handle_unknown='ignore')\n",
    "encoder_df = pd.DataFrame(encoder.fit_transform(adataC.obs[[\"leiden\" ]]).toarray())\n",
    "newLeidenCols = [\"Leiden\" + str(x) for x in encoder_df.columns]\n",
    "encoder_df.columns  = newLeidenCols\n",
    "encoder_df.index = guideMatrix.index\n",
    "guideMatrix = guideMatrix.join(encoder_df)"
   ]
  },
  {
   "cell_type": "code",
   "execution_count": 14,
   "metadata": {
    "tags": []
   },
   "outputs": [],
   "source": [
    "expressionMatrix = pd.DataFrame(adataC.obs[[col for col in cGenes.columns if 'gene' in col]])\n",
    "expressionMatrix.index = adataC.obs.index"
   ]
  },
  {
   "cell_type": "code",
   "execution_count": 15,
   "metadata": {
    "tags": []
   },
   "outputs": [
    {
     "data": {
      "text/plain": [
       "100    GENE_Tssc1_\n",
       "101     GENE_Ttc3_\n",
       "102    GENE_Ube2n_\n",
       "103     GENE_Ufl1_\n",
       "104     GENE_Unkl_\n",
       "105     GENE_Upf1_\n",
       "106      GENE_Vdr_\n",
       "107    GENE_Wdhd1_\n",
       "108    GENE_Wdr48_\n",
       "109    GENE_Wdr95_\n",
       "0          Leiden0\n",
       "1          Leiden1\n",
       "2          Leiden2\n",
       "3          Leiden3\n",
       "4          Leiden4\n",
       "5          Leiden5\n",
       "6          Leiden6\n",
       "7          Leiden7\n",
       "8          Leiden8\n",
       "9          Leiden9\n",
       "10         n_genes\n",
       "11         mt_frac\n",
       "dtype: object"
      ]
     },
     "execution_count": 15,
     "metadata": {},
     "output_type": "execute_result"
    }
   ],
   "source": [
    "selColumns = pd.Series(KOGenes[setIndex_1:setIndex_2]).append(pd.Series(newLeidenCols +[\"n_genes\", \"mt_frac\"]))\n",
    "selColumns"
   ]
  },
  {
   "cell_type": "code",
   "execution_count": 16,
   "metadata": {},
   "outputs": [],
   "source": [
    "controlExpressionMat = expressionMatrix.loc[adataC.obs[\"GENE_CONTROL_\"] == 1,]\n",
    "controlGuideMat = guideMatrix.loc[adataC.obs[\"GENE_CONTROL_\"] == 1,]\n",
    "controlExpressionMat = controlExpressionMat.iloc[0:5000,:]\n",
    "controlGuideMat = controlGuideMat.iloc[0:5000,:]\n",
    "controlGuideMat=controlGuideMat[selColumns]"
   ]
  },
  {
   "cell_type": "code",
   "execution_count": 17,
   "metadata": {},
   "outputs": [],
   "source": [
    "geneExpressionMat = expressionMatrix.loc[adataC.obs[covariates[setIndex_1:setIndex_2]].sum(axis=1) > 0,]\n",
    "geneGuideMat = guideMatrix.loc[adataC.obs[covariates[setIndex_1:setIndex_2]].sum(axis=1) > 0,]\n",
    "geneGuideMat=geneGuideMat[selColumns]"
   ]
  },
  {
   "cell_type": "code",
   "execution_count": 18,
   "metadata": {},
   "outputs": [],
   "source": [
    "allExpMat = np.concatenate((controlExpressionMat, geneExpressionMat))\n",
    "allGuideMat = controlGuideMat.append(geneGuideMat)"
   ]
  },
  {
   "cell_type": "code",
   "execution_count": 19,
   "metadata": {},
   "outputs": [],
   "source": [
    "allResp=[col for col in cGenes.columns if 'gene' in col]\n"
   ]
  },
  {
   "cell_type": "code",
   "execution_count": 20,
   "metadata": {},
   "outputs": [],
   "source": [
    "del adataC\n",
    "del expressionMatrix"
   ]
  },
  {
   "cell_type": "code",
   "execution_count": 21,
   "metadata": {
    "tags": []
   },
   "outputs": [
    {
     "name": "stdout",
     "output_type": "stream",
     "text": [
      "[1] 1\n",
      "[1] 2\n",
      "[1] 3\n",
      "[1] 4\n",
      "[1] 5\n",
      "[1] 6\n",
      "[1] 7\n",
      "[1] 8\n",
      "[1] 9\n",
      "[1] 10\n",
      "[1] 11\n",
      "[1] 12\n",
      "[1] 13\n",
      "[1] 14\n",
      "[1] 15\n",
      "[1] 16\n",
      "[1] 17\n",
      "[1] 18\n",
      "[1] 19\n",
      "[1] 20\n",
      "[1] 21\n",
      "[1] 22\n",
      "[1] 23\n",
      "[1] 24\n",
      "[1] 25\n",
      "[1] 26\n",
      "[1] 27\n",
      "[1] 28\n",
      "[1] 29\n",
      "[1] 30\n"
     ]
    }
   ],
   "source": [
    "%%R -i allGuideMat,allExpMat,KOGenes,newLeidenCols,allResp,setIndex_1,setIndex_2  -w 8 -h 4 -u in\n",
    "library(\"MASS\")\n",
    "library(\"broom\")\n",
    "\n",
    "setIndex_1 = (setIndex_1+1)\n",
    "\n",
    "coefDF = data.frame()\n",
    "\n",
    "for(i in seq(1,ncol(allExpMat),1)){\n",
    "      print(i)\n",
    "      for (elem in unlist(newLeidenCols)){\n",
    "          \n",
    "          myformula = paste(KOGenes[setIndex_1:setIndex_2], collapse=\"+\")\n",
    "          myformula = paste(myformula,\"+n_genes+mt_frac+\",elem,\"+\", collapse=\"\")\n",
    "\n",
    "          interactions = paste(unlist(sapply(KOGenes[setIndex_1:setIndex_2], function(x){return(paste0(x,paste0(\"*\",elem), collapse=\"\"))})), collapse=\"+\")\n",
    "          myformula = paste0(myformula, interactions)\n",
    "          myformula = paste0(\"y~\",myformula)\n",
    "          \n",
    "          tryCatch(\n",
    "                expr = {\n",
    "                       #print(myformula)\n",
    "                       allGuideMat[\"y\"] = allExpMat[,i]\n",
    "                       myFit <- glm(formula(myformula), data = allGuideMat, family = gaussian())\n",
    "                       myDF <- data.frame(tidy(myFit))\n",
    "                       myDF$respGene = unlist(allResp)[i]\n",
    "                       coefDF <- rbind(coefDF, myDF)\n",
    "                },\n",
    "                error = function(e){ \n",
    "                    print(e)\n",
    "                },\n",
    "                finally = {\n",
    "                    # (Optional)\n",
    "                    # Do this at the end before quitting the tryCatch structure...\n",
    "                }\n",
    "          ) \n",
    "          \n",
    "      }\n",
    "\n",
    "}\n",
    "\n",
    "\n",
    "saveRDS(coefDF, paste0(\"./ClusterInteractionsICAFactors/coefs_\",setIndex_1,\"_\",setIndex_2,\".rds\"))"
   ]
  },
  {
   "cell_type": "code",
   "execution_count": null,
   "metadata": {},
   "outputs": [],
   "source": []
  }
 ],
 "metadata": {
  "kernelspec": {
   "display_name": "Python 3 (ipykernel)",
   "language": "python",
   "name": "python3"
  },
  "language_info": {
   "codemirror_mode": {
    "name": "ipython",
    "version": 3
   },
   "file_extension": ".py",
   "mimetype": "text/x-python",
   "name": "python",
   "nbconvert_exporter": "python",
   "pygments_lexer": "ipython3",
   "version": "3.8.13"
  }
 },
 "nbformat": 4,
 "nbformat_minor": 4
}
