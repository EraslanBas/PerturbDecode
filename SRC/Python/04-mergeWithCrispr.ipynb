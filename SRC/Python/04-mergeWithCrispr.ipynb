{
 "cells": [
  {
   "cell_type": "markdown",
   "metadata": {},
   "source": [
    "## 04 Merge With Feature Barcode Libraries"
   ]
  },
  {
   "cell_type": "code",
   "execution_count": 1,
   "metadata": {
    "papermill": {
     "duration": 2.497662,
     "end_time": "2020-02-03T11:16:52.810525",
     "exception": false,
     "start_time": "2020-02-03T11:16:50.312863",
     "status": "completed"
    },
    "tags": []
   },
   "outputs": [],
   "source": [
    "from libraries import *\n",
    "from parameters import *\n"
   ]
  },
  {
   "cell_type": "code",
   "execution_count": 2,
   "metadata": {},
   "outputs": [],
   "source": [
    "os.getcwd()\n",
    "os.chdir(projectDir)"
   ]
  },
  {
   "cell_type": "code",
   "execution_count": 3,
   "metadata": {
    "collapsed": true,
    "jupyter": {
     "outputs_hidden": true
    },
    "tags": []
   },
   "outputs": [
    {
     "data": {
      "application/vnd.jupyter.widget-view+json": {
       "model_id": "77dc8400e3c24a769b4c6f01ef27ad0d",
       "version_major": 2,
       "version_minor": 0
      },
      "text/plain": [
       "  0%|          | 0/48 [00:00<?, ?it/s]"
      ]
     },
     "metadata": {},
     "output_type": "display_data"
    },
    {
     "name": "stdout",
     "output_type": "stream",
     "text": [
      "E3-1\n",
      "E3-10\n",
      "E3-11\n",
      "E3-12\n",
      "E3-13\n",
      "E3-14\n",
      "E3-15\n",
      "E3-16\n",
      "E3-17\n",
      "E3-18\n",
      "E3-19\n",
      "E3-2\n",
      "E3-20\n",
      "E3-21\n",
      "E3-22\n",
      "E3-23\n",
      "E3-24\n",
      "E3-3\n",
      "E3-4\n",
      "E3-5\n",
      "E3-6\n",
      "E3-7\n",
      "E3-8\n",
      "E3-9\n",
      "E4-1\n",
      "E4-10\n",
      "E4-11\n",
      "E4-12\n",
      "E4-13\n",
      "E4-14\n",
      "E4-15\n",
      "E4-16\n",
      "E4-17\n",
      "E4-19\n",
      "E4-2\n",
      "E4-20\n",
      "E4-21\n",
      "E4-22\n",
      "E4-24\n",
      "E4-3\n",
      "E4-4\n",
      "E4-5\n",
      "E4-6\n",
      "E4-7\n",
      "E4-8\n",
      "E4-9\n"
     ]
    }
   ],
   "source": [
    "feats = {}\n",
    "\n",
    "for d in tqdm(sorted([x for x in Path('data').iterdir() if x.is_dir() and x.name.startswith('E')])):\n",
    "    sample = d.name.replace('_', '-')\n",
    "    roundlow = sample.split('-')[0].lower()\n",
    "    chrom = sample.split('-')[1].lower()\n",
    "    \n",
    "        \n",
    "    feat_path = Path(f'data/{sample.replace(\"-\", \"_\")}/R{roundlow[1:]}_Ch{chrom}_FeatBarc/R{roundlow[1:]}_Ch{chrom}_FeatBarc.csv')\n",
    "    if feat_path.is_file():\n",
    "        print(sample)\n",
    "        feats[sample] = pd.read_csv(feat_path)"
   ]
  },
  {
   "cell_type": "code",
   "execution_count": 4,
   "metadata": {},
   "outputs": [
    {
     "data": {
      "application/vnd.jupyter.widget-view+json": {
       "model_id": "2275fa63e9604a9ca0c7b2f669841525",
       "version_major": 2,
       "version_minor": 0
      },
      "text/plain": [
       "  0%|          | 0/46 [00:00<?, ?it/s]"
      ]
     },
     "metadata": {},
     "output_type": "display_data"
    }
   ],
   "source": [
    "feats_new_barcode = []\n",
    "\n",
    "for sample, df in tqdm(list(feats.items())):\n",
    "    df = df.set_index('CRISPR').T\n",
    "    df['mixhash'] = sample\n",
    "    df.index = df.index + '-1-' + df.mixhash\n",
    "    \n",
    "    feats_new_barcode.append(df)"
   ]
  },
  {
   "cell_type": "code",
   "execution_count": 5,
   "metadata": {},
   "outputs": [],
   "source": [
    "feats_new_barcode = pd.concat(feats_new_barcode, axis=0)\n",
    "del feats_new_barcode['mixhash']\n"
   ]
  },
  {
   "cell_type": "code",
   "execution_count": 6,
   "metadata": {},
   "outputs": [
    {
     "data": {
      "text/plain": [
       "(1166357, 3720)"
      ]
     },
     "execution_count": 6,
     "metadata": {},
     "output_type": "execute_result"
    }
   ],
   "source": [
    "feats_new_barcode.shape"
   ]
  },
  {
   "cell_type": "code",
   "execution_count": 7,
   "metadata": {},
   "outputs": [],
   "source": [
    "feats_new_barcode.to_pickle('outputs/anndata/feats_new_barcode.pkl')"
   ]
  },
  {
   "cell_type": "markdown",
   "metadata": {},
   "source": [
    "Replace all 1s with 0s, then compute the total number of crispr reads per cell."
   ]
  },
  {
   "cell_type": "code",
   "execution_count": 8,
   "metadata": {},
   "outputs": [
    {
     "data": {
      "text/plain": [
       "(757147, 3720)"
      ]
     },
     "execution_count": 8,
     "metadata": {},
     "output_type": "execute_result"
    }
   ],
   "source": [
    "#feats_new_barcode = pd.read_pickle('outputs/anndata/feats_new_barcode.pkl')\n",
    "feats_new_barcode = feats_new_barcode.replace(1, 0)\n",
    "rowSums = feats_new_barcode.sum(axis=1)\n",
    "feats_new_barcode = feats_new_barcode[rowSums > 1]\n",
    "feats_new_barcode.shape"
   ]
  },
  {
   "cell_type": "markdown",
   "metadata": {},
   "source": [
    "Filter out chimeric reads with a threshold of 0.2"
   ]
  },
  {
   "cell_type": "code",
   "execution_count": 9,
   "metadata": {},
   "outputs": [
    {
     "data": {
      "text/plain": [
       "(754450, 3720)"
      ]
     },
     "execution_count": 9,
     "metadata": {},
     "output_type": "execute_result"
    }
   ],
   "source": [
    "feats_new_barcodePerc = feats_new_barcode.copy()\n",
    "feats_new_barcodePerc = feats_new_barcodePerc.div(rowSums, axis=0)\n",
    "#feats_new_barcodePerc.sum(axis=1)\n",
    "m = (feats_new_barcodePerc < 0.2)\n",
    "feats_new_barcode[m] = 0\n",
    "feats_new_barcode = feats_new_barcode[feats_new_barcode.sum(axis=1) > 0]\n",
    "feats_new_barcode.shape"
   ]
  },
  {
   "cell_type": "code",
   "execution_count": 10,
   "metadata": {},
   "outputs": [
    {
     "name": "stderr",
     "output_type": "stream",
     "text": [
      "/home/beraslan/anaconda3/lib/python3.7/site-packages/pandas/core/arrays/categorical.py:2487: FutureWarning: The `inplace` parameter in pandas.Categorical.remove_unused_categories is deprecated and will be removed in a future version.\n",
      "  res = method(*args, **kwargs)\n"
     ]
    }
   ],
   "source": [
    "adata = sc.read('outputs/anndata/adataSinglets.h5ad')\n",
    "mDF = adata.obs.join(feats_new_barcode,how=\"inner\")\n",
    "adata = adata[mDF.index,:]\n",
    "adata.obs = adata.obs.join(feats_new_barcode,how=\"inner\")\n",
    "adata.uns['feature_barcode_names'] = feats_new_barcode.columns.tolist()"
   ]
  },
  {
   "cell_type": "code",
   "execution_count": 11,
   "metadata": {},
   "outputs": [
    {
     "data": {
      "text/plain": [
       "(519535, 3735)"
      ]
     },
     "execution_count": 11,
     "metadata": {},
     "output_type": "execute_result"
    }
   ],
   "source": [
    "adata.obs.shape"
   ]
  },
  {
   "cell_type": "code",
   "execution_count": 12,
   "metadata": {},
   "outputs": [],
   "source": [
    "adata.write('outputs/anndata/adata-hash-features_singlets_05232020.h5ad')"
   ]
  },
  {
   "cell_type": "code",
   "execution_count": null,
   "metadata": {},
   "outputs": [],
   "source": []
  }
 ],
 "metadata": {
  "kernelspec": {
   "display_name": "Python 3 (ipykernel)",
   "language": "python",
   "name": "python3"
  },
  "language_info": {
   "codemirror_mode": {
    "name": "ipython",
    "version": 3
   },
   "file_extension": ".py",
   "mimetype": "text/x-python",
   "name": "python",
   "nbconvert_exporter": "python",
   "pygments_lexer": "ipython3",
   "version": "3.8.13"
  }
 },
 "nbformat": 4,
 "nbformat_minor": 4
}
