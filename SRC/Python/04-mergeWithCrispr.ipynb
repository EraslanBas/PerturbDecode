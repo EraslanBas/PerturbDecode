{
 "cells": [
  {
   "cell_type": "markdown",
   "metadata": {},
   "source": [
    "## 04 - Merge With Feature Barcode Info"
   ]
  },
  {
   "cell_type": "code",
   "execution_count": null,
   "metadata": {
    "papermill": {
     "duration": 2.497662,
     "end_time": "2020-02-03T11:16:52.810525",
     "exception": false,
     "start_time": "2020-02-03T11:16:50.312863",
     "status": "completed"
    },
    "tags": []
   },
   "outputs": [],
   "source": [
    "from libraries import *\n",
    "from parameters import *\n"
   ]
  },
  {
   "cell_type": "code",
   "execution_count": null,
   "metadata": {},
   "outputs": [],
   "source": [
    "os.getcwd()\n",
    "os.chdir(projectDir)"
   ]
  },
  {
   "cell_type": "markdown",
   "metadata": {},
   "source": [
    "Please change the file name conventions according to your needs and update the code below accordingly."
   ]
  },
  {
   "cell_type": "code",
   "execution_count": null,
   "metadata": {
    "tags": []
   },
   "outputs": [],
   "source": [
    "feats = {}\n",
    "\n",
    "for d in tqdm(sorted([x for x in Path('data').iterdir() if x.is_dir() and x.name.startswith('E')])):\n",
    "    sample = d.name.replace('_', '-')\n",
    "    roundlow = sample.split('-')[0].lower()\n",
    "    chrom = sample.split('-')[1].lower()\n",
    "    \n",
    "        \n",
    "    feat_path = Path(f'data/{sample.replace(\"-\", \"_\")}/R{roundlow[1:]}_Ch{chrom}_FeatBarc/R{roundlow[1:]}_Ch{chrom}_FeatBarc.csv')\n",
    "    if feat_path.is_file():\n",
    "        print(sample)\n",
    "        feats[sample] = pd.read_csv(feat_path)"
   ]
  },
  {
   "cell_type": "code",
   "execution_count": null,
   "metadata": {},
   "outputs": [],
   "source": [
    "feats_new_barcode = []\n",
    "\n",
    "for sample, df in tqdm(list(feats.items())):\n",
    "    df = df.set_index('CRISPR').T\n",
    "    df['mixhash'] = sample\n",
    "    df.index = df.index + '-1-' + df.mixhash\n",
    "    \n",
    "    feats_new_barcode.append(df)"
   ]
  },
  {
   "cell_type": "code",
   "execution_count": null,
   "metadata": {},
   "outputs": [],
   "source": [
    "feats_new_barcode = pd.concat(feats_new_barcode, axis=0)\n",
    "del feats_new_barcode['mixhash']\n"
   ]
  },
  {
   "cell_type": "code",
   "execution_count": null,
   "metadata": {},
   "outputs": [],
   "source": [
    "feats_new_barcode.shape"
   ]
  },
  {
   "cell_type": "markdown",
   "metadata": {},
   "source": [
    "Replace all 1s with 0s, then compute the total number of crispr reads per cell."
   ]
  },
  {
   "cell_type": "code",
   "execution_count": null,
   "metadata": {},
   "outputs": [],
   "source": [
    "feats_new_barcode = feats_new_barcode.replace(1, 0)\n",
    "rowSums = feats_new_barcode.sum(axis=1)\n",
    "feats_new_barcode = feats_new_barcode[rowSums > 1]\n",
    "feats_new_barcode.shape"
   ]
  },
  {
   "cell_type": "markdown",
   "metadata": {},
   "source": [
    "Filter out chimeric reads with a predefined threshold (default 0.2)"
   ]
  },
  {
   "cell_type": "code",
   "execution_count": null,
   "metadata": {},
   "outputs": [],
   "source": [
    "feats_new_barcodePerc = feats_new_barcode.copy()\n",
    "feats_new_barcodePerc = feats_new_barcodePerc.div(rowSums, axis=0)\n",
    "m = (feats_new_barcodePerc < par_cutoff_crispr_chimeric_reads)\n",
    "feats_new_barcode[m] = 0\n",
    "feats_new_barcode = feats_new_barcode[feats_new_barcode.sum(axis=1) > 0]\n",
    "feats_new_barcode.shape"
   ]
  },
  {
   "cell_type": "code",
   "execution_count": null,
   "metadata": {},
   "outputs": [],
   "source": [
    "adata = sc.read(par_save_filename_2)\n",
    "mDF = adata.obs.join(feats_new_barcode,how=\"inner\")\n",
    "adata = adata[mDF.index,:]\n",
    "adata.obs = adata.obs.join(feats_new_barcode,how=\"inner\")\n",
    "adata.uns['feature_barcode_names'] = feats_new_barcode.columns.tolist()"
   ]
  },
  {
   "cell_type": "code",
   "execution_count": null,
   "metadata": {},
   "outputs": [],
   "source": [
    "adata.write(par_save_filename_3)"
   ]
  }
 ],
 "metadata": {
  "kernelspec": {
   "display_name": "Python 3 (ipykernel)",
   "language": "python",
   "name": "python3"
  },
  "language_info": {
   "codemirror_mode": {
    "name": "ipython",
    "version": 3
   },
   "file_extension": ".py",
   "mimetype": "text/x-python",
   "name": "python",
   "nbconvert_exporter": "python",
   "pygments_lexer": "ipython3",
   "version": "3.8.13"
  }
 },
 "nbformat": 4,
 "nbformat_minor": 4
}
