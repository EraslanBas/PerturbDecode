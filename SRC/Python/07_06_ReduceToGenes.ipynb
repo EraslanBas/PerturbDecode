{
 "cells": [
  {
   "cell_type": "code",
   "execution_count": 1,
   "metadata": {
    "papermill": {
     "duration": 2.497662,
     "end_time": "2020-02-03T11:16:52.810525",
     "exception": false,
     "start_time": "2020-02-03T11:16:50.312863",
     "status": "completed"
    },
    "tags": []
   },
   "outputs": [],
   "source": [
    "from libraries import *\n",
    "from parameters import *\n",
    "from sklearn.cross_decomposition import PLSCanonical"
   ]
  },
  {
   "cell_type": "code",
   "execution_count": 2,
   "metadata": {},
   "outputs": [],
   "source": [
    "os.getcwd()\n",
    "os.chdir(projectDir)"
   ]
  },
  {
   "cell_type": "code",
   "execution_count": 3,
   "metadata": {},
   "outputs": [],
   "source": [
    "adata = sc.read('outputs/anndata/adata-hash-features_singlets_SingleKO_05242020_Filtered.h5ad')"
   ]
  },
  {
   "cell_type": "code",
   "execution_count": 4,
   "metadata": {},
   "outputs": [
    {
     "name": "stderr",
     "output_type": "stream",
     "text": [
      "/tmp/ipykernel_8279/3917359458.py:2: SettingWithCopyWarning: \n",
      "A value is trying to be set on a copy of a slice from a DataFrame.\n",
      "Try using .loc[row_indexer,col_indexer] = value instead\n",
      "\n",
      "See the caveats in the documentation: https://pandas.pydata.org/pandas-docs/stable/user_guide/indexing.html#returning-a-view-versus-a-copy\n",
      "  fBarMat[fBarMat > 0] = 1\n",
      "/tmp/ipykernel_8279/3917359458.py:2: SettingWithCopyWarning: \n",
      "A value is trying to be set on a copy of a slice from a DataFrame\n",
      "\n",
      "See the caveats in the documentation: https://pandas.pydata.org/pandas-docs/stable/user_guide/indexing.html#returning-a-view-versus-a-copy\n",
      "  fBarMat[fBarMat > 0] = 1\n"
     ]
    }
   ],
   "source": [
    "fBarMat = adata.obs[adata.uns['feature_barcode_names']]\n",
    "fBarMat[fBarMat > 0] = 1"
   ]
  },
  {
   "cell_type": "code",
   "execution_count": 5,
   "metadata": {},
   "outputs": [
    {
     "data": {
      "text/html": [
       "<div>\n",
       "<style scoped>\n",
       "    .dataframe tbody tr th:only-of-type {\n",
       "        vertical-align: middle;\n",
       "    }\n",
       "\n",
       "    .dataframe tbody tr th {\n",
       "        vertical-align: top;\n",
       "    }\n",
       "\n",
       "    .dataframe thead th {\n",
       "        text-align: right;\n",
       "    }\n",
       "</style>\n",
       "<table border=\"1\" class=\"dataframe\">\n",
       "  <thead>\n",
       "    <tr style=\"text-align: right;\">\n",
       "      <th></th>\n",
       "      <th>guides</th>\n",
       "      <th>targetGene</th>\n",
       "    </tr>\n",
       "  </thead>\n",
       "  <tbody>\n",
       "    <tr>\n",
       "      <th>0</th>\n",
       "      <td>Paf1_2</td>\n",
       "      <td>Paf1</td>\n",
       "    </tr>\n",
       "    <tr>\n",
       "      <th>1</th>\n",
       "      <td>Rfpl4_2</td>\n",
       "      <td>Rfpl4</td>\n",
       "    </tr>\n",
       "    <tr>\n",
       "      <th>2</th>\n",
       "      <td>Pja2_3</td>\n",
       "      <td>Pja2</td>\n",
       "    </tr>\n",
       "    <tr>\n",
       "      <th>3</th>\n",
       "      <td>Ubr2_2</td>\n",
       "      <td>Ubr2</td>\n",
       "    </tr>\n",
       "    <tr>\n",
       "      <th>4</th>\n",
       "      <td>Peli1_3</td>\n",
       "      <td>Peli1</td>\n",
       "    </tr>\n",
       "    <tr>\n",
       "      <th>...</th>\n",
       "      <td>...</td>\n",
       "      <td>...</td>\n",
       "    </tr>\n",
       "    <tr>\n",
       "      <th>213</th>\n",
       "      <td>ONE_NONGENE_SITE_298</td>\n",
       "      <td>ONE</td>\n",
       "    </tr>\n",
       "    <tr>\n",
       "      <th>214</th>\n",
       "      <td>ONE_NONGENE_SITE_300</td>\n",
       "      <td>ONE</td>\n",
       "    </tr>\n",
       "    <tr>\n",
       "      <th>215</th>\n",
       "      <td>ONE_NONGENE_SITE_302</td>\n",
       "      <td>ONE</td>\n",
       "    </tr>\n",
       "    <tr>\n",
       "      <th>216</th>\n",
       "      <td>ONE_NONGENE_SITE_320</td>\n",
       "      <td>ONE</td>\n",
       "    </tr>\n",
       "    <tr>\n",
       "      <th>217</th>\n",
       "      <td>ONE_NONGENE_SITE_324</td>\n",
       "      <td>ONE</td>\n",
       "    </tr>\n",
       "  </tbody>\n",
       "</table>\n",
       "<p>218 rows × 2 columns</p>\n",
       "</div>"
      ],
      "text/plain": [
       "                   guides targetGene\n",
       "0                  Paf1_2       Paf1\n",
       "1                 Rfpl4_2      Rfpl4\n",
       "2                  Pja2_3       Pja2\n",
       "3                  Ubr2_2       Ubr2\n",
       "4                 Peli1_3      Peli1\n",
       "..                    ...        ...\n",
       "213  ONE_NONGENE_SITE_298        ONE\n",
       "214  ONE_NONGENE_SITE_300        ONE\n",
       "215  ONE_NONGENE_SITE_302        ONE\n",
       "216  ONE_NONGENE_SITE_320        ONE\n",
       "217  ONE_NONGENE_SITE_324        ONE\n",
       "\n",
       "[218 rows x 2 columns]"
      ]
     },
     "execution_count": 5,
     "metadata": {},
     "output_type": "execute_result"
    }
   ],
   "source": [
    "badFBarMat = fBarMat.loc[:,fBarMat.sum(axis=0) < 20]\n",
    "badGuides = badFBarMat.columns.to_list()\n",
    "badGDF = pd.DataFrame(data={'guides':badGuides})\n",
    "badGDF['targetGene'] = badGDF['guides'].str.split(\"_\", n=1, expand=True)[0]\n",
    "#badGDF = badGDF[-badGDF['targetGene'].isin(['NO', 'ONE'])]\n",
    "badGDF"
   ]
  },
  {
   "cell_type": "code",
   "execution_count": 6,
   "metadata": {},
   "outputs": [],
   "source": [
    "# badControlGuides = pd.read_csv('BadControlGuides.csv')\n",
    "# badControlGuides['targetGene'] = badControlGuides['OutlierGuides'].str.split(\"_\", n=1, expand=True)[0]\n",
    "# badControlGuides = badControlGuides.rename(columns={\"OutlierGuides\": \"guides\"})\n",
    "# badGDF = pd.concat([badGDF, badControlGuides])\n",
    "# #badGDF = badGDF.sort_values('guides')\n",
    "\n",
    "# badControlGuides = pd.read_csv('BadControlGuides.csv')\n",
    "# badControlGuides.OutlierGuides.isin(badGDF.guides)"
   ]
  },
  {
   "cell_type": "code",
   "execution_count": 7,
   "metadata": {},
   "outputs": [],
   "source": [
    "### This part is run on the second iteration when bad KO guides are selected\n",
    "badKOGuides = pd.read_csv('R/GuideSelect_BadKOGuides.csv')\n",
    "badKOGuides['targetGene'] = badKOGuides['x'].str.split(\"_\", n=1, expand=True)[0]\n",
    "badKOGuides = badKOGuides.rename(columns={\"x\": \"guides\"})\n",
    "badGDF = pd.concat([badGDF, badKOGuides])"
   ]
  },
  {
   "cell_type": "code",
   "execution_count": 8,
   "metadata": {},
   "outputs": [],
   "source": [
    "selectedBarcodes = adata.uns['feature_barcode_names']\n",
    "selectedBarcodes = selectedBarcodes[~pd.Series(selectedBarcodes).isin(badGDF.guides.to_list())]\n",
    "adata.uns['feature_barcode_names_filtered'] = selectedBarcodes\n"
   ]
  },
  {
   "cell_type": "code",
   "execution_count": 9,
   "metadata": {},
   "outputs": [
    {
     "data": {
      "text/plain": [
       "2561"
      ]
     },
     "execution_count": 9,
     "metadata": {},
     "output_type": "execute_result"
    }
   ],
   "source": [
    "len(adata.uns['feature_barcode_names_filtered'])"
   ]
  },
  {
   "cell_type": "code",
   "execution_count": 14,
   "metadata": {
    "tags": []
   },
   "outputs": [],
   "source": [
    "pd.DataFrame(list(adata.uns['feature_barcode_names_filtered'])).to_csv(\"Filtered_In_Guides.csv\")"
   ]
  },
  {
   "cell_type": "code",
   "execution_count": 128,
   "metadata": {},
   "outputs": [
    {
     "name": "stderr",
     "output_type": "stream",
     "text": [
      "/tmp/ipykernel_4681/3006280764.py:2: SettingWithCopyWarning: \n",
      "A value is trying to be set on a copy of a slice from a DataFrame.\n",
      "Try using .loc[row_indexer,col_indexer] = value instead\n",
      "\n",
      "See the caveats in the documentation: https://pandas.pydata.org/pandas-docs/stable/user_guide/indexing.html#returning-a-view-versus-a-copy\n",
      "  fBarMat[fBarMat>0] = 1\n",
      "/tmp/ipykernel_4681/3006280764.py:2: SettingWithCopyWarning: \n",
      "A value is trying to be set on a copy of a slice from a DataFrame\n",
      "\n",
      "See the caveats in the documentation: https://pandas.pydata.org/pandas-docs/stable/user_guide/indexing.html#returning-a-view-versus-a-copy\n",
      "  fBarMat[fBarMat>0] = 1\n"
     ]
    }
   ],
   "source": [
    "fBarMat = adata.obs[adata.uns['feature_barcode_names_filtered']]\n",
    "fBarMat[fBarMat>0] = 1\n"
   ]
  },
  {
   "cell_type": "code",
   "execution_count": 129,
   "metadata": {},
   "outputs": [
    {
     "data": {
      "text/plain": [
       "20"
      ]
     },
     "execution_count": 129,
     "metadata": {},
     "output_type": "execute_result"
    }
   ],
   "source": [
    "min(fBarMat.sum(axis=0))"
   ]
  },
  {
   "cell_type": "code",
   "execution_count": 130,
   "metadata": {},
   "outputs": [
    {
     "data": {
      "text/plain": [
       "Index(['ONE_NONGENE_SITE_166', 'ONE_NONGENE_SITE_167', 'ONE_NONGENE_SITE_168',\n",
       "       'ONE_NONGENE_SITE_169', 'ONE_NONGENE_SITE_170', 'ONE_NONGENE_SITE_172',\n",
       "       'ONE_NONGENE_SITE_173', 'ONE_NONGENE_SITE_175', 'ONE_NONGENE_SITE_179',\n",
       "       'ONE_NONGENE_SITE_180',\n",
       "       ...\n",
       "       'ONE_NONGENE_SITE_319', 'ONE_NONGENE_SITE_321', 'ONE_NONGENE_SITE_322',\n",
       "       'ONE_NONGENE_SITE_323', 'ONE_NONGENE_SITE_325', 'ONE_NONGENE_SITE_326',\n",
       "       'ONE_NONGENE_SITE_327', 'ONE_NONGENE_SITE_328', 'ONE_NONGENE_SITE_329',\n",
       "       'ONE_NONGENE_SITE_330'],\n",
       "      dtype='object', length=142)"
      ]
     },
     "execution_count": 130,
     "metadata": {},
     "output_type": "execute_result"
    }
   ],
   "source": [
    "fBarMat.columns[[x.startswith(\"ONE_NONGENE_SITE\") for x in fBarMat.columns]]"
   ]
  },
  {
   "cell_type": "code",
   "execution_count": 131,
   "metadata": {},
   "outputs": [
    {
     "data": {
      "text/plain": [
       "Index(['NO_TARGET_1', 'NO_TARGET_2', 'NO_TARGET_3', 'NO_TARGET_4',\n",
       "       'NO_TARGET_5', 'NO_TARGET_6', 'NO_TARGET_7', 'NO_TARGET_8',\n",
       "       'NO_TARGET_9', 'NO_TARGET_10',\n",
       "       ...\n",
       "       'NO_TARGET_155', 'NO_TARGET_156', 'NO_TARGET_157', 'NO_TARGET_159',\n",
       "       'NO_TARGET_160', 'NO_TARGET_161', 'NO_TARGET_162', 'NO_TARGET_163',\n",
       "       'NO_TARGET_164', 'NO_TARGET_165'],\n",
       "      dtype='object', length=156)"
      ]
     },
     "execution_count": 131,
     "metadata": {},
     "output_type": "execute_result"
    }
   ],
   "source": [
    "fBarMat.columns[[x.startswith(\"NO_TARGET\") for x in fBarMat.columns]]"
   ]
  },
  {
   "cell_type": "code",
   "execution_count": 132,
   "metadata": {},
   "outputs": [
    {
     "data": {
      "text/plain": [
       "Index(['Arih1_1', 'Arih1_2', 'Arih1_3', 'Rnf212_2', 'Rnf212_3', 'Cbl_1',\n",
       "       'Cbl_3', 'Ube3a_1', 'Ube3a_3', 'Pex2_1',\n",
       "       ...\n",
       "       'Gm18806_2', 'Gm13416_1', 'Gm13416_2', 'Gm13416_3', 'Gm19037_1',\n",
       "       'Gm19037_2', 'Socs2_2', 'Socs2_3', 'Gm9847_2', 'Gm9847_3'],\n",
       "      dtype='object', length=2263)"
      ]
     },
     "execution_count": 132,
     "metadata": {},
     "output_type": "execute_result"
    }
   ],
   "source": [
    "fBarMat.columns[[not (x.startswith(\"ONE_NONGENE_SITE\") or x.startswith(\"NO_TARGET\")) for x in fBarMat.columns]]"
   ]
  },
  {
   "cell_type": "code",
   "execution_count": 134,
   "metadata": {},
   "outputs": [],
   "source": [
    "adata = adata[fBarMat.sum(axis=1) > 0,:]"
   ]
  },
  {
   "cell_type": "code",
   "execution_count": 135,
   "metadata": {},
   "outputs": [
    {
     "data": {
      "text/plain": [
       "(246050, 6685)"
      ]
     },
     "execution_count": 135,
     "metadata": {},
     "output_type": "execute_result"
    }
   ],
   "source": [
    "adata.shape"
   ]
  },
  {
   "cell_type": "code",
   "execution_count": 136,
   "metadata": {},
   "outputs": [
    {
     "name": "stderr",
     "output_type": "stream",
     "text": [
      "Trying to set attribute `.obs` of view, copying.\n"
     ]
    }
   ],
   "source": [
    "adata.obs['Cell_category'] = adata.obs[adata.uns['feature_barcode_names_filtered']].idxmax(axis=1)\n",
    "adata.obs['Cell_category'] = adata.obs['Cell_category'].replace(to_replace=[r'ONE_NONGENE_SITE_.*',r'NO_TARGET_.*'],value='CONTROL_', regex=True)\n"
   ]
  },
  {
   "cell_type": "code",
   "execution_count": 137,
   "metadata": {},
   "outputs": [],
   "source": [
    "adata.obs['Cell_category'] = [('_'.join(x.split('_')[:-1])+\"_\" ) for x in adata.obs['Cell_category']] "
   ]
  },
  {
   "cell_type": "code",
   "execution_count": 138,
   "metadata": {},
   "outputs": [],
   "source": [
    "feature_barcode_names_filtered_GENES = [ x for x in adata.uns['feature_barcode_names_filtered'] if not (x.startswith(\"ONE_NONGENE_SITE\") or x.startswith(\"NO_TARGET\"))]\n",
    "fBarMat = adata.obs[feature_barcode_names_filtered_GENES]"
   ]
  },
  {
   "cell_type": "code",
   "execution_count": 139,
   "metadata": {},
   "outputs": [],
   "source": [
    "koGenes = list(set([ ('_'.join(x.split('_')[:-1])+\"_\" ) for x in fBarMat.columns]))\n",
    "koGenes.sort()\n",
    "grouper = [next(p for p in koGenes if p in c) for c in fBarMat.columns]\n",
    "koGene = fBarMat.groupby(grouper, axis=1).sum()\n",
    "koGene[koGene > 0] = 1"
   ]
  },
  {
   "cell_type": "code",
   "execution_count": 140,
   "metadata": {},
   "outputs": [],
   "source": [
    "koGene.columns = \"GENE_\"+koGene.columns"
   ]
  },
  {
   "cell_type": "code",
   "execution_count": 144,
   "metadata": {},
   "outputs": [
    {
     "data": {
      "text/html": [
       "<div>\n",
       "<style scoped>\n",
       "    .dataframe tbody tr th:only-of-type {\n",
       "        vertical-align: middle;\n",
       "    }\n",
       "\n",
       "    .dataframe tbody tr th {\n",
       "        vertical-align: top;\n",
       "    }\n",
       "\n",
       "    .dataframe thead th {\n",
       "        text-align: right;\n",
       "    }\n",
       "</style>\n",
       "<table border=\"1\" class=\"dataframe\">\n",
       "  <thead>\n",
       "    <tr style=\"text-align: right;\">\n",
       "      <th></th>\n",
       "      <th>GENE_4921501E09Rik_</th>\n",
       "      <th>GENE_4930595M18Rik_</th>\n",
       "      <th>GENE_8030462N17Rik_</th>\n",
       "      <th>GENE_Aamp_</th>\n",
       "      <th>GENE_Abtb1_</th>\n",
       "      <th>GENE_Abtb2_</th>\n",
       "      <th>GENE_Acaca_</th>\n",
       "      <th>GENE_Ago2_</th>\n",
       "      <th>GENE_Ahctf1_</th>\n",
       "      <th>GENE_Ahr_</th>\n",
       "      <th>...</th>\n",
       "      <th>GENE_Zfp512b_</th>\n",
       "      <th>GENE_Zfp598_</th>\n",
       "      <th>GENE_Zfp651_</th>\n",
       "      <th>GENE_Zfp91_</th>\n",
       "      <th>GENE_Zmiz1_</th>\n",
       "      <th>GENE_Zmiz2_</th>\n",
       "      <th>GENE_Znrf2_</th>\n",
       "      <th>GENE_Znrf3_</th>\n",
       "      <th>GENE_Znrf4_</th>\n",
       "      <th>GENE_Zpbp2_</th>\n",
       "    </tr>\n",
       "  </thead>\n",
       "  <tbody>\n",
       "    <tr>\n",
       "      <th>AAACCCAGTGACACGA-1-E3-1</th>\n",
       "      <td>0</td>\n",
       "      <td>0</td>\n",
       "      <td>0</td>\n",
       "      <td>0</td>\n",
       "      <td>0</td>\n",
       "      <td>0</td>\n",
       "      <td>0</td>\n",
       "      <td>0</td>\n",
       "      <td>0</td>\n",
       "      <td>0</td>\n",
       "      <td>...</td>\n",
       "      <td>0</td>\n",
       "      <td>0</td>\n",
       "      <td>0</td>\n",
       "      <td>0</td>\n",
       "      <td>0</td>\n",
       "      <td>0</td>\n",
       "      <td>0</td>\n",
       "      <td>0</td>\n",
       "      <td>0</td>\n",
       "      <td>0</td>\n",
       "    </tr>\n",
       "    <tr>\n",
       "      <th>AAACGAAAGCAGTCTT-1-E3-1</th>\n",
       "      <td>0</td>\n",
       "      <td>0</td>\n",
       "      <td>0</td>\n",
       "      <td>0</td>\n",
       "      <td>0</td>\n",
       "      <td>0</td>\n",
       "      <td>0</td>\n",
       "      <td>0</td>\n",
       "      <td>0</td>\n",
       "      <td>0</td>\n",
       "      <td>...</td>\n",
       "      <td>0</td>\n",
       "      <td>0</td>\n",
       "      <td>0</td>\n",
       "      <td>0</td>\n",
       "      <td>0</td>\n",
       "      <td>0</td>\n",
       "      <td>0</td>\n",
       "      <td>0</td>\n",
       "      <td>0</td>\n",
       "      <td>0</td>\n",
       "    </tr>\n",
       "    <tr>\n",
       "      <th>AAACGAAAGCATTTGC-1-E3-1</th>\n",
       "      <td>0</td>\n",
       "      <td>0</td>\n",
       "      <td>0</td>\n",
       "      <td>0</td>\n",
       "      <td>0</td>\n",
       "      <td>0</td>\n",
       "      <td>0</td>\n",
       "      <td>0</td>\n",
       "      <td>0</td>\n",
       "      <td>0</td>\n",
       "      <td>...</td>\n",
       "      <td>0</td>\n",
       "      <td>0</td>\n",
       "      <td>0</td>\n",
       "      <td>0</td>\n",
       "      <td>0</td>\n",
       "      <td>0</td>\n",
       "      <td>0</td>\n",
       "      <td>0</td>\n",
       "      <td>0</td>\n",
       "      <td>0</td>\n",
       "    </tr>\n",
       "    <tr>\n",
       "      <th>AAACGAATCTCAACCC-1-E3-1</th>\n",
       "      <td>0</td>\n",
       "      <td>0</td>\n",
       "      <td>0</td>\n",
       "      <td>0</td>\n",
       "      <td>0</td>\n",
       "      <td>0</td>\n",
       "      <td>0</td>\n",
       "      <td>0</td>\n",
       "      <td>0</td>\n",
       "      <td>0</td>\n",
       "      <td>...</td>\n",
       "      <td>0</td>\n",
       "      <td>0</td>\n",
       "      <td>0</td>\n",
       "      <td>0</td>\n",
       "      <td>0</td>\n",
       "      <td>0</td>\n",
       "      <td>0</td>\n",
       "      <td>0</td>\n",
       "      <td>0</td>\n",
       "      <td>0</td>\n",
       "    </tr>\n",
       "    <tr>\n",
       "      <th>AAACGAATCTGGTGCG-1-E3-1</th>\n",
       "      <td>0</td>\n",
       "      <td>0</td>\n",
       "      <td>0</td>\n",
       "      <td>0</td>\n",
       "      <td>0</td>\n",
       "      <td>0</td>\n",
       "      <td>0</td>\n",
       "      <td>0</td>\n",
       "      <td>0</td>\n",
       "      <td>0</td>\n",
       "      <td>...</td>\n",
       "      <td>0</td>\n",
       "      <td>0</td>\n",
       "      <td>0</td>\n",
       "      <td>0</td>\n",
       "      <td>0</td>\n",
       "      <td>0</td>\n",
       "      <td>0</td>\n",
       "      <td>0</td>\n",
       "      <td>0</td>\n",
       "      <td>0</td>\n",
       "    </tr>\n",
       "    <tr>\n",
       "      <th>...</th>\n",
       "      <td>...</td>\n",
       "      <td>...</td>\n",
       "      <td>...</td>\n",
       "      <td>...</td>\n",
       "      <td>...</td>\n",
       "      <td>...</td>\n",
       "      <td>...</td>\n",
       "      <td>...</td>\n",
       "      <td>...</td>\n",
       "      <td>...</td>\n",
       "      <td>...</td>\n",
       "      <td>...</td>\n",
       "      <td>...</td>\n",
       "      <td>...</td>\n",
       "      <td>...</td>\n",
       "      <td>...</td>\n",
       "      <td>...</td>\n",
       "      <td>...</td>\n",
       "      <td>...</td>\n",
       "      <td>...</td>\n",
       "      <td>...</td>\n",
       "    </tr>\n",
       "    <tr>\n",
       "      <th>TTTGGTTTCTGCTTTA-1-E4-24</th>\n",
       "      <td>0</td>\n",
       "      <td>0</td>\n",
       "      <td>0</td>\n",
       "      <td>0</td>\n",
       "      <td>0</td>\n",
       "      <td>0</td>\n",
       "      <td>0</td>\n",
       "      <td>0</td>\n",
       "      <td>0</td>\n",
       "      <td>0</td>\n",
       "      <td>...</td>\n",
       "      <td>0</td>\n",
       "      <td>0</td>\n",
       "      <td>0</td>\n",
       "      <td>0</td>\n",
       "      <td>0</td>\n",
       "      <td>0</td>\n",
       "      <td>0</td>\n",
       "      <td>0</td>\n",
       "      <td>0</td>\n",
       "      <td>0</td>\n",
       "    </tr>\n",
       "    <tr>\n",
       "      <th>TTTGTTGAGTCATCCA-1-E4-24</th>\n",
       "      <td>0</td>\n",
       "      <td>0</td>\n",
       "      <td>0</td>\n",
       "      <td>0</td>\n",
       "      <td>0</td>\n",
       "      <td>0</td>\n",
       "      <td>0</td>\n",
       "      <td>0</td>\n",
       "      <td>0</td>\n",
       "      <td>0</td>\n",
       "      <td>...</td>\n",
       "      <td>0</td>\n",
       "      <td>0</td>\n",
       "      <td>0</td>\n",
       "      <td>0</td>\n",
       "      <td>0</td>\n",
       "      <td>0</td>\n",
       "      <td>0</td>\n",
       "      <td>0</td>\n",
       "      <td>0</td>\n",
       "      <td>0</td>\n",
       "    </tr>\n",
       "    <tr>\n",
       "      <th>TTTGTTGAGTTAACAG-1-E4-24</th>\n",
       "      <td>0</td>\n",
       "      <td>0</td>\n",
       "      <td>0</td>\n",
       "      <td>0</td>\n",
       "      <td>0</td>\n",
       "      <td>0</td>\n",
       "      <td>0</td>\n",
       "      <td>0</td>\n",
       "      <td>0</td>\n",
       "      <td>0</td>\n",
       "      <td>...</td>\n",
       "      <td>0</td>\n",
       "      <td>0</td>\n",
       "      <td>0</td>\n",
       "      <td>0</td>\n",
       "      <td>0</td>\n",
       "      <td>0</td>\n",
       "      <td>0</td>\n",
       "      <td>0</td>\n",
       "      <td>0</td>\n",
       "      <td>0</td>\n",
       "    </tr>\n",
       "    <tr>\n",
       "      <th>TTTGTTGCAGGACATG-1-E4-24</th>\n",
       "      <td>0</td>\n",
       "      <td>0</td>\n",
       "      <td>0</td>\n",
       "      <td>0</td>\n",
       "      <td>0</td>\n",
       "      <td>0</td>\n",
       "      <td>0</td>\n",
       "      <td>0</td>\n",
       "      <td>0</td>\n",
       "      <td>0</td>\n",
       "      <td>...</td>\n",
       "      <td>0</td>\n",
       "      <td>0</td>\n",
       "      <td>0</td>\n",
       "      <td>0</td>\n",
       "      <td>0</td>\n",
       "      <td>0</td>\n",
       "      <td>0</td>\n",
       "      <td>0</td>\n",
       "      <td>0</td>\n",
       "      <td>0</td>\n",
       "    </tr>\n",
       "    <tr>\n",
       "      <th>TTTGTTGCATCGATGT-1-E4-24</th>\n",
       "      <td>0</td>\n",
       "      <td>0</td>\n",
       "      <td>0</td>\n",
       "      <td>0</td>\n",
       "      <td>0</td>\n",
       "      <td>0</td>\n",
       "      <td>0</td>\n",
       "      <td>0</td>\n",
       "      <td>0</td>\n",
       "      <td>0</td>\n",
       "      <td>...</td>\n",
       "      <td>0</td>\n",
       "      <td>0</td>\n",
       "      <td>0</td>\n",
       "      <td>0</td>\n",
       "      <td>0</td>\n",
       "      <td>0</td>\n",
       "      <td>0</td>\n",
       "      <td>0</td>\n",
       "      <td>0</td>\n",
       "      <td>0</td>\n",
       "    </tr>\n",
       "  </tbody>\n",
       "</table>\n",
       "<p>246050 rows × 1031 columns</p>\n",
       "</div>"
      ],
      "text/plain": [
       "                          GENE_4921501E09Rik_  GENE_4930595M18Rik_  \\\n",
       "AAACCCAGTGACACGA-1-E3-1                     0                    0   \n",
       "AAACGAAAGCAGTCTT-1-E3-1                     0                    0   \n",
       "AAACGAAAGCATTTGC-1-E3-1                     0                    0   \n",
       "AAACGAATCTCAACCC-1-E3-1                     0                    0   \n",
       "AAACGAATCTGGTGCG-1-E3-1                     0                    0   \n",
       "...                                       ...                  ...   \n",
       "TTTGGTTTCTGCTTTA-1-E4-24                    0                    0   \n",
       "TTTGTTGAGTCATCCA-1-E4-24                    0                    0   \n",
       "TTTGTTGAGTTAACAG-1-E4-24                    0                    0   \n",
       "TTTGTTGCAGGACATG-1-E4-24                    0                    0   \n",
       "TTTGTTGCATCGATGT-1-E4-24                    0                    0   \n",
       "\n",
       "                          GENE_8030462N17Rik_  GENE_Aamp_  GENE_Abtb1_  \\\n",
       "AAACCCAGTGACACGA-1-E3-1                     0           0            0   \n",
       "AAACGAAAGCAGTCTT-1-E3-1                     0           0            0   \n",
       "AAACGAAAGCATTTGC-1-E3-1                     0           0            0   \n",
       "AAACGAATCTCAACCC-1-E3-1                     0           0            0   \n",
       "AAACGAATCTGGTGCG-1-E3-1                     0           0            0   \n",
       "...                                       ...         ...          ...   \n",
       "TTTGGTTTCTGCTTTA-1-E4-24                    0           0            0   \n",
       "TTTGTTGAGTCATCCA-1-E4-24                    0           0            0   \n",
       "TTTGTTGAGTTAACAG-1-E4-24                    0           0            0   \n",
       "TTTGTTGCAGGACATG-1-E4-24                    0           0            0   \n",
       "TTTGTTGCATCGATGT-1-E4-24                    0           0            0   \n",
       "\n",
       "                          GENE_Abtb2_  GENE_Acaca_  GENE_Ago2_  GENE_Ahctf1_  \\\n",
       "AAACCCAGTGACACGA-1-E3-1             0            0           0             0   \n",
       "AAACGAAAGCAGTCTT-1-E3-1             0            0           0             0   \n",
       "AAACGAAAGCATTTGC-1-E3-1             0            0           0             0   \n",
       "AAACGAATCTCAACCC-1-E3-1             0            0           0             0   \n",
       "AAACGAATCTGGTGCG-1-E3-1             0            0           0             0   \n",
       "...                               ...          ...         ...           ...   \n",
       "TTTGGTTTCTGCTTTA-1-E4-24            0            0           0             0   \n",
       "TTTGTTGAGTCATCCA-1-E4-24            0            0           0             0   \n",
       "TTTGTTGAGTTAACAG-1-E4-24            0            0           0             0   \n",
       "TTTGTTGCAGGACATG-1-E4-24            0            0           0             0   \n",
       "TTTGTTGCATCGATGT-1-E4-24            0            0           0             0   \n",
       "\n",
       "                          GENE_Ahr_  ...  GENE_Zfp512b_  GENE_Zfp598_  \\\n",
       "AAACCCAGTGACACGA-1-E3-1           0  ...              0             0   \n",
       "AAACGAAAGCAGTCTT-1-E3-1           0  ...              0             0   \n",
       "AAACGAAAGCATTTGC-1-E3-1           0  ...              0             0   \n",
       "AAACGAATCTCAACCC-1-E3-1           0  ...              0             0   \n",
       "AAACGAATCTGGTGCG-1-E3-1           0  ...              0             0   \n",
       "...                             ...  ...            ...           ...   \n",
       "TTTGGTTTCTGCTTTA-1-E4-24          0  ...              0             0   \n",
       "TTTGTTGAGTCATCCA-1-E4-24          0  ...              0             0   \n",
       "TTTGTTGAGTTAACAG-1-E4-24          0  ...              0             0   \n",
       "TTTGTTGCAGGACATG-1-E4-24          0  ...              0             0   \n",
       "TTTGTTGCATCGATGT-1-E4-24          0  ...              0             0   \n",
       "\n",
       "                          GENE_Zfp651_  GENE_Zfp91_  GENE_Zmiz1_  GENE_Zmiz2_  \\\n",
       "AAACCCAGTGACACGA-1-E3-1              0            0            0            0   \n",
       "AAACGAAAGCAGTCTT-1-E3-1              0            0            0            0   \n",
       "AAACGAAAGCATTTGC-1-E3-1              0            0            0            0   \n",
       "AAACGAATCTCAACCC-1-E3-1              0            0            0            0   \n",
       "AAACGAATCTGGTGCG-1-E3-1              0            0            0            0   \n",
       "...                                ...          ...          ...          ...   \n",
       "TTTGGTTTCTGCTTTA-1-E4-24             0            0            0            0   \n",
       "TTTGTTGAGTCATCCA-1-E4-24             0            0            0            0   \n",
       "TTTGTTGAGTTAACAG-1-E4-24             0            0            0            0   \n",
       "TTTGTTGCAGGACATG-1-E4-24             0            0            0            0   \n",
       "TTTGTTGCATCGATGT-1-E4-24             0            0            0            0   \n",
       "\n",
       "                          GENE_Znrf2_  GENE_Znrf3_  GENE_Znrf4_  GENE_Zpbp2_  \n",
       "AAACCCAGTGACACGA-1-E3-1             0            0            0            0  \n",
       "AAACGAAAGCAGTCTT-1-E3-1             0            0            0            0  \n",
       "AAACGAAAGCATTTGC-1-E3-1             0            0            0            0  \n",
       "AAACGAATCTCAACCC-1-E3-1             0            0            0            0  \n",
       "AAACGAATCTGGTGCG-1-E3-1             0            0            0            0  \n",
       "...                               ...          ...          ...          ...  \n",
       "TTTGGTTTCTGCTTTA-1-E4-24            0            0            0            0  \n",
       "TTTGTTGAGTCATCCA-1-E4-24            0            0            0            0  \n",
       "TTTGTTGAGTTAACAG-1-E4-24            0            0            0            0  \n",
       "TTTGTTGCAGGACATG-1-E4-24            0            0            0            0  \n",
       "TTTGTTGCATCGATGT-1-E4-24            0            0            0            0  \n",
       "\n",
       "[246050 rows x 1031 columns]"
      ]
     },
     "execution_count": 144,
     "metadata": {},
     "output_type": "execute_result"
    }
   ],
   "source": [
    "koGene"
   ]
  },
  {
   "cell_type": "code",
   "execution_count": null,
   "metadata": {},
   "outputs": [],
   "source": [
    "adata.obs = adata.obs.join(koGene,how=\"inner\")"
   ]
  },
  {
   "cell_type": "code",
   "execution_count": null,
   "metadata": {},
   "outputs": [],
   "source": [
    "adata.obs['GENE_CONTROL_'] = adata.obs['Cell_category']\n",
    "adata.obs['GENE_CONTROL_'][adata.obs['GENE_CONTROL_'] != \"CONTROL_\"] = 0\n",
    "adata.obs['GENE_CONTROL_'][adata.obs['GENE_CONTROL_'] == \"CONTROL_\"] = 1\n",
    "adata.obs['GENE_CONTROL_'] = adata.obs['GENE_CONTROL_'].astype('int64')\n",
    "adata.obs['GENE_CONTROL_'].value_counts()"
   ]
  },
  {
   "cell_type": "code",
   "execution_count": null,
   "metadata": {},
   "outputs": [],
   "source": [
    "adata.uns['feature_barcode_names_filtered_GENES'] = [ x for x in adata.obs.columns if (x.startswith(\"GENE_\"))]\n"
   ]
  },
  {
   "cell_type": "code",
   "execution_count": null,
   "metadata": {},
   "outputs": [],
   "source": [
    "adata.obs[adata.uns['feature_barcode_names_filtered_GENES']].sum(axis=1).value_counts()"
   ]
  },
  {
   "cell_type": "code",
   "execution_count": null,
   "metadata": {},
   "outputs": [],
   "source": [
    "adata.uns['feature_barcode_names_filtered']"
   ]
  },
  {
   "cell_type": "code",
   "execution_count": null,
   "metadata": {},
   "outputs": [],
   "source": [
    "list(adata.uns['feature_barcode_names_filtered'])"
   ]
  },
  {
   "cell_type": "code",
   "execution_count": null,
   "metadata": {},
   "outputs": [],
   "source": [
    "adata.obs[adata.uns['feature_barcode_names_filtered_GENES']].sum(axis=1).value_counts()"
   ]
  },
  {
   "cell_type": "code",
   "execution_count": null,
   "metadata": {},
   "outputs": [],
   "source": [
    "adata.obs[adata.uns['feature_barcode_names_filtered_GENES']].sum(axis=0)"
   ]
  },
  {
   "cell_type": "code",
   "execution_count": null,
   "metadata": {},
   "outputs": [],
   "source": [
    "adata.obs = adata.obs.drop(labels=list(adata.uns['feature_barcode_names_filtered']), axis=1).copy()"
   ]
  },
  {
   "cell_type": "code",
   "execution_count": null,
   "metadata": {},
   "outputs": [],
   "source": [
    "adata.write('outputs/anndata/adata-hash-features_singlets_SingleKO_06292020_PerGENE.h5ad')"
   ]
  },
  {
   "cell_type": "code",
   "execution_count": null,
   "metadata": {},
   "outputs": [],
   "source": []
  }
 ],
 "metadata": {
  "kernelspec": {
   "display_name": "Python 3 (ipykernel)",
   "language": "python",
   "name": "python3"
  },
  "language_info": {
   "codemirror_mode": {
    "name": "ipython",
    "version": 3
   },
   "file_extension": ".py",
   "mimetype": "text/x-python",
   "name": "python",
   "nbconvert_exporter": "python",
   "pygments_lexer": "ipython3",
   "version": "3.8.13"
  }
 },
 "nbformat": 4,
 "nbformat_minor": 4
}
