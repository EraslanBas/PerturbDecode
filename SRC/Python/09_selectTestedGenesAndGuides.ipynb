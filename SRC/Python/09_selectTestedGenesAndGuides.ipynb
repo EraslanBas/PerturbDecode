{
 "cells": [
  {
   "cell_type": "code",
   "execution_count": null,
   "metadata": {
    "papermill": {
     "duration": 2.497662,
     "end_time": "2020-02-03T11:16:52.810525",
     "exception": false,
     "start_time": "2020-02-03T11:16:50.312863",
     "status": "completed"
    },
    "tags": []
   },
   "outputs": [],
   "source": [
    "from libraries import *\n",
    "from parameters import *"
   ]
  },
  {
   "cell_type": "code",
   "execution_count": null,
   "metadata": {},
   "outputs": [],
   "source": [
    "os.getcwd()\n",
    "os.chdir(projectDir)"
   ]
  },
  {
   "cell_type": "code",
   "execution_count": null,
   "metadata": {},
   "outputs": [],
   "source": [
    "adata = sc.read(par_save_filename_5)\n",
    "adata.X.shape"
   ]
  },
  {
   "cell_type": "code",
   "execution_count": null,
   "metadata": {},
   "outputs": [],
   "source": [
    "adata.uns['AllExpGeneNames'] = pd.Series(adata.var_names)"
   ]
  },
  {
   "cell_type": "markdown",
   "metadata": {},
   "source": [
    "Select the genes that will be tested for their change upon the perturbation based on their expression profiles in the whole cell population. "
   ]
  },
  {
   "cell_type": "code",
   "execution_count": null,
   "metadata": {},
   "outputs": [],
   "source": [
    "sc.pp.filter_genes(adata, min_cells=par_mincells_for_testedgenes)\n",
    "sc.pp.filter_cells(adata, min_genes=par_mincellgenes_for_testedgenes)"
   ]
  },
  {
   "cell_type": "code",
   "execution_count": null,
   "metadata": {},
   "outputs": [],
   "source": [
    "fBarMat = adata.obs[adata.uns['feature_barcode_names']]"
   ]
  },
  {
   "cell_type": "markdown",
   "metadata": {
    "jupyter": {
     "outputs_hidden": true
    },
    "tags": []
   },
   "source": [
    "Discard guides that are available in less than \"par_ncell_test_threshold\" cells."
   ]
  },
  {
   "cell_type": "code",
   "execution_count": null,
   "metadata": {},
   "outputs": [],
   "source": [
    "badFBarMat = fBarMat.loc[:,fBarMat.sum(axis=0) < par_ncell_test_threshold]\n",
    "badGuides = badFBarMat.columns.to_list()\n",
    "badGDF = pd.DataFrame(data={'guides':badGuides})\n",
    "badGDF['targetGene'] = badGDF['guides'].str.split(\"_\", n=1, expand=True)[0]\n",
    "\n",
    "badControlGuides = pd.read_csv(par_outlier_controlguides_file)\n",
    "badControlGuides['targetGene'] = badControlGuides['OutlierGuides'].str.split(\"_\", n=1, expand=True)[0]\n",
    "badControlGuides = badControlGuides.rename(columns={\"OutlierGuides\": \"guides\"})\n",
    "badGDF = pd.concat([badGDF, badControlGuides])\n",
    "badGDF = badGDF.sort_values('guides')"
   ]
  },
  {
   "cell_type": "code",
   "execution_count": null,
   "metadata": {},
   "outputs": [],
   "source": [
    "clusterSelectedBarcodes = adata.uns['feature_barcode_names']\n",
    "clusterSelectedBarcodes = clusterSelectedBarcodes[~pd.Series(clusterSelectedBarcodes).isin(badGDF.guides.to_list())]\n",
    "adata.uns['feature_barcode_names_filtered'] = clusterSelectedBarcodes"
   ]
  },
  {
   "cell_type": "code",
   "execution_count": null,
   "metadata": {},
   "outputs": [],
   "source": [
    "fBarMat = adata.obs[adata.uns['feature_barcode_names_filtered']]\n",
    "fBarMat[fBarMat>0] = 1\n",
    "adata = adata[fBarMat.sum(axis=1) > 0,:]\n",
    "adata.uns['feature_KO_barcode_names_filtered'] = [ x for x in adata.uns['feature_barcode_names_filtered'] if not (x.startswith(\"ONE_NONGENE_SITE\") or x.startswith(\"NO_TARGET\"))]\n"
   ]
  },
  {
   "cell_type": "code",
   "execution_count": null,
   "metadata": {},
   "outputs": [],
   "source": [
    "adata.write(par_save_filename_7)"
   ]
  }
 ],
 "metadata": {
  "kernelspec": {
   "display_name": "Python 3 (ipykernel)",
   "language": "python",
   "name": "python3"
  },
  "language_info": {
   "codemirror_mode": {
    "name": "ipython",
    "version": 3
   },
   "file_extension": ".py",
   "mimetype": "text/x-python",
   "name": "python",
   "nbconvert_exporter": "python",
   "pygments_lexer": "ipython3",
   "version": "3.8.13"
  }
 },
 "nbformat": 4,
 "nbformat_minor": 4
}
