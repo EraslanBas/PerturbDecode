{
 "cells": [
  {
   "cell_type": "code",
   "execution_count": 1,
   "metadata": {
    "papermill": {
     "duration": 2.497662,
     "end_time": "2020-02-03T11:16:52.810525",
     "exception": false,
     "start_time": "2020-02-03T11:16:50.312863",
     "status": "completed"
    },
    "tags": []
   },
   "outputs": [],
   "source": [
    "from libraries import *\n",
    "from parameters import *"
   ]
  },
  {
   "cell_type": "code",
   "execution_count": 2,
   "metadata": {},
   "outputs": [],
   "source": [
    "os.getcwd()\n",
    "os.chdir(projectDir)"
   ]
  },
  {
   "cell_type": "markdown",
   "metadata": {},
   "source": [
    "We will assess the effect of the perturbations on the set of genes that are expressed in at least 5% of the whole cell population."
   ]
  },
  {
   "cell_type": "code",
   "execution_count": 3,
   "metadata": {},
   "outputs": [],
   "source": [
    "adata = sc.read('outputs/anndata/adata-hash-features_singlets_SingleKO_05242020.h5ad')\n"
   ]
  },
  {
   "cell_type": "code",
   "execution_count": 5,
   "metadata": {},
   "outputs": [
    {
     "data": {
      "text/plain": [
       "(341664, 13811)"
      ]
     },
     "execution_count": 5,
     "metadata": {},
     "output_type": "execute_result"
    }
   ],
   "source": [
    "adata.X.shape"
   ]
  },
  {
   "cell_type": "code",
   "execution_count": 71,
   "metadata": {},
   "outputs": [],
   "source": [
    "# adata.uns['feature_Control_barcode_names'] = [ x for x in adata.uns['feature_barcode_names'] if (x.startswith(\"ONE_NONGENE_SITE\") or x.startswith(\"NO_TARGET\"))]\n",
    "# koGenes = pd.Series(list(set([x.split(\"_\")[0] for x in adata.uns['feature_barcode_names']])))\n",
    "# koGenes.to_csv(\"KO_genes.csv\", index=False)\n",
    "# adataControl = adata[adata.obs.loc[:,adata.uns['feature_Control_barcode_names']].sum(axis=1) == 1].copy()\n",
    "# koGenes = pd.read_csv('KO_genes.csv')\n",
    "# koGenes.columns = [\"KOGenes\"]\n",
    "# koGenes = pd.Series(koGenes.KOGenes)\n",
    "# koGenes = koGenes[koGenes != \"NO\"]\n",
    "# koGenes = koGenes[koGenes != \"ONE\"]\n",
    "\n",
    "# koGenes[~koGenes.isin(adataControl.var_names)]"
   ]
  },
  {
   "cell_type": "code",
   "execution_count": 6,
   "metadata": {},
   "outputs": [
    {
     "name": "stdout",
     "output_type": "stream",
     "text": [
      "filtered out 7126 genes that are detected in less than 20000 cells\n",
      "filtered out 13007 cells that have less than 800 genes expressed\n"
     ]
    }
   ],
   "source": [
    "sc.pp.filter_genes(adata, min_cells=20000)\n",
    "sc.pp.filter_cells(adata, min_genes=800)\n"
   ]
  },
  {
   "cell_type": "code",
   "execution_count": 7,
   "metadata": {},
   "outputs": [
    {
     "data": {
      "text/plain": [
       "(328657, 6685)"
      ]
     },
     "execution_count": 7,
     "metadata": {},
     "output_type": "execute_result"
    }
   ],
   "source": [
    "adata.X.shape"
   ]
  },
  {
   "cell_type": "code",
   "execution_count": 8,
   "metadata": {},
   "outputs": [],
   "source": [
    "fBarMat = adata.obs[adata.uns['feature_barcode_names']]"
   ]
  },
  {
   "cell_type": "code",
   "execution_count": 9,
   "metadata": {},
   "outputs": [],
   "source": [
    "badFBarMat = fBarMat.loc[:,fBarMat.sum(axis=0) < 20]\n",
    "badGuides = badFBarMat.columns.to_list()\n",
    "badGDF = pd.DataFrame(data={'guides':badGuides})\n",
    "badGDF['targetGene'] = badGDF['guides'].str.split(\"_\", n=1, expand=True)[0]\n",
    "#badGDF = badGDF[-badGDF['targetGene'].isin(['NO', 'ONE'])]"
   ]
  },
  {
   "cell_type": "code",
   "execution_count": 10,
   "metadata": {},
   "outputs": [],
   "source": [
    "badControlGuides = pd.read_csv('OutlierControlGuides.csv')\n",
    "badControlGuides['targetGene'] = badControlGuides['OutlierGuides'].str.split(\"_\", n=1, expand=True)[0]\n",
    "badControlGuides = badControlGuides.rename(columns={\"OutlierGuides\": \"guides\"})\n",
    "badGDF = pd.concat([badGDF, badControlGuides])\n",
    "badGDF = badGDF.sort_values('guides')"
   ]
  },
  {
   "cell_type": "code",
   "execution_count": 11,
   "metadata": {},
   "outputs": [
    {
     "data": {
      "text/html": [
       "<div>\n",
       "<style scoped>\n",
       "    .dataframe tbody tr th:only-of-type {\n",
       "        vertical-align: middle;\n",
       "    }\n",
       "\n",
       "    .dataframe tbody tr th {\n",
       "        vertical-align: top;\n",
       "    }\n",
       "\n",
       "    .dataframe thead th {\n",
       "        text-align: right;\n",
       "    }\n",
       "</style>\n",
       "<table border=\"1\" class=\"dataframe\">\n",
       "  <thead>\n",
       "    <tr style=\"text-align: right;\">\n",
       "      <th></th>\n",
       "      <th>guides</th>\n",
       "      <th>targetGene</th>\n",
       "    </tr>\n",
       "  </thead>\n",
       "  <tbody>\n",
       "    <tr>\n",
       "      <th>31</th>\n",
       "      <td>Aamp_3</td>\n",
       "      <td>Aamp</td>\n",
       "    </tr>\n",
       "    <tr>\n",
       "      <th>119</th>\n",
       "      <td>Abtb1_3</td>\n",
       "      <td>Abtb1</td>\n",
       "    </tr>\n",
       "    <tr>\n",
       "      <th>174</th>\n",
       "      <td>Acaca_3</td>\n",
       "      <td>Acaca</td>\n",
       "    </tr>\n",
       "    <tr>\n",
       "      <th>58</th>\n",
       "      <td>Ahr_3</td>\n",
       "      <td>Ahr</td>\n",
       "    </tr>\n",
       "    <tr>\n",
       "      <th>51</th>\n",
       "      <td>Aire_2</td>\n",
       "      <td>Aire</td>\n",
       "    </tr>\n",
       "    <tr>\n",
       "      <th>...</th>\n",
       "      <td>...</td>\n",
       "      <td>...</td>\n",
       "    </tr>\n",
       "    <tr>\n",
       "      <th>63</th>\n",
       "      <td>Zbtb6_2</td>\n",
       "      <td>Zbtb6</td>\n",
       "    </tr>\n",
       "    <tr>\n",
       "      <th>124</th>\n",
       "      <td>Zbtb8a_2</td>\n",
       "      <td>Zbtb8a</td>\n",
       "    </tr>\n",
       "    <tr>\n",
       "      <th>32</th>\n",
       "      <td>Znrf1_1</td>\n",
       "      <td>Znrf1</td>\n",
       "    </tr>\n",
       "    <tr>\n",
       "      <th>33</th>\n",
       "      <td>Znrf1_2</td>\n",
       "      <td>Znrf1</td>\n",
       "    </tr>\n",
       "    <tr>\n",
       "      <th>68</th>\n",
       "      <td>Znrf3_3</td>\n",
       "      <td>Znrf3</td>\n",
       "    </tr>\n",
       "  </tbody>\n",
       "</table>\n",
       "<p>221 rows × 2 columns</p>\n",
       "</div>"
      ],
      "text/plain": [
       "       guides targetGene\n",
       "31     Aamp_3       Aamp\n",
       "119   Abtb1_3      Abtb1\n",
       "174   Acaca_3      Acaca\n",
       "58      Ahr_3        Ahr\n",
       "51     Aire_2       Aire\n",
       "..        ...        ...\n",
       "63    Zbtb6_2      Zbtb6\n",
       "124  Zbtb8a_2     Zbtb8a\n",
       "32    Znrf1_1      Znrf1\n",
       "33    Znrf1_2      Znrf1\n",
       "68    Znrf3_3      Znrf3\n",
       "\n",
       "[221 rows x 2 columns]"
      ]
     },
     "execution_count": 11,
     "metadata": {},
     "output_type": "execute_result"
    }
   ],
   "source": [
    "badGDF"
   ]
  },
  {
   "cell_type": "code",
   "execution_count": 12,
   "metadata": {},
   "outputs": [
    {
     "data": {
      "text/plain": [
       "ONE       24\n",
       "NO        11\n",
       "Gnb4       3\n",
       "Mdm2       3\n",
       "Cdc20      3\n",
       "Npm1       2\n",
       "Notch1     2\n",
       "Tle6       2\n",
       "Plk1       2\n",
       "Klhl2      2\n",
       "Gm3701     2\n",
       "Rad18      2\n",
       "Znrf1      2\n",
       "Rnf207     1\n",
       "Rnf20      1\n",
       "Rnf222     1\n",
       "Rnf40      1\n",
       "Rnf44      1\n",
       "Aamp       1\n",
       "Rnft1      1\n",
       "Name: targetGene, dtype: int64"
      ]
     },
     "execution_count": 12,
     "metadata": {},
     "output_type": "execute_result"
    }
   ],
   "source": [
    "badGDF.targetGene.value_counts()[0:20]"
   ]
  },
  {
   "cell_type": "code",
   "execution_count": 13,
   "metadata": {},
   "outputs": [],
   "source": [
    "clusterSelectedBarcodes = adata.uns['feature_barcode_names']\n",
    "clusterSelectedBarcodes = clusterSelectedBarcodes[~pd.Series(clusterSelectedBarcodes).isin(badGDF.guides.to_list())]\n",
    "adata.uns['feature_barcode_names_filtered'] = clusterSelectedBarcodes\n"
   ]
  },
  {
   "cell_type": "code",
   "execution_count": 14,
   "metadata": {},
   "outputs": [
    {
     "name": "stderr",
     "output_type": "stream",
     "text": [
      "/tmp/ipykernel_4942/2543604733.py:2: SettingWithCopyWarning: \n",
      "A value is trying to be set on a copy of a slice from a DataFrame.\n",
      "Try using .loc[row_indexer,col_indexer] = value instead\n",
      "\n",
      "See the caveats in the documentation: https://pandas.pydata.org/pandas-docs/stable/user_guide/indexing.html#returning-a-view-versus-a-copy\n",
      "  fBarMat[fBarMat>0] = 1\n",
      "/tmp/ipykernel_4942/2543604733.py:2: SettingWithCopyWarning: \n",
      "A value is trying to be set on a copy of a slice from a DataFrame\n",
      "\n",
      "See the caveats in the documentation: https://pandas.pydata.org/pandas-docs/stable/user_guide/indexing.html#returning-a-view-versus-a-copy\n",
      "  fBarMat[fBarMat>0] = 1\n"
     ]
    }
   ],
   "source": [
    "fBarMat = adata.obs[adata.uns['feature_barcode_names_filtered']]\n",
    "fBarMat[fBarMat>0] = 1\n",
    "adata = adata[fBarMat.sum(axis=1) > 0,:]"
   ]
  },
  {
   "cell_type": "code",
   "execution_count": 15,
   "metadata": {},
   "outputs": [
    {
     "data": {
      "text/plain": [
       "(325203, 6685)"
      ]
     },
     "execution_count": 15,
     "metadata": {},
     "output_type": "execute_result"
    }
   ],
   "source": [
    "adata.shape"
   ]
  },
  {
   "cell_type": "code",
   "execution_count": 16,
   "metadata": {},
   "outputs": [
    {
     "name": "stderr",
     "output_type": "stream",
     "text": [
      "/home/eraslab1/miniconda3/lib/python3.8/site-packages/anndata/compat/_overloaded_dict.py:106: ImplicitModificationWarning: Trying to modify attribute `._uns` of view, initializing view as actual.\n",
      "  self.data[key] = value\n"
     ]
    }
   ],
   "source": [
    "adata.uns['feature_KO_barcode_names_filtered'] = [ x for x in adata.uns['feature_barcode_names_filtered'] if not (x.startswith(\"ONE_NONGENE_SITE\") or x.startswith(\"NO_TARGET\"))]\n"
   ]
  },
  {
   "cell_type": "code",
   "execution_count": 17,
   "metadata": {},
   "outputs": [
    {
     "data": {
      "text/plain": [
       "3204"
      ]
     },
     "execution_count": 17,
     "metadata": {},
     "output_type": "execute_result"
    }
   ],
   "source": [
    "len(adata.uns['feature_KO_barcode_names_filtered'])"
   ]
  },
  {
   "cell_type": "code",
   "execution_count": 18,
   "metadata": {},
   "outputs": [
    {
     "data": {
      "text/plain": [
       "(325203, 3204)"
      ]
     },
     "execution_count": 18,
     "metadata": {},
     "output_type": "execute_result"
    }
   ],
   "source": [
    "adata.obs[adata.uns['feature_KO_barcode_names_filtered']].shape"
   ]
  },
  {
   "cell_type": "code",
   "execution_count": 19,
   "metadata": {},
   "outputs": [
    {
     "data": {
      "text/plain": [
       "1    284080\n",
       "0     41123\n",
       "dtype: int64"
      ]
     },
     "execution_count": 19,
     "metadata": {},
     "output_type": "execute_result"
    }
   ],
   "source": [
    "adata.obs[adata.uns['feature_KO_barcode_names_filtered']].sum(axis=1).value_counts()"
   ]
  },
  {
   "cell_type": "code",
   "execution_count": null,
   "metadata": {},
   "outputs": [],
   "source": [
    "adata.write('outputs/anndata/adata-hash-features_singlets_SingleKO_05242020_Filtered.h5ad')"
   ]
  },
  {
   "cell_type": "code",
   "execution_count": null,
   "metadata": {},
   "outputs": [],
   "source": []
  }
 ],
 "metadata": {
  "kernelspec": {
   "display_name": "Python 3 (ipykernel)",
   "language": "python",
   "name": "python3"
  },
  "language_info": {
   "codemirror_mode": {
    "name": "ipython",
    "version": 3
   },
   "file_extension": ".py",
   "mimetype": "text/x-python",
   "name": "python",
   "nbconvert_exporter": "python",
   "pygments_lexer": "ipython3",
   "version": "3.8.13"
  }
 },
 "nbformat": 4,
 "nbformat_minor": 4
}
