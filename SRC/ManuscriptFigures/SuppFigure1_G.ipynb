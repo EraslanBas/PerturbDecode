{
 "cells": [
  {
   "cell_type": "code",
   "execution_count": null,
   "id": "facae39a-5015-43e7-b396-044fe8daa088",
   "metadata": {
    "tags": []
   },
   "outputs": [],
   "source": [
    "source(\"Main.R\")\n",
    "source(\"Conf.R\")\n",
    "source(\"Utilities.R\")\n",
    "library(\"factoextra\")\n",
    "library(\"maptree\")\n",
    "library(\"ggpubr\")\n",
    "\n",
    "library(repr)\n",
    "fileDir = \"/home/beraslan/jovian-work/analysisSingle/\"\n",
    "geneCutOff=4\n",
    "targetCutOff=14"
   ]
  },
  {
   "cell_type": "code",
   "execution_count": null,
   "id": "b47b3c7f-5bae-413a-b5c8-76063e58afef",
   "metadata": {},
   "outputs": [],
   "source": [
    "coefsAll_Control <- read.csv(\"./../ControlGuideEffects/Control_coefs.csv\", row.names = 1)\n",
    "pValsAll_Control <- read.csv(\"./../ControlGuideEffects/Control_pValues.csv\", row.names = 1)\n",
    "\n",
    "coefsAll <- read.csv(\"./../MixedEffectLMOutputs/ME_LMBetaCoefsALL.csv\", row.names = 1)\n",
    "pValsAll <- read.csv(\"./../MixedEffectLMOutputs/ME_LMPValuesALL.csv\", row.names = 1)\n",
    "pValsAll <- pValsAll[rownames(pValsAll) %ni% c(\"Intercept\", \"n_genes\", \"mt_frac\", \"Group Var\"),]\n",
    "coefsAll <- coefsAll[rownames(coefsAll) %ni% c(\"Intercept\", \"n_genes\", \"mt_frac\", \"Group Var\"),]"
   ]
  },
  {
   "cell_type": "code",
   "execution_count": null,
   "id": "4465638c-ffe0-4084-acf9-668bc2658bdc",
   "metadata": {},
   "outputs": [],
   "source": [
    "pValsAll = data.frame((pValsAll))\n",
    "pValsAll_Control = data.frame((pValsAll_Control))"
   ]
  },
  {
   "cell_type": "code",
   "execution_count": null,
   "id": "a8153af3-f19b-44c5-98fa-0fd83aaaed4b",
   "metadata": {
    "tags": []
   },
   "outputs": [],
   "source": [
    "pValsAllAdj <- sapply(pValsAll, \n",
    "                      function(x){p.adjust(x, method = \"fdr\", n = length(x))})\n",
    "rownames(pValsAllAdj) <- rownames(pValsAll)\n",
    "\n",
    "pValsAllAdj_Control <- data.frame(sapply(pValsAll_Control, \n",
    "                                         function(x){p.adjust(x, method = \"fdr\", n = length(x))}))\n",
    "rownames(pValsAllAdj_Control) <- rownames(pValsAllAdj_Control)\n"
   ]
  },
  {
   "cell_type": "code",
   "execution_count": null,
   "id": "654d49ba-83f6-4414-a12d-6f7a1e40a7ac",
   "metadata": {
    "tags": []
   },
   "outputs": [],
   "source": [
    "s1 <- apply(pValsAllAdj, 1, function(x){return(length(which(x < 0.1)))})\n",
    "\n",
    "s1Freq <- data.frame(table(s1), stringsAsFactors = FALSE)\n",
    "\n",
    "s1_Control <- apply(pValsAllAdj_Control, 1, \n",
    "                    function(x){return(length(which(x < 0.1)))})"
   ]
  },
  {
   "cell_type": "code",
   "execution_count": null,
   "id": "e778d2e7-04df-4e55-ab76-7f1af7645629",
   "metadata": {},
   "outputs": [],
   "source": [
    "s1Freq <- data.frame(table(s1), stringsAsFactors = FALSE)\n",
    "s1Freq$s1 = as.numeric(s1Freq$s1)\n",
    "head(s1Freq)\n",
    "s1Freq$s1 <- as.character(s1Freq$s1)\n",
    "s1Freq$s1 <- factor(as.character(s1Freq$s1), levels=as.character(sort(as.numeric(s1Freq$s1))))\n",
    " \n",
    "options(repr.plot.width=10, repr.plot.height=5)\n",
    "ggplot(data=s1Freq, aes(x=s1, y=Freq)) +\n",
    "    geom_bar(stat=\"identity\", fill=\"lightblue\")+\n",
    "    theme_minimal()+theme(\n",
    "                     axis.text.y = element_text(size=18), \n",
    "                     axis.title = element_text(size=20) )+\n",
    "    xlab(\"Number of affected genes\")+ylab(\"Number of KO genes\")+\n",
    "geom_vline(xintercept = (targetCutOff), color=\"red\")\n",
    "scale_x_continuous(breaks=seq(2,1000,5), labels=seq(2,1000,5))\n",
    "  "
   ]
  },
  {
   "cell_type": "code",
   "execution_count": null,
   "id": "8efcd98e-8a28-48e3-9efb-52c1a18f71da",
   "metadata": {},
   "outputs": [],
   "source": [
    "tpKO <- data.frame(x=s1, type=\"KO\")\n",
    "tpC <- data.frame(x=s1_Control, type=\"Control\")\n",
    "\n",
    "tpKO <- rbind(tpKO, tpC)\n",
    "tpKO$type <- factor(tpKO$type, levels=c(\"Control\",\"KO\"))"
   ]
  },
  {
   "cell_type": "code",
   "execution_count": null,
   "id": "1df30524-f7e4-4a1d-b48b-dc9adf0ad798",
   "metadata": {},
   "outputs": [],
   "source": [
    "options(repr.plot.width=8, repr.plot.height=4)\n",
    "\n",
    "#pdf(\"./../SupplementaryFigures/S_3A.pdf\", width = 8, height = 4)\n",
    "ggplot(data=tpKO, aes(x=x, color=type, fill=type)) +\n",
    "    geom_histogram(binwidth=1, alpha=0.1)+\n",
    "    facet_wrap(~type)+\n",
    "    theme_minimal()+theme(axis.text.x = element_text(size=18),\n",
    "                     axis.text = element_text(size=18),\n",
    "                     strip.text = element_text(size=18),\n",
    "                     axis.title = element_text(size=20) )+\n",
    "    xlab(\"Number of affected genes\")+ylab(\"Number of perturbations\")+\n",
    "geom_vline(xintercept = (targetCutOff), color=\"red\")+xlim(0,300)+\n",
    "scale_fill_manual(values=c(\"blue\", \"#E69F00\", \"#56B4E9\"))+\n",
    "scale_color_manual(values=c(\"blue\", \"#E69F00\", \"#56B4E9\"))\n",
    "#dev.off()"
   ]
  },
  {
   "cell_type": "code",
   "execution_count": null,
   "id": "276e769a-1e89-4675-a200-727ac92308bf",
   "metadata": {},
   "outputs": [],
   "source": [
    "coefsAll <- coefsAll[s1>targetCutOff,]\n",
    "pValsAllAdj <- pValsAllAdj[s1>targetCutOff,]"
   ]
  },
  {
   "cell_type": "code",
   "execution_count": null,
   "id": "a8efbdfe-8255-4538-8d91-8cae7aaa471a",
   "metadata": {},
   "outputs": [],
   "source": [
    "s2 <- apply(pValsAllAdj, 2, function(x){return(length(which(x < 0.1)))})\n",
    "s2Freq <- data.frame(table(s2), stringsAsFactors = FALSE)"
   ]
  },
  {
   "cell_type": "code",
   "execution_count": null,
   "id": "7c0a6f0e-8dee-4a1e-bd2d-c3aae967ab9c",
   "metadata": {},
   "outputs": [],
   "source": [
    "s2 <- apply(pValsAllAdj, 2, function(x){return(length(which(x < 0.1)))})\n",
    "s2Freq <- data.frame(table(s2), \n",
    "                     stringsAsFactors = FALSE)\n",
    "#s2Freq$s2 <- as.character(s2Freq$s2)\n",
    "s2Freq$s2 <- factor(as.character(as.numeric(s2Freq$s2)), \n",
    "                    levels=as.character(sort(as.numeric(s2Freq$s2))))\n"
   ]
  },
  {
   "cell_type": "code",
   "execution_count": null,
   "id": "17b911a7-500d-4da2-b322-e7f25c1497c1",
   "metadata": {},
   "outputs": [],
   "source": [
    " \n",
    "options(repr.plot.width=15, repr.plot.height=5)\n",
    "\n",
    "pdf(\"./../SupplementaryFigures/S_3B.pdf\", width = 15, height = 5)\n",
    "ggplot(data=s2Freq, aes(x=s2, y=Freq)) +\n",
    "    geom_bar(stat=\"identity\", fill=\"lightblue\")+\n",
    "    theme_bw()+theme(axis.text.x = element_text(angle = 90, hjust = 1, size=12), axis.text.y = element_text(size=18), \n",
    "                     axis.title = element_text(size=20) )+scale_y_continuous(trans=\"log2\")+\n",
    "    ylab(\"Number of genes\")+xlab(\"Number of KOs the gene is affected from\")+geom_vline(xintercept = (geneCutOff+1), \n",
    "                                                                                       color=\"red\", lwd=2)\n",
    "\n",
    "dev.off()\n",
    "  "
   ]
  },
  {
   "cell_type": "code",
   "execution_count": null,
   "id": "12ab3898-8419-4880-b0f8-c64a7304ce7c",
   "metadata": {},
   "outputs": [],
   "source": []
  }
 ],
 "metadata": {
  "kernelspec": {
   "display_name": "R",
   "language": "R",
   "name": "ir"
  },
  "language_info": {
   "codemirror_mode": "r",
   "file_extension": ".r",
   "mimetype": "text/x-r-source",
   "name": "R",
   "pygments_lexer": "r",
   "version": "4.2.1"
  }
 },
 "nbformat": 4,
 "nbformat_minor": 5
}
