{
 "cells": [
  {
   "cell_type": "code",
   "execution_count": null,
   "id": "eff3ceec-3795-4a41-b18e-cdbb5b00d46d",
   "metadata": {
    "tags": []
   },
   "outputs": [],
   "source": [
    "source(\"Main.R\")\n",
    "source(\"Conf.R\")\n",
    "source(\"Utilities.R\")\n",
    "library(stringr) "
   ]
  },
  {
   "cell_type": "code",
   "execution_count": null,
   "id": "2ce18c87-e4b8-4a81-80d3-b9ba052196bf",
   "metadata": {},
   "outputs": [],
   "source": [
    "doubles <- readRDS(\"./../Notebooks/CombinatorialPerturbations/RDSFiles/ComboEffects_doublesSameGroup.rds\")\n",
    "doubles <- doubles[doubles$term %ni% c(\"(Intercept)\", \"n_genes\", \"mt_frac\", paste0(\"leiden\", 1:9)),]\n",
    "doubles[,c(\"std.error\", \"statistic\", \"p.value\")] = NULL\n",
    "doubles = reshape(doubles, idvar = \"respGene\", timevar = \"term\",  direction = \"wide\")\n",
    "rownames(doubles) = doubles$respGene\n",
    "doubles$respGene = NULL\n",
    "colnames(doubles) = sapply( colnames(doubles), function(x){strsplit(x,\"estimate.\")[[1]][2]})\n"
   ]
  },
  {
   "cell_type": "code",
   "execution_count": null,
   "id": "ac9fc06f-9817-4fb0-b118-1cd9360f32f3",
   "metadata": {
    "tags": []
   },
   "outputs": [],
   "source": [
    "combos <- readRDS(\"./../Notebooks/CombinatorialPerturbations/RDSFiles/ComboEffects_lm_residuals.rds\")\n",
    "combos <- combos[combos$term %ni% c(\"(Intercept)\", \"n_genes\", \"mt_frac\", paste0(\"leiden\", 1:9)),]\n",
    "combos[,c(\"std.error\", \"statistic\", \"p.value\")] = NULL\n",
    "combos = reshape(combos, idvar = \"respGene\", timevar = \"term\",  direction = \"wide\")\n",
    "rownames(combos) = combos$respGene\n",
    "combos$respGene = NULL\n",
    "colnames(combos) = sapply( colnames(combos), function(x){strsplit(x,\"estimate.\")[[1]][2]})"
   ]
  },
  {
   "cell_type": "code",
   "execution_count": null,
   "id": "62a2bcfc-833b-43cc-8c34-1f325b4f9f45",
   "metadata": {},
   "outputs": [],
   "source": [
    "allPred = data.frame()\n",
    "\n",
    "for( i in c(\"K_0\", \"K_1\", \"K_2\", \"K_3\", \"K_4\", \"K_5\")){       \n",
    "    myR2 = round(computeR2(response = doubles[,i], prediction = 2*combos[,i] ), digits=2)\n",
    "   \n",
    "    \n",
    "    myTemp =  data.frame(\"Predictedvalues\" = 2*combos[,i],\n",
    "                         \"Observedvalues\" = doubles[,i],\n",
    "                         \"Comb\"=i,\n",
    "                         \"Gene\" = rownames(combos),\n",
    "                         \"R2\" = myR2,\n",
    "                         \"corS\" = round(cor(doubles[,i], combos[,i], method=\"spearman\"), digits=2),\n",
    "                         \"pearsonS\" = round(cor(doubles[,i], combos[,i], method=\"pearson\"), digits=2)\n",
    "                        )\n",
    "     v = prcomp(myTemp[,c(\"Predictedvalues\", \"Observedvalues\")])$rotation\n",
    "     myTemp$PcaFirstCompSlope = round(v[2,1]/v[1,1], digits = 2)\n",
    "    \n",
    "    allPred = rbind(allPred, myTemp)\n",
    "      \n",
    "}\n"
   ]
  },
  {
   "cell_type": "code",
   "execution_count": null,
   "id": "4046dc9c-c65e-4f17-9e78-4a76d7215371",
   "metadata": {},
   "outputs": [],
   "source": [
    "allPred <- allPred[allPred$Comb != \"K_5\",]"
   ]
  },
  {
   "cell_type": "code",
   "execution_count": null,
   "id": "de6e396b-d2c5-445b-a03b-8ed424ddecd4",
   "metadata": {},
   "outputs": [],
   "source": [
    "allPred$Comb <- sapply(allPred$Comb, function(x){str_replace(x,\"_\",\"\")})"
   ]
  },
  {
   "cell_type": "code",
   "execution_count": null,
   "id": "01711ee2-e5e1-4671-a693-9b80ca2971fc",
   "metadata": {},
   "outputs": [],
   "source": [
    "allPred[allPred$R2 <0, \"R2\"] = 0"
   ]
  },
  {
   "cell_type": "code",
   "execution_count": null,
   "id": "880ca0b8-b99d-4273-822f-920278660eae",
   "metadata": {
    "tags": []
   },
   "outputs": [],
   "source": [
    "options(repr.plot.width=15, repr.plot.height=4)\n",
    "pdf(\"Figure_5C.pdf\", width = 15, height = 4)\n",
    "\n",
    "ggplot(allPred, aes(x=Predictedvalues, y=Observedvalues)) + \n",
    "        geom_point(alpha=0.5, shape=15, color=\"blue\") + \n",
    "        facet_wrap( ~ Comb, ncol=6)+\n",
    "        geom_text(aes(label= paste0(\"s = \",PcaFirstCompSlope), color=\"red\"), x=-0.25, y=0.75, size=6)+\n",
    "        geom_text(aes(label= paste0(\"R^2 = \",R2), color=\"red\"), x=0, y=-1, size=6)+\n",
    "        geom_abline(linetype=\"dashed\")+\n",
    "        geom_abline(aes(slope = PcaFirstCompSlope,intercept=0,color=\"red\"))+\n",
    "        theme_minimal()+\n",
    "        theme(axis.text = element_text(size = 15),\n",
    "              axis.title = element_text(size = 15),\n",
    "              strip.text = element_text(size = 15),\n",
    "              legend.position='none')+\n",
    "        xlim(-1,1)+ylim(-1,1)+\n",
    "        ylab(\"Observed fold change in \\n double KO cells (lg2)\")+\n",
    "        xlab(\"Sum of observed fold changes in single KO cells (lg2)\")\n",
    "\n",
    "dev.off()"
   ]
  }
 ],
 "metadata": {
  "kernelspec": {
   "display_name": "R",
   "language": "R",
   "name": "ir"
  },
  "language_info": {
   "codemirror_mode": "r",
   "file_extension": ".r",
   "mimetype": "text/x-r-source",
   "name": "R",
   "pygments_lexer": "r",
   "version": "4.2.1"
  }
 },
 "nbformat": 4,
 "nbformat_minor": 5
}
