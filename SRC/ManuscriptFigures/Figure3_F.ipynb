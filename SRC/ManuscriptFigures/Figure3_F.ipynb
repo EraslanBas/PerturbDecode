{
 "cells": [
  {
   "cell_type": "code",
   "execution_count": null,
   "id": "cc00fead-18b1-44af-b808-db868d7e2741",
   "metadata": {
    "tags": []
   },
   "outputs": [],
   "source": [
    "source(\"Main.R\")\n",
    "source(\"Conf.R\")\n",
    "source(\"Utilities.R\")\n",
    "library(\"maptree\")\n",
    "library(igraph)\n",
    "library(Hmisc)\n",
    "library(ggpubr)\n",
    "library(BiRewire)"
   ]
  },
  {
   "cell_type": "code",
   "execution_count": null,
   "id": "d7cae7d4-cfdf-4706-a358-f4fcefaa68ba",
   "metadata": {},
   "outputs": [],
   "source": [
    "annoCols<-list(GeneGroup=c(GeneGroup_0=\"#1B9E77\",\n",
    "                           GeneGroup_1=\"#D95F02\",\n",
    "                           GeneGroup_2=\"#7570B3\",\n",
    "                           GeneGroup_3=\"#E7298A\", \n",
    "                           GeneGroup_4=\"#66A61E\", \n",
    "                           GeneGroup_5=\"#E6AB02\", \n",
    "                           GeneGroup_6=\"#A6761D\", \n",
    "                           GeneGroup_7=\"#666666\"),\n",
    "                 GuideGroup=c(K0=\"#1f77b4\", \n",
    "                              K1=\"#ff7f0e\", \n",
    "                              K2=\"#279e68\", \n",
    "                              K3=\"#d62728\", \n",
    "                              K4=\"#aa40fc\",\n",
    "                              K5=\"#8c564b\"))\n"
   ]
  },
  {
   "cell_type": "code",
   "execution_count": null,
   "id": "01c392e4-0c00-40d9-996b-13d2c7fe276b",
   "metadata": {},
   "outputs": [],
   "source": [
    "realE3s = as.data.frame(read.csv(file.path(projectDir,\"ManuscriptFigures\",\n",
    "                                           \"220610_regulators_metadata_E3_Complex.csv\")),\n",
    "                             stringsAsFactors = FALSE)\n",
    "e3s = unique(realE3s$Symbol_guides)\n",
    "e3s = e3s[e3s != '']\n",
    "length(e3s)"
   ]
  },
  {
   "cell_type": "code",
   "execution_count": null,
   "id": "e8c2aaea-0bbe-41b7-a750-7030173eff08",
   "metadata": {},
   "outputs": [],
   "source": [
    "koModules = read.csv(\"./../TextFiles/ME_GuideModules_leiden_6_Modules.csv\", row.names = 1)\n",
    "geneModules = read.csv(\"./../TextFiles/ME_GeneModules_leiden_11_Modules.csv\", row.names = 1)\n",
    "allConsideredGenes = unique(c(koModules$GuideName, geneModules$GeneName))\n",
    "length(allConsideredGenes)"
   ]
  },
  {
   "cell_type": "code",
   "execution_count": null,
   "id": "2ae32ec8-f974-4aed-a375-7b9b6c6f72bf",
   "metadata": {
    "tags": []
   },
   "outputs": [],
   "source": [
    "proInf = read.csv(\"./../PositiveControls/10090.protein.aliases.v11.5.txt\", sep=\"\\t\")\n",
    "proInf = unique(proInf[proInf$alias %in% allConsideredGenes,c(\"X.string_protein_id\", \"alias\")])\n",
    "colnames(proInf) = c(\"ProID\", \"GeneName\")\n",
    "dim(proInf)"
   ]
  },
  {
   "cell_type": "code",
   "execution_count": null,
   "id": "9f6b85f4-7aca-4d29-bc91-c14e9092ec1c",
   "metadata": {},
   "outputs": [],
   "source": [
    "allInteractions = read.csv(\"./../PositiveControls/10090.protein.links.detailed.txt\", sep = \" \")\n",
    "allInteractions = allInteractions[allInteractions$protein1 %in% proInf$ProID,]\n",
    "allInteractions = allInteractions[allInteractions$protein2 %in% proInf$ProID,]\n",
    "write.csv(allInteractions, \"./../TextFiles/10090.protein.links.detailed_ourGenes.txt\", row.names=FALSE)\n",
    "\n",
    "\n",
    "allInteractions = read.csv(\"./../TextFiles/10090.protein.links.detailed_ourGenes.txt\")\n",
    "proInf_1 = copy(proInf)\n",
    "\n",
    "allInteractions$ProID = allInteractions$protein1\n",
    "colnames(proInf_1) = c(\"ProID\", \"GeneName_1\")\n",
    "allInteractions = merge(allInteractions, proInf_1, by=\"ProID\")\n",
    "\n",
    "\n",
    "allInteractions$ProID = allInteractions$protein2\n",
    "colnames(proInf_1) = c(\"ProID\", \"GeneName_2\")\n",
    "\n",
    "allInteractions = merge(allInteractions, proInf_1, by=\"ProID\")\n",
    "allInteractions = allInteractions[allInteractions$experimental != 0,]\n",
    "allInteractions = allInteractions[,c(\"GeneName_1\", \"GeneName_2\", \"experimental\", \n",
    "                                     \"neighborhood\", \"fusion\", \"cooccurence\", \n",
    "                                    \"coexpression\", \"database\", \"textmining\",\n",
    "                                    \"combined_score\")]\n",
    "\n",
    "allInteractions$GenePair = apply(allInteractions, 1, function(x){ paste0(sort( c(x[[\"GeneName_1\"]], x[[\"GeneName_2\"]])), \n",
    "                                                                         collapse = \"_\" )})\n",
    "\n",
    "allInteractions = unique(allInteractions[,c(\"GenePair\", \"experimental\", \n",
    "                                     \"neighborhood\", \"fusion\", \"cooccurence\", \n",
    "                                    \"coexpression\", \"database\", \"textmining\",\n",
    "                                    \"combined_score\")])\n",
    "\n",
    "allInteractions$GeneName_1 = sapply(allInteractions$GenePair, function(x){strsplit(x,\"_\")[[1]][1]})\n",
    "allInteractions$GeneName_2 = sapply(allInteractions$GenePair, function(x){strsplit(x,\"_\")[[1]][2]})\n",
    "\n",
    "allInteractions = allInteractions[,c(\"GeneName_1\", \"GeneName_2\", \"experimental\", \n",
    "                                     \"neighborhood\", \"fusion\", \"cooccurence\", \n",
    "                                    \"coexpression\", \"database\", \"textmining\",\n",
    "                                    \"combined_score\", \"GenePair\")]\n"
   ]
  },
  {
   "cell_type": "code",
   "execution_count": null,
   "id": "fbffb0c8-f9d3-44e9-8ebd-f4426f34d29c",
   "metadata": {},
   "outputs": [],
   "source": [
    "#write.csv(allInteractions, \"./../TextFiles/STRING_Interactions.csv\", row.names=FALSE)"
   ]
  },
  {
   "cell_type": "code",
   "execution_count": null,
   "id": "f3274a54-6fc1-48e3-843f-ba65d323ec46",
   "metadata": {},
   "outputs": [],
   "source": [
    "allInteractions_KOs = allInteractions[allInteractions$GeneName_1 %in% koModules$GuideName,]\n",
    "allInteractions_KOs = allInteractions_KOs[allInteractions_KOs$GeneName_2 %in% koModules$GuideName,]"
   ]
  },
  {
   "cell_type": "code",
   "execution_count": null,
   "id": "ae4c730e-f730-4214-b40f-a6469a3ee5a8",
   "metadata": {},
   "outputs": [],
   "source": [
    "allInteractions_E3s = allInteractions[allInteractions$GeneName_1 %in% e3s,]\n",
    "allInteractions_E3s = allInteractions_E3s[allInteractions_E3s$GeneName_2 %in% e3s,]"
   ]
  },
  {
   "cell_type": "code",
   "execution_count": null,
   "id": "720a0d23-c89d-49ee-88b0-d6be1c5da5f6",
   "metadata": {},
   "outputs": [],
   "source": [
    "coefsAll = read.csv(\"./../MixedEffectLMOutputs/ME_SignificantBetaCoefs.csv\", row.names = 1)\n",
    "rownames(coefsAll) = sapply(rownames(coefsAll), function(x){strsplit(x,\"_\")[[1]][2]})\n",
    "myCorr = rcorr(t(coefsAll), type=\"pearson\")\n",
    "\n",
    "myCovar = data.frame(myCorr$r)\n",
    "myCovar_Pvals = data.frame(myCorr$P)\n",
    "\n",
    "myCovar[myCovar_Pvals > 0.05] = 0"
   ]
  },
  {
   "cell_type": "code",
   "execution_count": null,
   "id": "2b60b639-8796-4eb3-8e09-3e38f1bc681c",
   "metadata": {},
   "outputs": [],
   "source": [
    "getInteractionGraph <- function(IntGraph, myCovar, koModules){\n",
    "    \n",
    "    for(i in 1:nrow(IntGraph)){\n",
    "    \n",
    "        IntGraph[i,\"CorValue\"] = myCovar[IntGraph[i,\"GeneName_1\"], IntGraph[i,\"GeneName_2\"]]\n",
    "    }\n",
    "    \n",
    "    \n",
    "    koModulesSelected = koModules[koModules$GuideName %in% unique(c(IntGraph$GeneName_1, IntGraph$GeneName_2)),]\n",
    "    \n",
    "    \n",
    "    \n",
    "    km1 = copy(koModulesSelected)\n",
    "    colnames(km1) = c(\"GuideName\", \"GuideGroup_gene1\", \"GuideColor_gene1\")\n",
    "\n",
    "    IntGraph$GuideName = IntGraph$GeneName_1\n",
    "    IntGraph = merge(IntGraph,km1, by=\"GuideName\")\n",
    "    \n",
    "    \n",
    "    km2 = copy(koModulesSelected)\n",
    "    colnames(km2) = c(\"GuideName\", \"GuideGroup_gene2\", \"GuideColor_gene2\")\n",
    "    \n",
    "    IntGraph$GuideName = IntGraph$GeneName_2\n",
    "    IntGraph = merge(IntGraph,km2, by=\"GuideName\")\n",
    "\n",
    "    g2 <- graph.data.frame(IntGraph[,c(\"GeneName_1\",\"GeneName_2\")],\n",
    "                           vertices=koModulesSelected,\n",
    "                           directed=FALSE)\n",
    "    \n",
    "    return(list(myGr = g2, IntGraph=IntGraph))\n",
    "\n",
    "}"
   ]
  },
  {
   "cell_type": "code",
   "execution_count": null,
   "id": "7b539f77-288c-492b-8fe1-1811269ef890",
   "metadata": {},
   "outputs": [],
   "source": [
    "# GroupByVertex01 = function(Groups, spacing = 5) {\n",
    "#          Position = (order(Groups) + spacing*Groups)\n",
    "#          Angle    = Position * 2 * pi / max(Position)\n",
    "#          matrix(c(cos(Angle), sin(Angle)), ncol=2)\n",
    "# }\n",
    "\n",
    "# GroupByVertex02 = function(Groups) {\n",
    "#          numGroups = length(unique(Groups))\n",
    "#          GAngle    = (1:numGroups) * 2 * pi / numGroups\n",
    "#          Centers   = matrix(c(cos(GAngle), sin(GAngle)), ncol=2)\n",
    "#          x = y = c()\n",
    "#          for(i in 1:numGroups) {\n",
    "#                  curGroup = which(Groups == unique(Groups)[i])\n",
    "#                  VAngle = (1:length(curGroup)) * 2 * pi / length(curGroup)\n",
    "#                  x = c(x, Centers[i,1] + cos(VAngle) / numGroups )\n",
    "#                  y = c(y, Centers[i,2] + sin(VAngle) / numGroups)\n",
    "#          }\n",
    "#          matrix(c(x, y), ncol=2)\n",
    "# }\n"
   ]
  },
  {
   "cell_type": "code",
   "execution_count": null,
   "id": "c3459f39-1bb4-40ee-a2ff-ce186f32ac15",
   "metadata": {},
   "outputs": [],
   "source": [
    "#allInteractions_E3s = allInteractions_E3s[allInteractions_E3s$experimental > 199,]"
   ]
  },
  {
   "cell_type": "code",
   "execution_count": null,
   "id": "097e3b1f-1f72-400d-8e78-5b2207dcc5f7",
   "metadata": {
    "tags": []
   },
   "outputs": [],
   "source": [
    "# res1 = getInteractionGraph(allInteractions_KOs, myCovar, koModules)\n",
    "# res1 = res1$IntGraph\n",
    "#res1$GuideName = NULL\n",
    "#write.csv(res1, \"All_329_KOs.csv\", row.names=FALSE)"
   ]
  },
  {
   "cell_type": "code",
   "execution_count": null,
   "id": "3328a766-6252-48fc-b52b-4aab915ea267",
   "metadata": {},
   "outputs": [],
   "source": [
    "res2 = getInteractionGraph(allInteractions_E3s, myCovar, koModules)\n",
    "res2 = res2$IntGraph\n",
    "res2$GuideName = NULL\n",
    "res2 = res2[which(res2$GeneName_1 != res2$GeneName_2),]\n",
    "write.csv(res2, \"Only_E3s.csv\", row.names=FALSE)"
   ]
  },
  {
   "cell_type": "code",
   "execution_count": null,
   "id": "b14c7cd3-d0ba-4c26-90ca-716d0de3825b",
   "metadata": {},
   "outputs": [],
   "source": [
    "res2 <- read.csv(\"Only_E3s.csv\")\n",
    "head(res2)"
   ]
  },
  {
   "cell_type": "code",
   "execution_count": null,
   "id": "b60c819c-a3d9-48f0-a26c-af39e22eb7bc",
   "metadata": {},
   "outputs": [],
   "source": [
    "res2$CorValueBinary = res2$CorValue\n",
    "res2[res2$CorValue > 0, \"CorValueBinary\"] = 1\n",
    "res2[res2$CorValue < 0, \"CorValueBinary\"] = -1\n",
    "res2[res2$CorValue == 0, \"CorValueBinary\"] = NA\n",
    "\n",
    "res2$GroupPair =  apply(res2,1, function(x){kk = c(x[\"GuideGroup_gene1\"], x[\"GuideGroup_gene2\"])\n",
    "                          paste0(kk[order(kk)], collapse = \"_\")})\n",
    "\n",
    "res2$GroupPair = factor(res2$GroupPair, levels = c('0_0', '0_1', '0_2', '0_3', '0_4', '0_5',\n",
    "                                                  '1_1', '1_2', '1_3', '1_4', '1_5',\n",
    "                                                  '2_2', '2_3', '2_4', '2_5',\n",
    "                                                   '3_3', '3_4', '3_5',\n",
    "                                                  '4_4', '4_5', '5_5'))\n",
    "\n",
    "#res2 = res2[res2$experimental > 199,]\n",
    "head(res2)"
   ]
  },
  {
   "cell_type": "code",
   "execution_count": null,
   "id": "84b88e3c-0762-4dec-9f9a-8bdf68bb0419",
   "metadata": {},
   "outputs": [],
   "source": [
    "uE3s = sort(unique(c(res2$GeneName_1, res2$GeneName_2)))\n",
    "nUniqGenes = length(uE3s)\n",
    "\n",
    "myDF = data.frame(matrix(0, nrow = nUniqGenes, ncol = nUniqGenes))\n",
    "colnames(myDF) = uE3s\n",
    "rownames(myDF) = uE3s\n",
    "for(i in 1:nrow(res2)){\n",
    "    myDF[res2[i,\"GeneName_1\"], res2[i,\"GeneName_2\"]] = res2[i,\"CorValueBinary\"]\n",
    "    myDF[res2[i,\"GeneName_2\"], res2[i,\"GeneName_1\"]] = res2[i,\"CorValueBinary\"]\n",
    "}\n",
    "\n",
    "\n",
    "koModulesE3s = koModules[koModules$GuideName %in% uE3s,]\n",
    "koModulesE3s$GuideGroup = paste0(\"K\",koModulesE3s$GuideGroup)\n",
    "koModulesE3s$GuideGroup = factor(koModulesE3s$GuideGroup, levels=unique(koModulesE3s$GuideGroup))\n",
    "\n"
   ]
  },
  {
   "cell_type": "code",
   "execution_count": null,
   "id": "6adf32a7-6b5a-4bb8-aef1-db9ef2d82bc7",
   "metadata": {},
   "outputs": [],
   "source": [
    "myDF = myDF[koModulesE3s$GuideName, koModulesE3s$GuideName]\n",
    "dim(myDF)"
   ]
  },
  {
   "cell_type": "code",
   "execution_count": null,
   "id": "0c51a884-0ca0-48b5-95f8-b1997cd96a0b",
   "metadata": {},
   "outputs": [],
   "source": [
    "myDF = myDF[koModulesE3s$GuideName, koModulesE3s$GuideName]\n",
    "annotDF = koModulesE3s[rownames(myDF),]\n",
    "annotDF$GuideName = NULL\n",
    "annotDF$GuideColor = NULL\n",
    "\n",
    "\n",
    "options(repr.plot.width=8, repr.plot.height=8)\n",
    "kk = pheatmap(myDF,\n",
    "         annotation_col = annotDF,\n",
    "         annotation_row = annotDF,\n",
    "         annotation_colors = annoCols,\n",
    "         cluster_rows=FALSE,\n",
    "         cluster_cols=FALSE,\n",
    "         clustering_method=\"ward.D2\",\n",
    "         clustering_distance_rows=\"euclidean\",\n",
    "               treeheight_row=0,\n",
    "               treeheight_col=0,\n",
    "              colorRampPalette(c(\"blue\", \"white\", \"red\"))(100),\n",
    "              fontsize=4,\n",
    "              na_col=\"darkgrey\")\n",
    " \n",
    "#save_pheatmap_pdf(kk, \"S_4F.pdf\", width=14, height=12)\n"
   ]
  },
  {
   "cell_type": "code",
   "execution_count": null,
   "id": "e3f996cd-2b4e-4f3e-b822-7c94f697cc6f",
   "metadata": {
    "tags": []
   },
   "outputs": [],
   "source": [
    "mm <- sapply(myDF, function(x){length(x[which(x == 0)])})\n",
    "#hist(kk, breaks=100)\n",
    "\n",
    "selGenes = names(mm[mm < 141])\n",
    "myDF_selected = myDF[selGenes, selGenes]\n",
    "\n",
    "annotDF = koModulesE3s[rownames(myDF_selected),]\n",
    "annotDF$GuideName = NULL\n",
    "annotDF$GuideColor = NULL\n",
    "\n",
    "\n",
    "options(repr.plot.width=14, repr.plot.height=12)\n",
    "kk = pheatmap(myDF_selected,\n",
    "         annotation_col = annotDF,\n",
    "         annotation_row = annotDF,\n",
    "         annotation_colors = annoCols,\n",
    "         clustering_method=\"ward.D2\",\n",
    "         treeheight_row=0,\n",
    "         treeheight_col=0,\n",
    "         clustering_distance_rows=\"euclidean\",colorRampPalette(c(\"blue\", \"white\", \"red\"))(100), na_col=\"darkgrey\")\n",
    "\n",
    "#save_pheatmap_pdf(kk, \"Figure_3C.pdf\", width=14, height=12)"
   ]
  },
  {
   "cell_type": "code",
   "execution_count": null,
   "id": "735055da-316b-46c2-8e41-6adfd027b07b",
   "metadata": {
    "tags": []
   },
   "outputs": [],
   "source": [
    "adjOrj = copy(myDF)\n",
    "rownames(adjOrj) = paste0(rownames(adjOrj), \"_\",koModulesE3s[rownames(adjOrj),\"GuideGroup\"])\n",
    "colnames(adjOrj) = paste0(colnames(adjOrj), \"_\",koModulesE3s[colnames(adjOrj),\"GuideGroup\"])\n",
    "adjOrj[adjOrj != 0 | is.na(adjOrj)] = 1\n",
    "\n",
    "adjOrjTmp = copy(adjOrj)\n",
    "adjOrjTmp$Gene = rownames(adjOrjTmp)\n",
    "adjOrjTmp = melt(adjOrjTmp, id.vars = \"Gene\")\n",
    "adjOrjTmp$Group1 = sapply(adjOrjTmp$Gene, function(x){strsplit(as.character(x),\"_\")[[1]][2]})\n",
    "adjOrjTmp$Group2 = sapply(adjOrjTmp$variable, function(x){strsplit(as.character(x),\"_\")[[1]][2]})\n",
    "adjOrjTmp$GroupPair =  apply(adjOrjTmp,1, function(x){kk = c(x[\"Group1\"], x[\"Group2\"])\n",
    "                          paste0(kk[order(kk)], collapse = \"_\")})\n",
    "\n",
    "adjOrjTmp <- adjOrjTmp[adjOrjTmp$value == 1,]\n",
    "observedInterFreq = data.frame(table(adjOrjTmp$GroupPair))\n",
    "observedInterFreq"
   ]
  },
  {
   "cell_type": "code",
   "execution_count": null,
   "id": "15eac8f3-c9a0-4dc6-958e-88ae5fd19571",
   "metadata": {},
   "outputs": [],
   "source": [
    "observedInterFreq$G1 = sapply(observedInterFreq$Var1, function(x){strsplit(as.character(x),\"_\")[[1]][1]})\n",
    "observedInterFreq$G2 = sapply(observedInterFreq$Var1, function(x){strsplit(as.character(x),\"_\")[[1]][2]})\n",
    "head(observedInterFreq)"
   ]
  },
  {
   "cell_type": "code",
   "execution_count": null,
   "id": "d09843a5-8e1c-43b7-b54c-98e2f8bfa50e",
   "metadata": {
    "tags": []
   },
   "outputs": [],
   "source": [
    "# allSimulatedFreq = data.frame()\n",
    "\n",
    "\n",
    "# for(k in 1:200){\n",
    "#     adjOrjTmp = copy(adjOrj)\n",
    "#     adjOrjTmp = birewire.rewire.undirected(adjOrjTmp) \n",
    "\n",
    "\n",
    "#     adjOrjTmp$Gene = rownames(adjOrjTmp)\n",
    "#     adjOrjTmp = melt(adjOrjTmp, id.vars = \"Gene\")\n",
    "#     adjOrjTmp$Group1 = sapply(adjOrjTmp$Gene, function(x){strsplit(as.character(x),\"_\")[[1]][2]})\n",
    "#     adjOrjTmp$Group2 = sapply(adjOrjTmp$variable, function(x){strsplit(as.character(x),\"_\")[[1]][2]})\n",
    "#     adjOrjTmp$GroupPair =  apply(adjOrjTmp,1, function(x){kk = c(x[\"Group1\"], x[\"Group2\"])\n",
    "#                               paste0(kk[order(kk)], collapse = \"_\")})\n",
    "\n",
    "#     adjOrjTmp <- adjOrjTmp[adjOrjTmp$value == 1,]\n",
    "#     simulatedInterFreq = data.frame(table(adjOrjTmp$GroupPair))\n",
    "#     allSimulatedFreq = rbind(allSimulatedFreq, simulatedInterFreq)\n",
    "# }\n",
    "# #saveRDS(allSimulatedFreq, \"allSimulatedFreq_200Thresh.rds\")"
   ]
  },
  {
   "cell_type": "code",
   "execution_count": null,
   "id": "cd52cda1-e2be-4eb8-bfac-497107dce023",
   "metadata": {
    "tags": []
   },
   "outputs": [],
   "source": [
    "allSimulatedFreq = readRDS(\"allSimulatedFreq.rds\")\n",
    "#allSimulatedFreq = readRDS(\"allSimulatedFreq_200Thresh.rds\")\n",
    "allSgnMatrix = data.frame(matrix(NA, 6, 6))\n",
    "allGroups = c(\"K0\", \"K1\", \"K2\", \"K3\", \"K4\", \"K5\")\n",
    "colnames(allSgnMatrix) = allGroups\n",
    "rownames(allSgnMatrix) = allGroups\n",
    "\n",
    "for(i in 1:nrow(observedInterFreq)){\n",
    "    mObs = observedInterFreq[i,\"Freq\"]\n",
    "    \n",
    "    print(i)\n",
    "    simFreq = allSimulatedFreq[as.character(allSimulatedFreq$Var1) ==  as.character(observedInterFreq[i,\"Var1\"]), \"Freq\"]\n",
    "    \n",
    "    allSgnMatrix[observedInterFreq[i,\"G1\"],observedInterFreq[i,\"G2\"]] = length(simFreq[simFreq>mObs]) / length(simFreq)\n",
    "    \n",
    "}\n",
    "\n",
    "allSgnMatrix"
   ]
  },
  {
   "cell_type": "code",
   "execution_count": null,
   "id": "2a9ea4f3-51f9-4a83-aee4-61f4f19e8ec0",
   "metadata": {},
   "outputs": [],
   "source": [
    "numberOfInteractions = sapply(myDF, function(x){164 - length(x[which(x == 0)])})\n",
    "numberOfPositiveInteractions = sapply(myDF, function(x){length(x[which(x > 0)])})\n",
    "numberOfNegativeInteractions = sapply(myDF, function(x){length(x[which(x < 0)])})\n",
    "numberOfUncorrelationgInteractions = sapply(myDF, function(x){length(x[which(is.na(x))])})\n",
    "\n",
    "observedInteractionCor = data.frame(numberOfInteractions = numberOfInteractions,\n",
    "    ObservedPositiveInteractions = numberOfPositiveInteractions,\n",
    "    ObservedNegativeInteractions = numberOfNegativeInteractions,\n",
    "    numberOfUncorrelationgInteractions = numberOfUncorrelationgInteractions)\n",
    "head(observedInteractionCor)"
   ]
  },
  {
   "cell_type": "code",
   "execution_count": null,
   "id": "3a0e1046-079e-426b-bd1b-81eefaa4194e",
   "metadata": {},
   "outputs": [],
   "source": [
    "obsInt = melt(observedInteractionCor[,c(\"ObservedPositiveInteractions\", \"ObservedNegativeInteractions\")])\n",
    "obsInt$Direction = \"Positive_Correlations\"\n",
    "obsInt[obsInt$variable == \"ObservedNegativeInteractions\", \"Direction\"] = \"Negative_Correlations\"\n",
    "obsInt$type = \"Observed\"\n",
    "head(obsInt)"
   ]
  },
  {
   "cell_type": "code",
   "execution_count": null,
   "id": "c878902e-a21c-4d64-8faa-dde0d41d8b4d",
   "metadata": {
    "tags": []
   },
   "outputs": [],
   "source": [
    "myCovarTmp = myCovar[rownames(myDF), colnames(myDF)]\n",
    "myCovarTmp[myCovarTmp > 0] = 1\n",
    "myCovarTmp[myCovarTmp < 0] = -1"
   ]
  },
  {
   "cell_type": "code",
   "execution_count": null,
   "id": "01bfe1ae-916a-4f74-ba72-02938d4fa51d",
   "metadata": {
    "tags": []
   },
   "outputs": [],
   "source": [
    "allSampledInter = data.frame()\n",
    "\n",
    "for(i in 1:100){\n",
    "    adjCor = copy(myDF)\n",
    "    adjCor[adjCor != 0 | is.na(adjCor)] = 1\n",
    "    adjOrjTmp = birewire.rewire.undirected(adjCor)\n",
    "    adjOrjTmp[adjOrjTmp == 0] = NA\n",
    "    sampledInter = myCovarTmp * adjOrjTmp\n",
    "    \n",
    "    numberOfInteractions = sapply(sampledInter, \n",
    "                                  function(x){164 - length(x[which(is.na(x))])})\n",
    "    sampledInterPositiveInteractions = sapply(sampledInter, \n",
    "                                              function(x){length(x[which(x > 0)])})\n",
    "    sampledInterNegativeInteractions = sapply(sampledInter, \n",
    "                                              function(x){length(x[which(x < 0)])})\n",
    "    numberOfUncorrelationgInteractions = sapply(sampledInter, \n",
    "                                                function(x){length(x[which(x == 0)])})\n",
    "\n",
    "    sampledInteractionCor = data.frame(numberOfInteractions = numberOfInteractions,\n",
    "        sampledPositiveInteractions = numberOfPositiveInteractions,\n",
    "        sampledNegativeInteractions = numberOfNegativeInteractions,\n",
    "        numberOfUncorrelationgInteractions = numberOfUncorrelationgInteractions)\n",
    "    \n",
    "    allSampledInter = rbind(allSampledInter, sampledInteractionCor)\n",
    "}"
   ]
  },
  {
   "cell_type": "code",
   "execution_count": null,
   "id": "7082c9a5-1257-43c2-bc18-0f14afd9d589",
   "metadata": {
    "tags": []
   },
   "outputs": [],
   "source": [
    "sampInt = melt(allSampledInter[,c(\"sampledPositiveInteractions\", \"sampledNegativeInteractions\")])\n",
    "sampInt$Direction = \"Positive_Correlations\"\n",
    "sampInt$type = \"Sampled\"\n",
    "sampInt[sampInt$variable == \"sampledNegativeInteractions\", \"Direction\"] = \"Negative_Correlations\"\n",
    "head(sampInt)"
   ]
  },
  {
   "cell_type": "code",
   "execution_count": null,
   "id": "0bf775ae-e68b-4ec0-871f-3e3162fbf11b",
   "metadata": {
    "tags": []
   },
   "outputs": [],
   "source": [
    "allInter = rbind(sampInt, obsInt)"
   ]
  },
  {
   "cell_type": "code",
   "execution_count": null,
   "id": "f5a9c49f-c95a-4fe5-bdef-8688821fd6c0",
   "metadata": {},
   "outputs": [],
   "source": [
    "options(repr.plot.width=6, repr.plot.height=4)\n",
    "\n",
    "cList=list(c(\"Observed\", \"Sampled\"))\n",
    "\n",
    "ggplot(allInter, aes(x = type, y = value, color = type)) +\n",
    "  geom_boxplot()+\n",
    "  facet_wrap(~Direction)+\n",
    "  labs(y = \"Number of significant correlations \") +\n",
    "  theme_minimal()+\n",
    "  stat_compare_means(method = \"wilcox.test\", comparisons = cList)+theme(legend.position=\"None\")+xlab(\"\")"
   ]
  },
  {
   "cell_type": "code",
   "execution_count": null,
   "id": "e3933b09-dc79-4f66-8cf0-812daa956d19",
   "metadata": {},
   "outputs": [],
   "source": [
    "myCovarE3s = myCovar[rownames(myDF), colnames(myDF)]\n",
    "myCovarE3s$genes = rownames(myCovarE3s)\n",
    "myCovarE3s = melt(myCovarE3s)\n",
    "myCovarE3s = myCovarE3s[myCovarE3s$genes != myCovarE3s$variable,]\n",
    "head(myCovarE3s)\n"
   ]
  },
  {
   "cell_type": "code",
   "execution_count": null,
   "id": "136aee9d-19ca-4587-9b1f-bb29efa299da",
   "metadata": {},
   "outputs": [],
   "source": [
    "set.seed(6)\n",
    "for( i in rownames(observedInteractionCor)){\n",
    "    numInter_i = observedInteractionCor[i,\"numberOfInteractions\"]\n",
    "    myCovarE3s_i = myCovarE3s[myCovarE3s$variable ==i,]\n",
    "\n",
    "    sampledCor = myCovarE3s_i[sample(nrow(myCovarE3s_i), numInter_i),\"value\"]\n",
    "    observedInteractionCor[i,\"SampledPositiveInteractions\"] = length(which(sampledCor > 0))\n",
    "    observedInteractionCor[i,\"SampledNegativeInteractions\"] = length(which(sampledCor < 0))\n",
    "    observedInteractionCor[i,\"SampledNotSignInter\"] = length(which(sampledCor == 0))\n",
    "}\n",
    "\n",
    "observedInteractionCor$ObservedCorrelatingInteractions = observedInteractionCor$ObservedPositiveInteractions + observedInteractionCor$ObservedNegativeInteractions\n",
    "observedInteractionCor$SampledCorrelatingInteractions = observedInteractionCor$SampledPositiveInteractions + observedInteractionCor$SampledNegativeInteractions\n",
    "\n",
    "observedInteractionCor$gene = rownames(observedInteractionCor)"
   ]
  },
  {
   "cell_type": "code",
   "execution_count": null,
   "id": "0a1bf02f-8123-4bf9-a5d2-caf7258bde2a",
   "metadata": {},
   "outputs": [],
   "source": [
    "head(observedInteractionCor)"
   ]
  },
  {
   "cell_type": "code",
   "execution_count": null,
   "id": "5c73c726-f314-4348-9a53-dc9c5ea5f0bb",
   "metadata": {},
   "outputs": [],
   "source": [
    "xx = observedInteractionCor[,c(\"gene\", \"ObservedCorrelatingInteractions\", \"SampledCorrelatingInteractions\")]\n",
    "colnames(xx) = c(\"gene\",\"Observed Interactions\",  \"Sampled Interactions\" )\n",
    "res = melt(xx, id.vars = \"gene\")\n",
    "\n",
    "\n",
    "options(repr.plot.width=6, repr.plot.height=4)\n",
    "ggpaired(res, x = \"variable\", y = \"value\", id = \"gene\",\n",
    "         color = \"variable\", line.color = \"gray\", line.size = 0.1,\n",
    "         palette = \"jco\") +\n",
    "  labs(y = \"Number of significant correlations \") +\n",
    "  stat_compare_means(method = \"wilcox.test\", paired = TRUE)+theme(legend.position=\"None\")+xlab(\"\")"
   ]
  },
  {
   "cell_type": "code",
   "execution_count": null,
   "id": "2ca6d03d-e307-412b-9635-1a9977b417db",
   "metadata": {},
   "outputs": [],
   "source": [
    "xx = observedInteractionCor[,c(\"gene\", \"ObservedPositiveInteractions\", \"SampledPositiveInteractions\")]\n",
    "colnames(xx) = c(\"gene\",\"Observed Interactions\",  \"Sampled Interactions\" )\n",
    "res = melt(xx, id.vars = \"gene\")\n",
    "\n",
    "options(repr.plot.width=6, repr.plot.height=4)\n",
    "ggpaired(res, x = \"variable\", y = \"value\", id = \"gene\",\n",
    "         color = \"variable\", line.color = \"gray\", line.size = 0.1,\n",
    "         palette = \"jco\") +\n",
    "  labs(y = \"Number of significant positive correlations\") +\n",
    "  stat_compare_means(method = \"wilcox.test\", paired = TRUE)+theme(legend.position=\"None\")+xlab(\"\")"
   ]
  },
  {
   "cell_type": "code",
   "execution_count": null,
   "id": "835e34b0-391c-484c-86e9-9b35fb6110bb",
   "metadata": {},
   "outputs": [],
   "source": [
    "xx = observedInteractionCor[,c(\"gene\", \"ObservedNegativeInteractions\", \"SampledNegativeInteractions\")]\n",
    "colnames(xx) = c(\"gene\",\"Observed Interactions\",  \"Sampled Interactions\" )\n",
    "res = melt(xx, id.vars = \"gene\")\n",
    "\n",
    "\n",
    "options(repr.plot.width=6, repr.plot.height=4)\n",
    "ggpaired(res, x = \"variable\", y = \"value\", id = \"gene\",\n",
    "         color = \"variable\", line.color = \"gray\", line.size = 0.1,\n",
    "         palette = \"jco\") +\n",
    "  labs(y = \"Number of significant negative correlations\") +\n",
    "  stat_compare_means(method = \"wilcox.test\", paired = TRUE)+theme(legend.position=\"None\")+xlab(\"\")"
   ]
  }
 ],
 "metadata": {
  "kernelspec": {
   "display_name": "R",
   "language": "R",
   "name": "ir"
  },
  "language_info": {
   "codemirror_mode": "r",
   "file_extension": ".r",
   "mimetype": "text/x-r-source",
   "name": "R",
   "pygments_lexer": "r",
   "version": "4.2.1"
  }
 },
 "nbformat": 4,
 "nbformat_minor": 5
}
