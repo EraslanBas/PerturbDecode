{
 "cells": [
  {
   "cell_type": "code",
   "execution_count": null,
   "id": "193ad573-989a-42d2-af3d-c0648ee43007",
   "metadata": {
    "tags": []
   },
   "outputs": [],
   "source": [
    "source(\"Main.R\")\n",
    "source(\"Conf.R\")\n",
    "source(\"Utilities.R\")\n",
    "library(\"stringr\")"
   ]
  },
  {
   "cell_type": "code",
   "execution_count": null,
   "id": "32885677-b8e0-4ae3-8181-5f91dc97c805",
   "metadata": {
    "tags": []
   },
   "outputs": [],
   "source": [
    "models= read.csv(paste0(projectDir, \"/TextFiles/ComboKOModels.csv\"))\n",
    "models = models[models$ComboIncluded == 0,]"
   ]
  },
  {
   "cell_type": "code",
   "execution_count": null,
   "id": "820aa9ac-e503-48c2-8794-116c16fc1e3c",
   "metadata": {},
   "outputs": [],
   "source": [
    "combosObserved <- readRDS(paste0(projectDir, \n",
    "                                 \"/Notebooks/CombinatorialPerturbations/RDSFiles/ComboEffects_lm_residuals.rds\"))\n",
    "combosObserved <- combosObserved[combosObserved$term %ni% \n",
    "                                 c(\"(Intercept)\", \"n_genes\", \"mt_frac\", paste0(\"leiden\", 1:9)),]\n",
    "combosObserved[,c(\"std.error\", \"statistic\", \"p.value\")] = NULL\n",
    "combosObserved$term <- sapply(combosObserved$term, \n",
    "                              function(x){str_replace_all(x, \"_\", \"\")})\n",
    "colnames(combosObserved) = c(\"Group\", \"ObservedLogFCEstimate\", \"respGene\")\n",
    "\n",
    "\n",
    "combosInterP <- readRDS(\"./../Notebooks/CombinatorialPerturbations/RDSFiles/ComboEffects_lm_residuals_withInteractions.rds\")\n",
    "combosInterP <- combosInterP[combosInterP$term %ni% \n",
    "                             c(\"(Intercept)\", \n",
    "                               \"n_genes\", \n",
    "                               \"mt_frac\", \n",
    "                               paste0(\"leiden\", 1:9)),]\n",
    "combosInterP = data.table(combosInterP)\n",
    "combosInterP[,FDR:=p.adjust(p.value,\n",
    "                            method = \"fdr\",\n",
    "                            n = length(p.value)),\n",
    "             by=respGene]\n",
    "combosInterP = data.frame(combosInterP)\n",
    "combosInterP$term <- sapply(combosInterP$term, \n",
    "                            function(x){str_replace_all(as.character(x),\"_\",\"\")})\n",
    "combosInterP$term <- sapply(combosInterP$term, \n",
    "                            function(x){str_replace_all(as.character(x),\":\",\"W\")})\n",
    "combosInterP <- combosInterP[,c(\"term\", \"FDR\", \"respGene\")]\n",
    "colnames(combosInterP) = c(\"Group\", \"FDRInteraction\", \"respGene\")\n",
    "\n"
   ]
  },
  {
   "cell_type": "code",
   "execution_count": null,
   "id": "4efe32b6-f596-4cc5-9a67-0f0e0f9db597",
   "metadata": {
    "tags": []
   },
   "outputs": [],
   "source": [
    "options(repr.plot.width=12, repr.plot.height=12)\n",
    "allR2s = data.frame()\n",
    "allSgnR2s = data.frame()\n",
    "\n",
    "for( i in 1:nrow(models)){\n",
    "\n",
    "        allResDF = read.csv(paste0(projectDir, \"/Notebooks/CombinatorialPerturbations/outputs/\", \n",
    "                                   models[i,\"SubFolder\"], \n",
    "                                   \"/\",models[i,\"Model_Name\"],\n",
    "                                   \"/PredictedFC_Coef.csv\"))\n",
    "\n",
    "\n",
    "        allResDF = allResDF[allResDF$X != \"intercept\",]\n",
    "        allResDF = melt(allResDF)\n",
    "        colnames(allResDF) = c(\"Group\",\"respGene\",\"PredictedLogFCEstimate\")\n",
    "        allResDF$Group = sapply(allResDF$Group, function(x){strsplit(x, \"perturb_\")[[1]][2]})\n",
    "        allResDF$Group = sapply(allResDF$Group, function(x){str_replace(x, \"_\", \"W\")})\n",
    "        allResDF$alpha = models[i,\"Alpha\"]\n",
    "\n",
    "\n",
    "        allRes = merge(combosObserved, allResDF , by=c(\"Group\", \"respGene\"))\n",
    "        allRes = data.table(allRes)\n",
    "        allRes[,R2:=round(computeR2(response = ObservedLogFCEstimate, \n",
    "                                    prediction = PredictedLogFCEstimate), digits=2),\n",
    "               by=Group]\n",
    "        allRes[,MAE:=round(mean(abs(PredictedLogFCEstimate - ObservedLogFCEstimate )), \n",
    "                           digits=3),\n",
    "               by=Group]\n",
    "        allRes = data.frame(allRes)\n",
    "\n",
    "\n",
    "        allRes$Group1 = sapply(allRes$Group, function(x){return(strsplit(as.character(x),\"W\")[[1]][1]) })\n",
    "        allRes$Group2 = sapply(allRes$Group, function(x){return(strsplit(as.character(x),\"W\")[[1]][2]) })\n",
    "        allRes$ObsPredDif = allRes$ObservedLogFCEstimate - allRes$PredictedLogFCEstimate\n",
    "        #allRes$AbsObsPredDif = abs(allRes$ObservedLogFCEstimate - allRes$PredictedLogFCEstimate)\n",
    "        allRes$GroupGene = paste0(allRes$Group,\"_\",allRes$respGene)\n",
    "        allRes[is.na(allRes$Group2),\"Group2\"] = allRes[is.na(allRes$Group2),\"Group1\"]\n",
    "\n",
    "        myTmp = unique(allRes[,c(\"R2\",\"MAE\",\"Group1\",\"Group2\",\"alpha\")])\n",
    "        myTmp$Model = models[i,\"Model_Name\"]\n",
    "\n",
    "    \n",
    "        allR2s = rbind(allR2s, myTmp)\n",
    "\n",
    "        # options(repr.plot.width=10, repr.plot.height=10)\n",
    "        # print(ggplot(allRes, aes(x=PredictedLogFCEstimate, y=ObservedLogFCEstimate)) + \n",
    "        #     geom_point(alpha=0.4, shape=20, color=\"blue\") + \n",
    "        #     facet_grid(Group1 ~ Group2)+\n",
    "        #     geom_text(aes(label= paste0(\"R^2 = \",R2), color=\"red\"), x=0, y=-0.3, size=5)+\n",
    "        #     geom_text(aes(label= paste0(\"MAE = \",MAE), color=\"red\"), x=0, y=-0.5, size=5)+\n",
    "        #     geom_abline(linetype=\"dashed\")+\n",
    "        #     theme_minimal()+\n",
    "        #     theme(axis.text = element_text(size = 15),\n",
    "        #           axis.title = element_text(size = 25),\n",
    "        #           strip.text = element_text(size = 25), legend.position='none')+\n",
    "        #     xlim(-0.6,0.6)+ylim(-0.6,0.6)+\n",
    "        #     ylab(\"Observed fold change wrt control (lg2)\")+\n",
    "        #     xlab(\"Predicted fold change wrt control (lg2)\")+ggtitle(models[i,\"Model_Name\"]))\n",
    "\n",
    "\n",
    "\n",
    "        geneDE = allRes[allRes$Group %ni% c(\"K0\", \"K1\", \"K2\", \"K3\", \"K4\", \"K5\"),]\n",
    "        geneDE = geneDE[geneDE$FDRInteraction < 0.1,]\n",
    "        geneDE = data.table(geneDE)\n",
    "\n",
    "        geneDE[,SignR2 := computeR2(response = ObservedLogFCEstimate, \n",
    "                                    prediction = PredictedLogFCEstimate),\n",
    "               by=Group]\n",
    "        geneDE[,SignMAE:=round(mean(abs(PredictedLogFCEstimate - ObservedLogFCEstimate )), digits=3),by=Group]\n",
    "\n",
    "        myTmp2 = unique(geneDE[,c(\"SignR2\",\"SignMAE\",\"Group1\",\"Group2\",\"alpha\")])\n",
    "        myTmp2$Model = models[i,\"Model_Name\"]\n",
    "\n",
    "\n",
    "        allSgnR2s = rbind(allSgnR2s, myTmp2)\n",
    "\n",
    "#         options(repr.plot.width=10, repr.plot.height=10)\n",
    "#         print(ggplot(geneDE, aes(x=PredictedLogFCEstimate, y=ObservedLogFCEstimate)) + \n",
    "#         geom_point(alpha=0.4, shape=20, color=\"blue\") + \n",
    "#         facet_grid(Group1 ~ Group2)+\n",
    "#         geom_text(aes(label= paste0(\"MAE = \",SignMAE), color=\"red\"), x=0, y=-0.3, size=7)+\n",
    "#         geom_abline(linetype=\"dashed\")+\n",
    "#         theme_minimal()+\n",
    "#         theme(axis.text = element_text(size = 15),\n",
    "#               axis.title = element_text(size = 25),\n",
    "#               strip.text = element_text(size = 25), legend.position='none')+\n",
    "#         geom_vline(xintercept = 0, linetype=\"dashed\", color=\"red\")+\n",
    "#         geom_hline(yintercept = 0, linetype=\"dashed\", color=\"red\")+\n",
    "#         xlim(-0.4,0.4)+ylim(-0.4,0.4)+\n",
    "#         ylab(\"Observed fold change wrt control (lg2)\")+\n",
    "#         xlab(\"Predicted fold change wrt control (lg2)\")+ggtitle(model))    \n",
    "    \n",
    "}\n",
    "\n"
   ]
  },
  {
   "cell_type": "code",
   "execution_count": null,
   "id": "d423d2e4-575e-4756-97f4-bc40b788ac2f",
   "metadata": {},
   "outputs": [],
   "source": [
    "allR2s$Group = paste0(allR2s$Group1,\"_\",allR2s$Group2)"
   ]
  },
  {
   "cell_type": "code",
   "execution_count": null,
   "id": "59c358dc-6216-40a0-9502-a7ec903adc39",
   "metadata": {},
   "outputs": [],
   "source": [
    "options(repr.plot.width=60, repr.plot.height=10)\n",
    "\n",
    "#pdf(\"./../SupplementaryFigures/S_7D.pdf\", width = 60, height = 10)\n",
    "ggplot(data=allMyR2sSelected_1, aes(x=alphaFactor, y=R2, group=alphaFactor, fill=alphaFactor)) +\n",
    "  facet_wrap(~Group, scales=\"free\", nrow = 1)+\n",
    "  geom_boxplot()+\n",
    "  theme_bw()+theme(axis.text.x = element_text(size = 15, angle=90),\n",
    "                   axis.text.y = element_text(size = 25),\n",
    "                   axis.title = element_text(size = 25),\n",
    "                   strip.text=element_text(size = 25),\n",
    "                   legend.position=\"none\")+ylab(\"Explained variance in gene fold change (R^2)\")+\n",
    "                   xlab(\"KL loss weight\")\n",
    "\n",
    "#dev.off()"
   ]
  },
  {
   "cell_type": "code",
   "execution_count": null,
   "id": "ff79b66c-34fe-4746-a9ec-5ebc939a89e4",
   "metadata": {},
   "outputs": [],
   "source": [
    "allMyR2sSelected = allR2s[allR2s$Group %in% c(\"K0_K0\", \n",
    "                                              \"K0_K1\",\n",
    "                                              \"K0_K2\",\n",
    "                                              \"K1_K1\", \n",
    "                                              \"K1_K2\",\n",
    "                                              \"K1_K3\", \n",
    "                                              \"K2_K2\", \n",
    "                                              \"K2_K3\", \n",
    "                                              \"K2_K4\"),]"
   ]
  },
  {
   "cell_type": "code",
   "execution_count": null,
   "id": "39e9d77d-93bf-411b-90d3-8e23a08cba5e",
   "metadata": {},
   "outputs": [],
   "source": [
    "# options(repr.plot.width=25, repr.plot.height=15)\n",
    "\n",
    "# pdf(\"./../Figure_5D.pdf\", width=20, height=15)\n",
    "# ggplot(data=allMyR2sSelected, aes(x=alphaFactor, y=R2, group=alphaFactor, fill=alphaFactor)) +\n",
    "#   facet_wrap(~Group, scales=\"free\", ncol = 3)+\n",
    "#   geom_boxplot()+\n",
    "#   theme_bw()+theme(axis.text.x = element_text(size = 15, angle=90),\n",
    "#                    axis.text.y = element_text(size = 25),\n",
    "#                    axis.title = element_text(size = 25),\n",
    "#                    strip.text=element_text(size = 25),\n",
    "#                    legend.position=\"none\")+ylab(\"Explained variance in gene fold change (R^2)\")+\n",
    "#                    xlab(\"KL loss weight\")\n",
    "\n",
    "# dev.off()"
   ]
  },
  {
   "cell_type": "code",
   "execution_count": null,
   "id": "3dd602f5-79dc-45c6-9950-a686825ff0b1",
   "metadata": {},
   "outputs": [],
   "source": [
    "allSgnR2s$Group = paste0(allSgnR2s$Group1,\"_\",allSgnR2s$Group2)"
   ]
  },
  {
   "cell_type": "code",
   "execution_count": null,
   "id": "6bf5a0d5-6935-4a7d-a8f2-cefde7694763",
   "metadata": {},
   "outputs": [],
   "source": [
    "allSgnR2s_1 = allSgnR2s_1[allSgnR2s_1$Group %in% c(\"K0_K1\", \"K0_K2\", \"K1_K2\", \"K1_K3\", \"K2_K3\", \"K2_K4\", \"K3_K4\"),]"
   ]
  },
  {
   "cell_type": "code",
   "execution_count": null,
   "id": "00824471-342f-42eb-aaab-d738dfb44e8b",
   "metadata": {},
   "outputs": [],
   "source": [
    "options(repr.plot.width=50, repr.plot.height=10)\n",
    "\n",
    "pdf(\"./../SupplementaryFigures/S_7E.pdf\", width = 50, height = 10)\n",
    "ggplot(data=allSgnR2s_1, aes(x=alphaFactor, y=SignMAE, group=alphaFactor, fill=alphaFactor)) +\n",
    "  facet_wrap(~Group, scales=\"free\", nrow = 1)+\n",
    "  geom_boxplot()+\n",
    "  theme_bw()+theme(axis.text.x = element_text(size = 15, angle=90),\n",
    "                   axis.text.y = element_text(size = 25),\n",
    "                   axis.title = element_text(size = 25),\n",
    "                   strip.text=element_text(size = 25),\n",
    "                   legend.position=\"none\")+ylab(\"Mean absolute error of the \\n logFC predictions of the genes with significant interactions\")+\n",
    "                   xlab(\"KL loss weight\")\n",
    "\n",
    "dev.off()"
   ]
  },
  {
   "cell_type": "code",
   "execution_count": null,
   "id": "a2432bfe-5509-4d57-8175-39e3d5f81350",
   "metadata": {},
   "outputs": [],
   "source": []
  }
 ],
 "metadata": {
  "kernelspec": {
   "display_name": "R",
   "language": "R",
   "name": "ir"
  },
  "language_info": {
   "codemirror_mode": "r",
   "file_extension": ".r",
   "mimetype": "text/x-r-source",
   "name": "R",
   "pygments_lexer": "r",
   "version": "4.2.1"
  }
 },
 "nbformat": 4,
 "nbformat_minor": 5
}
