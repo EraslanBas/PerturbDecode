{
 "cells": [
  {
   "cell_type": "markdown",
   "metadata": {},
   "source": [
    "# Figure 1-I"
   ]
  },
  {
   "cell_type": "code",
   "execution_count": null,
   "metadata": {
    "papermill": {
     "duration": 2.497662,
     "end_time": "2020-02-03T11:16:52.810525",
     "exception": false,
     "start_time": "2020-02-03T11:16:50.312863",
     "status": "completed"
    },
    "tags": []
   },
   "outputs": [],
   "source": [
    "from libraries import *\n",
    "from parameters import *\n"
   ]
  },
  {
   "cell_type": "code",
   "execution_count": null,
   "metadata": {},
   "outputs": [],
   "source": [
    "os.getcwd()\n",
    "os.chdir(projectDir)"
   ]
  },
  {
   "cell_type": "code",
   "execution_count": null,
   "metadata": {},
   "outputs": [],
   "source": [
    "%load_ext rpy2.ipython"
   ]
  },
  {
   "cell_type": "code",
   "execution_count": null,
   "metadata": {},
   "outputs": [],
   "source": [
    "adata = sc.read(par_save_filename_8)"
   ]
  },
  {
   "cell_type": "code",
   "execution_count": null,
   "metadata": {},
   "outputs": [],
   "source": [
    "# results = sc.get.rank_genes_groups_df(adata, group = None)\n",
    "# results = results.loc[results.pvals_adj < 0.05,]\n",
    "# results = results.loc[results.logfoldchanges > 0.6,]\n",
    "# k = results.groupby('group').head(100)\n",
    "# k.to_csv(\"/home/beraslan/jovian-work/analysisSingle/Leiden_top100Markers.csv\", index=False)"
   ]
  },
  {
   "cell_type": "code",
   "execution_count": null,
   "metadata": {
    "tags": []
   },
   "outputs": [],
   "source": [
    "adata.obs[\"subCellType\"] = \"DC2\"\n",
    "adata.obs.loc[adata.obs.leiden.isin(['3']), \"subCellType\"] = \"MacDC\"\n",
    "adata.obs.loc[adata.obs.leiden.isin(['8']), \"subCellType\"] = \"DC1\"\n",
    "adata.obs.loc[adata.obs.leiden.isin(['5']), \"subCellType\"] = \"MReg\""
   ]
  },
  {
   "cell_type": "code",
   "execution_count": null,
   "metadata": {},
   "outputs": [],
   "source": [
    "covariates = adata1.uns['feature_barcode_names_filtered_GENES']\n",
    "covariates = covariates[covariates != \"GENE_CONTROL_\"]\n",
    "covariates = covariates[covariates != \"GENE_INEFFECT_\"]"
   ]
  },
  {
   "cell_type": "code",
   "execution_count": null,
   "metadata": {},
   "outputs": [],
   "source": [
    "fBarMat = adata.obs[covariates]"
   ]
  },
  {
   "cell_type": "code",
   "execution_count": null,
   "metadata": {
    "tags": []
   },
   "outputs": [],
   "source": [
    "fBarMat[fBarMat>0] = 1\n",
    "fBarMat[\"subCellType\"] = adata.obs['subCellType']\n",
    "fBarMat.shape"
   ]
  },
  {
   "cell_type": "code",
   "execution_count": null,
   "metadata": {
    "tags": []
   },
   "outputs": [],
   "source": [
    "allGuidesPerSCT = pd.DataFrame()\n",
    "\n",
    "for elem in covariates:\n",
    "    k = pd.DataFrame(pd.crosstab(fBarMat[elem], fBarMat.subCellType))\n",
    "    k = k.loc[k.index == 1,]\n",
    "    k[\"KOGuide\"] = elem\n",
    "    allGuidesPerSCT = allGuidesPerSCT.append(k)\n",
    "    "
   ]
  },
  {
   "cell_type": "code",
   "execution_count": null,
   "metadata": {},
   "outputs": [],
   "source": [
    "NoOfCellsPerSubCelltype = allGuidesPerSCT[[\"DC1\", \"DC2\", \"MReg\", \"MacDC\"]].sum(axis=0)\n",
    "NoOfCellsPerSubCelltype"
   ]
  },
  {
   "cell_type": "code",
   "execution_count": null,
   "metadata": {},
   "outputs": [],
   "source": [
    "allGuidesPerSCT['noOfGuideCells'] = allGuidesPerSCT.loc[:,[\"DC1\", \"DC2\", \"MReg\", \"MacDC\"]].sum(axis=1)"
   ]
  },
  {
   "cell_type": "code",
   "execution_count": null,
   "metadata": {},
   "outputs": [],
   "source": [
    "%%R  -i allGuidesPerSCT\n",
    "\n",
    "lappend <- function(lst, obj) {\n",
    "  lst[[length(lst)+1]] <- obj\n",
    "  return(lst)\n",
    "}\n",
    "\n",
    "allGuidesPerSCT$KOGuide <- as.character(allGuidesPerSCT$KOGuide)\n",
    "rownames(allGuidesPerSCT) <- allGuidesPerSCT$KOGuide\n",
    "\n",
    "for(i in c(\"DC1\", \"DC2\", \"MReg\", \"MacDC\")){\n",
    "    allGuidesPerSCT[paste0(i,\"_pval_greater\")] = -1\n",
    "    allGuidesPerSCT[paste0(i,\"_estimate_greater\")] = -1\n",
    "    allGuidesPerSCT[paste0(i,\"_pval_less\")] = -1\n",
    "    allGuidesPerSCT[paste0(i,\"_estimate_less\")] = -1\n",
    "    \n",
    "}\n",
    "\n",
    "\n",
    "totalCountsPerSCT <- data.frame(subCelltype = c(\"DC1\", \"DC2\", \"MReg\", \"MacDC\"),\n",
    "                                cellCounts = colSums(allGuidesPerSCT[,c(\"DC1\", \"DC2\", \"MReg\", \"MacDC\")]))\n",
    "rownames(totalCountsPerSCT) = totalCountsPerSCT$subCelltype\n",
    "totalNoOfCells = sum(totalCountsPerSCT$cellCounts)\n",
    "\n",
    "\n",
    "depletedGuides <- list()\n",
    "\n",
    "for (elem in as.character(unique(allGuidesPerSCT$KOGuide))){\n",
    "    \n",
    "    \n",
    "    if(allGuidesPerSCT[elem, \"noOfGuideCells\"] == 0){\n",
    "        depletedGuides <- lappend(depletedGuides, elem)\n",
    "    }else{\n",
    "        \n",
    "        for(subCellType in c(\"DC1\", \"DC2\", \"MReg\", \"MacDC\")){\n",
    "           myDF = data.frame(clusterNo = c(allGuidesPerSCT[elem, subCellType], \n",
    "                                           allGuidesPerSCT[elem, \"noOfGuideCells\"] - allGuidesPerSCT[elem, subCellType]),\n",
    "                  restNo = c(totalCountsPerSCT[subCellType,\"cellCounts\"], \n",
    "                             totalNoOfCells - totalCountsPerSCT[subCellType,\"cellCounts\"]))\n",
    "        \n",
    "           #print(myDF)\n",
    "           testRes_g <- fisher.test(x= myDF, alternative = \"greater\")\n",
    "           #print(testRes_g)\n",
    "           allGuidesPerSCT[elem, paste0(subCellType,\"_pval_greater\")] = testRes_g$p.value\n",
    "           allGuidesPerSCT[elem, paste0(subCellType,\"_estimate_greater\")] = testRes_g$estimate\n",
    "                        \n",
    "           testRes_l <- fisher.test(x= myDF, alternative = \"less\")\n",
    "           #print(testRes_l)\n",
    "           allGuidesPerSCT[elem, paste0(subCellType,\"_pval_less\")] = testRes_l$p.value\n",
    "           allGuidesPerSCT[elem, paste0(subCellType,\"_estimate_less\")] = testRes_l$estimate\n",
    "                        \n",
    "        }\n",
    "        \n",
    "    }  \n",
    "}\n",
    "\n",
    "for(i in c(\"DC1\", \"DC2\", \"MReg\", \"MacDC\")){\n",
    "    allGuidesPerSCT[,paste0(i,\"_FDR_greater\")] <- p.adjust(allGuidesPerSCT[,paste0(i,\"_pval_greater\")])\n",
    "    allGuidesPerSCT[,paste0(i,\"_FDR_less\")] <- p.adjust(allGuidesPerSCT[,paste0(i,\"_pval_less\")])  \n",
    "}\n",
    "\n",
    "\n",
    "#saveRDS(allGuidesPerSCT, \"/home/beraslan/jovian-work/analysisSingle/outputs/RDSFiles/allGuidesPerSCT_withTests_PERGENE.rds\")\n"
   ]
  },
  {
   "cell_type": "code",
   "execution_count": null,
   "metadata": {
    "tags": []
   },
   "outputs": [],
   "source": [
    "%%R -w 2.5 -h 10 -u in\n",
    "\n",
    "library(\"reshape2\")\n",
    "\n",
    "allGuidesPerSCT_FDRs <- allGuidesPerSCT[,c(\"DC1_FDR_greater\", \"DC2_FDR_greater\",\"MReg_FDR_greater\", \"MacDC_FDR_greater\",\n",
    "                                          \"DC1_FDR_less\", \"DC2_FDR_less\", \"MReg_FDR_less\", \"MacDC_FDR_less\", \"KOGuide\")]\n",
    "\n",
    "allGuidesPerSCT_FDRs_melted <- melt(allGuidesPerSCT_FDRs, id.vars=\"KOGuide\")\n",
    "allGuidesPerSCT_FDRs_melted <- allGuidesPerSCT_FDRs_melted[allGuidesPerSCT_FDRs_melted$value < 0.15,]\n",
    "\n",
    "allGuidesPerSCT_FDRs_melted$celltype <- sapply(allGuidesPerSCT_FDRs_melted$variable,\n",
    "                                               function(x){strsplit(as.character(x),\"_\")[[1]][1]})\n",
    "allGuidesPerSCT_FDRs_melted$testType <- sapply(allGuidesPerSCT_FDRs_melted$variable,\n",
    "                                               function(x){strsplit(as.character(x),\"_\")[[1]][3]})\n",
    "\n",
    "allGuidesPerSCT_FDRs_melted$oddRatio = 1\n",
    "\n",
    "for(i in 1:nrow(allGuidesPerSCT_FDRs_melted)){\n",
    "    allGuidesPerSCT_FDRs_melted[i,\"oddRatio\"] = allGuidesPerSCT[allGuidesPerSCT_FDRs_melted[i,\"KOGuide\"], \n",
    "                                                                paste0(allGuidesPerSCT_FDRs_melted[i,\"celltype\"], \"_estimate_\", allGuidesPerSCT_FDRs_melted[i,\"testType\"])]\n",
    "}   \n",
    "\n",
    "\n",
    "kk <- data.frame(matrix(1.0, nrow= 4, ncol=length(unique(allGuidesPerSCT_FDRs_melted$KOGuide))))\n",
    "colnames(kk) = unique(allGuidesPerSCT_FDRs_melted$KOGuide)\n",
    "rownames(kk) = c(\"DC1\", \"DC2\", \"MReg\", \"MacDC\")\n",
    "\n",
    "\n",
    "for(i in 1:nrow(allGuidesPerSCT_FDRs_melted)){\n",
    "        kk[allGuidesPerSCT_FDRs_melted[i, \"celltype\"],  \n",
    "           allGuidesPerSCT_FDRs_melted[i, \"KOGuide\"]] = allGuidesPerSCT_FDRs_melted[i, \"oddRatio\"]\n",
    "}\n",
    "\n",
    "dim(kk)\n",
    "\n",
    "kk[kk > 2] = 2\n",
    "# kk = t(kk)\n",
    "\n",
    "kk <- kk[c(\"DC2\", \"MacDC\", \"MReg\", \"DC1\"),]\n",
    "kk <- data.frame(t(kk))\n",
    "kk = kk[order(-kk$DC2, kk$MacDC, kk$MReg, -kk$DC1),]\n",
    "\n",
    "rownames(kk) <- sapply(rownames(kk), function(x){strsplit(x, \"_\")[[1]][2]})\n",
    "library(pheatmap)\n",
    "\n",
    "\n",
    "\n",
    "\n"
   ]
  },
  {
   "cell_type": "code",
   "execution_count": null,
   "metadata": {},
   "outputs": [],
   "source": [
    "%%R -w 10 -h 2.5 -u in\n",
    "\n",
    "library(pheatmap)\n",
    "#pdf(width=6, height=18)\n",
    "pheatmap(t(kk),cluster_rows=FALSE, cluster_cols=FALSE, treeheight_col=0, \n",
    "         treeheight_row=0, color=hcl.colors(50, \"Tropic\"), clustering_method=\"ward.D2\")\n",
    "#dev.off()\n",
    "\n",
    "write.csv(t(kk), \"Fig_1I.csv\")"
   ]
  },
  {
   "cell_type": "code",
   "execution_count": null,
   "metadata": {
    "tags": []
   },
   "outputs": [],
   "source": [
    "%%R\n",
    "\n",
    "save_pheatmap_pdf <- function(x, filename, width=7, height=7) {\n",
    "   stopifnot(!missing(x))\n",
    "   stopifnot(!missing(filename))\n",
    "   pdf(filename, width=width, height=height)\n",
    "   grid::grid.newpage()\n",
    "   grid::grid.draw(x$gtable)\n",
    "   dev.off()\n",
    "}\n",
    "\n",
    "xx <- pheatmap(t(kk),cluster_rows=F, cluster_cols=F, treeheight_col=0, \n",
    "         treeheight_row=0, color=hcl.colors(50, \"Tropic\"), clustering_method=\"ward.D2\")\n",
    "\n",
    "save_pheatmap_pdf(xx, \"Figure_1I.pdf\", width=10, height=2)"
   ]
  },
  {
   "cell_type": "code",
   "execution_count": null,
   "metadata": {},
   "outputs": [],
   "source": []
  }
 ],
 "metadata": {
  "kernelspec": {
   "display_name": "Python 3 (ipykernel)",
   "language": "python",
   "name": "python3"
  },
  "language_info": {
   "codemirror_mode": {
    "name": "ipython",
    "version": 3
   },
   "file_extension": ".py",
   "mimetype": "text/x-python",
   "name": "python",
   "nbconvert_exporter": "python",
   "pygments_lexer": "ipython3",
   "version": "3.8.13"
  }
 },
 "nbformat": 4,
 "nbformat_minor": 4
}
