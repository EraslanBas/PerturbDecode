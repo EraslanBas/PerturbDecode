{
 "cells": [
  {
   "cell_type": "code",
   "execution_count": null,
   "id": "0459f151-5283-4803-b6d5-9fe6498e598a",
   "metadata": {
    "tags": []
   },
   "outputs": [],
   "source": [
    "source(\"Main.R\")\n",
    "source(\"Conf.R\")\n",
    "source(\"Utilities.R\")\n",
    "library(\"factoextra\")\n",
    "library(\"maptree\")"
   ]
  },
  {
   "cell_type": "code",
   "execution_count": null,
   "id": "59826a34-0376-4c45-ae44-418956707e6b",
   "metadata": {},
   "outputs": [],
   "source": [
    "guideModules = as.data.frame(read.csv(\"./../TextFiles/ME_GuideModules_leiden_6_Modules.csv\",\n",
    "                                 stringsAsFactors = F, strip.white = T, header = TRUE, row.names=1))\n",
    "geneModules = as.data.frame(read.csv(\"./../TextFiles/ME_GeneModules_leiden_11_Modules.csv\",\n",
    "                                 stringsAsFactors = F, strip.white = T, header = TRUE, row.names=1))\n",
    "geneModules$GeneName = rownames(geneModules)\n",
    "coefsSgn = as.data.frame(read.csv(\"./../MixedEffectLMOutputs/ME_SignificantBetaCoefs.csv\",\n",
    "                                  header=TRUE, row.names=1))"
   ]
  },
  {
   "cell_type": "code",
   "execution_count": null,
   "id": "15db2742-7b9f-44ab-bd81-3b92f2fdbf97",
   "metadata": {},
   "outputs": [],
   "source": [
    "rownames(coefsSgn) <- sapply(rownames(coefsSgn), function(x){k=strsplit(x,\"_\")\n",
    "                                      return(k[[1]][2])})"
   ]
  },
  {
   "cell_type": "code",
   "execution_count": null,
   "id": "36837ecd-3294-4714-bd09-59316d1be2a7",
   "metadata": {
    "tags": []
   },
   "outputs": [],
   "source": [
    "allTestRes <- list()\n",
    "\n",
    "for (guideGroup in sort(unique(guideModules$GuideGroup))){\n",
    "    for (geneGroup in sort(unique(geneModules$GeneGroup))){\n",
    "        \n",
    "        blockBetas <- coefsSgn[guideModules[guideModules$GuideGroup == guideGroup, \"GuideName\"], \n",
    "                               geneModules[geneModules$GeneGroup == geneGroup, \"GeneName\"]]\n",
    "        blockBetas <- melt(blockBetas)$value\n",
    "        allSampledBetas <- sample(melt(coefsSgn)$value,100000)\n",
    "        meanDif <- mean(blockBetas) - mean(allSampledBetas)\n",
    "        \n",
    "        k <- wilcox.test(blockBetas, allSampledBetas, alternative = c(\"greater\"))\n",
    "        allTestRes <- lappend(allTestRes, c(guideGroup, geneGroup, \"greater\", k$p.value, meanDif))\n",
    "        \n",
    "        k <- wilcox.test(blockBetas, allSampledBetas, alternative = c(\"less\"))\n",
    "        allTestRes <- lappend(allTestRes, c(guideGroup, geneGroup, \"less\", k$p.value, meanDif))\n",
    "    }\n",
    "}"
   ]
  },
  {
   "cell_type": "code",
   "execution_count": null,
   "id": "a31742bd-80cf-4f5e-aaa7-47f134e16111",
   "metadata": {
    "tags": []
   },
   "outputs": [],
   "source": [
    "allTestRes <- data.frame(do.call(rbind, allTestRes), stringsAsFactors = FALSE)\n",
    "colnames(allTestRes) <- c(\"guideGroup\", \"geneGroup\", \"lessOrGreater\", \"P_value\", \"MeanDiff\")\n",
    "allTestRes$P_value <- as.numeric(allTestRes$P_value)\n",
    "allTestRes$FDR <- p.adjust(allTestRes$P_value)\n",
    "allTestRes <- allTestRes[allTestRes$FDR < 0.05,]\n",
    "allTestRes$guideGroup = paste0(\"K\",allTestRes$guideGroup)"
   ]
  },
  {
   "cell_type": "code",
   "execution_count": null,
   "id": "d551533b-9fef-409f-84c9-d3f2c92147e2",
   "metadata": {},
   "outputs": [],
   "source": [
    "write.csv(allTestRes,\"./../TextFiles/GuideModuleGeneModuleEffectSignificance.csv\" , row.names=FALSE)"
   ]
  },
  {
   "cell_type": "code",
   "execution_count": null,
   "id": "9fce9a60-bf5c-4774-ba40-fc581201d581",
   "metadata": {},
   "outputs": [],
   "source": []
  }
 ],
 "metadata": {
  "kernelspec": {
   "display_name": "R",
   "language": "R",
   "name": "ir"
  },
  "language_info": {
   "codemirror_mode": "r",
   "file_extension": ".r",
   "mimetype": "text/x-r-source",
   "name": "R",
   "pygments_lexer": "r",
   "version": "4.2.1"
  }
 },
 "nbformat": 4,
 "nbformat_minor": 5
}
