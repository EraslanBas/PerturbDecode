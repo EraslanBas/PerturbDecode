{
 "cells": [
  {
   "cell_type": "code",
   "execution_count": null,
   "id": "cab7c378-3968-4207-a33c-46324d3e317d",
   "metadata": {
    "tags": []
   },
   "outputs": [],
   "source": [
    "from libraries import *\n",
    "from parameters import *\n",
    "import anndata as ad"
   ]
  },
  {
   "cell_type": "code",
   "execution_count": null,
   "id": "ad1d974b-4dac-4e11-a486-954e5d2a0a49",
   "metadata": {},
   "outputs": [],
   "source": [
    "%load_ext rpy2.ipython"
   ]
  },
  {
   "cell_type": "code",
   "execution_count": null,
   "id": "b49686e4-1fa6-4a1f-859e-0aa8152006d4",
   "metadata": {},
   "outputs": [],
   "source": [
    "os.getcwd()\n",
    "os.chdir(projectDir)"
   ]
  },
  {
   "cell_type": "code",
   "execution_count": null,
   "id": "651cd014-2db2-4cc4-9d3a-379781d66fcb",
   "metadata": {
    "tags": []
   },
   "outputs": [],
   "source": [
    "# adataLPSMinus = sc.read_10x_h5('./data/data_unperturbed/LPSMinus_v3_raw_feature_bc_matrix.h5').copy()\n",
    "# adataLPSPlus = sc.read_10x_h5('./data/data_unperturbed/LPSPlus_v3_raw_feature_bc_matrix.h5').copy()\n",
    "# adataLPSMinus.var_names_make_unique()\n",
    "# adataLPSPlus.var_names_make_unique()\n",
    "\n",
    "\n",
    "# sc.pp.filter_cells(adataLPSMinus, min_genes=800)\n",
    "# sc.pp.filter_genes(adataLPSMinus, min_cells=10)\n",
    "# sc.pp.filter_cells(adataLPSPlus, min_genes=800)\n",
    "# sc.pp.filter_genes(adataLPSPlus, min_cells=10)\n",
    "\n",
    "\n",
    "# adataLPSMinus.var['mt'] = adataLPSMinus.var_names.str.startswith('mt-')  # annotate the group of mitochondrial genes as 'mt'\n",
    "# sc.pp.calculate_qc_metrics(adataLPSMinus, qc_vars=['mt'], percent_top=None, log1p=False, inplace=True)\n",
    "# adataLPSPlus.var['mt'] = adataLPSPlus.var_names.str.startswith('mt-')  # annotate the group of mitochondrial genes as 'mt'\n",
    "# sc.pp.calculate_qc_metrics(adataLPSPlus, qc_vars=['mt'], percent_top=None, log1p=False, inplace=True)\n",
    "\n",
    "\n",
    "# sc.pl.violin(adataLPSMinus, ['n_genes_by_counts', 'total_counts', 'pct_counts_mt'],\n",
    "#              jitter=0.4, multi_panel=True)\n",
    "\n",
    "# sc.pl.violin(adataLPSPlus, ['n_genes_by_counts', 'total_counts', 'pct_counts_mt'],\n",
    "#              jitter=0.4, multi_panel=True)\n",
    "\n",
    "\n",
    "# # sc.pl.scatter(adataLPSPlus, x='total_counts', y='pct_counts_mt')\n",
    "# # sc.pl.scatter(adataLPSPlus, x='total_counts', y='n_genes_by_counts')\n",
    "# # sc.pl.scatter(adataLPSMinus, x='total_counts', y='pct_counts_mt')\n",
    "# # sc.pl.scatter(adataLPSMinus, x='total_counts', y='n_genes_by_counts')\n",
    "\n",
    "\n",
    "# adataLPSPlus = adataLPSPlus[adataLPSPlus.obs.n_genes_by_counts < 2500, :]\n",
    "# adataLPSPlus = adataLPSPlus[adataLPSPlus.obs.pct_counts_mt < 10, :]\n",
    "# adataLPSMinus = adataLPSMinus[adataLPSMinus.obs.n_genes_by_counts < 2500, :]\n",
    "# adataLPSMinus = adataLPSMinus[adataLPSMinus.obs.pct_counts_mt < 10, :]\n",
    "\n",
    "\n",
    "# adataLPSPlus.obs[\"type\"] = \"LPSPlus\"\n",
    "# adataLPSMinus.obs[\"type\"] = \"LPSMinus\"\n",
    "\n",
    "\n",
    "# adataAll = ad.concat([adataLPSMinus, adataLPSPlus], join=\"outer\")\n",
    "# #adataAll.var_names_make_unique()\n",
    "# adataAll.obs_names_make_unique()\n",
    "\n",
    "# sc.pp.normalize_total(adataAll, target_sum=1e4)\n",
    "# sc.pp.log1p(adataAll)\n",
    "# adataAll.raw = adataAll\n",
    "\n",
    "\n",
    "# gene_list_url = 'https://raw.githubusercontent.com/theislab/scanpy_usage/master/180209_cell_cycle/data/regev_lab_cell_cycle_genes.txt'\n",
    "\n",
    "# cell_cycle_genes = [str(x.strip(), 'utf-8').capitalize() for x in urlopen(gene_list_url)] # capitalize = shame\n",
    "\n",
    "\n",
    "# s_genes = cell_cycle_genes[:43]\n",
    "# g2m_genes = cell_cycle_genes[43:]\n",
    "\n",
    "\n",
    "# sc.tl.score_genes_cell_cycle(adataAll, s_genes=s_genes, g2m_genes=g2m_genes)\n",
    "\n",
    "\n",
    "# sc.pp.highly_variable_genes(adataAll, n_top_genes = 2000)\n",
    "# sc.pp.regress_out(adataAll, ['total_counts', 'pct_counts_mt'])\n",
    "# sc.pp.scale(adataAll, max_value=10)\n",
    "# sc.tl.pca(adataAll, svd_solver='arpack')\n",
    "# sc.pp.neighbors(adataAll, n_neighbors=10, n_pcs=50)\n",
    "\n",
    "# sc.tl.umap(adataAll, min_dist=0.4, init_pos=\"spectral\")\n",
    "\n",
    "# sc.tl.leiden(adataAll, resolution=0.5)\n",
    "\n",
    "# sc.tl.diffmap(adataAll)\n",
    "# sc.tl.rank_genes_groups(adataAll, groupby=\"leiden\", n_genes=2000, method=\"t-test_overestim_var\")\n",
    "\n",
    "\n",
    "#adataAll.write(\"outputs/anndata/adataLPSPlusMinus.h5ad\")"
   ]
  },
  {
   "cell_type": "code",
   "execution_count": null,
   "id": "c5424fb9-e774-49e1-b778-86a6a4a4c6f4",
   "metadata": {},
   "outputs": [],
   "source": [
    "adata = sc.read(par_save_filename_8)"
   ]
  },
  {
   "cell_type": "code",
   "execution_count": null,
   "id": "a6863080-b141-4c81-9cb4-2fad0ce1a5fa",
   "metadata": {
    "tags": []
   },
   "outputs": [],
   "source": [
    "adataAll = sc.read(\"outputs/anndata/adataLPSPlusMinus.h5ad\")"
   ]
  },
  {
   "cell_type": "code",
   "execution_count": null,
   "id": "e6b1fae4-7ddd-45b3-b535-e0b5a1181f06",
   "metadata": {},
   "outputs": [],
   "source": [
    "dcGenes = pd.read_csv('./PositiveControls/DC_cellstate_genes.csv')\n",
    "dc1Genes = dcGenes[\"DC1 genes\"].unique()\n",
    "dc2Genes = dcGenes[\"DC2 genes\"].unique()\n",
    "mregGenes = dcGenes[\"mregDC genes\"].unique()\n",
    "macGenes = dcGenes[\"Macrophage genes\"].unique()\n",
    "\n",
    "leidenMarkersOfPerturbedCells = pd.read_csv(\"./TextFiles/Leiden_top100Markers.csv\")\n",
    "leidenMarkersOfPerturbedCells = leidenMarkersOfPerturbedCells.groupby('group').head(50)\n",
    "\n"
   ]
  },
  {
   "cell_type": "code",
   "execution_count": null,
   "id": "4d80ded3-ef41-49e3-bbb3-4f429eeadafe",
   "metadata": {
    "tags": []
   },
   "outputs": [],
   "source": [
    "sc.tl.score_genes(adata=adata, gene_list=dc1Genes, score_name=\"DC1\")\n",
    "sc.tl.score_genes(adata=adata, gene_list=dc2Genes, score_name=\"DC2\")\n",
    "sc.tl.score_genes(adata=adata, gene_list=mregGenes, score_name=\"mreg\")\n",
    "sc.tl.score_genes(adata=adata, gene_list=macGenes, score_name=\"Mac\")\n",
    "\n",
    "\n",
    "sc.tl.score_genes(adata=adataAll, gene_list=dc1Genes, score_name=\"DC1\")\n",
    "sc.tl.score_genes(adata=adataAll, gene_list=dc2Genes, score_name=\"DC2\")\n",
    "sc.tl.score_genes(adata=adataAll, gene_list=mregGenes, score_name=\"mreg\")\n",
    "sc.tl.score_genes(adata=adataAll, gene_list=macGenes, score_name=\"Mac\")"
   ]
  },
  {
   "cell_type": "code",
   "execution_count": null,
   "id": "74ef3c15-be58-4b23-8da4-026c028b11a4",
   "metadata": {},
   "outputs": [],
   "source": [
    "adata.obs[\"subCellType\"] = \"DC2\"\n",
    "adata.obs.loc[adata.obs.leiden.isin(['3']), \"subCellType\"] = \"MacDC\"\n",
    "adata.obs.loc[adata.obs.leiden.isin(['8']), \"subCellType\"] = \"DC1\"\n",
    "adata.obs.loc[adata.obs.leiden.isin(['5']), \"subCellType\"] = \"MReg\""
   ]
  },
  {
   "cell_type": "code",
   "execution_count": null,
   "id": "0c8a7e67-79b1-41ce-a753-3cf7ae50da5e",
   "metadata": {
    "tags": []
   },
   "outputs": [],
   "source": [
    "for i in leidenMarkersOfPerturbedCells.group.unique():\n",
    "     myGeneList = leidenMarkersOfPerturbedCells.loc[leidenMarkersOfPerturbedCells.group == i,'names']\n",
    "     myGeneList = [x.replace(\".\",\"-\") for x in myGeneList]\n",
    "     sc.tl.score_genes(adata=adataAll, gene_list=myGeneList, score_name=\"TC_\"+str(i) + \"_scores\")\n",
    "     sc.tl.score_genes(adata=adata, gene_list=myGeneList, score_name=\"TC_\"+str(i) + \"_scores\")\n"
   ]
  },
  {
   "cell_type": "code",
   "execution_count": null,
   "id": "54a5da91-b6b4-49ea-b8ae-3bbc4a81a19b",
   "metadata": {},
   "outputs": [],
   "source": [
    "from sklearn.linear_model import LogisticRegression\n",
    "from sklearn import preprocessing\n",
    "X_train = adata.obs[[\"DC1\", \"DC2\", \"mreg\", \"Mac\"]]\n",
    "y_train = adata.obs[\"subCellType\"]\n",
    "\n",
    "scaler = preprocessing.StandardScaler().fit(X_train)\n",
    "X_scaled = scaler.transform(X_train)\n",
    "\n",
    "clf = LogisticRegression(random_state=0).fit(X_scaled, y_train)\n",
    "\n",
    "X_test = adataAll.obs[[\"DC1\", \"DC2\", \"mreg\", \"Mac\"]]\n",
    "scaler_test = preprocessing.StandardScaler().fit(X_test)\n",
    "X_scaled_test = scaler.transform(X_test)\n",
    "\n",
    "adataAll.obs[\"Pred_subCellType\"] = clf.predict(X_scaled_test)"
   ]
  },
  {
   "cell_type": "code",
   "execution_count": null,
   "id": "a8ed3641-81bc-4cc4-84a4-b72db410cfeb",
   "metadata": {},
   "outputs": [],
   "source": [
    "X_train = adata.obs[[\"TC_0_scores\", \"TC_1_scores\", \"TC_2_scores\", \"TC_3_scores\",\n",
    "                    \"TC_4_scores\", \"TC_5_scores\", \"TC_6_scores\", \"TC_7_scores\",\n",
    "                    \"TC_8_scores\", \"TC_9_scores\"]]\n",
    "y_train = adata.obs[\"leiden\"]\n",
    "\n",
    "scaler = preprocessing.StandardScaler().fit(X_train)\n",
    "X_scaled = scaler.transform(X_train)\n",
    "\n",
    "clf = LogisticRegression(random_state=0).fit(X_scaled, y_train)\n",
    "\n",
    "X_test = adataAll.obs[[\"TC_0_scores\", \"TC_1_scores\", \"TC_2_scores\", \"TC_3_scores\",\n",
    "                    \"TC_4_scores\", \"TC_5_scores\", \"TC_6_scores\", \"TC_7_scores\",\n",
    "                    \"TC_8_scores\", \"TC_9_scores\"]]\n",
    "scaler_test = preprocessing.StandardScaler().fit(X_test)\n",
    "X_scaled_test = scaler.transform(X_test)\n",
    "\n",
    "adataAll.obs[\"Pred_TC\"] = clf.predict(X_scaled_test)"
   ]
  },
  {
   "cell_type": "code",
   "execution_count": null,
   "id": "a544b46f-deb8-4699-86ef-c47dbeb39bae",
   "metadata": {},
   "outputs": [],
   "source": [
    "sc.pl.umap(adataAll, color='type', color_map=\"coolwarm\", \n",
    "           legend_loc='on data', legend_fontoutline=3, \n",
    "           legend_fontsize=14, legend_fontweight='normal', size=3, save=\"Figure_S1H.pdf\");"
   ]
  },
  {
   "cell_type": "code",
   "execution_count": null,
   "id": "86cd737e-5e78-4237-a77e-ef37678c63cb",
   "metadata": {},
   "outputs": [],
   "source": [
    "sc.pl.umap(adataAll, color='phase', palette = \"Paired\",save=\"Figure_S1I.pdf\" )"
   ]
  },
  {
   "cell_type": "code",
   "execution_count": null,
   "id": "ca445036-2d1d-4ee1-bf32-7f5231db7adc",
   "metadata": {},
   "outputs": [],
   "source": [
    "f, ax = plt.subplots(figsize=(4, 4))\n",
    "sc.pl.umap(adataAll, color='Pred_TC', \n",
    "           legend_fontoutline=3, legend_fontsize=14, \n",
    "           legend_fontweight='normal', title='Predicted TCs',\n",
    "           ax=ax, show=False, size=3, save=\"Figure_S1U.pdf\");"
   ]
  },
  {
   "cell_type": "code",
   "execution_count": null,
   "id": "62492624-ece4-4aa4-98a3-1f99c5d892ce",
   "metadata": {},
   "outputs": [],
   "source": [
    "f, ax = plt.subplots(figsize=(4, 4))\n",
    "sc.pl.umap(adataAll, color='Pred_subCellType', \n",
    "           legend_fontoutline=3, legend_fontsize=14, \n",
    "           legend_fontweight='normal', title='Predicted sub-cell types',\n",
    "           ax=ax, show=False, size=10, palette=\"Accent\", save=\"Figure_S1W.pdf\");"
   ]
  },
  {
   "cell_type": "code",
   "execution_count": null,
   "id": "edbc9ea3-5cfa-42ca-a17b-dcb994b0ff10",
   "metadata": {
    "tags": []
   },
   "outputs": [],
   "source": [
    "for i in leidenMarkersOfPerturbedCells.group.unique():\n",
    "     sc.pl.umap(adataAll, color=\"TC_\"+str(i) + \"_scores\", size=4, color_map=\"seismic\", save=\"TC_\"+str(i))\n",
    "     #sc.pl.violin(adataAll, \"TC_\"+str(i)+\"_scores\", groupby='leiden')"
   ]
  },
  {
   "cell_type": "code",
   "execution_count": null,
   "id": "9c4775b7-6d3c-4d64-80fc-29e0776bb264",
   "metadata": {},
   "outputs": [],
   "source": [
    "kk = adataAll.obs[[\"type\",\"Pred_TC\",\"Pred_subCellType\"]]"
   ]
  },
  {
   "cell_type": "code",
   "execution_count": null,
   "id": "dc558cbe-27ac-48bd-9650-4d49938f594c",
   "metadata": {},
   "outputs": [],
   "source": [
    "hehe = pd.DataFrame(adata.obs[\"leiden\"].value_counts())\n",
    "hehe[\"Pred_TC\"] = hehe.index"
   ]
  },
  {
   "cell_type": "code",
   "execution_count": null,
   "id": "c015c6f2-fb62-4e8b-91a1-364298ea912d",
   "metadata": {},
   "outputs": [],
   "source": [
    "%%R -i kk,hehe -w 7 -h 6 -u in\n",
    "\n",
    "library(\"data.table\")\n",
    "library(ggplot2) \n",
    "\n",
    "hehe$Perc = hehe$leiden/sum(hehe$leiden)\n",
    "hehe$type=\"Perturbed\"\n",
    "hehe=hehe[,c(\"type\", \"Pred_TC\", \"Perc\")]\n",
    "\n",
    "predTCs = data.table(table(kk[,c(\"type\", \"Pred_TC\")]))\n",
    "predTCs[,Perc:=(N/sum(N)),by=type]\n",
    "predTCs = data.frame(predTCs)\n",
    "predTCs[predTCs$type == \"LPSMinus\",\"type\"] = \"LPS-\"\n",
    "predTCs[predTCs$type == \"LPSPlus\",\"type\"] = \"LPS+\"\n",
    "predTCs$N=NULL\n",
    "\n",
    "predTCs = rbind(predTCs, hehe)\n",
    "\n",
    "head(predTCs)\n",
    "\n",
    "#pdf(file=\"Figure_S1V.pdf\", width=40, height=20)\n",
    "\n",
    "ggplot(data=predTCs, \n",
    "       aes(x=type, y=Perc, fill=Pred_TC)) + theme_minimal()+\n",
    "       facet_wrap(~Pred_TC,ncol=3 )+\n",
    "       geom_bar(stat=\"identity\")+\n",
    "       scale_fill_manual(name = \"Predicted Transcription Cluster\", \n",
    "                         values=c('#1f77b4', '#ff7f0e', '#279e68', '#d62728', '#aa40fc', \n",
    "                                                       '#8c564b','#e377c2', '#b5bd61', '#17becf', '#aec7e8' ))+\n",
    "       ylab(\"Percent of cells\") + xlab(\"\") +\n",
    "      theme(axis.text = element_text(size=13), axis.title = element_text(size=13), \n",
    "      legend.text=element_text(size=13), legend.title=element_text(size=11), legend.pos=\"top\")\n",
    "\n",
    "#dev.off()\n",
    "#  \n",
    "# library(reshape2) \n",
    "# \n",
    "# library(ggpubr) \n",
    "\n",
    "# ldMelted = melt(leidenScores, id.vars=\"type\")\n",
    "# \n",
    "\n",
    "# ggplot(ldMelted, aes(x=type, y=value)) + \n",
    "#      geom_violin(trim=FALSE, aes(fill=type))+\n",
    "#      geom_boxplot()+theme_minimal()+ \n",
    "#      facet_wrap(.~variable, ncol=5)+\n",
    "#      #stat_summary(fun.data = mean, geom = \"text\", size=6)+\n",
    "#         stat_compare_means(method=\"wilcox.test\",paired = FALSE,\n",
    "#                                 comparisons = list(c(\"LPSMinus\", \"LPSPlus\")),\n",
    "#                                 color=\"red\", method.args = list(alternative = \"less\"),\n",
    "#                                 label.y = c(3), aes(label = ..p.signif..))+\n",
    "#      scale_fill_brewer(palette = \"Pastel1\")+\n",
    "# ylab(\"Cell score\")+\n",
    "# theme(axis.text = element_text(size=15),strip.text=element_text(size=12),\n",
    "#               axis.title =  element_text(size=16))+ylim(0,5) +xlab(\"\") "
   ]
  },
  {
   "cell_type": "code",
   "execution_count": null,
   "id": "a1e21111-2fa2-4f4a-b5a4-723650607a57",
   "metadata": {},
   "outputs": [],
   "source": [
    "hehe = pd.DataFrame(adata.obs[\"subCellType\"].value_counts())\n",
    "hehe[\"Pred_subCellType\"] = hehe.index\n",
    "hehe"
   ]
  },
  {
   "cell_type": "code",
   "execution_count": null,
   "id": "ec069d87-979e-4d9d-a2dd-2a36b02e988f",
   "metadata": {},
   "outputs": [],
   "source": [
    "%%R -i kk,hehe -w 9 -h 4 -u in\n",
    "\n",
    "predTCs = data.table(table(kk[,c(\"type\", \"Pred_subCellType\")]))\n",
    "predTCs[,Perc:=(N/sum(N)),by=type]\n",
    "predTCs = data.frame(predTCs)\n",
    "predTCs\n"
   ]
  },
  {
   "cell_type": "code",
   "execution_count": null,
   "id": "94e4a444-7901-46e7-b7ae-5b5d25c8c97d",
   "metadata": {},
   "outputs": [],
   "source": [
    "%%R -i kk,hehe -w 9 -h 4 -u in\n",
    "\n",
    "library(\"data.table\")\n",
    "library(ggplot2) \n",
    "\n",
    "head(hehe)\n",
    "hehe$Perc = hehe$subCellType/sum(hehe$subCellType)\n",
    "hehe$type=\"Perturbed\"\n",
    "hehe=hehe[,c(\"type\", \"Pred_subCellType\", \"Perc\")]\n",
    "\n",
    "\n",
    "predTCs = data.table(table(kk[,c(\"type\", \"Pred_subCellType\")]))\n",
    "predTCs[,Perc:=(N/sum(N)),by=type]\n",
    "predTCs = data.frame(predTCs)\n",
    "predTCs[predTCs$type == \"LPSMinus\",\"type\"] = \"LPS-\"\n",
    "predTCs[predTCs$type == \"LPSPlus\",\"type\"] = \"LPS+\"\n",
    "predTCs$N = NULL\n",
    "\n",
    "predTCs = rbind(predTCs, hehe)\n",
    "\n",
    "\n",
    "options(repr.plot.width=3, repr.plot.height=2)\n",
    "ggplot(data=predTCs, \n",
    "       aes(x=type, y=Perc, fill=Pred_subCellType)) + theme_minimal()+\n",
    "       facet_wrap(~Pred_subCellType,ncol=4 )+\n",
    "       geom_bar(stat=\"identity\")+ scale_fill_brewer(palette=\"Dark2\")+\n",
    "       ylab(\"Percent of cells\") + xlab(\"\") +\n",
    "      theme(axis.text = element_text(size=13), axis.title = element_text(size=13), \n",
    "            strip.text = element_text(size=15), \n",
    "      legend.text=element_text(size=13), legend.title=element_text(size=11), legend.pos=\"top\")\n",
    "\n"
   ]
  },
  {
   "cell_type": "code",
   "execution_count": null,
   "id": "5c58a4bb-bce9-426c-a530-23cfc741cac5",
   "metadata": {},
   "outputs": [],
   "source": [
    "allDCgenes = np.concatenate((dc1Genes, dc2Genes, mregGenes))\n",
    "sc.tl.score_genes(adata=adataAll, gene_list=allDCgenes, score_name=\"DCSig\")"
   ]
  },
  {
   "cell_type": "code",
   "execution_count": null,
   "id": "dd13b50b-9802-41e0-a34b-886508f52700",
   "metadata": {},
   "outputs": [],
   "source": [
    "sc.pl.umap(adataAll, color=\"DCSig\", size=4, color_map=\"coolwarm\", vmin=-0.2, vmax=0.3)"
   ]
  },
  {
   "cell_type": "code",
   "execution_count": null,
   "id": "3b2ab24f-61d2-4c37-ae8c-c4277b1caf53",
   "metadata": {},
   "outputs": [],
   "source": [
    "adataAll.obs[\"DCSig_zscore\"] = scipy.stats.zscore(adataAll.obs[\"DCSig\"])\n",
    "adataAll.obs[\"Mac_zscore\"] = scipy.stats.zscore(adataAll.obs[\"Mac\"])"
   ]
  },
  {
   "cell_type": "code",
   "execution_count": null,
   "id": "3dd108da-b7fc-440d-9019-4a932397fbc0",
   "metadata": {},
   "outputs": [],
   "source": [
    "adataAll.obs[\"MACoverDC\"] = adataAll.obs[\"Mac_zscore\"] - adataAll.obs[\"DCSig_zscore\"]"
   ]
  },
  {
   "cell_type": "code",
   "execution_count": null,
   "id": "11928f9b-131a-46d1-9931-75e9e002d392",
   "metadata": {},
   "outputs": [],
   "source": [
    "sc.pl.umap(adataAll, color=\"MACoverDC\", \n",
    "           size=4, \n",
    "           color_map=\"PiYG\", \n",
    "           vmin=-3, \n",
    "           vmax=3)\n"
   ]
  },
  {
   "cell_type": "code",
   "execution_count": null,
   "id": "3186700d-a305-4704-8b8f-f051588318d4",
   "metadata": {},
   "outputs": [],
   "source": [
    "leidenScores = adataAll.obs[[\"TC_\"+str(x)+\"_scores\" for x in range(0,10)]+[\"type\"]]"
   ]
  },
  {
   "cell_type": "code",
   "execution_count": null,
   "id": "e64ac30f-0570-4b45-b21d-f18fe6dd0195",
   "metadata": {
    "tags": []
   },
   "outputs": [],
   "source": [
    "%%R -i leidenScores -w 13 -h 6 -u in\n",
    "\n",
    "library(MASS) \n",
    "library(reshape2) \n",
    "library(ggplot2) \n",
    "library(ggpubr) \n",
    "\n",
    "leidenScores$type = as.character(leidenScores$type)\n",
    "\n",
    "leidenScores[leidenScores$type == \"LPSMinus\",\"type\"] = \"LPS-\"\n",
    "leidenScores[leidenScores$type == \"LPSPlus\",\"type\"] = \"LPS+\"\n",
    "head(leidenScores)\n",
    "\n",
    "ldMelted = melt(leidenScores, id.vars=\"type\")\n",
    "options(repr.plot.width=6, repr.plot.height=4)\n",
    "\n",
    "ggplot(ldMelted, aes(x=type, y=value)) + \n",
    "     geom_violin(trim=FALSE, aes(fill=type))+\n",
    "     geom_boxplot()+theme_minimal()+ \n",
    "     facet_wrap(.~variable, ncol=5)+\n",
    "     #stat_summary(fun.data = mean, geom = \"text\", size=6)+\n",
    "        stat_compare_means(method=\"wilcox.test\",paired = FALSE,\n",
    "                                comparisons = list(c(\"LPS-\", \"LPS+\")),\n",
    "                                color=\"red\", method.args = list(alternative = \"less\"),\n",
    "                                label.y = c(3), aes(label = ..p.signif..))+\n",
    "     scale_fill_brewer(palette = \"Pastel1\")+\n",
    "ylab(\"Cell score\")+\n",
    "theme(axis.text = element_text(size=15),strip.text=element_text(size=12),\n",
    "              axis.title =  element_text(size=16))+ylim(0,5) +xlab(\"\") "
   ]
  },
  {
   "cell_type": "code",
   "execution_count": null,
   "id": "397e9f54-c0b1-4ee1-88da-3ddba754d8e5",
   "metadata": {},
   "outputs": [],
   "source": [
    "%%R -i cellScoresOfStates -w 13 -h 6 -u in\n",
    "\n",
    "cellScorMelted = melt(cellScoresOfStates)\n",
    "head(cellScorMelted)\n",
    "#options(repr.plot.width=6, repr.plot.height=4)\n",
    "\n",
    "ggplot(cellScorMelted, aes(x=variable, y=value)) + \n",
    "     geom_violin(trim=FALSE, aes(fill=variable))+\n",
    "     geom_boxplot()+theme_minimal()\n",
    "        \n",
    "\n",
    "#      facet_wrap(.~variable, ncol=5)+\n",
    "#     stat_summary(fun.data = mean, geom = \"text\", size=6)\n",
    "#         stat_compare_means(method=\"wilcox.test\",paired = FALSE,\n",
    "#                                 comparisons = list(c(\"LPSMinus\", \"LPSPlus\")),\n",
    "#                                 color=\"red\", method.args = list(alternative = \"less\"),\n",
    "#                                 label.y = c(3), aes(label = ..p.signif..))+\n",
    "#      scale_fill_brewer(palette = \"Pastel1\")+\n",
    "# ylab(\"Cell score\")+\n",
    "# theme(axis.text = element_text(size=15),strip.text=element_text(size=12),\n",
    "#               axis.title =  element_text(size=16))+ylim(0,5) +xlab(\"\") "
   ]
  },
  {
   "cell_type": "code",
   "execution_count": null,
   "id": "bd027fa0-53ce-4bad-8929-848b8e0a0710",
   "metadata": {},
   "outputs": [],
   "source": []
  }
 ],
 "metadata": {
  "kernelspec": {
   "display_name": "Python 3 (ipykernel)",
   "language": "python",
   "name": "python3"
  },
  "language_info": {
   "codemirror_mode": {
    "name": "ipython",
    "version": 3
   },
   "file_extension": ".py",
   "mimetype": "text/x-python",
   "name": "python",
   "nbconvert_exporter": "python",
   "pygments_lexer": "ipython3",
   "version": "3.8.13"
  }
 },
 "nbformat": 4,
 "nbformat_minor": 5
}
