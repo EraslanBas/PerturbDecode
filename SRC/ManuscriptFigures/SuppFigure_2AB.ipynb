{
 "cells": [
  {
   "cell_type": "markdown",
   "metadata": {},
   "source": [
    "# Supp Figure 2A-B"
   ]
  },
  {
   "cell_type": "code",
   "execution_count": 2,
   "metadata": {
    "papermill": {
     "duration": 2.497662,
     "end_time": "2020-02-03T11:16:52.810525",
     "exception": false,
     "start_time": "2020-02-03T11:16:50.312863",
     "status": "completed"
    },
    "tags": []
   },
   "outputs": [],
   "source": [
    "from libraries import *\n",
    "from parameters import *\n"
   ]
  },
  {
   "cell_type": "code",
   "execution_count": null,
   "metadata": {},
   "outputs": [],
   "source": [
    "os.getcwd()\n",
    "os.chdir(projectDir)"
   ]
  },
  {
   "cell_type": "code",
   "execution_count": null,
   "metadata": {},
   "outputs": [],
   "source": [
    "%load_ext rpy2.ipython"
   ]
  },
  {
   "cell_type": "code",
   "execution_count": null,
   "metadata": {},
   "outputs": [],
   "source": [
    "adata = sc.read(par_save_filename_8)"
   ]
  },
  {
   "cell_type": "code",
   "execution_count": null,
   "metadata": {},
   "outputs": [],
   "source": [
    "covariates = adata1.uns['feature_barcode_names_filtered_GENES']\n",
    "covariates = covariates[covariates != \"GENE_CONTROL_\"]\n",
    "covariates = covariates[covariates != \"GENE_INEFFECT_\"]"
   ]
  },
  {
   "cell_type": "code",
   "execution_count": null,
   "metadata": {},
   "outputs": [],
   "source": [
    "fBarMat = adata.obs[covariates]\n",
    "fBarMat[fBarMat>0] = 1\n",
    "fBarMat[\"leiden\"] = adata.obs['leiden']\n",
    "fBarMat.shape"
   ]
  },
  {
   "cell_type": "code",
   "execution_count": null,
   "metadata": {
    "tags": []
   },
   "outputs": [],
   "source": [
    "allGuidesPerSCT = pd.DataFrame()\n",
    "\n",
    "for elem in covariates:\n",
    "    k = pd.DataFrame(pd.crosstab(fBarMat[elem], fBarMat.leiden))\n",
    "    k = k.loc[k.index == 1,]\n",
    "    k[\"KOGuide\"] = elem\n",
    "    allGuidesPerSCT = allGuidesPerSCT.append(k)\n",
    "\n",
    "allGuidesPerSCT['noOfGuideCells'] = allGuidesPerSCT.loc[:,\n",
    "                                                        [\"0\", \"1\", \"2\", \"3\", \"4\", \"5\", \"6\", \"7\", \"8\", \"9\"]].sum(axis=1)"
   ]
  },
  {
   "cell_type": "code",
   "execution_count": null,
   "metadata": {
    "tags": []
   },
   "outputs": [],
   "source": [
    "%%R  -i allGuidesPerSCT\n",
    "\n",
    "lappend <- function(lst, obj) {\n",
    "  lst[[length(lst)+1]] <- obj\n",
    "  return(lst)\n",
    "}\n",
    "\n",
    "\n",
    "allGuidesPerSCT$KOGuide <- as.character(allGuidesPerSCT$KOGuide)\n",
    "rownames(allGuidesPerSCT) <- allGuidesPerSCT$KOGuide\n",
    "\n",
    "for(i in 0:9){\n",
    "    allGuidesPerSCT[paste0(\"Leiden\",i,\"_pval_greater\")] = -1\n",
    "    allGuidesPerSCT[paste0(\"Leiden\",i,\"_estimate_greater\")] = -1\n",
    "    allGuidesPerSCT[paste0(\"Leiden\",i,\"_pval_less\")] = -1\n",
    "    allGuidesPerSCT[paste0(\"Leiden\",i,\"_estimate_less\")] = -1\n",
    "    \n",
    "}\n",
    "\n",
    "totalCountsPerSCT <- data.frame(leiden = c(\"0\", \"1\", \"2\", \"3\", \"4\", \"5\", \"6\", \"7\", \"8\", \"9\"),\n",
    "                                cellCounts = colSums(allGuidesPerSCT[,c(\"0\", \"1\", \"2\", \"3\", \"4\", \"5\", \"6\", \"7\", \"8\", \"9\")]))\n",
    "rownames(totalCountsPerSCT) = totalCountsPerSCT$leiden\n",
    "totalNoOfCells = sum(totalCountsPerSCT$cellCounts)\n",
    "\n",
    "\n",
    "depletedGuides <- list()\n",
    "\n",
    "for (elem in as.character(unique(allGuidesPerSCT$KOGuide))){\n",
    "    \n",
    "    \n",
    "    if(allGuidesPerSCT[elem, \"noOfGuideCells\"] == 0){\n",
    "        depletedGuides <- lappend(depletedGuides, elem)\n",
    "    }else{\n",
    "        \n",
    "        for(leiden in c(\"0\", \"1\", \"2\", \"3\", \"4\", \"5\", \"6\", \"7\", \"8\", \"9\")){\n",
    "           myDF = data.frame(clusterNo = c(allGuidesPerSCT[elem, leiden], \n",
    "                                           allGuidesPerSCT[elem, \"noOfGuideCells\"] - allGuidesPerSCT[elem, leiden]),\n",
    "                  restNo = c(totalCountsPerSCT[leiden,\"cellCounts\"], \n",
    "                             totalNoOfCells - totalCountsPerSCT[leiden,\"cellCounts\"]))\n",
    "        \n",
    "           \n",
    "           testRes_g <- fisher.test(x= myDF, alternative = \"greater\")\n",
    "           allGuidesPerSCT[elem, paste0(\"Leiden\",leiden,\"_pval_greater\")] = testRes_g$p.value\n",
    "           allGuidesPerSCT[elem, paste0(\"Leiden\",leiden,\"_estimate_greater\")] = testRes_g$estimate\n",
    "                        \n",
    "           testRes_l <- fisher.test(x= myDF, alternative = \"less\")\n",
    "           allGuidesPerSCT[elem, paste0(\"Leiden\",leiden,\"_pval_less\")] = testRes_l$p.value\n",
    "           allGuidesPerSCT[elem, paste0(\"Leiden\",leiden,\"_estimate_less\")] = testRes_l$estimate\n",
    "                        \n",
    "        }\n",
    "        \n",
    "    }  \n",
    "}\n",
    "\n",
    "\n",
    "for(i in 0:9){\n",
    "    allGuidesPerSCT[paste0(\"Leiden\",i,\"_FDR_greater\")] <- p.adjust(allGuidesPerSCT[,paste0(\"Leiden\",i,\"_pval_greater\")])\n",
    "    allGuidesPerSCT[paste0(\"Leiden\",i,\"_FDR_less\")] <- p.adjust(allGuidesPerSCT[,paste0(\"Leiden\",i,\"_pval_less\")])  \n",
    "}\n",
    "\n",
    "\n",
    "saveRDS(allGuidesPerSCT, \"./outputs/RDSFiles/allGuidesPerLeiden_withTests_PERGENE.rds\")\n"
   ]
  },
  {
   "cell_type": "code",
   "execution_count": null,
   "metadata": {
    "tags": []
   },
   "outputs": [],
   "source": [
    "%%R -w 6 -h 25 -u in\n",
    "\"%ni%\" = Negate( \"%in%\" )\n",
    "\n",
    "library(\"reshape2\")\n",
    "\n",
    "allGuidesPerSCT <- readRDS(\"./outputs/RDSFiles/allGuidesPerLeiden_withTests_PERGENE.rds\")\n",
    "\n",
    "allGuidesPerSCT_FDRs <- allGuidesPerSCT[,c(paste0(\"Leiden\",0:9,\"_FDR_greater\"), \n",
    "                                           paste0(\"Leiden\",0:9,\"_FDR_less\"), \"KOGuide\")]\n",
    "\n",
    "\n",
    "allGuidesPerSCT_FDRs_melted <- melt(allGuidesPerSCT_FDRs, id.vars=\"KOGuide\")\n",
    "allGuidesPerSCT_FDRs_melted <- allGuidesPerSCT_FDRs_melted[allGuidesPerSCT_FDRs_melted$value < 0.15,]\n",
    "\n",
    "\n",
    "allGuidesPerSCT_FDRs_melted$celltype <- sapply(allGuidesPerSCT_FDRs_melted$variable,\n",
    "                                               function(x){strsplit(as.character(x),\"_\")[[1]][1]})\n",
    "allGuidesPerSCT_FDRs_melted$testType <- sapply(allGuidesPerSCT_FDRs_melted$variable,\n",
    "                                               function(x){strsplit(as.character(x),\"_\")[[1]][3]})\n",
    "\n",
    "allGuidesPerSCT_FDRs_melted$oddRatio = 1\n",
    "\n",
    "\n",
    "#head(allGuidesPerSCT[c(\"GENE_Cacybp_\", \"GENE_Efcab8_\", \"GENE_Icos_\", \"GENE_Poc1a_\", \"GENE_Ube2e3_\"),])\n",
    "for(i in 1:nrow(allGuidesPerSCT_FDRs_melted)){\n",
    "    allGuidesPerSCT_FDRs_melted[i,\"oddRatio\"] = allGuidesPerSCT[allGuidesPerSCT_FDRs_melted[i,\"KOGuide\"], \n",
    "                                                                paste0(allGuidesPerSCT_FDRs_melted[i,\"celltype\"], \n",
    "                                                                       \"_estimate_\", \n",
    "                                                                       allGuidesPerSCT_FDRs_melted[i,\"testType\"])]\n",
    "}   \n",
    "\n",
    "allGuidesPerSCT_FDRs_melted = allGuidesPerSCT_FDRs_melted[allGuidesPerSCT_FDRs_melted$KOGuide %ni% c(\"GENE_Cacybp_\",\n",
    "                                                                       \"GENE_Efcab8_\", \n",
    "                                                                       \"GENE_Icos_\", \n",
    "                                                                       \"GENE_Poc1a_\",\n",
    "                                                                       \"GENE_Ube2e3_\"),]\n",
    "\n",
    "kk <- data.frame(matrix(1.0, nrow= 10, ncol=length(unique(allGuidesPerSCT_FDRs_melted$KOGuide))))\n",
    "colnames(kk) = unique(allGuidesPerSCT_FDRs_melted$KOGuide)\n",
    "rownames(kk) = paste0(\"Leiden\",c(\"0\", \"1\", \"2\", \"3\", \"4\", \"5\", \"6\", \"7\", \"8\", \"9\"))\n",
    "\n",
    "\n",
    "for(i in 1:nrow(allGuidesPerSCT_FDRs_melted)){\n",
    "        kk[allGuidesPerSCT_FDRs_melted[i, \"celltype\"],  \n",
    "           allGuidesPerSCT_FDRs_melted[i, \"KOGuide\"]] = allGuidesPerSCT_FDRs_melted[i, \"oddRatio\"]\n",
    "}\n",
    "\n",
    "\n",
    "kk[kk > 2] = 2\n",
    "\n",
    "s = grep(\"NO_TARGET_*\", colnames(kk))\n",
    "kk[,s] = NULL\n",
    "s = grep(\"ONE_NONGENE_*\", colnames(kk))\n",
    "kk[,s] = NULL\n",
    "kk <- kk[, order(colnames(kk))]\n"
   ]
  },
  {
   "cell_type": "code",
   "execution_count": null,
   "metadata": {
    "tags": []
   },
   "outputs": [],
   "source": [
    "%%R -w 6 -h 25 -u in\n",
    "\n",
    "rownames(kk) = sapply(rownames(kk), function(x){paste0( \"TC\",strsplit(as.character(x),\"Leiden\")[[1]][2])})\n",
    "colnames(kk) <- sapply(colnames(kk), function(x){strsplit(x, \"_\")[[1]][2]})\n",
    "\n",
    "\n",
    "kk <- kk[c(\"TC0\", \"TC1\", \"TC2\", \"TC4\", \"TC6\", \"TC7\", \"TC3\", \"TC8\", \"TC5\"),]\n",
    "kk <- data.frame(t(kk))\n",
    "\n",
    "kk = kk[order(-kk$TC0, -kk$TC1, -kk$TC2, -kk$TC4, -kk$TC6, -kk$TC7, -kk$TC3, -kk$TC8, -kk$TC5  ),]\n",
    "\n",
    "\n",
    "library(pheatmap)\n",
    "xx <- pheatmap(kk,cluster_rows=F, cluster_cols=F, \n",
    "         treeheight_col=0, treeheight_row=0, \n",
    "         color=hcl.colors(50, \"Tropic\"), clustering_method=\"ward.D2\",\n",
    "         fontsize_col=15)\n",
    "\n",
    "write.csv(kk, \"SupFig_1Z.csv\")\n",
    "pdf(\"./SupplementaryFigures/S_2AB.pdf\", width=4, height=20)\n",
    "grid::grid.newpage()\n",
    "grid::grid.draw(xx$gtable)\n",
    "dev.off()"
   ]
  },
  {
   "cell_type": "code",
   "execution_count": null,
   "metadata": {},
   "outputs": [],
   "source": []
  }
 ],
 "metadata": {
  "kernelspec": {
   "display_name": "Python 3 (ipykernel)",
   "language": "python",
   "name": "python3"
  },
  "language_info": {
   "codemirror_mode": {
    "name": "ipython",
    "version": 3
   },
   "file_extension": ".py",
   "mimetype": "text/x-python",
   "name": "python",
   "nbconvert_exporter": "python",
   "pygments_lexer": "ipython3",
   "version": "3.8.13"
  }
 },
 "nbformat": 4,
 "nbformat_minor": 4
}
