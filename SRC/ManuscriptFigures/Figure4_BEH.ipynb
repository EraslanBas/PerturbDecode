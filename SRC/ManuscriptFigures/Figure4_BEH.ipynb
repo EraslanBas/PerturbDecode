{
 "cells": [
  {
   "cell_type": "code",
   "execution_count": null,
   "metadata": {
    "tags": []
   },
   "outputs": [],
   "source": [
    "source(\"Main.R\")\n",
    "source(\"Conf.R\")\n",
    "source(\"Utilities.R\")\n",
    "library(\"factoextra\")\n",
    "library(\"maptree\")\n",
    "library(\"ggpubr\")\n",
    "library(\"ica\")\n",
    "library(\"bayesbio\")\n",
    "#library(ICtest)\n",
    "\n",
    "# library(\"AnnotationDbi\")\n",
    "# library(\"org.Mm.eg.db\")\n",
    "#library(\"clusterProfiler\")\n",
    "\n",
    "\n",
    "library(repr)\n",
    "geneCutOff=4\n",
    "targetCutOff=15\n",
    "nFactors=15\n",
    "\n",
    "require(DOSE)\n",
    "options(future.globals.maxSize= 891289600)\n",
    "options(HTTPConstants.CHUNKED = \"false\")\n",
    "\n"
   ]
  },
  {
   "cell_type": "code",
   "execution_count": null,
   "metadata": {},
   "outputs": [],
   "source": [
    "writePathwayFile <- function(pathwayGenes, fileName, cNames=F){\n",
    "  maxlen <- max(lengths(pathwayGenes))\n",
    "  pathwayGenes2 <- lapply(pathwayGenes, function(lst) c(lst, rep(NA, maxlen - length(lst))))\n",
    "\n",
    "  pathwayGenes.df <- do.call(\"cbind\", lapply(pathwayGenes2, as.data.frame)) \n",
    "  colnames(pathwayGenes.df) <- names(pathwayGenes)\n",
    "\n",
    "  write.table(pathwayGenes.df,  fileName, sep=\",\", row.names = F, na = \" \", quote = F, col.names = cNames)\n",
    "}"
   ]
  },
  {
   "cell_type": "code",
   "execution_count": null,
   "metadata": {},
   "outputs": [],
   "source": [
    "selCoefs <- read.csv(\"./../TextFiles/SignificantCoefMatrix.csv\", row.names = 1)\n",
    "selCoefs <- t(selCoefs)\n",
    "KOGenes <-  colnames(selCoefs)\n",
    "KOGenes <- sapply(KOGenes, function(x){strsplit(x,\"_\")[[1]][2]})\n",
    "colnames(selCoefs) <- KOGenes"
   ]
  },
  {
   "cell_type": "code",
   "execution_count": null,
   "metadata": {},
   "outputs": [],
   "source": [
    "guideModulesN <- data.frame(read.csv(\"./../TextFiles/ME_GuideModules_leiden_6_Modules.csv\"),  row.names = 1)\n",
    "rownames(guideModulesN) <- guideModulesN$GuideName \n",
    "guideModulesN$GuideName <- NULL\n",
    "guideModulesN$GuideGroup <- factor(guideModulesN$GuideGroup)\n",
    "guideModulesN$GuideGroup <- paste0(\"K\", guideModulesN$GuideGroup)\n",
    "\n",
    "head(guideModulesN)"
   ]
  },
  {
   "cell_type": "code",
   "execution_count": null,
   "metadata": {},
   "outputs": [],
   "source": [
    "geneModulesN <- data.frame(read.csv(\"./../TextFiles/ME_GeneModules_leiden_11_Modules.csv\", row.names = 1))\n",
    "rownames(geneModulesN) <- geneModulesN$GeneName\n",
    "geneModulesN$GeneName = NULL\n",
    "geneModulesN$GeneGroup <- factor(geneModulesN$GeneGroup)\n",
    "\n",
    "head(geneModulesN)"
   ]
  },
  {
   "cell_type": "code",
   "execution_count": null,
   "metadata": {},
   "outputs": [],
   "source": [
    "k <- icaimax(selCoefs, nc = 15, center = T)"
   ]
  },
  {
   "cell_type": "code",
   "execution_count": null,
   "metadata": {},
   "outputs": [],
   "source": [
    "myH <- data.frame(t(k$S))\n",
    "myW <- data.frame(k$M)\n",
    "rownames(myW) <- KOGenes\n",
    "colnames(myH) <- rownames(selCoefs)\n",
    "rownames(myH) <- paste0(\"Factor \",1:nrow(myH))\n",
    "colnames(myW) <- paste0(\"Factor \",1:ncol(myW))\n"
   ]
  },
  {
   "cell_type": "code",
   "execution_count": null,
   "metadata": {},
   "outputs": [],
   "source": [
    "plotFactorHeatmap <- function(coefsAll, sKOGenes, sEffectGenes, elem){\n",
    "  tempDF <- t(coefsAll[sEffectGenes, sKOGenes])\n",
    "  #tmpPVals <- pValsAllAdj[sTargets, sGenes]\n",
    "  #tempDF[tmpPVals > 0.1] <- 0\n",
    "  tempDF[tempDF > 0.2] = 0.2\n",
    "  tempDF[tempDF < -0.2] = -0.2\n",
    "   \n",
    "  annoCols<-list(GeneGroup=c(G0='#A6CEE3',\n",
    "                           G1='#1F78B4',\n",
    "                           G2='#B2DF8A',\n",
    "                           G3='#33A02C', \n",
    "                           G4='#FB9A99', \n",
    "                           G5='#FDBF6F', \n",
    "                           G6='#FF7F00', \n",
    "                           G7='#CAB2D6',\n",
    "                           G8='#6A3D9A', \n",
    "                           G9='#FFFF99', \n",
    "                           G10=\"#B5651D\" ),\n",
    "                 GuideGroup=c(K0=\"#1f77b4\",\n",
    "                              K1=\"#ff7f0e\",\n",
    "                              K2=\"#279e68\",\n",
    "                              K3=\"#d62728\", \n",
    "                              K4=\"#aa40fc\", \n",
    "                              K5=\"#8c564b\"))\n",
    "    \n",
    "  annotDFcol <- geneModulesN[colnames(tempDF),]\n",
    "  annotDFrow <- guideModulesN[rownames(tempDF),]\n",
    "    \n",
    "  annotDFcol$GeneColor = NULL\n",
    "  annotDFrow$GuideColor = NULL\n",
    "    \n",
    "  options(repr.plot.width=10, repr.plot.height=16)\n",
    "  km2 <- pheatmap(t(tempDF), main = paste0(\"Factor \",elem),\n",
    "           na_col = \"grey\",  \n",
    "           annotation_row = annotDFcol,\n",
    "            annotation_col = annotDFrow,\n",
    "            annotation_colors = annoCols,\n",
    "           clustering_method=\"ward.D2\",\n",
    "           clustering_distance_rows=\"euclidean\",\n",
    "           clustering_distance_cols=\"euclidean\", colorRampPalette(c(\"blue\", \"white\", \"orange\"))(100))\n",
    "    \n",
    "  save_pheatmap_pdf(km2, paste0(\"Factor \",elem,\".pdf\"), width=10, height=16)\n",
    "  \n",
    "  koOrder= colnames(tempDF)[km2$tree_col$order]\n",
    "  geneOrder = rownames(tempDF)[km2$tree_row$order]\n",
    "    \n",
    "  geneClusters=cutree(km2$tree_row, h=1)\n",
    "  i=1\n",
    "  while(length(unique(geneClusters)) > 2){\n",
    "    i = (i+0.5)\n",
    "    geneClusters <- cutree(km2$tree_row, h=i)\n",
    "  }\n",
    "  \n",
    "    \n",
    "  geneClusters_one <- names(geneClusters[geneClusters==1])\n",
    "  geneClusters_two <- names(geneClusters[geneClusters==2])\n",
    "    \n",
    "    \n",
    "  guideClusters=cutree(km2$tree_col, h=1)\n",
    "  i=1\n",
    "  while(length(unique(guideClusters)) > 2){\n",
    "    i = (i+0.5)\n",
    "    guideClusters <- cutree(km2$tree_col, h=i)\n",
    "  }\n",
    "  \n",
    "  guideClusters_one <- names(guideClusters[guideClusters==1])\n",
    "  guideClusters_two <- names(guideClusters[guideClusters==2])\n",
    "    \n",
    "  return(list(\"geneClusters_one\"=geneClusters_one, \"geneClusters_two\"=geneClusters_two,\n",
    "              \"guideClusters_one\"=guideClusters_one, \"guideClusters_two\"=guideClusters_two,\n",
    "             \"geneOrder\" = geneOrder, \"koOrder\" = koOrder))\n",
    "}\n"
   ]
  },
  {
   "cell_type": "code",
   "execution_count": null,
   "metadata": {},
   "outputs": [],
   "source": [
    "getOutliers_up <- function(x){\n",
    "  qX <- quantile(x)\n",
    "  IQR = qX[4] - qX[2]\n",
    "  minLev = qX[2] - IQR\n",
    "  maxLev = qX[4] + IQR\n",
    "  return(x[ x > maxLev])\n",
    "}\n",
    "\n",
    "getOutliers_down <- function(x){\n",
    "  qX <- quantile(x)\n",
    "  IQR = qX[4] - qX[2]\n",
    "  minLev = qX[2] - IQR\n",
    "  maxLev = qX[4] + IQR\n",
    "  \n",
    "  return(x[ x < minLev])\n",
    "}"
   ]
  },
  {
   "cell_type": "code",
   "execution_count": null,
   "metadata": {
    "tags": []
   },
   "outputs": [],
   "source": [
    "pathwayKOs <- list()\n",
    "pathwayKOs_up <- list()\n",
    "pathwayKOs_down <- list()\n",
    "\n",
    "\n",
    "pathwayEffectedGenes <- list()\n",
    "pathwayEffectedUpGenes <- list()\n",
    "pathwayEffectedDownGenes <- list()\n",
    "factorGeneGroups <- list()\n",
    "geneKOOrder <- list()\n",
    "\n",
    "\n",
    "for(elem in c(1:nFactors)){\n",
    "  print(paste0(\"############## FACTOR : \",elem, \" ##################\"))\n",
    "  \n",
    "  factor0X <- myW[,elem]\n",
    "  names(factor0X) <- rownames(myW)\n",
    "  sKOGenes_up <- names(getOutliers_up(factor0X))\n",
    "  sKOGenes_down <- names(getOutliers_down(factor0X))\n",
    "    \n",
    "  factor0Y <- unlist(myH[elem,])\n",
    "  names(factor0Y) <- colnames(myH)\n",
    "  sEffectGenes_up <- names(getOutliers_up(factor0Y))\n",
    "  sEffectGenes_down <- names(getOutliers_down(factor0Y))\n",
    "\n",
    " \n",
    "  k <- plotFactorHeatmap(selCoefs, c(sKOGenes_up, sKOGenes_down), c(sEffectGenes_up, sEffectGenes_down), elem)\n",
    "\n",
    "  names(k) <- c(paste0(\"Factor \", elem, \" gene group 1\"), \n",
    "                paste0(\"Factor \", elem, \" gene group 2\"),\n",
    "                paste0(\"Factor \", elem, \" guide group 1\"),\n",
    "                paste0(\"Factor \", elem, \" guide group 2\"),\n",
    "                paste0(\"Factor \", elem, \" gene order\"), \n",
    "                paste0(\"Factor \", elem, \" guide order\") )\n",
    "  factorGeneGroups <- lappend(factorGeneGroups, k[1:4])\n",
    "  geneKOOrder <- lappend(geneKOOrder, k[5:6])\n",
    "\n",
    "  \n",
    "  pathwayEffectedUpGenes <- lappend(pathwayEffectedUpGenes, sEffectGenes_up)\n",
    "  pathwayEffectedDownGenes <- lappend(pathwayEffectedDownGenes, sEffectGenes_down)\n",
    "  pathwayEffectedGenes <- lappend(pathwayEffectedGenes, c(sEffectGenes_up, sEffectGenes_down))\n",
    "    \n",
    "  pathwayKOs_up <- lappend(pathwayKOs_up, sKOGenes_up) \n",
    "  pathwayKOs_down <- lappend(pathwayKOs_down, sKOGenes_down) \n",
    "  pathwayKOs <- lappend(pathwayKOs, c(sKOGenes_up, sKOGenes_down))\n",
    "    \n",
    "}\n"
   ]
  },
  {
   "cell_type": "code",
   "execution_count": null,
   "metadata": {
    "tags": []
   },
   "outputs": [],
   "source": [
    "names(pathwayEffectedUpGenes) = paste0(\"Factor_\",1:15)\n",
    "names(pathwayEffectedDownGenes) = paste0(\"Factor_\",1:15)"
   ]
  },
  {
   "cell_type": "code",
   "execution_count": null,
   "metadata": {},
   "outputs": [],
   "source": [
    "factorGeneGroups <- unlist(factorGeneGroups, recursive = F)\n",
    "lLen <- unlist(lapply(factorGeneGroups, length))\n",
    "factorGeneGroups <- factorGeneGroups[lLen!=0]"
   ]
  },
  {
   "cell_type": "code",
   "execution_count": null,
   "metadata": {},
   "outputs": [],
   "source": [
    "myICAFactors = data.frame(read.csv(\"./../TextFiles/ICA_15_factors_effectedGenes_paper.csv\",\n",
    "                                   stringsAsFactors=FALSE), \n",
    "                          stringsAsFactors=FALSE)\n",
    "myICAFactors_guides = myICAFactors[,grep(\"guide\", colnames(myICAFactors))]\n",
    "myICAFactors_genes = myICAFactors[,grep(\"gene\", colnames(myICAFactors))]\n"
   ]
  },
  {
   "cell_type": "code",
   "execution_count": null,
   "metadata": {},
   "outputs": [],
   "source": [
    "icaGuides = unique(unlist(myICAFactors_guides))\n",
    "icaGuides = icaGuides[icaGuides != ' ']\n",
    "KOFactorMatrix = data.frame(matrix(0, nrow = length(icaGuides), ncol= nFactors))\n",
    "colnames(KOFactorMatrix) <- paste0(\"Factor \", 1:ncol(KOFactorMatrix))\n",
    "rownames(KOFactorMatrix) <- sort(icaGuides)\n",
    "\n",
    "factorNames = paste0(\"Factor \", sapply(colnames(myICAFactors_guides), \n",
    "                                       function(x){return(strsplit(x,\"\\\\.\")[[1]][2])} ))\n",
    "\n",
    "\n",
    "for(i in 1:ncol(myICAFactors_guides)){\n",
    "    facKOGenes = myICAFactors_guides[,i]\n",
    "    facKOGenes = facKOGenes[facKOGenes != \" \"]\n",
    "    KOFactorMatrix[facKOGenes,factorNames[i]] = 1\n",
    "}\n",
    "\n",
    "KOFactorMatrix = KOFactorMatrix[order(-KOFactorMatrix[,1],\n",
    "                                      -KOFactorMatrix[,2], \n",
    "                                      -KOFactorMatrix[,3], \n",
    "                                      -KOFactorMatrix[,4], \n",
    "                                      -KOFactorMatrix[,5],\n",
    "                                      -KOFactorMatrix[,6],\n",
    "                                      -KOFactorMatrix[,7], \n",
    "                                      -KOFactorMatrix[,8], \n",
    "                                      -KOFactorMatrix[,9], \n",
    "                                      -KOFactorMatrix[,10],\n",
    "                                      -KOFactorMatrix[,11],\n",
    "                                      -KOFactorMatrix[,12], \n",
    "                                      -KOFactorMatrix[,13], \n",
    "                                      -KOFactorMatrix[,14], \n",
    "                                      -KOFactorMatrix[,15]),]"
   ]
  },
  {
   "cell_type": "code",
   "execution_count": null,
   "metadata": {
    "tags": []
   },
   "outputs": [],
   "source": [
    "options(repr.plot.width=6, repr.plot.height=26)\n",
    "\n",
    "kk = pheatmap(KOFactorMatrix, \n",
    "              border_color=\"black\", \n",
    "              color = c(\"white\",\"darkgreen\"),\n",
    "              cluster_cols = F,\n",
    "              cluster_rows = F,\n",
    "              method=\"ward.D2\",\n",
    "              main = \"KO genes per factor\", \n",
    "              fontsize_col = 20,\n",
    "              treeheight_col = 0, \n",
    "              treeheight_row = 0)"
   ]
  },
  {
   "cell_type": "code",
   "execution_count": null,
   "metadata": {
    "tags": []
   },
   "outputs": [],
   "source": [
    "jaccGenDist_1 = data.frame(matrix(0, nrow = nFactors, ncol = nFactors))\n",
    "colnames(jaccGenDist_1) <- colnames(KOFactorMatrix)\n",
    "rownames(jaccGenDist_1) <- colnames(KOFactorMatrix)\n",
    "\n",
    "for(i in 1:nFactors){\n",
    "  for(j in 1:nFactors){\n",
    "    jaccGenDist_1[i,j] = jaccardSets(rownames(KOFactorMatrix)[KOFactorMatrix[,paste0(\"Factor \",i)] ==  1],\n",
    "                                     rownames(KOFactorMatrix)[KOFactorMatrix[,paste0(\"Factor \",j)] ==  1])\n",
    "  }\n",
    "}\n",
    "\n",
    "diag(jaccGenDist_1) <- NA\n"
   ]
  },
  {
   "cell_type": "code",
   "execution_count": null,
   "metadata": {},
   "outputs": [],
   "source": [
    "jaccGenDist_1"
   ]
  },
  {
   "cell_type": "code",
   "execution_count": null,
   "metadata": {},
   "outputs": [],
   "source": [
    "options(repr.plot.width=10, repr.plot.height=10)\n",
    "#jaccGenDist[lower.tri(jaccGenDist)] <- NA\n",
    "\n",
    "xx = pheatmap(jaccGenDist_1, cluster_rows = TRUE,\n",
    "         cluster_cols=TRUE,\n",
    "         clustering_distance_rows=\"euclidean\", \n",
    "         display_numbers = round(jaccGenDist_1,2),\n",
    "         method=\"ward.D2\",\n",
    "clustering_distance_cols=\"euclidean\", \n",
    "         fontsize = 15)\n",
    "\n",
    "#save_pheatmap_pdf(xx, \"Figure_S4F.pdf\", width=10, height=10)"
   ]
  },
  {
   "cell_type": "code",
   "execution_count": null,
   "metadata": {
    "tags": []
   },
   "outputs": [],
   "source": [
    "# corrplot::corrplot(as.matrix(jaccGenDist), order = 'AOE', \n",
    "#                     method = 'number', is.corr = FALSE, tl.cex = 1.5,\n",
    "#                    diag = FALSE, type = 'upper')"
   ]
  },
  {
   "cell_type": "code",
   "execution_count": null,
   "metadata": {
    "tags": []
   },
   "outputs": [],
   "source": [
    "GenesFactorMatrix = data.frame(matrix(0, ncol = length(unique(unlist(myICAFactors_genes))), nrow= nFactors))\n",
    "rownames(GenesFactorMatrix) <- paste0(\"Factor \", 1:nrow(GenesFactorMatrix))\n",
    "colnames(GenesFactorMatrix) <- sort(unique(unlist(myICAFactors_genes)))\n",
    "\n",
    "factorNames = paste0(\"Factor \", sapply(colnames(myICAFactors_genes), \n",
    "                                       function(x){return(strsplit(x,\"\\\\.\")[[1]][2])} ))\n",
    "\n",
    "\n",
    "for(i in 1:ncol(myICAFactors_genes)){\n",
    "    facGenes = myICAFactors_genes[,i]\n",
    "    facGenes = facGenes[facGenes != \" \"]\n",
    "    GenesFactorMatrix[factorNames[i],facGenes] = 1\n",
    "}\n",
    "\n",
    "GenesFactorMatrix = t(GenesFactorMatrix)\n",
    "GenesFactorMatrix = GenesFactorMatrix[order(-GenesFactorMatrix[,1],\n",
    "                                            -GenesFactorMatrix[,2], \n",
    "                                            -GenesFactorMatrix[,3],\n",
    "                                            -GenesFactorMatrix[,4], \n",
    "                                            -GenesFactorMatrix[,5],\n",
    "                                            -GenesFactorMatrix[,6],\n",
    "                                            -GenesFactorMatrix[,7], \n",
    "                                            -GenesFactorMatrix[,8], \n",
    "                                            -GenesFactorMatrix[,9],\n",
    "                                            -GenesFactorMatrix[,10],\n",
    "                                            -GenesFactorMatrix[,11],\n",
    "                                            -GenesFactorMatrix[,12], \n",
    "                                            -GenesFactorMatrix[,13], \n",
    "                                            -GenesFactorMatrix[,14], \n",
    "                                            -GenesFactorMatrix[,15]\n",
    "                   ),]\n",
    "GenesFactorMatrix = t(GenesFactorMatrix) "
   ]
  },
  {
   "cell_type": "code",
   "execution_count": null,
   "metadata": {},
   "outputs": [],
   "source": [
    "options(repr.plot.width=15, repr.plot.height=4)\n",
    "\n",
    "xx = pheatmap(GenesFactorMatrix, \n",
    "              border_color=\"black\", \n",
    "              color = c(\"white\",\"red\"),\n",
    "              cluster_cols = FALSE,\n",
    "              method=\"ward.D2\",\n",
    "              cluster_rows = FALSE,\n",
    "              main = \"Outlier genes per factor\", \n",
    "              fontsize_col = 10,\n",
    "              treeheight_col = 0, \n",
    "              treeheight_row = 0)\n",
    "\n",
    "#save_pheatmap_pdf(xx, \"Figure_S4B.pdf\", width=15, height=4)"
   ]
  },
  {
   "cell_type": "code",
   "execution_count": null,
   "metadata": {},
   "outputs": [],
   "source": [
    "options(repr.plot.width=10, repr.plot.height=10)\n",
    "\n",
    "jaccGenDist = data.frame(matrix(0, nrow = nFactors, ncol = nFactors))\n",
    "colnames(jaccGenDist) <- rownames(GenesFactorMatrix)\n",
    "rownames(jaccGenDist) <- rownames(GenesFactorMatrix)\n",
    "\n",
    "for(i in 1:nFactors){\n",
    "  for(j in 1:nFactors){\n",
    "    jaccGenDist[i,j] = jaccardSets(colnames(GenesFactorMatrix)[GenesFactorMatrix[paste0(\"Factor \",i),] ==  1],\n",
    "                                   colnames(GenesFactorMatrix)[GenesFactorMatrix[paste0(\"Factor \",j),] ==  1])\n",
    "  }\n",
    "}\n",
    "\n",
    "diag(jaccGenDist) <- NA"
   ]
  },
  {
   "cell_type": "code",
   "execution_count": null,
   "metadata": {},
   "outputs": [],
   "source": [
    "options(repr.plot.width=10, repr.plot.height=10)\n",
    "\n",
    "xx = pheatmap(jaccGenDist, clustering_method=\"ward.D2\",\n",
    " clustering_distance_rows=\"euclidean\", \n",
    "         display_numbers = round(jaccGenDist,2),\n",
    "clustering_distance_cols=\"euclidean\", \n",
    "         fontsize = 15)\n",
    "\n",
    "save_pheatmap_pdf(xx, \"S_5G.pdf\", width=10, height=10)"
   ]
  },
  {
   "cell_type": "code",
   "execution_count": null,
   "metadata": {},
   "outputs": [],
   "source": [
    "options(repr.plot.width=10, repr.plot.height=10)\n",
    "\n",
    "rcOrder = rownames(jaccGenDist)[xx$tree_col$order]\n",
    "\n",
    "xx = pheatmap(jaccGenDist_1[rcOrder, rcOrder], \n",
    "              cluster_rows=FALSE,\n",
    "              cluster_cols=FALSE,\n",
    " clustering_distance_rows=\"euclidean\", \n",
    "         display_numbers = round(jaccGenDist_1[rcOrder, rcOrder],2),\n",
    "clustering_distance_cols=\"euclidean\", \n",
    "         fontsize = 15)\n",
    "\n",
    "save_pheatmap_pdf(xx, \"S_5H.pdf\", width=10, height=10)"
   ]
  },
  {
   "cell_type": "code",
   "execution_count": null,
   "metadata": {},
   "outputs": [],
   "source": []
  }
 ],
 "metadata": {
  "kernelspec": {
   "display_name": "R",
   "language": "R",
   "name": "ir"
  },
  "language_info": {
   "codemirror_mode": "r",
   "file_extension": ".r",
   "mimetype": "text/x-r-source",
   "name": "R",
   "pygments_lexer": "r",
   "version": "4.2.1"
  }
 },
 "nbformat": 4,
 "nbformat_minor": 4
}
