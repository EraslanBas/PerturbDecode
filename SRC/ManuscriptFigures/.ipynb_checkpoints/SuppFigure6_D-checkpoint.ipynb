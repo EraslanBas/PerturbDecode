{
 "cells": [
  {
   "cell_type": "code",
   "execution_count": 1,
   "id": "17320ffd-6b20-488c-86c3-47b48f9b8ed6",
   "metadata": {
    "tags": []
   },
   "outputs": [
    {
     "name": "stderr",
     "output_type": "stream",
     "text": [
      "corrplot 0.92 loaded\n",
      "\n",
      "\n",
      "Attaching package: ‘pls’\n",
      "\n",
      "\n",
      "The following object is masked from ‘package:corrplot’:\n",
      "\n",
      "    corrplot\n",
      "\n",
      "\n",
      "The following object is masked from ‘package:stats’:\n",
      "\n",
      "    loadings\n",
      "\n",
      "\n",
      "\n",
      "Attaching package: ‘reshape2’\n",
      "\n",
      "\n",
      "The following objects are masked from ‘package:data.table’:\n",
      "\n",
      "    dcast, melt\n",
      "\n",
      "\n"
     ]
    }
   ],
   "source": [
    "source(\"Main.R\")\n",
    "source(\"Conf.R\")\n",
    "source(\"Utilities.R\")\n",
    "library(\"stringr\")"
   ]
  },
  {
   "cell_type": "code",
   "execution_count": 2,
   "id": "c84727fd-45f9-4781-9369-fbb5b3aa995f",
   "metadata": {},
   "outputs": [
    {
     "data": {
      "text/html": [
       "<table class=\"dataframe\">\n",
       "<caption>A data.frame: 6 × 3</caption>\n",
       "<thead>\n",
       "\t<tr><th></th><th scope=col>term</th><th scope=col>respGene</th><th scope=col>FDREffect</th></tr>\n",
       "\t<tr><th></th><th scope=col>&lt;chr&gt;</th><th scope=col>&lt;chr&gt;</th><th scope=col>&lt;dbl&gt;</th></tr>\n",
       "</thead>\n",
       "<tbody>\n",
       "\t<tr><th scope=row>1</th><td>K0:K0</td><td>AI314180</td><td>0.7555949</td></tr>\n",
       "\t<tr><th scope=row>2</th><td>K1:K1</td><td>AI314180</td><td>0.5077014</td></tr>\n",
       "\t<tr><th scope=row>3</th><td>K2:K2</td><td>AI314180</td><td>0.5673573</td></tr>\n",
       "\t<tr><th scope=row>4</th><td>K3:K3</td><td>AI314180</td><td>0.5673573</td></tr>\n",
       "\t<tr><th scope=row>5</th><td>K4:K4</td><td>AI314180</td><td>0.7555949</td></tr>\n",
       "\t<tr><th scope=row>7</th><td>K0:K0</td><td>Abcc1   </td><td>0.7052046</td></tr>\n",
       "</tbody>\n",
       "</table>\n"
      ],
      "text/latex": [
       "A data.frame: 6 × 3\n",
       "\\begin{tabular}{r|lll}\n",
       "  & term & respGene & FDREffect\\\\\n",
       "  & <chr> & <chr> & <dbl>\\\\\n",
       "\\hline\n",
       "\t1 & K0:K0 & AI314180 & 0.7555949\\\\\n",
       "\t2 & K1:K1 & AI314180 & 0.5077014\\\\\n",
       "\t3 & K2:K2 & AI314180 & 0.5673573\\\\\n",
       "\t4 & K3:K3 & AI314180 & 0.5673573\\\\\n",
       "\t5 & K4:K4 & AI314180 & 0.7555949\\\\\n",
       "\t7 & K0:K0 & Abcc1    & 0.7052046\\\\\n",
       "\\end{tabular}\n"
      ],
      "text/markdown": [
       "\n",
       "A data.frame: 6 × 3\n",
       "\n",
       "| <!--/--> | term &lt;chr&gt; | respGene &lt;chr&gt; | FDREffect &lt;dbl&gt; |\n",
       "|---|---|---|---|\n",
       "| 1 | K0:K0 | AI314180 | 0.7555949 |\n",
       "| 2 | K1:K1 | AI314180 | 0.5077014 |\n",
       "| 3 | K2:K2 | AI314180 | 0.5673573 |\n",
       "| 4 | K3:K3 | AI314180 | 0.5673573 |\n",
       "| 5 | K4:K4 | AI314180 | 0.7555949 |\n",
       "| 7 | K0:K0 | Abcc1    | 0.7052046 |\n",
       "\n"
      ],
      "text/plain": [
       "  term  respGene FDREffect\n",
       "1 K0:K0 AI314180 0.7555949\n",
       "2 K1:K1 AI314180 0.5077014\n",
       "3 K2:K2 AI314180 0.5673573\n",
       "4 K3:K3 AI314180 0.5673573\n",
       "5 K4:K4 AI314180 0.7555949\n",
       "7 K0:K0 Abcc1    0.7052046"
      ]
     },
     "metadata": {},
     "output_type": "display_data"
    }
   ],
   "source": [
    "doubles <- readRDS(\"./../Notebooks/CombinatorialPerturbations/RDSFiles/ComboEffects_doublesSameGroup.rds\")\n",
    "doubles <- doubles[doubles$term %ni% c(\"(Intercept)\", \"n_genes\", \"mt_frac\", paste0(\"leiden\", 1:9)),]\n",
    "doubles = data.table(doubles)\n",
    "doubles[,FDREffect:=p.adjust(p.value, method = \"fdr\", n = length(p.value)),by=respGene]\n",
    "doubles = data.frame(doubles)\n",
    "\n",
    "doubles[,c(\"estimate\",\"std.error\", \"statistic\", \"p.value\")] = NULL\n",
    "doubles$term = sapply(doubles$term, function(x){str_replace_all(x, \"_\", \"\")})\n",
    "doubles = doubles[doubles$term != \"K5\",] \n",
    "\n",
    "doubles[doubles$term == \"K0\",\"term\"] = 'K0:K0'\n",
    "doubles[doubles$term == \"K1\",\"term\"] = 'K1:K1'\n",
    "doubles[doubles$term == \"K2\",\"term\"] = 'K2:K2'\n",
    "doubles[doubles$term == \"K3\",\"term\"] = 'K3:K3'\n",
    "doubles[doubles$term == \"K4\",\"term\"] = 'K4:K4'\n",
    "\n",
    "#\n",
    "head(doubles)\n"
   ]
  },
  {
   "cell_type": "code",
   "execution_count": 3,
   "id": "a7e6b3d5-a323-46e4-9a94-5fb9fc08c0e1",
   "metadata": {},
   "outputs": [
    {
     "data": {
      "text/html": [
       "<table class=\"dataframe\">\n",
       "<caption>A data.frame: 6 × 3</caption>\n",
       "<thead>\n",
       "\t<tr><th></th><th scope=col>term</th><th scope=col>respGene</th><th scope=col>FDREffect</th></tr>\n",
       "\t<tr><th></th><th scope=col>&lt;chr&gt;</th><th scope=col>&lt;chr&gt;</th><th scope=col>&lt;dbl&gt;</th></tr>\n",
       "</thead>\n",
       "<tbody>\n",
       "\t<tr><th scope=row>2</th><td>K0:K1</td><td>AI314180</td><td>0.783263548</td></tr>\n",
       "\t<tr><th scope=row>3</th><td>K0:K2</td><td>AI314180</td><td>0.942385596</td></tr>\n",
       "\t<tr><th scope=row>4</th><td>K0:K3</td><td>AI314180</td><td>0.887980223</td></tr>\n",
       "\t<tr><th scope=row>5</th><td>K0:K4</td><td>AI314180</td><td>0.783263548</td></tr>\n",
       "\t<tr><th scope=row>6</th><td>K0:K5</td><td>AI314180</td><td>0.717188672</td></tr>\n",
       "\t<tr><th scope=row>8</th><td>K1:K2</td><td>AI314180</td><td>0.004997751</td></tr>\n",
       "</tbody>\n",
       "</table>\n"
      ],
      "text/latex": [
       "A data.frame: 6 × 3\n",
       "\\begin{tabular}{r|lll}\n",
       "  & term & respGene & FDREffect\\\\\n",
       "  & <chr> & <chr> & <dbl>\\\\\n",
       "\\hline\n",
       "\t2 & K0:K1 & AI314180 & 0.783263548\\\\\n",
       "\t3 & K0:K2 & AI314180 & 0.942385596\\\\\n",
       "\t4 & K0:K3 & AI314180 & 0.887980223\\\\\n",
       "\t5 & K0:K4 & AI314180 & 0.783263548\\\\\n",
       "\t6 & K0:K5 & AI314180 & 0.717188672\\\\\n",
       "\t8 & K1:K2 & AI314180 & 0.004997751\\\\\n",
       "\\end{tabular}\n"
      ],
      "text/markdown": [
       "\n",
       "A data.frame: 6 × 3\n",
       "\n",
       "| <!--/--> | term &lt;chr&gt; | respGene &lt;chr&gt; | FDREffect &lt;dbl&gt; |\n",
       "|---|---|---|---|\n",
       "| 2 | K0:K1 | AI314180 | 0.783263548 |\n",
       "| 3 | K0:K2 | AI314180 | 0.942385596 |\n",
       "| 4 | K0:K3 | AI314180 | 0.887980223 |\n",
       "| 5 | K0:K4 | AI314180 | 0.783263548 |\n",
       "| 6 | K0:K5 | AI314180 | 0.717188672 |\n",
       "| 8 | K1:K2 | AI314180 | 0.004997751 |\n",
       "\n"
      ],
      "text/plain": [
       "  term  respGene FDREffect  \n",
       "2 K0:K1 AI314180 0.783263548\n",
       "3 K0:K2 AI314180 0.942385596\n",
       "4 K0:K3 AI314180 0.887980223\n",
       "5 K0:K4 AI314180 0.783263548\n",
       "6 K0:K5 AI314180 0.717188672\n",
       "8 K1:K2 AI314180 0.004997751"
      ]
     },
     "metadata": {},
     "output_type": "display_data"
    }
   ],
   "source": [
    "combos <- readRDS(\"./../Notebooks/CombinatorialPerturbations/RDSFiles/ComboEffects_lm_residuals.rds\")\n",
    "combos <- combos[combos$term %ni% c(\"(Intercept)\", \"n_genes\", \"mt_frac\", paste0(\"leiden\", 1:9)),]\n",
    "combos = data.table(combos)\n",
    "combos[,FDR:=p.adjust(p.value, method = \"fdr\", n = length(p.value)),by=respGene]\n",
    "combos = data.frame(combos)\n",
    "combosFDR = copy(combos)\n",
    "\n",
    "combos = combos[combos$term %ni% c(\"K_0\",\"K_1\",\"K_2\",\"K_3\",\"K_4\",\"K_5\"),]\n",
    "combos$term = sapply(combos$term, function(x){str_replace_all(x, \"W\", \":\")})\n",
    "combos$term = sapply(combos$term, function(x){str_replace_all(x, \"_\", \"\")})\n",
    "combos = combos[,c(\"term\", \"respGene\", \"FDR\")]\n",
    "colnames(combos) = c(\"term\", \"respGene\", \"FDREffect\")\n",
    "head(combos)\n",
    "\n"
   ]
  },
  {
   "cell_type": "code",
   "execution_count": 4,
   "id": "9fb045cd-8a0c-4585-8a0e-870e268cefbe",
   "metadata": {},
   "outputs": [
    {
     "data": {
      "text/html": [
       "<table class=\"dataframe\">\n",
       "<caption>A data.frame: 6 × 3</caption>\n",
       "<thead>\n",
       "\t<tr><th></th><th scope=col>term</th><th scope=col>respGene</th><th scope=col>FDREffect</th></tr>\n",
       "\t<tr><th></th><th scope=col>&lt;chr&gt;</th><th scope=col>&lt;chr&gt;</th><th scope=col>&lt;dbl&gt;</th></tr>\n",
       "</thead>\n",
       "<tbody>\n",
       "\t<tr><th scope=row>1</th><td>K0:K0</td><td>AI314180</td><td>0.7555949</td></tr>\n",
       "\t<tr><th scope=row>2</th><td>K1:K1</td><td>AI314180</td><td>0.5077014</td></tr>\n",
       "\t<tr><th scope=row>3</th><td>K2:K2</td><td>AI314180</td><td>0.5673573</td></tr>\n",
       "\t<tr><th scope=row>4</th><td>K3:K3</td><td>AI314180</td><td>0.5673573</td></tr>\n",
       "\t<tr><th scope=row>5</th><td>K4:K4</td><td>AI314180</td><td>0.7555949</td></tr>\n",
       "\t<tr><th scope=row>7</th><td>K0:K0</td><td>Abcc1   </td><td>0.7052046</td></tr>\n",
       "</tbody>\n",
       "</table>\n"
      ],
      "text/latex": [
       "A data.frame: 6 × 3\n",
       "\\begin{tabular}{r|lll}\n",
       "  & term & respGene & FDREffect\\\\\n",
       "  & <chr> & <chr> & <dbl>\\\\\n",
       "\\hline\n",
       "\t1 & K0:K0 & AI314180 & 0.7555949\\\\\n",
       "\t2 & K1:K1 & AI314180 & 0.5077014\\\\\n",
       "\t3 & K2:K2 & AI314180 & 0.5673573\\\\\n",
       "\t4 & K3:K3 & AI314180 & 0.5673573\\\\\n",
       "\t5 & K4:K4 & AI314180 & 0.7555949\\\\\n",
       "\t7 & K0:K0 & Abcc1    & 0.7052046\\\\\n",
       "\\end{tabular}\n"
      ],
      "text/markdown": [
       "\n",
       "A data.frame: 6 × 3\n",
       "\n",
       "| <!--/--> | term &lt;chr&gt; | respGene &lt;chr&gt; | FDREffect &lt;dbl&gt; |\n",
       "|---|---|---|---|\n",
       "| 1 | K0:K0 | AI314180 | 0.7555949 |\n",
       "| 2 | K1:K1 | AI314180 | 0.5077014 |\n",
       "| 3 | K2:K2 | AI314180 | 0.5673573 |\n",
       "| 4 | K3:K3 | AI314180 | 0.5673573 |\n",
       "| 5 | K4:K4 | AI314180 | 0.7555949 |\n",
       "| 7 | K0:K0 | Abcc1    | 0.7052046 |\n",
       "\n"
      ],
      "text/plain": [
       "  term  respGene FDREffect\n",
       "1 K0:K0 AI314180 0.7555949\n",
       "2 K1:K1 AI314180 0.5077014\n",
       "3 K2:K2 AI314180 0.5673573\n",
       "4 K3:K3 AI314180 0.5673573\n",
       "5 K4:K4 AI314180 0.7555949\n",
       "7 K0:K0 Abcc1    0.7052046"
      ]
     },
     "metadata": {},
     "output_type": "display_data"
    }
   ],
   "source": [
    "combos <- rbind(doubles, combos)\n",
    "\n",
    "head(combos)"
   ]
  },
  {
   "cell_type": "code",
   "execution_count": 5,
   "id": "3adcf442-9df1-4885-9f50-cbee4902eb98",
   "metadata": {},
   "outputs": [
    {
     "data": {
      "text/html": [
       "<table class=\"dataframe\">\n",
       "<caption>A data.frame: 6 × 3</caption>\n",
       "<thead>\n",
       "\t<tr><th></th><th scope=col>respGene</th><th scope=col>term</th><th scope=col>FDRInteraction</th></tr>\n",
       "\t<tr><th></th><th scope=col>&lt;chr&gt;</th><th scope=col>&lt;chr&gt;</th><th scope=col>&lt;dbl&gt;</th></tr>\n",
       "</thead>\n",
       "<tbody>\n",
       "\t<tr><th scope=row>7</th><td>AI314180</td><td>K0:K1</td><td>0.9370973</td></tr>\n",
       "\t<tr><th scope=row>8</th><td>AI314180</td><td>K0:K2</td><td>0.7508280</td></tr>\n",
       "\t<tr><th scope=row>9</th><td>AI314180</td><td>K0:K3</td><td>0.9370973</td></tr>\n",
       "\t<tr><th scope=row>10</th><td>AI314180</td><td>K0:K4</td><td>0.3049500</td></tr>\n",
       "\t<tr><th scope=row>11</th><td>AI314180</td><td>K0:K5</td><td>0.4194340</td></tr>\n",
       "\t<tr><th scope=row>12</th><td>AI314180</td><td>K1:K2</td><td>0.1706959</td></tr>\n",
       "</tbody>\n",
       "</table>\n"
      ],
      "text/latex": [
       "A data.frame: 6 × 3\n",
       "\\begin{tabular}{r|lll}\n",
       "  & respGene & term & FDRInteraction\\\\\n",
       "  & <chr> & <chr> & <dbl>\\\\\n",
       "\\hline\n",
       "\t7 & AI314180 & K0:K1 & 0.9370973\\\\\n",
       "\t8 & AI314180 & K0:K2 & 0.7508280\\\\\n",
       "\t9 & AI314180 & K0:K3 & 0.9370973\\\\\n",
       "\t10 & AI314180 & K0:K4 & 0.3049500\\\\\n",
       "\t11 & AI314180 & K0:K5 & 0.4194340\\\\\n",
       "\t12 & AI314180 & K1:K2 & 0.1706959\\\\\n",
       "\\end{tabular}\n"
      ],
      "text/markdown": [
       "\n",
       "A data.frame: 6 × 3\n",
       "\n",
       "| <!--/--> | respGene &lt;chr&gt; | term &lt;chr&gt; | FDRInteraction &lt;dbl&gt; |\n",
       "|---|---|---|---|\n",
       "| 7 | AI314180 | K0:K1 | 0.9370973 |\n",
       "| 8 | AI314180 | K0:K2 | 0.7508280 |\n",
       "| 9 | AI314180 | K0:K3 | 0.9370973 |\n",
       "| 10 | AI314180 | K0:K4 | 0.3049500 |\n",
       "| 11 | AI314180 | K0:K5 | 0.4194340 |\n",
       "| 12 | AI314180 | K1:K2 | 0.1706959 |\n",
       "\n"
      ],
      "text/plain": [
       "   respGene term  FDRInteraction\n",
       "7  AI314180 K0:K1 0.9370973     \n",
       "8  AI314180 K0:K2 0.7508280     \n",
       "9  AI314180 K0:K3 0.9370973     \n",
       "10 AI314180 K0:K4 0.3049500     \n",
       "11 AI314180 K0:K5 0.4194340     \n",
       "12 AI314180 K1:K2 0.1706959     "
      ]
     },
     "metadata": {},
     "output_type": "display_data"
    }
   ],
   "source": [
    "doubleRes <- readRDS(\"./../Notebooks/CombinatorialPerturbations/RDSFiles/ComboEffects_doublesResampleRes.rds\")\n",
    "rownames(doubleRes) = doubleRes$respGene\n",
    "doubleRes = melt(doubleRes, id.vars=\"respGene\")\n",
    "colnames(doubleRes) = c(\"respGene\",\"term\",\"FDRInteraction\")\n",
    "\n",
    "combosInterP <- readRDS(\"./../Notebooks/CombinatorialPerturbations/RDSFiles/ComboEffects_lm_residuals_withInteractions.rds\")\n",
    "combosInterP <- combosInterP[combosInterP$term %ni% c(\"(Intercept)\", \"n_genes\", \"mt_frac\", paste0(\"leiden\", 1:9)),]\n",
    "combosInterP = data.table(combosInterP)\n",
    "combosInterP[,FDR:=p.adjust(p.value, method = \"fdr\", n = length(p.value)),by=respGene]\n",
    "combosInterP = data.frame(combosInterP)\n",
    "combosInterP = combosInterP[combosInterP$term %ni% c(\"K_0\",\"K_1\",\"K_2\",\"K_3\",\"K_4\",\"K_5\"),]\n",
    "\n",
    "\n",
    "combosInterP = combosInterP[,c(\"respGene\",\"term\",\"FDR\")]\n",
    "colnames(combosInterP) = c(\"respGene\",\"term\",\"FDRInteraction\")\n",
    "combosInterP$term = sapply(combosInterP$term, function(x){str_replace_all(x, \"_\", \"\")})\n",
    "head(combosInterP)\n",
    "\n",
    "interEffects = rbind(doubleRes, combosInterP)"
   ]
  },
  {
   "cell_type": "code",
   "execution_count": 6,
   "id": "12aa337b-bc34-4eb5-81af-34001744f336",
   "metadata": {},
   "outputs": [],
   "source": [
    "myAll = merge(combos, interEffects, by=c(\"respGene\",\"term\"))\n",
    "myAll <- myAll[myAll$FDREffect < 0.1,]\n",
    "myAll$sgnInteraction = FALSE\n",
    "myAll[myAll$FDRInteraction < 0.1,\"sgnInteraction\"] = TRUE"
   ]
  },
  {
   "cell_type": "code",
   "execution_count": 7,
   "id": "967f8478-cf4d-4552-a08f-6b56e6b9aa03",
   "metadata": {},
   "outputs": [
    {
     "data": {
      "text/html": [
       "<table class=\"dataframe\">\n",
       "<caption>A data.frame: 6 × 5</caption>\n",
       "<thead>\n",
       "\t<tr><th></th><th scope=col>respGene</th><th scope=col>term</th><th scope=col>FDREffect</th><th scope=col>FDRInteraction</th><th scope=col>sgnInteraction</th></tr>\n",
       "\t<tr><th></th><th scope=col>&lt;chr&gt;</th><th scope=col>&lt;chr&gt;</th><th scope=col>&lt;dbl&gt;</th><th scope=col>&lt;dbl&gt;</th><th scope=col>&lt;lgl&gt;</th></tr>\n",
       "</thead>\n",
       "<tbody>\n",
       "\t<tr><th scope=row>17</th><td>0610012G03Rik</td><td>K3:K4</td><td>0.00236801</td><td>0.0207165877</td><td>TRUE</td></tr>\n",
       "\t<tr><th scope=row>21</th><td>2010005H15Rik</td><td>K0:K0</td><td>0.09586089</td><td>0.0000000000</td><td>TRUE</td></tr>\n",
       "\t<tr><th scope=row>22</th><td>2010005H15Rik</td><td>K0:K1</td><td>0.01732287</td><td>0.0541981293</td><td>TRUE</td></tr>\n",
       "\t<tr><th scope=row>28</th><td>2010005H15Rik</td><td>K1:K2</td><td>0.01732287</td><td>0.0078020149</td><td>TRUE</td></tr>\n",
       "\t<tr><th scope=row>30</th><td>2010005H15Rik</td><td>K1:K4</td><td>0.02551384</td><td>0.0269974359</td><td>TRUE</td></tr>\n",
       "\t<tr><th scope=row>33</th><td>2010005H15Rik</td><td>K2:K3</td><td>0.02551384</td><td>0.0005666698</td><td>TRUE</td></tr>\n",
       "</tbody>\n",
       "</table>\n"
      ],
      "text/latex": [
       "A data.frame: 6 × 5\n",
       "\\begin{tabular}{r|lllll}\n",
       "  & respGene & term & FDREffect & FDRInteraction & sgnInteraction\\\\\n",
       "  & <chr> & <chr> & <dbl> & <dbl> & <lgl>\\\\\n",
       "\\hline\n",
       "\t17 & 0610012G03Rik & K3:K4 & 0.00236801 & 0.0207165877 & TRUE\\\\\n",
       "\t21 & 2010005H15Rik & K0:K0 & 0.09586089 & 0.0000000000 & TRUE\\\\\n",
       "\t22 & 2010005H15Rik & K0:K1 & 0.01732287 & 0.0541981293 & TRUE\\\\\n",
       "\t28 & 2010005H15Rik & K1:K2 & 0.01732287 & 0.0078020149 & TRUE\\\\\n",
       "\t30 & 2010005H15Rik & K1:K4 & 0.02551384 & 0.0269974359 & TRUE\\\\\n",
       "\t33 & 2010005H15Rik & K2:K3 & 0.02551384 & 0.0005666698 & TRUE\\\\\n",
       "\\end{tabular}\n"
      ],
      "text/markdown": [
       "\n",
       "A data.frame: 6 × 5\n",
       "\n",
       "| <!--/--> | respGene &lt;chr&gt; | term &lt;chr&gt; | FDREffect &lt;dbl&gt; | FDRInteraction &lt;dbl&gt; | sgnInteraction &lt;lgl&gt; |\n",
       "|---|---|---|---|---|---|\n",
       "| 17 | 0610012G03Rik | K3:K4 | 0.00236801 | 0.0207165877 | TRUE |\n",
       "| 21 | 2010005H15Rik | K0:K0 | 0.09586089 | 0.0000000000 | TRUE |\n",
       "| 22 | 2010005H15Rik | K0:K1 | 0.01732287 | 0.0541981293 | TRUE |\n",
       "| 28 | 2010005H15Rik | K1:K2 | 0.01732287 | 0.0078020149 | TRUE |\n",
       "| 30 | 2010005H15Rik | K1:K4 | 0.02551384 | 0.0269974359 | TRUE |\n",
       "| 33 | 2010005H15Rik | K2:K3 | 0.02551384 | 0.0005666698 | TRUE |\n",
       "\n"
      ],
      "text/plain": [
       "   respGene      term  FDREffect  FDRInteraction sgnInteraction\n",
       "17 0610012G03Rik K3:K4 0.00236801 0.0207165877   TRUE          \n",
       "21 2010005H15Rik K0:K0 0.09586089 0.0000000000   TRUE          \n",
       "22 2010005H15Rik K0:K1 0.01732287 0.0541981293   TRUE          \n",
       "28 2010005H15Rik K1:K2 0.01732287 0.0078020149   TRUE          \n",
       "30 2010005H15Rik K1:K4 0.02551384 0.0269974359   TRUE          \n",
       "33 2010005H15Rik K2:K3 0.02551384 0.0005666698   TRUE          "
      ]
     },
     "metadata": {},
     "output_type": "display_data"
    }
   ],
   "source": [
    "head(myAll)"
   ]
  },
  {
   "cell_type": "code",
   "execution_count": 8,
   "id": "9d66ffde-7452-401a-99b0-66c53b09b3e5",
   "metadata": {},
   "outputs": [],
   "source": [
    "myAll = data.frame(table(myAll[,c(\"term\",\"sgnInteraction\")]))"
   ]
  },
  {
   "cell_type": "code",
   "execution_count": 9,
   "id": "d02c392c-798c-4c7c-8c24-afd01da7aa2f",
   "metadata": {},
   "outputs": [
    {
     "data": {
      "text/html": [
       "<table class=\"dataframe\">\n",
       "<caption>A data.frame: 6 × 3</caption>\n",
       "<thead>\n",
       "\t<tr><th></th><th scope=col>term</th><th scope=col>sgnInteraction</th><th scope=col>Freq</th></tr>\n",
       "\t<tr><th></th><th scope=col>&lt;fct&gt;</th><th scope=col>&lt;fct&gt;</th><th scope=col>&lt;int&gt;</th></tr>\n",
       "</thead>\n",
       "<tbody>\n",
       "\t<tr><th scope=row>1</th><td>K0:K0</td><td>FALSE</td><td> 10</td></tr>\n",
       "\t<tr><th scope=row>2</th><td>K0:K1</td><td>FALSE</td><td>181</td></tr>\n",
       "\t<tr><th scope=row>3</th><td>K0:K2</td><td>FALSE</td><td>196</td></tr>\n",
       "\t<tr><th scope=row>4</th><td>K0:K3</td><td>FALSE</td><td>123</td></tr>\n",
       "\t<tr><th scope=row>5</th><td>K0:K4</td><td>FALSE</td><td>220</td></tr>\n",
       "\t<tr><th scope=row>6</th><td>K0:K5</td><td>FALSE</td><td>152</td></tr>\n",
       "</tbody>\n",
       "</table>\n"
      ],
      "text/latex": [
       "A data.frame: 6 × 3\n",
       "\\begin{tabular}{r|lll}\n",
       "  & term & sgnInteraction & Freq\\\\\n",
       "  & <fct> & <fct> & <int>\\\\\n",
       "\\hline\n",
       "\t1 & K0:K0 & FALSE &  10\\\\\n",
       "\t2 & K0:K1 & FALSE & 181\\\\\n",
       "\t3 & K0:K2 & FALSE & 196\\\\\n",
       "\t4 & K0:K3 & FALSE & 123\\\\\n",
       "\t5 & K0:K4 & FALSE & 220\\\\\n",
       "\t6 & K0:K5 & FALSE & 152\\\\\n",
       "\\end{tabular}\n"
      ],
      "text/markdown": [
       "\n",
       "A data.frame: 6 × 3\n",
       "\n",
       "| <!--/--> | term &lt;fct&gt; | sgnInteraction &lt;fct&gt; | Freq &lt;int&gt; |\n",
       "|---|---|---|---|\n",
       "| 1 | K0:K0 | FALSE |  10 |\n",
       "| 2 | K0:K1 | FALSE | 181 |\n",
       "| 3 | K0:K2 | FALSE | 196 |\n",
       "| 4 | K0:K3 | FALSE | 123 |\n",
       "| 5 | K0:K4 | FALSE | 220 |\n",
       "| 6 | K0:K5 | FALSE | 152 |\n",
       "\n"
      ],
      "text/plain": [
       "  term  sgnInteraction Freq\n",
       "1 K0:K0 FALSE           10 \n",
       "2 K0:K1 FALSE          181 \n",
       "3 K0:K2 FALSE          196 \n",
       "4 K0:K3 FALSE          123 \n",
       "5 K0:K4 FALSE          220 \n",
       "6 K0:K5 FALSE          152 "
      ]
     },
     "metadata": {},
     "output_type": "display_data"
    }
   ],
   "source": [
    "head(myAll)"
   ]
  },
  {
   "cell_type": "code",
   "execution_count": 11,
   "id": "7a5b7b21-fc52-4fdd-b85b-787580899f50",
   "metadata": {},
   "outputs": [
    {
     "data": {
      "text/html": [
       "<style>\n",
       ".list-inline {list-style: none; margin:0; padding: 0}\n",
       ".list-inline>li {display: inline-block}\n",
       ".list-inline>li:not(:last-child)::after {content: \"\\00b7\"; padding: 0 .5ex}\n",
       "</style>\n",
       "<ol class=list-inline><li>K0:K0</li><li>K0:K1</li><li>K0:K2</li><li>K0:K3</li><li>K0:K4</li><li>K0:K5</li><li>K1:K1</li><li>K1:K2</li><li>K1:K3</li><li>K1:K4</li><li>K1:K5</li><li>K2:K2</li><li>K2:K3</li><li>K2:K4</li><li>K2:K5</li><li>K3:K3</li><li>K3:K4</li><li>K3:K5</li><li>K4:K4</li><li>K4:K5</li></ol>\n",
       "\n",
       "<details>\n",
       "\t<summary style=display:list-item;cursor:pointer>\n",
       "\t\t<strong>Levels</strong>:\n",
       "\t</summary>\n",
       "\t<style>\n",
       "\t.list-inline {list-style: none; margin:0; padding: 0}\n",
       "\t.list-inline>li {display: inline-block}\n",
       "\t.list-inline>li:not(:last-child)::after {content: \"\\00b7\"; padding: 0 .5ex}\n",
       "\t</style>\n",
       "\t<ol class=list-inline><li>'K0:K0'</li><li>'K0:K1'</li><li>'K0:K2'</li><li>'K0:K3'</li><li>'K0:K4'</li><li>'K0:K5'</li><li>'K1:K1'</li><li>'K1:K2'</li><li>'K1:K3'</li><li>'K1:K4'</li><li>'K1:K5'</li><li>'K2:K2'</li><li>'K2:K3'</li><li>'K2:K4'</li><li>'K2:K5'</li><li>'K3:K3'</li><li>'K3:K4'</li><li>'K3:K5'</li><li>'K4:K4'</li><li>'K4:K5'</li></ol>\n",
       "</details>"
      ],
      "text/latex": [
       "\\begin{enumerate*}\n",
       "\\item K0:K0\n",
       "\\item K0:K1\n",
       "\\item K0:K2\n",
       "\\item K0:K3\n",
       "\\item K0:K4\n",
       "\\item K0:K5\n",
       "\\item K1:K1\n",
       "\\item K1:K2\n",
       "\\item K1:K3\n",
       "\\item K1:K4\n",
       "\\item K1:K5\n",
       "\\item K2:K2\n",
       "\\item K2:K3\n",
       "\\item K2:K4\n",
       "\\item K2:K5\n",
       "\\item K3:K3\n",
       "\\item K3:K4\n",
       "\\item K3:K5\n",
       "\\item K4:K4\n",
       "\\item K4:K5\n",
       "\\end{enumerate*}\n",
       "\n",
       "\\emph{Levels}: \\begin{enumerate*}\n",
       "\\item 'K0:K0'\n",
       "\\item 'K0:K1'\n",
       "\\item 'K0:K2'\n",
       "\\item 'K0:K3'\n",
       "\\item 'K0:K4'\n",
       "\\item 'K0:K5'\n",
       "\\item 'K1:K1'\n",
       "\\item 'K1:K2'\n",
       "\\item 'K1:K3'\n",
       "\\item 'K1:K4'\n",
       "\\item 'K1:K5'\n",
       "\\item 'K2:K2'\n",
       "\\item 'K2:K3'\n",
       "\\item 'K2:K4'\n",
       "\\item 'K2:K5'\n",
       "\\item 'K3:K3'\n",
       "\\item 'K3:K4'\n",
       "\\item 'K3:K5'\n",
       "\\item 'K4:K4'\n",
       "\\item 'K4:K5'\n",
       "\\end{enumerate*}\n"
      ],
      "text/markdown": [
       "1. K0:K0\n",
       "2. K0:K1\n",
       "3. K0:K2\n",
       "4. K0:K3\n",
       "5. K0:K4\n",
       "6. K0:K5\n",
       "7. K1:K1\n",
       "8. K1:K2\n",
       "9. K1:K3\n",
       "10. K1:K4\n",
       "11. K1:K5\n",
       "12. K2:K2\n",
       "13. K2:K3\n",
       "14. K2:K4\n",
       "15. K2:K5\n",
       "16. K3:K3\n",
       "17. K3:K4\n",
       "18. K3:K5\n",
       "19. K4:K4\n",
       "20. K4:K5\n",
       "\n",
       "\n",
       "\n",
       "**Levels**: 1. 'K0:K0'\n",
       "2. 'K0:K1'\n",
       "3. 'K0:K2'\n",
       "4. 'K0:K3'\n",
       "5. 'K0:K4'\n",
       "6. 'K0:K5'\n",
       "7. 'K1:K1'\n",
       "8. 'K1:K2'\n",
       "9. 'K1:K3'\n",
       "10. 'K1:K4'\n",
       "11. 'K1:K5'\n",
       "12. 'K2:K2'\n",
       "13. 'K2:K3'\n",
       "14. 'K2:K4'\n",
       "15. 'K2:K5'\n",
       "16. 'K3:K3'\n",
       "17. 'K3:K4'\n",
       "18. 'K3:K5'\n",
       "19. 'K4:K4'\n",
       "20. 'K4:K5'\n",
       "\n",
       "\n"
      ],
      "text/plain": [
       " [1] K0:K0 K0:K1 K0:K2 K0:K3 K0:K4 K0:K5 K1:K1 K1:K2 K1:K3 K1:K4 K1:K5 K2:K2\n",
       "[13] K2:K3 K2:K4 K2:K5 K3:K3 K3:K4 K3:K5 K4:K4 K4:K5\n",
       "20 Levels: K0:K0 K0:K1 K0:K2 K0:K3 K0:K4 K0:K5 K1:K1 K1:K2 K1:K3 ... K4:K5"
      ]
     },
     "metadata": {},
     "output_type": "display_data"
    }
   ],
   "source": [
    "unique(myAll$term)"
   ]
  },
  {
   "cell_type": "code",
   "execution_count": 12,
   "id": "90ca0a49-4d55-4e35-80a1-c6d4296ab2b5",
   "metadata": {},
   "outputs": [],
   "source": [
    "myAll$term = factor(myAll$term, levels = c(\"K0:K0\", \"K1:K1\", \"K2:K2\", \"K3:K3\", \"K4:K4\", \n",
    "                                          \"K0:K1\",\"K0:K2\",\"K0:K3\",\"K0:K4\",\"K0:K5\",\n",
    "                                          \"K1:K2\",\"K1:K3\",\"K1:K4\",\"K1:K5\",\n",
    "                                          \"K2:K3\",\"K2:K4\",\"K2:K5\",\n",
    "                                          \"K3:K4\",\"K3:K5\",\n",
    "                                          \"K4:K5\"))"
   ]
  },
  {
   "cell_type": "code",
   "execution_count": 13,
   "id": "074aa118-7b4b-425b-8920-20694b728f65",
   "metadata": {},
   "outputs": [
    {
     "data": {
      "text/html": [
       "<strong>png:</strong> 2"
      ],
      "text/latex": [
       "\\textbf{png:} 2"
      ],
      "text/markdown": [
       "**png:** 2"
      ],
      "text/plain": [
       "png \n",
       "  2 "
      ]
     },
     "metadata": {},
     "output_type": "display_data"
    }
   ],
   "source": [
    "options(repr.plot.width=12, repr.plot.height=7)\n",
    "\n",
    "pdf(\"./../SupplementaryFigures/S_6D.pdf\", width=12, height=6)\n",
    "ggplot(myAll, aes(fill=sgnInteraction, y=Freq, x=term)) + \n",
    "    geom_bar(position=\"stack\", stat=\"identity\")+scale_fill_manual(values=c(\"grey\",\"blue\"))+\n",
    "    ylab(\"Number of significantly affected genes\")+theme_minimal()+\n",
    "     theme(axis.text.y = element_text(size = 15),\n",
    "           axis.text.x = element_text(size = 15, angle=90),\n",
    "              axis.title = element_text(size = 20),\n",
    "              strip.text = element_text(size = 25))+xlab(\"Group names\")\n",
    "dev.off()"
   ]
  },
  {
   "cell_type": "code",
   "execution_count": null,
   "id": "366924ff-ca01-4317-8c1b-9b9e60a56b8f",
   "metadata": {},
   "outputs": [],
   "source": []
  }
 ],
 "metadata": {
  "kernelspec": {
   "display_name": "R",
   "language": "R",
   "name": "ir"
  },
  "language_info": {
   "codemirror_mode": "r",
   "file_extension": ".r",
   "mimetype": "text/x-r-source",
   "name": "R",
   "pygments_lexer": "r",
   "version": "4.2.1"
  }
 },
 "nbformat": 4,
 "nbformat_minor": 5
}
