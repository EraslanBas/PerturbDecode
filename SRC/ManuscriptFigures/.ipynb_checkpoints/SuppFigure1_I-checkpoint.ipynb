{
 "cells": [
  {
   "cell_type": "code",
   "execution_count": 13,
   "id": "39d3fc34-e864-4370-ac33-bd594204d05e",
   "metadata": {
    "papermill": {
     "duration": 2.497662,
     "end_time": "2020-02-03T11:16:52.810525",
     "exception": false,
     "start_time": "2020-02-03T11:16:50.312863",
     "status": "completed"
    },
    "tags": []
   },
   "outputs": [],
   "source": [
    "from libraries import *\n",
    "from parameters import *"
   ]
  },
  {
   "cell_type": "code",
   "execution_count": 14,
   "id": "32c7477a-7fbb-433c-96bc-2b0a101837f5",
   "metadata": {},
   "outputs": [],
   "source": [
    "os.getcwd()\n",
    "os.chdir(projectDir)"
   ]
  },
  {
   "cell_type": "code",
   "execution_count": 15,
   "id": "63046157-60b2-471b-b073-f89fa802f4ca",
   "metadata": {},
   "outputs": [
    {
     "name": "stdout",
     "output_type": "stream",
     "text": [
      "The rpy2.ipython extension is already loaded. To reload it, use:\n",
      "  %reload_ext rpy2.ipython\n"
     ]
    }
   ],
   "source": [
    "%load_ext rpy2.ipython"
   ]
  },
  {
   "cell_type": "code",
   "execution_count": 16,
   "id": "0aa5801c-f819-45a4-976a-8085f4dbfbb9",
   "metadata": {},
   "outputs": [],
   "source": [
    "#adata = sc.read('outputs/anndata/adata-hash-features_singlets_SingleKO_05242020.h5ad')\n",
    "adataControl = sc.read('outputs/anndata/adata-hash-features_singlets_SingleKO_05242020_ControlCellsOnly.h5ad')\n",
    "#adata = sc.read('outputs/anndata/adata-hash-features_singlets_SingleKO_05242020_Filtered_ControlCellsOnly.h5ad')\n"
   ]
  },
  {
   "cell_type": "code",
   "execution_count": 17,
   "id": "0115c54a-d155-467a-99b0-1c528efb41fb",
   "metadata": {},
   "outputs": [],
   "source": [
    "# controlGuideCols = adata.obs.columns[[ (x.startswith(\"ONE_NONGENE_SITE\") or x.startswith(\"NO_TARGET\")) for x in adata.obs.columns]]\n",
    "# fBarMat = adata.obs[controlGuideCols]\n",
    "# fBarMat[fBarMat>0] = 1\n",
    "# adataControl = adata[fBarMat.sum(axis=1) > 0,:]\n",
    "# adataControl.write(\"outputs/anndata/adata-hash-features_singlets_SingleKO_05242020_ControlCellsOnly.h5ad\")\n"
   ]
  },
  {
   "cell_type": "code",
   "execution_count": 18,
   "id": "23805f07-3452-4484-863d-12836a58d05d",
   "metadata": {},
   "outputs": [],
   "source": [
    "avgExp = adataControl.X.mean(axis=0)\n",
    "tmp = pd.DataFrame({\"avgExp\":avgExp, \"GeneName\":adataControl.var_names})"
   ]
  },
  {
   "cell_type": "code",
   "execution_count": 19,
   "id": "702fa67c-fa89-451a-a7d1-5cf0ce6cc0b1",
   "metadata": {},
   "outputs": [
    {
     "name": "stdout",
     "output_type": "stream",
     "text": [
      "[1] 1031    2\n"
     ]
    }
   ],
   "source": [
    "%%R  -w 8 -h 4 -u in\n",
    "\n",
    "\"%ni%\" = Negate( \"%in%\" )\n",
    "\n",
    "pValsAll <- read.csv(\"./../analysisSingle/MixedEffectLMOutputs/ME_LMPValuesALL.csv\", \n",
    "                     row.names = 1)\n",
    "\n",
    "pValsAll <- pValsAll[rownames(pValsAll) %ni% c(\"Intercept\", \"n_genes\", \"mt_frac\", \"Group Var\"),]\n",
    "rownames(pValsAll) <- sapply(rownames(pValsAll), function(x){strsplit(as.character(x),\"_\")[[1]][2]})\n",
    "\n",
    "pValsAllAdj <- sapply(pValsAll, function(x){p.adjust(x, method = \"fdr\", n = length(x))})\n",
    "rownames(pValsAllAdj) <- rownames(pValsAll)\n",
    "\n",
    "s1 <- apply(pValsAllAdj, 1, function(x){return(length(which(x < 0.1)))})\n",
    "myDat = data.frame(GeneName = rownames(pValsAll), NSgngGenes = log(s1+1))\n",
    "\n",
    "dim(myDat)"
   ]
  },
  {
   "cell_type": "code",
   "execution_count": 20,
   "id": "7d7a73df-e904-490d-ac68-cfacef4af546",
   "metadata": {},
   "outputs": [
    {
     "name": "stdout",
     "output_type": "stream",
     "text": [
      "[1] 1031\n"
     ]
    }
   ],
   "source": [
    "%%R\n",
    "length(unique(myDat$GeneName))"
   ]
  },
  {
   "cell_type": "code",
   "execution_count": 21,
   "id": "f27c5955-6936-41e2-8164-f4947913a7f9",
   "metadata": {
    "tags": []
   },
   "outputs": [
    {
     "name": "stdout",
     "output_type": "stream",
     "text": [
      "[1] 2.302585\n"
     ]
    }
   ],
   "source": [
    "%%R -i tmp\n",
    "head(myDat)\n",
    "library(\"Cairo\")\n",
    "library(\"ggpubr\")\n",
    "\n",
    "\"%ni%\" = Negate( \"%in%\" )\n",
    "\n",
    "myDat$Gene_Expressed = TRUE\n",
    "myDat[myDat$GeneName %ni% tmp$GeneName, \"Gene_Expressed\"] = FALSE\n",
    "\n",
    "median(myDat[myDat$Gene_Expressed == TRUE, \"NSgngGenes\"])\n",
    "\n",
    "median(myDat[myDat$Gene_Expressed == FALSE, \"NSgngGenes\"])"
   ]
  },
  {
   "cell_type": "code",
   "execution_count": 26,
   "id": "d7c64106-eae4-433c-8d86-becf2c7bdfba",
   "metadata": {
    "tags": []
   },
   "outputs": [
    {
     "name": "stdout",
     "output_type": "stream",
     "text": [
      "[1] TRUE\n",
      "[1] 2\n"
     ]
    }
   ],
   "source": [
    "%%R\n",
    "head(myDat)\n",
    "\"%ni%\" = Negate( \"%in%\" )\n",
    "\n",
    "myDat$Gene_Expressed = TRUE\n",
    "myDat[myDat$GeneName %ni% tmp$GeneName, \"Gene_Expressed\"] = FALSE\n",
    "\n",
    "myDat\n",
    "\n",
    "CairoPDF(file = \"S1_J.pdf\",\n",
    "         width = 6, height = 6)\n",
    "ggplot(myDat, aes(x=Gene_Expressed, y=NSgngGenes)) + \n",
    "     geom_violin(trim=FALSE, aes(fill=Gene_Expressed))+\n",
    "     geom_boxplot()+theme_minimal()+ \n",
    "     #stat_summary(fun.data = mean, geom = \"text\", size=6)+\n",
    "        stat_compare_means(method=\"wilcox.test\",paired = FALSE,\n",
    "                                comparisons = list(c(\"TRUE\", \"FALSE\")),\n",
    "                                color=\"red\",\n",
    "                                label.y = c(3), aes(label = ..p.signif..), method.args = list(alternative = \"greater\"))+\n",
    "     scale_fill_brewer(palette = \"Pastel1\")+\n",
    "ylab(\"Number of significantly affected genes (lg2)\")+\n",
    "theme(axis.text = element_text(size=15),strip.text=element_text(size=12),legend.pos=\"None\",\n",
    "              axis.title =  element_text(size=16))\n",
    "\n",
    "dev.off()"
   ]
  },
  {
   "cell_type": "code",
   "execution_count": 23,
   "id": "09057190-9431-49d7-b3a1-b3d56e9d520a",
   "metadata": {},
   "outputs": [
    {
     "name": "stdout",
     "output_type": "stream",
     "text": [
      "[1] 182 849\n"
     ]
    }
   ],
   "source": [
    "%%R\n",
    "table(myDat$Gene_Expressed)"
   ]
  },
  {
   "cell_type": "code",
   "execution_count": 24,
   "id": "8c403c7a-88c0-4145-9f7e-64bb93e8da98",
   "metadata": {},
   "outputs": [
    {
     "data": {
      "text/plain": [
       "1031"
      ]
     },
     "execution_count": 24,
     "metadata": {},
     "output_type": "execute_result"
    }
   ],
   "source": [
    "849 + 182"
   ]
  },
  {
   "cell_type": "code",
   "execution_count": 25,
   "id": "55286ad4-707b-4c05-acaa-20f384b076a9",
   "metadata": {},
   "outputs": [
    {
     "name": "stdout",
     "output_type": "stream",
     "text": [
      "[1] 2\n"
     ]
    }
   ],
   "source": [
    "%%R -i tmp  -w 7 -h 7 -u in\n",
    "\n",
    "library(\"ggpubr\")\n",
    "\n",
    "\n",
    "\n",
    "head(myDat)\n",
    "head(tmp)\n",
    "\n",
    "kk = merge(myDat, tmp, by=\"GeneName\")\n",
    "head(kk)\n",
    "\n",
    "log(15)\n",
    "#pdf(\"./SupplementaryFigures/S_1I.pdf\",width = 7, height = 7)\n",
    "CairoPDF(file = \"S1_I.pdf\",\n",
    "         width = 7, height = 7)\n",
    "    ggplot(kk, aes(y=NSgngGenes, x=avgExp)) +\n",
    "      geom_point(size=1, alpha=0.5, color=\"blue\")+theme_bw()+\n",
    "        geom_smooth()+\n",
    "            theme( legend.position = \"top\", strip.text=element_text(size=20), text=element_text(size=18))+\n",
    "        stat_cor(method = \"spearman\", color=\"black\", label.x.npc=\"left\", size=7)+\n",
    "        xlab(\"Average normalized gene expression in control cells(lg) \")+\n",
    "        xlim(-0.03,0.03)+\n",
    "        ylab(\"Number of significantly affected genes (lg2) \")\n",
    "        #+geom_vline(xintercept = 2.7, color=\"red\")\n",
    "\n",
    "dev.off()"
   ]
  },
  {
   "cell_type": "code",
   "execution_count": null,
   "id": "57523ec9-9925-4f47-a4d5-6c0f42be07a8",
   "metadata": {},
   "outputs": [],
   "source": [
    "%%R\n",
    "head(kk)"
   ]
  },
  {
   "cell_type": "code",
   "execution_count": null,
   "id": "a05eb51a-6e45-464a-b926-945221c708e5",
   "metadata": {},
   "outputs": [],
   "source": []
  }
 ],
 "metadata": {
  "kernelspec": {
   "display_name": "Python 3 (ipykernel)",
   "language": "python",
   "name": "python3"
  },
  "language_info": {
   "codemirror_mode": {
    "name": "ipython",
    "version": 3
   },
   "file_extension": ".py",
   "mimetype": "text/x-python",
   "name": "python",
   "nbconvert_exporter": "python",
   "pygments_lexer": "ipython3",
   "version": "3.8.13"
  }
 },
 "nbformat": 4,
 "nbformat_minor": 5
}
