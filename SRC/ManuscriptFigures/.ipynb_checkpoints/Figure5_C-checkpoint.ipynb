{
 "cells": [
  {
   "cell_type": "code",
   "execution_count": 12,
   "id": "eff3ceec-3795-4a41-b18e-cdbb5b00d46d",
   "metadata": {
    "tags": []
   },
   "outputs": [],
   "source": [
    "source(\"Main.R\")\n",
    "source(\"Conf.R\")\n",
    "source(\"Utilities.R\")\n",
    "library(stringr) "
   ]
  },
  {
   "cell_type": "code",
   "execution_count": 13,
   "id": "2ce18c87-e4b8-4a81-80d3-b9ba052196bf",
   "metadata": {},
   "outputs": [],
   "source": [
    "doubles <- readRDS(\"./../Notebooks/CombinatorialPerturbations/RDSFiles/ComboEffects_doublesSameGroup.rds\")\n",
    "doubles <- doubles[doubles$term %ni% c(\"(Intercept)\", \"n_genes\", \"mt_frac\", paste0(\"leiden\", 1:9)),]\n",
    "doubles[,c(\"std.error\", \"statistic\", \"p.value\")] = NULL\n",
    "doubles = reshape(doubles, idvar = \"respGene\", timevar = \"term\",  direction = \"wide\")\n",
    "rownames(doubles) = doubles$respGene\n",
    "doubles$respGene = NULL\n",
    "colnames(doubles) = sapply( colnames(doubles), function(x){strsplit(x,\"estimate.\")[[1]][2]})\n"
   ]
  },
  {
   "cell_type": "code",
   "execution_count": 14,
   "id": "1a0ff3c2-0674-4658-a35c-231bd73e1dbc",
   "metadata": {},
   "outputs": [
    {
     "data": {
      "text/html": [
       "<table class=\"dataframe\">\n",
       "<caption>A data.frame: 6 × 6</caption>\n",
       "<thead>\n",
       "\t<tr><th></th><th scope=col>K_0</th><th scope=col>K_1</th><th scope=col>K_2</th><th scope=col>K_3</th><th scope=col>K_4</th><th scope=col>K_5</th></tr>\n",
       "\t<tr><th></th><th scope=col>&lt;dbl&gt;</th><th scope=col>&lt;dbl&gt;</th><th scope=col>&lt;dbl&gt;</th><th scope=col>&lt;dbl&gt;</th><th scope=col>&lt;dbl&gt;</th><th scope=col>&lt;dbl&gt;</th></tr>\n",
       "</thead>\n",
       "<tbody>\n",
       "\t<tr><th scope=row>AI314180</th><td> 0.011444335</td><td> 0.076045764</td><td> 0.051836802</td><td> 0.06058460</td><td>-0.06955889</td><td>-0.17319416</td></tr>\n",
       "\t<tr><th scope=row>Abcc1</th><td>-0.016205187</td><td>-0.017736019</td><td> 0.018213094</td><td>-0.01751918</td><td> 0.21419332</td><td>-0.27525200</td></tr>\n",
       "\t<tr><th scope=row>Acod1</th><td> 0.040686038</td><td>-0.078986749</td><td>-0.113114151</td><td> 0.16680908</td><td>-0.03095431</td><td> 0.15079135</td></tr>\n",
       "\t<tr><th scope=row>Akr1a1</th><td> 0.006097903</td><td>-0.070728779</td><td> 0.040799512</td><td>-0.02336757</td><td>-0.20688385</td><td>-0.02894113</td></tr>\n",
       "\t<tr><th scope=row>Alas1</th><td> 0.006392998</td><td> 0.002413812</td><td>-0.006475581</td><td>-0.06575484</td><td> 0.01197551</td><td>-0.03349484</td></tr>\n",
       "\t<tr><th scope=row>Alox5ap</th><td>-0.006786062</td><td>-0.115397121</td><td> 0.115904367</td><td> 0.02666414</td><td> 0.01756842</td><td> 0.09002909</td></tr>\n",
       "</tbody>\n",
       "</table>\n"
      ],
      "text/latex": [
       "A data.frame: 6 × 6\n",
       "\\begin{tabular}{r|llllll}\n",
       "  & K\\_0 & K\\_1 & K\\_2 & K\\_3 & K\\_4 & K\\_5\\\\\n",
       "  & <dbl> & <dbl> & <dbl> & <dbl> & <dbl> & <dbl>\\\\\n",
       "\\hline\n",
       "\tAI314180 &  0.011444335 &  0.076045764 &  0.051836802 &  0.06058460 & -0.06955889 & -0.17319416\\\\\n",
       "\tAbcc1 & -0.016205187 & -0.017736019 &  0.018213094 & -0.01751918 &  0.21419332 & -0.27525200\\\\\n",
       "\tAcod1 &  0.040686038 & -0.078986749 & -0.113114151 &  0.16680908 & -0.03095431 &  0.15079135\\\\\n",
       "\tAkr1a1 &  0.006097903 & -0.070728779 &  0.040799512 & -0.02336757 & -0.20688385 & -0.02894113\\\\\n",
       "\tAlas1 &  0.006392998 &  0.002413812 & -0.006475581 & -0.06575484 &  0.01197551 & -0.03349484\\\\\n",
       "\tAlox5ap & -0.006786062 & -0.115397121 &  0.115904367 &  0.02666414 &  0.01756842 &  0.09002909\\\\\n",
       "\\end{tabular}\n"
      ],
      "text/markdown": [
       "\n",
       "A data.frame: 6 × 6\n",
       "\n",
       "| <!--/--> | K_0 &lt;dbl&gt; | K_1 &lt;dbl&gt; | K_2 &lt;dbl&gt; | K_3 &lt;dbl&gt; | K_4 &lt;dbl&gt; | K_5 &lt;dbl&gt; |\n",
       "|---|---|---|---|---|---|---|\n",
       "| AI314180 |  0.011444335 |  0.076045764 |  0.051836802 |  0.06058460 | -0.06955889 | -0.17319416 |\n",
       "| Abcc1 | -0.016205187 | -0.017736019 |  0.018213094 | -0.01751918 |  0.21419332 | -0.27525200 |\n",
       "| Acod1 |  0.040686038 | -0.078986749 | -0.113114151 |  0.16680908 | -0.03095431 |  0.15079135 |\n",
       "| Akr1a1 |  0.006097903 | -0.070728779 |  0.040799512 | -0.02336757 | -0.20688385 | -0.02894113 |\n",
       "| Alas1 |  0.006392998 |  0.002413812 | -0.006475581 | -0.06575484 |  0.01197551 | -0.03349484 |\n",
       "| Alox5ap | -0.006786062 | -0.115397121 |  0.115904367 |  0.02666414 |  0.01756842 |  0.09002909 |\n",
       "\n"
      ],
      "text/plain": [
       "         K_0          K_1          K_2          K_3         K_4        \n",
       "AI314180  0.011444335  0.076045764  0.051836802  0.06058460 -0.06955889\n",
       "Abcc1    -0.016205187 -0.017736019  0.018213094 -0.01751918  0.21419332\n",
       "Acod1     0.040686038 -0.078986749 -0.113114151  0.16680908 -0.03095431\n",
       "Akr1a1    0.006097903 -0.070728779  0.040799512 -0.02336757 -0.20688385\n",
       "Alas1     0.006392998  0.002413812 -0.006475581 -0.06575484  0.01197551\n",
       "Alox5ap  -0.006786062 -0.115397121  0.115904367  0.02666414  0.01756842\n",
       "         K_5        \n",
       "AI314180 -0.17319416\n",
       "Abcc1    -0.27525200\n",
       "Acod1     0.15079135\n",
       "Akr1a1   -0.02894113\n",
       "Alas1    -0.03349484\n",
       "Alox5ap   0.09002909"
      ]
     },
     "metadata": {},
     "output_type": "display_data"
    }
   ],
   "source": [
    "head(doubles)"
   ]
  },
  {
   "cell_type": "code",
   "execution_count": 15,
   "id": "ac9fc06f-9817-4fb0-b118-1cd9360f32f3",
   "metadata": {
    "tags": []
   },
   "outputs": [],
   "source": [
    "combos <- readRDS(\"./../Notebooks/CombinatorialPerturbations/RDSFiles/ComboEffects_lm_residuals.rds\")\n",
    "combos <- combos[combos$term %ni% c(\"(Intercept)\", \"n_genes\", \"mt_frac\", paste0(\"leiden\", 1:9)),]\n",
    "combos[,c(\"std.error\", \"statistic\", \"p.value\")] = NULL\n",
    "combos = reshape(combos, idvar = \"respGene\", timevar = \"term\",  direction = \"wide\")\n",
    "rownames(combos) = combos$respGene\n",
    "combos$respGene = NULL\n",
    "colnames(combos) = sapply( colnames(combos), function(x){strsplit(x,\"estimate.\")[[1]][2]})"
   ]
  },
  {
   "cell_type": "code",
   "execution_count": 16,
   "id": "81af5266-0917-4f4d-a77e-b9c5b90d05ef",
   "metadata": {},
   "outputs": [
    {
     "data": {
      "text/html": [
       "<table class=\"dataframe\">\n",
       "<caption>A data.frame: 6 × 21</caption>\n",
       "<thead>\n",
       "\t<tr><th></th><th scope=col>K_0</th><th scope=col>K_0WK_1</th><th scope=col>K_0WK_2</th><th scope=col>K_0WK_3</th><th scope=col>K_0WK_4</th><th scope=col>K_0WK_5</th><th scope=col>K_1</th><th scope=col>K_1WK_2</th><th scope=col>K_1WK_3</th><th scope=col>K_1WK_4</th><th scope=col>⋯</th><th scope=col>K_2</th><th scope=col>K_2WK_3</th><th scope=col>K_2WK_4</th><th scope=col>K_2WK_5</th><th scope=col>K_3</th><th scope=col>K_3WK_4</th><th scope=col>K_3WK_5</th><th scope=col>K_4</th><th scope=col>K_4WK_5</th><th scope=col>K_5</th></tr>\n",
       "\t<tr><th></th><th scope=col>&lt;dbl&gt;</th><th scope=col>&lt;dbl&gt;</th><th scope=col>&lt;dbl&gt;</th><th scope=col>&lt;dbl&gt;</th><th scope=col>&lt;dbl&gt;</th><th scope=col>&lt;dbl&gt;</th><th scope=col>&lt;dbl&gt;</th><th scope=col>&lt;dbl&gt;</th><th scope=col>&lt;dbl&gt;</th><th scope=col>&lt;dbl&gt;</th><th scope=col>⋯</th><th scope=col>&lt;dbl&gt;</th><th scope=col>&lt;dbl&gt;</th><th scope=col>&lt;dbl&gt;</th><th scope=col>&lt;dbl&gt;</th><th scope=col>&lt;dbl&gt;</th><th scope=col>&lt;dbl&gt;</th><th scope=col>&lt;dbl&gt;</th><th scope=col>&lt;dbl&gt;</th><th scope=col>&lt;dbl&gt;</th><th scope=col>&lt;dbl&gt;</th></tr>\n",
       "</thead>\n",
       "<tbody>\n",
       "\t<tr><th scope=row>AI314180</th><td> 0.0177419902</td><td> 0.023616034</td><td> 0.015147990</td><td> 0.01853934</td><td>-0.04283023</td><td> 0.08807579</td><td> 0.003134237</td><td> 0.11911014</td><td> 0.067868539</td><td> 0.001933236</td><td>⋯</td><td> 0.025505984</td><td> 0.039911636</td><td>-0.05816264</td><td>-0.0004189604</td><td> 0.004775926</td><td>-0.01087277</td><td> 0.03374760</td><td> 0.0354271341</td><td>-0.02218737</td><td>-0.04202507</td></tr>\n",
       "\t<tr><th scope=row>Abcc1</th><td>-0.0019303524</td><td>-0.010667928</td><td>-0.037595252</td><td> 0.02513075</td><td> 0.10844025</td><td>-0.06708029</td><td>-0.006876538</td><td> 0.05157873</td><td> 0.030669683</td><td> 0.098433436</td><td>⋯</td><td> 0.001977992</td><td> 0.027703008</td><td> 0.16145588</td><td> 0.0396236619</td><td> 0.018012907</td><td>-0.03530264</td><td>-0.09379990</td><td>-0.0004456438</td><td> 0.33206340</td><td>-0.04169053</td></tr>\n",
       "\t<tr><th scope=row>Acod1</th><td> 0.0316256224</td><td> 0.006961726</td><td> 0.021547024</td><td> 0.05206471</td><td> 0.07651565</td><td> 0.10174531</td><td>-0.036595821</td><td>-0.02258265</td><td>-0.008615383</td><td> 0.060569299</td><td>⋯</td><td>-0.032005309</td><td> 0.032330391</td><td>-0.01564057</td><td> 0.1016252383</td><td> 0.039036084</td><td> 0.03466344</td><td> 0.11574894</td><td> 0.0639403980</td><td> 0.12370651</td><td> 0.07742290</td></tr>\n",
       "\t<tr><th scope=row>Akr1a1</th><td> 0.0006242596</td><td>-0.065574081</td><td>-0.013412927</td><td>-0.05530001</td><td> 0.06266195</td><td>-0.05966461</td><td>-0.016953725</td><td> 0.02212735</td><td>-0.048007086</td><td>-0.018679508</td><td>⋯</td><td> 0.065520337</td><td> 0.034269443</td><td>-0.01117202</td><td> 0.0412736287</td><td>-0.032993804</td><td>-0.02034791</td><td>-0.06475619</td><td> 0.0310538266</td><td>-0.04493234</td><td> 0.04029752</td></tr>\n",
       "\t<tr><th scope=row>Alas1</th><td> 0.0194794837</td><td>-0.045359707</td><td> 0.035774566</td><td> 0.01938750</td><td> 0.04701501</td><td>-0.15580484</td><td>-0.027958642</td><td> 0.04067934</td><td>-0.062844266</td><td>-0.054685979</td><td>⋯</td><td> 0.029076667</td><td> 0.004379683</td><td> 0.12857489</td><td> 0.1059764073</td><td>-0.030150307</td><td> 0.01632723</td><td>-0.03614840</td><td> 0.0342867249</td><td> 0.27329661</td><td> 0.02810747</td></tr>\n",
       "\t<tr><th scope=row>Alox5ap</th><td> 0.0060830991</td><td> 0.016090787</td><td>-0.001326297</td><td> 0.04843851</td><td>-0.01089988</td><td>-0.02222179</td><td>-0.030469223</td><td>-0.03034116</td><td> 0.039370152</td><td>-0.147942325</td><td>⋯</td><td> 0.018033909</td><td>-0.017412220</td><td>-0.03431968</td><td>-0.0229946651</td><td> 0.048023057</td><td>-0.01122091</td><td>-0.19628440</td><td>-0.0031723719</td><td> 0.04144396</td><td>-0.01215041</td></tr>\n",
       "</tbody>\n",
       "</table>\n"
      ],
      "text/latex": [
       "A data.frame: 6 × 21\n",
       "\\begin{tabular}{r|lllllllllllllllllllll}\n",
       "  & K\\_0 & K\\_0WK\\_1 & K\\_0WK\\_2 & K\\_0WK\\_3 & K\\_0WK\\_4 & K\\_0WK\\_5 & K\\_1 & K\\_1WK\\_2 & K\\_1WK\\_3 & K\\_1WK\\_4 & ⋯ & K\\_2 & K\\_2WK\\_3 & K\\_2WK\\_4 & K\\_2WK\\_5 & K\\_3 & K\\_3WK\\_4 & K\\_3WK\\_5 & K\\_4 & K\\_4WK\\_5 & K\\_5\\\\\n",
       "  & <dbl> & <dbl> & <dbl> & <dbl> & <dbl> & <dbl> & <dbl> & <dbl> & <dbl> & <dbl> & ⋯ & <dbl> & <dbl> & <dbl> & <dbl> & <dbl> & <dbl> & <dbl> & <dbl> & <dbl> & <dbl>\\\\\n",
       "\\hline\n",
       "\tAI314180 &  0.0177419902 &  0.023616034 &  0.015147990 &  0.01853934 & -0.04283023 &  0.08807579 &  0.003134237 &  0.11911014 &  0.067868539 &  0.001933236 & ⋯ &  0.025505984 &  0.039911636 & -0.05816264 & -0.0004189604 &  0.004775926 & -0.01087277 &  0.03374760 &  0.0354271341 & -0.02218737 & -0.04202507\\\\\n",
       "\tAbcc1 & -0.0019303524 & -0.010667928 & -0.037595252 &  0.02513075 &  0.10844025 & -0.06708029 & -0.006876538 &  0.05157873 &  0.030669683 &  0.098433436 & ⋯ &  0.001977992 &  0.027703008 &  0.16145588 &  0.0396236619 &  0.018012907 & -0.03530264 & -0.09379990 & -0.0004456438 &  0.33206340 & -0.04169053\\\\\n",
       "\tAcod1 &  0.0316256224 &  0.006961726 &  0.021547024 &  0.05206471 &  0.07651565 &  0.10174531 & -0.036595821 & -0.02258265 & -0.008615383 &  0.060569299 & ⋯ & -0.032005309 &  0.032330391 & -0.01564057 &  0.1016252383 &  0.039036084 &  0.03466344 &  0.11574894 &  0.0639403980 &  0.12370651 &  0.07742290\\\\\n",
       "\tAkr1a1 &  0.0006242596 & -0.065574081 & -0.013412927 & -0.05530001 &  0.06266195 & -0.05966461 & -0.016953725 &  0.02212735 & -0.048007086 & -0.018679508 & ⋯ &  0.065520337 &  0.034269443 & -0.01117202 &  0.0412736287 & -0.032993804 & -0.02034791 & -0.06475619 &  0.0310538266 & -0.04493234 &  0.04029752\\\\\n",
       "\tAlas1 &  0.0194794837 & -0.045359707 &  0.035774566 &  0.01938750 &  0.04701501 & -0.15580484 & -0.027958642 &  0.04067934 & -0.062844266 & -0.054685979 & ⋯ &  0.029076667 &  0.004379683 &  0.12857489 &  0.1059764073 & -0.030150307 &  0.01632723 & -0.03614840 &  0.0342867249 &  0.27329661 &  0.02810747\\\\\n",
       "\tAlox5ap &  0.0060830991 &  0.016090787 & -0.001326297 &  0.04843851 & -0.01089988 & -0.02222179 & -0.030469223 & -0.03034116 &  0.039370152 & -0.147942325 & ⋯ &  0.018033909 & -0.017412220 & -0.03431968 & -0.0229946651 &  0.048023057 & -0.01122091 & -0.19628440 & -0.0031723719 &  0.04144396 & -0.01215041\\\\\n",
       "\\end{tabular}\n"
      ],
      "text/markdown": [
       "\n",
       "A data.frame: 6 × 21\n",
       "\n",
       "| <!--/--> | K_0 &lt;dbl&gt; | K_0WK_1 &lt;dbl&gt; | K_0WK_2 &lt;dbl&gt; | K_0WK_3 &lt;dbl&gt; | K_0WK_4 &lt;dbl&gt; | K_0WK_5 &lt;dbl&gt; | K_1 &lt;dbl&gt; | K_1WK_2 &lt;dbl&gt; | K_1WK_3 &lt;dbl&gt; | K_1WK_4 &lt;dbl&gt; | ⋯ ⋯ | K_2 &lt;dbl&gt; | K_2WK_3 &lt;dbl&gt; | K_2WK_4 &lt;dbl&gt; | K_2WK_5 &lt;dbl&gt; | K_3 &lt;dbl&gt; | K_3WK_4 &lt;dbl&gt; | K_3WK_5 &lt;dbl&gt; | K_4 &lt;dbl&gt; | K_4WK_5 &lt;dbl&gt; | K_5 &lt;dbl&gt; |\n",
       "|---|---|---|---|---|---|---|---|---|---|---|---|---|---|---|---|---|---|---|---|---|---|\n",
       "| AI314180 |  0.0177419902 |  0.023616034 |  0.015147990 |  0.01853934 | -0.04283023 |  0.08807579 |  0.003134237 |  0.11911014 |  0.067868539 |  0.001933236 | ⋯ |  0.025505984 |  0.039911636 | -0.05816264 | -0.0004189604 |  0.004775926 | -0.01087277 |  0.03374760 |  0.0354271341 | -0.02218737 | -0.04202507 |\n",
       "| Abcc1 | -0.0019303524 | -0.010667928 | -0.037595252 |  0.02513075 |  0.10844025 | -0.06708029 | -0.006876538 |  0.05157873 |  0.030669683 |  0.098433436 | ⋯ |  0.001977992 |  0.027703008 |  0.16145588 |  0.0396236619 |  0.018012907 | -0.03530264 | -0.09379990 | -0.0004456438 |  0.33206340 | -0.04169053 |\n",
       "| Acod1 |  0.0316256224 |  0.006961726 |  0.021547024 |  0.05206471 |  0.07651565 |  0.10174531 | -0.036595821 | -0.02258265 | -0.008615383 |  0.060569299 | ⋯ | -0.032005309 |  0.032330391 | -0.01564057 |  0.1016252383 |  0.039036084 |  0.03466344 |  0.11574894 |  0.0639403980 |  0.12370651 |  0.07742290 |\n",
       "| Akr1a1 |  0.0006242596 | -0.065574081 | -0.013412927 | -0.05530001 |  0.06266195 | -0.05966461 | -0.016953725 |  0.02212735 | -0.048007086 | -0.018679508 | ⋯ |  0.065520337 |  0.034269443 | -0.01117202 |  0.0412736287 | -0.032993804 | -0.02034791 | -0.06475619 |  0.0310538266 | -0.04493234 |  0.04029752 |\n",
       "| Alas1 |  0.0194794837 | -0.045359707 |  0.035774566 |  0.01938750 |  0.04701501 | -0.15580484 | -0.027958642 |  0.04067934 | -0.062844266 | -0.054685979 | ⋯ |  0.029076667 |  0.004379683 |  0.12857489 |  0.1059764073 | -0.030150307 |  0.01632723 | -0.03614840 |  0.0342867249 |  0.27329661 |  0.02810747 |\n",
       "| Alox5ap |  0.0060830991 |  0.016090787 | -0.001326297 |  0.04843851 | -0.01089988 | -0.02222179 | -0.030469223 | -0.03034116 |  0.039370152 | -0.147942325 | ⋯ |  0.018033909 | -0.017412220 | -0.03431968 | -0.0229946651 |  0.048023057 | -0.01122091 | -0.19628440 | -0.0031723719 |  0.04144396 | -0.01215041 |\n",
       "\n"
      ],
      "text/plain": [
       "         K_0           K_0WK_1      K_0WK_2      K_0WK_3     K_0WK_4    \n",
       "AI314180  0.0177419902  0.023616034  0.015147990  0.01853934 -0.04283023\n",
       "Abcc1    -0.0019303524 -0.010667928 -0.037595252  0.02513075  0.10844025\n",
       "Acod1     0.0316256224  0.006961726  0.021547024  0.05206471  0.07651565\n",
       "Akr1a1    0.0006242596 -0.065574081 -0.013412927 -0.05530001  0.06266195\n",
       "Alas1     0.0194794837 -0.045359707  0.035774566  0.01938750  0.04701501\n",
       "Alox5ap   0.0060830991  0.016090787 -0.001326297  0.04843851 -0.01089988\n",
       "         K_0WK_5     K_1          K_1WK_2     K_1WK_3      K_1WK_4      ⋯\n",
       "AI314180  0.08807579  0.003134237  0.11911014  0.067868539  0.001933236 ⋯\n",
       "Abcc1    -0.06708029 -0.006876538  0.05157873  0.030669683  0.098433436 ⋯\n",
       "Acod1     0.10174531 -0.036595821 -0.02258265 -0.008615383  0.060569299 ⋯\n",
       "Akr1a1   -0.05966461 -0.016953725  0.02212735 -0.048007086 -0.018679508 ⋯\n",
       "Alas1    -0.15580484 -0.027958642  0.04067934 -0.062844266 -0.054685979 ⋯\n",
       "Alox5ap  -0.02222179 -0.030469223 -0.03034116  0.039370152 -0.147942325 ⋯\n",
       "         K_2          K_2WK_3      K_2WK_4     K_2WK_5       K_3         \n",
       "AI314180  0.025505984  0.039911636 -0.05816264 -0.0004189604  0.004775926\n",
       "Abcc1     0.001977992  0.027703008  0.16145588  0.0396236619  0.018012907\n",
       "Acod1    -0.032005309  0.032330391 -0.01564057  0.1016252383  0.039036084\n",
       "Akr1a1    0.065520337  0.034269443 -0.01117202  0.0412736287 -0.032993804\n",
       "Alas1     0.029076667  0.004379683  0.12857489  0.1059764073 -0.030150307\n",
       "Alox5ap   0.018033909 -0.017412220 -0.03431968 -0.0229946651  0.048023057\n",
       "         K_3WK_4     K_3WK_5     K_4           K_4WK_5     K_5        \n",
       "AI314180 -0.01087277  0.03374760  0.0354271341 -0.02218737 -0.04202507\n",
       "Abcc1    -0.03530264 -0.09379990 -0.0004456438  0.33206340 -0.04169053\n",
       "Acod1     0.03466344  0.11574894  0.0639403980  0.12370651  0.07742290\n",
       "Akr1a1   -0.02034791 -0.06475619  0.0310538266 -0.04493234  0.04029752\n",
       "Alas1     0.01632723 -0.03614840  0.0342867249  0.27329661  0.02810747\n",
       "Alox5ap  -0.01122091 -0.19628440 -0.0031723719  0.04144396 -0.01215041"
      ]
     },
     "metadata": {},
     "output_type": "display_data"
    }
   ],
   "source": [
    "head(combos)"
   ]
  },
  {
   "cell_type": "code",
   "execution_count": 17,
   "id": "62a2bcfc-833b-43cc-8c34-1f325b4f9f45",
   "metadata": {},
   "outputs": [],
   "source": [
    "allPred = data.frame()\n",
    "\n",
    "for( i in c(\"K_0\", \"K_1\", \"K_2\", \"K_3\", \"K_4\", \"K_5\")){       \n",
    "    myR2 = round(computeR2(response = doubles[,i], prediction = 2*combos[,i] ), digits=2)\n",
    "   \n",
    "    \n",
    "    myTemp =  data.frame(\"Predictedvalues\" = 2*combos[,i],\n",
    "                         \"Observedvalues\" = doubles[,i],\n",
    "                         \"Comb\"=i,\n",
    "                         \"Gene\" = rownames(combos),\n",
    "                         \"R2\" = myR2,\n",
    "                         \"corS\" = round(cor(doubles[,i], combos[,i], method=\"spearman\"), digits=2),\n",
    "                         \"pearsonS\" = round(cor(doubles[,i], combos[,i], method=\"pearson\"), digits=2)\n",
    "                        )\n",
    "     v = prcomp(myTemp[,c(\"Predictedvalues\", \"Observedvalues\")])$rotation\n",
    "     myTemp$PcaFirstCompSlope = round(v[2,1]/v[1,1], digits = 2)\n",
    "    \n",
    "    allPred = rbind(allPred, myTemp)\n",
    "      \n",
    "}\n"
   ]
  },
  {
   "cell_type": "code",
   "execution_count": 18,
   "id": "8ae1709c-2ac4-4eb2-bec7-38b44edaad7c",
   "metadata": {},
   "outputs": [
    {
     "data": {
      "text/html": [
       "<table class=\"dataframe\">\n",
       "<caption>A data.frame: 6 × 8</caption>\n",
       "<thead>\n",
       "\t<tr><th></th><th scope=col>Predictedvalues</th><th scope=col>Observedvalues</th><th scope=col>Comb</th><th scope=col>Gene</th><th scope=col>R2</th><th scope=col>corS</th><th scope=col>pearsonS</th><th scope=col>PcaFirstCompSlope</th></tr>\n",
       "\t<tr><th></th><th scope=col>&lt;dbl&gt;</th><th scope=col>&lt;dbl&gt;</th><th scope=col>&lt;chr&gt;</th><th scope=col>&lt;chr&gt;</th><th scope=col>&lt;dbl&gt;</th><th scope=col>&lt;dbl&gt;</th><th scope=col>&lt;dbl&gt;</th><th scope=col>&lt;dbl&gt;</th></tr>\n",
       "</thead>\n",
       "<tbody>\n",
       "\t<tr><th scope=row>1</th><td> 0.035483980</td><td> 0.011444335</td><td>K_0</td><td>AI314180</td><td>0.54</td><td>0.74</td><td>0.75</td><td>1.26</td></tr>\n",
       "\t<tr><th scope=row>2</th><td>-0.003860705</td><td>-0.016205187</td><td>K_0</td><td>Abcc1   </td><td>0.54</td><td>0.74</td><td>0.75</td><td>1.26</td></tr>\n",
       "\t<tr><th scope=row>3</th><td> 0.063251245</td><td> 0.040686038</td><td>K_0</td><td>Acod1   </td><td>0.54</td><td>0.74</td><td>0.75</td><td>1.26</td></tr>\n",
       "\t<tr><th scope=row>4</th><td> 0.001248519</td><td> 0.006097903</td><td>K_0</td><td>Akr1a1  </td><td>0.54</td><td>0.74</td><td>0.75</td><td>1.26</td></tr>\n",
       "\t<tr><th scope=row>5</th><td> 0.038958967</td><td> 0.006392998</td><td>K_0</td><td>Alas1   </td><td>0.54</td><td>0.74</td><td>0.75</td><td>1.26</td></tr>\n",
       "\t<tr><th scope=row>6</th><td> 0.012166198</td><td>-0.006786062</td><td>K_0</td><td>Alox5ap </td><td>0.54</td><td>0.74</td><td>0.75</td><td>1.26</td></tr>\n",
       "</tbody>\n",
       "</table>\n"
      ],
      "text/latex": [
       "A data.frame: 6 × 8\n",
       "\\begin{tabular}{r|llllllll}\n",
       "  & Predictedvalues & Observedvalues & Comb & Gene & R2 & corS & pearsonS & PcaFirstCompSlope\\\\\n",
       "  & <dbl> & <dbl> & <chr> & <chr> & <dbl> & <dbl> & <dbl> & <dbl>\\\\\n",
       "\\hline\n",
       "\t1 &  0.035483980 &  0.011444335 & K\\_0 & AI314180 & 0.54 & 0.74 & 0.75 & 1.26\\\\\n",
       "\t2 & -0.003860705 & -0.016205187 & K\\_0 & Abcc1    & 0.54 & 0.74 & 0.75 & 1.26\\\\\n",
       "\t3 &  0.063251245 &  0.040686038 & K\\_0 & Acod1    & 0.54 & 0.74 & 0.75 & 1.26\\\\\n",
       "\t4 &  0.001248519 &  0.006097903 & K\\_0 & Akr1a1   & 0.54 & 0.74 & 0.75 & 1.26\\\\\n",
       "\t5 &  0.038958967 &  0.006392998 & K\\_0 & Alas1    & 0.54 & 0.74 & 0.75 & 1.26\\\\\n",
       "\t6 &  0.012166198 & -0.006786062 & K\\_0 & Alox5ap  & 0.54 & 0.74 & 0.75 & 1.26\\\\\n",
       "\\end{tabular}\n"
      ],
      "text/markdown": [
       "\n",
       "A data.frame: 6 × 8\n",
       "\n",
       "| <!--/--> | Predictedvalues &lt;dbl&gt; | Observedvalues &lt;dbl&gt; | Comb &lt;chr&gt; | Gene &lt;chr&gt; | R2 &lt;dbl&gt; | corS &lt;dbl&gt; | pearsonS &lt;dbl&gt; | PcaFirstCompSlope &lt;dbl&gt; |\n",
       "|---|---|---|---|---|---|---|---|---|\n",
       "| 1 |  0.035483980 |  0.011444335 | K_0 | AI314180 | 0.54 | 0.74 | 0.75 | 1.26 |\n",
       "| 2 | -0.003860705 | -0.016205187 | K_0 | Abcc1    | 0.54 | 0.74 | 0.75 | 1.26 |\n",
       "| 3 |  0.063251245 |  0.040686038 | K_0 | Acod1    | 0.54 | 0.74 | 0.75 | 1.26 |\n",
       "| 4 |  0.001248519 |  0.006097903 | K_0 | Akr1a1   | 0.54 | 0.74 | 0.75 | 1.26 |\n",
       "| 5 |  0.038958967 |  0.006392998 | K_0 | Alas1    | 0.54 | 0.74 | 0.75 | 1.26 |\n",
       "| 6 |  0.012166198 | -0.006786062 | K_0 | Alox5ap  | 0.54 | 0.74 | 0.75 | 1.26 |\n",
       "\n"
      ],
      "text/plain": [
       "  Predictedvalues Observedvalues Comb Gene     R2   corS pearsonS\n",
       "1  0.035483980     0.011444335   K_0  AI314180 0.54 0.74 0.75    \n",
       "2 -0.003860705    -0.016205187   K_0  Abcc1    0.54 0.74 0.75    \n",
       "3  0.063251245     0.040686038   K_0  Acod1    0.54 0.74 0.75    \n",
       "4  0.001248519     0.006097903   K_0  Akr1a1   0.54 0.74 0.75    \n",
       "5  0.038958967     0.006392998   K_0  Alas1    0.54 0.74 0.75    \n",
       "6  0.012166198    -0.006786062   K_0  Alox5ap  0.54 0.74 0.75    \n",
       "  PcaFirstCompSlope\n",
       "1 1.26             \n",
       "2 1.26             \n",
       "3 1.26             \n",
       "4 1.26             \n",
       "5 1.26             \n",
       "6 1.26             "
      ]
     },
     "metadata": {},
     "output_type": "display_data"
    }
   ],
   "source": [
    "head(allPred)"
   ]
  },
  {
   "cell_type": "code",
   "execution_count": 19,
   "id": "4046dc9c-c65e-4f17-9e78-4a76d7215371",
   "metadata": {},
   "outputs": [],
   "source": [
    "allPred <- allPred[allPred$Comb != \"K_5\",]"
   ]
  },
  {
   "cell_type": "code",
   "execution_count": 20,
   "id": "de6e396b-d2c5-445b-a03b-8ed424ddecd4",
   "metadata": {},
   "outputs": [],
   "source": [
    "allPred$Comb <- sapply(allPred$Comb, function(x){str_replace(x,\"_\",\"\")})"
   ]
  },
  {
   "cell_type": "code",
   "execution_count": 21,
   "id": "01711ee2-e5e1-4671-a693-9b80ca2971fc",
   "metadata": {},
   "outputs": [],
   "source": [
    "allPred[allPred$R2 <0, \"R2\"] = 0"
   ]
  },
  {
   "cell_type": "code",
   "execution_count": 23,
   "id": "880ca0b8-b99d-4273-822f-920278660eae",
   "metadata": {
    "tags": []
   },
   "outputs": [
    {
     "data": {
      "text/html": [
       "<strong>png:</strong> 2"
      ],
      "text/latex": [
       "\\textbf{png:} 2"
      ],
      "text/markdown": [
       "**png:** 2"
      ],
      "text/plain": [
       "png \n",
       "  2 "
      ]
     },
     "metadata": {},
     "output_type": "display_data"
    }
   ],
   "source": [
    "options(repr.plot.width=15, repr.plot.height=4)\n",
    "pdf(\"Figure_5C.pdf\", width = 15, height = 4)\n",
    "\n",
    "ggplot(allPred, aes(x=Predictedvalues, y=Observedvalues)) + \n",
    "        geom_point(alpha=0.5, shape=15, color=\"blue\") + \n",
    "        facet_wrap( ~ Comb, ncol=6)+\n",
    "        geom_text(aes(label= paste0(\"s = \",PcaFirstCompSlope), color=\"red\"), x=-0.25, y=0.75, size=6)+\n",
    "        geom_text(aes(label= paste0(\"R^2 = \",R2), color=\"red\"), x=0, y=-1, size=6)+\n",
    "        geom_abline(linetype=\"dashed\")+\n",
    "        geom_abline(aes(slope = PcaFirstCompSlope,intercept=0,color=\"red\"))+\n",
    "        theme_minimal()+\n",
    "        theme(axis.text = element_text(size = 15),\n",
    "              axis.title = element_text(size = 15),\n",
    "              strip.text = element_text(size = 15),\n",
    "              legend.position='none')+\n",
    "        xlim(-1,1)+ylim(-1,1)+\n",
    "        ylab(\"Observed fold change in \\n double KO cells (lg2)\")+\n",
    "        xlab(\"Sum of observed fold changes in single KO cells (lg2)\")\n",
    "\n",
    "dev.off()"
   ]
  },
  {
   "cell_type": "code",
   "execution_count": null,
   "id": "e7579244-5317-4ed2-88f9-410b4c664165",
   "metadata": {
    "tags": []
   },
   "outputs": [],
   "source": []
  }
 ],
 "metadata": {
  "kernelspec": {
   "display_name": "R",
   "language": "R",
   "name": "ir"
  },
  "language_info": {
   "codemirror_mode": "r",
   "file_extension": ".r",
   "mimetype": "text/x-r-source",
   "name": "R",
   "pygments_lexer": "r",
   "version": "4.2.1"
  }
 },
 "nbformat": 4,
 "nbformat_minor": 5
}
