{
 "cells": [
  {
   "cell_type": "code",
   "execution_count": 1,
   "id": "7b802c99-63dd-4773-9c7c-84c4d4019f41",
   "metadata": {
    "collapsed": true,
    "jupyter": {
     "outputs_hidden": true
    },
    "tags": []
   },
   "outputs": [
    {
     "name": "stderr",
     "output_type": "stream",
     "text": [
      "corrplot 0.92 loaded\n",
      "\n",
      "\n",
      "Attaching package: ‘pls’\n",
      "\n",
      "\n",
      "The following object is masked from ‘package:corrplot’:\n",
      "\n",
      "    corrplot\n",
      "\n",
      "\n",
      "The following object is masked from ‘package:stats’:\n",
      "\n",
      "    loadings\n",
      "\n",
      "\n",
      "\n",
      "Attaching package: ‘reshape2’\n",
      "\n",
      "\n",
      "The following objects are masked from ‘package:data.table’:\n",
      "\n",
      "    dcast, melt\n",
      "\n",
      "\n",
      "\n",
      "Attaching package: ‘ggpubr’\n",
      "\n",
      "\n",
      "The following object is masked from ‘package:cowplot’:\n",
      "\n",
      "    get_legend\n",
      "\n",
      "\n",
      "\n",
      "Attaching package: ‘plyr’\n",
      "\n",
      "\n",
      "The following object is masked from ‘package:ggpubr’:\n",
      "\n",
      "    mutate\n",
      "\n",
      "\n"
     ]
    }
   ],
   "source": [
    "source(\"Main.R\")\n",
    "source(\"Conf.R\")\n",
    "source(\"Utilities.R\")\n",
    "library(repr)\n",
    "library(\"ggpubr\")\n",
    "library(plyr)\n",
    "setwd(rDir)"
   ]
  },
  {
   "cell_type": "code",
   "execution_count": 2,
   "id": "cc045921-bcfa-4dc8-9b32-87d2c535d26a",
   "metadata": {},
   "outputs": [],
   "source": [
    "# allWeights <- read.csv(\"/home/beraslan/jovian-work/analysisSingle/GuideCellLM/GuideSelect_weights.csv\", stringsAsFactors = F)\n",
    "# rownames(allWeights) <- allWeights$X\n",
    "# allWeights$X <- NULL\n",
    "\n",
    "\n",
    "# pValsAll <- read.csv(\"/home/beraslan/jovian-work/analysisSingle/GuideCellLM/GuideSelect_pvals.csv\", stringsAsFactors = F)\n",
    "# rownames(pValsAll) <- pValsAll$X\n",
    "# pValsAll$X <- NULL"
   ]
  },
  {
   "cell_type": "code",
   "execution_count": 3,
   "id": "58935fc2-e259-4c7b-97e2-2a3983ae782f",
   "metadata": {},
   "outputs": [],
   "source": [
    "# M = cor(allWeights, method = \"pearson\")"
   ]
  },
  {
   "cell_type": "code",
   "execution_count": 4,
   "id": "a6d43af3-d03c-4202-88c4-93f81581ec21",
   "metadata": {},
   "outputs": [],
   "source": [
    "# M <- as.data.frame(M)\n",
    "# myDist <- unlist(M)\n",
    "# myDistFlat = data.frame(guidea=names(myDist), sDist= myDist)\n",
    "# myDistFlat$guidea = rep(rownames(M), each=nrow(M))\n",
    "# myDistFlat$guideb = rep(rownames(M), times = nrow(M))\n",
    "\n",
    "# myDistFlat <- myDistFlat[myDistFlat$guidea != myDistFlat$guideb,]\n",
    "# myDistFlat$guides_ab = apply(myDistFlat[,c(\"guidea\",\"guideb\")], 1,function(x){return(paste(sort(x), collapse = \"_\"))})\n",
    "\n",
    "# myDistFlat$guidea <- NULL\n",
    "# myDistFlat$guideb <- NULL\n",
    "\n",
    "# myDistFlat$GeneA <- sapply(myDistFlat$guides_ab, function(x){strsplit(x,\"_\")[[1]][1]})\n",
    "# myDistFlat$GeneB <- sapply(myDistFlat$guides_ab, function(x){strsplit(x,\"_\")[[1]][3]})\n",
    "\n",
    "# myDistFlat$sameGene <- FALSE\n",
    "# myDistFlat[myDistFlat$GeneA == myDistFlat$GeneB,\"sameGene\"] <- TRUE\n",
    "\n",
    "# saveRDS(myDistFlat, \"RDSFiles/GuideSelect_betaCovPearsonFlat.rds\")"
   ]
  },
  {
   "cell_type": "code",
   "execution_count": 2,
   "id": "27fc581f-50e7-4a69-837e-7ea554996665",
   "metadata": {},
   "outputs": [],
   "source": [
    "allWeights <- read.csv(\"/home/eraslab1/Projects/E3Ligase/analysisSingle/GuideCellLM/GuideSelect_weights.csv\", stringsAsFactors = F)\n",
    "rownames(allWeights) <- allWeights$X\n",
    "allWeights$X <- NULL\n"
   ]
  },
  {
   "cell_type": "code",
   "execution_count": 7,
   "id": "4c7adcc7-ffd3-415b-932c-c9dd682a88ba",
   "metadata": {},
   "outputs": [],
   "source": [
    "allControlCoefs = data.frame()\n",
    "allPValues = data.frame()\n",
    "\n",
    "for(i in seq(0,250,50)){\n",
    "    if(i != 250){\n",
    "        coefs <- read.csv(paste0(\"/home/eraslab1/Projects/E3Ligase/analysisSingle/ControlGuideEffects/coefs_\",i,\"_\",i+50,\"_ControlGuide.csv\"), \n",
    "                             stringsAsFactors = F)\n",
    "        pvals <- read.csv(paste0(\"/home/eraslab1/Projects/E3Ligase/analysisSingle/ControlGuideEffects/pvalues_\",i,\"_\",i+50,\"_ControlGuide.csv\"), \n",
    "                             stringsAsFactors = F)\n",
    "    }else{\n",
    "        coefs <- read.csv(paste0(\"/home/eraslab1/Projects/E3Ligase/analysisSingle/ControlGuideEffects/coefs_\",i,\"_330_ControlGuide.csv\"), \n",
    "                             stringsAsFactors = F)\n",
    "        pvals <- read.csv(paste0(\"/home/eraslab1/Projects/E3Ligase/analysisSingle/ControlGuideEffects/pvalues_\",i,\"_330_ControlGuide.csv\"), \n",
    "                             stringsAsFactors = F)\n",
    "    }\n",
    "    \n",
    "    allControlCoefs <- rbind(allControlCoefs, \n",
    "                             coefs[coefs$X %ni% c(\"n_genes\", \"mt_frac\", \"0\", \"1\", \"2\", \"3\", \"4\", \"5\", \"6\", \"7\", \"8\", \"9\"),])\n",
    "    allPValues <- rbind(allPValues, \n",
    "                             pvals[pvals$X %ni% c(\"n_genes\", \"mt_frac\", \"0\", \"1\", \"2\", \"3\", \"4\", \"5\", \"6\", \"7\", \"8\", \"9\"),])\n",
    "}\n",
    "rownames(allControlCoefs) = allControlCoefs$X\n",
    "rownames(allPValues) = allPValues$X\n",
    "\n",
    "allControlCoefs$X = NULL\n",
    "allPValues$X = NULL\n"
   ]
  },
  {
   "cell_type": "code",
   "execution_count": 8,
   "id": "53b9c74f-1c36-40a3-b452-403057f0cd37",
   "metadata": {
    "tags": []
   },
   "outputs": [],
   "source": [
    "write.csv(allControlCoefs,\"/home/eraslab1/Projects/E3Ligase/analysisSingle/ControlGuideEffects/Control_coefs.csv\")\n",
    "write.csv(allPValues,\"/home/eraslab1/Projects/E3Ligase/analysisSingle/ControlGuideEffects/Control_pValues.csv\")"
   ]
  },
  {
   "cell_type": "code",
   "execution_count": 9,
   "id": "c6f50f2d-4a5b-47fd-862d-237c7d9672e2",
   "metadata": {
    "tags": []
   },
   "outputs": [],
   "source": [
    "allControlCoefs = t(allControlCoefs)\n",
    "allPValues = t(allPValues)"
   ]
  },
  {
   "cell_type": "code",
   "execution_count": 7,
   "id": "68fa874a-419a-40ad-bc44-fe608a0fb86c",
   "metadata": {},
   "outputs": [],
   "source": [
    "M_control = cor(allWeights, allControlCoefs[1:nrow(allWeights), ], method = \"pearson\")"
   ]
  },
  {
   "cell_type": "code",
   "execution_count": 8,
   "id": "928a01f8-e726-48d5-a21b-e50fcaf1e8d8",
   "metadata": {},
   "outputs": [
    {
     "name": "stderr",
     "output_type": "stream",
     "text": [
      "Using TargetGuide as id variables\n",
      "\n"
     ]
    }
   ],
   "source": [
    "M_control <- as.data.frame(M_control)\n",
    "M_control$TargetGuide = rownames(M_control)\n",
    "myDist <- melt(M_control)\n"
   ]
  },
  {
   "cell_type": "code",
   "execution_count": 9,
   "id": "8730687b-2fc8-4cfd-ae9e-b847492a8113",
   "metadata": {},
   "outputs": [
    {
     "data": {
      "text/html": [
       "<table class=\"dataframe\">\n",
       "<caption>A data.frame: 6 × 3</caption>\n",
       "<thead>\n",
       "\t<tr><th></th><th scope=col>TargetGuide</th><th scope=col>variable</th><th scope=col>value</th></tr>\n",
       "\t<tr><th></th><th scope=col>&lt;chr&gt;</th><th scope=col>&lt;fct&gt;</th><th scope=col>&lt;dbl&gt;</th></tr>\n",
       "</thead>\n",
       "<tbody>\n",
       "\t<tr><th scope=row>1</th><td>Arih1_1 </td><td>NO_TARGET_1</td><td>-0.016436970</td></tr>\n",
       "\t<tr><th scope=row>2</th><td>Arih1_2 </td><td>NO_TARGET_1</td><td>-0.005384528</td></tr>\n",
       "\t<tr><th scope=row>3</th><td>Arih1_3 </td><td>NO_TARGET_1</td><td>-0.008493809</td></tr>\n",
       "\t<tr><th scope=row>4</th><td>Rnf212_1</td><td>NO_TARGET_1</td><td>-0.005330691</td></tr>\n",
       "\t<tr><th scope=row>5</th><td>Rnf212_2</td><td>NO_TARGET_1</td><td>-0.002168817</td></tr>\n",
       "\t<tr><th scope=row>6</th><td>Rnf212_3</td><td>NO_TARGET_1</td><td> 0.002758319</td></tr>\n",
       "</tbody>\n",
       "</table>\n"
      ],
      "text/latex": [
       "A data.frame: 6 × 3\n",
       "\\begin{tabular}{r|lll}\n",
       "  & TargetGuide & variable & value\\\\\n",
       "  & <chr> & <fct> & <dbl>\\\\\n",
       "\\hline\n",
       "\t1 & Arih1\\_1  & NO\\_TARGET\\_1 & -0.016436970\\\\\n",
       "\t2 & Arih1\\_2  & NO\\_TARGET\\_1 & -0.005384528\\\\\n",
       "\t3 & Arih1\\_3  & NO\\_TARGET\\_1 & -0.008493809\\\\\n",
       "\t4 & Rnf212\\_1 & NO\\_TARGET\\_1 & -0.005330691\\\\\n",
       "\t5 & Rnf212\\_2 & NO\\_TARGET\\_1 & -0.002168817\\\\\n",
       "\t6 & Rnf212\\_3 & NO\\_TARGET\\_1 &  0.002758319\\\\\n",
       "\\end{tabular}\n"
      ],
      "text/markdown": [
       "\n",
       "A data.frame: 6 × 3\n",
       "\n",
       "| <!--/--> | TargetGuide &lt;chr&gt; | variable &lt;fct&gt; | value &lt;dbl&gt; |\n",
       "|---|---|---|---|\n",
       "| 1 | Arih1_1  | NO_TARGET_1 | -0.016436970 |\n",
       "| 2 | Arih1_2  | NO_TARGET_1 | -0.005384528 |\n",
       "| 3 | Arih1_3  | NO_TARGET_1 | -0.008493809 |\n",
       "| 4 | Rnf212_1 | NO_TARGET_1 | -0.005330691 |\n",
       "| 5 | Rnf212_2 | NO_TARGET_1 | -0.002168817 |\n",
       "| 6 | Rnf212_3 | NO_TARGET_1 |  0.002758319 |\n",
       "\n"
      ],
      "text/plain": [
       "  TargetGuide variable    value       \n",
       "1 Arih1_1     NO_TARGET_1 -0.016436970\n",
       "2 Arih1_2     NO_TARGET_1 -0.005384528\n",
       "3 Arih1_3     NO_TARGET_1 -0.008493809\n",
       "4 Rnf212_1    NO_TARGET_1 -0.005330691\n",
       "5 Rnf212_2    NO_TARGET_1 -0.002168817\n",
       "6 Rnf212_3    NO_TARGET_1  0.002758319"
      ]
     },
     "metadata": {},
     "output_type": "display_data"
    }
   ],
   "source": [
    "head(myDist)"
   ]
  },
  {
   "cell_type": "code",
   "execution_count": 10,
   "id": "1e92439f-0208-4ee0-a7da-2cb282b5d4e3",
   "metadata": {},
   "outputs": [],
   "source": [
    "myDist$GeneA = sapply(myDist$variable, function(x){k = strsplit(as.character(x),\"_\")[[1]]\n",
    "                                         return(paste0(k[-length(k)], collapse=\"_\"))})\n",
    "myDist$GeneB = \"Target\"\n",
    "myDist$sameGene = \"NO_TARGET_CONTROL\"\n",
    "myDist[myDist$GeneA == \"ONE_NONGENE_SITE\", \"sameGene\"] = \"ONE_NONGENE_SITE_CONTROL\"\n",
    "myDist$guides_ab = paste0(myDist$GeneA, \"_\", myDist$GeneB)"
   ]
  },
  {
   "cell_type": "code",
   "execution_count": 11,
   "id": "7e75bf00-efb3-4d91-b2e5-473df46b1988",
   "metadata": {},
   "outputs": [],
   "source": [
    "myDist <- myDist[,c(\"value\", \"guides_ab\", \"GeneA\", \"GeneB\", \"sameGene\")]\n",
    "colnames(myDist) = c(\"sDist\", \"guides_ab\", \"GeneA\", \"GeneB\", \"sameGene\")"
   ]
  },
  {
   "cell_type": "code",
   "execution_count": 12,
   "id": "f53e7d9a-1a9b-4505-852e-1da816c68b00",
   "metadata": {},
   "outputs": [],
   "source": [
    "myDistFlat <- readRDS(paste0(rdsDir,\"GuideSelect_betaCovPearsonFlat.rds\") )"
   ]
  },
  {
   "cell_type": "code",
   "execution_count": 13,
   "id": "7870f775-9573-4ec6-9c76-c144d420d080",
   "metadata": {},
   "outputs": [],
   "source": [
    "myDistFlat[myDistFlat$sameGene == \"TRUE\",\"sameGene\"] = \"SAME_GENE\"\n",
    "myDistFlat[myDistFlat$sameGene == \"FALSE\",\"sameGene\"] = \"DIFFERENT_GENE\""
   ]
  },
  {
   "cell_type": "code",
   "execution_count": 14,
   "id": "05ce8ad3-ddee-4614-a8a6-957558a54c8f",
   "metadata": {},
   "outputs": [
    {
     "data": {
      "text/html": [
       "<table class=\"dataframe\">\n",
       "<caption>A data.frame: 6 × 5</caption>\n",
       "<thead>\n",
       "\t<tr><th></th><th scope=col>sDist</th><th scope=col>guides_ab</th><th scope=col>GeneA</th><th scope=col>GeneB</th><th scope=col>sameGene</th></tr>\n",
       "\t<tr><th></th><th scope=col>&lt;dbl&gt;</th><th scope=col>&lt;chr&gt;</th><th scope=col>&lt;chr&gt;</th><th scope=col>&lt;chr&gt;</th><th scope=col>&lt;chr&gt;</th></tr>\n",
       "</thead>\n",
       "<tbody>\n",
       "\t<tr><th scope=row>Arih1_12</th><td>0.070699809</td><td>Arih1_1_Arih1_2 </td><td>Arih1</td><td>Arih1 </td><td>SAME_GENE     </td></tr>\n",
       "\t<tr><th scope=row>Arih1_13</th><td>0.047963423</td><td>Arih1_1_Arih1_3 </td><td>Arih1</td><td>Arih1 </td><td>SAME_GENE     </td></tr>\n",
       "\t<tr><th scope=row>Arih1_14</th><td>0.009423827</td><td>Arih1_1_Rnf212_1</td><td>Arih1</td><td>Rnf212</td><td>DIFFERENT_GENE</td></tr>\n",
       "\t<tr><th scope=row>Arih1_15</th><td>0.026873011</td><td>Arih1_1_Rnf212_2</td><td>Arih1</td><td>Rnf212</td><td>DIFFERENT_GENE</td></tr>\n",
       "\t<tr><th scope=row>Arih1_16</th><td>0.013194789</td><td>Arih1_1_Rnf212_3</td><td>Arih1</td><td>Rnf212</td><td>DIFFERENT_GENE</td></tr>\n",
       "\t<tr><th scope=row>Arih1_17</th><td>0.034290309</td><td>Arih1_1_Cbl_1   </td><td>Arih1</td><td>Cbl   </td><td>DIFFERENT_GENE</td></tr>\n",
       "</tbody>\n",
       "</table>\n"
      ],
      "text/latex": [
       "A data.frame: 6 × 5\n",
       "\\begin{tabular}{r|lllll}\n",
       "  & sDist & guides\\_ab & GeneA & GeneB & sameGene\\\\\n",
       "  & <dbl> & <chr> & <chr> & <chr> & <chr>\\\\\n",
       "\\hline\n",
       "\tArih1\\_12 & 0.070699809 & Arih1\\_1\\_Arih1\\_2  & Arih1 & Arih1  & SAME\\_GENE     \\\\\n",
       "\tArih1\\_13 & 0.047963423 & Arih1\\_1\\_Arih1\\_3  & Arih1 & Arih1  & SAME\\_GENE     \\\\\n",
       "\tArih1\\_14 & 0.009423827 & Arih1\\_1\\_Rnf212\\_1 & Arih1 & Rnf212 & DIFFERENT\\_GENE\\\\\n",
       "\tArih1\\_15 & 0.026873011 & Arih1\\_1\\_Rnf212\\_2 & Arih1 & Rnf212 & DIFFERENT\\_GENE\\\\\n",
       "\tArih1\\_16 & 0.013194789 & Arih1\\_1\\_Rnf212\\_3 & Arih1 & Rnf212 & DIFFERENT\\_GENE\\\\\n",
       "\tArih1\\_17 & 0.034290309 & Arih1\\_1\\_Cbl\\_1    & Arih1 & Cbl    & DIFFERENT\\_GENE\\\\\n",
       "\\end{tabular}\n"
      ],
      "text/markdown": [
       "\n",
       "A data.frame: 6 × 5\n",
       "\n",
       "| <!--/--> | sDist &lt;dbl&gt; | guides_ab &lt;chr&gt; | GeneA &lt;chr&gt; | GeneB &lt;chr&gt; | sameGene &lt;chr&gt; |\n",
       "|---|---|---|---|---|---|\n",
       "| Arih1_12 | 0.070699809 | Arih1_1_Arih1_2  | Arih1 | Arih1  | SAME_GENE      |\n",
       "| Arih1_13 | 0.047963423 | Arih1_1_Arih1_3  | Arih1 | Arih1  | SAME_GENE      |\n",
       "| Arih1_14 | 0.009423827 | Arih1_1_Rnf212_1 | Arih1 | Rnf212 | DIFFERENT_GENE |\n",
       "| Arih1_15 | 0.026873011 | Arih1_1_Rnf212_2 | Arih1 | Rnf212 | DIFFERENT_GENE |\n",
       "| Arih1_16 | 0.013194789 | Arih1_1_Rnf212_3 | Arih1 | Rnf212 | DIFFERENT_GENE |\n",
       "| Arih1_17 | 0.034290309 | Arih1_1_Cbl_1    | Arih1 | Cbl    | DIFFERENT_GENE |\n",
       "\n"
      ],
      "text/plain": [
       "         sDist       guides_ab        GeneA GeneB  sameGene      \n",
       "Arih1_12 0.070699809 Arih1_1_Arih1_2  Arih1 Arih1  SAME_GENE     \n",
       "Arih1_13 0.047963423 Arih1_1_Arih1_3  Arih1 Arih1  SAME_GENE     \n",
       "Arih1_14 0.009423827 Arih1_1_Rnf212_1 Arih1 Rnf212 DIFFERENT_GENE\n",
       "Arih1_15 0.026873011 Arih1_1_Rnf212_2 Arih1 Rnf212 DIFFERENT_GENE\n",
       "Arih1_16 0.013194789 Arih1_1_Rnf212_3 Arih1 Rnf212 DIFFERENT_GENE\n",
       "Arih1_17 0.034290309 Arih1_1_Cbl_1    Arih1 Cbl    DIFFERENT_GENE"
      ]
     },
     "metadata": {},
     "output_type": "display_data"
    }
   ],
   "source": [
    "head(myDistFlat)"
   ]
  },
  {
   "cell_type": "code",
   "execution_count": 15,
   "id": "10b9f5f0-fbc6-4099-98bf-4e1085ef45fa",
   "metadata": {},
   "outputs": [],
   "source": [
    "myDistFlatALL <- rbind(myDistFlat, myDist)"
   ]
  },
  {
   "cell_type": "code",
   "execution_count": 16,
   "id": "7c44e026-58b6-461a-ac9d-2ca2754d3f14",
   "metadata": {},
   "outputs": [
    {
     "data": {
      "text/html": [
       "<table class=\"dataframe\">\n",
       "<caption>A data.frame: 4 × 2</caption>\n",
       "<thead>\n",
       "\t<tr><th scope=col>sameGene</th><th scope=col>grp.mean</th></tr>\n",
       "\t<tr><th scope=col>&lt;chr&gt;</th><th scope=col>&lt;dbl&gt;</th></tr>\n",
       "</thead>\n",
       "<tbody>\n",
       "\t<tr><td>DIFFERENT_GENE          </td><td> 0.0022403864</td></tr>\n",
       "\t<tr><td>NO_TARGET_CONTROL       </td><td>-0.0002912298</td></tr>\n",
       "\t<tr><td>ONE_NONGENE_SITE_CONTROL</td><td> 0.0002002579</td></tr>\n",
       "\t<tr><td>SAME_GENE               </td><td> 0.0282120936</td></tr>\n",
       "</tbody>\n",
       "</table>\n"
      ],
      "text/latex": [
       "A data.frame: 4 × 2\n",
       "\\begin{tabular}{ll}\n",
       " sameGene & grp.mean\\\\\n",
       " <chr> & <dbl>\\\\\n",
       "\\hline\n",
       "\t DIFFERENT\\_GENE           &  0.0022403864\\\\\n",
       "\t NO\\_TARGET\\_CONTROL        & -0.0002912298\\\\\n",
       "\t ONE\\_NONGENE\\_SITE\\_CONTROL &  0.0002002579\\\\\n",
       "\t SAME\\_GENE                &  0.0282120936\\\\\n",
       "\\end{tabular}\n"
      ],
      "text/markdown": [
       "\n",
       "A data.frame: 4 × 2\n",
       "\n",
       "| sameGene &lt;chr&gt; | grp.mean &lt;dbl&gt; |\n",
       "|---|---|\n",
       "| DIFFERENT_GENE           |  0.0022403864 |\n",
       "| NO_TARGET_CONTROL        | -0.0002912298 |\n",
       "| ONE_NONGENE_SITE_CONTROL |  0.0002002579 |\n",
       "| SAME_GENE                |  0.0282120936 |\n",
       "\n"
      ],
      "text/plain": [
       "  sameGene                 grp.mean     \n",
       "1 DIFFERENT_GENE            0.0022403864\n",
       "2 NO_TARGET_CONTROL        -0.0002912298\n",
       "3 ONE_NONGENE_SITE_CONTROL  0.0002002579\n",
       "4 SAME_GENE                 0.0282120936"
      ]
     },
     "metadata": {},
     "output_type": "display_data"
    }
   ],
   "source": [
    "mu <- ddply(myDistFlatALL, \"sameGene\", summarise, grp.mean=mean(sDist))\n",
    "mu"
   ]
  },
  {
   "cell_type": "code",
   "execution_count": 17,
   "id": "bdb88c6d-5193-495d-beb1-f65ed29513e5",
   "metadata": {},
   "outputs": [
    {
     "data": {
      "text/html": [
       "<table class=\"dataframe\">\n",
       "<caption>A data.frame: 6 × 5</caption>\n",
       "<thead>\n",
       "\t<tr><th></th><th scope=col>sDist</th><th scope=col>guides_ab</th><th scope=col>GeneA</th><th scope=col>GeneB</th><th scope=col>sameGene</th></tr>\n",
       "\t<tr><th></th><th scope=col>&lt;dbl&gt;</th><th scope=col>&lt;chr&gt;</th><th scope=col>&lt;chr&gt;</th><th scope=col>&lt;chr&gt;</th><th scope=col>&lt;chr&gt;</th></tr>\n",
       "</thead>\n",
       "<tbody>\n",
       "\t<tr><th scope=row>Arih1_12</th><td>0.070699809</td><td>Arih1_1_Arih1_2 </td><td>Arih1</td><td>Arih1 </td><td>SAME_GENE     </td></tr>\n",
       "\t<tr><th scope=row>Arih1_13</th><td>0.047963423</td><td>Arih1_1_Arih1_3 </td><td>Arih1</td><td>Arih1 </td><td>SAME_GENE     </td></tr>\n",
       "\t<tr><th scope=row>Arih1_14</th><td>0.009423827</td><td>Arih1_1_Rnf212_1</td><td>Arih1</td><td>Rnf212</td><td>DIFFERENT_GENE</td></tr>\n",
       "\t<tr><th scope=row>Arih1_15</th><td>0.026873011</td><td>Arih1_1_Rnf212_2</td><td>Arih1</td><td>Rnf212</td><td>DIFFERENT_GENE</td></tr>\n",
       "\t<tr><th scope=row>Arih1_16</th><td>0.013194789</td><td>Arih1_1_Rnf212_3</td><td>Arih1</td><td>Rnf212</td><td>DIFFERENT_GENE</td></tr>\n",
       "\t<tr><th scope=row>Arih1_17</th><td>0.034290309</td><td>Arih1_1_Cbl_1   </td><td>Arih1</td><td>Cbl   </td><td>DIFFERENT_GENE</td></tr>\n",
       "</tbody>\n",
       "</table>\n"
      ],
      "text/latex": [
       "A data.frame: 6 × 5\n",
       "\\begin{tabular}{r|lllll}\n",
       "  & sDist & guides\\_ab & GeneA & GeneB & sameGene\\\\\n",
       "  & <dbl> & <chr> & <chr> & <chr> & <chr>\\\\\n",
       "\\hline\n",
       "\tArih1\\_12 & 0.070699809 & Arih1\\_1\\_Arih1\\_2  & Arih1 & Arih1  & SAME\\_GENE     \\\\\n",
       "\tArih1\\_13 & 0.047963423 & Arih1\\_1\\_Arih1\\_3  & Arih1 & Arih1  & SAME\\_GENE     \\\\\n",
       "\tArih1\\_14 & 0.009423827 & Arih1\\_1\\_Rnf212\\_1 & Arih1 & Rnf212 & DIFFERENT\\_GENE\\\\\n",
       "\tArih1\\_15 & 0.026873011 & Arih1\\_1\\_Rnf212\\_2 & Arih1 & Rnf212 & DIFFERENT\\_GENE\\\\\n",
       "\tArih1\\_16 & 0.013194789 & Arih1\\_1\\_Rnf212\\_3 & Arih1 & Rnf212 & DIFFERENT\\_GENE\\\\\n",
       "\tArih1\\_17 & 0.034290309 & Arih1\\_1\\_Cbl\\_1    & Arih1 & Cbl    & DIFFERENT\\_GENE\\\\\n",
       "\\end{tabular}\n"
      ],
      "text/markdown": [
       "\n",
       "A data.frame: 6 × 5\n",
       "\n",
       "| <!--/--> | sDist &lt;dbl&gt; | guides_ab &lt;chr&gt; | GeneA &lt;chr&gt; | GeneB &lt;chr&gt; | sameGene &lt;chr&gt; |\n",
       "|---|---|---|---|---|---|\n",
       "| Arih1_12 | 0.070699809 | Arih1_1_Arih1_2  | Arih1 | Arih1  | SAME_GENE      |\n",
       "| Arih1_13 | 0.047963423 | Arih1_1_Arih1_3  | Arih1 | Arih1  | SAME_GENE      |\n",
       "| Arih1_14 | 0.009423827 | Arih1_1_Rnf212_1 | Arih1 | Rnf212 | DIFFERENT_GENE |\n",
       "| Arih1_15 | 0.026873011 | Arih1_1_Rnf212_2 | Arih1 | Rnf212 | DIFFERENT_GENE |\n",
       "| Arih1_16 | 0.013194789 | Arih1_1_Rnf212_3 | Arih1 | Rnf212 | DIFFERENT_GENE |\n",
       "| Arih1_17 | 0.034290309 | Arih1_1_Cbl_1    | Arih1 | Cbl    | DIFFERENT_GENE |\n",
       "\n"
      ],
      "text/plain": [
       "         sDist       guides_ab        GeneA GeneB  sameGene      \n",
       "Arih1_12 0.070699809 Arih1_1_Arih1_2  Arih1 Arih1  SAME_GENE     \n",
       "Arih1_13 0.047963423 Arih1_1_Arih1_3  Arih1 Arih1  SAME_GENE     \n",
       "Arih1_14 0.009423827 Arih1_1_Rnf212_1 Arih1 Rnf212 DIFFERENT_GENE\n",
       "Arih1_15 0.026873011 Arih1_1_Rnf212_2 Arih1 Rnf212 DIFFERENT_GENE\n",
       "Arih1_16 0.013194789 Arih1_1_Rnf212_3 Arih1 Rnf212 DIFFERENT_GENE\n",
       "Arih1_17 0.034290309 Arih1_1_Cbl_1    Arih1 Cbl    DIFFERENT_GENE"
      ]
     },
     "metadata": {},
     "output_type": "display_data"
    }
   ],
   "source": [
    "head(myDistFlatALL)"
   ]
  },
  {
   "cell_type": "code",
   "execution_count": 19,
   "id": "3f2f283f-d963-498a-ab63-5a0517232295",
   "metadata": {},
   "outputs": [
    {
     "name": "stderr",
     "output_type": "stream",
     "text": [
      "Warning message:\n",
      "“Removed 518 rows containing non-finite values (stat_ecdf).”\n"
     ]
    },
    {
     "data": {
      "text/html": [
       "<strong>png:</strong> 2"
      ],
      "text/latex": [
       "\\textbf{png:} 2"
      ],
      "text/markdown": [
       "**png:** 2"
      ],
      "text/plain": [
       "png \n",
       "  2 "
      ]
     },
     "metadata": {},
     "output_type": "display_data"
    }
   ],
   "source": [
    "options(repr.plot.width=10, repr.plot.height=4)\n",
    "\n",
    "pdf(\"./../SupplementaryFigures/S_1F.pdf\", width = 10, height = 4)\n",
    "ggplot(myDistFlatALL, aes(sDist, colour = sameGene)) +\n",
    "  stat_ecdf(geom = \"step\")+theme_minimal()+\n",
    "labs(\n",
    "     x=\"Pearson correlation between guide effect sizes\", \n",
    "     y = \"CDF\")+theme(axis.text = element_text(size=15),\n",
    "              axis.title =  element_text(size=16))+xlim(-0.25, 0.25)\n",
    "\n",
    "dev.off()"
   ]
  },
  {
   "cell_type": "code",
   "execution_count": 17,
   "id": "98e14b7f-d8b1-473b-addd-0013bace9e95",
   "metadata": {},
   "outputs": [
    {
     "name": "stderr",
     "output_type": "stream",
     "text": [
      "Warning message:\n",
      "“Removed 3802 rows containing non-finite values (stat_bin).”\n",
      "Warning message:\n",
      "“Removed 8 rows containing missing values (geom_bar).”\n"
     ]
    },
    {
     "data": {
      "image/png": "[encoded data removed]",
      "text/plain": [
       "plot without title"
      ]
     },
     "metadata": {
      "image/png": {
       "height": 300,
       "width": 600
      }
     },
     "output_type": "display_data"
    }
   ],
   "source": [
    "mu <- ddply(myDistFlatALL, \"sameGene\", summarise, grp.mean=mean(sDist))\n",
    "options(repr.plot.width=10, repr.plot.height=5)\n",
    "\n",
    "\n",
    "ggplot(myDistFlatALL, aes(x=sDist, color=sameGene, fill=sameGene)) +\n",
    "geom_histogram(aes(y=..density..), position=\"identity\", alpha=0.3, binwidth = 0.005)+\n",
    "#geom_density(alpha=0.6)+\n",
    "geom_vline(data=mu, aes(xintercept=grp.mean, color=sameGene),\n",
    "           linetype=\"dashed\")+\n",
    "# geom_vline(xintercept=0.015, color=\"black\",\n",
    "#            linetype=\"dashed\")+\n",
    "#scale_color_manual(values=c(\"#E69F00\", \"#999999\", \"blue\"))+\n",
    "#scale_fill_manual(values=c(\"#E69F00\", \"#999999\", \"blue\"))+\n",
    "labs(\n",
    "     x=\"Pearson correlation between guide effect sizes\", \n",
    "     y = \"Density\")+\n",
    "theme_bw()+theme(axis.text = element_text(size=15),\n",
    "              axis.title =  element_text(size=16)) +\n",
    "scale_x_continuous(breaks = seq(-0.1,0.5,0.1), \n",
    "                   labels =  seq(-0.1,0.5,0.1),\n",
    "                   limits = c(-0.1,0.5) )"
   ]
  },
  {
   "cell_type": "code",
   "execution_count": 18,
   "id": "0aead92f-5adb-4179-93cb-49207e731f57",
   "metadata": {},
   "outputs": [
    {
     "data": {
      "text/html": [
       "<table class=\"dataframe\">\n",
       "<caption>A data.frame: 4 × 2</caption>\n",
       "<thead>\n",
       "\t<tr><th scope=col>sameGene</th><th scope=col>grp.mean</th></tr>\n",
       "\t<tr><th scope=col>&lt;chr&gt;</th><th scope=col>&lt;dbl&gt;</th></tr>\n",
       "</thead>\n",
       "<tbody>\n",
       "\t<tr><td>DIFFERENT_GENE          </td><td> 0.0022403864</td></tr>\n",
       "\t<tr><td>NO_TARGET_CONTROL       </td><td>-0.0002912298</td></tr>\n",
       "\t<tr><td>ONE_NONGENE_SITE_CONTROL</td><td> 0.0002002579</td></tr>\n",
       "\t<tr><td>SAME_GENE               </td><td> 0.0282120936</td></tr>\n",
       "</tbody>\n",
       "</table>\n"
      ],
      "text/latex": [
       "A data.frame: 4 × 2\n",
       "\\begin{tabular}{ll}\n",
       " sameGene & grp.mean\\\\\n",
       " <chr> & <dbl>\\\\\n",
       "\\hline\n",
       "\t DIFFERENT\\_GENE           &  0.0022403864\\\\\n",
       "\t NO\\_TARGET\\_CONTROL        & -0.0002912298\\\\\n",
       "\t ONE\\_NONGENE\\_SITE\\_CONTROL &  0.0002002579\\\\\n",
       "\t SAME\\_GENE                &  0.0282120936\\\\\n",
       "\\end{tabular}\n"
      ],
      "text/markdown": [
       "\n",
       "A data.frame: 4 × 2\n",
       "\n",
       "| sameGene &lt;chr&gt; | grp.mean &lt;dbl&gt; |\n",
       "|---|---|\n",
       "| DIFFERENT_GENE           |  0.0022403864 |\n",
       "| NO_TARGET_CONTROL        | -0.0002912298 |\n",
       "| ONE_NONGENE_SITE_CONTROL |  0.0002002579 |\n",
       "| SAME_GENE                |  0.0282120936 |\n",
       "\n"
      ],
      "text/plain": [
       "  sameGene                 grp.mean     \n",
       "1 DIFFERENT_GENE            0.0022403864\n",
       "2 NO_TARGET_CONTROL        -0.0002912298\n",
       "3 ONE_NONGENE_SITE_CONTROL  0.0002002579\n",
       "4 SAME_GENE                 0.0282120936"
      ]
     },
     "metadata": {},
     "output_type": "display_data"
    }
   ],
   "source": [
    "mu"
   ]
  },
  {
   "cell_type": "code",
   "execution_count": null,
   "id": "0095b3c3-464f-452f-9a98-0477b9ee4355",
   "metadata": {},
   "outputs": [],
   "source": [
    "x <- myDistFlatALL[myDistFlatALL$sameGene == \"SAME_GENE\", \"sDist\"]\n",
    "y <- myDistFlatALL[myDistFlatALL$sameGene == \"DIFFERENT_GENE\", \"sDist\"]"
   ]
  },
  {
   "cell_type": "code",
   "execution_count": null,
   "id": "46f489a6-3827-4b76-aa2b-63815e43560b",
   "metadata": {},
   "outputs": [],
   "source": []
  },
  {
   "cell_type": "code",
   "execution_count": null,
   "id": "42ae1672-a8c3-44b9-a0e6-9bf07de5ae03",
   "metadata": {},
   "outputs": [],
   "source": [
    "x <- myDistFlatALL[myDistFlatALL$sameGene == \"SAME_GENE\", \"sDist\"]\n",
    "y <- myDistFlatALL[myDistFlatALL$sameGene == \"CONTROL_GUIDE\", \"sDist\"]\n",
    "ks.test(x,y, alternative=\"l\")"
   ]
  },
  {
   "cell_type": "code",
   "execution_count": null,
   "id": "496d09c5-9691-483d-9d46-2c5ad11874b7",
   "metadata": {},
   "outputs": [],
   "source": []
  }
 ],
 "metadata": {
  "kernelspec": {
   "display_name": "R",
   "language": "R",
   "name": "ir"
  },
  "language_info": {
   "codemirror_mode": "r",
   "file_extension": ".r",
   "mimetype": "text/x-r-source",
   "name": "R",
   "pygments_lexer": "r",
   "version": "4.2.1"
  }
 },
 "nbformat": 4,
 "nbformat_minor": 5
}
