{
 "cells": [
  {
   "cell_type": "code",
   "execution_count": 1,
   "id": "41d776fa-e655-4d4c-ad90-bebcc3d828f3",
   "metadata": {
    "collapsed": true,
    "jupyter": {
     "outputs_hidden": true
    },
    "tags": []
   },
   "outputs": [
    {
     "name": "stderr",
     "output_type": "stream",
     "text": [
      "corrplot 0.92 loaded\n",
      "\n",
      "\n",
      "Attaching package: ‘pls’\n",
      "\n",
      "\n",
      "The following object is masked from ‘package:corrplot’:\n",
      "\n",
      "    corrplot\n",
      "\n",
      "\n",
      "The following object is masked from ‘package:stats’:\n",
      "\n",
      "    loadings\n",
      "\n",
      "\n",
      "\n",
      "Attaching package: ‘reshape2’\n",
      "\n",
      "\n",
      "The following objects are masked from ‘package:data.table’:\n",
      "\n",
      "    dcast, melt\n",
      "\n",
      "\n"
     ]
    }
   ],
   "source": [
    "source(\"Main.R\")\n",
    "source(\"Conf.R\")\n",
    "source(\"Utilities.R\")\n",
    "library(\"reshape2\")\n",
    "library(pheatmap)\n",
    "library(stringr)\n",
    "\n",
    "#library (DirichletReg)"
   ]
  },
  {
   "cell_type": "code",
   "execution_count": 2,
   "id": "5bc407dd-7cd0-4b93-9652-98dcd9a338b4",
   "metadata": {},
   "outputs": [
    {
     "data": {
      "text/html": [
       "<style>\n",
       ".list-inline {list-style: none; margin:0; padding: 0}\n",
       ".list-inline>li {display: inline-block}\n",
       ".list-inline>li:not(:last-child)::after {content: \"\\00b7\"; padding: 0 .5ex}\n",
       "</style>\n",
       "<ol class=list-inline><li>'#A6CEE3'</li><li>'#1F78B4'</li><li>'#B2DF8A'</li><li>'#33A02C'</li><li>'#FB9A99'</li><li>'#E31A1C'</li><li>'#FDBF6F'</li><li>'#FF7F00'</li><li>'#CAB2D6'</li><li>'#6A3D9A'</li><li>'#FFFF99'</li></ol>\n"
      ],
      "text/latex": [
       "\\begin{enumerate*}\n",
       "\\item '\\#A6CEE3'\n",
       "\\item '\\#1F78B4'\n",
       "\\item '\\#B2DF8A'\n",
       "\\item '\\#33A02C'\n",
       "\\item '\\#FB9A99'\n",
       "\\item '\\#E31A1C'\n",
       "\\item '\\#FDBF6F'\n",
       "\\item '\\#FF7F00'\n",
       "\\item '\\#CAB2D6'\n",
       "\\item '\\#6A3D9A'\n",
       "\\item '\\#FFFF99'\n",
       "\\end{enumerate*}\n"
      ],
      "text/markdown": [
       "1. '#A6CEE3'\n",
       "2. '#1F78B4'\n",
       "3. '#B2DF8A'\n",
       "4. '#33A02C'\n",
       "5. '#FB9A99'\n",
       "6. '#E31A1C'\n",
       "7. '#FDBF6F'\n",
       "8. '#FF7F00'\n",
       "9. '#CAB2D6'\n",
       "10. '#6A3D9A'\n",
       "11. '#FFFF99'\n",
       "\n",
       "\n"
      ],
      "text/plain": [
       " [1] \"#A6CEE3\" \"#1F78B4\" \"#B2DF8A\" \"#33A02C\" \"#FB9A99\" \"#E31A1C\" \"#FDBF6F\"\n",
       " [8] \"#FF7F00\" \"#CAB2D6\" \"#6A3D9A\" \"#FFFF99\""
      ]
     },
     "metadata": {},
     "output_type": "display_data"
    }
   ],
   "source": [
    "brewer.pal(n = 11, name = \"Paired\")"
   ]
  },
  {
   "cell_type": "code",
   "execution_count": 3,
   "id": "d1f43072-e75d-4cfb-8753-977608b8b9bd",
   "metadata": {},
   "outputs": [],
   "source": [
    "allGuidesPerSCT <- readRDS(\"./../outputs/RDSFiles/KOGroupsPerLeiden.rds\")"
   ]
  },
  {
   "cell_type": "code",
   "execution_count": 3,
   "id": "821c8b4e-0447-4b8f-8384-acd65bfd8645",
   "metadata": {},
   "outputs": [],
   "source": [
    "# We can not use dirichlet regression to find the associations here because there is only 1 sample for which we know the compositions\n",
    "\n",
    "# KOGroupsPercs = as.data.frame((allGuidesPerSCT[,1:10]))\n",
    "# clusterCompositions = DR_data(KOGroupsPercs)\n",
    "\n",
    "# KOGroupsPercs$KOGroup  = factor(rownames(KOGroupsPercs))\n",
    "\n",
    "# m1 <- DirichReg(clusterCompositions ~ KOGroup, KOGroupsPercs, model=\"common\")\n",
    "# summary(m1)"
   ]
  },
  {
   "cell_type": "code",
   "execution_count": 4,
   "id": "974c4118-4065-4b0a-8ef2-0da5ba2c1e1d",
   "metadata": {},
   "outputs": [
    {
     "data": {
      "text/html": [
       "<table class=\"dataframe\">\n",
       "<caption>A data.frame: 6 × 12</caption>\n",
       "<thead>\n",
       "\t<tr><th></th><th scope=col>0</th><th scope=col>1</th><th scope=col>2</th><th scope=col>3</th><th scope=col>4</th><th scope=col>5</th><th scope=col>6</th><th scope=col>7</th><th scope=col>8</th><th scope=col>9</th><th scope=col>KOGuide</th><th scope=col>noOfKOGroupCells</th></tr>\n",
       "\t<tr><th></th><th scope=col>&lt;int&gt;</th><th scope=col>&lt;int&gt;</th><th scope=col>&lt;int&gt;</th><th scope=col>&lt;int&gt;</th><th scope=col>&lt;int&gt;</th><th scope=col>&lt;int&gt;</th><th scope=col>&lt;int&gt;</th><th scope=col>&lt;int&gt;</th><th scope=col>&lt;int&gt;</th><th scope=col>&lt;int&gt;</th><th scope=col>&lt;chr&gt;</th><th scope=col>&lt;int&gt;</th></tr>\n",
       "</thead>\n",
       "<tbody>\n",
       "\t<tr><th scope=row>1</th><td>7482</td><td>5372</td><td>4348</td><td>2827</td><td>1349</td><td>648</td><td>576</td><td>362</td><td>261</td><td>14</td><td>G_0</td><td>23239</td></tr>\n",
       "\t<tr><th scope=row>2</th><td>5220</td><td>3669</td><td>4040</td><td>2577</td><td> 747</td><td>541</td><td>473</td><td>288</td><td>245</td><td>26</td><td>G_1</td><td>17826</td></tr>\n",
       "\t<tr><th scope=row>3</th><td>4858</td><td>3992</td><td>3093</td><td>2498</td><td> 987</td><td>526</td><td>416</td><td>220</td><td>233</td><td>18</td><td>G_2</td><td>16841</td></tr>\n",
       "\t<tr><th scope=row>4</th><td>4967</td><td>4586</td><td>2855</td><td>3032</td><td> 585</td><td>445</td><td>357</td><td>243</td><td>296</td><td>24</td><td>G_3</td><td>17390</td></tr>\n",
       "\t<tr><th scope=row>5</th><td>1786</td><td> 997</td><td> 941</td><td> 308</td><td> 260</td><td>143</td><td>116</td><td> 74</td><td> 42</td><td> 0</td><td>G_4</td><td> 4667</td></tr>\n",
       "\t<tr><th scope=row>6</th><td> 553</td><td> 501</td><td> 365</td><td> 180</td><td>  77</td><td> 60</td><td> 38</td><td> 30</td><td> 14</td><td> 0</td><td>G_5</td><td> 1818</td></tr>\n",
       "</tbody>\n",
       "</table>\n"
      ],
      "text/latex": [
       "A data.frame: 6 × 12\n",
       "\\begin{tabular}{r|llllllllllll}\n",
       "  & 0 & 1 & 2 & 3 & 4 & 5 & 6 & 7 & 8 & 9 & KOGuide & noOfKOGroupCells\\\\\n",
       "  & <int> & <int> & <int> & <int> & <int> & <int> & <int> & <int> & <int> & <int> & <chr> & <int>\\\\\n",
       "\\hline\n",
       "\t1 & 7482 & 5372 & 4348 & 2827 & 1349 & 648 & 576 & 362 & 261 & 14 & G\\_0 & 23239\\\\\n",
       "\t2 & 5220 & 3669 & 4040 & 2577 &  747 & 541 & 473 & 288 & 245 & 26 & G\\_1 & 17826\\\\\n",
       "\t3 & 4858 & 3992 & 3093 & 2498 &  987 & 526 & 416 & 220 & 233 & 18 & G\\_2 & 16841\\\\\n",
       "\t4 & 4967 & 4586 & 2855 & 3032 &  585 & 445 & 357 & 243 & 296 & 24 & G\\_3 & 17390\\\\\n",
       "\t5 & 1786 &  997 &  941 &  308 &  260 & 143 & 116 &  74 &  42 &  0 & G\\_4 &  4667\\\\\n",
       "\t6 &  553 &  501 &  365 &  180 &   77 &  60 &  38 &  30 &  14 &  0 & G\\_5 &  1818\\\\\n",
       "\\end{tabular}\n"
      ],
      "text/markdown": [
       "\n",
       "A data.frame: 6 × 12\n",
       "\n",
       "| <!--/--> | 0 &lt;int&gt; | 1 &lt;int&gt; | 2 &lt;int&gt; | 3 &lt;int&gt; | 4 &lt;int&gt; | 5 &lt;int&gt; | 6 &lt;int&gt; | 7 &lt;int&gt; | 8 &lt;int&gt; | 9 &lt;int&gt; | KOGuide &lt;chr&gt; | noOfKOGroupCells &lt;int&gt; |\n",
       "|---|---|---|---|---|---|---|---|---|---|---|---|---|\n",
       "| 1 | 7482 | 5372 | 4348 | 2827 | 1349 | 648 | 576 | 362 | 261 | 14 | G_0 | 23239 |\n",
       "| 2 | 5220 | 3669 | 4040 | 2577 |  747 | 541 | 473 | 288 | 245 | 26 | G_1 | 17826 |\n",
       "| 3 | 4858 | 3992 | 3093 | 2498 |  987 | 526 | 416 | 220 | 233 | 18 | G_2 | 16841 |\n",
       "| 4 | 4967 | 4586 | 2855 | 3032 |  585 | 445 | 357 | 243 | 296 | 24 | G_3 | 17390 |\n",
       "| 5 | 1786 |  997 |  941 |  308 |  260 | 143 | 116 |  74 |  42 |  0 | G_4 |  4667 |\n",
       "| 6 |  553 |  501 |  365 |  180 |   77 |  60 |  38 |  30 |  14 |  0 | G_5 |  1818 |\n",
       "\n"
      ],
      "text/plain": [
       "  0    1    2    3    4    5   6   7   8   9  KOGuide noOfKOGroupCells\n",
       "1 7482 5372 4348 2827 1349 648 576 362 261 14 G_0     23239           \n",
       "2 5220 3669 4040 2577  747 541 473 288 245 26 G_1     17826           \n",
       "3 4858 3992 3093 2498  987 526 416 220 233 18 G_2     16841           \n",
       "4 4967 4586 2855 3032  585 445 357 243 296 24 G_3     17390           \n",
       "5 1786  997  941  308  260 143 116  74  42  0 G_4      4667           \n",
       "6  553  501  365  180   77  60  38  30  14  0 G_5      1818           "
      ]
     },
     "metadata": {},
     "output_type": "display_data"
    }
   ],
   "source": [
    "head(allGuidesPerSCT)"
   ]
  },
  {
   "cell_type": "code",
   "execution_count": 5,
   "id": "99d15d45-5e8a-492b-ade4-9e5cb3d2ef2e",
   "metadata": {},
   "outputs": [
    {
     "data": {
      "text/html": [
       "<style>\n",
       ".list-inline {list-style: none; margin:0; padding: 0}\n",
       ".list-inline>li {display: inline-block}\n",
       ".list-inline>li:not(:last-child)::after {content: \"\\00b7\"; padding: 0 .5ex}\n",
       "</style>\n",
       "<ol class=list-inline><li>'G_0'</li><li>'G_1'</li><li>'G_2'</li><li>'G_3'</li><li>'G_4'</li><li>'G_5'</li><li>'G_CONTROL'</li></ol>\n"
      ],
      "text/latex": [
       "\\begin{enumerate*}\n",
       "\\item 'G\\_0'\n",
       "\\item 'G\\_1'\n",
       "\\item 'G\\_2'\n",
       "\\item 'G\\_3'\n",
       "\\item 'G\\_4'\n",
       "\\item 'G\\_5'\n",
       "\\item 'G\\_CONTROL'\n",
       "\\end{enumerate*}\n"
      ],
      "text/markdown": [
       "1. 'G_0'\n",
       "2. 'G_1'\n",
       "3. 'G_2'\n",
       "4. 'G_3'\n",
       "5. 'G_4'\n",
       "6. 'G_5'\n",
       "7. 'G_CONTROL'\n",
       "\n",
       "\n"
      ],
      "text/plain": [
       "[1] \"G_0\"       \"G_1\"       \"G_2\"       \"G_3\"       \"G_4\"       \"G_5\"      \n",
       "[7] \"G_CONTROL\""
      ]
     },
     "metadata": {},
     "output_type": "display_data"
    }
   ],
   "source": [
    "allGuidesPerSCT$KOGuide"
   ]
  },
  {
   "cell_type": "code",
   "execution_count": 6,
   "id": "2a02f215-5afd-4cb0-a860-0a4f6313e43f",
   "metadata": {},
   "outputs": [],
   "source": [
    "KOGroupsPercs = as.data.frame((allGuidesPerSCT[,1:10]))\n",
    "KOGroupsPercs = KOGroupsPercs/rowSums(KOGroupsPercs)\n",
    "KOGroupsPercs$KOGroup = sapply(allGuidesPerSCT$KOGuide, function(x){str_replace_all(x, \"G_\", \"K\")})\n",
    "KOGroupsPercs$KOGroup[KOGroupsPercs$KOGroup==\"KCONTROL\"] = \"CONTROL\""
   ]
  },
  {
   "cell_type": "code",
   "execution_count": 7,
   "id": "74be04f7-7ff5-412b-9044-42cc49d13baf",
   "metadata": {},
   "outputs": [
    {
     "data": {
      "text/html": [
       "<table class=\"dataframe\">\n",
       "<caption>A data.frame: 6 × 11</caption>\n",
       "<thead>\n",
       "\t<tr><th></th><th scope=col>0</th><th scope=col>1</th><th scope=col>2</th><th scope=col>3</th><th scope=col>4</th><th scope=col>5</th><th scope=col>6</th><th scope=col>7</th><th scope=col>8</th><th scope=col>9</th><th scope=col>KOGroup</th></tr>\n",
       "\t<tr><th></th><th scope=col>&lt;dbl&gt;</th><th scope=col>&lt;dbl&gt;</th><th scope=col>&lt;dbl&gt;</th><th scope=col>&lt;dbl&gt;</th><th scope=col>&lt;dbl&gt;</th><th scope=col>&lt;dbl&gt;</th><th scope=col>&lt;dbl&gt;</th><th scope=col>&lt;dbl&gt;</th><th scope=col>&lt;dbl&gt;</th><th scope=col>&lt;dbl&gt;</th><th scope=col>&lt;chr&gt;</th></tr>\n",
       "</thead>\n",
       "<tbody>\n",
       "\t<tr><th scope=row>1</th><td>0.3219588</td><td>0.2311631</td><td>0.1870993</td><td>0.12164895</td><td>0.05804897</td><td>0.02788416</td><td>0.02478592</td><td>0.01557726</td><td>0.011231120</td><td>0.0006024356</td><td>K0</td></tr>\n",
       "\t<tr><th scope=row>2</th><td>0.2928307</td><td>0.2058230</td><td>0.2266353</td><td>0.14456412</td><td>0.04190508</td><td>0.03034893</td><td>0.02653428</td><td>0.01615618</td><td>0.013743969</td><td>0.0014585437</td><td>K1</td></tr>\n",
       "\t<tr><th scope=row>3</th><td>0.2884627</td><td>0.2370406</td><td>0.1836589</td><td>0.14832848</td><td>0.05860697</td><td>0.03123330</td><td>0.02470162</td><td>0.01306336</td><td>0.013835283</td><td>0.0010688201</td><td>K2</td></tr>\n",
       "\t<tr><th scope=row>4</th><td>0.2856239</td><td>0.2637148</td><td>0.1641748</td><td>0.17435308</td><td>0.03364002</td><td>0.02558942</td><td>0.02052904</td><td>0.01397355</td><td>0.017021277</td><td>0.0013801035</td><td>K3</td></tr>\n",
       "\t<tr><th scope=row>5</th><td>0.3826870</td><td>0.2136276</td><td>0.2016285</td><td>0.06599529</td><td>0.05571031</td><td>0.03064067</td><td>0.02485537</td><td>0.01585601</td><td>0.008999357</td><td>0.0000000000</td><td>K4</td></tr>\n",
       "\t<tr><th scope=row>6</th><td>0.3041804</td><td>0.2755776</td><td>0.2007701</td><td>0.09900990</td><td>0.04235424</td><td>0.03300330</td><td>0.02090209</td><td>0.01650165</td><td>0.007700770</td><td>0.0000000000</td><td>K5</td></tr>\n",
       "</tbody>\n",
       "</table>\n"
      ],
      "text/latex": [
       "A data.frame: 6 × 11\n",
       "\\begin{tabular}{r|lllllllllll}\n",
       "  & 0 & 1 & 2 & 3 & 4 & 5 & 6 & 7 & 8 & 9 & KOGroup\\\\\n",
       "  & <dbl> & <dbl> & <dbl> & <dbl> & <dbl> & <dbl> & <dbl> & <dbl> & <dbl> & <dbl> & <chr>\\\\\n",
       "\\hline\n",
       "\t1 & 0.3219588 & 0.2311631 & 0.1870993 & 0.12164895 & 0.05804897 & 0.02788416 & 0.02478592 & 0.01557726 & 0.011231120 & 0.0006024356 & K0\\\\\n",
       "\t2 & 0.2928307 & 0.2058230 & 0.2266353 & 0.14456412 & 0.04190508 & 0.03034893 & 0.02653428 & 0.01615618 & 0.013743969 & 0.0014585437 & K1\\\\\n",
       "\t3 & 0.2884627 & 0.2370406 & 0.1836589 & 0.14832848 & 0.05860697 & 0.03123330 & 0.02470162 & 0.01306336 & 0.013835283 & 0.0010688201 & K2\\\\\n",
       "\t4 & 0.2856239 & 0.2637148 & 0.1641748 & 0.17435308 & 0.03364002 & 0.02558942 & 0.02052904 & 0.01397355 & 0.017021277 & 0.0013801035 & K3\\\\\n",
       "\t5 & 0.3826870 & 0.2136276 & 0.2016285 & 0.06599529 & 0.05571031 & 0.03064067 & 0.02485537 & 0.01585601 & 0.008999357 & 0.0000000000 & K4\\\\\n",
       "\t6 & 0.3041804 & 0.2755776 & 0.2007701 & 0.09900990 & 0.04235424 & 0.03300330 & 0.02090209 & 0.01650165 & 0.007700770 & 0.0000000000 & K5\\\\\n",
       "\\end{tabular}\n"
      ],
      "text/markdown": [
       "\n",
       "A data.frame: 6 × 11\n",
       "\n",
       "| <!--/--> | 0 &lt;dbl&gt; | 1 &lt;dbl&gt; | 2 &lt;dbl&gt; | 3 &lt;dbl&gt; | 4 &lt;dbl&gt; | 5 &lt;dbl&gt; | 6 &lt;dbl&gt; | 7 &lt;dbl&gt; | 8 &lt;dbl&gt; | 9 &lt;dbl&gt; | KOGroup &lt;chr&gt; |\n",
       "|---|---|---|---|---|---|---|---|---|---|---|---|\n",
       "| 1 | 0.3219588 | 0.2311631 | 0.1870993 | 0.12164895 | 0.05804897 | 0.02788416 | 0.02478592 | 0.01557726 | 0.011231120 | 0.0006024356 | K0 |\n",
       "| 2 | 0.2928307 | 0.2058230 | 0.2266353 | 0.14456412 | 0.04190508 | 0.03034893 | 0.02653428 | 0.01615618 | 0.013743969 | 0.0014585437 | K1 |\n",
       "| 3 | 0.2884627 | 0.2370406 | 0.1836589 | 0.14832848 | 0.05860697 | 0.03123330 | 0.02470162 | 0.01306336 | 0.013835283 | 0.0010688201 | K2 |\n",
       "| 4 | 0.2856239 | 0.2637148 | 0.1641748 | 0.17435308 | 0.03364002 | 0.02558942 | 0.02052904 | 0.01397355 | 0.017021277 | 0.0013801035 | K3 |\n",
       "| 5 | 0.3826870 | 0.2136276 | 0.2016285 | 0.06599529 | 0.05571031 | 0.03064067 | 0.02485537 | 0.01585601 | 0.008999357 | 0.0000000000 | K4 |\n",
       "| 6 | 0.3041804 | 0.2755776 | 0.2007701 | 0.09900990 | 0.04235424 | 0.03300330 | 0.02090209 | 0.01650165 | 0.007700770 | 0.0000000000 | K5 |\n",
       "\n"
      ],
      "text/plain": [
       "  0         1         2         3          4          5          6         \n",
       "1 0.3219588 0.2311631 0.1870993 0.12164895 0.05804897 0.02788416 0.02478592\n",
       "2 0.2928307 0.2058230 0.2266353 0.14456412 0.04190508 0.03034893 0.02653428\n",
       "3 0.2884627 0.2370406 0.1836589 0.14832848 0.05860697 0.03123330 0.02470162\n",
       "4 0.2856239 0.2637148 0.1641748 0.17435308 0.03364002 0.02558942 0.02052904\n",
       "5 0.3826870 0.2136276 0.2016285 0.06599529 0.05571031 0.03064067 0.02485537\n",
       "6 0.3041804 0.2755776 0.2007701 0.09900990 0.04235424 0.03300330 0.02090209\n",
       "  7          8           9            KOGroup\n",
       "1 0.01557726 0.011231120 0.0006024356 K0     \n",
       "2 0.01615618 0.013743969 0.0014585437 K1     \n",
       "3 0.01306336 0.013835283 0.0010688201 K2     \n",
       "4 0.01397355 0.017021277 0.0013801035 K3     \n",
       "5 0.01585601 0.008999357 0.0000000000 K4     \n",
       "6 0.01650165 0.007700770 0.0000000000 K5     "
      ]
     },
     "metadata": {},
     "output_type": "display_data"
    }
   ],
   "source": [
    "head(KOGroupsPercs)"
   ]
  },
  {
   "cell_type": "code",
   "execution_count": 8,
   "id": "0b2b9538-becf-4ea8-8fdf-2ace01822dc8",
   "metadata": {},
   "outputs": [
    {
     "data": {
      "text/html": [
       "<strong>png:</strong> 2"
      ],
      "text/latex": [
       "\\textbf{png:} 2"
      ],
      "text/markdown": [
       "**png:** 2"
      ],
      "text/plain": [
       "png \n",
       "  2 "
      ]
     },
     "metadata": {},
     "output_type": "display_data"
    }
   ],
   "source": [
    "options(repr.plot.width=8, repr.plot.height=6)\n",
    "\n",
    "KOGroupsPercsMelted = melt(KOGroupsPercs, id.vars=\"KOGroup\")\n",
    "KOGroupsPercsMelted$variable = paste0(\"TC \",KOGroupsPercsMelted$variable)\n",
    "\n",
    "\n",
    "KOGroupsPercs$KOGroup = factor(KOGroupsPercs$KOGroup)\n",
    "\n",
    "pdf(\"./../SupplementaryFigures/S_4D.pdf\", width=8, height=6)\n",
    "ggplot(data=KOGroupsPercsMelted, aes(x=KOGroup, y=value, fill=variable)) + theme_minimal()+\n",
    "  geom_bar(stat=\"identity\")+\n",
    "scale_fill_manual(name = \"Transcription Cluster\", values=c('#1f77b4', '#ff7f0e', '#279e68', '#d62728', '#aa40fc', \n",
    "                                                       '#8c564b','#e377c2', '#b5bd61', '#17becf', '#aec7e8' ))+\n",
    "ylab(\"Percent of cells\") + xlab(\"KO group\") +\n",
    "theme(axis.text = element_text(size=15), axis.title = element_text(size=15), \n",
    "      legend.text=element_text(size=15), legend.title=element_text(size=18), legend.pos=\"top\")\n",
    "\n",
    "dev.off()"
   ]
  },
  {
   "cell_type": "code",
   "execution_count": 9,
   "id": "d0f7741d-c88c-4a1c-8c06-a0ea442688cd",
   "metadata": {},
   "outputs": [
    {
     "data": {
      "text/html": [
       "<table class=\"dataframe\">\n",
       "<caption>A data.frame: 10 × 7</caption>\n",
       "<thead>\n",
       "\t<tr><th></th><th scope=col>V1</th><th scope=col>V2</th><th scope=col>V3</th><th scope=col>V4</th><th scope=col>V5</th><th scope=col>V6</th><th scope=col>V7</th></tr>\n",
       "\t<tr><th></th><th scope=col>&lt;int&gt;</th><th scope=col>&lt;int&gt;</th><th scope=col>&lt;int&gt;</th><th scope=col>&lt;int&gt;</th><th scope=col>&lt;int&gt;</th><th scope=col>&lt;int&gt;</th><th scope=col>&lt;int&gt;</th></tr>\n",
       "</thead>\n",
       "<tbody>\n",
       "\t<tr><th scope=row>0</th><td>7482</td><td>5220</td><td>4858</td><td>4967</td><td>1786</td><td>553</td><td>12120</td></tr>\n",
       "\t<tr><th scope=row>1</th><td>5372</td><td>3669</td><td>3992</td><td>4586</td><td> 997</td><td>501</td><td> 9730</td></tr>\n",
       "\t<tr><th scope=row>2</th><td>4348</td><td>4040</td><td>3093</td><td>2855</td><td> 941</td><td>365</td><td> 7980</td></tr>\n",
       "\t<tr><th scope=row>3</th><td>2827</td><td>2577</td><td>2498</td><td>3032</td><td> 308</td><td>180</td><td> 6149</td></tr>\n",
       "\t<tr><th scope=row>4</th><td>1349</td><td> 747</td><td> 987</td><td> 585</td><td> 260</td><td> 77</td><td> 1603</td></tr>\n",
       "\t<tr><th scope=row>5</th><td> 648</td><td> 541</td><td> 526</td><td> 445</td><td> 143</td><td> 60</td><td> 1259</td></tr>\n",
       "\t<tr><th scope=row>6</th><td> 576</td><td> 473</td><td> 416</td><td> 357</td><td> 116</td><td> 38</td><td>  954</td></tr>\n",
       "\t<tr><th scope=row>7</th><td> 362</td><td> 288</td><td> 220</td><td> 243</td><td>  74</td><td> 30</td><td>  701</td></tr>\n",
       "\t<tr><th scope=row>8</th><td> 261</td><td> 245</td><td> 233</td><td> 296</td><td>  42</td><td> 14</td><td>  584</td></tr>\n",
       "\t<tr><th scope=row>9</th><td>  14</td><td>  26</td><td>  18</td><td>  24</td><td>   0</td><td>  0</td><td>   43</td></tr>\n",
       "</tbody>\n",
       "</table>\n"
      ],
      "text/latex": [
       "A data.frame: 10 × 7\n",
       "\\begin{tabular}{r|lllllll}\n",
       "  & V1 & V2 & V3 & V4 & V5 & V6 & V7\\\\\n",
       "  & <int> & <int> & <int> & <int> & <int> & <int> & <int>\\\\\n",
       "\\hline\n",
       "\t0 & 7482 & 5220 & 4858 & 4967 & 1786 & 553 & 12120\\\\\n",
       "\t1 & 5372 & 3669 & 3992 & 4586 &  997 & 501 &  9730\\\\\n",
       "\t2 & 4348 & 4040 & 3093 & 2855 &  941 & 365 &  7980\\\\\n",
       "\t3 & 2827 & 2577 & 2498 & 3032 &  308 & 180 &  6149\\\\\n",
       "\t4 & 1349 &  747 &  987 &  585 &  260 &  77 &  1603\\\\\n",
       "\t5 &  648 &  541 &  526 &  445 &  143 &  60 &  1259\\\\\n",
       "\t6 &  576 &  473 &  416 &  357 &  116 &  38 &   954\\\\\n",
       "\t7 &  362 &  288 &  220 &  243 &   74 &  30 &   701\\\\\n",
       "\t8 &  261 &  245 &  233 &  296 &   42 &  14 &   584\\\\\n",
       "\t9 &   14 &   26 &   18 &   24 &    0 &   0 &    43\\\\\n",
       "\\end{tabular}\n"
      ],
      "text/markdown": [
       "\n",
       "A data.frame: 10 × 7\n",
       "\n",
       "| <!--/--> | V1 &lt;int&gt; | V2 &lt;int&gt; | V3 &lt;int&gt; | V4 &lt;int&gt; | V5 &lt;int&gt; | V6 &lt;int&gt; | V7 &lt;int&gt; |\n",
       "|---|---|---|---|---|---|---|---|\n",
       "| 0 | 7482 | 5220 | 4858 | 4967 | 1786 | 553 | 12120 |\n",
       "| 1 | 5372 | 3669 | 3992 | 4586 |  997 | 501 |  9730 |\n",
       "| 2 | 4348 | 4040 | 3093 | 2855 |  941 | 365 |  7980 |\n",
       "| 3 | 2827 | 2577 | 2498 | 3032 |  308 | 180 |  6149 |\n",
       "| 4 | 1349 |  747 |  987 |  585 |  260 |  77 |  1603 |\n",
       "| 5 |  648 |  541 |  526 |  445 |  143 |  60 |  1259 |\n",
       "| 6 |  576 |  473 |  416 |  357 |  116 |  38 |   954 |\n",
       "| 7 |  362 |  288 |  220 |  243 |   74 |  30 |   701 |\n",
       "| 8 |  261 |  245 |  233 |  296 |   42 |  14 |   584 |\n",
       "| 9 |   14 |   26 |   18 |   24 |    0 |   0 |    43 |\n",
       "\n"
      ],
      "text/plain": [
       "  V1   V2   V3   V4   V5   V6  V7   \n",
       "0 7482 5220 4858 4967 1786 553 12120\n",
       "1 5372 3669 3992 4586  997 501  9730\n",
       "2 4348 4040 3093 2855  941 365  7980\n",
       "3 2827 2577 2498 3032  308 180  6149\n",
       "4 1349  747  987  585  260  77  1603\n",
       "5  648  541  526  445  143  60  1259\n",
       "6  576  473  416  357  116  38   954\n",
       "7  362  288  220  243   74  30   701\n",
       "8  261  245  233  296   42  14   584\n",
       "9   14   26   18   24    0   0    43"
      ]
     },
     "metadata": {},
     "output_type": "display_data"
    }
   ],
   "source": [
    "TCPercs = as.data.frame(t(allGuidesPerSCT[,1:10]))\n",
    "TCPercs"
   ]
  },
  {
   "cell_type": "code",
   "execution_count": 10,
   "id": "e25eb929-06f3-4e25-bfb4-5263e9f7024d",
   "metadata": {},
   "outputs": [],
   "source": [
    "TCPercs = as.data.frame(t(allGuidesPerSCT[,1:10]))\n",
    "colnames(TCPercs) = c(\"K0\",\"K1\",\"K2\",\"K3\",\"K4\",\"K5\",\"CONTROL\")\n",
    "TCPercs = TCPercs/rowSums(TCPercs)\n",
    "TCPercs$TC = paste0(\"TC \", rownames(TCPercs))\n",
    "TCPercsMelted = melt(TCPercs, id.vars=\"TC\")"
   ]
  },
  {
   "cell_type": "code",
   "execution_count": 11,
   "id": "d0106da6-80d3-4db2-a99c-250d0c72697f",
   "metadata": {},
   "outputs": [
    {
     "data": {
      "text/html": [
       "<strong>png:</strong> 2"
      ],
      "text/latex": [
       "\\textbf{png:} 2"
      ],
      "text/markdown": [
       "**png:** 2"
      ],
      "text/plain": [
       "png \n",
       "  2 "
      ]
     },
     "metadata": {},
     "output_type": "display_data"
    }
   ],
   "source": [
    "options(repr.plot.width=8, repr.plot.height=6)\n",
    "\n",
    "TCPercsMelted$TC = factor(TCPercsMelted$TC)\n",
    "\n",
    "pdf(\"./../SupplementaryFigures/S_4E.pdf\", width=8, height=6)\n",
    "ggplot(data=TCPercsMelted, aes(x=TC, y=value, fill=variable)) + theme_minimal()+\n",
    "  geom_bar(stat=\"identity\")+\n",
    " scale_fill_brewer(name = \"KO group\", palette=\"Dark2\")+\n",
    "ylab(\"Percent of cells\") + xlab(\"Transcription Cluster\") +\n",
    "theme(axis.text = element_text(size=15), axis.title = element_text(size=15), \n",
    "      legend.text=element_text(size=15), legend.title=element_text(size=18), legend.pos=\"top\")\n",
    "\n",
    "dev.off()"
   ]
  },
  {
   "cell_type": "code",
   "execution_count": 7,
   "id": "1df236cb-5e42-4165-8d95-3d416ff3ddb9",
   "metadata": {},
   "outputs": [],
   "source": [
    "# lappend <- function(lst, obj) {\n",
    "#   lst[[length(lst)+1]] <- obj\n",
    "#   return(lst)\n",
    "# }\n",
    "\n",
    "\n",
    "# allGuidesPerSCT$KOGuide <- as.character(allGuidesPerSCT$KOGuide)\n",
    "# rownames(allGuidesPerSCT) <- allGuidesPerSCT$KOGuide\n",
    "\n",
    "# for(i in 0:9){\n",
    "#     allGuidesPerSCT[paste0(\"Leiden\",i,\"_pval_greater\")] = -1\n",
    "#     allGuidesPerSCT[paste0(\"Leiden\",i,\"_estimate_greater\")] = -1\n",
    "#     allGuidesPerSCT[paste0(\"Leiden\",i,\"_pval_less\")] = -1\n",
    "#     allGuidesPerSCT[paste0(\"Leiden\",i,\"_estimate_less\")] = -1\n",
    "    \n",
    "# }\n",
    "\n",
    "# totalCountsPerSCT <- data.frame(leiden = c(\"0\", \"1\", \"2\", \"3\", \"4\", \"5\", \"6\", \"7\", \"8\", \"9\"),\n",
    "#                                 cellCounts = colSums(allGuidesPerSCT[,c(\"0\", \"1\", \"2\", \"3\", \"4\", \"5\", \"6\", \"7\", \"8\", \"9\")]))\n",
    "# rownames(totalCountsPerSCT) = totalCountsPerSCT$leiden\n",
    "# totalNoOfCells = sum(totalCountsPerSCT$cellCounts)\n",
    "\n",
    "\n",
    "# depletedGuides <- list()\n",
    "\n",
    "# for (elem in as.character(unique(allGuidesPerSCT$KOGuide))){\n",
    "    \n",
    "    \n",
    "#     if(allGuidesPerSCT[elem, \"noOfKOGroupCells\"] == 0){\n",
    "#         depletedGuides <- lappend(depletedGuides, elem)\n",
    "#     }else{\n",
    "        \n",
    "#         for(leiden in c(\"0\", \"1\", \"2\", \"3\", \"4\", \"5\", \"6\", \"7\", \"8\", \"9\")){\n",
    "#            myDF = data.frame(clusterNo = c(allGuidesPerSCT[elem, leiden], allGuidesPerSCT[elem, \"noOfKOGroupCells\"] - allGuidesPerSCT[elem, leiden]),\n",
    "#                   restNo = c(totalCountsPerSCT[leiden,\"cellCounts\"], totalNoOfCells - totalCountsPerSCT[leiden,\"cellCounts\"]))\n",
    "        \n",
    "           \n",
    "#            testRes_g <- fisher.test(x= myDF, alternative = \"greater\")\n",
    "#            allGuidesPerSCT[elem, paste0(\"Leiden\",leiden,\"_pval_greater\")] = testRes_g$p.value\n",
    "#            allGuidesPerSCT[elem, paste0(\"Leiden\",leiden,\"_estimate_greater\")] = testRes_g$estimate\n",
    "                        \n",
    "#            testRes_l <- fisher.test(x= myDF, alternative = \"less\")\n",
    "#            allGuidesPerSCT[elem, paste0(\"Leiden\",leiden,\"_pval_less\")] = testRes_l$p.value\n",
    "#            allGuidesPerSCT[elem, paste0(\"Leiden\",leiden,\"_estimate_less\")] = testRes_l$estimate\n",
    "                        \n",
    "#         }\n",
    "        \n",
    "#     }  \n",
    "# }\n",
    "\n",
    "\n",
    "# for(i in 0:9){\n",
    "#     allGuidesPerSCT[paste0(\"Leiden\",i,\"_FDR_greater\")] <- p.adjust(allGuidesPerSCT[,paste0(\"Leiden\",i,\"_pval_greater\")])\n",
    "#     allGuidesPerSCT[paste0(\"Leiden\",i,\"_FDR_less\")] <- p.adjust(allGuidesPerSCT[,paste0(\"Leiden\",i,\"_pval_less\")])  \n",
    "# }\n",
    "\n",
    "\n",
    "# saveRDS(allGuidesPerSCT, \"/home/beraslan/jovian-work/analysisSingle/outputs/RDSFiles/KOGroupsPerLeiden_withTests.rds\")\n"
   ]
  },
  {
   "cell_type": "code",
   "execution_count": 14,
   "id": "89adcdda-c3b6-4607-a332-30755c5740f6",
   "metadata": {},
   "outputs": [
    {
     "data": {
      "text/html": [
       "<table class=\"dataframe\">\n",
       "<caption>A data.frame: 1 × 21</caption>\n",
       "<thead>\n",
       "\t<tr><th></th><th scope=col>Leiden0_FDR_greater</th><th scope=col>Leiden1_FDR_greater</th><th scope=col>Leiden2_FDR_greater</th><th scope=col>Leiden3_FDR_greater</th><th scope=col>Leiden4_FDR_greater</th><th scope=col>Leiden5_FDR_greater</th><th scope=col>Leiden6_FDR_greater</th><th scope=col>Leiden7_FDR_greater</th><th scope=col>Leiden8_FDR_greater</th><th scope=col>Leiden9_FDR_greater</th><th scope=col>⋯</th><th scope=col>Leiden1_FDR_less</th><th scope=col>Leiden2_FDR_less</th><th scope=col>Leiden3_FDR_less</th><th scope=col>Leiden4_FDR_less</th><th scope=col>Leiden5_FDR_less</th><th scope=col>Leiden6_FDR_less</th><th scope=col>Leiden7_FDR_less</th><th scope=col>Leiden8_FDR_less</th><th scope=col>Leiden9_FDR_less</th><th scope=col>KOGuide</th></tr>\n",
       "\t<tr><th></th><th scope=col>&lt;dbl&gt;</th><th scope=col>&lt;dbl&gt;</th><th scope=col>&lt;dbl&gt;</th><th scope=col>&lt;dbl&gt;</th><th scope=col>&lt;dbl&gt;</th><th scope=col>&lt;dbl&gt;</th><th scope=col>&lt;dbl&gt;</th><th scope=col>&lt;dbl&gt;</th><th scope=col>&lt;dbl&gt;</th><th scope=col>&lt;dbl&gt;</th><th scope=col>⋯</th><th scope=col>&lt;dbl&gt;</th><th scope=col>&lt;dbl&gt;</th><th scope=col>&lt;dbl&gt;</th><th scope=col>&lt;dbl&gt;</th><th scope=col>&lt;dbl&gt;</th><th scope=col>&lt;dbl&gt;</th><th scope=col>&lt;dbl&gt;</th><th scope=col>&lt;dbl&gt;</th><th scope=col>&lt;dbl&gt;</th><th scope=col>&lt;chr&gt;</th></tr>\n",
       "</thead>\n",
       "<tbody>\n",
       "\t<tr><th scope=row>G_CONTROL</th><td>1</td><td>1</td><td>0.9312808</td><td>0.003368375</td><td>1</td><td>0.7560398</td><td>1</td><td>0.1652327</td><td>1</td><td>1</td><td>⋯</td><td>1</td><td>1</td><td>1</td><td>2.696294e-08</td><td>1</td><td>1</td><td>1</td><td>1</td><td>1</td><td>G_CONTROL</td></tr>\n",
       "</tbody>\n",
       "</table>\n"
      ],
      "text/latex": [
       "A data.frame: 1 × 21\n",
       "\\begin{tabular}{r|lllllllllllllllllllll}\n",
       "  & Leiden0\\_FDR\\_greater & Leiden1\\_FDR\\_greater & Leiden2\\_FDR\\_greater & Leiden3\\_FDR\\_greater & Leiden4\\_FDR\\_greater & Leiden5\\_FDR\\_greater & Leiden6\\_FDR\\_greater & Leiden7\\_FDR\\_greater & Leiden8\\_FDR\\_greater & Leiden9\\_FDR\\_greater & ⋯ & Leiden1\\_FDR\\_less & Leiden2\\_FDR\\_less & Leiden3\\_FDR\\_less & Leiden4\\_FDR\\_less & Leiden5\\_FDR\\_less & Leiden6\\_FDR\\_less & Leiden7\\_FDR\\_less & Leiden8\\_FDR\\_less & Leiden9\\_FDR\\_less & KOGuide\\\\\n",
       "  & <dbl> & <dbl> & <dbl> & <dbl> & <dbl> & <dbl> & <dbl> & <dbl> & <dbl> & <dbl> & ⋯ & <dbl> & <dbl> & <dbl> & <dbl> & <dbl> & <dbl> & <dbl> & <dbl> & <dbl> & <chr>\\\\\n",
       "\\hline\n",
       "\tG\\_CONTROL & 1 & 1 & 0.9312808 & 0.003368375 & 1 & 0.7560398 & 1 & 0.1652327 & 1 & 1 & ⋯ & 1 & 1 & 1 & 2.696294e-08 & 1 & 1 & 1 & 1 & 1 & G\\_CONTROL\\\\\n",
       "\\end{tabular}\n"
      ],
      "text/markdown": [
       "\n",
       "A data.frame: 1 × 21\n",
       "\n",
       "| <!--/--> | Leiden0_FDR_greater &lt;dbl&gt; | Leiden1_FDR_greater &lt;dbl&gt; | Leiden2_FDR_greater &lt;dbl&gt; | Leiden3_FDR_greater &lt;dbl&gt; | Leiden4_FDR_greater &lt;dbl&gt; | Leiden5_FDR_greater &lt;dbl&gt; | Leiden6_FDR_greater &lt;dbl&gt; | Leiden7_FDR_greater &lt;dbl&gt; | Leiden8_FDR_greater &lt;dbl&gt; | Leiden9_FDR_greater &lt;dbl&gt; | ⋯ ⋯ | Leiden1_FDR_less &lt;dbl&gt; | Leiden2_FDR_less &lt;dbl&gt; | Leiden3_FDR_less &lt;dbl&gt; | Leiden4_FDR_less &lt;dbl&gt; | Leiden5_FDR_less &lt;dbl&gt; | Leiden6_FDR_less &lt;dbl&gt; | Leiden7_FDR_less &lt;dbl&gt; | Leiden8_FDR_less &lt;dbl&gt; | Leiden9_FDR_less &lt;dbl&gt; | KOGuide &lt;chr&gt; |\n",
       "|---|---|---|---|---|---|---|---|---|---|---|---|---|---|---|---|---|---|---|---|---|---|\n",
       "| G_CONTROL | 1 | 1 | 0.9312808 | 0.003368375 | 1 | 0.7560398 | 1 | 0.1652327 | 1 | 1 | ⋯ | 1 | 1 | 1 | 2.696294e-08 | 1 | 1 | 1 | 1 | 1 | G_CONTROL |\n",
       "\n"
      ],
      "text/plain": [
       "          Leiden0_FDR_greater Leiden1_FDR_greater Leiden2_FDR_greater\n",
       "G_CONTROL 1                   1                   0.9312808          \n",
       "          Leiden3_FDR_greater Leiden4_FDR_greater Leiden5_FDR_greater\n",
       "G_CONTROL 0.003368375         1                   0.7560398          \n",
       "          Leiden6_FDR_greater Leiden7_FDR_greater Leiden8_FDR_greater\n",
       "G_CONTROL 1                   0.1652327           1                  \n",
       "          Leiden9_FDR_greater ⋯ Leiden1_FDR_less Leiden2_FDR_less\n",
       "G_CONTROL 1                   ⋯ 1                1               \n",
       "          Leiden3_FDR_less Leiden4_FDR_less Leiden5_FDR_less Leiden6_FDR_less\n",
       "G_CONTROL 1                2.696294e-08     1                1               \n",
       "          Leiden7_FDR_less Leiden8_FDR_less Leiden9_FDR_less KOGuide  \n",
       "G_CONTROL 1                1                1                G_CONTROL"
      ]
     },
     "metadata": {},
     "output_type": "display_data"
    }
   ],
   "source": [
    "options(repr.plot.width=6, repr.plot.height=6)\n",
    "\n",
    "allGuidesPerSCT <- readRDS(\"./../outputs/RDSFiles/KOGroupsPerLeiden_withTests.rds\")\n",
    "\n",
    "allGuidesPerSCT_FDRs <- allGuidesPerSCT[,c(paste0(\"Leiden\",0:9,\"_FDR_greater\"), paste0(\"Leiden\",0:9,\"_FDR_less\"), \"KOGuide\")]\n",
    "\n",
    "allGuidesPerSCT_FDRs[\"G_CONTROL\",]\n",
    "allGuidesPerSCT_FDRs_melted <- melt(allGuidesPerSCT_FDRs, id.vars=\"KOGuide\")\n",
    "allGuidesPerSCT_FDRs_melted <- allGuidesPerSCT_FDRs_melted[allGuidesPerSCT_FDRs_melted$value < 0.1,]\n",
    "\n",
    "\n",
    "allGuidesPerSCT_FDRs_melted$celltype <- sapply(allGuidesPerSCT_FDRs_melted$variable,\n",
    "                                               function(x){strsplit(as.character(x),\"_\")[[1]][1]})\n",
    "allGuidesPerSCT_FDRs_melted$testType <- sapply(allGuidesPerSCT_FDRs_melted$variable,\n",
    "                                               function(x){strsplit(as.character(x),\"_\")[[1]][3]})\n",
    "\n",
    "allGuidesPerSCT_FDRs_melted$oddRatio = 1\n",
    "\n",
    "for(i in 1:nrow(allGuidesPerSCT_FDRs_melted)){\n",
    "    \n",
    "        \n",
    "    allGuidesPerSCT_FDRs_melted[i,\"oddRatio\"] = allGuidesPerSCT[allGuidesPerSCT_FDRs_melted[i,\"KOGuide\"], \n",
    "                                                                paste0(allGuidesPerSCT_FDRs_melted[i,\"celltype\"], \"_estimate_\", \n",
    "                                                                       allGuidesPerSCT_FDRs_melted[i,\"testType\"])]\n",
    "    \n",
    "}   \n",
    "\n",
    "\n",
    "kk <- data.frame(matrix(1.0, nrow= 10, ncol=length(unique(allGuidesPerSCT_FDRs_melted$KOGuide))))\n",
    "colnames(kk) = unique(allGuidesPerSCT_FDRs_melted$KOGuide)\n",
    "rownames(kk) = paste0(\"Leiden\",c(\"0\", \"1\", \"2\", \"3\", \"4\", \"5\", \"6\", \"7\", \"8\", \"9\"))\n",
    "\n",
    "\n",
    "\n",
    "\n",
    "for(i in 1:nrow(allGuidesPerSCT_FDRs_melted)){\n",
    "        kk[allGuidesPerSCT_FDRs_melted[i, \"celltype\"],  allGuidesPerSCT_FDRs_melted[i, \"KOGuide\"]] = allGuidesPerSCT_FDRs_melted[i, \"oddRatio\"]\n",
    "}\n",
    "\n",
    "\n",
    "rownames(kk) = sapply(rownames(kk), function(x){str_replace_all(x, \"Leiden\", \"TC \")})\n",
    "colnames(kk) = sapply(colnames(kk), function(x){str_replace_all(x, \"G_\", \"K\")})\n",
    "\n",
    "colnames(kk)[colnames(kk) == \"KCONTROL\"] = \"CONTROL\"\n",
    "\n",
    "kk[kk < 0.6] = 0.6\n",
    "kk[kk > 1.4] = 1.4\n",
    "\n"
   ]
  },
  {
   "cell_type": "code",
   "execution_count": 15,
   "id": "9d4317a5-ee7f-49d9-8b72-8df62dfbe38e",
   "metadata": {},
   "outputs": [
    {
     "data": {
      "text/html": [
       "<table class=\"dataframe\">\n",
       "<caption>A data.frame: 6 × 7</caption>\n",
       "<thead>\n",
       "\t<tr><th></th><th scope=col>K0</th><th scope=col>K4</th><th scope=col>K3</th><th scope=col>K5</th><th scope=col>K1</th><th scope=col>CONTROL</th><th scope=col>K2</th></tr>\n",
       "\t<tr><th></th><th scope=col>&lt;dbl&gt;</th><th scope=col>&lt;dbl&gt;</th><th scope=col>&lt;dbl&gt;</th><th scope=col>&lt;dbl&gt;</th><th scope=col>&lt;dbl&gt;</th><th scope=col>&lt;dbl&gt;</th><th scope=col>&lt;dbl&gt;</th></tr>\n",
       "</thead>\n",
       "<tbody>\n",
       "\t<tr><th scope=row>TC 0</th><td>1.1030343</td><td>1.4000000</td><td>0.9287780</td><td>1.0000000</td><td>0.9619207</td><td>0.9707456</td><td>0.9417531</td></tr>\n",
       "\t<tr><th scope=row>TC 1</th><td>1.0000000</td><td>0.8857692</td><td>1.1677981</td><td>1.2403479</td><td>0.8450288</td><td>1.0000000</td><td>1.0000000</td></tr>\n",
       "\t<tr><th scope=row>TC 2</th><td>1.0000000</td><td>1.0000000</td><td>0.8255596</td><td>1.0000000</td><td>1.2316822</td><td>1.0000000</td><td>0.9455839</td></tr>\n",
       "\t<tr><th scope=row>TC 3</th><td>0.8302538</td><td>0.6000000</td><td>1.2659085</td><td>0.6587622</td><td>1.0000000</td><td>1.0539658</td><td>1.0000000</td></tr>\n",
       "\t<tr><th scope=row>TC 4</th><td>1.2889626</td><td>1.2339690</td><td>0.7281049</td><td>1.0000000</td><td>0.9147925</td><td>0.8483876</td><td>1.3021232</td></tr>\n",
       "\t<tr><th scope=row>TC 5</th><td>1.0000000</td><td>1.0000000</td><td>0.8648791</td><td>1.0000000</td><td>1.0000000</td><td>1.0000000</td><td>1.0000000</td></tr>\n",
       "</tbody>\n",
       "</table>\n"
      ],
      "text/latex": [
       "A data.frame: 6 × 7\n",
       "\\begin{tabular}{r|lllllll}\n",
       "  & K0 & K4 & K3 & K5 & K1 & CONTROL & K2\\\\\n",
       "  & <dbl> & <dbl> & <dbl> & <dbl> & <dbl> & <dbl> & <dbl>\\\\\n",
       "\\hline\n",
       "\tTC 0 & 1.1030343 & 1.4000000 & 0.9287780 & 1.0000000 & 0.9619207 & 0.9707456 & 0.9417531\\\\\n",
       "\tTC 1 & 1.0000000 & 0.8857692 & 1.1677981 & 1.2403479 & 0.8450288 & 1.0000000 & 1.0000000\\\\\n",
       "\tTC 2 & 1.0000000 & 1.0000000 & 0.8255596 & 1.0000000 & 1.2316822 & 1.0000000 & 0.9455839\\\\\n",
       "\tTC 3 & 0.8302538 & 0.6000000 & 1.2659085 & 0.6587622 & 1.0000000 & 1.0539658 & 1.0000000\\\\\n",
       "\tTC 4 & 1.2889626 & 1.2339690 & 0.7281049 & 1.0000000 & 0.9147925 & 0.8483876 & 1.3021232\\\\\n",
       "\tTC 5 & 1.0000000 & 1.0000000 & 0.8648791 & 1.0000000 & 1.0000000 & 1.0000000 & 1.0000000\\\\\n",
       "\\end{tabular}\n"
      ],
      "text/markdown": [
       "\n",
       "A data.frame: 6 × 7\n",
       "\n",
       "| <!--/--> | K0 &lt;dbl&gt; | K4 &lt;dbl&gt; | K3 &lt;dbl&gt; | K5 &lt;dbl&gt; | K1 &lt;dbl&gt; | CONTROL &lt;dbl&gt; | K2 &lt;dbl&gt; |\n",
       "|---|---|---|---|---|---|---|---|\n",
       "| TC 0 | 1.1030343 | 1.4000000 | 0.9287780 | 1.0000000 | 0.9619207 | 0.9707456 | 0.9417531 |\n",
       "| TC 1 | 1.0000000 | 0.8857692 | 1.1677981 | 1.2403479 | 0.8450288 | 1.0000000 | 1.0000000 |\n",
       "| TC 2 | 1.0000000 | 1.0000000 | 0.8255596 | 1.0000000 | 1.2316822 | 1.0000000 | 0.9455839 |\n",
       "| TC 3 | 0.8302538 | 0.6000000 | 1.2659085 | 0.6587622 | 1.0000000 | 1.0539658 | 1.0000000 |\n",
       "| TC 4 | 1.2889626 | 1.2339690 | 0.7281049 | 1.0000000 | 0.9147925 | 0.8483876 | 1.3021232 |\n",
       "| TC 5 | 1.0000000 | 1.0000000 | 0.8648791 | 1.0000000 | 1.0000000 | 1.0000000 | 1.0000000 |\n",
       "\n"
      ],
      "text/plain": [
       "     K0        K4        K3        K5        K1        CONTROL   K2       \n",
       "TC 0 1.1030343 1.4000000 0.9287780 1.0000000 0.9619207 0.9707456 0.9417531\n",
       "TC 1 1.0000000 0.8857692 1.1677981 1.2403479 0.8450288 1.0000000 1.0000000\n",
       "TC 2 1.0000000 1.0000000 0.8255596 1.0000000 1.2316822 1.0000000 0.9455839\n",
       "TC 3 0.8302538 0.6000000 1.2659085 0.6587622 1.0000000 1.0539658 1.0000000\n",
       "TC 4 1.2889626 1.2339690 0.7281049 1.0000000 0.9147925 0.8483876 1.3021232\n",
       "TC 5 1.0000000 1.0000000 0.8648791 1.0000000 1.0000000 1.0000000 1.0000000"
      ]
     },
     "metadata": {},
     "output_type": "display_data"
    }
   ],
   "source": [
    "head(kk)"
   ]
  },
  {
   "cell_type": "code",
   "execution_count": 19,
   "id": "3dbb23eb-24df-4678-a488-346464edf36a",
   "metadata": {},
   "outputs": [
    {
     "data": {
      "text/html": [
       "<strong>png:</strong> 2"
      ],
      "text/latex": [
       "\\textbf{png:} 2"
      ],
      "text/markdown": [
       "**png:** 2"
      ],
      "text/plain": [
       "png \n",
       "  2 "
      ]
     },
     "metadata": {},
     "output_type": "display_data"
    },
    {
     "data": {
      "image/png": "[encoded data removed]",
      "text/plain": [
       "plot without title"
      ]
     },
     "metadata": {
      "image/png": {
       "height": 360,
       "width": 360
      }
     },
     "output_type": "display_data"
    }
   ],
   "source": [
    "options(repr.plot.width=6, repr.plot.height=6)\n",
    "\n",
    "xx <- pheatmap(t(kk),cluster_rows=T, cluster_cols=T, treeheight_col=0, treeheight_row=0, color=hcl.colors(50, \"Tropic\"),\n",
    "         clustering_method=\"ward.D2\", fontsize=15)\n",
    "\n",
    "save_pheatmap_pdf(xx, filename = \"./../Figure3_E.pdf\", width = 6, height = 6)"
   ]
  },
  {
   "cell_type": "code",
   "execution_count": null,
   "id": "142ccfa2-1fbf-4b90-8854-333030f2925c",
   "metadata": {},
   "outputs": [],
   "source": []
  },
  {
   "cell_type": "code",
   "execution_count": null,
   "id": "b5ca21a7-9982-475b-9b63-7def19e12b80",
   "metadata": {},
   "outputs": [],
   "source": []
  }
 ],
 "metadata": {
  "kernelspec": {
   "display_name": "R",
   "language": "R",
   "name": "ir"
  },
  "language_info": {
   "codemirror_mode": "r",
   "file_extension": ".r",
   "mimetype": "text/x-r-source",
   "name": "R",
   "pygments_lexer": "r",
   "version": "4.1.3"
  }
 },
 "nbformat": 4,
 "nbformat_minor": 5
}
