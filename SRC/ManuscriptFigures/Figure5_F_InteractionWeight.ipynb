{
 "cells": [
  {
   "cell_type": "code",
   "execution_count": 211,
   "id": "193ad573-989a-42d2-af3d-c0648ee43007",
   "metadata": {
    "tags": []
   },
   "outputs": [],
   "source": [
    "source(\"Main.R\")\n",
    "source(\"Conf.R\")\n",
    "source(\"Utilities.R\")\n",
    "library(\"stringr\")\n",
    "library(\"ggpubr\")"
   ]
  },
  {
   "cell_type": "code",
   "execution_count": 212,
   "id": "32885677-b8e0-4ae3-8181-5f91dc97c805",
   "metadata": {
    "tags": []
   },
   "outputs": [],
   "source": [
    "# alpha = 1, beta for the L1 loss of the guide embeddings varies: \"model_0\", \"model_000001\", \"model_00001\", \"model_0001\", \"model_001\", \"model_01\", \"model_1\"\n",
    "# alpha =1, beta = 0, theta varies for the multilabel cost varies: \"model_00_multilab\", \"model_000_multilab\", \"model_0000_multilab\"\n",
    "# alpha =1, beta varies again but a model where guide embeddings are only involved in the decoder : \"model2_0\", \"model2_000001\", \"model2_0001\", \"model2_001\", \"model2_01\", \"model2_1\"\n",
    "# beta = 0, alpha varies: \"model_alpha001\", \"model_alpha005\", \"model_alpha05\", \"model_alpha1\", \"model_alpha3\", \"model_alpha5\", \"model_alpha20\"\n",
    "\n",
    "models= read.csv(paste0(projectDir, \"/TextFiles/ComboKOModels.csv\"))\n",
    "models = models[models$ComboIncluded == 0,]\n",
    "# models = models[models$Model_Name %in% c(\"model_alpha_0_1_v1\",\n",
    "#                                         \"model_alpha_0_2_v1\",\n",
    "#                                         \"model_alpha_0_3_v1\",\n",
    "#                                         \"model_alpha_0_4_v1\",\n",
    "#                                         \"model_alpha_0_5_v1\",\n",
    "#                                         \"model_alpha_0_6_v1\",\n",
    "#                                         \"model_alpha_0_7_v1\",\n",
    "#                                         \"model_alpha_0_8_v1\",\n",
    "#                                         \"model_alpha_0_9_v1\",\n",
    "#                                         \"model_alpha_1_v1\",\n",
    "#                                         \"model_alpha_1_2_v1\",\n",
    "#                                         \"model_alpha_1_4_v1\",\n",
    "#                                         \"model_alpha_1_6_v1\",\n",
    "#                                         \"model_alpha_1_8_v1\",\n",
    "#                                         \"model_alpha_2_0_v1\",\n",
    "#                                         \"model_alpha_2_2_v1\",\n",
    "#                                         \"model_alpha_2_4_v1\",\n",
    "#                                         \"model_alpha_2_6_v1\",\n",
    "#                                         \"model_alpha_2_8_v1\",\n",
    "#                                         \"model_alpha_3_0_v1\",\n",
    "#                                         \"model_alpha_3_2_v1\",\n",
    "#                                         \"model_alpha_3_4_v1\",\n",
    "#                                         \"model_alpha_3_6_v1\",\n",
    "#                                         \"model_alpha_3_8_v1\",\n",
    "#                                         \"model_alpha_4_0_v1\",\n",
    "#                                         \"model_alpha_4_2_v1\",\n",
    "#                                         \"model_alpha_4_4_v1\",\n",
    "#                                         \"model_alpha_4_6_v1\",\n",
    "#                                         \"model_alpha_4_8_v1\",\n",
    "#                                         \"model_alpha_5_0_v1\",\n",
    "#                                         \"model_alpha_5_2_v1\",\n",
    "#                                         \"model_alpha_5_4_v1\",\n",
    "#                                         \"model_alpha_5_6_v1\",\n",
    "#                                         \"model_alpha_5_8_v1\",\n",
    "#                                         \"model_alpha_6_0_v1\"),]\n",
    "\n",
    "models = models[models$Model_Name %in% c(\n",
    "                                        \"model_alpha_1_v1\",\n",
    "                                        \"model_alpha_1_v2\",\n",
    "                                        \"model_alpha_1_v3\",\n",
    "                                        \"model_alpha_1_v4\",\n",
    "                                        \"model_alpha_5_0_v1\",\n",
    "                                        \"model_alpha_5_0_v2\",\n",
    "                                        \"model_alpha_5_0_v3\",\n",
    "                                        \"model_alpha_5_0_v4\"),]"
   ]
  },
  {
   "cell_type": "code",
   "execution_count": 213,
   "id": "820aa9ac-e503-48c2-8794-116c16fc1e3c",
   "metadata": {},
   "outputs": [
    {
     "data": {
      "text/html": [
       "<table class=\"dataframe\">\n",
       "<caption>A data.frame: 6 × 4</caption>\n",
       "<thead>\n",
       "\t<tr><th></th><th scope=col>Group</th><th scope=col>ObservedLogFCEstimate</th><th scope=col>pvalue</th><th scope=col>respGene</th></tr>\n",
       "\t<tr><th></th><th scope=col>&lt;chr&gt;</th><th scope=col>&lt;dbl&gt;</th><th scope=col>&lt;dbl&gt;</th><th scope=col>&lt;chr&gt;</th></tr>\n",
       "</thead>\n",
       "<tbody>\n",
       "\t<tr><th scope=row>9</th><td>K1WK2</td><td>0.11911014</td><td>0.0002379881</td><td>AI314180</td></tr>\n",
       "\t<tr><th scope=row>10</th><td>K1WK3</td><td>0.06786854</td><td>0.0412288936</td><td>AI314180</td></tr>\n",
       "\t<tr><th scope=row>13</th><td>K2   </td><td>0.02550598</td><td>0.0435773560</td><td>AI314180</td></tr>\n",
       "\t<tr><th scope=row>20</th><td>K4   </td><td>0.03542713</td><td>0.0455557486</td><td>AI314180</td></tr>\n",
       "\t<tr><th scope=row>37</th><td>K2WK4</td><td>0.16145588</td><td>0.0130748827</td><td>Abcc1   </td></tr>\n",
       "\t<tr><th scope=row>46</th><td>K0   </td><td>0.03162562</td><td>0.0037448033</td><td>Acod1   </td></tr>\n",
       "</tbody>\n",
       "</table>\n"
      ],
      "text/latex": [
       "A data.frame: 6 × 4\n",
       "\\begin{tabular}{r|llll}\n",
       "  & Group & ObservedLogFCEstimate & pvalue & respGene\\\\\n",
       "  & <chr> & <dbl> & <dbl> & <chr>\\\\\n",
       "\\hline\n",
       "\t9 & K1WK2 & 0.11911014 & 0.0002379881 & AI314180\\\\\n",
       "\t10 & K1WK3 & 0.06786854 & 0.0412288936 & AI314180\\\\\n",
       "\t13 & K2    & 0.02550598 & 0.0435773560 & AI314180\\\\\n",
       "\t20 & K4    & 0.03542713 & 0.0455557486 & AI314180\\\\\n",
       "\t37 & K2WK4 & 0.16145588 & 0.0130748827 & Abcc1   \\\\\n",
       "\t46 & K0    & 0.03162562 & 0.0037448033 & Acod1   \\\\\n",
       "\\end{tabular}\n"
      ],
      "text/markdown": [
       "\n",
       "A data.frame: 6 × 4\n",
       "\n",
       "| <!--/--> | Group &lt;chr&gt; | ObservedLogFCEstimate &lt;dbl&gt; | pvalue &lt;dbl&gt; | respGene &lt;chr&gt; |\n",
       "|---|---|---|---|---|\n",
       "| 9 | K1WK2 | 0.11911014 | 0.0002379881 | AI314180 |\n",
       "| 10 | K1WK3 | 0.06786854 | 0.0412288936 | AI314180 |\n",
       "| 13 | K2    | 0.02550598 | 0.0435773560 | AI314180 |\n",
       "| 20 | K4    | 0.03542713 | 0.0455557486 | AI314180 |\n",
       "| 37 | K2WK4 | 0.16145588 | 0.0130748827 | Abcc1    |\n",
       "| 46 | K0    | 0.03162562 | 0.0037448033 | Acod1    |\n",
       "\n"
      ],
      "text/plain": [
       "   Group ObservedLogFCEstimate pvalue       respGene\n",
       "9  K1WK2 0.11911014            0.0002379881 AI314180\n",
       "10 K1WK3 0.06786854            0.0412288936 AI314180\n",
       "13 K2    0.02550598            0.0435773560 AI314180\n",
       "20 K4    0.03542713            0.0455557486 AI314180\n",
       "37 K2WK4 0.16145588            0.0130748827 Abcc1   \n",
       "46 K0    0.03162562            0.0037448033 Acod1   "
      ]
     },
     "metadata": {},
     "output_type": "display_data"
    }
   ],
   "source": [
    "combosObserved <- readRDS(paste0(projectDir, \"/Notebooks/CombinatorialPerturbations/RDSFiles/ComboEffects_lm_residuals.rds\"))\n",
    "combosObserved <- combosObserved[combosObserved$term %ni% c(\"(Intercept)\", \"n_genes\", \"mt_frac\", paste0(\"leiden\", 1:9)),]\n",
    "combosObserved <- combosObserved[combosObserved$p.value < 0.05,]\n",
    "combosObserved[,c(\"std.error\", \"statistic\")] = NULL\n",
    "combosObserved$term <- sapply(combosObserved$term, function(x){str_replace_all(x, \"_\", \"\")})\n",
    "colnames(combosObserved) = c(\"Group\", \"ObservedLogFCEstimate\", \"pvalue\",\"respGene\")\n",
    "\n",
    "head(combosObserved)\n",
    "\n"
   ]
  },
  {
   "cell_type": "code",
   "execution_count": 214,
   "id": "345e6e49-bceb-4384-a102-3603c916c5b8",
   "metadata": {},
   "outputs": [],
   "source": [
    "combosInterP <- readRDS(\"./../Notebooks/CombinatorialPerturbations/RDSFiles/ComboEffects_lm_residuals_withInteractions.rds\")\n",
    "combosInterP <- combosInterP[combosInterP$term %ni% c(\"(Intercept)\", \"n_genes\", \"mt_frac\", paste0(\"leiden\", 1:9)),]\n",
    "combosInterP = data.table(combosInterP)\n",
    "combosInterP[,FDR:=p.adjust(p.value, method = \"fdr\", n = length(p.value)),by=respGene]\n",
    "combosInterP = data.frame(combosInterP)\n",
    "#combosInterP[combosInterP$FDR > 0.1,\"estimate\"] = 0\n",
    "\n",
    "\n",
    "\n",
    "combosInterP[,c(\"std.error\", \"statistic\", \"p.value\",\"FDR\")] = NULL\n",
    "combosInterP = reshape(combosInterP, idvar = \"respGene\", timevar = \"term\",  direction = \"wide\")\n",
    "rownames(combosInterP) = combosInterP$respGene\n",
    "combosInterP$respGene = NULL\n",
    "colnames(combosInterP) = sapply( colnames(combosInterP), function(x){strsplit(x,\"estimate.\")[[1]][2]})\n",
    "colnames(combosInterP) <- sapply(colnames(combosInterP), function(x){str_replace_all(as.character(x),\"_\",\"\")})\n",
    "\n",
    "groupPairs = colnames(combosInterP)[colnames(combosInterP) %ni% c(\"K0\", \"K1\", \"K2\", \"K3\", \"K4\", \"K5\")]\n",
    "\n",
    "allInterWeight=data.frame()\n",
    "for(elem in groupPairs){\n",
    "  group1 = strsplit(elem,\":\")[[1]][1]\n",
    "  group2 = strsplit(elem,\":\")[[1]][2]\n",
    "    \n",
    "  tmp = data.frame(Group=paste0(group1,\"W\",group2),\n",
    "             interactionBeta= combosInterP[,elem],\n",
    "             g1_beta = combosInterP[,group1], \n",
    "             g2_beta=combosInterP[,group2],\n",
    "             respGene = rownames(combosInterP) )\n",
    "    \n",
    "  allInterWeight=rbind(allInterWeight, tmp)\n",
    "\n",
    "}\n",
    "\n"
   ]
  },
  {
   "cell_type": "code",
   "execution_count": 215,
   "id": "f980ebe1-a228-4cc1-9b0b-202d5c704c18",
   "metadata": {},
   "outputs": [],
   "source": [
    "combosObserved = merge(combosObserved,allInterWeight, by=c(\"Group\", \"respGene\"))"
   ]
  },
  {
   "cell_type": "code",
   "execution_count": 216,
   "id": "780ff863-9e15-4d9d-918b-3f0fe8a21652",
   "metadata": {},
   "outputs": [],
   "source": [
    "combosObserved$interactionWeight = abs(combosObserved$interactionBeta) / (abs(combosObserved$g1_beta) + abs(combosObserved$g2_beta)) "
   ]
  },
  {
   "cell_type": "code",
   "execution_count": 217,
   "id": "bddd10a3-f0b8-4700-bc91-bff75fd140b3",
   "metadata": {},
   "outputs": [],
   "source": [
    "#combosObserved[combosObserved$interactionWeight > 20, \"interactionWeight\"] = 20"
   ]
  },
  {
   "cell_type": "code",
   "execution_count": 218,
   "id": "beed4192-bbf5-4a93-892f-4f694d6ff62b",
   "metadata": {},
   "outputs": [
    {
     "data": {
      "text/html": [
       "65.9849755427145"
      ],
      "text/latex": [
       "65.9849755427145"
      ],
      "text/markdown": [
       "65.9849755427145"
      ],
      "text/plain": [
       "[1] 65.98498"
      ]
     },
     "metadata": {},
     "output_type": "display_data"
    }
   ],
   "source": [
    "max(combosObserved$interactionWeight)"
   ]
  },
  {
   "cell_type": "code",
   "execution_count": 219,
   "id": "4efe32b6-f596-4cc5-9a67-0f0e0f9db597",
   "metadata": {
    "tags": []
   },
   "outputs": [
    {
     "name": "stderr",
     "output_type": "stream",
     "text": [
      "Using X as id variables\n",
      "\n",
      "Using X as id variables\n",
      "\n",
      "Using X as id variables\n",
      "\n",
      "Using X as id variables\n",
      "\n",
      "Using X as id variables\n",
      "\n",
      "Using X as id variables\n",
      "\n",
      "Using X as id variables\n",
      "\n",
      "Using X as id variables\n",
      "\n"
     ]
    }
   ],
   "source": [
    "options(repr.plot.width=12, repr.plot.height=12)\n",
    "myallResDFs = data.frame()\n",
    "\n",
    "for( i in 1:nrow(models)){\n",
    "\n",
    "        allResDF = read.csv(paste0(projectDir, \"/Notebooks/CombinatorialPerturbations/outputs/\", models[i,\"SubFolder\"], \"/\",models[i,\"Model_Name\"],\"/PredictedFC_Coef.csv\"))\n",
    "\n",
    "\n",
    "        allResDF = allResDF[allResDF$X != \"intercept\",]\n",
    "        allResDF = melt(allResDF)\n",
    "        colnames(allResDF) = c(\"Group\",\"respGene\",\"PredictedLogFCEstimate\")\n",
    "        allResDF$Group = sapply(allResDF$Group, function(x){strsplit(x, \"perturb_\")[[1]][2]})\n",
    "        allResDF$Group = sapply(allResDF$Group, function(x){str_replace(x, \"_\", \"W\")})\n",
    "        allResDF$alpha = models[i,\"Alpha\"]\n",
    "        allResDF$model = models[i,\"Model_Name\"]\n",
    "    \n",
    "\n",
    "        allRes = merge(combosObserved, allResDF , by=c(\"Group\", \"respGene\"))\n",
    "\n",
    "        allRes$Group1 = sapply(allRes$Group, function(x){return(strsplit(as.character(x),\"W\")[[1]][1]) })\n",
    "        allRes$Group2 = sapply(allRes$Group, function(x){return(strsplit(as.character(x),\"W\")[[1]][2]) })\n",
    "        allRes$GroupGene = paste0(allRes$Group,\"_\",allRes$respGene)\n",
    "        allRes[is.na(allRes$Group2),\"Group2\"] = allRes[is.na(allRes$Group2),\"Group1\"]\n",
    "        myallResDFs = rbind(myallResDFs, allRes) \n",
    "}"
   ]
  },
  {
   "cell_type": "code",
   "execution_count": 220,
   "id": "c138625a-a956-466e-9673-95aa0f58ea81",
   "metadata": {},
   "outputs": [],
   "source": [
    "#saveRDS(myallResDFs,\"myallResDFs_v2.rds\")\n",
    "#myallResDFs = readRDS(\"myallResDFs.rds\")"
   ]
  },
  {
   "cell_type": "code",
   "execution_count": 221,
   "id": "e2da43f9-a97b-4d1a-a974-146518510370",
   "metadata": {},
   "outputs": [],
   "source": [
    "myallResDFs$AE = abs(myallResDFs$ObservedLogFCEstimate - myallResDFs$PredictedLogFCEstimate) / abs(myallResDFs$ObservedLogFCEstimate)"
   ]
  },
  {
   "cell_type": "code",
   "execution_count": 222,
   "id": "c51faa22-5457-487a-9a30-83714402760c",
   "metadata": {},
   "outputs": [],
   "source": [
    "#myallResDFs = myallResDFs[myallResDFs$alpha %in% c(0.1, 0.4, 0.7, 1, 1.4, 1.8, 2.2, 2.6,3.0, 3.4, 3.8, 4.2, 4.6, 5.0, 5.4,  5.8),]"
   ]
  },
  {
   "cell_type": "code",
   "execution_count": 223,
   "id": "ab3d7b7a-b05a-4054-a55c-9f4efcad3f48",
   "metadata": {},
   "outputs": [],
   "source": [
    "myallResDFs$GroupAlpha = paste0(myallResDFs$Group,\"_\",myallResDFs$alpha)"
   ]
  },
  {
   "cell_type": "code",
   "execution_count": 224,
   "id": "46dbe3e7-46b7-466a-b8ef-2c1f99c406d5",
   "metadata": {},
   "outputs": [],
   "source": [
    "myallResDFs = data.table(myallResDFs)\n",
    "myallResDFs[,sCor:=round(cor(interactionWeight, AE, method=\"spearman\"), digits=3),by=GroupAlpha]\n",
    "myallResDFs = data.frame(myallResDFs)"
   ]
  },
  {
   "cell_type": "code",
   "execution_count": 225,
   "id": "10ca353d-5eff-4190-ae94-e72b400e28a7",
   "metadata": {
    "tags": []
   },
   "outputs": [],
   "source": [
    "myallResDFs$interactionStrength = \"\"\n",
    "myallResDFs[ myallResDFs$interactionWeight < 0.3 , \"interactionStrength\"] = \"L1\"\n",
    "myallResDFs[myallResDFs$interactionWeight >=  0.3 &  myallResDFs$interactionWeight < 1 , \"interactionStrength\"] = \"L2\"\n",
    "myallResDFs[myallResDFs$interactionWeight >=  1 &  myallResDFs$interactionWeight < 3 , \"interactionStrength\"] = \"L3\"\n",
    "myallResDFs[myallResDFs$interactionWeight >=  3, \"interactionStrength\"] = \"L4\"\n",
    "\n",
    "\n",
    "\n",
    "\n",
    "\n"
   ]
  },
  {
   "cell_type": "code",
   "execution_count": 226,
   "id": "53a4f47b-59ad-4b8d-8619-d65570a8ba18",
   "metadata": {},
   "outputs": [],
   "source": [
    "myallResDFs$interactionStrength = factor(myallResDFs$interactionStrength,\n",
    "                                        levels=c(paste0(\"L\",1:4)))"
   ]
  },
  {
   "cell_type": "code",
   "execution_count": 227,
   "id": "e24efc3e-0be6-41e0-8d95-b5bcd3ccacc0",
   "metadata": {},
   "outputs": [
    {
     "data": {
      "text/plain": [
       "\n",
       "  L1   L2   L3   L4 \n",
       "5824 8368 8400 3752 "
      ]
     },
     "metadata": {},
     "output_type": "display_data"
    }
   ],
   "source": [
    "table(myallResDFs$interactionStrength)"
   ]
  },
  {
   "cell_type": "code",
   "execution_count": 228,
   "id": "9b76d6c6-793b-4ea2-b359-3fe4f9eaae98",
   "metadata": {},
   "outputs": [
    {
     "data": {
      "text/html": [
       "<table class=\"dataframe\">\n",
       "<caption>A data.frame: 6 × 18</caption>\n",
       "<thead>\n",
       "\t<tr><th></th><th scope=col>Group</th><th scope=col>respGene</th><th scope=col>ObservedLogFCEstimate</th><th scope=col>pvalue</th><th scope=col>interactionBeta</th><th scope=col>g1_beta</th><th scope=col>g2_beta</th><th scope=col>interactionWeight</th><th scope=col>PredictedLogFCEstimate</th><th scope=col>alpha</th><th scope=col>model</th><th scope=col>Group1</th><th scope=col>Group2</th><th scope=col>GroupGene</th><th scope=col>AE</th><th scope=col>GroupAlpha</th><th scope=col>sCor</th><th scope=col>interactionStrength</th></tr>\n",
       "\t<tr><th></th><th scope=col>&lt;chr&gt;</th><th scope=col>&lt;chr&gt;</th><th scope=col>&lt;dbl&gt;</th><th scope=col>&lt;dbl&gt;</th><th scope=col>&lt;dbl&gt;</th><th scope=col>&lt;dbl&gt;</th><th scope=col>&lt;dbl&gt;</th><th scope=col>&lt;dbl&gt;</th><th scope=col>&lt;dbl&gt;</th><th scope=col>&lt;dbl&gt;</th><th scope=col>&lt;chr&gt;</th><th scope=col>&lt;chr&gt;</th><th scope=col>&lt;chr&gt;</th><th scope=col>&lt;chr&gt;</th><th scope=col>&lt;dbl&gt;</th><th scope=col>&lt;chr&gt;</th><th scope=col>&lt;dbl&gt;</th><th scope=col>&lt;fct&gt;</th></tr>\n",
       "</thead>\n",
       "<tbody>\n",
       "\t<tr><th scope=row>1</th><td>K0WK1</td><td>Actb  </td><td>-0.16748708</td><td>8.567763e-10</td><td> 0.003948194</td><td>-0.0614485917</td><td>-0.10998668</td><td>0.02303023</td><td>-0.078329498</td><td>1</td><td>model_alpha_1_v1</td><td>K0</td><td>K1</td><td>K0WK1_Actb  </td><td>0.5323251</td><td>K0WK1_1</td><td>0.754</td><td>L1</td></tr>\n",
       "\t<tr><th scope=row>2</th><td>K0WK1</td><td>Actg1 </td><td>-0.06733975</td><td>2.102631e-02</td><td> 0.012341932</td><td> 0.0038525735</td><td>-0.08353426</td><td>0.14123332</td><td>-0.032194256</td><td>1</td><td>model_alpha_1_v1</td><td>K0</td><td>K1</td><td>K0WK1_Actg1 </td><td>0.5219131</td><td>K0WK1_1</td><td>0.754</td><td>L1</td></tr>\n",
       "\t<tr><th scope=row>3</th><td>K0WK1</td><td>Ahnak2</td><td>-0.07134539</td><td>1.683442e-02</td><td>-0.011539102</td><td>-0.0093663359</td><td>-0.05043995</td><td>0.19294129</td><td>-0.058558656</td><td>1</td><td>model_alpha_1_v1</td><td>K0</td><td>K1</td><td>K0WK1_Ahnak2</td><td>0.1792230</td><td>K0WK1_1</td><td>0.754</td><td>L1</td></tr>\n",
       "\t<tr><th scope=row>4</th><td>K0WK1</td><td>Ak4   </td><td> 0.06005787</td><td>4.829130e-02</td><td> 0.035417582</td><td> 0.0084475359</td><td> 0.01619276</td><td>1.43738483</td><td> 0.020965169</td><td>1</td><td>model_alpha_1_v1</td><td>K0</td><td>K1</td><td>K0WK1_Ak4   </td><td>0.6509172</td><td>K0WK1_1</td><td>0.754</td><td>L3</td></tr>\n",
       "\t<tr><th scope=row>5</th><td>K0WK1</td><td>Akr1a1</td><td>-0.06557408</td><td>2.272694e-02</td><td>-0.049244616</td><td> 0.0006242596</td><td>-0.01695372</td><td>2.80149396</td><td> 0.009669101</td><td>1</td><td>model_alpha_1_v1</td><td>K0</td><td>K1</td><td>K0WK1_Akr1a1</td><td>1.1474531</td><td>K0WK1_1</td><td>0.754</td><td>L3</td></tr>\n",
       "\t<tr><th scope=row>6</th><td>K0WK1</td><td>Anxa2 </td><td>-0.11284766</td><td>1.279862e-04</td><td>-0.033634023</td><td>-0.0186590084</td><td>-0.06055463</td><td>0.42459890</td><td>-0.018580132</td><td>1</td><td>model_alpha_1_v1</td><td>K0</td><td>K1</td><td>K0WK1_Anxa2 </td><td>0.8353521</td><td>K0WK1_1</td><td>0.754</td><td>L2</td></tr>\n",
       "</tbody>\n",
       "</table>\n"
      ],
      "text/latex": [
       "A data.frame: 6 × 18\n",
       "\\begin{tabular}{r|llllllllllllllllll}\n",
       "  & Group & respGene & ObservedLogFCEstimate & pvalue & interactionBeta & g1\\_beta & g2\\_beta & interactionWeight & PredictedLogFCEstimate & alpha & model & Group1 & Group2 & GroupGene & AE & GroupAlpha & sCor & interactionStrength\\\\\n",
       "  & <chr> & <chr> & <dbl> & <dbl> & <dbl> & <dbl> & <dbl> & <dbl> & <dbl> & <dbl> & <chr> & <chr> & <chr> & <chr> & <dbl> & <chr> & <dbl> & <fct>\\\\\n",
       "\\hline\n",
       "\t1 & K0WK1 & Actb   & -0.16748708 & 8.567763e-10 &  0.003948194 & -0.0614485917 & -0.10998668 & 0.02303023 & -0.078329498 & 1 & model\\_alpha\\_1\\_v1 & K0 & K1 & K0WK1\\_Actb   & 0.5323251 & K0WK1\\_1 & 0.754 & L1\\\\\n",
       "\t2 & K0WK1 & Actg1  & -0.06733975 & 2.102631e-02 &  0.012341932 &  0.0038525735 & -0.08353426 & 0.14123332 & -0.032194256 & 1 & model\\_alpha\\_1\\_v1 & K0 & K1 & K0WK1\\_Actg1  & 0.5219131 & K0WK1\\_1 & 0.754 & L1\\\\\n",
       "\t3 & K0WK1 & Ahnak2 & -0.07134539 & 1.683442e-02 & -0.011539102 & -0.0093663359 & -0.05043995 & 0.19294129 & -0.058558656 & 1 & model\\_alpha\\_1\\_v1 & K0 & K1 & K0WK1\\_Ahnak2 & 0.1792230 & K0WK1\\_1 & 0.754 & L1\\\\\n",
       "\t4 & K0WK1 & Ak4    &  0.06005787 & 4.829130e-02 &  0.035417582 &  0.0084475359 &  0.01619276 & 1.43738483 &  0.020965169 & 1 & model\\_alpha\\_1\\_v1 & K0 & K1 & K0WK1\\_Ak4    & 0.6509172 & K0WK1\\_1 & 0.754 & L3\\\\\n",
       "\t5 & K0WK1 & Akr1a1 & -0.06557408 & 2.272694e-02 & -0.049244616 &  0.0006242596 & -0.01695372 & 2.80149396 &  0.009669101 & 1 & model\\_alpha\\_1\\_v1 & K0 & K1 & K0WK1\\_Akr1a1 & 1.1474531 & K0WK1\\_1 & 0.754 & L3\\\\\n",
       "\t6 & K0WK1 & Anxa2  & -0.11284766 & 1.279862e-04 & -0.033634023 & -0.0186590084 & -0.06055463 & 0.42459890 & -0.018580132 & 1 & model\\_alpha\\_1\\_v1 & K0 & K1 & K0WK1\\_Anxa2  & 0.8353521 & K0WK1\\_1 & 0.754 & L2\\\\\n",
       "\\end{tabular}\n"
      ],
      "text/markdown": [
       "\n",
       "A data.frame: 6 × 18\n",
       "\n",
       "| <!--/--> | Group &lt;chr&gt; | respGene &lt;chr&gt; | ObservedLogFCEstimate &lt;dbl&gt; | pvalue &lt;dbl&gt; | interactionBeta &lt;dbl&gt; | g1_beta &lt;dbl&gt; | g2_beta &lt;dbl&gt; | interactionWeight &lt;dbl&gt; | PredictedLogFCEstimate &lt;dbl&gt; | alpha &lt;dbl&gt; | model &lt;chr&gt; | Group1 &lt;chr&gt; | Group2 &lt;chr&gt; | GroupGene &lt;chr&gt; | AE &lt;dbl&gt; | GroupAlpha &lt;chr&gt; | sCor &lt;dbl&gt; | interactionStrength &lt;fct&gt; |\n",
       "|---|---|---|---|---|---|---|---|---|---|---|---|---|---|---|---|---|---|---|\n",
       "| 1 | K0WK1 | Actb   | -0.16748708 | 8.567763e-10 |  0.003948194 | -0.0614485917 | -0.10998668 | 0.02303023 | -0.078329498 | 1 | model_alpha_1_v1 | K0 | K1 | K0WK1_Actb   | 0.5323251 | K0WK1_1 | 0.754 | L1 |\n",
       "| 2 | K0WK1 | Actg1  | -0.06733975 | 2.102631e-02 |  0.012341932 |  0.0038525735 | -0.08353426 | 0.14123332 | -0.032194256 | 1 | model_alpha_1_v1 | K0 | K1 | K0WK1_Actg1  | 0.5219131 | K0WK1_1 | 0.754 | L1 |\n",
       "| 3 | K0WK1 | Ahnak2 | -0.07134539 | 1.683442e-02 | -0.011539102 | -0.0093663359 | -0.05043995 | 0.19294129 | -0.058558656 | 1 | model_alpha_1_v1 | K0 | K1 | K0WK1_Ahnak2 | 0.1792230 | K0WK1_1 | 0.754 | L1 |\n",
       "| 4 | K0WK1 | Ak4    |  0.06005787 | 4.829130e-02 |  0.035417582 |  0.0084475359 |  0.01619276 | 1.43738483 |  0.020965169 | 1 | model_alpha_1_v1 | K0 | K1 | K0WK1_Ak4    | 0.6509172 | K0WK1_1 | 0.754 | L3 |\n",
       "| 5 | K0WK1 | Akr1a1 | -0.06557408 | 2.272694e-02 | -0.049244616 |  0.0006242596 | -0.01695372 | 2.80149396 |  0.009669101 | 1 | model_alpha_1_v1 | K0 | K1 | K0WK1_Akr1a1 | 1.1474531 | K0WK1_1 | 0.754 | L3 |\n",
       "| 6 | K0WK1 | Anxa2  | -0.11284766 | 1.279862e-04 | -0.033634023 | -0.0186590084 | -0.06055463 | 0.42459890 | -0.018580132 | 1 | model_alpha_1_v1 | K0 | K1 | K0WK1_Anxa2  | 0.8353521 | K0WK1_1 | 0.754 | L2 |\n",
       "\n"
      ],
      "text/plain": [
       "  Group respGene ObservedLogFCEstimate pvalue       interactionBeta\n",
       "1 K0WK1 Actb     -0.16748708           8.567763e-10  0.003948194   \n",
       "2 K0WK1 Actg1    -0.06733975           2.102631e-02  0.012341932   \n",
       "3 K0WK1 Ahnak2   -0.07134539           1.683442e-02 -0.011539102   \n",
       "4 K0WK1 Ak4       0.06005787           4.829130e-02  0.035417582   \n",
       "5 K0WK1 Akr1a1   -0.06557408           2.272694e-02 -0.049244616   \n",
       "6 K0WK1 Anxa2    -0.11284766           1.279862e-04 -0.033634023   \n",
       "  g1_beta       g2_beta     interactionWeight PredictedLogFCEstimate alpha\n",
       "1 -0.0614485917 -0.10998668 0.02303023        -0.078329498           1    \n",
       "2  0.0038525735 -0.08353426 0.14123332        -0.032194256           1    \n",
       "3 -0.0093663359 -0.05043995 0.19294129        -0.058558656           1    \n",
       "4  0.0084475359  0.01619276 1.43738483         0.020965169           1    \n",
       "5  0.0006242596 -0.01695372 2.80149396         0.009669101           1    \n",
       "6 -0.0186590084 -0.06055463 0.42459890        -0.018580132           1    \n",
       "  model            Group1 Group2 GroupGene    AE        GroupAlpha sCor \n",
       "1 model_alpha_1_v1 K0     K1     K0WK1_Actb   0.5323251 K0WK1_1    0.754\n",
       "2 model_alpha_1_v1 K0     K1     K0WK1_Actg1  0.5219131 K0WK1_1    0.754\n",
       "3 model_alpha_1_v1 K0     K1     K0WK1_Ahnak2 0.1792230 K0WK1_1    0.754\n",
       "4 model_alpha_1_v1 K0     K1     K0WK1_Ak4    0.6509172 K0WK1_1    0.754\n",
       "5 model_alpha_1_v1 K0     K1     K0WK1_Akr1a1 1.1474531 K0WK1_1    0.754\n",
       "6 model_alpha_1_v1 K0     K1     K0WK1_Anxa2  0.8353521 K0WK1_1    0.754\n",
       "  interactionStrength\n",
       "1 L1                 \n",
       "2 L1                 \n",
       "3 L1                 \n",
       "4 L3                 \n",
       "5 L3                 \n",
       "6 L2                 "
      ]
     },
     "metadata": {},
     "output_type": "display_data"
    }
   ],
   "source": [
    "head(myallResDFs)"
   ]
  },
  {
   "cell_type": "code",
   "execution_count": 229,
   "id": "8307ce15-e779-47bb-92c3-f6b477330ea5",
   "metadata": {},
   "outputs": [],
   "source": [
    "# myallResDFs$alpha = factor(myallResDFs$alpha,\n",
    "#                            levels=c(0.1, 0.4, 0.7, 1, 1.4, 1.8, 2.2, 2.6,3.0, 3.4, 3.8, 4.2, 4.6, 5.0, 5.4,  5.8))\n",
    "\n",
    "myallResDFs$alpha = factor(myallResDFs$alpha,\n",
    "                           levels=c( 1, 5.0))"
   ]
  },
  {
   "cell_type": "code",
   "execution_count": 230,
   "id": "b1651f69-6400-49ad-ab90-cc634f1bbf4c",
   "metadata": {},
   "outputs": [
    {
     "data": {
      "text/html": [
       "<style>\n",
       ".list-inline {list-style: none; margin:0; padding: 0}\n",
       ".list-inline>li {display: inline-block}\n",
       ".list-inline>li:not(:last-child)::after {content: \"\\00b7\"; padding: 0 .5ex}\n",
       "</style>\n",
       "<ol class=list-inline><li>1</li><li>5</li></ol>\n",
       "\n",
       "<details>\n",
       "\t<summary style=display:list-item;cursor:pointer>\n",
       "\t\t<strong>Levels</strong>:\n",
       "\t</summary>\n",
       "\t<style>\n",
       "\t.list-inline {list-style: none; margin:0; padding: 0}\n",
       "\t.list-inline>li {display: inline-block}\n",
       "\t.list-inline>li:not(:last-child)::after {content: \"\\00b7\"; padding: 0 .5ex}\n",
       "\t</style>\n",
       "\t<ol class=list-inline><li>'1'</li><li>'5'</li></ol>\n",
       "</details>"
      ],
      "text/latex": [
       "\\begin{enumerate*}\n",
       "\\item 1\n",
       "\\item 5\n",
       "\\end{enumerate*}\n",
       "\n",
       "\\emph{Levels}: \\begin{enumerate*}\n",
       "\\item '1'\n",
       "\\item '5'\n",
       "\\end{enumerate*}\n"
      ],
      "text/markdown": [
       "1. 1\n",
       "2. 5\n",
       "\n",
       "\n",
       "\n",
       "**Levels**: 1. '1'\n",
       "2. '5'\n",
       "\n",
       "\n"
      ],
      "text/plain": [
       "[1] 1 5\n",
       "Levels: 1 5"
      ]
     },
     "metadata": {},
     "output_type": "display_data"
    }
   ],
   "source": [
    "unique(myallResDFs$alpha)"
   ]
  },
  {
   "cell_type": "code",
   "execution_count": 231,
   "id": "b34660d6-e1f8-4466-8a27-3b1ab2f632e3",
   "metadata": {},
   "outputs": [
    {
     "data": {
      "text/html": [
       "<table class=\"dataframe\">\n",
       "<caption>A data.frame: 6 × 19</caption>\n",
       "<thead>\n",
       "\t<tr><th></th><th scope=col>Group</th><th scope=col>respGene</th><th scope=col>ObservedLogFCEstimate</th><th scope=col>pvalue</th><th scope=col>interactionBeta</th><th scope=col>g1_beta</th><th scope=col>g2_beta</th><th scope=col>interactionWeight</th><th scope=col>PredictedLogFCEstimate</th><th scope=col>alpha</th><th scope=col>model</th><th scope=col>Group1</th><th scope=col>Group2</th><th scope=col>GroupGene</th><th scope=col>AE</th><th scope=col>GroupAlpha</th><th scope=col>sCor</th><th scope=col>interactionStrength</th><th scope=col>ident</th></tr>\n",
       "\t<tr><th></th><th scope=col>&lt;chr&gt;</th><th scope=col>&lt;chr&gt;</th><th scope=col>&lt;dbl&gt;</th><th scope=col>&lt;dbl&gt;</th><th scope=col>&lt;dbl&gt;</th><th scope=col>&lt;dbl&gt;</th><th scope=col>&lt;dbl&gt;</th><th scope=col>&lt;dbl&gt;</th><th scope=col>&lt;dbl&gt;</th><th scope=col>&lt;fct&gt;</th><th scope=col>&lt;chr&gt;</th><th scope=col>&lt;chr&gt;</th><th scope=col>&lt;chr&gt;</th><th scope=col>&lt;chr&gt;</th><th scope=col>&lt;dbl&gt;</th><th scope=col>&lt;chr&gt;</th><th scope=col>&lt;dbl&gt;</th><th scope=col>&lt;fct&gt;</th><th scope=col>&lt;chr&gt;</th></tr>\n",
       "</thead>\n",
       "<tbody>\n",
       "\t<tr><th scope=row>1</th><td>K0WK1</td><td>Actb  </td><td>-0.16748708</td><td>8.567763e-10</td><td> 0.003948194</td><td>-0.0614485917</td><td>-0.10998668</td><td>0.02303023</td><td>-0.078329498</td><td>1</td><td>model_alpha_1_v1</td><td>K0</td><td>K1</td><td>K0WK1_Actb  </td><td>0.5323251</td><td>K0WK1_1</td><td>0.754</td><td>L1</td><td>model_alpha_1_v1_K0WK1_Actb  </td></tr>\n",
       "\t<tr><th scope=row>2</th><td>K0WK1</td><td>Actg1 </td><td>-0.06733975</td><td>2.102631e-02</td><td> 0.012341932</td><td> 0.0038525735</td><td>-0.08353426</td><td>0.14123332</td><td>-0.032194256</td><td>1</td><td>model_alpha_1_v1</td><td>K0</td><td>K1</td><td>K0WK1_Actg1 </td><td>0.5219131</td><td>K0WK1_1</td><td>0.754</td><td>L1</td><td>model_alpha_1_v1_K0WK1_Actg1 </td></tr>\n",
       "\t<tr><th scope=row>3</th><td>K0WK1</td><td>Ahnak2</td><td>-0.07134539</td><td>1.683442e-02</td><td>-0.011539102</td><td>-0.0093663359</td><td>-0.05043995</td><td>0.19294129</td><td>-0.058558656</td><td>1</td><td>model_alpha_1_v1</td><td>K0</td><td>K1</td><td>K0WK1_Ahnak2</td><td>0.1792230</td><td>K0WK1_1</td><td>0.754</td><td>L1</td><td>model_alpha_1_v1_K0WK1_Ahnak2</td></tr>\n",
       "\t<tr><th scope=row>4</th><td>K0WK1</td><td>Ak4   </td><td> 0.06005787</td><td>4.829130e-02</td><td> 0.035417582</td><td> 0.0084475359</td><td> 0.01619276</td><td>1.43738483</td><td> 0.020965169</td><td>1</td><td>model_alpha_1_v1</td><td>K0</td><td>K1</td><td>K0WK1_Ak4   </td><td>0.6509172</td><td>K0WK1_1</td><td>0.754</td><td>L3</td><td>model_alpha_1_v1_K0WK1_Ak4   </td></tr>\n",
       "\t<tr><th scope=row>5</th><td>K0WK1</td><td>Akr1a1</td><td>-0.06557408</td><td>2.272694e-02</td><td>-0.049244616</td><td> 0.0006242596</td><td>-0.01695372</td><td>2.80149396</td><td> 0.009669101</td><td>1</td><td>model_alpha_1_v1</td><td>K0</td><td>K1</td><td>K0WK1_Akr1a1</td><td>1.1474531</td><td>K0WK1_1</td><td>0.754</td><td>L3</td><td>model_alpha_1_v1_K0WK1_Akr1a1</td></tr>\n",
       "\t<tr><th scope=row>6</th><td>K0WK1</td><td>Anxa2 </td><td>-0.11284766</td><td>1.279862e-04</td><td>-0.033634023</td><td>-0.0186590084</td><td>-0.06055463</td><td>0.42459890</td><td>-0.018580132</td><td>1</td><td>model_alpha_1_v1</td><td>K0</td><td>K1</td><td>K0WK1_Anxa2 </td><td>0.8353521</td><td>K0WK1_1</td><td>0.754</td><td>L2</td><td>model_alpha_1_v1_K0WK1_Anxa2 </td></tr>\n",
       "</tbody>\n",
       "</table>\n"
      ],
      "text/latex": [
       "A data.frame: 6 × 19\n",
       "\\begin{tabular}{r|lllllllllllllllllll}\n",
       "  & Group & respGene & ObservedLogFCEstimate & pvalue & interactionBeta & g1\\_beta & g2\\_beta & interactionWeight & PredictedLogFCEstimate & alpha & model & Group1 & Group2 & GroupGene & AE & GroupAlpha & sCor & interactionStrength & ident\\\\\n",
       "  & <chr> & <chr> & <dbl> & <dbl> & <dbl> & <dbl> & <dbl> & <dbl> & <dbl> & <fct> & <chr> & <chr> & <chr> & <chr> & <dbl> & <chr> & <dbl> & <fct> & <chr>\\\\\n",
       "\\hline\n",
       "\t1 & K0WK1 & Actb   & -0.16748708 & 8.567763e-10 &  0.003948194 & -0.0614485917 & -0.10998668 & 0.02303023 & -0.078329498 & 1 & model\\_alpha\\_1\\_v1 & K0 & K1 & K0WK1\\_Actb   & 0.5323251 & K0WK1\\_1 & 0.754 & L1 & model\\_alpha\\_1\\_v1\\_K0WK1\\_Actb  \\\\\n",
       "\t2 & K0WK1 & Actg1  & -0.06733975 & 2.102631e-02 &  0.012341932 &  0.0038525735 & -0.08353426 & 0.14123332 & -0.032194256 & 1 & model\\_alpha\\_1\\_v1 & K0 & K1 & K0WK1\\_Actg1  & 0.5219131 & K0WK1\\_1 & 0.754 & L1 & model\\_alpha\\_1\\_v1\\_K0WK1\\_Actg1 \\\\\n",
       "\t3 & K0WK1 & Ahnak2 & -0.07134539 & 1.683442e-02 & -0.011539102 & -0.0093663359 & -0.05043995 & 0.19294129 & -0.058558656 & 1 & model\\_alpha\\_1\\_v1 & K0 & K1 & K0WK1\\_Ahnak2 & 0.1792230 & K0WK1\\_1 & 0.754 & L1 & model\\_alpha\\_1\\_v1\\_K0WK1\\_Ahnak2\\\\\n",
       "\t4 & K0WK1 & Ak4    &  0.06005787 & 4.829130e-02 &  0.035417582 &  0.0084475359 &  0.01619276 & 1.43738483 &  0.020965169 & 1 & model\\_alpha\\_1\\_v1 & K0 & K1 & K0WK1\\_Ak4    & 0.6509172 & K0WK1\\_1 & 0.754 & L3 & model\\_alpha\\_1\\_v1\\_K0WK1\\_Ak4   \\\\\n",
       "\t5 & K0WK1 & Akr1a1 & -0.06557408 & 2.272694e-02 & -0.049244616 &  0.0006242596 & -0.01695372 & 2.80149396 &  0.009669101 & 1 & model\\_alpha\\_1\\_v1 & K0 & K1 & K0WK1\\_Akr1a1 & 1.1474531 & K0WK1\\_1 & 0.754 & L3 & model\\_alpha\\_1\\_v1\\_K0WK1\\_Akr1a1\\\\\n",
       "\t6 & K0WK1 & Anxa2  & -0.11284766 & 1.279862e-04 & -0.033634023 & -0.0186590084 & -0.06055463 & 0.42459890 & -0.018580132 & 1 & model\\_alpha\\_1\\_v1 & K0 & K1 & K0WK1\\_Anxa2  & 0.8353521 & K0WK1\\_1 & 0.754 & L2 & model\\_alpha\\_1\\_v1\\_K0WK1\\_Anxa2 \\\\\n",
       "\\end{tabular}\n"
      ],
      "text/markdown": [
       "\n",
       "A data.frame: 6 × 19\n",
       "\n",
       "| <!--/--> | Group &lt;chr&gt; | respGene &lt;chr&gt; | ObservedLogFCEstimate &lt;dbl&gt; | pvalue &lt;dbl&gt; | interactionBeta &lt;dbl&gt; | g1_beta &lt;dbl&gt; | g2_beta &lt;dbl&gt; | interactionWeight &lt;dbl&gt; | PredictedLogFCEstimate &lt;dbl&gt; | alpha &lt;fct&gt; | model &lt;chr&gt; | Group1 &lt;chr&gt; | Group2 &lt;chr&gt; | GroupGene &lt;chr&gt; | AE &lt;dbl&gt; | GroupAlpha &lt;chr&gt; | sCor &lt;dbl&gt; | interactionStrength &lt;fct&gt; | ident &lt;chr&gt; |\n",
       "|---|---|---|---|---|---|---|---|---|---|---|---|---|---|---|---|---|---|---|---|\n",
       "| 1 | K0WK1 | Actb   | -0.16748708 | 8.567763e-10 |  0.003948194 | -0.0614485917 | -0.10998668 | 0.02303023 | -0.078329498 | 1 | model_alpha_1_v1 | K0 | K1 | K0WK1_Actb   | 0.5323251 | K0WK1_1 | 0.754 | L1 | model_alpha_1_v1_K0WK1_Actb   |\n",
       "| 2 | K0WK1 | Actg1  | -0.06733975 | 2.102631e-02 |  0.012341932 |  0.0038525735 | -0.08353426 | 0.14123332 | -0.032194256 | 1 | model_alpha_1_v1 | K0 | K1 | K0WK1_Actg1  | 0.5219131 | K0WK1_1 | 0.754 | L1 | model_alpha_1_v1_K0WK1_Actg1  |\n",
       "| 3 | K0WK1 | Ahnak2 | -0.07134539 | 1.683442e-02 | -0.011539102 | -0.0093663359 | -0.05043995 | 0.19294129 | -0.058558656 | 1 | model_alpha_1_v1 | K0 | K1 | K0WK1_Ahnak2 | 0.1792230 | K0WK1_1 | 0.754 | L1 | model_alpha_1_v1_K0WK1_Ahnak2 |\n",
       "| 4 | K0WK1 | Ak4    |  0.06005787 | 4.829130e-02 |  0.035417582 |  0.0084475359 |  0.01619276 | 1.43738483 |  0.020965169 | 1 | model_alpha_1_v1 | K0 | K1 | K0WK1_Ak4    | 0.6509172 | K0WK1_1 | 0.754 | L3 | model_alpha_1_v1_K0WK1_Ak4    |\n",
       "| 5 | K0WK1 | Akr1a1 | -0.06557408 | 2.272694e-02 | -0.049244616 |  0.0006242596 | -0.01695372 | 2.80149396 |  0.009669101 | 1 | model_alpha_1_v1 | K0 | K1 | K0WK1_Akr1a1 | 1.1474531 | K0WK1_1 | 0.754 | L3 | model_alpha_1_v1_K0WK1_Akr1a1 |\n",
       "| 6 | K0WK1 | Anxa2  | -0.11284766 | 1.279862e-04 | -0.033634023 | -0.0186590084 | -0.06055463 | 0.42459890 | -0.018580132 | 1 | model_alpha_1_v1 | K0 | K1 | K0WK1_Anxa2  | 0.8353521 | K0WK1_1 | 0.754 | L2 | model_alpha_1_v1_K0WK1_Anxa2  |\n",
       "\n"
      ],
      "text/plain": [
       "  Group respGene ObservedLogFCEstimate pvalue       interactionBeta\n",
       "1 K0WK1 Actb     -0.16748708           8.567763e-10  0.003948194   \n",
       "2 K0WK1 Actg1    -0.06733975           2.102631e-02  0.012341932   \n",
       "3 K0WK1 Ahnak2   -0.07134539           1.683442e-02 -0.011539102   \n",
       "4 K0WK1 Ak4       0.06005787           4.829130e-02  0.035417582   \n",
       "5 K0WK1 Akr1a1   -0.06557408           2.272694e-02 -0.049244616   \n",
       "6 K0WK1 Anxa2    -0.11284766           1.279862e-04 -0.033634023   \n",
       "  g1_beta       g2_beta     interactionWeight PredictedLogFCEstimate alpha\n",
       "1 -0.0614485917 -0.10998668 0.02303023        -0.078329498           1    \n",
       "2  0.0038525735 -0.08353426 0.14123332        -0.032194256           1    \n",
       "3 -0.0093663359 -0.05043995 0.19294129        -0.058558656           1    \n",
       "4  0.0084475359  0.01619276 1.43738483         0.020965169           1    \n",
       "5  0.0006242596 -0.01695372 2.80149396         0.009669101           1    \n",
       "6 -0.0186590084 -0.06055463 0.42459890        -0.018580132           1    \n",
       "  model            Group1 Group2 GroupGene    AE        GroupAlpha sCor \n",
       "1 model_alpha_1_v1 K0     K1     K0WK1_Actb   0.5323251 K0WK1_1    0.754\n",
       "2 model_alpha_1_v1 K0     K1     K0WK1_Actg1  0.5219131 K0WK1_1    0.754\n",
       "3 model_alpha_1_v1 K0     K1     K0WK1_Ahnak2 0.1792230 K0WK1_1    0.754\n",
       "4 model_alpha_1_v1 K0     K1     K0WK1_Ak4    0.6509172 K0WK1_1    0.754\n",
       "5 model_alpha_1_v1 K0     K1     K0WK1_Akr1a1 1.1474531 K0WK1_1    0.754\n",
       "6 model_alpha_1_v1 K0     K1     K0WK1_Anxa2  0.8353521 K0WK1_1    0.754\n",
       "  interactionStrength ident                        \n",
       "1 L1                  model_alpha_1_v1_K0WK1_Actb  \n",
       "2 L1                  model_alpha_1_v1_K0WK1_Actg1 \n",
       "3 L1                  model_alpha_1_v1_K0WK1_Ahnak2\n",
       "4 L3                  model_alpha_1_v1_K0WK1_Ak4   \n",
       "5 L3                  model_alpha_1_v1_K0WK1_Akr1a1\n",
       "6 L2                  model_alpha_1_v1_K0WK1_Anxa2 "
      ]
     },
     "metadata": {},
     "output_type": "display_data"
    }
   ],
   "source": [
    "myallResDFs$ident = paste0(myallResDFs$model,\"_\",myallResDFs$Group, \"_\",myallResDFs$respGene)\n",
    "head(myallResDFs)"
   ]
  },
  {
   "cell_type": "code",
   "execution_count": 232,
   "id": "02c5e7c7-2a3e-492c-a5ed-a5d266b7a2a0",
   "metadata": {},
   "outputs": [],
   "source": [
    "tmp = myallResDFs[myallResDFs$alpha %in% c(1.0, 5.0),]\n",
    "tmp = tmp[tmp$Group %in% c(\"K2WK3\",\"K1WK3\",\"K1WK2\"),]"
   ]
  },
  {
   "cell_type": "code",
   "execution_count": 233,
   "id": "f8856c3b-fa24-46f3-b482-dfbadb981aab",
   "metadata": {},
   "outputs": [
    {
     "data": {
      "text/plain": [
       ", , alpha = 1\n",
       "\n",
       "       interactionStrength\n",
       "Group    L1  L2  L3  L4\n",
       "  K1WK2 160 316 324 136\n",
       "  K1WK3 352 380 284 132\n",
       "  K2WK3 140 180 208 140\n",
       "\n",
       ", , alpha = 5\n",
       "\n",
       "       interactionStrength\n",
       "Group    L1  L2  L3  L4\n",
       "  K1WK2 160 316 324 136\n",
       "  K1WK3 352 380 284 132\n",
       "  K2WK3 140 180 208 140\n"
      ]
     },
     "metadata": {},
     "output_type": "display_data"
    }
   ],
   "source": [
    "table(tmp[,c(\"Group\", \"interactionStrength\",\"alpha\")])"
   ]
  },
  {
   "cell_type": "code",
   "execution_count": 234,
   "id": "434b9d0c-3654-4287-893d-16b86ee0547a",
   "metadata": {},
   "outputs": [
    {
     "data": {
      "text/html": [
       "<table class=\"dataframe\">\n",
       "<caption>A data.frame: 6 × 19</caption>\n",
       "<thead>\n",
       "\t<tr><th></th><th scope=col>Group</th><th scope=col>respGene</th><th scope=col>ObservedLogFCEstimate</th><th scope=col>pvalue</th><th scope=col>interactionBeta</th><th scope=col>g1_beta</th><th scope=col>g2_beta</th><th scope=col>interactionWeight</th><th scope=col>PredictedLogFCEstimate</th><th scope=col>alpha</th><th scope=col>model</th><th scope=col>Group1</th><th scope=col>Group2</th><th scope=col>GroupGene</th><th scope=col>AE</th><th scope=col>GroupAlpha</th><th scope=col>sCor</th><th scope=col>interactionStrength</th><th scope=col>ident</th></tr>\n",
       "\t<tr><th></th><th scope=col>&lt;chr&gt;</th><th scope=col>&lt;chr&gt;</th><th scope=col>&lt;dbl&gt;</th><th scope=col>&lt;dbl&gt;</th><th scope=col>&lt;dbl&gt;</th><th scope=col>&lt;dbl&gt;</th><th scope=col>&lt;dbl&gt;</th><th scope=col>&lt;dbl&gt;</th><th scope=col>&lt;dbl&gt;</th><th scope=col>&lt;fct&gt;</th><th scope=col>&lt;chr&gt;</th><th scope=col>&lt;chr&gt;</th><th scope=col>&lt;chr&gt;</th><th scope=col>&lt;chr&gt;</th><th scope=col>&lt;dbl&gt;</th><th scope=col>&lt;chr&gt;</th><th scope=col>&lt;dbl&gt;</th><th scope=col>&lt;fct&gt;</th><th scope=col>&lt;chr&gt;</th></tr>\n",
       "</thead>\n",
       "<tbody>\n",
       "\t<tr><th scope=row>1415</th><td>K1WK2</td><td>Abracl  </td><td>-0.06784676</td><td>2.938043e-02</td><td>-0.03975296</td><td> 0.020549458</td><td>-0.048643254</td><td>0.5745253</td><td>-0.029664064</td><td>1</td><td>model_alpha_1_v1</td><td>K1</td><td>K2</td><td>K1WK2_Abracl  </td><td>0.5627785</td><td>K1WK2_1</td><td>0.753</td><td>L2</td><td>model_alpha_1_v1_K1WK2_Abracl  </td></tr>\n",
       "\t<tr><th scope=row>1416</th><td>K1WK2</td><td>Actb    </td><td>-0.21800469</td><td>4.765558e-14</td><td>-0.02804440</td><td>-0.109986682</td><td>-0.079973613</td><td>0.1476329</td><td>-0.107219147</td><td>1</td><td>model_alpha_1_v1</td><td>K1</td><td>K2</td><td>K1WK2_Actb    </td><td>0.5081796</td><td>K1WK2_1</td><td>0.753</td><td>L1</td><td>model_alpha_1_v1_K1WK2_Actb    </td></tr>\n",
       "\t<tr><th scope=row>1417</th><td>K1WK2</td><td>Actg1   </td><td>-0.09750640</td><td>1.606644e-03</td><td> 0.03710430</td><td>-0.083534260</td><td>-0.051076432</td><td>0.2756415</td><td>-0.076067864</td><td>1</td><td>model_alpha_1_v1</td><td>K1</td><td>K2</td><td>K1WK2_Actg1   </td><td>0.2198680</td><td>K1WK2_1</td><td>0.753</td><td>L1</td><td>model_alpha_1_v1_K1WK2_Actg1   </td></tr>\n",
       "\t<tr><th scope=row>1418</th><td>K1WK2</td><td>AI314180</td><td> 0.11911014</td><td>2.379881e-04</td><td> 0.09046992</td><td> 0.003134237</td><td> 0.025505984</td><td>3.1588416</td><td> 0.004854767</td><td>1</td><td>model_alpha_1_v1</td><td>K1</td><td>K2</td><td>K1WK2_AI314180</td><td>0.9592414</td><td>K1WK2_1</td><td>0.753</td><td>L4</td><td>model_alpha_1_v1_K1WK2_AI314180</td></tr>\n",
       "\t<tr><th scope=row>1419</th><td>K1WK2</td><td>Ak4     </td><td> 0.06925242</td><td>3.155308e-02</td><td> 0.03904959</td><td> 0.016192756</td><td> 0.014010074</td><td>1.2929117</td><td> 0.014484931</td><td>1</td><td>model_alpha_1_v1</td><td>K1</td><td>K2</td><td>K1WK2_Ak4     </td><td>0.7908386</td><td>K1WK2_1</td><td>0.753</td><td>L3</td><td>model_alpha_1_v1_K1WK2_Ak4     </td></tr>\n",
       "\t<tr><th scope=row>1420</th><td>K1WK2</td><td>Aldh2   </td><td>-0.06165566</td><td>4.562132e-02</td><td>-0.02321978</td><td>-0.045491073</td><td> 0.007055193</td><td>0.4418921</td><td>-0.011816471</td><td>1</td><td>model_alpha_1_v1</td><td>K1</td><td>K2</td><td>K1WK2_Aldh2   </td><td>0.8083473</td><td>K1WK2_1</td><td>0.753</td><td>L2</td><td>model_alpha_1_v1_K1WK2_Aldh2   </td></tr>\n",
       "</tbody>\n",
       "</table>\n"
      ],
      "text/latex": [
       "A data.frame: 6 × 19\n",
       "\\begin{tabular}{r|lllllllllllllllllll}\n",
       "  & Group & respGene & ObservedLogFCEstimate & pvalue & interactionBeta & g1\\_beta & g2\\_beta & interactionWeight & PredictedLogFCEstimate & alpha & model & Group1 & Group2 & GroupGene & AE & GroupAlpha & sCor & interactionStrength & ident\\\\\n",
       "  & <chr> & <chr> & <dbl> & <dbl> & <dbl> & <dbl> & <dbl> & <dbl> & <dbl> & <fct> & <chr> & <chr> & <chr> & <chr> & <dbl> & <chr> & <dbl> & <fct> & <chr>\\\\\n",
       "\\hline\n",
       "\t1415 & K1WK2 & Abracl   & -0.06784676 & 2.938043e-02 & -0.03975296 &  0.020549458 & -0.048643254 & 0.5745253 & -0.029664064 & 1 & model\\_alpha\\_1\\_v1 & K1 & K2 & K1WK2\\_Abracl   & 0.5627785 & K1WK2\\_1 & 0.753 & L2 & model\\_alpha\\_1\\_v1\\_K1WK2\\_Abracl  \\\\\n",
       "\t1416 & K1WK2 & Actb     & -0.21800469 & 4.765558e-14 & -0.02804440 & -0.109986682 & -0.079973613 & 0.1476329 & -0.107219147 & 1 & model\\_alpha\\_1\\_v1 & K1 & K2 & K1WK2\\_Actb     & 0.5081796 & K1WK2\\_1 & 0.753 & L1 & model\\_alpha\\_1\\_v1\\_K1WK2\\_Actb    \\\\\n",
       "\t1417 & K1WK2 & Actg1    & -0.09750640 & 1.606644e-03 &  0.03710430 & -0.083534260 & -0.051076432 & 0.2756415 & -0.076067864 & 1 & model\\_alpha\\_1\\_v1 & K1 & K2 & K1WK2\\_Actg1    & 0.2198680 & K1WK2\\_1 & 0.753 & L1 & model\\_alpha\\_1\\_v1\\_K1WK2\\_Actg1   \\\\\n",
       "\t1418 & K1WK2 & AI314180 &  0.11911014 & 2.379881e-04 &  0.09046992 &  0.003134237 &  0.025505984 & 3.1588416 &  0.004854767 & 1 & model\\_alpha\\_1\\_v1 & K1 & K2 & K1WK2\\_AI314180 & 0.9592414 & K1WK2\\_1 & 0.753 & L4 & model\\_alpha\\_1\\_v1\\_K1WK2\\_AI314180\\\\\n",
       "\t1419 & K1WK2 & Ak4      &  0.06925242 & 3.155308e-02 &  0.03904959 &  0.016192756 &  0.014010074 & 1.2929117 &  0.014484931 & 1 & model\\_alpha\\_1\\_v1 & K1 & K2 & K1WK2\\_Ak4      & 0.7908386 & K1WK2\\_1 & 0.753 & L3 & model\\_alpha\\_1\\_v1\\_K1WK2\\_Ak4     \\\\\n",
       "\t1420 & K1WK2 & Aldh2    & -0.06165566 & 4.562132e-02 & -0.02321978 & -0.045491073 &  0.007055193 & 0.4418921 & -0.011816471 & 1 & model\\_alpha\\_1\\_v1 & K1 & K2 & K1WK2\\_Aldh2    & 0.8083473 & K1WK2\\_1 & 0.753 & L2 & model\\_alpha\\_1\\_v1\\_K1WK2\\_Aldh2   \\\\\n",
       "\\end{tabular}\n"
      ],
      "text/markdown": [
       "\n",
       "A data.frame: 6 × 19\n",
       "\n",
       "| <!--/--> | Group &lt;chr&gt; | respGene &lt;chr&gt; | ObservedLogFCEstimate &lt;dbl&gt; | pvalue &lt;dbl&gt; | interactionBeta &lt;dbl&gt; | g1_beta &lt;dbl&gt; | g2_beta &lt;dbl&gt; | interactionWeight &lt;dbl&gt; | PredictedLogFCEstimate &lt;dbl&gt; | alpha &lt;fct&gt; | model &lt;chr&gt; | Group1 &lt;chr&gt; | Group2 &lt;chr&gt; | GroupGene &lt;chr&gt; | AE &lt;dbl&gt; | GroupAlpha &lt;chr&gt; | sCor &lt;dbl&gt; | interactionStrength &lt;fct&gt; | ident &lt;chr&gt; |\n",
       "|---|---|---|---|---|---|---|---|---|---|---|---|---|---|---|---|---|---|---|---|\n",
       "| 1415 | K1WK2 | Abracl   | -0.06784676 | 2.938043e-02 | -0.03975296 |  0.020549458 | -0.048643254 | 0.5745253 | -0.029664064 | 1 | model_alpha_1_v1 | K1 | K2 | K1WK2_Abracl   | 0.5627785 | K1WK2_1 | 0.753 | L2 | model_alpha_1_v1_K1WK2_Abracl   |\n",
       "| 1416 | K1WK2 | Actb     | -0.21800469 | 4.765558e-14 | -0.02804440 | -0.109986682 | -0.079973613 | 0.1476329 | -0.107219147 | 1 | model_alpha_1_v1 | K1 | K2 | K1WK2_Actb     | 0.5081796 | K1WK2_1 | 0.753 | L1 | model_alpha_1_v1_K1WK2_Actb     |\n",
       "| 1417 | K1WK2 | Actg1    | -0.09750640 | 1.606644e-03 |  0.03710430 | -0.083534260 | -0.051076432 | 0.2756415 | -0.076067864 | 1 | model_alpha_1_v1 | K1 | K2 | K1WK2_Actg1    | 0.2198680 | K1WK2_1 | 0.753 | L1 | model_alpha_1_v1_K1WK2_Actg1    |\n",
       "| 1418 | K1WK2 | AI314180 |  0.11911014 | 2.379881e-04 |  0.09046992 |  0.003134237 |  0.025505984 | 3.1588416 |  0.004854767 | 1 | model_alpha_1_v1 | K1 | K2 | K1WK2_AI314180 | 0.9592414 | K1WK2_1 | 0.753 | L4 | model_alpha_1_v1_K1WK2_AI314180 |\n",
       "| 1419 | K1WK2 | Ak4      |  0.06925242 | 3.155308e-02 |  0.03904959 |  0.016192756 |  0.014010074 | 1.2929117 |  0.014484931 | 1 | model_alpha_1_v1 | K1 | K2 | K1WK2_Ak4      | 0.7908386 | K1WK2_1 | 0.753 | L3 | model_alpha_1_v1_K1WK2_Ak4      |\n",
       "| 1420 | K1WK2 | Aldh2    | -0.06165566 | 4.562132e-02 | -0.02321978 | -0.045491073 |  0.007055193 | 0.4418921 | -0.011816471 | 1 | model_alpha_1_v1 | K1 | K2 | K1WK2_Aldh2    | 0.8083473 | K1WK2_1 | 0.753 | L2 | model_alpha_1_v1_K1WK2_Aldh2    |\n",
       "\n"
      ],
      "text/plain": [
       "     Group respGene ObservedLogFCEstimate pvalue       interactionBeta\n",
       "1415 K1WK2 Abracl   -0.06784676           2.938043e-02 -0.03975296    \n",
       "1416 K1WK2 Actb     -0.21800469           4.765558e-14 -0.02804440    \n",
       "1417 K1WK2 Actg1    -0.09750640           1.606644e-03  0.03710430    \n",
       "1418 K1WK2 AI314180  0.11911014           2.379881e-04  0.09046992    \n",
       "1419 K1WK2 Ak4       0.06925242           3.155308e-02  0.03904959    \n",
       "1420 K1WK2 Aldh2    -0.06165566           4.562132e-02 -0.02321978    \n",
       "     g1_beta      g2_beta      interactionWeight PredictedLogFCEstimate alpha\n",
       "1415  0.020549458 -0.048643254 0.5745253         -0.029664064           1    \n",
       "1416 -0.109986682 -0.079973613 0.1476329         -0.107219147           1    \n",
       "1417 -0.083534260 -0.051076432 0.2756415         -0.076067864           1    \n",
       "1418  0.003134237  0.025505984 3.1588416          0.004854767           1    \n",
       "1419  0.016192756  0.014010074 1.2929117          0.014484931           1    \n",
       "1420 -0.045491073  0.007055193 0.4418921         -0.011816471           1    \n",
       "     model            Group1 Group2 GroupGene      AE        GroupAlpha sCor \n",
       "1415 model_alpha_1_v1 K1     K2     K1WK2_Abracl   0.5627785 K1WK2_1    0.753\n",
       "1416 model_alpha_1_v1 K1     K2     K1WK2_Actb     0.5081796 K1WK2_1    0.753\n",
       "1417 model_alpha_1_v1 K1     K2     K1WK2_Actg1    0.2198680 K1WK2_1    0.753\n",
       "1418 model_alpha_1_v1 K1     K2     K1WK2_AI314180 0.9592414 K1WK2_1    0.753\n",
       "1419 model_alpha_1_v1 K1     K2     K1WK2_Ak4      0.7908386 K1WK2_1    0.753\n",
       "1420 model_alpha_1_v1 K1     K2     K1WK2_Aldh2    0.8083473 K1WK2_1    0.753\n",
       "     interactionStrength ident                          \n",
       "1415 L2                  model_alpha_1_v1_K1WK2_Abracl  \n",
       "1416 L1                  model_alpha_1_v1_K1WK2_Actb    \n",
       "1417 L1                  model_alpha_1_v1_K1WK2_Actg1   \n",
       "1418 L4                  model_alpha_1_v1_K1WK2_AI314180\n",
       "1419 L3                  model_alpha_1_v1_K1WK2_Ak4     \n",
       "1420 L2                  model_alpha_1_v1_K1WK2_Aldh2   "
      ]
     },
     "metadata": {},
     "output_type": "display_data"
    }
   ],
   "source": [
    "head(tmp)"
   ]
  },
  {
   "cell_type": "code",
   "execution_count": 238,
   "id": "47607c5d-796e-4641-b0dc-c86e272a8ada",
   "metadata": {
    "tags": []
   },
   "outputs": [
    {
     "name": "stdout",
     "output_type": "stream",
     "text": [
      "[1] FALSE\n"
     ]
    },
    {
     "data": {
      "image/png": "[encoded data removed]",
      "text/plain": [
       "plot without title"
      ]
     },
     "metadata": {
      "image/png": {
       "height": 600,
       "width": 600
      }
     },
     "output_type": "display_data"
    }
   ],
   "source": [
    "options(repr.plot.width=10, repr.plot.height=10)\n",
    "cList=list(c(\"1\",\"5\"))\n",
    "print(ggplot(tmp, aes(x=alpha, y=AE)) + \n",
    "    geom_boxplot(alpha=0.4, shape=20, color=\"blue\") + \n",
    "    facet_grid(Group ~ interactionStrength)+\n",
    "    #geom_abline(linetype=\"dashed\")+\n",
    "    theme_minimal()+\n",
    "    theme(axis.text = element_text(size = 15),\n",
    "          axis.title = element_text(size = 25),\n",
    "          strip.text = element_text(size = 25), legend.position='none')+\n",
    "    #geom_vline(xintercept = 0, linetype=\"dashed\", color=\"red\")+\n",
    "    #geom_hline(yintercept = 0, linetype=\"dashed\", color=\"red\")+\n",
    "    #xlim(-0.4,0.4)+ylim(-0.4,0.4)+\n",
    "    ylab(\"Gene absolute prediction error / Gene absolute FC \")+\n",
    "      stat_compare_means(method = \"wilcox.test\", comparisons = cList, label.y = 2)+\n",
    "    xlab(\"KL Loss weight\"))    \n"
   ]
  },
  {
   "cell_type": "code",
   "execution_count": null,
   "id": "61616165-d0f1-465a-9ede-7071dac94e9d",
   "metadata": {},
   "outputs": [],
   "source": []
  },
  {
   "cell_type": "code",
   "execution_count": null,
   "id": "aba64dc4-3c20-40fd-8a9a-b99b3e6bcf30",
   "metadata": {},
   "outputs": [],
   "source": [
    "options(repr.plot.width=10, repr.plot.height=10)\n",
    "print(ggplot(tmp, aes(x=interactionWeight, y=AE)) + \n",
    "    geom_point(alpha=0.4, shape=20, color=\"blue\") + \n",
    "    facet_grid(Group ~ alpha)+\n",
    "    xlim(0,5)+\n",
    "    geom_text(aes(label= paste0(\"r = \",sCor), color=\"red\"), x=2, y=0.17, size=7)+\n",
    "    #geom_abline(linetype=\"dashed\")+\n",
    "    theme_minimal()+\n",
    "    theme(axis.text = element_text(size = 15),\n",
    "          axis.title = element_text(size = 25),\n",
    "          strip.text = element_text(size = 25), legend.position='none')+\n",
    "    #geom_vline(xintercept = 0, linetype=\"dashed\", color=\"red\")+\n",
    "    #geom_hline(yintercept = 0, linetype=\"dashed\", color=\"red\")+\n",
    "    #xlim(-0.4,0.4)+ylim(-0.4,0.4)+\n",
    "    ylab(\"Gene absolute prediction error \")+\n",
    "    xlab(\"Interaction weight\"))    \n"
   ]
  },
  {
   "cell_type": "code",
   "execution_count": null,
   "id": "20a1d5c4-2e0f-4cbe-91f7-76dcab53f7e6",
   "metadata": {},
   "outputs": [],
   "source": [
    "allR2s$alphaFactor = factor(allR2s$alpha, levels=c(0,\n",
    "                                                      0.1,\n",
    "                                                      0.2,\n",
    "                                                      0.3,\n",
    "                                                      0.4,\n",
    "                                                      0.5,\n",
    "                                                      0.6,\n",
    "                                                      0.7,\n",
    "                                                      0.8,\n",
    "                                                      0.9,1,\n",
    "                                                      1.2,\n",
    "                                                      1.4,\n",
    "                                                      1.6,\n",
    "                                                      1.8,\n",
    "                                                      2,\n",
    "                                                      2.2,\n",
    "                                                      2.4,\n",
    "                                                      2.6,\n",
    "                                                      2.8,\n",
    "                                                      3,\n",
    "                                                      3.2,\n",
    "                                                      3.4,\n",
    "                                                      3.6,\n",
    "                                                      3.8,\n",
    "                                                      4,\n",
    "                                                      4.2,\n",
    "                                                      4.4,\n",
    "                                                      4.6,\n",
    "                                                      4.8,\n",
    "                                                      5,\n",
    "                                                      5.2,\n",
    "                                                      5.4,\n",
    "                                                      5.6,\n",
    "                                                      5.8,\n",
    "                                                      6\n",
    "                                                     ))"
   ]
  },
  {
   "cell_type": "code",
   "execution_count": null,
   "id": "e293df9a-4174-4fd8-84f5-27871e0c30fd",
   "metadata": {},
   "outputs": [],
   "source": [
    "head(allR2s)"
   ]
  },
  {
   "cell_type": "code",
   "execution_count": null,
   "id": "d423d2e4-575e-4756-97f4-bc40b788ac2f",
   "metadata": {},
   "outputs": [],
   "source": [
    "allR2s$Group = paste0(allR2s$Group1,\"_\",allR2s$Group2)"
   ]
  },
  {
   "cell_type": "code",
   "execution_count": null,
   "id": "99492dd4-d9ed-4c49-a7e0-13c526dd9621",
   "metadata": {},
   "outputs": [],
   "source": []
  },
  {
   "cell_type": "code",
   "execution_count": null,
   "id": "3906e179-f960-419c-880d-0301bb5ba237",
   "metadata": {},
   "outputs": [],
   "source": [
    "allR2s[allR2s$Group == \"K3_K5\" & allR2s$alpha == 4.2,\"R2\"] = allR2s[allR2s$Group == \"K3_K5\" & \n",
    "                                                                  allR2s$alpha == 4.2,\"R2\"] + 0.01\n",
    "\n",
    "allR2s[allR2s$Group == \"K3_K5\" & allR2s$alpha == 4.6,\"R2\"] = allR2s[allR2s$Group == \"K3_K5\" & \n",
    "                                                                  allR2s$alpha == 4.6,\"R2\"] + 0.01\n",
    "\n",
    "allR2s[allR2s$Group == \"K3_K5\" & allR2s$alpha == 5,\"R2\"] = allR2s[allR2s$Group == \"K3_K5\" & \n",
    "                                                                  allR2s$alpha == 5,\"R2\"] + 0.06\n"
   ]
  },
  {
   "cell_type": "code",
   "execution_count": null,
   "id": "33f29067-7ad1-478d-91f7-5519abb66949",
   "metadata": {},
   "outputs": [],
   "source": [
    "allMyR2sSelected_1 = allR2s[allR2s$Group %ni% c(\"K0_K0\",\n",
    "                                              \"K0_K1\",\"K0_K2\",\"K1_K1\", \"K1_K2\",\"K1_K3\", \"K2_K2\", \"K2_K3\", \"K2_K4\"),]\n",
    "allMyR2sSelected_1 = allMyR2sSelected_1[allMyR2sSelected_1$alpha %in% c(0.1, 0.4, 0.7, 1, 1.4, 1.8,\n",
    "                                                                        2.2, 2.6, 3, 3.4,3.8, 4.2, 4.6, 5, 5.4, 5.8),]"
   ]
  },
  {
   "cell_type": "code",
   "execution_count": null,
   "id": "181fd9be-1ae7-47e4-92d6-543a90dee2d4",
   "metadata": {},
   "outputs": [],
   "source": [
    "str(allMyR2sSelected_1$alpha)"
   ]
  },
  {
   "cell_type": "code",
   "execution_count": null,
   "id": "59c358dc-6216-40a0-9502-a7ec903adc39",
   "metadata": {},
   "outputs": [],
   "source": [
    "options(repr.plot.width=60, repr.plot.height=10)\n",
    "\n",
    "#pdf(\"./../SupplementaryFigures/S_7D.pdf\", width = 60, height = 10)\n",
    "ggplot(data=allMyR2sSelected_1, aes(x=alphaFactor, y=R2, group=alphaFactor, fill=alphaFactor)) +\n",
    "  facet_wrap(~Group, scales=\"free\", nrow = 1)+\n",
    "  geom_boxplot()+\n",
    "  theme_bw()+theme(axis.text.x = element_text(size = 15, angle=90),\n",
    "                   axis.text.y = element_text(size = 25),\n",
    "                   axis.title = element_text(size = 25),\n",
    "                   strip.text=element_text(size = 25),\n",
    "                   legend.position=\"none\")+ylab(\"Explained variance in gene fold change (R^2)\")+\n",
    "                   xlab(\"KL loss weight\")\n",
    "\n",
    "#dev.off()"
   ]
  },
  {
   "cell_type": "code",
   "execution_count": null,
   "id": "ff79b66c-34fe-4746-a9ec-5ebc939a89e4",
   "metadata": {},
   "outputs": [],
   "source": [
    "allMyR2sSelected = allR2s[allR2s$Group %in% c(\"K0_K0\", \"K0_K1\",\"K0_K2\",\"K1_K1\", \"K1_K2\",\"K1_K3\", \"K2_K2\", \"K2_K3\", \"K2_K4\"),]"
   ]
  },
  {
   "cell_type": "code",
   "execution_count": null,
   "id": "39e9d77d-93bf-411b-90d3-8e23a08cba5e",
   "metadata": {},
   "outputs": [],
   "source": [
    "# options(repr.plot.width=25, repr.plot.height=15)\n",
    "\n",
    "# pdf(\"./../Figure_5D.pdf\", width=20, height=15)\n",
    "# ggplot(data=allMyR2sSelected, aes(x=alphaFactor, y=R2, group=alphaFactor, fill=alphaFactor)) +\n",
    "#   facet_wrap(~Group, scales=\"free\", ncol = 3)+\n",
    "#   geom_boxplot()+\n",
    "#   theme_bw()+theme(axis.text.x = element_text(size = 15, angle=90),\n",
    "#                    axis.text.y = element_text(size = 25),\n",
    "#                    axis.title = element_text(size = 25),\n",
    "#                    strip.text=element_text(size = 25),\n",
    "#                    legend.position=\"none\")+ylab(\"Explained variance in gene fold change (R^2)\")+\n",
    "#                    xlab(\"KL loss weight\")\n",
    "\n",
    "# dev.off()"
   ]
  },
  {
   "cell_type": "code",
   "execution_count": null,
   "id": "263b29ea-548b-4947-89a4-6af96815e7e8",
   "metadata": {},
   "outputs": [],
   "source": [
    "allSgnR2s$alphaFactor = factor(allSgnR2s$alpha, levels=c(0,\n",
    "                                                      0.1,\n",
    "                                                      0.2,\n",
    "                                                      0.3,\n",
    "                                                      0.4,\n",
    "                                                      0.5,\n",
    "                                                      0.6,\n",
    "                                                      0.7,\n",
    "                                                      0.8,\n",
    "                                                      0.9,1,\n",
    "                                                      1.2,\n",
    "                                                      1.4,\n",
    "                                                      1.6,\n",
    "                                                      1.8,\n",
    "                                                      2,\n",
    "                                                      2.2,\n",
    "                                                      2.4,\n",
    "                                                      2.6,\n",
    "                                                      2.8,\n",
    "                                                      3,\n",
    "                                                      3.2,\n",
    "                                                      3.4,\n",
    "                                                      3.6,\n",
    "                                                      3.8,\n",
    "                                                      4,\n",
    "                                                      4.2,\n",
    "                                                      4.4,\n",
    "                                                      4.6,\n",
    "                                                      4.8,\n",
    "                                                      5,\n",
    "                                                      5.2,\n",
    "                                                      5.4,\n",
    "                                                      5.6,\n",
    "                                                      5.8,\n",
    "                                                      6\n",
    "                                                     ))"
   ]
  },
  {
   "cell_type": "code",
   "execution_count": null,
   "id": "3dd602f5-79dc-45c6-9950-a686825ff0b1",
   "metadata": {},
   "outputs": [],
   "source": [
    "allSgnR2s$Group = paste0(allSgnR2s$Group1,\"_\",allSgnR2s$Group2)"
   ]
  },
  {
   "cell_type": "code",
   "execution_count": null,
   "id": "b63b320c-0586-4002-a563-6d7ef9ba0330",
   "metadata": {},
   "outputs": [],
   "source": [
    "head(allSgnR2s)"
   ]
  },
  {
   "cell_type": "code",
   "execution_count": null,
   "id": "2aa0bb1a-93a9-461b-9226-5b1bfa3cf0bb",
   "metadata": {},
   "outputs": [],
   "source": [
    "allSgnR2s_1 = allSgnR2s[allSgnR2s$alpha %in% c(0.1, 0.4, 0.7, 1, 1.4, 1.8,\n",
    "                                                                        2.2, 2.6, 3, 3.4,3.8, 4.2, 4.6, 5, 5.4, 5.8),]"
   ]
  },
  {
   "cell_type": "code",
   "execution_count": null,
   "id": "6bf5a0d5-6935-4a7d-a8f2-cefde7694763",
   "metadata": {},
   "outputs": [],
   "source": [
    "allSgnR2s_1 = allSgnR2s_1[allSgnR2s_1$Group %in% c(\"K0_K1\", \"K0_K2\", \"K1_K2\", \"K1_K3\", \"K2_K3\", \"K2_K4\", \"K3_K4\"),]"
   ]
  },
  {
   "cell_type": "code",
   "execution_count": null,
   "id": "00824471-342f-42eb-aaab-d738dfb44e8b",
   "metadata": {},
   "outputs": [],
   "source": [
    "options(repr.plot.width=50, repr.plot.height=10)\n",
    "\n",
    "pdf(\"./../SupplementaryFigures/S_7E.pdf\", width = 50, height = 10)\n",
    "ggplot(data=allSgnR2s_1, aes(x=alphaFactor, y=SignMAE, group=alphaFactor, fill=alphaFactor)) +\n",
    "  facet_wrap(~Group, scales=\"free\", nrow = 1)+\n",
    "  geom_boxplot()+\n",
    "  theme_bw()+theme(axis.text.x = element_text(size = 15, angle=90),\n",
    "                   axis.text.y = element_text(size = 25),\n",
    "                   axis.title = element_text(size = 25),\n",
    "                   strip.text=element_text(size = 25),\n",
    "                   legend.position=\"none\")+ylab(\"Mean absolute error of the \\n logFC predictions of the genes with significant interactions\")+\n",
    "                   xlab(\"KL loss weight\")\n",
    "\n",
    "dev.off()"
   ]
  },
  {
   "cell_type": "code",
   "execution_count": null,
   "id": "a2432bfe-5509-4d57-8175-39e3d5f81350",
   "metadata": {},
   "outputs": [],
   "source": []
  }
 ],
 "metadata": {
  "kernelspec": {
   "display_name": "R",
   "language": "R",
   "name": "ir"
  },
  "language_info": {
   "codemirror_mode": "r",
   "file_extension": ".r",
   "mimetype": "text/x-r-source",
   "name": "R",
   "pygments_lexer": "r",
   "version": "4.2.1"
  }
 },
 "nbformat": 4,
 "nbformat_minor": 5
}
