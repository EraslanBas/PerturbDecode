{
 "cells": [
  {
   "cell_type": "code",
   "execution_count": null,
   "id": "59151ca5-6916-4e14-87db-92a81556fef6",
   "metadata": {
    "tags": []
   },
   "outputs": [],
   "source": [
    "source(\"Main.R\")\n",
    "source(\"Conf.R\")\n",
    "source(\"Utilities.R\")\n",
    "library(\"factoextra\")\n",
    "library(\"maptree\")\n",
    "library(repr)\n",
    "library(\"igraph\")"
   ]
  },
  {
   "cell_type": "code",
   "execution_count": null,
   "id": "49bf3500-6919-4f88-9dbc-a2d6516b5383",
   "metadata": {
    "tags": []
   },
   "outputs": [],
   "source": [
    "coefsAll <- as.data.frame(read.csv(file.path(projectDir,\"MixedEffectLMOutputs\",\n",
    "                                             \"ME_LMBetaCoefsALL.csv\"), \n",
    "                                   row.names = 1),\n",
    "                          stringsAsFactors = FALSE)\n",
    "\n",
    "coefsAll <- coefsAll[rownames(coefsAll) %ni% c(\"Intercept\", \"n_genes\", \"mt_frac\", \"Group Var\"),]\n",
    "\n",
    "pValsAllAdj <- as.data.frame(read.csv(file.path(projectDir,\"MixedEffectLMOutputs\",\n",
    "                                                \"ME_LMBetaFDRALL.csv\"), \n",
    "                     row.names = 1), stringsAsFactors = FALSE)"
   ]
  },
  {
   "cell_type": "code",
   "execution_count": null,
   "id": "67329c92-309c-4df0-9b2c-c10a06a24bcf",
   "metadata": {},
   "outputs": [],
   "source": [
    "guideModules = read.csv(\"./../TextFiles/ME_GuideModules_leiden_6_Modules.csv\", row.names = 1)\n",
    "guideModules$GuideName <- NULL\n",
    "guideModules$GuideGroup <- paste0(\"K\", guideModules$GuideGroup)\n",
    "guideModules$GuideGroup <- factor(guideModules$GuideGroup)"
   ]
  },
  {
   "cell_type": "code",
   "execution_count": null,
   "id": "ed46840a-23d1-4130-9f88-607a9e816d7e",
   "metadata": {},
   "outputs": [],
   "source": [
    "rownames(coefsAll) = sapply(rownames(coefsAll), \n",
    "                            function(x){strsplit(as.character(x),\"_\")[[1]][2]})\n",
    "rownames(pValsAllAdj) = sapply(rownames(pValsAllAdj), \n",
    "                               function(x){strsplit(as.character(x),\"_\")[[1]][2]})\n",
    "coefsAll[pValsAllAdj > 0.1 ] = 0"
   ]
  },
  {
   "cell_type": "code",
   "execution_count": null,
   "id": "16d6d4c4-9f00-4ff6-abcb-1b0da3b9fbf8",
   "metadata": {},
   "outputs": [],
   "source": [
    "coefsAllSign = as.data.frame(read.csv(file.path(projectDir,\"MixedEffectLMOutputs\",\n",
    "                                                \"ME_SignificantBetaCoefs.csv\"),\n",
    "                                      row.names = 1),\n",
    "                             stringsAsFactors = FALSE)\n",
    "rownames(coefsAllSign) = sapply(rownames(coefsAllSign),\n",
    "                                function(x){strsplit(as.character(x),\"_\")[[1]][2]})\n",
    "pValsAllAdjSgn <- pValsAllAdj[rownames(coefsAllSign), colnames(coefsAllSign)]\n",
    "coefsAllSign[pValsAllAdjSgn > 0.1] = 0"
   ]
  },
  {
   "cell_type": "code",
   "execution_count": null,
   "id": "c50ed024-2676-4a2f-a52c-a4078711ed58",
   "metadata": {},
   "outputs": [],
   "source": [
    "coefsAll$Rfwd2 = coefsAll$Cop1\n",
    "coefsAll$Tceb1 = coefsAll$Eloc  \n",
    "coefsAll$Tceb3 = coefsAll$Eloa\n",
    "coefsAll$Vprbp = coefsAll$Dcaf1  \n",
    "coefsAll$Tceb2 = coefsAll$Elob"
   ]
  },
  {
   "cell_type": "code",
   "execution_count": null,
   "id": "0f2ede1b-8d60-45c6-9d3f-63f379c2afde",
   "metadata": {},
   "outputs": [],
   "source": [
    "koGuideNames <- rownames(coefsAll)\n",
    "length(koGuideNames)"
   ]
  },
  {
   "cell_type": "code",
   "execution_count": null,
   "id": "b71fea90-472d-4de4-afa6-d547f318efcd",
   "metadata": {},
   "outputs": [],
   "source": [
    "sgnkoGuideNames <- rownames(coefsAllSign)\n",
    "length(sgnkoGuideNames)"
   ]
  },
  {
   "cell_type": "code",
   "execution_count": null,
   "id": "fab7d912-6ee6-4d87-8b0b-06a6a7378604",
   "metadata": {},
   "outputs": [],
   "source": [
    "availKOs = koGuideNames[koGuideNames %in% colnames(coefsAll)]\n",
    "length(availKOs)"
   ]
  },
  {
   "cell_type": "code",
   "execution_count": null,
   "id": "7a3363f3-1e42-4405-ba58-efef11bfb954",
   "metadata": {},
   "outputs": [],
   "source": [
    "coefsAllE3s = coefsAll[availKOs, availKOs]\n",
    "dim(coefsAllE3s)"
   ]
  },
  {
   "cell_type": "code",
   "execution_count": null,
   "id": "1070b996-7fda-4ade-8213-dd9ff22aacc6",
   "metadata": {},
   "outputs": [],
   "source": [
    "availKOsSgn = sgnkoGuideNames[sgnkoGuideNames %in% colnames(coefsAll)]\n",
    "length(availKOsSgn)"
   ]
  },
  {
   "cell_type": "code",
   "execution_count": null,
   "id": "63164cf2-0275-4ab3-844e-bb078f72bce4",
   "metadata": {},
   "outputs": [],
   "source": [
    "realE3s = as.data.frame(read.csv(file.path(projectDir,\"ManuscriptFigures\",\"220610_regulators_metadata_E3_Complex.csv\")),\n",
    "                             stringsAsFactors = FALSE)\n",
    "e3s = unique(realE3s$Symbol_guides)\n",
    "e3s = e3s[e3s != '']"
   ]
  },
  {
   "cell_type": "code",
   "execution_count": null,
   "id": "0ac86add-21d7-46b3-bfcb-cd08922f37bd",
   "metadata": {},
   "outputs": [],
   "source": [
    "length(e3s)"
   ]
  },
  {
   "cell_type": "code",
   "execution_count": null,
   "id": "488ed6bf-a12c-4c8a-b0a6-4d37be160027",
   "metadata": {},
   "outputs": [],
   "source": [
    "availE3s = e3s[e3s %in% colnames(coefsAll)]\n",
    "length(availE3s)"
   ]
  },
  {
   "cell_type": "code",
   "execution_count": null,
   "id": "3b5d2cab-21f8-4428-8350-e581b0f24b1f",
   "metadata": {},
   "outputs": [],
   "source": [
    "e3s[e3s %ni% colnames(coefsAll)]"
   ]
  },
  {
   "cell_type": "code",
   "execution_count": null,
   "id": "590b5654-5559-406d-a021-e36cf37a3fe3",
   "metadata": {},
   "outputs": [],
   "source": [
    "k = diag(as.matrix(coefsAllE3s))"
   ]
  },
  {
   "cell_type": "code",
   "execution_count": null,
   "id": "b7df4ef1-75f2-4fc1-9496-7dc3271a9ff0",
   "metadata": {},
   "outputs": [],
   "source": [
    "length(k[k != 0])"
   ]
  },
  {
   "cell_type": "code",
   "execution_count": null,
   "id": "1657fb07-9b97-4661-b06e-a81587c8fd73",
   "metadata": {},
   "outputs": [],
   "source": [
    "length(k[k < 0])"
   ]
  },
  {
   "cell_type": "code",
   "execution_count": null,
   "id": "901a8caf-f9b1-431f-b1e7-2ee80874b5ee",
   "metadata": {},
   "outputs": [],
   "source": [
    "coefsAllE3s = coefsAll[availKOs, availKOs]\n",
    "options(repr.plot.width=8, repr.plot.height=8)\n",
    "\n",
    "coefsAllE3s[coefsAllE3s > 0.2] = 0.2\n",
    "coefsAllE3s[coefsAllE3s < -0.2] = -0.2\n",
    "\n",
    "xx <- pheatmap(coefsAllE3s, treeheight_col=0, treeheight_row=0, fontsize = 3,\n",
    "         cluster_rows=FALSE, cluster_cols=FALSE, color=colorRampPalette(c(\"navy\", \"white\", \"red\"))(50))\n",
    "\n",
    "#save_pheatmap_pdf(xx, \"../SupplementaryFigures/S_1H.pdf\", width=4, height=4)"
   ]
  },
  {
   "cell_type": "code",
   "execution_count": null,
   "id": "a0db7f2b-e66c-4be3-84e8-e81d58b3b335",
   "metadata": {},
   "outputs": [],
   "source": [
    "coefsAllE3s = coefsAll[e3s, availE3s]\n",
    "\n",
    "commonNames = rownames(coefsAllE3s)[rownames(coefsAllE3s) %in% colnames(coefsAllE3s)]\n",
    "for(elem in commonNames){\n",
    "    coefsAllE3s[elem,elem] = 0\n",
    "}\n",
    "\n",
    "\n",
    "\n",
    "dim(coefsAllE3s)"
   ]
  },
  {
   "cell_type": "code",
   "execution_count": null,
   "id": "376e749e-6c95-4a08-900e-ed470f86fea6",
   "metadata": {},
   "outputs": [],
   "source": [
    "nonzeroVals = apply(coefsAllE3s,1, function(x){length(x[x!= 0])})\n",
    "nonzeroVals = nonzeroVals[nonzeroVals > 0]\n",
    "coefsAllE3s = coefsAllE3s[names(nonzeroVals),]\n",
    "\n",
    "\n",
    "dim(coefsAllE3s)"
   ]
  },
  {
   "cell_type": "code",
   "execution_count": null,
   "id": "f80693ea-2072-4321-985b-cbb9ab694387",
   "metadata": {},
   "outputs": [],
   "source": [
    "nonzeroEfGenes = apply(coefsAllE3s,2, function(x){length(x[x!= 0])})\n",
    "nonzeroEfGenes = nonzeroEfGenes[nonzeroEfGenes > 0]\n",
    "coefsAllE3s = coefsAllE3s[,names(nonzeroEfGenes)]\n",
    "dim(coefsAllE3s)"
   ]
  },
  {
   "cell_type": "code",
   "execution_count": null,
   "id": "7d384aa3-c4e7-41f2-9aed-3868e3a51644",
   "metadata": {
    "tags": []
   },
   "outputs": [],
   "source": [
    "options(repr.plot.width=6, repr.plot.height=8)\n",
    "\n",
    "annoCols<-list(GeneGroup=c(G0='#A6CEE3',\n",
    "                           G1='#1F78B4',\n",
    "                           G2='#B2DF8A',\n",
    "                           G3='#33A02C', \n",
    "                           G4='#FB9A99', \n",
    "                           G5='#FDBF6F', \n",
    "                           G6='#FF7F00', \n",
    "                           G7='#CAB2D6',\n",
    "                           G8='#6A3D9A', \n",
    "                           G9='#FFFF99', \n",
    "                           G10=\"#B5651D\" ),\n",
    "                 GuideGroup=c(K0=\"#1f77b4\",\n",
    "                              K1=\"#ff7f0e\",\n",
    "                              K2=\"#279e68\",\n",
    "                              K3=\"#d62728\", \n",
    "                              K4=\"#aa40fc\", \n",
    "                              K5=\"#8c564b\"))\n",
    "   \n",
    "coefsAllE3s[coefsAllE3s > 0] = 1\n",
    "coefsAllE3s[coefsAllE3s < 0] = -1\n",
    "\n",
    "annotDFcol <- guideModules[colnames(coefsAllE3s),]\n",
    "annotDFrow <- guideModules[rownames(coefsAllE3s),]\n",
    "\n",
    "annotDFcol$GuideColor = NULL\n",
    "annotDFrow$GuideColor = NULL\n",
    "\n",
    "xx <- pheatmap(coefsAllE3s, \n",
    "               treeheight_col=0, \n",
    "               treeheight_row=0, \n",
    "               fontsize = 8,\n",
    "               clustering_method = \"ward.D2\",\n",
    "               cluster_rows=TRUE,\n",
    "               cluster_cols=TRUE, \n",
    "            annotation_col = annotDFcol,\n",
    "            annotation_row = annotDFrow,\n",
    "            annotation_colors = annoCols,\n",
    "               color=colorRampPalette(c(\"navy\", \"white\", \"red\"))(50)\n",
    "        )\n",
    "\n",
    "\n",
    "save_pheatmap_pdf(xx, \"Figure_S3B.pdf\", width=7, height=8)"
   ]
  },
  {
   "cell_type": "code",
   "execution_count": null,
   "id": "260af9cd-2806-4f4e-8b4c-6dc85334c1dc",
   "metadata": {},
   "outputs": [],
   "source": [
    "coefsAllE3s$KOGene = rownames(coefsAllE3s)\n",
    "coefsAllE3sSgnMelted = melt(coefsAllE3s, id.vars=\"KOGene\")\n",
    "coefsAllE3sSgnMelted = coefsAllE3sSgnMelted[coefsAllE3sSgnMelted$value != 0,]\n",
    "colnames(coefsAllE3sSgnMelted) = c(\"KOGene\", \"AffectedGene\", \"Value\")"
   ]
  },
  {
   "cell_type": "code",
   "execution_count": null,
   "id": "8549415a-1687-4247-af3b-e437515b1943",
   "metadata": {},
   "outputs": [],
   "source": [
    "set.seed(123)\n",
    "\n",
    "options(repr.plot.width=15, repr.plot.height=15)\n",
    "df.g <- graph.data.frame(d = coefsAllE3sSgnMelted, directed = TRUE)\n",
    "#df.g <- simplify(df.g)\n",
    "V(df.g)$label.cex = 1.7\n",
    "df.g\n",
    "E(df.g)$sign = ifelse( coefsAllE3sSgnMelted$Value > 0, 1, -1)\n",
    "E(df.g)$color <- ifelse( E(df.g)$sign > 0, \"pink\", \"lightblue\")\n",
    "\n",
    "coords <- layout_(df.g, nicely())\n",
    "\n",
    "plot(df.g, vertex.label = V(df.g)$name, vertex.size=1.5, vertex.label.dist=0.2, layout = coords)\n"
   ]
  },
  {
   "cell_type": "code",
   "execution_count": null,
   "id": "4f6d3bd4-119b-4631-ac5c-c6e9a4b33b47",
   "metadata": {},
   "outputs": [],
   "source": [
    "kkk = colnames(coefsAllE3s)[colnames(coefsAllE3s) %in% rownames(coefsAllE3s)]\n",
    "tmp = guideModules[kkk,]\n",
    "tmp=tmp[order(tmp$GuideGroup),]\n",
    "kkk=rownames(tmp)\n",
    "kkk"
   ]
  },
  {
   "cell_type": "code",
   "execution_count": null,
   "id": "02e1cddc-32c6-4641-b925-bb064000404a",
   "metadata": {},
   "outputs": [],
   "source": [
    "options(repr.plot.width=6, repr.plot.height=4)\n",
    "\n",
    "onlyE3s = coefsAll[kkk,kkk]\n",
    "\n",
    "annotDFcol <- guideModules[colnames(onlyE3s),]\n",
    "annotDFrow <- guideModules[rownames(onlyE3s),]\n",
    "\n",
    "annotDFcol$GuideColor = NULL\n",
    "annotDFrow$GuideColor = NULL\n",
    "\n",
    "onlyE3s[onlyE3s > 0] = 1\n",
    "onlyE3s[onlyE3s < 0] = -1\n",
    "\n",
    "xx <- pheatmap(onlyE3s, \n",
    "               treeheight_col=0, \n",
    "               treeheight_row=0, \n",
    "               fontsize = 12,\n",
    "               clustering_method = \"ward.D2\",\n",
    "               cluster_rows=FALSE,\n",
    "               cluster_cols=FALSE, \n",
    "            annotation_col = annotDFcol,\n",
    "            annotation_row = annotDFrow,\n",
    "            annotation_colors = annoCols,\n",
    "               color=colorRampPalette(c(\"navy\", \"white\", \"red\"))(50)\n",
    "        )\n",
    "\n",
    "save_pheatmap_pdf(xx, \"Figure_S3XX.pdf\", width=6, height=4)"
   ]
  },
  {
   "cell_type": "code",
   "execution_count": null,
   "id": "b1addf2a-27b3-426c-a4c5-17d706a1b490",
   "metadata": {},
   "outputs": [],
   "source": [
    "c2 = cluster_edge_betweenness(df.g)\n",
    "modularity(c2)"
   ]
  }
 ],
 "metadata": {
  "kernelspec": {
   "display_name": "R",
   "language": "R",
   "name": "ir"
  },
  "language_info": {
   "codemirror_mode": "r",
   "file_extension": ".r",
   "mimetype": "text/x-r-source",
   "name": "R",
   "pygments_lexer": "r",
   "version": "4.2.1"
  }
 },
 "nbformat": 4,
 "nbformat_minor": 5
}
