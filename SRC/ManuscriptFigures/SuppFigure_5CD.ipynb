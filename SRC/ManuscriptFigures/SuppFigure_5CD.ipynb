{
 "cells": [
  {
   "cell_type": "code",
   "execution_count": null,
   "id": "8bba07c6-6749-483b-b093-736243ab63a2",
   "metadata": {
    "tags": []
   },
   "outputs": [],
   "source": [
    "source(\"Main.R\")\n",
    "source(\"Conf.R\")\n",
    "source(\"Utilities.R\")\n",
    "\n",
    "geneCutOff=4\n",
    "targetCutOff=15\n",
    "nFactors=15"
   ]
  },
  {
   "cell_type": "code",
   "execution_count": null,
   "id": "d7499538-ab58-487d-960a-3cc63686349b",
   "metadata": {},
   "outputs": [],
   "source": [
    "myR2 <- function(preds, actual){\n",
    "    rss <- sum((preds - actual) ^ 2)  ## residual sum of squares\n",
    "    tss <- sum((actual - mean(actual)) ^ 2)  ## total sum of squares\n",
    "    rsq <- 1 - rss/tss\n",
    "}\n"
   ]
  },
  {
   "cell_type": "code",
   "execution_count": null,
   "id": "b2a4aeeb-ae9c-4cb6-beab-c9701e3bc46c",
   "metadata": {},
   "outputs": [],
   "source": [
    "selCoefs <- read.csv(\"./../TextFiles/SignificantCoefMatrix.csv\", \n",
    "                     row.names = 1)\n",
    "selCoefs <- t(selCoefs)\n",
    "KOGenes <-  colnames(selCoefs)\n",
    "KOGenes <- sapply(KOGenes, function(x){strsplit(x,\"_\")[[1]][2]})\n",
    "colnames(selCoefs) <- KOGenes"
   ]
  },
  {
   "cell_type": "code",
   "execution_count": null,
   "id": "73013e32-c7b4-4586-939c-2f4d286e35fc",
   "metadata": {},
   "outputs": [],
   "source": [
    "FOBIasymp(selCoefs,k = 20, type = \"S1\", model = \"ICA\")"
   ]
  },
  {
   "cell_type": "code",
   "execution_count": null,
   "id": "8cd4e468-726b-4ff5-baf8-2fbc2cb1b3dd",
   "metadata": {},
   "outputs": [],
   "source": [
    "FOBIboot(X=selCoefs, k=20, n.boot = 200, s.boot = \"B1\")"
   ]
  },
  {
   "cell_type": "code",
   "execution_count": null,
   "id": "34dbda34-d685-4324-a41d-2c2c5ae13a22",
   "metadata": {
    "tags": []
   },
   "outputs": [],
   "source": [
    "test <- FOBIladle(selCoefs)\n",
    "test\n",
    "summary(test)\n",
    "plot(test)"
   ]
  },
  {
   "cell_type": "code",
   "execution_count": null,
   "id": "53494e4b-f321-43e6-a137-bdb76995a48b",
   "metadata": {
    "tags": []
   },
   "outputs": [],
   "source": [
    "ladleplot(test)"
   ]
  },
  {
   "cell_type": "code",
   "execution_count": null,
   "id": "6db91ad0-3d38-49da-9fed-5d578a9bcbe1",
   "metadata": {
    "tags": []
   },
   "outputs": [],
   "source": [
    "options(repr.plot.width=6, repr.plot.height=6)\n",
    "\n",
    "pdf(\"./../SupplementaryFigures/S_5C.pdf\", width=6, height=6)\n",
    "ggladleplot(test, crit=\"gn\")+theme_minimal()+\n",
    "scale_x_continuous(breaks=seq(0, 40, 5))+\n",
    "xlim(0,40)+xlab(\"Number of components\")+\n",
    "theme(axis.text=element_text(size=15),axis.title=element_text(size=20))+geom_vline(xintercept=15, color=\"red\")\n",
    "dev.off()"
   ]
  },
  {
   "cell_type": "code",
   "execution_count": null,
   "id": "71611c45-98ea-41fe-ae85-37b0bbcf2a9b",
   "metadata": {},
   "outputs": [],
   "source": [
    "randomIndexes = sample(1:342489, 20000, replace=TRUE)"
   ]
  },
  {
   "cell_type": "code",
   "execution_count": null,
   "id": "b703b711-e148-4185-b61c-242248afed9c",
   "metadata": {},
   "outputs": [],
   "source": [
    "selCoefsTmp = copy(selCoefs)"
   ]
  },
  {
   "cell_type": "code",
   "execution_count": null,
   "id": "869dd24f-958e-4bfb-a14f-b1ddb1ea8591",
   "metadata": {},
   "outputs": [],
   "source": [
    "selCoefsTmp[randomIndexes] = NA"
   ]
  },
  {
   "cell_type": "code",
   "execution_count": null,
   "id": "5b95f80a-e8ec-48e8-a0e3-c05a2e40472f",
   "metadata": {},
   "outputs": [],
   "source": [
    "k <- icaimax(selCoefs, \n",
    "             nc = 15, \n",
    "             center = T)"
   ]
  },
  {
   "cell_type": "code",
   "execution_count": null,
   "id": "cc6390ff-e873-4230-8664-1ae6553c1cf2",
   "metadata": {},
   "outputs": [],
   "source": [
    "factorCov = cor((k$S), method = \"pearson\")"
   ]
  },
  {
   "cell_type": "code",
   "execution_count": null,
   "id": "ec3274ae-2ed4-4e3f-95e2-df42816694cd",
   "metadata": {
    "tags": []
   },
   "outputs": [],
   "source": [
    "diag(factorCov) <- 0"
   ]
  },
  {
   "cell_type": "code",
   "execution_count": null,
   "id": "74b68111-99b6-48ac-9eb7-ec8d363f6be7",
   "metadata": {},
   "outputs": [],
   "source": [
    "options(repr.plot.width=9, repr.plot.height=8)\n",
    "\n",
    "col3 = colorRampPalette(c(\"navy\", \"white\", \"red\"))(50)\n",
    "corrplot::corrplot(factorCov, order = 'AOE', col=col3, \n",
    "                   method = 'ellipse', is.corr = FALSE, \n",
    "                   tl.cex = 1.5, diag = FALSE, \n",
    "                   type = 'upper')"
   ]
  },
  {
   "cell_type": "code",
   "execution_count": null,
   "id": "216c9af7-adf6-4e81-96b0-f1f5e62c7a83",
   "metadata": {},
   "outputs": [],
   "source": [
    "actualVals = melt(selCoefs)$value\n",
    "allR2 <- list()\n",
    "\n",
    "for(i in 2:100){\n",
    "    k <- icaimax(selCoefs, nc = i, center = T)\n",
    "    redVals = k$S %*% t(k$M)\n",
    "    reconstVal = melt(redVals)$value\n",
    "    R2 = myR2(reconstVal, actualVals)\n",
    "    allR2 <- lappend(allR2, c(\"k\"=i, \"R2\"=R2))\n",
    "}"
   ]
  },
  {
   "cell_type": "code",
   "execution_count": null,
   "id": "ea2641a9-3c38-40ff-b975-f8f07cdea6c0",
   "metadata": {},
   "outputs": [],
   "source": [
    "allR2 <- data.frame(do.call(rbind,allR2))"
   ]
  },
  {
   "cell_type": "code",
   "execution_count": null,
   "id": "2688408b-ffde-4a9f-afd1-d1a5f0252298",
   "metadata": {},
   "outputs": [],
   "source": [
    "options(repr.plot.width=6, repr.plot.height=6)\n",
    "\n",
    "pdf(\"./../SupplementaryFigures/S_5D.pdf\", width=6, height=6)\n",
    "\n",
    "ggplot(data=allR2, aes(x=k, y=R2)) +\n",
    "  geom_line()+\n",
    "  geom_point()+geom_vline(xintercept=15, color=\"red\")+theme_minimal()+\n",
    "xlab(\"Number of components\")+ ylab(\"Explained variance in beta matrix\")+\n",
    "scale_x_continuous(breaks=seq(0, 100, 15))+\n",
    "scale_y_continuous(breaks=seq(0, 0.8, 0.1))+\n",
    "theme(axis.text=element_text(size=15),axis.title=element_text(size=20))\n",
    "\n",
    "dev.off()"
   ]
  },
  {
   "cell_type": "code",
   "execution_count": null,
   "id": "efad07d5-2ce1-47ad-bcb4-731c12976a5d",
   "metadata": {},
   "outputs": [],
   "source": []
  }
 ],
 "metadata": {
  "kernelspec": {
   "display_name": "R",
   "language": "R",
   "name": "ir"
  },
  "language_info": {
   "codemirror_mode": "r",
   "file_extension": ".r",
   "mimetype": "text/x-r-source",
   "name": "R",
   "pygments_lexer": "r",
   "version": "4.2.1"
  }
 },
 "nbformat": 4,
 "nbformat_minor": 5
}
