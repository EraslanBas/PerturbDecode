{
 "cells": [
  {
   "cell_type": "code",
   "execution_count": 9,
   "metadata": {
    "collapsed": true,
    "jupyter": {
     "outputs_hidden": true
    },
    "tags": []
   },
   "outputs": [
    {
     "name": "stderr",
     "output_type": "stream",
     "text": [
      "Welcome! Want to learn more? See two factoextra-related books at https://goo.gl/ve3WBa\n",
      "\n",
      "Loading required package: cluster\n",
      "\n",
      "Loading required package: rpart\n",
      "\n",
      "\n",
      "Attaching package: ‘ggpubr’\n",
      "\n",
      "\n",
      "The following object is masked from ‘package:cowplot’:\n",
      "\n",
      "    get_legend\n",
      "\n",
      "\n",
      "Loading required package: JADE\n",
      "\n",
      "Loading required package: ICS\n",
      "\n",
      "Loading required package: mvtnorm\n",
      "\n",
      "Registered S3 method overwritten by 'GGally':\n",
      "  method from   \n",
      "  +.gg   ggplot2\n",
      "\n"
     ]
    }
   ],
   "source": [
    "source(\"Main.R\")\n",
    "source(\"Conf.R\")\n",
    "source(\"Utilities.R\")\n",
    "library(\"factoextra\")\n",
    "library(\"maptree\")\n",
    "library(\"ggpubr\")\n",
    "library(\"ica\")\n",
    "library(ICtest)\n",
    "\n",
    "library(repr)\n",
    "fileDir = \"/home/beraslan/jovian-work/analysisSingle/\"\n",
    "geneCutOff=4\n",
    "targetCutOff=15\n",
    "nFactors=15"
   ]
  },
  {
   "cell_type": "code",
   "execution_count": 10,
   "metadata": {},
   "outputs": [],
   "source": [
    "selCoefs <- read.csv(\"./../TextFiles/SignificantCoefMatrix.csv\", row.names = 1)\n",
    "selCoefs <- t(selCoefs)\n",
    "KOGenes <-  colnames(selCoefs)\n",
    "KOGenes <- sapply(KOGenes, function(x){strsplit(x,\"_\")[[1]][2]})\n",
    "colnames(selCoefs) <- KOGenes"
   ]
  },
  {
   "cell_type": "code",
   "execution_count": 11,
   "metadata": {
    "tags": []
   },
   "outputs": [
    {
     "data": {
      "text/html": [
       "<table class=\"dataframe\">\n",
       "<caption>A matrix: 6 × 329 of type dbl</caption>\n",
       "<thead>\n",
       "\t<tr><th></th><th scope=col>Rack1</th><th scope=col>Utp15</th><th scope=col>Wdr43</th><th scope=col>Raf1</th><th scope=col>Rrp9</th><th scope=col>Uhrf1</th><th scope=col>Myc</th><th scope=col>Wdr3</th><th scope=col>Aamp</th><th scope=col>Dcaf13</th><th scope=col>⋯</th><th scope=col>Acaca</th><th scope=col>Trim45</th><th scope=col>Rnf135</th><th scope=col>Dcaf10</th><th scope=col>Traf7</th><th scope=col>Zmiz2</th><th scope=col>Klhl30</th><th scope=col>Wdr91</th><th scope=col>Efcab8</th><th scope=col>Wdr81</th></tr>\n",
       "</thead>\n",
       "<tbody>\n",
       "\t<tr><th scope=row>Eef1a1</th><td>-0.052</td><td>-0.147</td><td>-0.238</td><td>-0.125</td><td>-0.135</td><td> 0.063</td><td>-0.397</td><td> 0.028</td><td>-0.052</td><td>-0.101</td><td>⋯</td><td>0.158</td><td>-0.042</td><td> 0.004</td><td> 0.038</td><td>0.025</td><td>-0.066</td><td>-0.016</td><td>0.061</td><td>-0.033</td><td>0.085</td></tr>\n",
       "\t<tr><th scope=row>Tpt1</th><td>-0.255</td><td>-0.096</td><td>-0.261</td><td>-0.026</td><td>-0.079</td><td>-0.218</td><td>-0.158</td><td>-0.159</td><td>-0.323</td><td>-0.190</td><td>⋯</td><td>0.104</td><td> 0.112</td><td> 0.068</td><td> 0.024</td><td>0.099</td><td> 0.095</td><td> 0.119</td><td>0.104</td><td> 0.119</td><td>0.050</td></tr>\n",
       "\t<tr><th scope=row>Rps27</th><td>-0.289</td><td>-0.235</td><td>-0.094</td><td>-0.097</td><td>-0.104</td><td>-0.116</td><td>-0.167</td><td>-0.087</td><td>-0.081</td><td>-0.159</td><td>⋯</td><td>0.075</td><td> 0.087</td><td> 0.070</td><td>-0.003</td><td>0.061</td><td> 0.024</td><td> 0.060</td><td>0.028</td><td> 0.077</td><td>0.035</td></tr>\n",
       "\t<tr><th scope=row>Rplp0</th><td>-0.328</td><td>-0.076</td><td>-0.110</td><td>-0.130</td><td>-0.008</td><td>-0.134</td><td>-0.586</td><td>-0.017</td><td>-0.031</td><td>-0.064</td><td>⋯</td><td>0.113</td><td> 0.017</td><td>-0.018</td><td> 0.145</td><td>0.103</td><td> 0.105</td><td> 0.017</td><td>0.015</td><td> 0.082</td><td>0.047</td></tr>\n",
       "\t<tr><th scope=row>Denr</th><td>-0.140</td><td>-0.042</td><td>-0.027</td><td>-0.047</td><td>-0.070</td><td>-0.208</td><td>-0.079</td><td>-0.098</td><td> 0.140</td><td>-0.104</td><td>⋯</td><td>0.086</td><td> 0.103</td><td>-0.057</td><td>-0.118</td><td>0.049</td><td> 0.149</td><td> 0.198</td><td>0.042</td><td> 0.070</td><td>0.017</td></tr>\n",
       "\t<tr><th scope=row>Hmgb2</th><td>-0.078</td><td> 0.024</td><td>-0.019</td><td>-0.001</td><td>-0.032</td><td>-0.083</td><td>-0.089</td><td> 0.054</td><td> 0.011</td><td>-0.039</td><td>⋯</td><td>0.029</td><td>-0.011</td><td> 0.013</td><td>-0.003</td><td>0.018</td><td> 0.045</td><td> 0.183</td><td>0.007</td><td> 0.124</td><td>0.020</td></tr>\n",
       "</tbody>\n",
       "</table>\n"
      ],
      "text/latex": [
       "A matrix: 6 × 329 of type dbl\n",
       "\\begin{tabular}{r|lllllllllllllllllllll}\n",
       "  & Rack1 & Utp15 & Wdr43 & Raf1 & Rrp9 & Uhrf1 & Myc & Wdr3 & Aamp & Dcaf13 & ⋯ & Acaca & Trim45 & Rnf135 & Dcaf10 & Traf7 & Zmiz2 & Klhl30 & Wdr91 & Efcab8 & Wdr81\\\\\n",
       "\\hline\n",
       "\tEef1a1 & -0.052 & -0.147 & -0.238 & -0.125 & -0.135 &  0.063 & -0.397 &  0.028 & -0.052 & -0.101 & ⋯ & 0.158 & -0.042 &  0.004 &  0.038 & 0.025 & -0.066 & -0.016 & 0.061 & -0.033 & 0.085\\\\\n",
       "\tTpt1 & -0.255 & -0.096 & -0.261 & -0.026 & -0.079 & -0.218 & -0.158 & -0.159 & -0.323 & -0.190 & ⋯ & 0.104 &  0.112 &  0.068 &  0.024 & 0.099 &  0.095 &  0.119 & 0.104 &  0.119 & 0.050\\\\\n",
       "\tRps27 & -0.289 & -0.235 & -0.094 & -0.097 & -0.104 & -0.116 & -0.167 & -0.087 & -0.081 & -0.159 & ⋯ & 0.075 &  0.087 &  0.070 & -0.003 & 0.061 &  0.024 &  0.060 & 0.028 &  0.077 & 0.035\\\\\n",
       "\tRplp0 & -0.328 & -0.076 & -0.110 & -0.130 & -0.008 & -0.134 & -0.586 & -0.017 & -0.031 & -0.064 & ⋯ & 0.113 &  0.017 & -0.018 &  0.145 & 0.103 &  0.105 &  0.017 & 0.015 &  0.082 & 0.047\\\\\n",
       "\tDenr & -0.140 & -0.042 & -0.027 & -0.047 & -0.070 & -0.208 & -0.079 & -0.098 &  0.140 & -0.104 & ⋯ & 0.086 &  0.103 & -0.057 & -0.118 & 0.049 &  0.149 &  0.198 & 0.042 &  0.070 & 0.017\\\\\n",
       "\tHmgb2 & -0.078 &  0.024 & -0.019 & -0.001 & -0.032 & -0.083 & -0.089 &  0.054 &  0.011 & -0.039 & ⋯ & 0.029 & -0.011 &  0.013 & -0.003 & 0.018 &  0.045 &  0.183 & 0.007 &  0.124 & 0.020\\\\\n",
       "\\end{tabular}\n"
      ],
      "text/markdown": [
       "\n",
       "A matrix: 6 × 329 of type dbl\n",
       "\n",
       "| <!--/--> | Rack1 | Utp15 | Wdr43 | Raf1 | Rrp9 | Uhrf1 | Myc | Wdr3 | Aamp | Dcaf13 | ⋯ | Acaca | Trim45 | Rnf135 | Dcaf10 | Traf7 | Zmiz2 | Klhl30 | Wdr91 | Efcab8 | Wdr81 |\n",
       "|---|---|---|---|---|---|---|---|---|---|---|---|---|---|---|---|---|---|---|---|---|---|\n",
       "| Eef1a1 | -0.052 | -0.147 | -0.238 | -0.125 | -0.135 |  0.063 | -0.397 |  0.028 | -0.052 | -0.101 | ⋯ | 0.158 | -0.042 |  0.004 |  0.038 | 0.025 | -0.066 | -0.016 | 0.061 | -0.033 | 0.085 |\n",
       "| Tpt1 | -0.255 | -0.096 | -0.261 | -0.026 | -0.079 | -0.218 | -0.158 | -0.159 | -0.323 | -0.190 | ⋯ | 0.104 |  0.112 |  0.068 |  0.024 | 0.099 |  0.095 |  0.119 | 0.104 |  0.119 | 0.050 |\n",
       "| Rps27 | -0.289 | -0.235 | -0.094 | -0.097 | -0.104 | -0.116 | -0.167 | -0.087 | -0.081 | -0.159 | ⋯ | 0.075 |  0.087 |  0.070 | -0.003 | 0.061 |  0.024 |  0.060 | 0.028 |  0.077 | 0.035 |\n",
       "| Rplp0 | -0.328 | -0.076 | -0.110 | -0.130 | -0.008 | -0.134 | -0.586 | -0.017 | -0.031 | -0.064 | ⋯ | 0.113 |  0.017 | -0.018 |  0.145 | 0.103 |  0.105 |  0.017 | 0.015 |  0.082 | 0.047 |\n",
       "| Denr | -0.140 | -0.042 | -0.027 | -0.047 | -0.070 | -0.208 | -0.079 | -0.098 |  0.140 | -0.104 | ⋯ | 0.086 |  0.103 | -0.057 | -0.118 | 0.049 |  0.149 |  0.198 | 0.042 |  0.070 | 0.017 |\n",
       "| Hmgb2 | -0.078 |  0.024 | -0.019 | -0.001 | -0.032 | -0.083 | -0.089 |  0.054 |  0.011 | -0.039 | ⋯ | 0.029 | -0.011 |  0.013 | -0.003 | 0.018 |  0.045 |  0.183 | 0.007 |  0.124 | 0.020 |\n",
       "\n"
      ],
      "text/plain": [
       "       Rack1  Utp15  Wdr43  Raf1   Rrp9   Uhrf1  Myc    Wdr3   Aamp   Dcaf13 ⋯\n",
       "Eef1a1 -0.052 -0.147 -0.238 -0.125 -0.135  0.063 -0.397  0.028 -0.052 -0.101 ⋯\n",
       "Tpt1   -0.255 -0.096 -0.261 -0.026 -0.079 -0.218 -0.158 -0.159 -0.323 -0.190 ⋯\n",
       "Rps27  -0.289 -0.235 -0.094 -0.097 -0.104 -0.116 -0.167 -0.087 -0.081 -0.159 ⋯\n",
       "Rplp0  -0.328 -0.076 -0.110 -0.130 -0.008 -0.134 -0.586 -0.017 -0.031 -0.064 ⋯\n",
       "Denr   -0.140 -0.042 -0.027 -0.047 -0.070 -0.208 -0.079 -0.098  0.140 -0.104 ⋯\n",
       "Hmgb2  -0.078  0.024 -0.019 -0.001 -0.032 -0.083 -0.089  0.054  0.011 -0.039 ⋯\n",
       "       Acaca Trim45 Rnf135 Dcaf10 Traf7 Zmiz2  Klhl30 Wdr91 Efcab8 Wdr81\n",
       "Eef1a1 0.158 -0.042  0.004  0.038 0.025 -0.066 -0.016 0.061 -0.033 0.085\n",
       "Tpt1   0.104  0.112  0.068  0.024 0.099  0.095  0.119 0.104  0.119 0.050\n",
       "Rps27  0.075  0.087  0.070 -0.003 0.061  0.024  0.060 0.028  0.077 0.035\n",
       "Rplp0  0.113  0.017 -0.018  0.145 0.103  0.105  0.017 0.015  0.082 0.047\n",
       "Denr   0.086  0.103 -0.057 -0.118 0.049  0.149  0.198 0.042  0.070 0.017\n",
       "Hmgb2  0.029 -0.011  0.013 -0.003 0.018  0.045  0.183 0.007  0.124 0.020"
      ]
     },
     "metadata": {},
     "output_type": "display_data"
    }
   ],
   "source": [
    "head(selCoefs)"
   ]
  },
  {
   "cell_type": "code",
   "execution_count": 12,
   "metadata": {},
   "outputs": [
    {
     "data": {
      "text/html": [
       "<table class=\"dataframe\">\n",
       "<caption>A data.frame: 6 × 3</caption>\n",
       "<thead>\n",
       "\t<tr><th></th><th scope=col>GuideName</th><th scope=col>GuideGroup</th><th scope=col>GuideColor</th></tr>\n",
       "\t<tr><th></th><th scope=col>&lt;chr&gt;</th><th scope=col>&lt;int&gt;</th><th scope=col>&lt;chr&gt;</th></tr>\n",
       "</thead>\n",
       "<tbody>\n",
       "\t<tr><th scope=row>Aamp</th><td>Aamp  </td><td>4</td><td>#aa40fc</td></tr>\n",
       "\t<tr><th scope=row>Bop1</th><td>Bop1  </td><td>4</td><td>#aa40fc</td></tr>\n",
       "\t<tr><th scope=row>Cirh1a</th><td>Cirh1a</td><td>4</td><td>#aa40fc</td></tr>\n",
       "\t<tr><th scope=row>Dcaf13</th><td>Dcaf13</td><td>4</td><td>#aa40fc</td></tr>\n",
       "\t<tr><th scope=row>Grb2</th><td>Grb2  </td><td>4</td><td>#aa40fc</td></tr>\n",
       "\t<tr><th scope=row>Myc</th><td>Myc   </td><td>4</td><td>#aa40fc</td></tr>\n",
       "</tbody>\n",
       "</table>\n"
      ],
      "text/latex": [
       "A data.frame: 6 × 3\n",
       "\\begin{tabular}{r|lll}\n",
       "  & GuideName & GuideGroup & GuideColor\\\\\n",
       "  & <chr> & <int> & <chr>\\\\\n",
       "\\hline\n",
       "\tAamp & Aamp   & 4 & \\#aa40fc\\\\\n",
       "\tBop1 & Bop1   & 4 & \\#aa40fc\\\\\n",
       "\tCirh1a & Cirh1a & 4 & \\#aa40fc\\\\\n",
       "\tDcaf13 & Dcaf13 & 4 & \\#aa40fc\\\\\n",
       "\tGrb2 & Grb2   & 4 & \\#aa40fc\\\\\n",
       "\tMyc & Myc    & 4 & \\#aa40fc\\\\\n",
       "\\end{tabular}\n"
      ],
      "text/markdown": [
       "\n",
       "A data.frame: 6 × 3\n",
       "\n",
       "| <!--/--> | GuideName &lt;chr&gt; | GuideGroup &lt;int&gt; | GuideColor &lt;chr&gt; |\n",
       "|---|---|---|---|\n",
       "| Aamp | Aamp   | 4 | #aa40fc |\n",
       "| Bop1 | Bop1   | 4 | #aa40fc |\n",
       "| Cirh1a | Cirh1a | 4 | #aa40fc |\n",
       "| Dcaf13 | Dcaf13 | 4 | #aa40fc |\n",
       "| Grb2 | Grb2   | 4 | #aa40fc |\n",
       "| Myc | Myc    | 4 | #aa40fc |\n",
       "\n"
      ],
      "text/plain": [
       "       GuideName GuideGroup GuideColor\n",
       "Aamp   Aamp      4          #aa40fc   \n",
       "Bop1   Bop1      4          #aa40fc   \n",
       "Cirh1a Cirh1a    4          #aa40fc   \n",
       "Dcaf13 Dcaf13    4          #aa40fc   \n",
       "Grb2   Grb2      4          #aa40fc   \n",
       "Myc    Myc       4          #aa40fc   "
      ]
     },
     "metadata": {},
     "output_type": "display_data"
    }
   ],
   "source": [
    "#guideModulesN <- data.frame(read.csv(\"/home/beraslan/jovian-work/analysisSingle/ME_GuideModules_7_Modules.csv\", row.names = 1))\n",
    "#guideModulesN$GuideName <- sapply(guideModulesN$GuideName, function(x){strsplit(as.character(x),\"_\")[[1]][2]})\n",
    "\n",
    "guideModulesN <- data.frame(read.csv(\"./../TextFiles/ME_GuideModules_leiden_6_Modules.csv\"),  row.names = 1)\n",
    "rownames(guideModulesN) <- guideModulesN$GuideName \n",
    "\n",
    "head(guideModulesN)"
   ]
  },
  {
   "cell_type": "code",
   "execution_count": 13,
   "metadata": {},
   "outputs": [],
   "source": [
    "## This is for selecting training and validation sets in combo prediction\n",
    "# allTestGuides = list()\n",
    "\n",
    "# for(elem in unique(guideModulesN$GuideGroup)){\n",
    "#     myTmp = guideModulesN[guideModulesN$GuideGroup == elem,]\n",
    "#     k = sample(myTmp$GuideName, round(nrow(myTmp) *0.10, digits = 0), replace=FALSE)\n",
    "#     allTestGuides = lappend(allTestGuides, k)\n",
    "# }\n",
    "\n",
    "# allTestGuides = unique(unlist(allTestGuides))\n",
    "# allTrainingGuides = guideModulesN$GuideName[guideModulesN$GuideName %ni% allTestGuides]\n",
    "# write.csv(allTestGuides, \"./../TestGuides.csv\")\n",
    "# write.csv(allTrainingGuides, \"./../TrainingGuides.csv\")"
   ]
  },
  {
   "cell_type": "code",
   "execution_count": 14,
   "metadata": {},
   "outputs": [],
   "source": [
    "evaluateFactorNo <- function(){\n",
    "    allTestGuides = list()\n",
    "\n",
    "    for(elem in unique(guideModulesN$GuideGroup)){\n",
    "        myTmp = guideModulesN[guideModulesN$GuideGroup == elem,]\n",
    "        k = sample(myTmp$GuideName, round(nrow(myTmp) *0.2, digits = 0), replace=FALSE)\n",
    "        allTestGuides = lappend(allTestGuides, k)\n",
    "    }\n",
    "\n",
    "    allTestGuides = unique(unlist(allTestGuides))\n",
    "    allTrainingGuides = guideModulesN$GuideName[guideModulesN$GuideName %ni% allTestGuides]\n",
    "    selCoefsTest = data.frame(selCoefs[,allTestGuides])\n",
    "    selCoefsTrain = data.frame(selCoefs[,allTrainingGuides])\n",
    "    \n",
    "    \n",
    "    allExpVars = list()\n",
    "\n",
    "    for(i in 1:30){\n",
    "        k <- icaimax(selCoefsTrain, nc = i, center = T)\n",
    "        mySelFac = data.frame(k$S)\n",
    "        \n",
    "        r2ForNfac= c()\n",
    "        for(j in 1:ncol(selCoefsTest)){\n",
    "\n",
    "            mySelFac$y = selCoefsTest[,j]\n",
    "            k = lm(\"y ~ .\", data= mySelFac)\n",
    "            myPredict = predict(k, newdata = mySelFac)\n",
    "\n",
    "            myR2 = computeR2(mySelFac$y, myPredict)\n",
    "            r2ForNfac = c(r2ForNfac, myR2)\n",
    "        }\n",
    "        \n",
    "        allExpVars = lappend(allExpVars, r2ForNfac)\n",
    "    }\n",
    "    \n",
    "    \n",
    "    allExpVars = data.frame(do.call(cbind, allExpVars))\n",
    "    rownames(allExpVars) = colnames(selCoefsTest) \n",
    "    colnames(allExpVars) = paste0(\"NFac_\",1:ncol(allExpVars))\n",
    "    allExpVars$genes = rownames(allExpVars)\n",
    "    allExpVarsMelted = melt(allExpVars)\n",
    "    \n",
    "    return(allExpVarsMelted)\n",
    "\n",
    "}"
   ]
  },
  {
   "cell_type": "code",
   "execution_count": 15,
   "metadata": {},
   "outputs": [
    {
     "name": "stderr",
     "output_type": "stream",
     "text": [
      "Using genes as id variables\n",
      "\n",
      "Using genes as id variables\n",
      "\n",
      "Using genes as id variables\n",
      "\n",
      "Using genes as id variables\n",
      "\n",
      "Using genes as id variables\n",
      "\n",
      "Using genes as id variables\n",
      "\n"
     ]
    }
   ],
   "source": [
    "hh <- evaluateFactorNo() \n",
    "\n",
    "for(i in 1:5){\n",
    "    vv = evaluateFactorNo()\n",
    "    \n",
    "    hh = rbind(hh,  vv)\n",
    "}\n"
   ]
  },
  {
   "cell_type": "code",
   "execution_count": 17,
   "metadata": {},
   "outputs": [
    {
     "name": "stderr",
     "output_type": "stream",
     "text": [
      "Warning message:\n",
      "“Removed 1229 rows containing missing values (geom_violin).”\n"
     ]
    },
    {
     "data": {
      "text/html": [
       "<strong>png:</strong> 2"
      ],
      "text/latex": [
       "\\textbf{png:} 2"
      ],
      "text/markdown": [
       "**png:** 2"
      ],
      "text/plain": [
       "png \n",
       "  2 "
      ]
     },
     "metadata": {},
     "output_type": "display_data"
    }
   ],
   "source": [
    "options(repr.plot.width=12, repr.plot.height=8)\n",
    "\n",
    "pdf(\"./../SupplementaryFigures/S_5E.pdf\", width=12, height=6)\n",
    "ggplot(hh, aes(x=variable, y=value)) + \n",
    "     geom_violin(trim=FALSE)+\n",
    "     geom_boxplot()+theme_minimal()+ \n",
    "     #stat_summary(fun.data = mean, geom = \"text\", size=6)+\n",
    "        # stat_compare_means(method=\"t.test\",paired = FALSE,\n",
    "        #                         comparisons = list(c(\"Control\", \"KO\")),\n",
    "        #                         color=\"red\", method.args = list(alternative = \"less\"),\n",
    "        #                         label.y = c(30), aes(label = ..p.signif..))+\n",
    "     #scale_fill_brewer(palette = \"Pastel1\")+\n",
    "ylab(\"Explained variance in \\n unseen perturbation responses (R^2)\")+\n",
    "theme(axis.text = element_text(size=15),\n",
    "      axis.text.x = element_text(angle=90),\n",
    "              axis.title =  element_text(size=16))+ylim(0,1) +xlab(\"Number of ICA factors\") \n",
    "\n",
    "dev.off()"
   ]
  },
  {
   "cell_type": "code",
   "execution_count": null,
   "metadata": {},
   "outputs": [],
   "source": []
  }
 ],
 "metadata": {
  "kernelspec": {
   "display_name": "R",
   "language": "R",
   "name": "ir"
  },
  "language_info": {
   "codemirror_mode": "r",
   "file_extension": ".r",
   "mimetype": "text/x-r-source",
   "name": "R",
   "pygments_lexer": "r",
   "version": "4.1.3"
  }
 },
 "nbformat": 4,
 "nbformat_minor": 4
}
