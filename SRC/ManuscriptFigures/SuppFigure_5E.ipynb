{
 "cells": [
  {
   "cell_type": "code",
   "execution_count": null,
   "metadata": {
    "tags": []
   },
   "outputs": [],
   "source": [
    "source(\"Main.R\")\n",
    "source(\"Conf.R\")\n",
    "source(\"Utilities.R\")\n",
    "\n",
    "library(repr)\n",
    "geneCutOff=4\n",
    "targetCutOff=15\n",
    "nFactors=15"
   ]
  },
  {
   "cell_type": "code",
   "execution_count": null,
   "metadata": {},
   "outputs": [],
   "source": [
    "selCoefs <- read.csv(\"./../TextFiles/SignificantCoefMatrix.csv\", row.names = 1)\n",
    "selCoefs <- t(selCoefs)\n",
    "KOGenes <-  colnames(selCoefs)\n",
    "KOGenes <- sapply(KOGenes, function(x){strsplit(x,\"_\")[[1]][2]})\n",
    "colnames(selCoefs) <- KOGenes"
   ]
  },
  {
   "cell_type": "code",
   "execution_count": null,
   "metadata": {},
   "outputs": [],
   "source": [
    "guideModulesN <- data.frame(read.csv(\"./../TextFiles/ME_GuideModules_leiden_6_Modules.csv\"),  \n",
    "                            row.names = 1)\n",
    "rownames(guideModulesN) <- guideModulesN$GuideName \n",
    "\n",
    "head(guideModulesN)"
   ]
  },
  {
   "cell_type": "code",
   "execution_count": null,
   "metadata": {},
   "outputs": [],
   "source": [
    "## This is for selecting training and validation sets in combo prediction\n",
    "# allTestGuides = list()\n",
    "\n",
    "# for(elem in unique(guideModulesN$GuideGroup)){\n",
    "#     myTmp = guideModulesN[guideModulesN$GuideGroup == elem,]\n",
    "#     k = sample(myTmp$GuideName, round(nrow(myTmp) *0.10, digits = 0), replace=FALSE)\n",
    "#     allTestGuides = lappend(allTestGuides, k)\n",
    "# }\n",
    "\n",
    "# allTestGuides = unique(unlist(allTestGuides))\n",
    "# allTrainingGuides = guideModulesN$GuideName[guideModulesN$GuideName %ni% allTestGuides]\n",
    "# write.csv(allTestGuides, \"./../TestGuides.csv\")\n",
    "# write.csv(allTrainingGuides, \"./../TrainingGuides.csv\")"
   ]
  },
  {
   "cell_type": "code",
   "execution_count": null,
   "metadata": {},
   "outputs": [],
   "source": [
    "evaluateFactorNo <- function(){\n",
    "    allTestGuides = list()\n",
    "\n",
    "    for(elem in unique(guideModulesN$GuideGroup)){\n",
    "        myTmp = guideModulesN[guideModulesN$GuideGroup == elem,]\n",
    "        k = sample(myTmp$GuideName, round(nrow(myTmp) *0.2, digits = 0), replace=FALSE)\n",
    "        allTestGuides = lappend(allTestGuides, k)\n",
    "    }\n",
    "\n",
    "    allTestGuides = unique(unlist(allTestGuides))\n",
    "    allTrainingGuides = guideModulesN$GuideName[guideModulesN$GuideName %ni% allTestGuides]\n",
    "    selCoefsTest = data.frame(selCoefs[,allTestGuides])\n",
    "    selCoefsTrain = data.frame(selCoefs[,allTrainingGuides])\n",
    "    \n",
    "    \n",
    "    allExpVars = list()\n",
    "\n",
    "    for(i in 1:30){\n",
    "        k <- icaimax(selCoefsTrain, nc = i, center = T)\n",
    "        mySelFac = data.frame(k$S)\n",
    "        \n",
    "        r2ForNfac= c()\n",
    "        for(j in 1:ncol(selCoefsTest)){\n",
    "\n",
    "            mySelFac$y = selCoefsTest[,j]\n",
    "            k = lm(\"y ~ .\", data= mySelFac)\n",
    "            myPredict = predict(k, newdata = mySelFac)\n",
    "\n",
    "            myR2 = computeR2(mySelFac$y, myPredict)\n",
    "            r2ForNfac = c(r2ForNfac, myR2)\n",
    "        }\n",
    "        \n",
    "        allExpVars = lappend(allExpVars, r2ForNfac)\n",
    "    }\n",
    "    \n",
    "    \n",
    "    allExpVars = data.frame(do.call(cbind, allExpVars))\n",
    "    rownames(allExpVars) = colnames(selCoefsTest) \n",
    "    colnames(allExpVars) = paste0(\"NFac_\",1:ncol(allExpVars))\n",
    "    allExpVars$genes = rownames(allExpVars)\n",
    "    allExpVarsMelted = melt(allExpVars)\n",
    "    \n",
    "    return(allExpVarsMelted)\n",
    "\n",
    "}"
   ]
  },
  {
   "cell_type": "code",
   "execution_count": null,
   "metadata": {},
   "outputs": [],
   "source": [
    "hh <- evaluateFactorNo() \n",
    "\n",
    "for(i in 1:5){\n",
    "    vv = evaluateFactorNo()\n",
    "    \n",
    "    hh = rbind(hh,  vv)\n",
    "}\n"
   ]
  },
  {
   "cell_type": "code",
   "execution_count": null,
   "metadata": {},
   "outputs": [],
   "source": [
    "options(repr.plot.width=12, repr.plot.height=8)\n",
    "\n",
    "pdf(\"./../SupplementaryFigures/S_5E.pdf\", width=12, height=6)\n",
    "ggplot(hh, aes(x=variable, y=value)) + \n",
    "     geom_violin(trim=FALSE)+\n",
    "     geom_boxplot()+theme_minimal()+ \n",
    "     #stat_summary(fun.data = mean, geom = \"text\", size=6)+\n",
    "        # stat_compare_means(method=\"t.test\",paired = FALSE,\n",
    "        #                         comparisons = list(c(\"Control\", \"KO\")),\n",
    "        #                         color=\"red\", method.args = list(alternative = \"less\"),\n",
    "        #                         label.y = c(30), aes(label = ..p.signif..))+\n",
    "     #scale_fill_brewer(palette = \"Pastel1\")+\n",
    "ylab(\"Explained variance in \\n unseen perturbation responses (R^2)\")+\n",
    "theme(axis.text = element_text(size=15),\n",
    "      axis.text.x = element_text(angle=90),\n",
    "              axis.title =  element_text(size=16))+ylim(0,1) +xlab(\"Number of ICA factors\") \n",
    "\n",
    "dev.off()"
   ]
  },
  {
   "cell_type": "code",
   "execution_count": null,
   "metadata": {},
   "outputs": [],
   "source": []
  }
 ],
 "metadata": {
  "kernelspec": {
   "display_name": "R",
   "language": "R",
   "name": "ir"
  },
  "language_info": {
   "codemirror_mode": "r",
   "file_extension": ".r",
   "mimetype": "text/x-r-source",
   "name": "R",
   "pygments_lexer": "r",
   "version": "4.2.1"
  }
 },
 "nbformat": 4,
 "nbformat_minor": 4
}
