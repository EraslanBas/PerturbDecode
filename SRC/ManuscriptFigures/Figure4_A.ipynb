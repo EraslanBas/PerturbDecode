{
 "cells": [
  {
   "cell_type": "code",
   "execution_count": null,
   "metadata": {
    "tags": []
   },
   "outputs": [],
   "source": [
    "source(\"Main.R\")\n",
    "source(\"Conf.R\")\n",
    "source(\"Utilities.R\")\n",
    "library(\"factoextra\")\n",
    "library(\"maptree\")\n",
    "library(\"ggpubr\")\n",
    "library(\"ica\")\n",
    "\n",
    "library(repr)\n",
    "fileDir = \"/home/beraslan/jovian-work/analysisSingle/\"\n",
    "geneCutOff=4\n",
    "targetCutOff=15\n",
    "nFactors=15\n",
    "\n"
   ]
  },
  {
   "cell_type": "code",
   "execution_count": null,
   "metadata": {},
   "outputs": [],
   "source": [
    "myICAFactors = data.frame(read.csv(\"./../TextFiles/ICA_15_factors_effectedGenes_paper.csv\",\n",
    "                                   stringsAsFactors=FALSE), \n",
    "                          stringsAsFactors=FALSE)\n",
    "myICAFactors_guides = myICAFactors[,grep(\"guide\", colnames(myICAFactors))]\n",
    "myICAFactors_genes = myICAFactors[,grep(\"gene\", colnames(myICAFactors))]\n",
    "\n",
    "selGuides = unique(unlist(myICAFactors_guides))\n",
    "selGuides = selGuides[selGuides != ' ']"
   ]
  },
  {
   "cell_type": "code",
   "execution_count": null,
   "metadata": {},
   "outputs": [],
   "source": [
    "selCoefs <- read.csv(\"./../TextFiles/SignificantCoefMatrix.csv\", row.names = 1)\n",
    "selCoefs <- t(selCoefs)\n",
    "KOGenes <-  colnames(selCoefs)\n",
    "KOGenes <- sapply(KOGenes, function(x){strsplit(x,\"_\")[[1]][2]})\n",
    "colnames(selCoefs) <- KOGenes"
   ]
  },
  {
   "cell_type": "code",
   "execution_count": null,
   "metadata": {},
   "outputs": [],
   "source": [
    "guideModulesN <- data.frame(read.csv(\"./../TextFiles/ME_GuideModules_leiden_6_Modules.csv\"),  row.names = 1)\n",
    "rownames(guideModulesN) <- guideModulesN$GuideName \n",
    "guideModulesN$GuideGroup <- factor(guideModulesN$GuideGroup)\n",
    "guideModulesN$GuideGroup <- paste0(\"K\", guideModulesN$GuideGroup)\n",
    "guideModulesN$GuideColor <- NULL\n",
    "\n",
    "head(guideModulesN)"
   ]
  },
  {
   "cell_type": "code",
   "execution_count": null,
   "metadata": {},
   "outputs": [],
   "source": [
    "k <- icaimax(selCoefs, nc = 15, center = T)\n",
    "myH <- k$S\n"
   ]
  },
  {
   "cell_type": "code",
   "execution_count": null,
   "metadata": {
    "tags": []
   },
   "outputs": [],
   "source": [
    "facR2Mat = data.frame(matrix(0, nrow = 16, ncol = ncol(selCoefs)))\n",
    "rownames(facR2Mat) = c(paste0(\"Factor_\",1:15),\"ALL\")\n",
    "colnames(facR2Mat) = colnames(selCoefs)\n",
    "\n",
    "for(fac in 1:ncol(myH)){\n",
    "    for(pert in 1:ncol(selCoefs)){\n",
    "        myDF = data.frame(x=myH[,fac], y=selCoefs[,pert])\n",
    "        k = lm(\"y ~ x\", data= myDF)\n",
    "        myPredict = predict(k, newdata = myDF)\n",
    "\n",
    "        myR2 = computeR2(myDF$y, myPredict)\n",
    "        \n",
    "        facR2Mat[paste0(\"Factor_\", fac), colnames(selCoefs)[pert] ] = myR2\n",
    "    }\n",
    "}\n",
    "\n",
    "myDF = copy(data.frame(myH))\n",
    "\n",
    "for(pert in 1:ncol(selCoefs)){\n",
    "    myDF$y = selCoefs[,pert]\n",
    "  \n",
    "    k = lm(\"y ~ .\", data= myDF)\n",
    "    myPredict = predict(k, newdata = myDF)\n",
    "\n",
    "    myR2 = computeR2(myDF$y, myPredict)\n",
    "        \n",
    "    facR2Mat[\"ALL\", colnames(selCoefs)[pert] ] = myR2\n",
    "\n",
    "}"
   ]
  },
  {
   "cell_type": "code",
   "execution_count": null,
   "metadata": {},
   "outputs": [],
   "source": [
    "facR2Mat = facR2Mat[,order(-facR2Mat[\"ALL\",])]"
   ]
  },
  {
   "cell_type": "code",
   "execution_count": null,
   "metadata": {},
   "outputs": [],
   "source": [
    "allExp = facR2Mat[\"ALL\",]\n",
    "allExp"
   ]
  },
  {
   "cell_type": "code",
   "execution_count": null,
   "metadata": {
    "tags": []
   },
   "outputs": [],
   "source": [
    "write.csv(facR2Mat, \"ExplainedVariancePerFactor.csv\")"
   ]
  },
  {
   "cell_type": "code",
   "execution_count": null,
   "metadata": {},
   "outputs": [],
   "source": [
    "highExp = names(allExpVar[allExpVar>0.25])"
   ]
  },
  {
   "cell_type": "code",
   "execution_count": null,
   "metadata": {},
   "outputs": [],
   "source": [
    "annoCols<-list(GeneGroup=c(G0='#A6CEE3',\n",
    "                           G1='#1F78B4',\n",
    "                           G2='#B2DF8A',\n",
    "                           G3='#33A02C', \n",
    "                           G4='#FB9A99', \n",
    "                           G5='#FDBF6F', \n",
    "                           G6='#FF7F00', \n",
    "                           G7='#CAB2D6',\n",
    "                           G8='#6A3D9A', \n",
    "                           G9='#FFFF99', \n",
    "                           G10=\"#B5651D\" ),\n",
    "                 GuideGroup=c(K0=\"#1f77b4\",\n",
    "                              K1=\"#ff7f0e\",\n",
    "                              K2=\"#279e68\",\n",
    "                              K3=\"#d62728\", \n",
    "                              K4=\"#aa40fc\", \n",
    "                              K5=\"#8c564b\"))"
   ]
  },
  {
   "cell_type": "code",
   "execution_count": null,
   "metadata": {},
   "outputs": [],
   "source": [
    "# options(repr.plot.width=28, repr.plot.height=6)\n",
    "# #facR2MatPlot = copy(data.frame(facR2Mat[,highExp]))\n",
    "# facR2MatPlot = copy(data.frame(facR2Mat[,highExp]))\n",
    "# facR2MatPlot[facR2MatPlot > 0.2] = 0.2\n",
    "# facR2MatPlot[facR2MatPlot < 0.05] = 0.05\n",
    "\n",
    "# kk = pheatmap((facR2MatPlot[1:15,]),\n",
    "#          cluster_cols = TRUE,\n",
    "#          cluster_rows = FALSE,\n",
    "#          clustering_method=\"ward.D2\",\n",
    "#          clustering_distance_rows=\"euclidean\", colorRampPalette(c(\"white\", \"orange\", \"red\"))(100))\n",
    "\n",
    "# facR2MatPlot = facR2MatPlot[,kk$tree_col$order]\n",
    "\n",
    "# annotDFcol <- guideModulesN[colnames(facR2MatPlot),]\n",
    "# annotDFcol$GuideName = NULL\n",
    "# head(annotDFcol)\n",
    "\n",
    "# pheatmap(facR2MatPlot,\n",
    "#          cluster_cols = TRUE,\n",
    "#          cluster_rows = FALSE,\n",
    "#          annotation_col = annotDFcol,\n",
    "#          annotation_colors = annoCols,\n",
    "#          clustering_method=\"ward.D2\",\n",
    "#          clustering_distance_rows=\"euclidean\", colorRampPalette(c(\"white\", \"orange\", \"red\"))(100))\n",
    "\n"
   ]
  },
  {
   "cell_type": "code",
   "execution_count": null,
   "metadata": {
    "tags": []
   },
   "outputs": [],
   "source": [
    "options(repr.plot.width=30, repr.plot.height=6)\n",
    "facR2MatPlot = copy(facR2Mat[,highExp])\n",
    "facR2MatPlot[facR2MatPlot > 0.2] = 0.2\n",
    "facR2MatPlot[facR2MatPlot < 0.05] = 0.05\n",
    "\n",
    "annotDFcol <- guideModulesN[colnames(facR2MatPlot),]\n",
    "annotDFcol$GuideName = NULL\n",
    "head(annotDFcol)\n",
    "\n",
    "xx  = pheatmap(facR2MatPlot[1:15,],\n",
    "         cluster_cols = TRUE,\n",
    "         cluster_rows = FALSE,\n",
    "         annotation_col = annotDFcol,\n",
    "         annotation_colors = annoCols,\n",
    "         clustering_method=\"ward.D2\",\n",
    "         fontsize_row=20,\n",
    "         clustering_distance_rows=\"euclidean\", colorRampPalette(c(\"white\", \"orange\", \"red\"))(100))\n",
    "\n",
    "save_pheatmap_pdf(xx, \"Figure_4A.pdf\", width=28, height=6)"
   ]
  },
  {
   "cell_type": "code",
   "execution_count": null,
   "metadata": {},
   "outputs": [],
   "source": [
    "options(repr.plot.width=6, repr.plot.height=6)\n",
    "\n",
    "selGenes = c(\"Rbx1\", \"Rfwd2\", \"Cul4b\", \"Det1\", \"Ddb1\" )\n",
    "facR2MatPlot = copy(facR2Mat[,selGenes])\n",
    "facR2MatPlot[facR2MatPlot > 0.4] = 0.4\n",
    "facR2MatPlot[facR2MatPlot < 0.05] = 0.05\n",
    "\n",
    "annotDFcol <- guideModulesN[colnames(facR2MatPlot),]\n",
    "annotDFcol$GuideName = NULL\n",
    "head(annotDFcol)\n",
    "\n",
    "xx  = pheatmap(facR2MatPlot[1:15,],\n",
    "         cluster_cols = TRUE,\n",
    "         cluster_rows = FALSE,\n",
    "         annotation_col = annotDFcol,\n",
    "         annotation_colors = annoCols,\n",
    "         clustering_method=\"ward.D2\",\n",
    "         fontsize=20,\n",
    "         clustering_distance_rows=\"euclidean\", colorRampPalette(c(\"white\", \"orange\", \"red\"))(100))\n"
   ]
  },
  {
   "cell_type": "code",
   "execution_count": null,
   "metadata": {},
   "outputs": [],
   "source": [
    "facR2MatPlot = copy(facR2Mat[,highExp])\n",
    "facR2MatPlot = facR2MatPlot[,xx$tree_col$order]\n",
    "\n",
    "facR2MatPlot[facR2MatPlot > 0.8] = 0.8\n",
    "\n",
    "facR2MatPlot[facR2MatPlot < 0.2] = 0.2\n",
    "\n",
    "annotDFcol <- guideModulesN[colnames(facR2MatPlot),]\n",
    "annotDFcol$GuideName = NULL\n",
    "head(annotDFcol)\n",
    "\n",
    "kk = pheatmap(facR2MatPlot,\n",
    "         cluster_cols = FALSE,\n",
    "         cluster_rows = FALSE,\n",
    "         annotation_col = annotDFcol,\n",
    "         annotation_colors = annoCols,\n",
    "         clustering_distance_rows=\"euclidean\", colorRampPalette(c(\"white\", \"orange\", \"red\"))(100))\n",
    "\n",
    "save_pheatmap_pdf(kk, \"Figure_4A_2.pdf\", width=28, height=6)\n"
   ]
  }
 ],
 "metadata": {
  "kernelspec": {
   "display_name": "R",
   "language": "R",
   "name": "ir"
  },
  "language_info": {
   "codemirror_mode": "r",
   "file_extension": ".r",
   "mimetype": "text/x-r-source",
   "name": "R",
   "pygments_lexer": "r",
   "version": "4.2.1"
  }
 },
 "nbformat": 4,
 "nbformat_minor": 4
}
