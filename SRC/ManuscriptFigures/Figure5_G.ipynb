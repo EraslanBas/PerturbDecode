{
 "cells": [
  {
   "cell_type": "code",
   "execution_count": null,
   "id": "193ad573-989a-42d2-af3d-c0648ee43007",
   "metadata": {
    "tags": []
   },
   "outputs": [],
   "source": [
    "source(\"Main.R\")\n",
    "source(\"Conf.R\")\n",
    "source(\"Utilities.R\")\n",
    "library(\"stringr\")\n",
    "library(\"ggpubr\")"
   ]
  },
  {
   "cell_type": "code",
   "execution_count": null,
   "id": "32885677-b8e0-4ae3-8181-5f91dc97c805",
   "metadata": {
    "tags": []
   },
   "outputs": [],
   "source": [
    "models= read.csv(paste0(projectDir, \"/TextFiles/ComboKOModels.csv\"))"
   ]
  },
  {
   "cell_type": "code",
   "execution_count": null,
   "id": "820aa9ac-e503-48c2-8794-116c16fc1e3c",
   "metadata": {},
   "outputs": [],
   "source": [
    "combosObserved <- readRDS(paste0(projectDir, \"/Notebooks/CombinatorialPerturbations/RDSFiles/ComboEffects_lm_residuals.rds\"))\n",
    "combosObserved <- combosObserved[combosObserved$term %ni% c(\"(Intercept)\", \"n_genes\", \"mt_frac\", paste0(\"leiden\", 1:9)),]\n",
    "combosObserved[,c(\"std.error\", \"statistic\", \"p.value\")] = NULL\n",
    "combosObserved$term <- sapply(combosObserved$term, \n",
    "                              function(x){str_replace_all(x, \"_\", \"\")})\n",
    "colnames(combosObserved) = c(\"Group\", \"ObservedLogFCEstimate\", \"respGene\")\n",
    "\n",
    "\n",
    "combosInterP <- readRDS(\"./../Notebooks/CombinatorialPerturbations/RDSFiles/ComboEffects_lm_residuals_withInteractions.rds\")\n",
    "combosInterP <- combosInterP[combosInterP$term %ni% c(\"(Intercept)\", \"n_genes\", \"mt_frac\", paste0(\"leiden\", 1:9)),]\n",
    "combosInterP = data.table(combosInterP)\n",
    "combosInterP[,FDR:=p.adjust(p.value, method = \"fdr\", n = length(p.value)),by=respGene]\n",
    "combosInterP = data.frame(combosInterP)\n",
    "combosInterP$term <- sapply(combosInterP$term, \n",
    "                            function(x){str_replace_all(as.character(x),\"_\",\"\")})\n",
    "combosInterP$term <- sapply(combosInterP$term, \n",
    "                            function(x){str_replace_all(as.character(x),\":\",\"W\")})\n",
    "combosInterP <- combosInterP[,c(\"term\", \"FDR\", \"respGene\")]\n",
    "colnames(combosInterP) = c(\"Group\", \"FDRInteraction\", \"respGene\")\n",
    "\n"
   ]
  },
  {
   "cell_type": "code",
   "execution_count": null,
   "id": "f980ebe1-a228-4cc1-9b0b-202d5c704c18",
   "metadata": {},
   "outputs": [],
   "source": [
    "combosObserved = merge(combosObserved,combosInterP, by=c(\"Group\", \"respGene\"))"
   ]
  },
  {
   "cell_type": "code",
   "execution_count": null,
   "id": "4efe32b6-f596-4cc5-9a67-0f0e0f9db597",
   "metadata": {
    "tags": []
   },
   "outputs": [],
   "source": [
    "options(repr.plot.width=12, repr.plot.height=12)\n",
    "allR2s = data.frame()\n",
    "allSgnR2s = data.frame()\n",
    "\n",
    "for( i in 1:nrow(models)){\n",
    "\n",
    "        allResDF = read.csv(paste0(projectDir, \"/Notebooks/CombinatorialPerturbations/outputs/\", \n",
    "                                   models[i,\"SubFolder\"], \n",
    "                                   \"/\",\n",
    "                                   models[i,\"Model_Name\"],\n",
    "                                   \"/PredictedFC_Coef.csv\"))\n",
    "\n",
    "\n",
    "        allResDF = allResDF[allResDF$X != \"intercept\",]\n",
    "        allResDF = melt(allResDF)\n",
    "        colnames(allResDF) = c(\"Group\",\"respGene\",\"PredictedLogFCEstimate\")\n",
    "        allResDF$Group = sapply(allResDF$Group, \n",
    "                                function(x){strsplit(x, \"perturb_\")[[1]][2]})\n",
    "        allResDF$Group = sapply(allResDF$Group, \n",
    "                                function(x){str_replace(x, \"_\", \"W\")})\n",
    "        allResDF$alpha = models[i,\"Alpha\"]\n",
    "        allResDF$SubFolder = models[i,\"SubFolder\"]\n",
    "\n",
    "\n",
    "\n",
    "        allRes = merge(combosObserved, allResDF , by=c(\"Group\", \"respGene\"))\n",
    "        allRes = data.table(allRes)\n",
    "        allRes[,R2:=round(computeR2(response = ObservedLogFCEstimate, \n",
    "                                    prediction = PredictedLogFCEstimate), \n",
    "                          digits=2),by=Group]\n",
    "        allRes[,MAE:=round(mean(abs(PredictedLogFCEstimate - ObservedLogFCEstimate )), digits=2),by=Group]\n",
    "        allRes = data.frame(allRes)\n",
    "\n",
    "        #head(allResDF, n=50)\n",
    "\n",
    "        allRes$Group1 = sapply(allRes$Group, \n",
    "                               function(x){return(strsplit(as.character(x),\"W\")[[1]][1]) })\n",
    "        allRes$Group2 = sapply(allRes$Group, \n",
    "                               function(x){return(strsplit(as.character(x),\"W\")[[1]][2]) })\n",
    "        allRes$ObsPredDif = allRes$ObservedLogFCEstimate - allRes$PredictedLogFCEstimate\n",
    "        #allRes$AbsObsPredDif = abs(allRes$ObservedLogFCEstimate - allRes$PredictedLogFCEstimate)\n",
    "        allRes$GroupGene = paste0(allRes$Group,\"_\",allRes$respGene)\n",
    "        allRes[is.na(allRes$Group2),\"Group2\"] = allRes[is.na(allRes$Group2),\"Group1\"]\n",
    "\n",
    "        myTmp = unique(allRes[,c(\"R2\",\"MAE\",\"Group1\",\"Group2\",\"alpha\",\"SubFolder\")])\n",
    "        myTmp$Model = models[i,\"Model_Name\"]\n",
    "\n",
    "    \n",
    "        allR2s = rbind(allR2s, myTmp)\n",
    "\n",
    "        # options(repr.plot.width=10, repr.plot.height=10)\n",
    "        # print(ggplot(allRes, aes(x=PredictedLogFCEstimate, y=ObservedLogFCEstimate)) + \n",
    "        #     geom_point(alpha=0.4, shape=20, color=\"blue\") + \n",
    "        #     facet_grid(Group1 ~ Group2)+\n",
    "        #     geom_text(aes(label= paste0(\"R^2 = \",R2), color=\"red\"), x=0, y=-0.3, size=5)+\n",
    "        #     geom_text(aes(label= paste0(\"MAE = \",MAE), color=\"red\"), x=0, y=-0.5, size=5)+\n",
    "        #     geom_abline(linetype=\"dashed\")+\n",
    "        #     theme_minimal()+\n",
    "        #     theme(axis.text = element_text(size = 15),\n",
    "        #           axis.title = element_text(size = 25),\n",
    "        #           strip.text = element_text(size = 25), legend.position='none')+\n",
    "        #     xlim(-0.6,0.6)+ylim(-0.6,0.6)+\n",
    "        #     ylab(\"Observed fold change wrt control (lg2)\")+\n",
    "        #     xlab(\"Predicted fold change wrt control (lg2)\")+ggtitle(models[i,\"Model_Name\"]))\n",
    "\n",
    "\n",
    "\n",
    "        geneDE = allRes[allRes$Group %ni% c(\"K0\", \"K1\", \"K2\", \"K3\", \"K4\", \"K5\"),]\n",
    "        geneDE = geneDE[geneDE$FDRInteraction < 0.1,]\n",
    "        geneDE = data.table(geneDE)\n",
    "\n",
    "        geneDE[,SignR2 := computeR2(response = ObservedLogFCEstimate, prediction = PredictedLogFCEstimate),by=Group]\n",
    "        geneDE[,SignMAE:=round(mean(abs(PredictedLogFCEstimate - ObservedLogFCEstimate )), digits=2),by=Group]\n",
    "\n",
    "        myTmp2 = unique(geneDE[,c(\"SignR2\",\"SignMAE\",\"Group1\",\"Group2\",\"alpha\",\"SubFolder\")])\n",
    "        myTmp2$Model = models[i,\"Model_Name\"]\n",
    "        myTmp2$SubFolder = models[i,\"SubFolder\"]\n",
    "\n",
    "\n",
    "        allSgnR2s = rbind(allSgnR2s, myTmp2)\n",
    "\n",
    "#         options(repr.plot.width=10, repr.plot.height=10)\n",
    "#         print(ggplot(geneDE, aes(x=PredictedLogFCEstimate, y=ObservedLogFCEstimate)) + \n",
    "#         geom_point(alpha=0.4, shape=20, color=\"blue\") + \n",
    "#         facet_grid(Group1 ~ Group2)+\n",
    "#         geom_text(aes(label= paste0(\"MAE = \",SignMAE), color=\"red\"), x=0, y=-0.3, size=7)+\n",
    "#         geom_abline(linetype=\"dashed\")+\n",
    "#         theme_minimal()+\n",
    "#         theme(axis.text = element_text(size = 15),\n",
    "#               axis.title = element_text(size = 25),\n",
    "#               strip.text = element_text(size = 25), legend.position='none')+\n",
    "#         geom_vline(xintercept = 0, linetype=\"dashed\", color=\"red\")+\n",
    "#         geom_hline(yintercept = 0, linetype=\"dashed\", color=\"red\")+\n",
    "#         xlim(-0.4,0.4)+ylim(-0.4,0.4)+\n",
    "#         ylab(\"Observed fold change wrt control (lg2)\")+\n",
    "#         xlab(\"Predicted fold change wrt control (lg2)\")+ggtitle(model))    \n",
    "    \n",
    "}\n"
   ]
  },
  {
   "cell_type": "code",
   "execution_count": null,
   "id": "ea85ca80-7e51-434c-b53b-37da37cbdcbb",
   "metadata": {},
   "outputs": [],
   "source": [
    "allR2sCombos = allR2s[allR2s$SubFolder != \"K_singles\",]\n",
    "allR2sSingles = allR2s[allR2s$SubFolder == \"K_singles\",]"
   ]
  },
  {
   "cell_type": "code",
   "execution_count": null,
   "id": "74fc0b85-1934-412c-bc01-8d68c0a8fd39",
   "metadata": {},
   "outputs": [],
   "source": [
    "allR2sSingles = allR2sSingles[allR2sSingles$alpha %in% unique(allR2sCombos$alpha),]"
   ]
  },
  {
   "cell_type": "code",
   "execution_count": null,
   "id": "49789be0-5f64-435b-944b-0fc44df98377",
   "metadata": {},
   "outputs": [],
   "source": [
    "allR2s_sel = rbind(allR2sCombos, allR2sSingles)"
   ]
  },
  {
   "cell_type": "code",
   "execution_count": null,
   "id": "aba64dc4-3c20-40fd-8a9a-b99b3e6bcf30",
   "metadata": {},
   "outputs": [],
   "source": [
    "allR2s_sel$Group = paste0(allR2s_sel$Group1,\"_\",allR2s_sel$Group2)"
   ]
  },
  {
   "cell_type": "code",
   "execution_count": null,
   "id": "d423d2e4-575e-4756-97f4-bc40b788ac2f",
   "metadata": {},
   "outputs": [],
   "source": [
    "allR2s_sel$SubFolder = factor(allR2s_sel$SubFolder, \n",
    "                              levels=c(\"K_singles\", \"K1K3\", \"K2K3\", \"K2K3_K1K3\"))"
   ]
  },
  {
   "cell_type": "code",
   "execution_count": null,
   "id": "0302a710-365d-46c8-9337-a1f6b5725753",
   "metadata": {},
   "outputs": [],
   "source": [
    "allR2s_sel = data.table(allR2s_sel)"
   ]
  },
  {
   "cell_type": "code",
   "execution_count": null,
   "id": "94c755c2-f0c1-4717-b1ff-2e821365f2c6",
   "metadata": {},
   "outputs": [],
   "source": [
    "allR2s_sel$SubFolderAlpha = paste0(allR2s_sel$SubFolder,\"_\" ,allR2s_sel$alpha)"
   ]
  },
  {
   "cell_type": "code",
   "execution_count": null,
   "id": "723a3038-a499-40c7-ba64-ea95cb006ad8",
   "metadata": {},
   "outputs": [],
   "source": [
    "allR2s_sel[,meanR2 := mean(R2),by=SubFolderAlpha]\n",
    "allR2s_sel = data.frame(allR2s_sel)"
   ]
  },
  {
   "cell_type": "code",
   "execution_count": null,
   "id": "64722c13-672e-416a-9884-aec6b4336ebe",
   "metadata": {},
   "outputs": [],
   "source": [
    "allR2s_sel = allR2s_sel[allR2s_sel$Group %ni% c(\"K0_K0\", \"K1_K1\", \"K2_K2\", \"K3_K3\", \"K4_K4\", \"K5_K5\"),]"
   ]
  },
  {
   "cell_type": "code",
   "execution_count": null,
   "id": "72a3e3f0-912c-407f-a6e7-e47d547bdd08",
   "metadata": {},
   "outputs": [],
   "source": [
    "options(repr.plot.width=20, repr.plot.height=20)\n",
    "#pdf(\"./../SupplementaryFigures/S_6O.pdf\", width = 20, height = 20)\n",
    "ggplot(data=allR2s_sel, aes(x=alphaFactor, y=R2,  fill=SubFolder)) +\n",
    "  facet_wrap(~Group, scales=\"free\", ncol=5)+\n",
    "  geom_boxplot()+\n",
    "  theme_bw()+theme(axis.text.x = element_text(size = 20, angle=90),\n",
    "                   axis.text.y = element_text(size = 20),\n",
    "                   axis.title = element_text(size = 20),\n",
    "                   strip.text=element_text(size = 20),\n",
    "                   legend.position=\"top\")+ylab(\"Explained variance in gene fold change (R^2)\")+\n",
    "                   #stat_compare_means(method = \"wilcox.test\", comparisons = cList)+\n",
    "                   xlab(\"KL loss weight\")\n",
    "\n",
    "#dev.off()"
   ]
  },
  {
   "cell_type": "code",
   "execution_count": null,
   "id": "530b473d-fc10-4db8-8c4d-aadd0146b777",
   "metadata": {},
   "outputs": [],
   "source": [
    "allR2s_sel_subset = allR2s_sel[allR2s_sel$Group %in% c(\"K1_K2\", \"K1_K3\", \"K2_K3\"),]"
   ]
  },
  {
   "cell_type": "code",
   "execution_count": null,
   "id": "bf30ffee-5913-4f5e-91ff-017df21c8e72",
   "metadata": {},
   "outputs": [],
   "source": [
    "options(repr.plot.width=10, repr.plot.height=15)\n",
    "cList = list(c(\"0.2\", \"6\"))\n",
    "\n",
    "#pdf(\"./../SupplementaryFigures/S_6P.pdf\", width = 10, height = 15)\n",
    "ggplot(data=allR2s_sel_subset, aes(x=alphaFactor, y=R2, group=alphaFactor, fill=alphaFactor)) +\n",
    "  facet_grid(SubFolder~Group, scales=\"free\")+\n",
    "  geom_boxplot()+\n",
    "  theme_bw()+theme(axis.text.x = element_text(size = 15, angle=90),\n",
    "                   axis.text.y = element_text(size = 20),\n",
    "                   axis.title = element_text(size = 20),\n",
    "                   strip.text=element_text(size = 20),\n",
    "                   legend.position=\"none\")+ylab(\"Explained variance in gene fold change (R^2)\")+\n",
    "                   stat_compare_means(method = \"wilcox.test\", comparisons = cList, label.y = c(0.7))+\n",
    "                   xlab(\"KL loss weight\")\n",
    "#dev.off()"
   ]
  },
  {
   "cell_type": "code",
   "execution_count": null,
   "id": "f4fff5d3-a240-422c-a5bb-1a9e210144b6",
   "metadata": {},
   "outputs": [],
   "source": [
    "allR2s_sel_alpha6 = allR2s_sel[allR2s_sel$alpha == 6,]"
   ]
  },
  {
   "cell_type": "code",
   "execution_count": null,
   "id": "2dc6b725-c35b-4be7-abe6-38870c19b8fc",
   "metadata": {},
   "outputs": [],
   "source": [
    "allR2s_sel_alpha6 = allR2s_sel_alpha6[allR2s_sel_alpha6$Group %ni% c(\"K0_K0\", \"K1_K1\",\"K2_K2\",\"K3_K3\", \"K4_K4\",\"K5_K5\"),]"
   ]
  },
  {
   "cell_type": "code",
   "execution_count": null,
   "id": "6856871e-1ee8-49de-9895-cce65f7d829d",
   "metadata": {},
   "outputs": [],
   "source": [
    "allR2s_sel_alpha6_sel_1 = allR2s_sel_alpha6[allR2s_sel_alpha6$Group %ni% c(\"K0_K1\",\"K0_K2\", \"K0_K3\", \"K1_K2\",\n",
    "                                                                         \"K1_K3\",\"K1_K4\",\"K2_K3\",\"K3_K4\"),]"
   ]
  },
  {
   "cell_type": "code",
   "execution_count": null,
   "id": "59c358dc-6216-40a0-9502-a7ec903adc39",
   "metadata": {
    "tags": []
   },
   "outputs": [],
   "source": [
    "options(repr.plot.width=30, repr.plot.height=8)\n",
    "cList = list(c(\"K_singles\", \"K1K3\"), c(\"K_singles\", \"K2K3\"), c(\"K_singles\", \"K2K3_K1K3\"))\n",
    "\n",
    "pdf(\"./../SupplementaryFigures/S_7F.pdf\", width = 30, height = 8)\n",
    "ggplot(data=allR2s_sel_alpha6_sel_1, aes(x=SubFolder, y=R2, group=SubFolder, fill=SubFolder)) +\n",
    "  facet_wrap(~Group, scales=\"free\", nrow = 1)+\n",
    "  geom_boxplot()+\n",
    "  theme_bw()+theme(axis.text.x = element_text(size = 25, angle=90),\n",
    "                   axis.text.y = element_text(size = 25),\n",
    "                   axis.title = element_text(size = 25),\n",
    "                   strip.text=element_text(size = 25),\n",
    "                   legend.position=\"none\")+ylab(\"Explained variance in \\n gene fold change(R^2)\")+\n",
    "                   #stat_compare_means(method = \"wilcox.test\", comparisons = cList)+\n",
    "                   xlab(\"Included groups during training\")\n",
    "\n",
    "dev.off()"
   ]
  },
  {
   "cell_type": "code",
   "execution_count": null,
   "id": "8f0bce16-1f83-4ead-ba51-b843681ef902",
   "metadata": {},
   "outputs": [],
   "source": [
    "allR2s_sel_alpha6_sel = allR2s_sel_alpha6[allR2s_sel_alpha6$Group %in% c(\"K0_K1\",\"K0_K2\", \"K0_K3\", \"K1_K2\", \"K1_K3\",\"K1_K4\",\"K2_K3\",\"K3_K4\"),]"
   ]
  },
  {
   "cell_type": "code",
   "execution_count": null,
   "id": "7c0c3f4d-d7fc-4821-b333-664806996131",
   "metadata": {},
   "outputs": [],
   "source": [
    "options(repr.plot.width=15, repr.plot.height=15)\n",
    "cList = list(c(\"K_singles\", \"K1K3\"), c(\"K_singles\", \"K2K3\"), c(\"K_singles\", \"K2K3_K1K3\"))\n",
    "\n",
    "pdf(\"./../Figure_5E.pdf\", width=15, height=15)\n",
    "ggplot(data=allR2s_sel_alpha6_sel, aes(x=SubFolder, y=R2, group=SubFolder, fill=SubFolder)) +\n",
    "  facet_wrap(~Group, scales=\"free\", ncol = 4)+\n",
    "  geom_boxplot()+\n",
    "  theme_bw()+theme(axis.text.x = element_text(size = 25, angle=90),\n",
    "                   axis.text.y = element_text(size = 25),\n",
    "                   axis.title = element_text(size = 25),\n",
    "                   strip.text=element_text(size = 25),\n",
    "                   legend.position=\"none\")+ylab(\"Explained variance in gene fold change (R^2)\")+\n",
    "                   #stat_compare_means(method = \"wilcox.test\", comparisons = cList)+\n",
    "                   xlab(\"Included groups during training\")\n",
    "\n",
    "dev.off()"
   ]
  },
  {
   "cell_type": "code",
   "execution_count": null,
   "id": "a2432bfe-5509-4d57-8175-39e3d5f81350",
   "metadata": {},
   "outputs": [],
   "source": []
  }
 ],
 "metadata": {
  "kernelspec": {
   "display_name": "R",
   "language": "R",
   "name": "ir"
  },
  "language_info": {
   "codemirror_mode": "r",
   "file_extension": ".r",
   "mimetype": "text/x-r-source",
   "name": "R",
   "pygments_lexer": "r",
   "version": "4.2.1"
  }
 },
 "nbformat": 4,
 "nbformat_minor": 5
}
