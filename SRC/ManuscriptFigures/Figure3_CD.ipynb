{
 "cells": [
  {
   "cell_type": "code",
   "execution_count": null,
   "id": "ca46604e-c050-426f-9e89-3c727d2fd031",
   "metadata": {
    "papermill": {
     "duration": 2.497662,
     "end_time": "2020-02-03T11:16:52.810525",
     "exception": false,
     "start_time": "2020-02-03T11:16:50.312863",
     "status": "completed"
    },
    "tags": []
   },
   "outputs": [],
   "source": [
    "from libraries import *\n",
    "from parameters import *\n",
    "from numpy import asarray\n",
    "from numpy import savetxt\n",
    "import matplotlib as mpl\n",
    "from sklearn.preprocessing import LabelEncoder\n",
    "import ot\n",
    "import umap\n",
    "%matplotlib inline"
   ]
  },
  {
   "cell_type": "code",
   "execution_count": null,
   "id": "39e5320c-0654-48a9-8d16-232463453e9f",
   "metadata": {},
   "outputs": [],
   "source": [
    "os.getcwd()\n",
    "os.chdir(projectDir)"
   ]
  },
  {
   "cell_type": "code",
   "execution_count": null,
   "id": "2a4c8427-16a2-47db-bf78-c89f5c6c80fc",
   "metadata": {},
   "outputs": [],
   "source": [
    "%load_ext rpy2.ipython"
   ]
  },
  {
   "cell_type": "code",
   "execution_count": null,
   "id": "cc586273-7a1d-4994-9780-7d3a52bac221",
   "metadata": {},
   "outputs": [],
   "source": [
    "def ot_distance(exp1, exp2, N=None):\n",
    "    if N is not None:\n",
    "        s1 = np.random.choice(exp1.shape[0], N, replace=False)  \n",
    "        exp1 = exp1[s1,:]\n",
    "        s2 = np.random.choice(exp2.shape[0], N, replace=False)\n",
    "        exp2 = exp2[s2,:]\n",
    "    M = ot.dist(exp1, exp2)\n",
    "    #M /= M.max()\n",
    "    \n",
    "    a = np.ones(len(exp1)) / len(exp1)\n",
    "    b = np.ones(len(exp2)) / len(exp2)\n",
    "    \n",
    "    # ot_distance = ot.emd(a, b, M)\n",
    "    # return np.sum(ot_distance*M)\n",
    "    return ot.emd2(a, b, M)"
   ]
  },
  {
   "cell_type": "code",
   "execution_count": null,
   "id": "fd0f97ca-b9a9-460c-a50d-39bbf8e2b7a2",
   "metadata": {},
   "outputs": [],
   "source": [
    "adata = sc.read(par_save_filename_8)\n",
    "zs = [\"K_0\", \"K_1\",\"K_2\", \"K_3\", \"K_4\", \"K_5\", \"K_CONTROL\"]"
   ]
  },
  {
   "cell_type": "code",
   "execution_count": null,
   "id": "71e3db78-96c2-4ae2-a765-3b7996e7f360",
   "metadata": {
    "tags": []
   },
   "outputs": [],
   "source": [
    "dcGenes = pd.read_csv('./PositiveControls/DC_cellstate_genes.csv')\n",
    "\n",
    "dc1Genes = dcGenes[\"DC1 genes\"].unique()\n",
    "dc2Genes = dcGenes[\"DC2 genes\"].unique()\n",
    "mregGenes = dcGenes[\"mregDC genes\"].unique()\n",
    "\n",
    "macGenes = dcGenes[\"Macrophage genes\"].unique()\n",
    "sc.tl.score_genes(adata=adata, gene_list=macGenes, score_name=\"Mac\")\n",
    "\n",
    "\n",
    "allDCgenes = np.concatenate((dc1Genes, dc2Genes, mregGenes))\n",
    "sc.tl.score_genes(adata=adata, gene_list=allDCgenes, score_name=\"DCSig\")\n",
    "\n",
    "adata.obs[\"DCSig_zscore\"] = scipy.stats.zscore(adata.obs[\"DCSig\"])\n",
    "adata.obs[\"Mac_zscore\"] = scipy.stats.zscore(adata.obs[\"Mac\"])\n",
    "\n",
    "adata.obs[\"MACoverDC\"] = adata.obs[\"Mac_zscore\"] - adata.obs[\"DCSig_zscore\"]"
   ]
  },
  {
   "cell_type": "code",
   "execution_count": null,
   "id": "ad5787a4-53d7-4f05-8f53-00b220c5b8d9",
   "metadata": {},
   "outputs": [],
   "source": [
    "adata = adata[adata.obs.leiden.isin(['0', '1', '2']),]"
   ]
  },
  {
   "cell_type": "code",
   "execution_count": null,
   "id": "54e1842e-866f-4990-982b-6db9f016ead2",
   "metadata": {},
   "outputs": [],
   "source": [
    "fBarMat_grouped = adata.obs[zs].T\n",
    "fBarMat_groupedDeneme = fBarMat_grouped.apply(lambda x: ''.join(x.dropna().astype(str)))\n",
    "\n",
    "label_encoder = LabelEncoder()\n",
    "fBarMat_encodedDF = pd.Series(label_encoder.fit_transform(fBarMat_groupedDeneme))\n",
    "fBarMat_encodedDF.index = fBarMat_groupedDeneme.index\n",
    "\n",
    "adata.obs[\"perCat\"] = fBarMat_encodedDF"
   ]
  },
  {
   "cell_type": "code",
   "execution_count": null,
   "id": "fd0ac013-b0d0-4125-8d50-066def4a57f3",
   "metadata": {},
   "outputs": [],
   "source": [
    "fBarMat_encodedDF[fBarMat_encodedDF==6] = \"K0\"\n",
    "fBarMat_encodedDF[fBarMat_encodedDF==5] = \"K1\"\n",
    "fBarMat_encodedDF[fBarMat_encodedDF==4] = \"K2\"\n",
    "fBarMat_encodedDF[fBarMat_encodedDF==3] = \"K3\"\n",
    "fBarMat_encodedDF[fBarMat_encodedDF==2] = \"K4\"\n",
    "fBarMat_encodedDF[fBarMat_encodedDF==1] = \"K5\"\n",
    "fBarMat_encodedDF[fBarMat_encodedDF==0] = \"CONTROL\""
   ]
  },
  {
   "cell_type": "code",
   "execution_count": null,
   "id": "e8591d40-1414-4654-97e9-65315df418cb",
   "metadata": {
    "tags": []
   },
   "outputs": [],
   "source": [
    "adata.obs[\"perCatGroups\"] = fBarMat_encodedDF"
   ]
  },
  {
   "cell_type": "code",
   "execution_count": null,
   "id": "26edb146-a76c-4ca6-afa6-de4d95f6f39f",
   "metadata": {},
   "outputs": [],
   "source": [
    "sc.pl.umap(adata, color='leiden', legend_loc=\"on data\")"
   ]
  },
  {
   "cell_type": "code",
   "execution_count": null,
   "id": "a735c7ca-982d-421a-8b64-52fafeb6bda5",
   "metadata": {},
   "outputs": [],
   "source": [
    "sc.pl.umap(adata, color='perCatGroups', legend_loc=\"on data\")"
   ]
  },
  {
   "cell_type": "code",
   "execution_count": null,
   "id": "75388015-612d-41c9-b00a-a566ad73da70",
   "metadata": {
    "tags": []
   },
   "outputs": [],
   "source": [
    "embedding = umap.UMAP(n_neighbors=18 ).fit_transform(X=pd.DataFrame(adata.X), y=np.array(adata.obs[\"perCat\"]))"
   ]
  },
  {
   "cell_type": "code",
   "execution_count": null,
   "id": "ad7d5c92-4e01-4398-b4d4-999fa03a3fb0",
   "metadata": {},
   "outputs": [],
   "source": [
    "classes = [\"CONTROL\",\"K5\",\"K4\",\"K3\", \"K2\",\"K1\", \"K0\"]\n",
    "fig, ax = plt.subplots(1, figsize=(10, 5))\n",
    "plt.scatter(*embedding.T, s=0.9, c=adata.obs[\"perCat\"], cmap='tab10', alpha=0.5)\n",
    "plt.ylim(-17, -3)\n",
    "plt.xlim(-1, 8)\n",
    "#plt.setp(ax, xticks=[], yticks=[])\n",
    "cbar = plt.colorbar(boundaries=np.arange(8)-0.5)\n",
    "cbar.set_ticks(np.arange(7))\n",
    "cbar.set_ticklabels(classes)\n",
    "plt.ylabel('UMAP1', fontsize = 15) # x-axis label with fontsize 15\n",
    "plt.xlabel('UMAP2', fontsize = 15) # y-axis label with fontsize 15\n",
    "\n",
    "plt.savefig('Figure_3C.pdf')  "
   ]
  },
  {
   "cell_type": "code",
   "execution_count": null,
   "id": "8bcb9a5c-876c-4892-8d21-e105440d609c",
   "metadata": {},
   "outputs": [],
   "source": [
    "fig, ax = plt.subplots(1, figsize=(10, 5))\n",
    "plt.scatter(*embedding.T, s=2, c=adata.obs[\"MACoverDC\"], cmap='coolwarm',alpha=0.5)\n",
    "plt.ylim(-17, -3)\n",
    "plt.xlim(-1, 8)\n",
    "#plt.setp(ax, xticks=[], yticks=[])\n",
    "cbar = plt.colorbar(boundaries=np.arange(-6,4))\n",
    "cbar.set_ticks(np.arange(-6,4))\n",
    "plt.ylabel('UMAP1', fontsize = 15) # x-axis label with fontsize 15\n",
    "plt.xlabel('UMAP2', fontsize = 15) # y-axis label with fontsize 15\n",
    "\n",
    "plt.savefig('Figure_3C_supplement.pdf') "
   ]
  },
  {
   "cell_type": "code",
   "execution_count": null,
   "id": "c757a852-0d58-4e46-bd7b-4400e1abb819",
   "metadata": {},
   "outputs": [],
   "source": [
    "real_dist_mat = pd.DataFrame(np.zeros((7, 7))) \n",
    "real_dist_mat.index= ['CONTROL', 'K0','K1', 'K2', 'K3', 'K4', 'K5']\n",
    "real_dist_mat.columns= ['CONTROL', 'K0', 'K1', 'K2', 'K3', 'K4', 'K5']\n"
   ]
  },
  {
   "cell_type": "code",
   "execution_count": null,
   "id": "55c0ac43-ec22-4db2-92a3-715779acdbba",
   "metadata": {
    "tags": []
   },
   "outputs": [],
   "source": [
    "indNames= ['CONTROL', 'K0', 'K1', 'K2', 'K3', 'K4', 'K5']\n",
    "\n",
    "for i in range(7):\n",
    "    for j in range(i, 7):\n",
    "        x = inDat[adata.obs[\"perCatGroups\"] == indNames[i],] \n",
    "        y = inDat[adata.obs[\"perCatGroups\"] == indNames[j],] \n",
    "\n",
    "        otDists =  pd.DataFrame(np.zeros((100)))\n",
    "\n",
    "        for z in range(100):\n",
    "            otDists.loc[z] = ot_distance(x, y, N=300)\n",
    "\n",
    "        real_dist_mat.loc[indNames[i],indNames[j]] = np.round(np.float(otDists.mean(axis=0)), -1)\n"
   ]
  },
  {
   "cell_type": "code",
   "execution_count": null,
   "id": "2ace9f6d-c65e-4918-9a1c-e03357e9bbb1",
   "metadata": {},
   "outputs": [],
   "source": [
    "real_dist_mat.columns = [\"CONTROL\", \"K0\", \"K1\", \"K2\", \"K3\", \"K4\", \"K5\"]\n",
    "real_dist_mat.index = [\"CONTROL\", \"K0\", \"K1\", \"K2\", \"K3\", \"K4\", \"K5\"]"
   ]
  },
  {
   "cell_type": "code",
   "execution_count": null,
   "id": "6db3d5a7-ff8a-4b08-8982-bf1ee2ecbb66",
   "metadata": {},
   "outputs": [],
   "source": [
    "plt.figure(figsize = (8,7))\n",
    "\n",
    "mask = np.zeros_like(real_dist_mat)\n",
    "mask[np.tril_indices_from(mask, k=-1)] = True\n",
    "#sns.heatmap(corr, mask=mask, vmax=.3, square=True)\n",
    "\n",
    "#ax = sns.heatmap(real_dist_mat, annot=True, mask=mask, vmin=6, vmax=9.5)\n",
    "ax = sns.heatmap(real_dist_mat, annot=True, mask=mask, cmap=\"coolwarm\", fmt='.0f')\n",
    "#plt.ylabel('Real values', fontsize = 15) # x-axis label with fontsize 15\n",
    "#plt.xlabel('Real values', fontsize = 15) # y-axis label with fontsize 15\n",
    "\n",
    "#plt.show()\n",
    "\n",
    "plt.savefig('Figure_3D.pdf')  "
   ]
  },
  {
   "cell_type": "code",
   "execution_count": null,
   "id": "960c3784-1228-41af-889d-24b0d5527033",
   "metadata": {},
   "outputs": [],
   "source": []
  }
 ],
 "metadata": {
  "kernelspec": {
   "display_name": "Python 3 (ipykernel)",
   "language": "python",
   "name": "python3"
  },
  "language_info": {
   "codemirror_mode": {
    "name": "ipython",
    "version": 3
   },
   "file_extension": ".py",
   "mimetype": "text/x-python",
   "name": "python",
   "nbconvert_exporter": "python",
   "pygments_lexer": "ipython3",
   "version": "3.8.13"
  }
 },
 "nbformat": 4,
 "nbformat_minor": 5
}
