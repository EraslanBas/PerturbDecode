{
 "cells": [
  {
   "cell_type": "code",
   "execution_count": null,
   "id": "7b802c99-63dd-4773-9c7c-84c4d4019f41",
   "metadata": {
    "tags": []
   },
   "outputs": [],
   "source": [
    "source(\"Main.R\")\n",
    "source(\"Conf.R\")\n",
    "source(\"Utilities.R\")\n",
    "\n",
    "setwd(rDir)"
   ]
  },
  {
   "cell_type": "code",
   "execution_count": null,
   "id": "cc045921-bcfa-4dc8-9b32-87d2c535d26a",
   "metadata": {},
   "outputs": [],
   "source": [
    "allWeights <- read.csv(\"./GuideCellLM/GuideSelect_weights.csv\", \n",
    "                       row.names = 1,\n",
    "                       stringsAsFactors = F)\n",
    "\n",
    "\n",
    "pValsAll <- read.csv(\"./GuideCellLM/GuideSelect_pvals.csv\", \n",
    "                     row.names = 1,\n",
    "                     stringsAsFactors = F)"
   ]
  },
  {
   "cell_type": "code",
   "execution_count": null,
   "id": "a6d43af3-d03c-4202-88c4-93f81581ec21",
   "metadata": {},
   "outputs": [],
   "source": [
    "M = cor(allWeights, method = \"pearson\")\n",
    "M <- as.data.frame(M)\n",
    "myDist <- unlist(M)\n",
    "myDistFlat = data.frame(guidea=names(myDist), sDist= myDist)\n",
    "myDistFlat$guidea = rep(rownames(M), each=nrow(M))\n",
    "myDistFlat$guideb = rep(rownames(M), times = nrow(M))\n",
    "\n",
    "myDistFlat <- myDistFlat[myDistFlat$guidea != myDistFlat$guideb,]\n",
    "myDistFlat$guides_ab = apply(myDistFlat[,c(\"guidea\",\"guideb\")], 1,\n",
    "                             function(x){return(paste(sort(x), collapse = \"_\"))})\n",
    "\n",
    "myDistFlat$guidea <- NULL\n",
    "myDistFlat$guideb <- NULL\n",
    "\n",
    "myDistFlat$GeneA <- sapply(myDistFlat$guides_ab, function(x){strsplit(x,\"_\")[[1]][1]})\n",
    "myDistFlat$GeneB <- sapply(myDistFlat$guides_ab, function(x){strsplit(x,\"_\")[[1]][3]})\n",
    "\n",
    "myDistFlat$sameGene <- FALSE\n",
    "myDistFlat[myDistFlat$GeneA == myDistFlat$GeneB,\"sameGene\"] <- TRUE\n"
   ]
  },
  {
   "cell_type": "code",
   "execution_count": null,
   "id": "27fc581f-50e7-4a69-837e-7ea554996665",
   "metadata": {},
   "outputs": [],
   "source": [
    "allWeights <- read.csv(\"./GuideCellLM/GuideSelect_weights.csv\", \n",
    "                       row.names = 1,\n",
    "                       stringsAsFactors = F)"
   ]
  },
  {
   "cell_type": "code",
   "execution_count": null,
   "id": "53b9c74f-1c36-40a3-b452-403057f0cd37",
   "metadata": {
    "tags": []
   },
   "outputs": [],
   "source": [
    "allControlCoefs = read.csv(\"./ControlGuideEffects/Control_coefs.csv\".\n",
    "                           row.names = 1,\n",
    "                           stringsAsFactors = F)\n",
    "allPValues = read.csv(\"./ControlGuideEffects/Control_pValues.csv\",\n",
    "                     row.names = 1,\n",
    "                     stringsAsFactors = F)"
   ]
  },
  {
   "cell_type": "code",
   "execution_count": null,
   "id": "c6f50f2d-4a5b-47fd-862d-237c7d9672e2",
   "metadata": {
    "tags": []
   },
   "outputs": [],
   "source": [
    "allControlCoefs = t(allControlCoefs)\n",
    "allPValues = t(allPValues)"
   ]
  },
  {
   "cell_type": "code",
   "execution_count": null,
   "id": "68fa874a-419a-40ad-bc44-fe608a0fb86c",
   "metadata": {},
   "outputs": [],
   "source": [
    "M_control = cor(allWeights, allControlCoefs[1:nrow(allWeights), ], method = \"pearson\")"
   ]
  },
  {
   "cell_type": "code",
   "execution_count": null,
   "id": "928a01f8-e726-48d5-a21b-e50fcaf1e8d8",
   "metadata": {},
   "outputs": [],
   "source": [
    "M_control <- as.data.frame(M_control)\n",
    "M_control$TargetGuide = rownames(M_control)\n",
    "myDist <- melt(M_control)\n"
   ]
  },
  {
   "cell_type": "code",
   "execution_count": null,
   "id": "1e92439f-0208-4ee0-a7da-2cb282b5d4e3",
   "metadata": {},
   "outputs": [],
   "source": [
    "myDist$GeneA = sapply(myDist$variable, function(x){k = strsplit(as.character(x),\"_\")[[1]]\n",
    "                                         return(paste0(k[-length(k)], collapse=\"_\"))})\n",
    "myDist$GeneB = \"Target\"\n",
    "myDist$sameGene = \"NO_TARGET_CONTROL\"\n",
    "myDist[myDist$GeneA == \"ONE_NONGENE_SITE\", \"sameGene\"] = \"ONE_NONGENE_SITE_CONTROL\"\n",
    "myDist$guides_ab = paste0(myDist$GeneA, \"_\", myDist$GeneB)"
   ]
  },
  {
   "cell_type": "code",
   "execution_count": null,
   "id": "7e75bf00-efb3-4d91-b2e5-473df46b1988",
   "metadata": {},
   "outputs": [],
   "source": [
    "myDist <- myDist[,c(\"value\", \"guides_ab\", \"GeneA\", \"GeneB\", \"sameGene\")]\n",
    "colnames(myDist) = c(\"sDist\", \"guides_ab\", \"GeneA\", \"GeneB\", \"sameGene\")"
   ]
  },
  {
   "cell_type": "code",
   "execution_count": null,
   "id": "f53e7d9a-1a9b-4505-852e-1da816c68b00",
   "metadata": {},
   "outputs": [],
   "source": [
    "myDistFlat <- readRDS(paste0(rdsDir,\"GuideSelect_betaCovPearsonFlat.rds\") )"
   ]
  },
  {
   "cell_type": "code",
   "execution_count": null,
   "id": "7870f775-9573-4ec6-9c76-c144d420d080",
   "metadata": {},
   "outputs": [],
   "source": [
    "myDistFlat[myDistFlat$sameGene == \"TRUE\",\"sameGene\"] = \"SAME_GENE\"\n",
    "myDistFlat[myDistFlat$sameGene == \"FALSE\",\"sameGene\"] = \"DIFFERENT_GENE\""
   ]
  },
  {
   "cell_type": "code",
   "execution_count": null,
   "id": "10b9f5f0-fbc6-4099-98bf-4e1085ef45fa",
   "metadata": {},
   "outputs": [],
   "source": [
    "myDistFlatALL <- rbind(myDistFlat, myDist)"
   ]
  },
  {
   "cell_type": "code",
   "execution_count": null,
   "id": "7c44e026-58b6-461a-ac9d-2ca2754d3f14",
   "metadata": {},
   "outputs": [],
   "source": [
    "mu <- ddply(myDistFlatALL, \"sameGene\", summarise, grp.mean=mean(sDist))\n",
    "mu"
   ]
  },
  {
   "cell_type": "code",
   "execution_count": null,
   "id": "3f2f283f-d963-498a-ab63-5a0517232295",
   "metadata": {},
   "outputs": [],
   "source": [
    "options(repr.plot.width=10, repr.plot.height=4)\n",
    "\n",
    "pdf(\"./../SupplementaryFigures/S_1F.pdf\", width = 10, height = 4)\n",
    "ggplot(myDistFlatALL, aes(sDist, colour = sameGene)) +\n",
    "  stat_ecdf(geom = \"step\")+theme_minimal()+\n",
    "labs(\n",
    "     x=\"Pearson correlation between guide effect sizes\", \n",
    "     y = \"CDF\")+theme(axis.text = element_text(size=15),\n",
    "              axis.title =  element_text(size=16))+xlim(-0.25, 0.25)\n",
    "\n",
    "dev.off()"
   ]
  },
  {
   "cell_type": "code",
   "execution_count": null,
   "id": "98e14b7f-d8b1-473b-addd-0013bace9e95",
   "metadata": {},
   "outputs": [],
   "source": [
    "mu <- ddply(myDistFlatALL, \"sameGene\", summarise, grp.mean=mean(sDist))\n",
    "options(repr.plot.width=10, repr.plot.height=5)\n",
    "\n",
    "\n",
    "ggplot(myDistFlatALL, aes(x=sDist, color=sameGene, fill=sameGene)) +\n",
    "geom_histogram(aes(y=..density..), position=\"identity\", alpha=0.3, binwidth = 0.005)+\n",
    "#geom_density(alpha=0.6)+\n",
    "geom_vline(data=mu, aes(xintercept=grp.mean, color=sameGene),\n",
    "           linetype=\"dashed\")+\n",
    "# geom_vline(xintercept=0.015, color=\"black\",\n",
    "#            linetype=\"dashed\")+\n",
    "#scale_color_manual(values=c(\"#E69F00\", \"#999999\", \"blue\"))+\n",
    "#scale_fill_manual(values=c(\"#E69F00\", \"#999999\", \"blue\"))+\n",
    "labs(\n",
    "     x=\"Pearson correlation between guide effect sizes\", \n",
    "     y = \"Density\")+\n",
    "theme_bw()+theme(axis.text = element_text(size=15),\n",
    "              axis.title =  element_text(size=16)) +\n",
    "scale_x_continuous(breaks = seq(-0.1,0.5,0.1), \n",
    "                   labels =  seq(-0.1,0.5,0.1),\n",
    "                   limits = c(-0.1,0.5) )"
   ]
  },
  {
   "cell_type": "code",
   "execution_count": null,
   "id": "0095b3c3-464f-452f-9a98-0477b9ee4355",
   "metadata": {},
   "outputs": [],
   "source": [
    "x <- myDistFlatALL[myDistFlatALL$sameGene == \"SAME_GENE\", \"sDist\"]\n",
    "y <- myDistFlatALL[myDistFlatALL$sameGene == \"DIFFERENT_GENE\", \"sDist\"]"
   ]
  },
  {
   "cell_type": "code",
   "execution_count": null,
   "id": "42ae1672-a8c3-44b9-a0e6-9bf07de5ae03",
   "metadata": {},
   "outputs": [],
   "source": [
    "x <- myDistFlatALL[myDistFlatALL$sameGene == \"SAME_GENE\", \"sDist\"]\n",
    "y <- myDistFlatALL[myDistFlatALL$sameGene == \"CONTROL_GUIDE\", \"sDist\"]\n",
    "ks.test(x,y, alternative=\"l\")"
   ]
  }
 ],
 "metadata": {
  "kernelspec": {
   "display_name": "R",
   "language": "R",
   "name": "ir"
  },
  "language_info": {
   "codemirror_mode": "r",
   "file_extension": ".r",
   "mimetype": "text/x-r-source",
   "name": "R",
   "pygments_lexer": "r",
   "version": "4.2.1"
  }
 },
 "nbformat": 4,
 "nbformat_minor": 5
}
