{
 "cells": [
  {
   "cell_type": "code",
   "execution_count": null,
   "id": "052096cf-c92c-4ed9-ac7c-8c137bd48a60",
   "metadata": {
    "tags": []
   },
   "outputs": [],
   "source": [
    "source(\"Main.R\")\n",
    "source(\"Conf.R\")\n",
    "source(\"Utilities.R\")"
   ]
  },
  {
   "cell_type": "code",
   "execution_count": null,
   "id": "18e6839d-4089-4f8d-89fa-d6ec74dc3615",
   "metadata": {},
   "outputs": [],
   "source": [
    "nCellsGuide = read.csv(\"./../TextFiles/NoOfCellsPerGuide.csv\")\n",
    "nCellsGuide$cellRatio = nCellsGuide$nCellsScreen / nCellsGuide$nCellsPool\n",
    "nCellsGuide$GuideType = \"CONTROL\"\n",
    "nCellsGuide[nCellsGuide$type == \"Gene\", \"GuideType\"] = \"KO Guide\""
   ]
  },
  {
   "cell_type": "code",
   "execution_count": null,
   "id": "6428ef51-df4f-4b27-b4fb-f99db65a8537",
   "metadata": {},
   "outputs": [],
   "source": [
    "options(repr.plot.width=6, repr.plot.height=5)\n",
    "\n",
    "ggplot(nCellsGuide, aes(x=cellRatio, color=GuideType, fill=GuideType)) +\n",
    "    #geom_histogram(aes(y=..density..), position=\"identity\", alpha=0.2, binwidth = 0.02)+\n",
    "    geom_density(alpha=0.1)+\n",
    "    labs(x=\"(# of cells in the screen) / (# of cells in the initial pool) \", y = \"Density\")+\n",
    "    theme_bw()+geom_vline(xintercept = 0.085, color=\"blue\")"
   ]
  },
  {
   "cell_type": "code",
   "execution_count": null,
   "id": "7c86d389-c3c4-49c5-9537-3b475475ecae",
   "metadata": {},
   "outputs": [],
   "source": [
    "options(repr.plot.width=7, repr.plot.height=4)\n",
    "pdf(\"./../SupplementaryFigures/S_2Z.pdf\", height=4, width=7)\n",
    "ggplot(nCellsGuide, aes(cellRatio, colour = GuideType)) +\n",
    "  stat_ecdf(geom = \"step\")+theme_minimal()+\n",
    "labs(\n",
    "     x=\"(# of guides in the screen) / (# of guides in the initial pool)\", \n",
    "     y = \"CDF\")+theme(axis.text = element_text(size=15),\n",
    "              axis.title =  element_text(size=16))+xlim(0, 1)+\n",
    "geom_segment(aes(x = 0, y = 0.05, xend = 0.08587, yend = 0.05), color=\"blue\")+\n",
    "geom_segment(aes(x = 0.08587, y = 0, xend = 0.08587, yend = 0.05), color=\"blue\")\n",
    "\n",
    "dev.off()\n",
    "#geom_hline(yintercept = 0.05, color=\"blue\")"
   ]
  },
  {
   "cell_type": "code",
   "execution_count": null,
   "id": "a33e253d-8343-4736-a373-abf99528e97e",
   "metadata": {},
   "outputs": [],
   "source": [
    "k = nCellsGuide[nCellsGuide$GuideType == \"CONTROL\",\"cellRatio\"]\n",
    "d_fun <- ecdf (k)\n",
    "d_fun(0.08587)"
   ]
  },
  {
   "cell_type": "code",
   "execution_count": null,
   "id": "2684b2f7-83d7-4dc7-ba12-aab500cc068d",
   "metadata": {},
   "outputs": [],
   "source": [
    "nCellsKOGuides = nCellsGuide[nCellsGuide$type == \"Gene\",]"
   ]
  },
  {
   "cell_type": "code",
   "execution_count": null,
   "id": "eb5e8e35-26b7-45b2-893a-c417ed2d7937",
   "metadata": {},
   "outputs": [],
   "source": [
    "for(i in 1:nrow(nCellsKOGuides)){\n",
    "    nCellsKOGuides[i,\"Pval\"] = d_fun(nCellsKOGuides[i,\"cellRatio\"])\n",
    "}\n",
    "\n",
    "nCellsKOGuides$Gene = sapply(nCellsKOGuides$Guide, \n",
    "                             function(x){strsplit(x,\"_\")[[1]][1]})"
   ]
  },
  {
   "cell_type": "code",
   "execution_count": null,
   "id": "54f72bc6-3cd6-45ee-9e3b-2e80d27e184d",
   "metadata": {},
   "outputs": [],
   "source": [
    "write.csv(nCellsKOGuides, \"GuideDepletion.csv\", row.names=FALSE)"
   ]
  },
  {
   "cell_type": "code",
   "execution_count": null,
   "id": "dd004ca5-14cf-4ac1-a8d6-9ae75bf484d0",
   "metadata": {},
   "outputs": [],
   "source": [
    "nCellsKOGuidesDepleted = nCellsKOGuides[nCellsKOGuides$Pval < 0.05,]"
   ]
  },
  {
   "cell_type": "code",
   "execution_count": null,
   "id": "4070ed4d-66c3-4d0c-92f9-0e36ec536424",
   "metadata": {},
   "outputs": [],
   "source": [
    "write.csv(nCellsKOGuidesDepleted, \"GuideDepletion_ControlGuidesBackground.csv\", row.names=FALSE)"
   ]
  },
  {
   "cell_type": "code",
   "execution_count": null,
   "id": "14566789-5289-4be3-b8a9-650f3251214b",
   "metadata": {},
   "outputs": [],
   "source": [
    "hh <- table(nCellsKOGuidesDepleted$Gene)"
   ]
  },
  {
   "cell_type": "code",
   "execution_count": null,
   "id": "da2080f3-2a63-41c6-9bb8-229c598b3729",
   "metadata": {},
   "outputs": [],
   "source": [
    "hh = hh[order(hh)]\n",
    "hh = hh[hh>1]"
   ]
  },
  {
   "cell_type": "code",
   "execution_count": null,
   "id": "a72ae9de-9e98-46eb-9fb2-5bfec6668465",
   "metadata": {
    "tags": []
   },
   "outputs": [],
   "source": [
    "data.frame(GuideName=names(hh), NumberOfGuides=hh)"
   ]
  }
 ],
 "metadata": {
  "kernelspec": {
   "display_name": "R",
   "language": "R",
   "name": "ir"
  },
  "language_info": {
   "codemirror_mode": "r",
   "file_extension": ".r",
   "mimetype": "text/x-r-source",
   "name": "R",
   "pygments_lexer": "r",
   "version": "4.2.1"
  }
 },
 "nbformat": 4,
 "nbformat_minor": 5
}
