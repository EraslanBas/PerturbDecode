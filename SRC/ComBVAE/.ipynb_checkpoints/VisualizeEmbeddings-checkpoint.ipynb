{
 "cells": [
  {
   "cell_type": "code",
   "execution_count": 1,
   "id": "9e9a24e5-bc5f-4b26-93cb-081f3c8cfcaa",
   "metadata": {},
   "outputs": [],
   "source": [
    "from libraries import *\n",
    "from logger import setup_logger\n",
    "from CVAE_model import E3ScreenDataset, VAE, Encoder, Decoder, get_loss_fn, EmbeddingLayer\n",
    "from Training import train_model_CVAE, train_model_multilab, evaluate_model_CVAE, evaluate_model_CVAE_multilab\n",
    "\n",
    "import torch\n",
    "from torch.utils.data import Dataset, DataLoader\n",
    "\n",
    "import bisect\n",
    "from itertools import accumulate\n",
    "import argparse\n",
    "\n",
    "import sys\n",
    "import os\n",
    "import logger\n",
    "import torch.nn as nn\n",
    "import torch\n",
    "from torch import optim\n"
   ]
  },
  {
   "cell_type": "code",
   "execution_count": 2,
   "id": "60ac5e90-dde8-4304-bd2c-b324296d0d57",
   "metadata": {},
   "outputs": [],
   "source": [
    "n_inputs = 1041\n",
    "n_cond_in= 6\n",
    "n_cond= 64\n",
    "n_latents= 64\n",
    "save_dir= './Notebooks/CombinatorialPerturbations/outputs'\n",
    "model_dir= 'model_alpha_0_second'\n",
    "datafile= \"./Notebooks/CombinatorialPerturbations/dataset/adataComboGroupsAll.h5ad\"\n",
    "batch_size= 1000\n",
    "project_dir= \"/home/eraslab1/Projects/E3Ligase/analysisSingle\"\n"
   ]
  },
  {
   "cell_type": "code",
   "execution_count": 5,
   "id": "da21ca9c-6e3c-402b-8d2a-d3a5bb56395c",
   "metadata": {},
   "outputs": [],
   "source": [
    "os.getcwd()\n",
    "os.chdir(project_dir)"
   ]
  },
  {
   "cell_type": "code",
   "execution_count": 3,
   "id": "86446ec4-087d-4810-8127-8965fdbcda0b",
   "metadata": {},
   "outputs": [],
   "source": [
    "net = VAE(n_inputs=n_inputs,\n",
    "          n_latents=n_latents,\n",
    "          n_cond=n_cond,\n",
    "          n_cond_in=n_cond_in)"
   ]
  },
  {
   "cell_type": "code",
   "execution_count": 6,
   "id": "3f15b039-99bb-47c1-b539-c601aeb2b323",
   "metadata": {},
   "outputs": [
    {
     "data": {
      "text/plain": [
       "<All keys matched successfully>"
      ]
     },
     "execution_count": 6,
     "metadata": {},
     "output_type": "execute_result"
    }
   ],
   "source": [
    "net.load_state_dict(torch.load(os.path.join(save_dir,model_dir,\"best.pth\"))['state_dict'])"
   ]
  },
  {
   "cell_type": "code",
   "execution_count": 7,
   "id": "92b47ffe-e7c8-4d04-b975-338515e9fe5f",
   "metadata": {},
   "outputs": [],
   "source": [
    "dataset = E3ScreenDataset(datafile)\n",
    "dataloader = DataLoader(dataset, \n",
    "                        batch_size=batch_size,\n",
    "                        drop_last=False,\n",
    "                        shuffle=False,\n",
    "                        num_workers=50)"
   ]
  },
  {
   "cell_type": "code",
   "execution_count": 15,
   "id": "504a6c84-7be1-4a66-8f57-1ecfec50d238",
   "metadata": {},
   "outputs": [],
   "source": [
    "total_embeddings = []\n",
    "allConditions = []\n",
    "for sample in dataloader:\n",
    "    with torch.no_grad():\n",
    "        #input = sample['y'].cuda() if next(model.parameters()).is_cuda else sample['y']\n",
    "        #condition = sample['X'].cuda() if next(model.parameters()).is_cuda else sample['X']\n",
    "        input = sample['y']\n",
    "        condition = sample['X']\n",
    "        embeddings = net.inference(input, condition)\n",
    "        \n",
    "        total_embeddings.append(embeddings)\n",
    "        allConditions.append(condition)\n"
   ]
  },
  {
   "cell_type": "code",
   "execution_count": 16,
   "id": "d7fbc249-10b4-48b5-82ca-455a0c216b64",
   "metadata": {},
   "outputs": [],
   "source": [
    "total_embeddings = torch.cat(total_embeddings, 0)\n",
    "allConditions = torch.cat(allConditions, 0)"
   ]
  },
  {
   "cell_type": "code",
   "execution_count": 17,
   "id": "1610214e-a37c-404d-b4c6-7c5fd757ac2a",
   "metadata": {},
   "outputs": [],
   "source": [
    "total_embeddings = total_embeddings.numpy()\n",
    "allConditions = allConditions.numpy()"
   ]
  },
  {
   "cell_type": "code",
   "execution_count": 21,
   "id": "757f8fec-9afa-48ab-a957-db4203d883ad",
   "metadata": {},
   "outputs": [
    {
     "data": {
      "text/plain": [
       "(97416, 64)"
      ]
     },
     "execution_count": 21,
     "metadata": {},
     "output_type": "execute_result"
    }
   ],
   "source": [
    "total_embeddings.shape"
   ]
  },
  {
   "cell_type": "code",
   "execution_count": 22,
   "id": "38932c58-32d9-4ddb-b183-b86688b8e3f2",
   "metadata": {},
   "outputs": [
    {
     "data": {
      "text/plain": [
       "array([[0., 1., 0., 0., 0., 0.],\n",
       "       [0., 0., 0., 1., 0., 0.],\n",
       "       [1., 0., 0., 0., 0., 0.],\n",
       "       ...,\n",
       "       [0., 0., 1., 0., 0., 1.],\n",
       "       [1., 0., 1., 0., 0., 0.],\n",
       "       [0., 0., 1., 1., 0., 0.]], dtype=float32)"
      ]
     },
     "execution_count": 22,
     "metadata": {},
     "output_type": "execute_result"
    }
   ],
   "source": [
    "allConditions"
   ]
  },
  {
   "cell_type": "code",
   "execution_count": null,
   "id": "b73455c1-71bf-47e6-a0d5-caf02274c4e9",
   "metadata": {},
   "outputs": [],
   "source": []
  }
 ],
 "metadata": {
  "kernelspec": {
   "display_name": "Python 3 (ipykernel)",
   "language": "python",
   "name": "python3"
  },
  "language_info": {
   "codemirror_mode": {
    "name": "ipython",
    "version": 3
   },
   "file_extension": ".py",
   "mimetype": "text/x-python",
   "name": "python",
   "nbconvert_exporter": "python",
   "pygments_lexer": "ipython3",
   "version": "3.8.13"
  }
 },
 "nbformat": 4,
 "nbformat_minor": 5
}
