{
 "cells": [
  {
   "cell_type": "raw",
   "metadata": {
    "papermill": {
     "duration": 2.497662,
     "end_time": "2020-02-03T11:16:52.810525",
     "exception": false,
     "start_time": "2020-02-03T11:16:50.312863",
     "status": "completed"
    },
    "tags": []
   },
   "source": [
    "from libraries import *\n",
    "from parameters import *\n",
    "import statsmodels.api as sm\n",
    "import sklearn.feature_selection\n",
    "import statsmodels.api as sm\n",
    "import sklearn.feature_selection\n",
    "from sklearn.preprocessing import PolynomialFeatures\n",
    "import warnings\n",
    "warnings.filterwarnings('ignore')\n",
    "#from statannot import add_stat_annotation\n",
    "from numpy.random import seed\n",
    "from numpy.random import randint\n",
    "import statsmodels.formula.api as smf\n",
    "\n",
    "%load_ext rpy2.ipython\n"
   ]
  },
  {
   "cell_type": "code",
   "execution_count": 3,
   "metadata": {
    "tags": [
     "parameters"
    ]
   },
   "outputs": [],
   "source": [
    "setIndex_1=0"
   ]
  },
  {
   "cell_type": "code",
   "execution_count": 4,
   "metadata": {},
   "outputs": [],
   "source": [
    "os.getcwd()\n",
    "os.chdir(projectDir)"
   ]
  },
  {
   "cell_type": "code",
   "execution_count": 5,
   "metadata": {},
   "outputs": [
    {
     "name": "stdout",
     "output_type": "stream",
     "text": [
      "10\n"
     ]
    }
   ],
   "source": [
    "setIndex_2= setIndex_1+10\n",
    "print(setIndex_2)"
   ]
  },
  {
   "cell_type": "code",
   "execution_count": 7,
   "metadata": {},
   "outputs": [],
   "source": [
    "adataC = sc.read('outputs/anndata/adata-hash-features_singlets_SingleKO_08122020_PerGENE.h5ad')\n",
    "allGeneNames = pd.read_csv(\"AllExpGeneNames.csv\", index_col=0)\n"
   ]
  },
  {
   "cell_type": "code",
   "execution_count": 8,
   "metadata": {},
   "outputs": [
    {
     "data": {
      "text/plain": [
       "(6685,)"
      ]
     },
     "execution_count": 8,
     "metadata": {},
     "output_type": "execute_result"
    }
   ],
   "source": [
    "adataC.X.mean(axis=0).shape"
   ]
  },
  {
   "cell_type": "code",
   "execution_count": 9,
   "metadata": {},
   "outputs": [],
   "source": [
    "covariates = adataC.uns['feature_barcode_names_filtered_GENES']\n",
    "covariates = covariates[covariates != \"GENE_CONTROL_\"]"
   ]
  },
  {
   "cell_type": "code",
   "execution_count": 10,
   "metadata": {},
   "outputs": [
    {
     "data": {
      "text/plain": [
       "1031"
      ]
     },
     "execution_count": 10,
     "metadata": {},
     "output_type": "execute_result"
    }
   ],
   "source": [
    "len(covariates)"
   ]
  },
  {
   "cell_type": "code",
   "execution_count": 11,
   "metadata": {},
   "outputs": [],
   "source": [
    "guideMatrix = adataC.obs[covariates]\n",
    "guideMatrix.shape\n",
    "guideMatrix.rename(columns = {'GENE_Rnf8-cmtr1_':'GENE_Rnf8cmtr1_'}, inplace = True) \n",
    "guideMatrix.rename(columns = {'GENE_Siah1-ps1_':'GENE_Siah1ps1_'}, inplace = True) \n",
    "guideMatrix.rename(columns = {'GENE_Siah1-ps2_':'GENE_Siah1ps2_'}, inplace = True) \n",
    "\n",
    "KOGenes = pd.Series(guideMatrix.columns)"
   ]
  },
  {
   "cell_type": "code",
   "execution_count": 12,
   "metadata": {},
   "outputs": [
    {
     "data": {
      "text/plain": [
       "(242938, 1034)"
      ]
     },
     "execution_count": 12,
     "metadata": {},
     "output_type": "execute_result"
    }
   ],
   "source": [
    "## Add covariates that should be corrected for\n",
    "df = adataC.obs[[\"n_genes\", \"mt_frac\", \"leiden\" ]]\n",
    "\n",
    "guideMatrix = guideMatrix.join(df)\n",
    "guideMatrix.shape"
   ]
  },
  {
   "cell_type": "code",
   "execution_count": 13,
   "metadata": {},
   "outputs": [],
   "source": [
    "expressionMatrix = pd.DataFrame(adataC.raw.X.A)\n",
    "expressionMatrix.columns = allGeneNames.iloc[:,0]\n",
    "expressionMatrix = expressionMatrix[adataC.var_names]\n",
    "expressionMatrix.index = adataC.obs.index"
   ]
  },
  {
   "cell_type": "code",
   "execution_count": 14,
   "metadata": {},
   "outputs": [],
   "source": [
    "selColumns = pd.Series(KOGenes[setIndex_1:setIndex_2]).append(pd.Series([\"n_genes\", \"mt_frac\", \"leiden\"]))"
   ]
  },
  {
   "cell_type": "code",
   "execution_count": 15,
   "metadata": {},
   "outputs": [
    {
     "data": {
      "text/plain": [
       "41123"
      ]
     },
     "execution_count": 15,
     "metadata": {},
     "output_type": "execute_result"
    }
   ],
   "source": [
    "sum(adataC.obs[\"GENE_CONTROL_\"] == 1)"
   ]
  },
  {
   "cell_type": "code",
   "execution_count": 18,
   "metadata": {
    "tags": []
   },
   "outputs": [
    {
     "data": {
      "text/plain": [
       "0    12120\n",
       "1     9730\n",
       "2     7980\n",
       "3     6149\n",
       "4     1603\n",
       "5     1259\n",
       "6      954\n",
       "7      701\n",
       "8      584\n",
       "9       43\n",
       "Name: leiden, dtype: int64"
      ]
     },
     "execution_count": 18,
     "metadata": {},
     "output_type": "execute_result"
    }
   ],
   "source": [
    "k = adataC[adataC.obs[\"GENE_CONTROL_\"] == 1]\n",
    "k.obs[\"leiden\"].value_counts()"
   ]
  },
  {
   "cell_type": "code",
   "execution_count": 21,
   "metadata": {},
   "outputs": [
    {
     "data": {
      "text/plain": [
       "0    3171\n",
       "1    2627\n",
       "2    2147\n",
       "3    1201\n",
       "4     287\n",
       "6     254\n",
       "7     151\n",
       "5     118\n",
       "8      43\n",
       "9       1\n",
       "Name: leiden, dtype: int64"
      ]
     },
     "execution_count": 21,
     "metadata": {},
     "output_type": "execute_result"
    }
   ],
   "source": [
    "k2 = k[0:10000,]\n",
    "k2.obs[\"leiden\"].value_counts()"
   ]
  },
  {
   "cell_type": "code",
   "execution_count": 13,
   "metadata": {},
   "outputs": [],
   "source": [
    "controlExpressionMat = expressionMatrix.loc[adataC.obs[\"GENE_CONTROL_\"] == 1,]\n",
    "controlGuideMat = guideMatrix.loc[adataC.obs[\"GENE_CONTROL_\"] == 1,]\n",
    "controlExpressionMat = controlExpressionMat.iloc[0:5000,:]\n",
    "controlGuideMat = controlGuideMat.iloc[0:5000,:]\n",
    "controlGuideMat=controlGuideMat[selColumns]"
   ]
  },
  {
   "cell_type": "code",
   "execution_count": 14,
   "metadata": {},
   "outputs": [],
   "source": [
    "geneExpressionMat = expressionMatrix.loc[adataC.obs[covariates[setIndex_1:setIndex_2]].sum(axis=1) > 0,]\n",
    "geneGuideMat = guideMatrix.loc[adataC.obs[covariates[setIndex_1:setIndex_2]].sum(axis=1) > 0,]\n",
    "geneGuideMat=geneGuideMat[selColumns]"
   ]
  },
  {
   "cell_type": "code",
   "execution_count": 15,
   "metadata": {},
   "outputs": [],
   "source": [
    "allExpMat = np.concatenate((controlExpressionMat, geneExpressionMat))\n",
    "allGuideMat = controlGuideMat.append(geneGuideMat)"
   ]
  },
  {
   "cell_type": "code",
   "execution_count": 16,
   "metadata": {
    "tags": []
   },
   "outputs": [
    {
     "data": {
      "text/plain": [
       "0    GENE_4921501E09Rik_\n",
       "1    GENE_4930595M18Rik_\n",
       "2    GENE_8030462N17Rik_\n",
       "3             GENE_Aamp_\n",
       "4            GENE_Abtb1_\n",
       "5            GENE_Abtb2_\n",
       "6            GENE_Acaca_\n",
       "7             GENE_Ago2_\n",
       "8           GENE_Ahctf1_\n",
       "9              GENE_Ahr_\n",
       "dtype: object"
      ]
     },
     "execution_count": 16,
     "metadata": {},
     "output_type": "execute_result"
    }
   ],
   "source": [
    "allVars = pd.Series(KOGenes[setIndex_1:setIndex_2]) \n",
    "allVars"
   ]
  },
  {
   "cell_type": "code",
   "execution_count": 17,
   "metadata": {},
   "outputs": [],
   "source": [
    "all_columns = \"+\".join(allVars[~allVars.isin([\"leiden\"])])\n",
    "all_columns = all_columns +  \"+n_genes+mt_frac\""
   ]
  },
  {
   "cell_type": "code",
   "execution_count": 18,
   "metadata": {
    "tags": []
   },
   "outputs": [
    {
     "data": {
      "text/plain": [
       "'y~GENE_4921501E09Rik_+GENE_4930595M18Rik_+GENE_8030462N17Rik_+GENE_Aamp_+GENE_Abtb1_+GENE_Abtb2_+GENE_Acaca_+GENE_Ago2_+GENE_Ahctf1_+GENE_Ahr_+n_genes+mt_frac + (1 | leiden)'"
      ]
     },
     "execution_count": 18,
     "metadata": {},
     "output_type": "execute_result"
    }
   ],
   "source": [
    "my_formula = \"y~\" + all_columns + \" + (1 | leiden)\"\n",
    "my_formula"
   ]
  },
  {
   "cell_type": "code",
   "execution_count": 19,
   "metadata": {},
   "outputs": [
    {
     "data": {
      "text/plain": [
       "Index(['Mrpl15', 'Lypla1', 'Tcea1', 'Atp6v1h', 'Rb1cc1', 'Pcmtd1', 'Rrs1',\n",
       "       'Vcpip1', 'Sgk3', 'Snhg6',\n",
       "       ...\n",
       "       'Cacul1', 'Eif3a', 'Fam45a', 'Prdx3', 'Grk5', 'Zfp950', 'Csf2ra',\n",
       "       'Vamp7', 'AC149090.1', 'CAAA01118383.1'],\n",
       "      dtype='object', length=6685)"
      ]
     },
     "execution_count": 19,
     "metadata": {},
     "output_type": "execute_result"
    }
   ],
   "source": [
    "allResp=adataC.var_names\n",
    "allResp"
   ]
  },
  {
   "cell_type": "code",
   "execution_count": 20,
   "metadata": {},
   "outputs": [
    {
     "data": {
      "text/html": [
       "<div>\n",
       "<style scoped>\n",
       "    .dataframe tbody tr th:only-of-type {\n",
       "        vertical-align: middle;\n",
       "    }\n",
       "\n",
       "    .dataframe tbody tr th {\n",
       "        vertical-align: top;\n",
       "    }\n",
       "\n",
       "    .dataframe thead th {\n",
       "        text-align: right;\n",
       "    }\n",
       "</style>\n",
       "<table border=\"1\" class=\"dataframe\">\n",
       "  <thead>\n",
       "    <tr style=\"text-align: right;\">\n",
       "      <th></th>\n",
       "      <th>GENE_4921501E09Rik_</th>\n",
       "      <th>GENE_4930595M18Rik_</th>\n",
       "      <th>GENE_8030462N17Rik_</th>\n",
       "      <th>GENE_Aamp_</th>\n",
       "      <th>GENE_Abtb1_</th>\n",
       "      <th>GENE_Abtb2_</th>\n",
       "      <th>GENE_Acaca_</th>\n",
       "      <th>GENE_Ago2_</th>\n",
       "      <th>GENE_Ahctf1_</th>\n",
       "      <th>GENE_Ahr_</th>\n",
       "      <th>n_genes</th>\n",
       "      <th>mt_frac</th>\n",
       "      <th>leiden</th>\n",
       "    </tr>\n",
       "  </thead>\n",
       "  <tbody>\n",
       "    <tr>\n",
       "      <th>AAACGCTAGTTGTAGA-1-E3-1</th>\n",
       "      <td>0</td>\n",
       "      <td>0</td>\n",
       "      <td>0</td>\n",
       "      <td>0</td>\n",
       "      <td>0</td>\n",
       "      <td>0</td>\n",
       "      <td>0</td>\n",
       "      <td>0</td>\n",
       "      <td>0</td>\n",
       "      <td>0</td>\n",
       "      <td>951</td>\n",
       "      <td>0.086056</td>\n",
       "      <td>0</td>\n",
       "    </tr>\n",
       "    <tr>\n",
       "      <th>AAAGGATTCAGACAAA-1-E3-1</th>\n",
       "      <td>0</td>\n",
       "      <td>0</td>\n",
       "      <td>0</td>\n",
       "      <td>0</td>\n",
       "      <td>0</td>\n",
       "      <td>0</td>\n",
       "      <td>0</td>\n",
       "      <td>0</td>\n",
       "      <td>0</td>\n",
       "      <td>0</td>\n",
       "      <td>1247</td>\n",
       "      <td>0.071198</td>\n",
       "      <td>2</td>\n",
       "    </tr>\n",
       "    <tr>\n",
       "      <th>AAAGGGCAGACGGTTG-1-E3-1</th>\n",
       "      <td>0</td>\n",
       "      <td>0</td>\n",
       "      <td>0</td>\n",
       "      <td>0</td>\n",
       "      <td>0</td>\n",
       "      <td>0</td>\n",
       "      <td>0</td>\n",
       "      <td>0</td>\n",
       "      <td>0</td>\n",
       "      <td>0</td>\n",
       "      <td>1514</td>\n",
       "      <td>0.073052</td>\n",
       "      <td>1</td>\n",
       "    </tr>\n",
       "    <tr>\n",
       "      <th>AAAGGGCAGAGATCGC-1-E3-1</th>\n",
       "      <td>0</td>\n",
       "      <td>0</td>\n",
       "      <td>0</td>\n",
       "      <td>0</td>\n",
       "      <td>0</td>\n",
       "      <td>0</td>\n",
       "      <td>0</td>\n",
       "      <td>0</td>\n",
       "      <td>0</td>\n",
       "      <td>0</td>\n",
       "      <td>1561</td>\n",
       "      <td>0.062370</td>\n",
       "      <td>0</td>\n",
       "    </tr>\n",
       "    <tr>\n",
       "      <th>AAAGGGCGTTGATGTC-1-E3-1</th>\n",
       "      <td>0</td>\n",
       "      <td>0</td>\n",
       "      <td>0</td>\n",
       "      <td>0</td>\n",
       "      <td>0</td>\n",
       "      <td>0</td>\n",
       "      <td>0</td>\n",
       "      <td>0</td>\n",
       "      <td>0</td>\n",
       "      <td>0</td>\n",
       "      <td>1095</td>\n",
       "      <td>0.051056</td>\n",
       "      <td>2</td>\n",
       "    </tr>\n",
       "    <tr>\n",
       "      <th>...</th>\n",
       "      <td>...</td>\n",
       "      <td>...</td>\n",
       "      <td>...</td>\n",
       "      <td>...</td>\n",
       "      <td>...</td>\n",
       "      <td>...</td>\n",
       "      <td>...</td>\n",
       "      <td>...</td>\n",
       "      <td>...</td>\n",
       "      <td>...</td>\n",
       "      <td>...</td>\n",
       "      <td>...</td>\n",
       "      <td>...</td>\n",
       "    </tr>\n",
       "    <tr>\n",
       "      <th>TGCGATAGTGTTCGTA-1-E4-24</th>\n",
       "      <td>0</td>\n",
       "      <td>0</td>\n",
       "      <td>0</td>\n",
       "      <td>0</td>\n",
       "      <td>0</td>\n",
       "      <td>1</td>\n",
       "      <td>0</td>\n",
       "      <td>0</td>\n",
       "      <td>0</td>\n",
       "      <td>0</td>\n",
       "      <td>1769</td>\n",
       "      <td>0.056831</td>\n",
       "      <td>0</td>\n",
       "    </tr>\n",
       "    <tr>\n",
       "      <th>TTAGGGTGTGAGTTTC-1-E4-24</th>\n",
       "      <td>0</td>\n",
       "      <td>0</td>\n",
       "      <td>0</td>\n",
       "      <td>0</td>\n",
       "      <td>0</td>\n",
       "      <td>0</td>\n",
       "      <td>0</td>\n",
       "      <td>0</td>\n",
       "      <td>1</td>\n",
       "      <td>0</td>\n",
       "      <td>2340</td>\n",
       "      <td>0.076101</td>\n",
       "      <td>2</td>\n",
       "    </tr>\n",
       "    <tr>\n",
       "      <th>TTCATTGTCTGAACGT-1-E4-24</th>\n",
       "      <td>1</td>\n",
       "      <td>0</td>\n",
       "      <td>0</td>\n",
       "      <td>0</td>\n",
       "      <td>0</td>\n",
       "      <td>0</td>\n",
       "      <td>0</td>\n",
       "      <td>0</td>\n",
       "      <td>0</td>\n",
       "      <td>0</td>\n",
       "      <td>1945</td>\n",
       "      <td>0.059586</td>\n",
       "      <td>2</td>\n",
       "    </tr>\n",
       "    <tr>\n",
       "      <th>TTCTGTAAGTGTAGTA-1-E4-24</th>\n",
       "      <td>0</td>\n",
       "      <td>0</td>\n",
       "      <td>0</td>\n",
       "      <td>0</td>\n",
       "      <td>0</td>\n",
       "      <td>0</td>\n",
       "      <td>0</td>\n",
       "      <td>1</td>\n",
       "      <td>0</td>\n",
       "      <td>0</td>\n",
       "      <td>1636</td>\n",
       "      <td>0.099162</td>\n",
       "      <td>1</td>\n",
       "    </tr>\n",
       "    <tr>\n",
       "      <th>TTGCCTGCATCTTTCA-1-E4-24</th>\n",
       "      <td>0</td>\n",
       "      <td>0</td>\n",
       "      <td>0</td>\n",
       "      <td>0</td>\n",
       "      <td>0</td>\n",
       "      <td>0</td>\n",
       "      <td>0</td>\n",
       "      <td>1</td>\n",
       "      <td>0</td>\n",
       "      <td>0</td>\n",
       "      <td>2454</td>\n",
       "      <td>0.069693</td>\n",
       "      <td>0</td>\n",
       "    </tr>\n",
       "  </tbody>\n",
       "</table>\n",
       "<p>7223 rows × 13 columns</p>\n",
       "</div>"
      ],
      "text/plain": [
       "                          GENE_4921501E09Rik_  GENE_4930595M18Rik_  \\\n",
       "AAACGCTAGTTGTAGA-1-E3-1                     0                    0   \n",
       "AAAGGATTCAGACAAA-1-E3-1                     0                    0   \n",
       "AAAGGGCAGACGGTTG-1-E3-1                     0                    0   \n",
       "AAAGGGCAGAGATCGC-1-E3-1                     0                    0   \n",
       "AAAGGGCGTTGATGTC-1-E3-1                     0                    0   \n",
       "...                                       ...                  ...   \n",
       "TGCGATAGTGTTCGTA-1-E4-24                    0                    0   \n",
       "TTAGGGTGTGAGTTTC-1-E4-24                    0                    0   \n",
       "TTCATTGTCTGAACGT-1-E4-24                    1                    0   \n",
       "TTCTGTAAGTGTAGTA-1-E4-24                    0                    0   \n",
       "TTGCCTGCATCTTTCA-1-E4-24                    0                    0   \n",
       "\n",
       "                          GENE_8030462N17Rik_  GENE_Aamp_  GENE_Abtb1_  \\\n",
       "AAACGCTAGTTGTAGA-1-E3-1                     0           0            0   \n",
       "AAAGGATTCAGACAAA-1-E3-1                     0           0            0   \n",
       "AAAGGGCAGACGGTTG-1-E3-1                     0           0            0   \n",
       "AAAGGGCAGAGATCGC-1-E3-1                     0           0            0   \n",
       "AAAGGGCGTTGATGTC-1-E3-1                     0           0            0   \n",
       "...                                       ...         ...          ...   \n",
       "TGCGATAGTGTTCGTA-1-E4-24                    0           0            0   \n",
       "TTAGGGTGTGAGTTTC-1-E4-24                    0           0            0   \n",
       "TTCATTGTCTGAACGT-1-E4-24                    0           0            0   \n",
       "TTCTGTAAGTGTAGTA-1-E4-24                    0           0            0   \n",
       "TTGCCTGCATCTTTCA-1-E4-24                    0           0            0   \n",
       "\n",
       "                          GENE_Abtb2_  GENE_Acaca_  GENE_Ago2_  GENE_Ahctf1_  \\\n",
       "AAACGCTAGTTGTAGA-1-E3-1             0            0           0             0   \n",
       "AAAGGATTCAGACAAA-1-E3-1             0            0           0             0   \n",
       "AAAGGGCAGACGGTTG-1-E3-1             0            0           0             0   \n",
       "AAAGGGCAGAGATCGC-1-E3-1             0            0           0             0   \n",
       "AAAGGGCGTTGATGTC-1-E3-1             0            0           0             0   \n",
       "...                               ...          ...         ...           ...   \n",
       "TGCGATAGTGTTCGTA-1-E4-24            1            0           0             0   \n",
       "TTAGGGTGTGAGTTTC-1-E4-24            0            0           0             1   \n",
       "TTCATTGTCTGAACGT-1-E4-24            0            0           0             0   \n",
       "TTCTGTAAGTGTAGTA-1-E4-24            0            0           1             0   \n",
       "TTGCCTGCATCTTTCA-1-E4-24            0            0           1             0   \n",
       "\n",
       "                          GENE_Ahr_  n_genes   mt_frac leiden  \n",
       "AAACGCTAGTTGTAGA-1-E3-1           0      951  0.086056      0  \n",
       "AAAGGATTCAGACAAA-1-E3-1           0     1247  0.071198      2  \n",
       "AAAGGGCAGACGGTTG-1-E3-1           0     1514  0.073052      1  \n",
       "AAAGGGCAGAGATCGC-1-E3-1           0     1561  0.062370      0  \n",
       "AAAGGGCGTTGATGTC-1-E3-1           0     1095  0.051056      2  \n",
       "...                             ...      ...       ...    ...  \n",
       "TGCGATAGTGTTCGTA-1-E4-24          0     1769  0.056831      0  \n",
       "TTAGGGTGTGAGTTTC-1-E4-24          0     2340  0.076101      2  \n",
       "TTCATTGTCTGAACGT-1-E4-24          0     1945  0.059586      2  \n",
       "TTCTGTAAGTGTAGTA-1-E4-24          0     1636  0.099162      1  \n",
       "TTGCCTGCATCTTTCA-1-E4-24          0     2454  0.069693      0  \n",
       "\n",
       "[7223 rows x 13 columns]"
      ]
     },
     "execution_count": 20,
     "metadata": {},
     "output_type": "execute_result"
    }
   ],
   "source": [
    "allGuideMat"
   ]
  },
  {
   "cell_type": "code",
   "execution_count": null,
   "metadata": {},
   "outputs": [
    {
     "name": "stderr",
     "output_type": "stream",
     "text": [
      "R[write to console]: Loading required package: Matrix\n",
      "\n"
     ]
    },
    {
     "name": "stdout",
     "output_type": "stream",
     "text": [
      "[1] 1\n",
      "                         Estimate   Std..Error     z.value     Pr...z..\n",
      "(Intercept)         -2.3488561993 1.596295e-01 -14.7144231 5.208856e-49\n",
      "GENE_4921501E09Rik_  0.2625180074 1.222803e-01   2.1468545 3.180487e-02\n",
      "GENE_4930595M18Rik_  0.0397279527 1.124780e-01   0.3532065 7.239337e-01\n",
      "GENE_8030462N17Rik_ -0.2537923460 2.960597e-01  -0.8572338 3.913157e-01\n",
      "GENE_Aamp_           0.1726078241 2.367193e-01   0.7291666 4.658998e-01\n",
      "GENE_Abtb1_          0.0245510007 1.593904e-01   0.1540306 8.775856e-01\n",
      "GENE_Abtb2_          0.1471089950 1.475720e-01   0.9968624 3.188313e-01\n",
      "GENE_Acaca_          0.2632842614 1.285024e-01   2.0488666 4.047516e-02\n",
      "GENE_Ago2_           0.0358911968 1.592742e-01   0.2253422 8.217131e-01\n",
      "GENE_Ahctf1_        -0.1834976242 1.397312e-01  -1.3132188 1.891092e-01\n",
      "GENE_Ahr_           -0.2441091126 2.081843e-01  -1.1725627 2.409712e-01\n",
      "n_genes              0.0004726026 7.368584e-05   6.4137505 1.419825e-10\n",
      "mt_frac              2.0292250417 1.733217e+00   1.1707854 2.416850e-01\n",
      "                              coefNames respGene\n",
      "(Intercept)                 (Intercept)   Mrpl15\n",
      "GENE_4921501E09Rik_ GENE_4921501E09Rik_   Mrpl15\n",
      "GENE_4930595M18Rik_ GENE_4930595M18Rik_   Mrpl15\n",
      "GENE_8030462N17Rik_ GENE_8030462N17Rik_   Mrpl15\n",
      "GENE_Aamp_                   GENE_Aamp_   Mrpl15\n",
      "GENE_Abtb1_                 GENE_Abtb1_   Mrpl15\n",
      "GENE_Abtb2_                 GENE_Abtb2_   Mrpl15\n",
      "GENE_Acaca_                 GENE_Acaca_   Mrpl15\n",
      "GENE_Ago2_                   GENE_Ago2_   Mrpl15\n",
      "GENE_Ahctf1_               GENE_Ahctf1_   Mrpl15\n",
      "GENE_Ahr_                     GENE_Ahr_   Mrpl15\n",
      "n_genes                         n_genes   Mrpl15\n",
      "mt_frac                         mt_frac   Mrpl15\n",
      "                         Estimate   Std..Error      z.value     Pr...z..\n",
      "(Intercept)         -2.3302783934 1.624146e-01 -14.34771842 1.101001e-46\n",
      "GENE_4921501E09Rik_  0.1696712234 1.321193e-01   1.28422735 1.990624e-01\n",
      "GENE_4930595M18Rik_  0.2710329161 1.075635e-01   2.51974873 1.174386e-02\n",
      "GENE_8030462N17Rik_ -0.0551307054 2.830033e-01  -0.19480586 8.455449e-01\n",
      "GENE_Aamp_           0.2128543826 2.413326e-01   0.88199590 3.777790e-01\n",
      "GENE_Abtb1_          0.4291815461 1.422597e-01   3.01688679 2.553852e-03\n",
      "GENE_Abtb2_          0.0837043054 1.577219e-01   0.53070831 5.956209e-01\n",
      "GENE_Acaca_         -0.1631096523 1.574551e-01  -1.03591194 3.002432e-01\n",
      "GENE_Ago2_          -0.0943410804 1.751913e-01  -0.53850316 5.902297e-01\n",
      "GENE_Ahctf1_        -0.0061257426 1.354472e-01  -0.04522606 9.639271e-01\n",
      "GENE_Ahr_            0.1941857293 1.811577e-01   1.07191558 2.837580e-01\n",
      "n_genes              0.0005001011 7.496542e-05   6.67108987 2.539107e-11\n",
      "mt_frac             -0.2245007233 1.806953e+00  -0.12424272 9.011231e-01\n",
      "                              coefNames respGene\n",
      "(Intercept)                 (Intercept)   Lypla1\n",
      "GENE_4921501E09Rik_ GENE_4921501E09Rik_   Lypla1\n",
      "GENE_4930595M18Rik_ GENE_4930595M18Rik_   Lypla1\n",
      "GENE_8030462N17Rik_ GENE_8030462N17Rik_   Lypla1\n",
      "GENE_Aamp_                   GENE_Aamp_   Lypla1\n",
      "GENE_Abtb1_                 GENE_Abtb1_   Lypla1\n",
      "GENE_Abtb2_                 GENE_Abtb2_   Lypla1\n",
      "GENE_Acaca_                 GENE_Acaca_   Lypla1\n",
      "GENE_Ago2_                   GENE_Ago2_   Lypla1\n",
      "GENE_Ahctf1_               GENE_Ahctf1_   Lypla1\n",
      "GENE_Ahr_                     GENE_Ahr_   Lypla1\n",
      "n_genes                         n_genes   Lypla1\n",
      "mt_frac                         mt_frac   Lypla1\n",
      "                        Estimate   Std..Error    z.value     Pr...z..\n",
      "(Intercept)         -1.143701938 1.236407e-01 -9.2502066 2.240591e-20\n",
      "GENE_4921501E09Rik_  0.056155534 9.365193e-02  0.5996196 5.487598e-01\n",
      "GENE_4930595M18Rik_ -0.035940204 8.159377e-02 -0.4404773 6.595914e-01\n",
      "GENE_8030462N17Rik_ -0.328976586 2.241458e-01 -1.4676902 1.421884e-01\n",
      "GENE_Aamp_           0.022800479 1.786018e-01  0.1276609 8.984173e-01\n",
      "GENE_Abtb1_         -0.283530829 1.297540e-01 -2.1851407 2.887853e-02\n",
      "GENE_Abtb2_          0.031985914 1.091118e-01  0.2931481 7.694090e-01\n",
      "GENE_Acaca_         -0.038756304 1.017657e-01 -0.3808387 7.033229e-01\n",
      "GENE_Ago2_          -0.112338118 1.204346e-01 -0.9327725 3.509375e-01\n",
      "GENE_Ahctf1_         0.037284699 8.962061e-02  0.4160282 6.773894e-01\n",
      "GENE_Ahr_            0.143732927 1.245781e-01  1.1537574 2.485996e-01\n",
      "n_genes              0.000205106 5.584359e-05  3.6728667 2.398446e-04\n",
      "mt_frac             -1.903249292 1.231869e+00 -1.5450101 1.223438e-01\n",
      "                              coefNames respGene\n",
      "(Intercept)                 (Intercept)    Tcea1\n",
      "GENE_4921501E09Rik_ GENE_4921501E09Rik_    Tcea1\n",
      "GENE_4930595M18Rik_ GENE_4930595M18Rik_    Tcea1\n",
      "GENE_8030462N17Rik_ GENE_8030462N17Rik_    Tcea1\n",
      "GENE_Aamp_                   GENE_Aamp_    Tcea1\n",
      "GENE_Abtb1_                 GENE_Abtb1_    Tcea1\n",
      "GENE_Abtb2_                 GENE_Abtb2_    Tcea1\n",
      "GENE_Acaca_                 GENE_Acaca_    Tcea1\n",
      "GENE_Ago2_                   GENE_Ago2_    Tcea1\n",
      "GENE_Ahctf1_               GENE_Ahctf1_    Tcea1\n",
      "GENE_Ahr_                     GENE_Ahr_    Tcea1\n",
      "n_genes                         n_genes    Tcea1\n",
      "mt_frac                         mt_frac    Tcea1\n"
     ]
    },
    {
     "name": "stderr",
     "output_type": "stream",
     "text": [
      "Exception ignored from cffi callback <function _processevents at 0x7fe84ca5b8b0>:\n",
      "Traceback (most recent call last):\n",
      "  File \"/home/beraslan/miniconda3/lib/python3.8/site-packages/rpy2/rinterface_lib/callbacks.py\", line 277, in _processevents\n",
      "    try:\n",
      "KeyboardInterrupt: \n"
     ]
    }
   ],
   "source": [
    "%%R -i allGuideMat,allExpMat,my_formula,allResp,setIndex_1,setIndex_2  -w 8 -h 4 -u in\n",
    "library(\"MASS\")\n",
    "library(\"lme4\")\n",
    "\n",
    "for(i in seq(1,ncol(allExpMat),20)){\n",
    "    print(i)\n",
    "    \n",
    "    coefDF = data.frame()\n",
    "    for(j in seq(i,i+20,1)){\n",
    "       \n",
    "        \n",
    "      tryCatch(\n",
    "            expr = {\n",
    "                   allGuideMat[\"y\"] = allExpMat[,j]\n",
    "                   myFit <- glmer.nb(formula(my_formula), data = allGuideMat, control = glmerControl(optimizer=\"bobyqa\", calc.derivs = FALSE))\n",
    "                   k <- summary(myFit)\n",
    "                   myDF <- data.frame(coefficients(k))\n",
    "                   #colnames(myRes) <- dimnames(coefficients(k))[[2]]\n",
    "                   myDF$coefNames <- dimnames(coefficients(k))[[1]]\n",
    "                   myDF$respGene = allResp[j]\n",
    "                   print(myDF)\n",
    "                   coefDF <- rbind(coefDF, myDF)\n",
    "            },\n",
    "            error = function(e){ \n",
    "                print(\"111111111111\")\n",
    "                print(e)\n",
    "            },\n",
    "            finally = {\n",
    "                # (Optional)\n",
    "                # Do this at the end before quitting the tryCatch structure...\n",
    "            }\n",
    "      )\n",
    "     \n",
    "    }\n",
    "    \n",
    "     saveRDS(coefDF, paste0(\"./MixedEffectNegativeBinomialLMOutputs/coefs_\",setIndex_1,\"_\",setIndex_2,\"_\", i, \"_\",i+20,\".rds\"))\n",
    "    \n",
    "\n",
    "}"
   ]
  },
  {
   "cell_type": "code",
   "execution_count": null,
   "metadata": {},
   "outputs": [],
   "source": []
  }
 ],
 "metadata": {
  "kernelspec": {
   "display_name": "Python 3 (ipykernel)",
   "language": "python",
   "name": "python3"
  },
  "language_info": {
   "codemirror_mode": {
    "name": "ipython",
    "version": 3
   },
   "file_extension": ".py",
   "mimetype": "text/x-python",
   "name": "python",
   "nbconvert_exporter": "python",
   "pygments_lexer": "ipython3",
   "version": "3.8.13"
  }
 },
 "nbformat": 4,
 "nbformat_minor": 4
}
