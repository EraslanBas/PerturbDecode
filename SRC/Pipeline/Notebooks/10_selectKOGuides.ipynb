{
 "cells": [
  {
   "cell_type": "code",
   "execution_count": null,
   "id": "7b802c99-63dd-4773-9c7c-84c4d4019f41",
   "metadata": {
    "tags": []
   },
   "outputs": [],
   "source": [
    "source(\"Main.R\")\n",
    "source(\"Conf.R\")\n",
    "source(\"Utilities.R\")\n",
    "library(repr)\n",
    "library(\"ggpubr\")\n",
    "library(plyr)\n"
   ]
  },
  {
   "cell_type": "code",
   "execution_count": null,
   "id": "ff6ad99f-c705-45b2-ac79-143aea8ab82e",
   "metadata": {},
   "outputs": [],
   "source": [
    "setwd(projectDir)"
   ]
  },
  {
   "cell_type": "code",
   "execution_count": null,
   "id": "cc045921-bcfa-4dc8-9b32-87d2c535d26a",
   "metadata": {},
   "outputs": [],
   "source": [
    "allWeights <- read.csv(par_guide_testres_file, stringsAsFactors = F)\n",
    "allWeights <- reshape(allWeights[,c(\"guides\",\"respGene\",\"coef\")], \n",
    "                      idvar = \"guides\", \n",
    "                      timevar = \"respGene\", \n",
    "                      direction = \"wide\")\n",
    "rownames(allWeights) = allWeights$guides\n",
    "allWeights$guides = NULL"
   ]
  },
  {
   "cell_type": "code",
   "execution_count": null,
   "id": "88e9e5f6-237e-4cc6-a2cb-8b849194b7c1",
   "metadata": {},
   "outputs": [],
   "source": [
    "M = as.data.frame(cor(t(allWeights), method = \"pearson\"))\n",
    "myDist <- unlist(M)\n",
    "myDistFlat = data.frame(guidea=names(myDist), \n",
    "                        sDist= myDist)\n",
    "myDistFlat$guidea = rep(rownames(M), each=nrow(M))\n",
    "myDistFlat$guideb = rep(rownames(M), times = nrow(M))\n"
   ]
  },
  {
   "cell_type": "code",
   "execution_count": null,
   "id": "3c3b9521-53a4-49e7-a797-d7d6ccec0af6",
   "metadata": {},
   "outputs": [],
   "source": [
    "head(myDistFlat)"
   ]
  },
  {
   "cell_type": "code",
   "execution_count": null,
   "id": "b75f5da5-12e6-4432-b3f7-57d83f09d1c1",
   "metadata": {},
   "outputs": [],
   "source": [
    "myDistFlat <- myDistFlat[myDistFlat$guidea != myDistFlat$guideb,]\n",
    "myDistFlat$guides_ab = apply(myDistFlat[,c(\"guidea\",\"guideb\")], \n",
    "                             1,\n",
    "                             function(x){return(paste(sort(x), collapse = \"_\"))})\n",
    "\n",
    "myDistFlat$guidea <- NULL\n",
    "myDistFlat$guideb <- NULL\n",
    "\n",
    "myDistFlat <- unique(myDistFlat)\n",
    "\n",
    "myDistFlat$GeneA <- sapply(myDistFlat$guides_ab, \n",
    "                           function(x){strsplit(x,\"_\")[[1]][1]})\n",
    "myDistFlat$GeneB <- sapply(myDistFlat$guides_ab, \n",
    "                           function(x){strsplit(x,\"_\")[[1]][3]})\n",
    "\n",
    "myDistFlat$sameGene <- FALSE\n",
    "myDistFlat[myDistFlat$GeneA == myDistFlat$GeneB,\"sameGene\"] <- TRUE\n",
    "\n",
    "myDistFlat[myDistFlat$sameGene == \"TRUE\",\"sameGene\"] = \"SAME_GENE\"\n",
    "myDistFlat[myDistFlat$sameGene == \"FALSE\",\"sameGene\"] = \"DIFFERENT_GENE\"\n"
   ]
  },
  {
   "cell_type": "code",
   "execution_count": null,
   "id": "a6d43af3-d03c-4202-88c4-93f81581ec21",
   "metadata": {},
   "outputs": [],
   "source": [
    "allControlWeights <- read.csv(par_control_testres_file, stringsAsFactors = F)\n",
    "allControlWeights <- reshape(allControlWeights[,c(\"guides\",\"respGene\",\"coef\")], \n",
    "                             idvar = \"guides\", \n",
    "                             timevar = \"respGene\", \n",
    "                             direction = \"wide\")\n",
    "rownames(allControlWeights) = allControlWeights$guides\n",
    "allControlWeights$guides = NULL"
   ]
  },
  {
   "cell_type": "code",
   "execution_count": null,
   "id": "68fa874a-419a-40ad-bc44-fe608a0fb86c",
   "metadata": {},
   "outputs": [],
   "source": [
    "M_control = cor(t(allWeights), t(allControlWeights), method = \"pearson\")\n",
    "M_control <- as.data.frame(M_control)\n",
    "M_control$TargetGuide = rownames(M_control)\n",
    "myDist <- melt(M_control)\n"
   ]
  },
  {
   "cell_type": "code",
   "execution_count": null,
   "id": "1e92439f-0208-4ee0-a7da-2cb282b5d4e3",
   "metadata": {},
   "outputs": [],
   "source": [
    "myDist$GeneA = sapply(myDist$variable, \n",
    "                      function(x){k = strsplit(as.character(x),\"_\")[[1]]\n",
    "                                         return(paste0(k[-length(k)], collapse=\"_\"))})\n",
    "myDist$GeneB = \"Target\"\n",
    "myDist$sameGene = \"NO_TARGET_CONTROL\"\n",
    "myDist[myDist$GeneA == \"ONE_NONGENE_SITE\", \"sameGene\"] = \"ONE_NONGENE_SITE_CONTROL\"\n",
    "myDist$guides_ab = paste0(myDist$GeneA, \"_\", myDist$GeneB)\n",
    "\n",
    "myDist <- myDist[,c(\"value\", \"guides_ab\", \"GeneA\", \"GeneB\", \"sameGene\")]\n",
    "colnames(myDist) = c(\"sDist\", \"guides_ab\", \"GeneA\", \"GeneB\", \"sameGene\")"
   ]
  },
  {
   "cell_type": "code",
   "execution_count": null,
   "id": "10b9f5f0-fbc6-4099-98bf-4e1085ef45fa",
   "metadata": {},
   "outputs": [],
   "source": [
    "myDistFlatALL <- rbind(myDistFlat, myDist)"
   ]
  },
  {
   "cell_type": "code",
   "execution_count": null,
   "id": "7c44e026-58b6-461a-ac9d-2ca2754d3f14",
   "metadata": {},
   "outputs": [],
   "source": [
    "mu <- ddply(myDistFlatALL, \"sameGene\", summarise, grp.mean=mean(sDist))\n",
    "mu"
   ]
  },
  {
   "cell_type": "code",
   "execution_count": null,
   "id": "3f2f283f-d963-498a-ab63-5a0517232295",
   "metadata": {},
   "outputs": [],
   "source": [
    "options(repr.plot.width=10, repr.plot.height=4)\n",
    "\n",
    "ggplot(myDistFlatALL, aes(sDist, colour = sameGene)) +\n",
    "  stat_ecdf(geom = \"step\")+theme_minimal()+\n",
    "labs(\n",
    "     x=\"Pearson correlation between guide effect sizes\", \n",
    "     y = \"CDF\")+theme(axis.text = element_text(size=15),\n",
    "              axis.title =  element_text(size=16))+xlim(-0.25, 0.25)"
   ]
  },
  {
   "cell_type": "code",
   "execution_count": null,
   "id": "98e14b7f-d8b1-473b-addd-0013bace9e95",
   "metadata": {},
   "outputs": [],
   "source": [
    "mu <- ddply(myDistFlatALL, \"sameGene\", summarise, grp.mean=mean(sDist))\n",
    "options(repr.plot.width=10, repr.plot.height=5)\n",
    "\n",
    "\n",
    "ggplot(myDistFlatALL, aes(x=sDist, color=sameGene, fill=sameGene)) +\n",
    "geom_histogram(aes(y=..density..), position=\"identity\", alpha=0.3, binwidth = 0.02)+\n",
    "geom_vline(data=mu, \n",
    "           aes(xintercept=grp.mean, color=sameGene),\n",
    "           linetype=\"dashed\")+\n",
    "labs(x=\"Pearson correlation between guide effect sizes\", \n",
    "     y = \"Density\")+\n",
    "theme_bw()+theme(axis.text = element_text(size=15),\n",
    "              axis.title =  element_text(size=16)) "
   ]
  },
  {
   "cell_type": "code",
   "execution_count": null,
   "id": "42ae1672-a8c3-44b9-a0e6-9bf07de5ae03",
   "metadata": {},
   "outputs": [],
   "source": [
    "x <- myDistFlatALL[myDistFlatALL$sameGene == \"SAME_GENE\", \"sDist\"]\n",
    "y <- myDistFlatALL[myDistFlatALL$sameGene == \"DIFFERENT_GENE\", \"sDist\"]\n",
    "ks.test(x,y, alternative=\"l\")"
   ]
  },
  {
   "cell_type": "code",
   "execution_count": null,
   "id": "fd7c92e9-bb98-48a6-a497-c6c714600af9",
   "metadata": {},
   "outputs": [],
   "source": [
    "head(myDistFlatALL)"
   ]
  },
  {
   "cell_type": "markdown",
   "id": "c1ff0b42-3e5b-44cb-be10-d387054a858a",
   "metadata": {},
   "source": [
    "In order to define a threshold for guide filtering, we use linear discriminant analysis which is simply the mean of the means of the scores for the two groups."
   ]
  },
  {
   "cell_type": "code",
   "execution_count": null,
   "id": "9a414a28-5200-4fca-99e0-268e9bfc728b",
   "metadata": {
    "tags": []
   },
   "outputs": [],
   "source": [
    "library(MASS)\n",
    "library(dplyr)\n",
    "tmp = myDistFlatALL[myDistFlatALL$sameGene != \"DIFFERENT_GENE\",\n",
    "                    c(\"sDist\", \"sameGene\")]\n",
    "tmp[tmp$sameGene != \"SAME_GENE\", \"sameGene\"] = \"CONTROL\"\n",
    "\n",
    "## sample equal number of examples to prevent the class imbalance bias\n",
    "k = min(table(tmp$sameGene))\n",
    "tmp = rbind(sample_n(tmp[tmp$sameGene == \"SAME_GENE\",],k),\n",
    "            sample_n(tmp[tmp$sameGene == \"CONTROL\",],k))"
   ]
  },
  {
   "cell_type": "code",
   "execution_count": null,
   "id": "586c2843-221c-4aea-b957-486628eee151",
   "metadata": {},
   "outputs": [],
   "source": [
    "ldaFit = lda(sameGene ~ sDist, data=tmp)\n",
    "plot(ldaFit)\n",
    "df.pred <- predict(ldaFit, data.frame(sDist=tmp$sDist))\n",
    "tmp$lda_predicted = df.pred$class \n",
    "min(tmp[tmp$lda_predicted == \"SAME_GENE\",\"sDist\"])"
   ]
  },
  {
   "cell_type": "code",
   "execution_count": null,
   "id": "69f23f65-fb80-4800-ae4c-f6f589ba7a35",
   "metadata": {},
   "outputs": [],
   "source": [
    "mu <- ddply(tmp, \"sameGene\", summarise, grp.mean=mean(sDist))\n",
    "mu"
   ]
  },
  {
   "cell_type": "code",
   "execution_count": null,
   "id": "ee2de13d-c81c-4852-aaed-d7da0b965868",
   "metadata": {},
   "outputs": [],
   "source": [
    "thresholdForGuideSelection = mean(mu$grp.mean)\n",
    "thresholdForGuideSelection"
   ]
  },
  {
   "cell_type": "code",
   "execution_count": null,
   "id": "1e1d5d6e-1eec-40f7-a789-7ab7d7bd7039",
   "metadata": {},
   "outputs": [],
   "source": [
    "myDistFlatSameG = myDistFlat[myDistFlat$sameGene == \"SAME_GENE\", ]\n",
    "myDistFlatSplit <- split(myDistFlatSameG, f = myDistFlatSameG$GeneA )\n",
    "\n",
    "myRet <- lapply(myDistFlatSplit, function(x){ if (all(x[,\"sDist\"] > thresholdForGuideSelection))\n",
    "                                        { \n",
    "                                           return(x)\n",
    "                                     }else{\n",
    "                                        x[which.max(x[,\"sDist\"]),]\n",
    "                                   }})\n",
    "\n",
    "myRet <- do.call(rbind, myRet)\n",
    "myRet <- myRet[myRet$sDist > 0,]\n",
    "\n",
    "myRet$guides_a <- sapply(myRet$guides_ab, function(x){kk= strsplit(x,\"_\")[[1]]\n",
    "                                    paste0(kk[1], \"_\",kk[2])})\n",
    "\n",
    "myRet$guides_b <- sapply(myRet$guides_ab, function(x){kk= strsplit(x,\"_\")[[1]]\n",
    "                                    paste0(kk[3], \"_\",kk[4])})"
   ]
  },
  {
   "cell_type": "code",
   "execution_count": null,
   "id": "e8188078-e57a-4bf3-b617-5ff180181494",
   "metadata": {},
   "outputs": [],
   "source": [
    "write.csv(myRet[,c(\"GeneA\", \"guides_a\", \"guides_b\")], \n",
    "          file=par_good_KO_guides_file,\n",
    "          row.names=FALSE,\n",
    "          quote=FALSE)\n",
    "\n",
    "\n",
    "selectedGuides = unique(c(myRet$guides_a, myRet$guides_b))\n",
    "badGuides <- rownames(allWeights)[rownames(allWeights) %ni% selectedGuides]\n",
    "badGuides <- sort(badGuides)\n",
    "write.csv(badGuides, file=par_bad_KO_guides_file,\n",
    "          quote=FALSE,\n",
    "          row.names=FALSE)"
   ]
  },
  {
   "cell_type": "code",
   "execution_count": null,
   "id": "1d37b376-3ed1-4ed2-a7d4-594e0afc773c",
   "metadata": {},
   "outputs": [],
   "source": []
  }
 ],
 "metadata": {
  "kernelspec": {
   "display_name": "R",
   "language": "R",
   "name": "ir"
  },
  "language_info": {
   "codemirror_mode": "r",
   "file_extension": ".r",
   "mimetype": "text/x-r-source",
   "name": "R",
   "pygments_lexer": "r",
   "version": "4.2.1"
  }
 },
 "nbformat": 4,
 "nbformat_minor": 5
}
