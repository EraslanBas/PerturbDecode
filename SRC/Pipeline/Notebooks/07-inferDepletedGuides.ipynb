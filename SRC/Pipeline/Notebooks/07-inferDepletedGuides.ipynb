{
 "cells": [
  {
   "cell_type": "markdown",
   "metadata": {},
   "source": [
    "## 07 - Infer depleted guides based on the initial guide pool"
   ]
  },
  {
   "cell_type": "markdown",
   "metadata": {},
   "source": [
    "Some knockouts may affect cell viability. Here we assess the knock-outs that has resulted in significant \n",
    "reduction in number of cells compared to the initial guide pool."
   ]
  },
  {
   "cell_type": "code",
   "execution_count": null,
   "metadata": {
    "papermill": {
     "duration": 2.497662,
     "end_time": "2020-02-03T11:16:52.810525",
     "exception": false,
     "start_time": "2020-02-03T11:16:50.312863",
     "status": "completed"
    },
    "tags": []
   },
   "outputs": [],
   "source": [
    "from libraries import *\n",
    "from parameters import *"
   ]
  },
  {
   "cell_type": "code",
   "execution_count": null,
   "metadata": {
    "papermill": {
     "duration": 0.391954,
     "end_time": "2020-02-02T03:12:57.617897",
     "exception": false,
     "start_time": "2020-02-02T03:12:57.225943",
     "status": "completed"
    },
    "tags": []
   },
   "outputs": [],
   "source": [
    "%load_ext rpy2.ipython"
   ]
  },
  {
   "cell_type": "code",
   "execution_count": null,
   "metadata": {},
   "outputs": [],
   "source": [
    "os.getcwd()\n",
    "os.chdir(projectDir)"
   ]
  },
  {
   "cell_type": "code",
   "execution_count": null,
   "metadata": {},
   "outputs": [],
   "source": [
    "adata = sc.read(par_save_filename_5)"
   ]
  },
  {
   "cell_type": "code",
   "execution_count": null,
   "metadata": {},
   "outputs": [],
   "source": [
    "fBarMat = adata.obs[adata.uns['feature_barcode_names']]\n",
    "guideList = fBarMat.columns"
   ]
  },
  {
   "cell_type": "markdown",
   "metadata": {},
   "source": [
    "Replace the control guide identifiers strings \"ONE_NONGENE_SITE_\" and \"NO_TARGET_\" according to your needs"
   ]
  },
  {
   "cell_type": "code",
   "execution_count": null,
   "metadata": {},
   "outputs": [],
   "source": [
    "\n",
    "k = [x.startswith(\"ONE_NONGENE_SITE_\") for x in guideList]\n",
    "nonGeneGuides = fBarMat.loc[:,k]\n",
    "nonGeneGuides = nonGeneGuides.loc[nonGeneGuides.sum(axis=1) == 1,:]\n",
    "\n",
    "l = [x.startswith(\"NO_TARGET_\") for x in guideList]\n",
    "noTargetGuides = fBarMat.loc[:,l]\n",
    "noTargetGuides = noTargetGuides.loc[noTargetGuides.sum(axis=1) == 1,:]\n",
    "\n",
    "g = [(not(x.startswith(\"ONE_NONGENE_SITE_\") or x.startswith(\"NO_TARGET_\")) )for x in guideList]\n",
    "geneGuides = fBarMat.loc[:,g]\n",
    "geneGuides = geneGuides.loc[geneGuides.sum(axis=1) == 1,:]\n",
    "\n",
    "k1 = pd.DataFrame(nonGeneGuides.sum(axis=0), columns=[\"nCellsScreen\"])\n",
    "k1[\"Guide\"] = k1.index\n",
    "k2 = pd.DataFrame(noTargetGuides.sum(axis=0), columns=[\"nCellsScreen\"])\n",
    "k2[\"Guide\"] = k2.index\n",
    "k3 = pd.DataFrame(geneGuides.sum(axis=0), columns=[\"nCellsScreen\"])\n",
    "k3[\"Guide\"] = k3.index\n",
    "\n",
    "k = k1.append(k2)\n",
    "k = k.append(k3)"
   ]
  },
  {
   "cell_type": "markdown",
   "metadata": {},
   "source": [
    "Import the file containing the initial guide pool distribution. The first two columns of the file should have the name of the guide and the number of guides in the pool. "
   ]
  },
  {
   "cell_type": "code",
   "execution_count": null,
   "metadata": {
    "tags": []
   },
   "outputs": [],
   "source": [
    "poolSummary = pd.read_csv(par_initial_guide_pool_file, sep=\"\\\\,\" )\n",
    "poolSummary.columns = [\"Guide\", \"nCellsPool\"]\n",
    "poolSummary[\"nCellsPool\"] = poolSummary[\"nCellsPool\"].astype(int)\n",
    "poolSummary[\"Guide\"] = poolSummary[\"Guide\"].replace('-', '_', regex=True)"
   ]
  },
  {
   "cell_type": "code",
   "execution_count": null,
   "metadata": {},
   "outputs": [],
   "source": [
    "result = pd.merge(poolSummary, k, on=\"Guide\")\n",
    "result[\"type\"] = \"Gene\"\n",
    "\n",
    "l = [x.startswith(\"NO_TARGET_\") for x in result[\"Guide\"]]\n",
    "result.loc[l,\"type\"] = \"Control_NO_TARGET\"\n",
    "l = [x.startswith(\"ONE_NONGENE_SITE\") for x in result[\"Guide\"]]\n",
    "result.loc[l,\"type\"] = \"Control_ONE_NON_GENE_SITE\""
   ]
  },
  {
   "cell_type": "markdown",
   "metadata": {},
   "source": [
    "## Plot the distribution of the number of cells per guide type"
   ]
  },
  {
   "cell_type": "code",
   "execution_count": null,
   "metadata": {},
   "outputs": [],
   "source": [
    "\n",
    "f, (ax_box, ax_hist) = plt.subplots(2, sharex=True, gridspec_kw={\"height_ratios\": (.15, .85)}, figsize=(15, 3))\n",
    " \n",
    "# Add a graph in each part\n",
    "kGene = result.loc[result.type == \"Gene\",:]\n",
    "print(kGene.nCellsScreen.sum())\n",
    "print(kGene.shape)\n",
    "print(kGene.nCellsScreen.median())\n",
    "sns.boxplot(data = kGene, x= 'nCellsScreen', ax=ax_box, color=\"pink\")\n",
    "sns.histplot(data = kGene, x = 'nCellsScreen', ax=ax_hist, color=\"pink\", binwidth=5)\n",
    "ax_hist.set_xticks(range(0,600,20))\n",
    "ax_hist.set_xticklabels(range(0,600,20))\n",
    "plt.axvline(x=kGene.nCellsScreen.mean(),\n",
    "            color='red')\n",
    "plt.axvline(x=kGene.nCellsScreen.median(),\n",
    "            color='blue')\n",
    " \n",
    "# Remove x axis name for the boxplot\n",
    "ax_box.set(xlabel='')\n",
    "ax_hist.set(xlabel=\"Number of cells per knock out guide\")\n",
    "\n",
    "\n",
    "f, (ax_box, ax_hist) = plt.subplots(2, sharex=True, gridspec_kw={\"height_ratios\": (.15, .85)}, figsize=(15, 3))\n",
    " \n",
    "# Add a graph in each part\n",
    "kControlNonGene = result.loc[result.type == \"Control_ONE_NON_GENE_SITE\",:]\n",
    "print(kControlNonGene.nCellsScreen.sum())\n",
    "print(kControlNonGene.nCellsScreen.median())\n",
    "sns.boxplot(data = kControlNonGene,x= 'nCellsScreen', ax=ax_box, color=\"lightgreen\")\n",
    "sns.histplot(data = kControlNonGene,x = 'nCellsScreen', ax=ax_hist, color=\"lightgreen\", binwidth=5)\n",
    "ax_hist.set_xticks(range(0,500,20))\n",
    "ax_hist.set_xticklabels(range(0,500,20))\n",
    "plt.axvline(x=kControlNonGene.nCellsScreen.mean(),\n",
    "            color='red')\n",
    "plt.axvline(x=kControlNonGene.nCellsScreen.median(),\n",
    "            color='blue')\n",
    " \n",
    "# Remove x axis name for the boxplot\n",
    "ax_box.set(xlabel='')\n",
    "ax_hist.set(xlabel=\"Number of cells per control non-gene-site guide\")\n",
    "\n",
    "\n",
    "f, (ax_box, ax_hist) = plt.subplots(2, sharex=True, gridspec_kw={\"height_ratios\": (.15, .85)}, figsize=(15, 3))\n",
    " \n",
    "# Add a graph in each part\n",
    "kControlNoTarget = result.loc[result.type == \"Control_NO_TARGET\",:]\n",
    "print(kControlNoTarget.nCellsScreen.sum())\n",
    "print(kControlNoTarget.nCellsScreen.median())\n",
    "sns.boxplot(data = kControlNoTarget,x= 'nCellsScreen', ax=ax_box, color=\"lightblue\")\n",
    "sns.histplot(data = kControlNoTarget,x = 'nCellsScreen', ax=ax_hist, color=\"lightblue\", binwidth=5)\n",
    "ax_hist.set_xticks(range(0,500,20))\n",
    "ax_hist.set_xticklabels(range(0,500,20))\n",
    "plt.axvline(x=kControlNoTarget.nCellsScreen.mean(),\n",
    "            color='red')\n",
    "plt.axvline(x=kControlNoTarget.nCellsScreen.median(),\n",
    "            color='blue')\n",
    " \n",
    "# Remove x axis name for the boxplot\n",
    "ax_box.set(xlabel='')\n",
    "ax_hist.set(xlabel=\"Number of cells per control no-target guide\")\n",
    "\n"
   ]
  },
  {
   "cell_type": "code",
   "execution_count": null,
   "metadata": {},
   "outputs": [],
   "source": [
    "totalScreen = sum(result.nCellsScreen)\n",
    "totalGuidePool = sum(result.nCellsPool)\n",
    "\n",
    "result[\"nCellsPoolPerc\"] = result.nCellsPool / totalGuidePool\n",
    "result[\"nCellsScreenPerc\"] = result.nCellsScreen / totalScreen\n",
    "result[\"cellRatio\"] = result.nCellsScreen / result.nCellsPool\n",
    "result[\"GuideType\"] = \"CONTROL\"\n",
    "result.loc[result.type == \"Gene\", \"GuideType\"] = \"KO Guide\"\n",
    "result = result.sort_values('nCellsScreenPerc')"
   ]
  },
  {
   "cell_type": "markdown",
   "metadata": {},
   "source": [
    "Test each guide while taking the changes in the control guides as the background distribution."
   ]
  },
  {
   "cell_type": "code",
   "execution_count": null,
   "metadata": {},
   "outputs": [],
   "source": [
    "%%R -i result -w 10 -h 5 -u in\n",
    "library(ggplot2)\n",
    "library(ggpubr)\n",
    "\n",
    "k = result[result$GuideType == \"CONTROL\",\"cellRatio\"]\n",
    "d_fun <- ecdf (k)\n",
    "\n",
    "# ggplot(result, aes(cellRatio, colour = GuideType)) +\n",
    "#       stat_ecdf(geom = \"step\")+theme_minimal()+\n",
    "#       labs(\n",
    "#          x=\"(# of guides in the screen) / (# of guides in the initial pool)\", \n",
    "#          y = \"CDF\")+theme(axis.text = element_text(size=15),\n",
    "#                   axis.title =  element_text(size=16))+xlim(0, 1)+\n",
    "#         geom_segment(aes(x = 0, y = 0.05, xend = 0.08587, yend = 0.05), color=\"blue\")+\n",
    "#         geom_segment(aes(x = 0.08587, y = 0, xend = 0.08587, yend = 0.05), color=\"blue\")\n",
    "\n",
    "\n",
    "for(i in 1:nrow(result)){\n",
    "    result[i,\"Pval\"] = d_fun(result[i,\"cellRatio\"])\n",
    "}\n",
    "\n",
    "result$Gene = sapply(result$Guide, function(x){strsplit(x,\"_\")[[1]][1]})\n",
    "result = result[result$Pval < 0.05,]\n",
    "hh <- table(result$Gene)\n",
    "hh = hh[order(hh)]\n",
    "hh = hh[hh>1]\n",
    "\n",
    "data.frame(GuideName=names(hh), NumberOfGuides=hh)"
   ]
  }
 ],
 "metadata": {
  "kernelspec": {
   "display_name": "Python 3 (ipykernel)",
   "language": "python",
   "name": "python3"
  },
  "language_info": {
   "codemirror_mode": {
    "name": "ipython",
    "version": 3
   },
   "file_extension": ".py",
   "mimetype": "text/x-python",
   "name": "python",
   "nbconvert_exporter": "python",
   "pygments_lexer": "ipython3",
   "version": "3.8.13"
  }
 },
 "nbformat": 4,
 "nbformat_minor": 4
}
