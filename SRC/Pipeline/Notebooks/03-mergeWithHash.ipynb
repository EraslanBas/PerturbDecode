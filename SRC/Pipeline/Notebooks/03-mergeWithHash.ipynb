{
 "cells": [
  {
   "cell_type": "markdown",
   "metadata": {
    "papermill": {
     "duration": 0.03355,
     "end_time": "2020-02-03T02:05:01.665597",
     "exception": false,
     "start_time": "2020-02-03T02:05:01.632047",
     "status": "completed"
    },
    "tags": []
   },
   "source": [
    "# 03 - Merge With Hashing Info"
   ]
  },
  {
   "cell_type": "code",
   "execution_count": 1,
   "metadata": {
    "papermill": {
     "duration": 2.497662,
     "end_time": "2020-02-03T11:16:52.810525",
     "exception": false,
     "start_time": "2020-02-03T11:16:50.312863",
     "status": "completed"
    },
    "tags": []
   },
   "outputs": [],
   "source": [
    "from libraries import *\n",
    "from parameters import *\n",
    "\n",
    "from pathlib import Path\n",
    "from tqdm.auto import tqdm"
   ]
  },
  {
   "cell_type": "code",
   "execution_count": 2,
   "metadata": {
    "papermill": {
     "duration": 0.391954,
     "end_time": "2020-02-02T03:12:57.617897",
     "exception": false,
     "start_time": "2020-02-02T03:12:57.225943",
     "status": "completed"
    },
    "tags": []
   },
   "outputs": [],
   "source": [
    "%load_ext rpy2.ipython"
   ]
  },
  {
   "cell_type": "code",
   "execution_count": 3,
   "metadata": {},
   "outputs": [],
   "source": [
    "os.getcwd()\n",
    "os.chdir(projectDir)"
   ]
  },
  {
   "cell_type": "markdown",
   "metadata": {
    "papermill": {
     "duration": 0.025149,
     "end_time": "2020-02-03T11:19:43.494504",
     "exception": false,
     "start_time": "2020-02-03T11:19:43.469355",
     "status": "completed"
    },
    "tags": []
   },
   "source": [
    "***"
   ]
  },
  {
   "cell_type": "code",
   "execution_count": 4,
   "metadata": {
    "tags": []
   },
   "outputs": [],
   "source": [
    "adata = sc.read(par_save_filename_1)"
   ]
  },
  {
   "cell_type": "code",
   "execution_count": 5,
   "metadata": {
    "collapsed": true,
    "jupyter": {
     "outputs_hidden": true
    },
    "tags": []
   },
   "outputs": [
    {
     "data": {
      "application/vnd.jupyter.widget-view+json": {
       "model_id": "46c89ed9a54a4bada937074ea4f5842c",
       "version_major": 2,
       "version_minor": 0
      },
      "text/plain": [
       "  0%|          | 0/46 [00:00<?, ?it/s]"
      ]
     },
     "metadata": {},
     "output_type": "display_data"
    },
    {
     "name": "stdout",
     "output_type": "stream",
     "text": [
      "E3-1\n",
      "E3-1\n",
      "E3-10\n",
      "E3-10\n",
      "E3-11\n",
      "E3-11\n",
      "E3-12\n",
      "E3-12\n",
      "E3-13\n",
      "E3-13\n",
      "E3-14\n",
      "E3-14\n",
      "E3-15\n",
      "E3-15\n",
      "E3-16\n",
      "E3-16\n",
      "E3-17\n",
      "E3-17\n",
      "E3-18\n",
      "E3-18\n",
      "E3-19\n",
      "E3-19\n",
      "E3-2\n",
      "E3-2\n",
      "E3-20\n",
      "E3-20\n",
      "E3-21\n",
      "E3-21\n",
      "E3-22\n",
      "E3-22\n",
      "E3-23\n",
      "E3-23\n",
      "E3-24\n",
      "E3-24\n",
      "E3-3\n",
      "E3-3\n",
      "E3-4\n",
      "E3-4\n",
      "E3-5\n",
      "E3-5\n",
      "E3-6\n",
      "E3-6\n",
      "E3-7\n",
      "E3-7\n",
      "E3-8\n",
      "E3-8\n",
      "E3-9\n",
      "E3-9\n",
      "E4-1\n",
      "E4-1\n",
      "E4-10\n",
      "E4-10\n",
      "E4-11\n",
      "E4-11\n",
      "E4-12\n",
      "E4-12\n",
      "E4-13\n",
      "E4-13\n",
      "E4-14\n",
      "E4-14\n",
      "E4-15\n",
      "E4-15\n",
      "E4-16\n",
      "E4-16\n",
      "E4-17\n",
      "E4-17\n",
      "E4-19\n",
      "E4-19\n",
      "E4-2\n",
      "E4-2\n",
      "E4-20\n",
      "E4-20\n",
      "E4-21\n",
      "E4-21\n",
      "E4-22\n",
      "E4-22\n",
      "E4-24\n",
      "E4-24\n",
      "E4-3\n",
      "E4-3\n",
      "E4-4\n",
      "E4-4\n",
      "E4-5\n",
      "E4-5\n",
      "E4-6\n",
      "E4-6\n",
      "E4-7\n",
      "E4-7\n",
      "E4-8\n",
      "E4-8\n",
      "E4-9\n",
      "E4-9\n"
     ]
    }
   ],
   "source": [
    "hash_ads = {}\n",
    "feats = {}\n",
    "\n",
    "for d in tqdm(sorted([x for x in Path('data').iterdir() if x.is_dir() and x.name.startswith('E')])):\n",
    "    sample = d.name.replace('_', '-')\n",
    "    roundlow = sample.split('-')[0].lower()\n",
    "    chrom = sample.split('-')[1].lower()\n",
    "    \n",
    "    hash_path = Path('data') / sample.replace('-', '_') / f'{roundlow}_ch{chrom}_mixhash' / f'{roundlow}_ch{chrom}_mixhash_demux.h5ad'\n",
    "    if hash_path.is_file():\n",
    "        print(sample)\n",
    "        hash_ads[sample] = sc.read(hash_path)\n",
    "        \n",
    "    feat_path = Path(f'data/{sample.replace(\"-\", \"_\")}/R{roundlow[1:]}_Ch{chrom}_FeatBarc/R{roundlow[1:]}_Ch{chrom}_FeatBarc.csv')\n",
    "    if feat_path.is_file():\n",
    "        print(sample)\n",
    "        feats[sample] = pd.read_csv(feat_path)"
   ]
  },
  {
   "cell_type": "markdown",
   "metadata": {},
   "source": [
    "## Merge hash IDs"
   ]
  },
  {
   "cell_type": "code",
   "execution_count": 6,
   "metadata": {},
   "outputs": [
    {
     "name": "stderr",
     "output_type": "stream",
     "text": [
      "/home/eraslab1/miniconda3/lib/python3.8/site-packages/anndata/_core/anndata.py:1785: FutureWarning: X.dtype being converted to np.float32 from float64. In the next version of anndata (0.9) conversion will not be automatic. Pass dtype explicitly to avoid this warning. Pass `AnnData(X, dtype=X.dtype, ...)` to get the future behavour.\n",
      "  [AnnData(sparse.csr_matrix(a.shape), obs=a.obs) for a in all_adatas],\n"
     ]
    },
    {
     "name": "stdout",
     "output_type": "stream",
     "text": [
      "CPU times: user 17.4 s, sys: 13.4 s, total: 30.8 s\n",
      "Wall time: 30.7 s\n"
     ]
    },
    {
     "data": {
      "text/plain": [
       "AnnData object with n_obs × n_vars = 1258502 × 31053\n",
       "    obs: 'Channel', 'n_genes', 'n_counts', 'demux_type', 'assignment', 'mixhash'\n",
       "    var: 'gene_ids', 'robust'\n",
       "    obsm: 'raw_probs'"
      ]
     },
     "execution_count": 6,
     "metadata": {},
     "output_type": "execute_result"
    }
   ],
   "source": [
    "%%time\n",
    "\n",
    "hash_ad = sc.AnnData.concatenate(*hash_ads.values(), \n",
    "                                 batch_key='mixhash', \n",
    "                                 batch_categories=list(hash_ads.keys()))\n",
    "hash_ad"
   ]
  },
  {
   "cell_type": "code",
   "execution_count": 7,
   "metadata": {},
   "outputs": [],
   "source": [
    "hash_ad.obs.index = ['-'.join([x.split('-')[0], \n",
    "                               '1', \n",
    "                               x.split('-')[1], \n",
    "                               x.split('-')[2]]) for x in hash_ad.obs.index]"
   ]
  },
  {
   "cell_type": "code",
   "execution_count": 8,
   "metadata": {},
   "outputs": [],
   "source": [
    "adata.obs['demux_type'] = hash_ad.obs.demux_type\n",
    "adata.obs['hash_assignment'] = hash_ad.obs.assignment"
   ]
  },
  {
   "cell_type": "code",
   "execution_count": 9,
   "metadata": {},
   "outputs": [],
   "source": [
    "adata.obs['hash_assignment'] = adata.obs['hash_assignment'].astype('category')"
   ]
  },
  {
   "cell_type": "markdown",
   "metadata": {},
   "source": [
    "Filter out doublets and multiplets\n"
   ]
  },
  {
   "cell_type": "code",
   "execution_count": 10,
   "metadata": {},
   "outputs": [],
   "source": [
    "adata = adata[adata.obs.demux_type == 'singlet']"
   ]
  },
  {
   "cell_type": "code",
   "execution_count": 11,
   "metadata": {},
   "outputs": [],
   "source": [
    "adata.write(par_save_filename_1)"
   ]
  },
  {
   "cell_type": "code",
   "execution_count": null,
   "metadata": {},
   "outputs": [],
   "source": []
  }
 ],
 "metadata": {
  "kernelspec": {
   "display_name": "Python 3 (ipykernel)",
   "language": "python",
   "name": "python3"
  },
  "language_info": {
   "codemirror_mode": {
    "name": "ipython",
    "version": 3
   },
   "file_extension": ".py",
   "mimetype": "text/x-python",
   "name": "python",
   "nbconvert_exporter": "python",
   "pygments_lexer": "ipython3",
   "version": "3.8.13"
  }
 },
 "nbformat": 4,
 "nbformat_minor": 4
}
