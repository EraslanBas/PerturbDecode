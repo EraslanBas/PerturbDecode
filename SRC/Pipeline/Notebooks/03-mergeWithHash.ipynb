{
 "cells": [
  {
   "cell_type": "markdown",
   "metadata": {
    "papermill": {
     "duration": 0.03355,
     "end_time": "2020-02-03T02:05:01.665597",
     "exception": false,
     "start_time": "2020-02-03T02:05:01.632047",
     "status": "completed"
    },
    "tags": []
   },
   "source": [
    "# 03 - Merge With Hashing Info"
   ]
  },
  {
   "cell_type": "code",
   "execution_count": null,
   "metadata": {
    "papermill": {
     "duration": 2.497662,
     "end_time": "2020-02-03T11:16:52.810525",
     "exception": false,
     "start_time": "2020-02-03T11:16:50.312863",
     "status": "completed"
    },
    "tags": []
   },
   "outputs": [],
   "source": [
    "from libraries import *\n",
    "from parameters import *\n",
    "\n",
    "from pathlib import Path\n",
    "from tqdm.auto import tqdm"
   ]
  },
  {
   "cell_type": "code",
   "execution_count": null,
   "metadata": {
    "papermill": {
     "duration": 0.391954,
     "end_time": "2020-02-02T03:12:57.617897",
     "exception": false,
     "start_time": "2020-02-02T03:12:57.225943",
     "status": "completed"
    },
    "tags": []
   },
   "outputs": [],
   "source": [
    "%load_ext rpy2.ipython"
   ]
  },
  {
   "cell_type": "code",
   "execution_count": null,
   "metadata": {},
   "outputs": [],
   "source": [
    "os.getcwd()\n",
    "os.chdir(projectDir)"
   ]
  },
  {
   "cell_type": "markdown",
   "metadata": {
    "papermill": {
     "duration": 0.025149,
     "end_time": "2020-02-03T11:19:43.494504",
     "exception": false,
     "start_time": "2020-02-03T11:19:43.469355",
     "status": "completed"
    },
    "tags": []
   },
   "source": [
    "***"
   ]
  },
  {
   "cell_type": "code",
   "execution_count": null,
   "metadata": {
    "tags": []
   },
   "outputs": [],
   "source": [
    "adata = sc.read(par_save_filename_1)"
   ]
  },
  {
   "cell_type": "code",
   "execution_count": null,
   "metadata": {},
   "outputs": [],
   "source": [
    "hash_ads = {}\n",
    "feats = {}\n",
    "\n",
    "for d in tqdm(sorted([x for x in Path('data').iterdir() if x.is_dir() and x.name.startswith('E')])):\n",
    "    sample = d.name.replace('_', '-')\n",
    "    roundlow = sample.split('-')[0].lower()\n",
    "    chrom = sample.split('-')[1].lower()\n",
    "    \n",
    "    hash_path = Path('data') / sample.replace('-', '_') / f'{roundlow}_ch{chrom}_mixhash' / f'{roundlow}_ch{chrom}_mixhash_demux.h5ad'\n",
    "    if hash_path.is_file():\n",
    "        print(sample)\n",
    "        hash_ads[sample] = sc.read(hash_path)\n",
    "        \n",
    "    feat_path = Path(f'data/{sample.replace(\"-\", \"_\")}/R{roundlow[1:]}_Ch{chrom}_FeatBarc/R{roundlow[1:]}_Ch{chrom}_FeatBarc.csv')\n",
    "    if feat_path.is_file():\n",
    "        print(sample)\n",
    "        feats[sample] = pd.read_csv(feat_path)"
   ]
  },
  {
   "cell_type": "markdown",
   "metadata": {},
   "source": [
    "## Merge hash IDs"
   ]
  },
  {
   "cell_type": "code",
   "execution_count": null,
   "metadata": {},
   "outputs": [],
   "source": [
    "%%time\n",
    "\n",
    "hash_ad = sc.AnnData.concatenate(*hash_ads.values(), \n",
    "                                 batch_key='mixhash', \n",
    "                                 batch_categories=list(hash_ads.keys()))\n",
    "hash_ad"
   ]
  },
  {
   "cell_type": "code",
   "execution_count": null,
   "metadata": {},
   "outputs": [],
   "source": [
    "hash_ad.obs.index = ['-'.join([x.split('-')[0], \n",
    "                               '1', \n",
    "                               x.split('-')[1], \n",
    "                               x.split('-')[2]]) for x in hash_ad.obs.index]"
   ]
  },
  {
   "cell_type": "code",
   "execution_count": null,
   "metadata": {},
   "outputs": [],
   "source": [
    "adata.obs['demux_type'] = hash_ad.obs.demux_type\n",
    "adata.obs['hash_assignment'] = hash_ad.obs.assignment"
   ]
  },
  {
   "cell_type": "code",
   "execution_count": null,
   "metadata": {},
   "outputs": [],
   "source": [
    "adata.obs['hash_assignment'] = adata.obs['hash_assignment'].astype('category')"
   ]
  },
  {
   "cell_type": "markdown",
   "metadata": {},
   "source": [
    "Filter out doublets and multiplets\n"
   ]
  },
  {
   "cell_type": "code",
   "execution_count": null,
   "metadata": {},
   "outputs": [],
   "source": [
    "adata = adata[adata.obs.demux_type == 'singlet']"
   ]
  },
  {
   "cell_type": "code",
   "execution_count": null,
   "metadata": {},
   "outputs": [],
   "source": [
    "adata.write(par_save_filename_2)"
   ]
  }
 ],
 "metadata": {
  "kernelspec": {
   "display_name": "Python 3 (ipykernel)",
   "language": "python",
   "name": "python3"
  },
  "language_info": {
   "codemirror_mode": {
    "name": "ipython",
    "version": 3
   },
   "file_extension": ".py",
   "mimetype": "text/x-python",
   "name": "python",
   "nbconvert_exporter": "python",
   "pygments_lexer": "ipython3",
   "version": "3.8.13"
  }
 },
 "nbformat": 4,
 "nbformat_minor": 4
}
