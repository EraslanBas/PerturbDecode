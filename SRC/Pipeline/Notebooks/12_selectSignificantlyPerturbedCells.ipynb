{
 "cells": [
  {
   "cell_type": "code",
   "execution_count": null,
   "metadata": {},
   "outputs": [],
   "source": [
    "from libraries import *\n",
    "from parameters import *\n",
    "from sklearn import linear_model\n",
    "from scipy import stats\n",
    "from scipy.spatial import distance\n",
    "from scipy.cluster import hierarchy"
   ]
  },
  {
   "cell_type": "code",
   "execution_count": null,
   "metadata": {},
   "outputs": [],
   "source": [
    "os.getcwd()\n",
    "os.chdir(projectDir)"
   ]
  },
  {
   "cell_type": "code",
   "execution_count": null,
   "metadata": {},
   "outputs": [],
   "source": [
    "def bayes_cov_col(Y,X,cols,lm):\n",
    "    \"\"\"\n",
    "    @Y    = Expression matrix, cells x x genes, expecting pandas dataframe\n",
    "    @X    = Covariate matrix, cells x covariates, expecting pandas dataframe\n",
    "    @cols = The subset of columns that the EM should be performed over, expecting list\n",
    "    @lm   = linear model object\n",
    "    \"\"\"\n",
    "\n",
    "    #EM iterateit\n",
    "    Yhat=pd.DataFrame(lm.predict(X))\n",
    "    Yhat.index=Y.index\n",
    "    Yhat.columns=Y.columns\n",
    "    SSE_all=np.square(Y.subtract(Yhat))\n",
    "    X_adjust=X.copy()\n",
    "\n",
    "\n",
    "    df_SSE   = []\n",
    "    df_logit = []\n",
    "\n",
    "    for curcov in cols:\n",
    "\n",
    "        curcells=X[X[curcov]>0].index\n",
    "\n",
    "        if len(curcells)>2:\n",
    "\n",
    "            X_notcur=X.copy()\n",
    "            #X_notcur[curcov]=[0]*len(X_notcur)\n",
    "            X_notcur.loc[:, curcov]=[0]*len(X_notcur)\n",
    "\n",
    "            X_sub=X_notcur.loc[curcells]\n",
    "\n",
    "            Y_sub=Y.loc[curcells]\n",
    "\n",
    "            GENE_var=2.0*Y_sub.var(axis=0)\n",
    "            vargenes=GENE_var[GENE_var>0].index\n",
    "\n",
    "            Yhat_notcur=pd.DataFrame(lm.predict(X_sub))\n",
    "            Yhat_notcur.index=Y_sub.index\n",
    "            Yhat_notcur.columns=Y_sub.columns\n",
    "\n",
    "            SSE_notcur=np.square(Y_sub.subtract(Yhat_notcur))\n",
    "            SSE=SSE_all.loc[curcells].subtract(SSE_notcur)\n",
    "            SSE_sum=SSE.sum(axis=1)\n",
    "\n",
    "            SSE_transform=SSE.div(GENE_var+0.5)[vargenes].sum(axis=1)\n",
    "            logitify=np.divide(1.0,1.0+np.exp(SSE_transform))#sum))\n",
    "\n",
    "            df_SSE.append(SSE_sum)\n",
    "            df_logit.append(logitify)\n",
    "\n",
    "            X_adjust[curcov].loc[curcells]=logitify\n",
    "\n",
    "    return X_adjust\n",
    "    "
   ]
  },
  {
   "cell_type": "code",
   "execution_count": null,
   "metadata": {},
   "outputs": [],
   "source": [
    "adata = sc.read(par_save_filename_8)"
   ]
  },
  {
   "cell_type": "code",
   "execution_count": null,
   "metadata": {},
   "outputs": [],
   "source": [
    "df = adata.obs[[\"n_genes\", \"mt_frac\" ]]\n",
    "\n",
    "rnaMat = pd.DataFrame(adata.X)\n",
    "rnaMat.columns = adata.var_names\n",
    "rnaMat.index = adata.obs_names\n",
    "\n",
    "regr = linear_model.LinearRegression(fit_intercept = False) \n",
    "regr.fit(df, rnaMat)\n",
    "\n",
    "predicted = regr.predict(df)\n",
    "residuals = rnaMat-predicted\n",
    "\n",
    "adata.layers[\"QCResiduals\"] = residuals.copy()"
   ]
  },
  {
   "cell_type": "markdown",
   "metadata": {},
   "source": [
    "Assess the perturbation significance not correcting for the expression clusters because the effects of certain knock-outs \n",
    "is about shifting the cell state."
   ]
  },
  {
   "cell_type": "code",
   "execution_count": null,
   "metadata": {},
   "outputs": [],
   "source": [
    "covariates = adata.uns['feature_barcode_names_filtered_GENES']\n",
    "covariates = covariates[covariates != \"GENE_CONTROL_\"]\n",
    "X = adata.obs[covariates]\n",
    "\n",
    "\n",
    "Y = pd.DataFrame(adata.layers[\"QCResiduals\"])\n",
    "Y.index= adata.obs.index\n",
    "Y.columns = adata.var.index\n",
    "\n",
    "lm = linear_model.LinearRegression()\n",
    "lm.fit(np.array(X),np.array(Y))\n",
    "B=pd.DataFrame(lm.coef_)\n",
    "\n",
    "B.columns = X.columns\n",
    "genenames = pd.Series(list(Y.columns.values))\n",
    "B.index = genenames.values\n",
    "EMlist=list(X.columns.values)"
   ]
  },
  {
   "cell_type": "code",
   "execution_count": null,
   "metadata": {
    "tags": []
   },
   "outputs": [],
   "source": [
    "X_adjust = bayes_cov_col(Y,X,EMlist,lm)"
   ]
  },
  {
   "cell_type": "code",
   "execution_count": null,
   "metadata": {},
   "outputs": [],
   "source": [
    "controlCells = X[X.sum(axis=1) == 0].index"
   ]
  },
  {
   "cell_type": "code",
   "execution_count": null,
   "metadata": {},
   "outputs": [],
   "source": [
    "newProps = X_adjust.sum(axis=1)\n",
    "##define this threshold manually\n",
    "thresholdToSelectPerturbedCells = 0.4\n",
    "perturbedCells = newProps[newProps > thresholdToSelectPerturbedCells].index"
   ]
  },
  {
   "cell_type": "code",
   "execution_count": null,
   "metadata": {},
   "outputs": [],
   "source": [
    "selectedCells = controlCells.union(perturbedCells) \n",
    "adataSelected = adata[adata.obs.index.isin(selectedCells.x)].copy()\n",
    "adataSelected.write(par_save_filename_10)"
   ]
  }
 ],
 "metadata": {
  "kernelspec": {
   "display_name": "Python 3 (ipykernel)",
   "language": "python",
   "name": "python3"
  },
  "language_info": {
   "codemirror_mode": {
    "name": "ipython",
    "version": 3
   },
   "file_extension": ".py",
   "mimetype": "text/x-python",
   "name": "python",
   "nbconvert_exporter": "python",
   "pygments_lexer": "ipython3",
   "version": "3.8.13"
  }
 },
 "nbformat": 4,
 "nbformat_minor": 4
}
