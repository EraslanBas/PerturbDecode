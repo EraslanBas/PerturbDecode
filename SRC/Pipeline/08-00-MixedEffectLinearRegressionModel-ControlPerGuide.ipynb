{
 "cells": [
  {
   "cell_type": "code",
   "execution_count": 1,
   "metadata": {
    "papermill": {
     "duration": 2.497662,
     "end_time": "2020-02-03T11:16:52.810525",
     "exception": false,
     "start_time": "2020-02-03T11:16:50.312863",
     "status": "completed"
    },
    "tags": []
   },
   "outputs": [],
   "source": [
    "from libraries import *\n",
    "from parameters import *\n",
    "import statsmodels.api as sm\n",
    "import sklearn.feature_selection\n",
    "import statsmodels.api as sm\n",
    "import sklearn.feature_selection\n",
    "from sklearn.preprocessing import PolynomialFeatures\n",
    "import warnings\n",
    "warnings.filterwarnings('ignore')\n",
    "#from statannot import add_stat_annotation\n",
    "from numpy.random import seed\n",
    "from numpy.random import randint\n",
    "import statsmodels.formula.api as smf\n",
    "import random"
   ]
  },
  {
   "cell_type": "code",
   "execution_count": 2,
   "metadata": {},
   "outputs": [],
   "source": [
    "os.getcwd()\n",
    "os.chdir(projectDir)"
   ]
  },
  {
   "cell_type": "code",
   "execution_count": 3,
   "metadata": {
    "tags": [
     "parameters"
    ]
   },
   "outputs": [],
   "source": [
    "myGuide=0"
   ]
  },
  {
   "cell_type": "code",
   "execution_count": null,
   "metadata": {},
   "outputs": [],
   "source": [
    "# adataC = sc.read('outputs/anndata/adata-hash-features_singlets_SingleKO_05242020_Filtered.h5ad')\n",
    "# controlGuideCols = adataC.obs.columns[[ (x.startswith(\"ONE_NONGENE_SITE\") or x.startswith(\"NO_TARGET\")) for x in adataC.obs.columns]]\n",
    "# fBarMat = adataC.obs[controlGuideCols]\n",
    "# fBarMat[fBarMat>0] = 1\n",
    "# adataControl = adataC[fBarMat.sum(axis=1) > 0,:]\n",
    "# adataControl.write(\"outputs/anndata/adata-hash-features_singlets_SingleKO_05242020_Filtered_ControlCellsOnly.h5ad\")"
   ]
  },
  {
   "cell_type": "code",
   "execution_count": 4,
   "metadata": {},
   "outputs": [],
   "source": [
    "adataControl = sc.read(\"outputs/anndata/adata-hash-features_singlets_SingleKO_05242020_Filtered_ControlCellsOnly.h5ad\")\n"
   ]
  },
  {
   "cell_type": "code",
   "execution_count": 5,
   "metadata": {},
   "outputs": [
    {
     "data": {
      "text/plain": [
       "(41123, 6685)"
      ]
     },
     "execution_count": 5,
     "metadata": {},
     "output_type": "execute_result"
    }
   ],
   "source": [
    "adataControl.X.shape"
   ]
  },
  {
   "cell_type": "code",
   "execution_count": 6,
   "metadata": {},
   "outputs": [],
   "source": [
    "controlGuideCols = adataControl.obs.columns[[ (x.startswith(\"ONE_NONGENE_SITE\") or x.startswith(\"NO_TARGET\")) for x in adataControl.obs.columns]]"
   ]
  },
  {
   "cell_type": "code",
   "execution_count": 7,
   "metadata": {},
   "outputs": [],
   "source": [
    "expressionMatrix = adataControl.X"
   ]
  },
  {
   "cell_type": "code",
   "execution_count": 8,
   "metadata": {},
   "outputs": [
    {
     "name": "stdout",
     "output_type": "stream",
     "text": [
      "y~NO_TARGET_1+n_genes+mt_frac\n"
     ]
    }
   ],
   "source": [
    "geneCol = controlGuideCols[[myGuide]].tolist() + [\"n_genes\", \"mt_frac\", \"leiden\"]\n",
    "guideMatrix = adataControl.obs[geneCol]\n",
    "allVars = pd.Series(geneCol) \n",
    "all_columns = \"+\".join(allVars[~allVars.isin([\"leiden\"])])\n",
    "my_formula = \"y~\" + all_columns\n",
    "print(my_formula)\n"
   ]
  },
  {
   "cell_type": "code",
   "execution_count": null,
   "metadata": {},
   "outputs": [],
   "source": [
    "\n",
    "#geneCol = controlGuideCols[myGuide].tolist() + [\"n_genes\", \"mt_frac\", \"leiden\"]\n",
    "\n",
    "for i in range(0,6680,80):\n",
    "    print(i)\n",
    "    pvalDF = pd.DataFrame()\n",
    "    coefDF = pd.DataFrame()\n",
    "\n",
    "    for j in range(i,i+80):\n",
    "        print(j)\n",
    "        guideMatrix[\"y\"] = np.array(expressionMatrix)[:,j]\n",
    "        est = smf.mixedlm(my_formula, guideMatrix, groups=guideMatrix[\"leiden\"], missing='drop')\n",
    "        mdf = est.fit(method=[\"bfgs\"])\n",
    "        pvalDF[str(j)] = mdf.summary().tables[1][\"P>|z|\"]\n",
    "        coefDF[str(j)] = mdf.summary().tables[1][\"Coef.\"]\n",
    "\n",
    "    coefDF.index = mdf.summary().tables[1].index\n",
    "    pvalDF.index = mdf.summary().tables[1].index\n",
    "    pvalDF.to_csv(\"MixedEffectControlLMPerGuideOutputs/pvalues_\"+str(i)+\"_\"+str(i+80)+\"_Control_MixedEffect_\"+str(myGuide)+\".csv\")   \n",
    "    coefDF.to_csv(\"MixedEffectControlLMPerGuideOutputs/coefs_\"+str(i)+\"_\"+str(i+80)+\"_Control_MixedEffect_\"+str(myGuide)+\".csv\")   "
   ]
  },
  {
   "cell_type": "code",
   "execution_count": null,
   "metadata": {},
   "outputs": [],
   "source": []
  },
  {
   "cell_type": "code",
   "execution_count": null,
   "metadata": {},
   "outputs": [],
   "source": []
  }
 ],
 "metadata": {
  "kernelspec": {
   "display_name": "Python 3 (ipykernel)",
   "language": "python",
   "name": "python3"
  },
  "language_info": {
   "codemirror_mode": {
    "name": "ipython",
    "version": 3
   },
   "file_extension": ".py",
   "mimetype": "text/x-python",
   "name": "python",
   "nbconvert_exporter": "python",
   "pygments_lexer": "ipython3",
   "version": "3.8.13"
  }
 },
 "nbformat": 4,
 "nbformat_minor": 4
}
